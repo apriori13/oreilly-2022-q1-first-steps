{
 "cells": [
  {
   "cell_type": "markdown",
   "id": "283cb079",
   "metadata": {},
   "source": [
    "# Week 3: Dictionaries and files\n",
    "\n",
    "1. Recap of last week\n",
    "2. Dictionaries\n",
    "3. "
   ]
  },
  {
   "cell_type": "code",
   "execution_count": null,
   "id": "d350f4a4",
   "metadata": {},
   "outputs": [],
   "source": []
  }
 ],
 "metadata": {
  "kernelspec": {
   "display_name": "Python 3 (ipykernel)",
   "language": "python",
   "name": "python3"
  },
  "language_info": {
   "codemirror_mode": {
    "name": "ipython",
    "version": 3
   },
   "file_extension": ".py",
   "mimetype": "text/x-python",
   "name": "python",
   "nbconvert_exporter": "python",
   "pygments_lexer": "ipython3",
   "version": "3.10.1"
  }
 },
 "nbformat": 4,
 "nbformat_minor": 5
}
