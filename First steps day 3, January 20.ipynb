{
 "cells": [
  {
   "cell_type": "markdown",
   "id": "8b421362",
   "metadata": {},
   "source": [
    "# Week 3: Dictionaries and files\n",
    "\n",
    "1. Recap of last week\n",
    "2. Dictionaries\n",
    "3. Text files -- reading and writing"
   ]
  },
  {
   "cell_type": "markdown",
   "id": "577b381d",
   "metadata": {},
   "source": [
    "# Recap \n",
    "\n",
    "1. Data structures!\n",
    "    - Each data structure allows us to store and retrieve data in a different way\n",
    "    - Numbers (integers and floats)\n",
    "2. Sequences \n",
    "    - Strings: immutable (cannot be changed), contain characters\n",
    "        - anything textual -- user input, displaying on the screen, reading from files, reading from the network, sending e-mail\n",
    "        - `str.strip` -- removes whitespace from the sides\n",
    "        - `str.isdigit` -- tells us if there are only digits in the string\n",
    "        - `str.lower` -- returns a new string, based on ours, in lowercase\n",
    "    - Lists: mutable (can be changed), contain anything\n",
    "        - collections of data (traditionally of the same type) -- lists of users, lists of filenames, lists of folders, lists of IP addresses\n",
    "        - `list.append` -- adds an element to the end of the list\n",
    "        - `list.pop` -- removes the element from the end of a list\n",
    "    - Tuples: immutable (cannot be changed), contain anything\n",
    "        - collections of *differently*-typed data -- records or structs\n",
    "    - All sequences can do:\n",
    "        - Retrieve with `[i]`, where `i` is a numeric index\n",
    "        - Get the length with `len(s)`, where `s` is a sequence\n",
    "        - Retrieve a slice with `[start:stop]`\n",
    "        - Search with `in`\n",
    "        - Loop with `for`\n",
    "3. Loops\n",
    "    - `for` loops -- iterate over every element of a sequence\n",
    "    - `for` loops on `range(n)` gives us `n` items, from 0 to `n`-1\n",
    "    - `while` loops, which run so long as the condition is `True`\n",
    "4. Strings to lists and back       \n",
    "    - `str.split` -- returns a list of strings, based on the string\n",
    "    - `str.join` -- returns a string, based on a \"glue\" string and a list of strings"
   ]
  },
  {
   "cell_type": "markdown",
   "id": "d2ee455d",
   "metadata": {},
   "source": [
    "# Parentheses and quotes\n",
    "\n",
    "Python uses every type of quote and parentheses on the keyboard! They each have their own usages:\n",
    "\n",
    "### Quotation marks\n",
    "- Use `''` or `\"\"` to start and end strings.  There is no difference between them, but it's common to use one when you have the other on the inside of the string.\n",
    "- If you really need `'` or `\"` inside of a string, just use a backslash beforehand, such as `'He\\'s very nice'`.\n",
    "\n",
    "## Parentheses\n",
    "\n",
    "### `()` -- round parentheses \n",
    "- Calling functions \n",
    "- Calling classes/types\n",
    "- Grouping\n",
    "- Creating tuples\n",
    "\n",
    "### `[]` -- square brackets\n",
    "- Creating lists\n",
    "- Retrieving individual items from strings, lists, tuples\n",
    "- Retrieving slices from strings, lists, tuples\n",
    "\n",
    "### `{}` -- curly braces\n",
    "- Creating dicts\n",
    "- What should be evaluated in an f-string\n"
   ]
  },
  {
   "cell_type": "markdown",
   "id": "236891d7",
   "metadata": {},
   "source": [
    "# Dictionaries\n",
    "\n",
    "We've seen with lists and tuples that we can store whatever data we want there, but we need to retrieve it using the appropriate index.  Indexes start with 0 and go up to `len(s)` - 1.  \n",
    "\n",
    "In dicts, we also have indexes and values. But in the case of dicts, the indexes are called \"keys\" and *we* decide what they are.  The values can still be anything.\n",
    "\n",
    "Other languages also have \"dicts\" -- but they call them other things:\n",
    "- Hash tables\n",
    "- Hash maps\n",
    "- Hashes\n",
    "- Maps\n",
    "- Key-value stores\n",
    "- Name-value stores\n",
    "- Associative arrays\n",
    "\n",
    "What's especially nice about dicts is that the keys can be *ANY IMMUTABLE TYPE*, which normally means: numbers and strings.  You aren't restricted to using numbers, and they don't have to be in order.\n",
    "\n",
    "We can use dicts anywhere we have a \"mapping\" between one set of values and another:\n",
    "- Computer name -> IP address\n",
    "- Username -> password\n",
    "- User ID -> Username\n",
    "- Postal code -> state/province\n",
    "\n",
    "Keys must be unique! They cannot repeat themselves."
   ]
  },
  {
   "cell_type": "code",
   "execution_count": 1,
   "id": "330eac60",
   "metadata": {},
   "outputs": [],
   "source": [
    "# to define a dict, use {}\n",
    "# each key-value pair has a key and value, separated by :\n",
    "# the pairs are separated by ,\n",
    "\n",
    "d = {'a':1, 'b':2, 'c':3}   # creating a dict with three key-value pairs"
   ]
  },
  {
   "cell_type": "code",
   "execution_count": 15,
   "id": "77beb01c",
   "metadata": {},
   "outputs": [
    {
     "data": {
      "text/plain": [
       "3"
      ]
     },
     "execution_count": 15,
     "metadata": {},
     "output_type": "execute_result"
    }
   ],
   "source": [
    "# how big is this dict?  -- len returns the number of key-value pairs\n",
    "len(d)"
   ]
  },
  {
   "cell_type": "code",
   "execution_count": 3,
   "id": "b6345075",
   "metadata": {},
   "outputs": [
    {
     "data": {
      "text/plain": [
       "1"
      ]
     },
     "execution_count": 3,
     "metadata": {},
     "output_type": "execute_result"
    }
   ],
   "source": [
    "# to retrieve a value from the dict, we use its key\n",
    "d['a']"
   ]
  },
  {
   "cell_type": "code",
   "execution_count": 4,
   "id": "61a13104",
   "metadata": {},
   "outputs": [
    {
     "data": {
      "text/plain": [
       "2"
      ]
     },
     "execution_count": 4,
     "metadata": {},
     "output_type": "execute_result"
    }
   ],
   "source": [
    "d['b']"
   ]
  },
  {
   "cell_type": "code",
   "execution_count": 5,
   "id": "f7ff4606",
   "metadata": {},
   "outputs": [
    {
     "data": {
      "text/plain": [
       "3"
      ]
     },
     "execution_count": 5,
     "metadata": {},
     "output_type": "execute_result"
    }
   ],
   "source": [
    "d['c']"
   ]
  },
  {
   "cell_type": "code",
   "execution_count": 6,
   "id": "35e9857e",
   "metadata": {},
   "outputs": [
    {
     "ename": "KeyError",
     "evalue": "'x'",
     "output_type": "error",
     "traceback": [
      "\u001b[0;31m---------------------------------------------------------------------------\u001b[0m",
      "\u001b[0;31mKeyError\u001b[0m                                  Traceback (most recent call last)",
      "\u001b[0;32m/var/folders/rr/0mnyyv811fs5vyp22gf4fxk00000gn/T/ipykernel_85667/3266031451.py\u001b[0m in \u001b[0;36m<module>\u001b[0;34m\u001b[0m\n\u001b[1;32m      1\u001b[0m \u001b[0;31m# what happens if I try to retrieve a key that doesn't work?\u001b[0m\u001b[0;34m\u001b[0m\u001b[0;34m\u001b[0m\u001b[0m\n\u001b[0;32m----> 2\u001b[0;31m \u001b[0md\u001b[0m\u001b[0;34m[\u001b[0m\u001b[0;34m'x'\u001b[0m\u001b[0;34m]\u001b[0m\u001b[0;34m\u001b[0m\u001b[0;34m\u001b[0m\u001b[0m\n\u001b[0m",
      "\u001b[0;31mKeyError\u001b[0m: 'x'"
     ]
    }
   ],
   "source": [
    "# what happens if I try to retrieve a key that doesn't work?\n",
    "d['x']"
   ]
  },
  {
   "cell_type": "code",
   "execution_count": 7,
   "id": "69bb1f1a",
   "metadata": {},
   "outputs": [
    {
     "data": {
      "text/plain": [
       "True"
      ]
     },
     "execution_count": 7,
     "metadata": {},
     "output_type": "execute_result"
    }
   ],
   "source": [
    "# I can search for a key using \"in\" -- this does *NOT* search in the values!\n",
    "'a' in d"
   ]
  },
  {
   "cell_type": "code",
   "execution_count": 8,
   "id": "84b553d9",
   "metadata": {},
   "outputs": [
    {
     "data": {
      "text/plain": [
       "False"
      ]
     },
     "execution_count": 8,
     "metadata": {},
     "output_type": "execute_result"
    }
   ],
   "source": [
    "'x' in d"
   ]
  },
  {
   "cell_type": "code",
   "execution_count": 9,
   "id": "7b16e966",
   "metadata": {},
   "outputs": [
    {
     "data": {
      "text/plain": [
       "{'a': 1, 'b': 2, 'c': 3}"
      ]
     },
     "execution_count": 9,
     "metadata": {},
     "output_type": "execute_result"
    }
   ],
   "source": [
    "d"
   ]
  },
  {
   "cell_type": "code",
   "execution_count": 10,
   "id": "920707dc",
   "metadata": {},
   "outputs": [],
   "source": [
    "# don't do this, but Python doesn't care!\n",
    "d = {'a':1, ' ':2, ' a ':3}"
   ]
  },
  {
   "cell_type": "code",
   "execution_count": 11,
   "id": "d44e34ca",
   "metadata": {},
   "outputs": [
    {
     "data": {
      "text/plain": [
       "3"
      ]
     },
     "execution_count": 11,
     "metadata": {},
     "output_type": "execute_result"
    }
   ],
   "source": [
    "len(d)"
   ]
  },
  {
   "cell_type": "code",
   "execution_count": 12,
   "id": "07986e1b",
   "metadata": {},
   "outputs": [
    {
     "data": {
      "text/plain": [
       "1"
      ]
     },
     "execution_count": 12,
     "metadata": {},
     "output_type": "execute_result"
    }
   ],
   "source": [
    "d['a']"
   ]
  },
  {
   "cell_type": "code",
   "execution_count": 13,
   "id": "69c8bf45",
   "metadata": {},
   "outputs": [
    {
     "data": {
      "text/plain": [
       "2"
      ]
     },
     "execution_count": 13,
     "metadata": {},
     "output_type": "execute_result"
    }
   ],
   "source": [
    "d[' ']"
   ]
  },
  {
   "cell_type": "code",
   "execution_count": 14,
   "id": "dd74b9bb",
   "metadata": {},
   "outputs": [
    {
     "data": {
      "text/plain": [
       "3"
      ]
     },
     "execution_count": 14,
     "metadata": {},
     "output_type": "execute_result"
    }
   ],
   "source": [
    "d[' a ']"
   ]
  },
  {
   "cell_type": "code",
   "execution_count": 16,
   "id": "ae2c7757",
   "metadata": {},
   "outputs": [],
   "source": [
    "d = {'a':1, 'b':2, 'c':3}"
   ]
  },
  {
   "cell_type": "code",
   "execution_count": 17,
   "id": "2b829cd0",
   "metadata": {},
   "outputs": [
    {
     "data": {
      "text/plain": [
       "{'a': 2}"
      ]
     },
     "execution_count": 17,
     "metadata": {},
     "output_type": "execute_result"
    }
   ],
   "source": [
    "d = {'a':1, \"a\":2}  # there is no difference between 'a' and \"a\", just entering it\n",
    "d"
   ]
  },
  {
   "cell_type": "markdown",
   "id": "f9bf1826",
   "metadata": {},
   "source": [
    "# Paradigm 1 for dict use: Mini-database\n",
    "\n",
    "We can create a small dict at the start of our program, and then query it when the program runs. This could be for month names -> month numbers (or month numbers -> month names)."
   ]
  },
  {
   "cell_type": "markdown",
   "id": "fc102e1d",
   "metadata": {},
   "source": [
    "# Exercise: Restaurant \n",
    "\n",
    "1. Define a small dict, called `menu`, in which the keys are strings (entries on a menu) and the values are prices (integers).\n",
    "2. Define `total` to be 0.\n",
    "3. Ask the user repeatedly what they want to order.\n",
    "    - If they enter an empty string, stop asking and give the total bill.\n",
    "    - If they enter a string that's on our menu as an entry, tell them the price and the new total.\n",
    "    - If they enter a string that's *NOT* on our menu as an entry, scold them appropriately!\n",
    "4. Print the total at the end.\n",
    "\n",
    "Hints:\n",
    "- We can use a `while` loop to ask questions repeatedly, especially `while True`.\n",
    "- We can check for an empty string if we compare with `''`\n",
    "- We can break out of a loop with the `break` command\n",
    "- Check for membership in a dict with `in`\n"
   ]
  },
  {
   "cell_type": "code",
   "execution_count": 18,
   "id": "62c9b7af",
   "metadata": {},
   "outputs": [
    {
     "data": {
      "text/plain": [
       "10"
      ]
     },
     "execution_count": 18,
     "metadata": {},
     "output_type": "execute_result"
    }
   ],
   "source": [
    "menu = {'sandwich':10, 'tea':5, 'apple':1, 'cake':4}\n",
    "\n",
    "menu['sandwich']"
   ]
  },
  {
   "cell_type": "code",
   "execution_count": 19,
   "id": "92f5664d",
   "metadata": {},
   "outputs": [
    {
     "data": {
      "text/plain": [
       "5"
      ]
     },
     "execution_count": 19,
     "metadata": {},
     "output_type": "execute_result"
    }
   ],
   "source": [
    "menu['tea']"
   ]
  },
  {
   "cell_type": "code",
   "execution_count": 20,
   "id": "0ac15966",
   "metadata": {},
   "outputs": [
    {
     "data": {
      "text/plain": [
       "True"
      ]
     },
     "execution_count": 20,
     "metadata": {},
     "output_type": "execute_result"
    }
   ],
   "source": [
    "'tea' in menu"
   ]
  },
  {
   "cell_type": "code",
   "execution_count": 21,
   "id": "c5a03014",
   "metadata": {},
   "outputs": [],
   "source": [
    "# assigning the string 'tea' to the variable order\n",
    "order = 'tea'"
   ]
  },
  {
   "cell_type": "code",
   "execution_count": 22,
   "id": "9f99006e",
   "metadata": {},
   "outputs": [
    {
     "data": {
      "text/plain": [
       "True"
      ]
     },
     "execution_count": 22,
     "metadata": {},
     "output_type": "execute_result"
    }
   ],
   "source": [
    "# now I can use the variable to search in the dict\n",
    "# this will only search in the keys, not the value\n",
    "# in other words: is the value currently in the variable order (i.e., 'tea') a key in the dict menu?\n",
    "order in menu"
   ]
  },
  {
   "cell_type": "code",
   "execution_count": 23,
   "id": "f97bef86",
   "metadata": {},
   "outputs": [
    {
     "data": {
      "text/plain": [
       "5"
      ]
     },
     "execution_count": 23,
     "metadata": {},
     "output_type": "execute_result"
    }
   ],
   "source": [
    "# let's retrieve the value associated with the dict menu, key order\n",
    "menu[order]"
   ]
  },
  {
   "cell_type": "code",
   "execution_count": 24,
   "id": "d08449e6",
   "metadata": {},
   "outputs": [
    {
     "name": "stdout",
     "output_type": "stream",
     "text": [
      "Order: sandwich\n",
      "sandwich costs 10, total is now 10\n",
      "Order: tea\n",
      "tea costs 5, total is now 15\n",
      "Order: cake\n",
      "cake costs 4, total is now 19\n",
      "Order: tea\n",
      "tea costs 5, total is now 24\n",
      "Order: elephant\n",
      "We are all out of elephant today!\n",
      "Order: \n",
      "Total is 24.\n"
     ]
    }
   ],
   "source": [
    "menu = {'sandwich':10, 'tea':5, 'apple':1, 'cake':4}\n",
    "total = 0\n",
    "\n",
    "while True:   # infinite loop!\n",
    "    order = input('Order: ').strip()    # get the user's order, remove whitespace, assign to order\n",
    "    \n",
    "    if order == '':   # did we get an empty string? Stop asking\n",
    "        break\n",
    "        \n",
    "    elif order in menu:         # is the user's order a key in the menu dict?\n",
    "        price = menu[order]   # get the price of the user's order from menu\n",
    "        total += price        # add this price to the total\n",
    "        print(f'{order} costs {price}, total is now {total}')\n",
    "    else:\n",
    "        print(f'We are all out of {order} today!')\n",
    "        \n",
    "print(f'Total is {total}.')        "
   ]
  },
  {
   "cell_type": "code",
   "execution_count": 25,
   "id": "15952eca",
   "metadata": {},
   "outputs": [
    {
     "name": "stdout",
     "output_type": "stream",
     "text": [
      "Order: sandwich\n",
      "sandwich costs 10, total is now 10\n",
      "Order: tea\n",
      "tea costs 5, total is now 15\n",
      "Order: cake\n",
      "cake costs 4, total is now 19\n",
      "Order: apple\n",
      "apple costs 1, total is now 20\n",
      "Order: sandwich\n",
      "sandwich costs 10, total is now 30\n",
      "Order: tea\n",
      "tea costs 5, total is now 35\n",
      "Order: \n",
      "Total is 35.\n",
      "\tsandwich\n",
      "\ttea\n",
      "\tcake\n",
      "\tapple\n",
      "\tsandwich\n",
      "\ttea\n"
     ]
    }
   ],
   "source": [
    "# fancy version of our program -- with an order history\n",
    "\n",
    "menu = {'sandwich':10, 'tea':5, 'apple':1, 'cake':4}\n",
    "total = 0\n",
    "order_history = []\n",
    "\n",
    "while True:   # infinite loop!\n",
    "    order = input('Order: ').strip()    # get the user's order, remove whitespace, assign to order\n",
    "    \n",
    "    if order == '':   # did we get an empty string? Stop asking\n",
    "        break\n",
    "        \n",
    "    elif order in menu:         # is the user's order a key in the menu dict?\n",
    "        price = menu[order]   # get the price of the user's order from menu\n",
    "        total += price        # add this price to the total\n",
    "        order_history.append(order)\n",
    "        print(f'{order} costs {price}, total is now {total}')\n",
    "    else:\n",
    "        print(f'We are all out of {order} today!')\n",
    "        \n",
    "print(f'Total is {total}.')        \n",
    "for one_item in order_history:\n",
    "    print(f'\\t{one_item}')"
   ]
  },
  {
   "cell_type": "markdown",
   "id": "a72a8428",
   "metadata": {},
   "source": [
    "# Dictionaries are mutable!\n",
    "\n",
    "We can change dictionaries:\n",
    "- Add a key-value pair\n",
    "- Update/change a value\n",
    "- Remove a key-value pair"
   ]
  },
  {
   "cell_type": "code",
   "execution_count": 26,
   "id": "fa777629",
   "metadata": {},
   "outputs": [
    {
     "name": "stdout",
     "output_type": "stream",
     "text": [
      "{'a': 10}\n",
      "{'a': 20}\n"
     ]
    }
   ],
   "source": [
    "d = {}        # empty dict\n",
    "d['a'] = 10   # add a key-value pair via assignment -- there is no \"append\" method!\n",
    "print(d)\n",
    "\n",
    "d['a'] = 20   # if the key already exists, we update the existing value for the key\n",
    "print(d)"
   ]
  },
  {
   "cell_type": "code",
   "execution_count": 27,
   "id": "b0129362",
   "metadata": {},
   "outputs": [
    {
     "name": "stdout",
     "output_type": "stream",
     "text": [
      "{'a': 10, 'b': 30, 'c': 40}\n"
     ]
    }
   ],
   "source": [
    "d['b'] = 30\n",
    "d['c'] = 40\n",
    "d['a'] = 10\n",
    "\n",
    "print(d)"
   ]
  },
  {
   "cell_type": "code",
   "execution_count": 28,
   "id": "daa927b2",
   "metadata": {},
   "outputs": [
    {
     "data": {
      "text/plain": [
       "30"
      ]
     },
     "execution_count": 28,
     "metadata": {},
     "output_type": "execute_result"
    }
   ],
   "source": [
    "# to remove a key-value pair, use \"pop\"\n",
    "# we have to provide the key that we'll be removing\n",
    "d.pop('b')  # removes 'b':its value, and returns its value"
   ]
  },
  {
   "cell_type": "code",
   "execution_count": 29,
   "id": "c01eb2ac",
   "metadata": {},
   "outputs": [
    {
     "data": {
      "text/plain": [
       "{'a': 10, 'c': 40}"
      ]
     },
     "execution_count": 29,
     "metadata": {},
     "output_type": "execute_result"
    }
   ],
   "source": [
    "d"
   ]
  },
  {
   "cell_type": "code",
   "execution_count": 30,
   "id": "743248cd",
   "metadata": {},
   "outputs": [
    {
     "data": {
      "text/plain": [
       "{'x': 10, 'v': 20, 'q': 30, 'w': 40, 'y': 50}"
      ]
     },
     "execution_count": 30,
     "metadata": {},
     "output_type": "execute_result"
    }
   ],
   "source": [
    "# key-value pairs in modern Python are kept in chronological order of adding the keys\n",
    "d = {}\n",
    "d['x'] = 10\n",
    "d['v'] = 20\n",
    "d['q'] = 30\n",
    "d['w'] = 40\n",
    "d['y'] = 50\n",
    "\n",
    "d"
   ]
  },
  {
   "cell_type": "code",
   "execution_count": 35,
   "id": "0dc16e12",
   "metadata": {},
   "outputs": [
    {
     "ename": "TypeError",
     "evalue": "unhashable type: 'list'",
     "output_type": "error",
     "traceback": [
      "\u001b[0;31m---------------------------------------------------------------------------\u001b[0m",
      "\u001b[0;31mTypeError\u001b[0m                                 Traceback (most recent call last)",
      "\u001b[0;32m/var/folders/rr/0mnyyv811fs5vyp22gf4fxk00000gn/T/ipykernel_85667/962819915.py\u001b[0m in \u001b[0;36m<module>\u001b[0;34m\u001b[0m\n\u001b[1;32m      4\u001b[0m \u001b[0;31m# let's try to add a new key-value pair to our dict,\u001b[0m\u001b[0;34m\u001b[0m\u001b[0;34m\u001b[0m\u001b[0m\n\u001b[1;32m      5\u001b[0m \u001b[0;31m# with a key of mylist and value of 10\u001b[0m\u001b[0;34m\u001b[0m\u001b[0;34m\u001b[0m\u001b[0m\n\u001b[0;32m----> 6\u001b[0;31m \u001b[0md\u001b[0m\u001b[0;34m[\u001b[0m\u001b[0mmylist\u001b[0m\u001b[0;34m]\u001b[0m \u001b[0;34m=\u001b[0m \u001b[0;36m10\u001b[0m   \u001b[0;31m# this doesn't work, because lists are MUTABLE and cannot be dict keys\u001b[0m\u001b[0;34m\u001b[0m\u001b[0;34m\u001b[0m\u001b[0m\n\u001b[0m",
      "\u001b[0;31mTypeError\u001b[0m: unhashable type: 'list'"
     ]
    }
   ],
   "source": [
    "# the keys must be immutable\n",
    "mylist = [10, 20, 30]\n",
    "\n",
    "# let's try to add a new key-value pair to our dict,\n",
    "# with a key of mylist and value of 10\n",
    "d[mylist] = 10   # this doesn't work, because lists are MUTABLE and cannot be dict keys"
   ]
  },
  {
   "cell_type": "code",
   "execution_count": 32,
   "id": "04726eab",
   "metadata": {},
   "outputs": [
    {
     "data": {
      "text/plain": [
       "12345"
      ]
     },
     "execution_count": 32,
     "metadata": {},
     "output_type": "execute_result"
    }
   ],
   "source": [
    "# more examples of dictionaries\n",
    "\n",
    "# usernames as keys, ID numbers as values\n",
    "users = {'reuven':12345, 'admin':999, 'someone':456}\n",
    "users['reuven']"
   ]
  },
  {
   "cell_type": "code",
   "execution_count": 33,
   "id": "1502a8fe",
   "metadata": {},
   "outputs": [
    {
     "data": {
      "text/plain": [
       "'Jan'"
      ]
     },
     "execution_count": 33,
     "metadata": {},
     "output_type": "execute_result"
    }
   ],
   "source": [
    "# month numbers as keys, month names as values\n",
    "months = {1:'Jan', 2:'Feb', 3:'Mar', 4:'Apr', 5:'May'}\n",
    "months[1]"
   ]
  },
  {
   "cell_type": "code",
   "execution_count": 34,
   "id": "5f9c0f39",
   "metadata": {},
   "outputs": [
    {
     "data": {
      "text/plain": [
       "'Apr'"
      ]
     },
     "execution_count": 34,
     "metadata": {},
     "output_type": "execute_result"
    }
   ],
   "source": [
    "months[4]"
   ]
  },
  {
   "cell_type": "markdown",
   "id": "2fba8d58",
   "metadata": {},
   "source": [
    "# Keys and values\n",
    "\n",
    "Keys in a dict must be immutable. They thus can be:\n",
    "- `True` and `False` (boring)\n",
    "- Integers or floats\n",
    "- Strings\n",
    "- Tuples, so long as the tuples only contain immutable values\n",
    "\n",
    "Values in a dict can be **ABSOLUTELY ANYTHING AT ALL**:\n",
    "- integers\n",
    "- strings\n",
    "- lists\n",
    "- tuples\n",
    "- dicts\n",
    "- functions\n",
    "- modules\n",
    "- classes\n",
    "- YOU NAME IT!\n",
    "\n",
    "Dicts are one-way streets -- you can get the value via the key, but *NOT* the other way around."
   ]
  },
  {
   "cell_type": "code",
   "execution_count": 36,
   "id": "d935ff02",
   "metadata": {},
   "outputs": [],
   "source": [
    "# tuple with immutable values:\n",
    "# these can be used as dict keys \n",
    "# Consider: coordinates on an x,y axis!\n",
    "\n",
    "t = (10, 20, 30)      # numbers are immutable\n",
    "t = ('a', 'b', 'c')   # strings are immutable"
   ]
  },
  {
   "cell_type": "code",
   "execution_count": 37,
   "id": "fe793287",
   "metadata": {},
   "outputs": [],
   "source": [
    "# tuple with mutable values:\n",
    "\n",
    "t = ([10, 20, 30], [40, 50, 60])  # lists are mutable\n",
    "t = ({'a':1, 'b':2}, {'c':3, 'd':4})  # dicts are mutable"
   ]
  },
  {
   "cell_type": "markdown",
   "id": "a48fb510",
   "metadata": {},
   "source": [
    "# Next up\n",
    "\n",
    "- Accumulating known things\n",
    "- Accumulating unknown things\n",
    "\n"
   ]
  },
  {
   "cell_type": "code",
   "execution_count": 38,
   "id": "8fde45cd",
   "metadata": {},
   "outputs": [
    {
     "data": {
      "text/plain": [
       "{'a': 1, 'b': 3, 'c': 0}"
      ]
     },
     "execution_count": 38,
     "metadata": {},
     "output_type": "execute_result"
    }
   ],
   "source": [
    "# I want to keep track of a, b, and c\n",
    "\n",
    "# start off my dict with these three keys, all values are 0\n",
    "d = {'a':0, 'b':0, 'c':0}\n",
    "\n",
    "d['a'] += 1   # add 1 to the current value of d['a']\n",
    "d['b'] += 3   # add 3 to the current value of d['b']\n",
    "\n",
    "d\n"
   ]
  },
  {
   "cell_type": "code",
   "execution_count": 41,
   "id": "f2e246c6",
   "metadata": {},
   "outputs": [
    {
     "data": {
      "text/plain": [
       "{8: 1, 9: 0, 10: 2, 11: 1, 12: 1, 13: 1, 14: 3, 15: 0, 16: 0, 17: 0, 18: 0}"
      ]
     },
     "execution_count": 41,
     "metadata": {},
     "output_type": "execute_result"
    }
   ],
   "source": [
    "# let's keep track of how often each high temp will be in Modi'in\n",
    "d = {8:0, 9:0, 10:0, 11:0, 12:0, 13:0, 14:0, 15:0, 16:0, 17:0, 18:0}\n",
    "\n",
    "d[14] += 1\n",
    "d[14] += 1\n",
    "d[14] += 1\n",
    "d[10] += 1\n",
    "d[13] += 1\n",
    "d[10] += 1\n",
    "d[12] += 1\n",
    "d[8] += 1\n",
    "d[11] += 1\n",
    "\n",
    "d"
   ]
  },
  {
   "cell_type": "code",
   "execution_count": 42,
   "id": "58b3b893",
   "metadata": {},
   "outputs": [
    {
     "ename": "KeyError",
     "evalue": "14",
     "output_type": "error",
     "traceback": [
      "\u001b[0;31m---------------------------------------------------------------------------\u001b[0m",
      "\u001b[0;31mKeyError\u001b[0m                                  Traceback (most recent call last)",
      "\u001b[0;32m/var/folders/rr/0mnyyv811fs5vyp22gf4fxk00000gn/T/ipykernel_85667/752951223.py\u001b[0m in \u001b[0;36m<module>\u001b[0;34m\u001b[0m\n\u001b[1;32m      4\u001b[0m \u001b[0md\u001b[0m \u001b[0;34m=\u001b[0m \u001b[0;34m{\u001b[0m\u001b[0;34m}\u001b[0m\u001b[0;34m\u001b[0m\u001b[0;34m\u001b[0m\u001b[0m\n\u001b[1;32m      5\u001b[0m \u001b[0;34m\u001b[0m\u001b[0m\n\u001b[0;32m----> 6\u001b[0;31m \u001b[0md\u001b[0m\u001b[0;34m[\u001b[0m\u001b[0;36m14\u001b[0m\u001b[0;34m]\u001b[0m \u001b[0;34m+=\u001b[0m \u001b[0;36m1\u001b[0m\u001b[0;34m\u001b[0m\u001b[0;34m\u001b[0m\u001b[0m\n\u001b[0m\u001b[1;32m      7\u001b[0m \u001b[0md\u001b[0m\u001b[0;34m[\u001b[0m\u001b[0;36m14\u001b[0m\u001b[0;34m]\u001b[0m \u001b[0;34m+=\u001b[0m \u001b[0;36m1\u001b[0m\u001b[0;34m\u001b[0m\u001b[0;34m\u001b[0m\u001b[0m\n\u001b[1;32m      8\u001b[0m \u001b[0md\u001b[0m\u001b[0;34m[\u001b[0m\u001b[0;36m14\u001b[0m\u001b[0;34m]\u001b[0m \u001b[0;34m+=\u001b[0m \u001b[0;36m1\u001b[0m\u001b[0;34m\u001b[0m\u001b[0;34m\u001b[0m\u001b[0m\n",
      "\u001b[0;31mKeyError\u001b[0m: 14"
     ]
    }
   ],
   "source": [
    "# what if I initialized d to be empty:\n",
    "\n",
    "# let's keep track of how often each high temp will be in Modi'in\n",
    "d = {}\n",
    "\n",
    "d[14] += 1   # this means: d[14] = d[14] + 1\n",
    "d[14] += 1\n",
    "d[14] += 1\n",
    "d[10] += 1\n",
    "d[13] += 1\n",
    "d[10] += 1\n",
    "d[12] += 1\n",
    "d[8] += 1\n",
    "d[11] += 1\n",
    "\n",
    "d"
   ]
  },
  {
   "cell_type": "markdown",
   "id": "ec7d055a",
   "metadata": {},
   "source": [
    "# Exercise: Vowels, digits, and others\n",
    "\n",
    "1. Define a dict, `counts`, with three keys: `vowels`, `digits`, and `others`.  The value for each key should be 0.\n",
    "2. Ask the user to enter a string.\n",
    "3. Go through each character in the string:\n",
    "    - If the character is a vowel (a, e, i, o, u) then add one to `vowels`\n",
    "    - If the character is a digit, then add one to `digits`\n",
    "    - If the character is neither, then add one to `others`\n",
    "4. Print the resulting dictionary\n",
    "\n",
    "Hints:\n",
    "- You can check for membership in a string with `in`\n",
    "- You can check if a string contains only digits 0-9 with `str.isdigit`\n"
   ]
  },
  {
   "cell_type": "code",
   "execution_count": 48,
   "id": "98743186",
   "metadata": {},
   "outputs": [
    {
     "name": "stdout",
     "output_type": "stream",
     "text": [
      "Enter a string: abe123!?\n",
      "{'vowels': 2, 'digits': 3, 'others': 3}\n"
     ]
    }
   ],
   "source": [
    "counts = {'vowels':0, 'digits':0, 'others':0}\n",
    "\n",
    "s = input('Enter a string: ').strip()\n",
    "\n",
    "for one_character in s:\n",
    "    if one_character in 'aeiou':\n",
    "        counts['vowels'] += 1\n",
    "    elif one_character.isdigit():\n",
    "        counts['digits'] += 1\n",
    "    else:\n",
    "        counts['others'] += 1\n",
    "    \n",
    "print(counts)    "
   ]
  },
  {
   "cell_type": "code",
   "execution_count": 51,
   "id": "04086ce8",
   "metadata": {},
   "outputs": [
    {
     "name": "stdout",
     "output_type": "stream",
     "text": [
      "Enter a string: hello\n",
      "{'h': 1, 'e': 1, 'l': 2, 'o': 1}\n"
     ]
    }
   ],
   "source": [
    "# I want to count the characters in a string\n",
    "# meaning: ask the user to enter a string\n",
    "# how often does each character show up?\n",
    "\n",
    "counts = {}   # empty dict!\n",
    "\n",
    "s = input('Enter a string: ').strip()\n",
    "\n",
    "for one_character in s:\n",
    "\n",
    "    # one_character -- the current character, in the loop, from s\n",
    "    # if we ask \"one_character in counts\" -- we're checking if the character is a key in the counts dict\n",
    "    # but here, we're saying \"one_character not in counts\", which means, True if it's *NOT* a key there\n",
    "    # so: if the current character is *not* a key in the dict, then add it to the dict with a value of 1\n",
    "\n",
    "    if one_character not in counts:  \n",
    "        counts[one_character] = 1    # add the key-value pair the first time we see this key\n",
    "\n",
    "    # if the current character *is* already a key counts, \n",
    "    # then just add 1 to the value associated with that key\n",
    "\n",
    "    else:\n",
    "        counts[one_character] += 1   # add 1 to the value the subsequent times we see the key\n",
    "    \n",
    "print(counts)    "
   ]
  },
  {
   "cell_type": "markdown",
   "id": "72096c69",
   "metadata": {},
   "source": [
    "# Three paradigms for working with dicts\n",
    "\n",
    "1. We define the dict at the start of the program, and read from it as a database (e.g., menu)\n",
    "2. We define the dict with keys and starting values (often 0), and add to those values over time (e.g., digits, vowels, and others)\n",
    "3. We define an empty dict, and based on input, we add keys and values (e.g., character counter)"
   ]
  },
  {
   "cell_type": "markdown",
   "id": "7b27680e",
   "metadata": {},
   "source": [
    "# Exercise: Rainfall\n",
    "\n",
    "We're going to use a dict to keep track of total rainfall in cities. Which cities? Whichever ones the user decides to enter.  How much rain? Whatever the user enters. \n",
    "\n",
    "The dict, `rainfall`, will have city names (strings) as keys, and mm rain (integers) as values.\n",
    "\n",
    "1. Define an empty dict, `rainfall`.\n",
    "2. Ask the user, again and again, to enter a city name.\n",
    "3. If they give us an empty string, stop asking and print `rainfall`.\n",
    "4. Ask the user a 2nd question: How much rain fell, in mm?\n",
    "5. If this is the first time encountering this city, then assign to our dict, with the city name as the key and `mm_rain` as the value.\n",
    "6. If we have seen this city before, then add the value in `mm_rain` to the existing value.\n",
    "7. Print the dict.\n",
    "\n",
    "Example:\n",
    "\n",
    "    City: Jerusalem\n",
    "    Rain: 5\n",
    "    City: Tel Aviv\n",
    "    Rain: 4\n",
    "    City: Jerusalem\n",
    "    Rain: 3\n",
    "    City: [ENTER]\n",
    "    {'Jerusalem':8, 'Tel Aviv':4}"
   ]
  },
  {
   "cell_type": "code",
   "execution_count": 53,
   "id": "6394c0ab",
   "metadata": {
    "scrolled": true
   },
   "outputs": [
    {
     "name": "stdout",
     "output_type": "stream",
     "text": [
      "City: a\n",
      "Rain: 5\n",
      "City: b\n",
      "Rain: 4\n",
      "City: a\n",
      "Rain: 3\n",
      "City: \n",
      "{'a': 8, 'b': 4}\n"
     ]
    }
   ],
   "source": [
    "rainfall = {}\n",
    "\n",
    "while True:\n",
    "    city_name = input('City: ').strip()\n",
    "    \n",
    "    if city_name == '':  # got an empty city name? stop!\n",
    "        break\n",
    "        \n",
    "    mm_rain = input('Rain: ').strip()  \n",
    "    mm_rain = int(mm_rain)   # convert to an int, assuming users gave us good input\n",
    "    \n",
    "    # have we seen this city before?\n",
    "    if city_name in rainfall:   # yes, we have seen it before!\n",
    "        rainfall[city_name] += mm_rain\n",
    "    else:                       # no, this is the first time seeing this city\n",
    "        rainfall[city_name] = mm_rain\n",
    "        \n",
    "print(rainfall)        "
   ]
  },
  {
   "cell_type": "code",
   "execution_count": 54,
   "id": "199f845c",
   "metadata": {},
   "outputs": [
    {
     "data": {
      "text/plain": [
       "{'a': 5}"
      ]
     },
     "execution_count": 54,
     "metadata": {},
     "output_type": "execute_result"
    }
   ],
   "source": [
    "# empty dict\n",
    "d = {}\n",
    "\n",
    "city_name = 'a'\n",
    "mm_rain = 5\n",
    "\n",
    "d[city_name] = 5    # this adds the key-value pair 'a' : 5 to the dict\n",
    "d"
   ]
  },
  {
   "cell_type": "markdown",
   "id": "bd765f1e",
   "metadata": {},
   "source": [
    "# Next up:\n",
    "\n",
    "1. Looping over dicts\n",
    "2. How dicts work (and why we use them)\n",
    "3. Working with files\n",
    "\n",
    "If you are on your own computer, and you can download + install text files into the same directory as you're running Jupyter, then please download the zipfile mentioned in the resources.  It contains some text files we'll be using."
   ]
  },
  {
   "cell_type": "code",
   "execution_count": 55,
   "id": "04b6cff6",
   "metadata": {},
   "outputs": [
    {
     "name": "stdout",
     "output_type": "stream",
     "text": [
      "a\n",
      "b\n",
      "c\n"
     ]
    }
   ],
   "source": [
    "d = {'a':10, 'b':20, 'c':30}\n",
    "\n",
    "# will this work? And if it does, what do I get with each iteration?\n",
    "for one_item in d:\n",
    "    print(one_item)  # looping over a dict gives me the keys"
   ]
  },
  {
   "cell_type": "code",
   "execution_count": 56,
   "id": "ab873f86",
   "metadata": {},
   "outputs": [
    {
     "name": "stdout",
     "output_type": "stream",
     "text": [
      "a: 10\n",
      "b: 20\n",
      "c: 30\n"
     ]
    }
   ],
   "source": [
    "# one classic way to get all keys and values in a \"for\" loop\n",
    "d = {'a':10, 'b':20, 'c':30}\n",
    "\n",
    "for one_key in d:\n",
    "    print(f'{one_key}: {d[one_key]}') "
   ]
  },
  {
   "cell_type": "code",
   "execution_count": 57,
   "id": "6d006a5c",
   "metadata": {},
   "outputs": [
    {
     "data": {
      "text/plain": [
       "dict_keys(['a', 'b', 'c'])"
      ]
     },
     "execution_count": 57,
     "metadata": {},
     "output_type": "execute_result"
    }
   ],
   "source": [
    "# dicts have a few methods to retrieve their parts\n",
    "\n",
    "d.keys()   # returns all keys"
   ]
  },
  {
   "cell_type": "code",
   "execution_count": 58,
   "id": "33ee427e",
   "metadata": {},
   "outputs": [],
   "source": [
    "# don't iterate over d.keys()!  It's faster to just iterate over d"
   ]
  },
  {
   "cell_type": "code",
   "execution_count": 59,
   "id": "99849cbe",
   "metadata": {},
   "outputs": [
    {
     "data": {
      "text/plain": [
       "dict_values([10, 20, 30])"
      ]
     },
     "execution_count": 59,
     "metadata": {},
     "output_type": "execute_result"
    }
   ],
   "source": [
    "d.values()   # returns all values"
   ]
  },
  {
   "cell_type": "code",
   "execution_count": 60,
   "id": "f839d639",
   "metadata": {},
   "outputs": [
    {
     "data": {
      "text/plain": [
       "True"
      ]
     },
     "execution_count": 60,
     "metadata": {},
     "output_type": "execute_result"
    }
   ],
   "source": [
    "# I can search in the values, if I want\n",
    "# (relatively rare, but it does happen)\n",
    "\n",
    "30 in d.values()"
   ]
  },
  {
   "cell_type": "code",
   "execution_count": 63,
   "id": "80a9af77",
   "metadata": {},
   "outputs": [
    {
     "name": "stdout",
     "output_type": "stream",
     "text": [
      "10\n",
      "20\n",
      "30\n"
     ]
    }
   ],
   "source": [
    "# I can print all the values... but I can't get the keys from the values\n",
    "\n",
    "for one_value in d.values():\n",
    "    print(one_value)"
   ]
  },
  {
   "cell_type": "code",
   "execution_count": 64,
   "id": "b715a22e",
   "metadata": {},
   "outputs": [
    {
     "data": {
      "text/plain": [
       "dict_values(['Jan', 'Feb', 'Mar', 'Apr', 'May'])"
      ]
     },
     "execution_count": 64,
     "metadata": {},
     "output_type": "execute_result"
    }
   ],
   "source": [
    "months.values()"
   ]
  },
  {
   "cell_type": "code",
   "execution_count": 65,
   "id": "1f799efb",
   "metadata": {},
   "outputs": [
    {
     "name": "stdout",
     "output_type": "stream",
     "text": [
      "Jan\n",
      "Feb\n",
      "Mar\n",
      "Apr\n",
      "May\n"
     ]
    }
   ],
   "source": [
    "for month_name in months.values():\n",
    "    print(month_name)"
   ]
  },
  {
   "cell_type": "code",
   "execution_count": 66,
   "id": "eeec2ca9",
   "metadata": {},
   "outputs": [
    {
     "name": "stdout",
     "output_type": "stream",
     "text": [
      "('a', 10)\n",
      "('b', 20)\n",
      "('c', 30)\n"
     ]
    }
   ],
   "source": [
    "# my favorite way to iterate over dicts is with the \"items\" method\n",
    "\n",
    "for one_item in d.items():\n",
    "    print(one_item)  # we get a 2-element tuple, with the key and value for each pair"
   ]
  },
  {
   "cell_type": "code",
   "execution_count": 68,
   "id": "d6108452",
   "metadata": {},
   "outputs": [
    {
     "name": "stdout",
     "output_type": "stream",
     "text": [
      "a: 10\n",
      "b: 20\n",
      "c: 30\n"
     ]
    }
   ],
   "source": [
    "# this will work -- t[0] is the key and t[1] is the value\n",
    "for t in d.items():\n",
    "    print(f'{t[0]}: {t[1]}')"
   ]
  },
  {
   "cell_type": "code",
   "execution_count": 69,
   "id": "3d66a91e",
   "metadata": {},
   "outputs": [],
   "source": [
    "# we can use unpacking\n",
    "# unpacking means: we have a sequence on the right, and multiple variables on the left\n",
    "\n",
    "mylist = [10, 20, 30]\n",
    "x,y,z = mylist    # three variables = three elements in mylist -- so x=10, y=20, z=30"
   ]
  },
  {
   "cell_type": "code",
   "execution_count": 70,
   "id": "e08b5f95",
   "metadata": {},
   "outputs": [
    {
     "data": {
      "text/plain": [
       "10"
      ]
     },
     "execution_count": 70,
     "metadata": {},
     "output_type": "execute_result"
    }
   ],
   "source": [
    "x"
   ]
  },
  {
   "cell_type": "code",
   "execution_count": 71,
   "id": "9f9bf1f6",
   "metadata": {},
   "outputs": [
    {
     "data": {
      "text/plain": [
       "20"
      ]
     },
     "execution_count": 71,
     "metadata": {},
     "output_type": "execute_result"
    }
   ],
   "source": [
    "y"
   ]
  },
  {
   "cell_type": "code",
   "execution_count": 72,
   "id": "d538df5b",
   "metadata": {},
   "outputs": [
    {
     "data": {
      "text/plain": [
       "30"
      ]
     },
     "execution_count": 72,
     "metadata": {},
     "output_type": "execute_result"
    }
   ],
   "source": [
    "z"
   ]
  },
  {
   "cell_type": "code",
   "execution_count": 73,
   "id": "243436bb",
   "metadata": {},
   "outputs": [
    {
     "name": "stdout",
     "output_type": "stream",
     "text": [
      "a: 10\n",
      "b: 20\n",
      "c: 30\n"
     ]
    }
   ],
   "source": [
    "# I can use unpacking in my for loop!\n",
    "for key, value in d.items():\n",
    "    print(f'{key}: {value}')"
   ]
  },
  {
   "cell_type": "code",
   "execution_count": 74,
   "id": "e499d5d3",
   "metadata": {},
   "outputs": [
    {
     "name": "stdout",
     "output_type": "stream",
     "text": [
      "1: Jan\n",
      "2: Feb\n",
      "3: Mar\n",
      "4: Apr\n",
      "5: May\n"
     ]
    }
   ],
   "source": [
    "for month_number, month_name in months.items():\n",
    "    print(f'{month_number}: {month_name}')"
   ]
  },
  {
   "cell_type": "markdown",
   "id": "78ea0923",
   "metadata": {},
   "source": [
    "# How do dicts work?\n",
    "\n",
    "Why do we need (want) dictionaries? Can't we just use lists?  What's the big advantage?\n",
    "\n",
    "There are several:\n",
    "- Keys are guaranteed to be unique -- I don't need to worry about duplicates\n",
    "- My programs become more readable -- I'd prefer to use keys with meaning than numbers for indexes\n",
    "- Searching for a key in a dict is *FAR, FAR* faster than in a list.  This means:\n",
    "    - Checking if a key is in a dict is faster\n",
    "    - Retrieving the value based on a key is faster"
   ]
  },
  {
   "cell_type": "code",
   "execution_count": 75,
   "id": "9172e182",
   "metadata": {},
   "outputs": [],
   "source": [
    "d = {'a':10, 'a':20, 'a':30, 'a':40, 'a':5}"
   ]
  },
  {
   "cell_type": "code",
   "execution_count": 76,
   "id": "2e2e38ea",
   "metadata": {},
   "outputs": [
    {
     "data": {
      "text/plain": [
       "{'a': 5}"
      ]
     },
     "execution_count": 76,
     "metadata": {},
     "output_type": "execute_result"
    }
   ],
   "source": [
    "d"
   ]
  },
  {
   "cell_type": "code",
   "execution_count": 77,
   "id": "8c3bfc45",
   "metadata": {},
   "outputs": [],
   "source": [
    "d['a'] = 20"
   ]
  },
  {
   "cell_type": "code",
   "execution_count": 78,
   "id": "a8929437",
   "metadata": {},
   "outputs": [],
   "source": [
    "d['a'] = 30"
   ]
  },
  {
   "cell_type": "code",
   "execution_count": 79,
   "id": "78d69525",
   "metadata": {},
   "outputs": [
    {
     "data": {
      "text/plain": [
       "True"
      ]
     },
     "execution_count": 79,
     "metadata": {},
     "output_type": "execute_result"
    }
   ],
   "source": [
    "mylist = [10, 20, 30, 40, 50, 60, 70, 80, 90, 100]\n",
    "\n",
    "70 in mylist  # how does Python search? With a for loop!\n",
    "\n",
    "# how long might that search take? We might need to search every element in mylist\n",
    "# the longer mylist is, the longer the search might take\n",
    "\n",
    "# in CS theory, we call this O(n) -- meaning, the time it takes is proportional to the length of the list\n",
    "# or: longer lists take longer to search"
   ]
  },
  {
   "cell_type": "code",
   "execution_count": 80,
   "id": "aa5c4f6e",
   "metadata": {},
   "outputs": [
    {
     "data": {
      "text/plain": [
       "True"
      ]
     },
     "execution_count": 80,
     "metadata": {},
     "output_type": "execute_result"
    }
   ],
   "source": [
    "d = {'a':10, 'b':20, 'c':30}\n",
    "\n",
    "'b' in d  # what's really going on here?\n",
    "\n",
    "# Python runs a \"hash function\" on the keys -- hash('b')\n",
    "# this number tells us where in memory the key 'b' should be stored\n",
    "# if it's there, then we can get the value\n",
    "# if it's not there, then we can report it's not in the dict\n",
    "\n",
    "# no matter how many key-value pairs you have in the dict, searching\n",
    "# takes exactly the same amount of time!\n",
    "\n",
    "# That's known in CS theory as O(1) -- constant time"
   ]
  },
  {
   "cell_type": "code",
   "execution_count": 81,
   "id": "e8bb4caa",
   "metadata": {},
   "outputs": [],
   "source": [
    "# why can't we use mutable data as dict keys?\n",
    "# answer: because the hash function uses the key to know where the value is in memory\n",
    "# if we change the data, then the location is suddenly wrong!\n",
    "\n"
   ]
  },
  {
   "cell_type": "markdown",
   "id": "ea559602",
   "metadata": {},
   "source": [
    "# Files!\n",
    "\n",
    "Files allow us to store data when a program (or computer) isn't running, so that we don't have to enter all of that data each time.\n",
    "\n",
    "When we talk about \"files\" in real life, we think about Word files, Excel files, PowerPoint files, PDF files, and HTML files.  A more common type of file is the \"text file,\" containing no real formatting, just text.\n",
    "\n",
    "We're going to talk about working with such (plain-text) files.\n",
    "\n",
    "If our program is going to talk to a file on the filesystem (disk), we'll need to go through the operating system, which is the mediator in such things. We'll need an agent, or an object, to act on our behalf.\n",
    "\n",
    "In many languages, we call such an object a \"file handle.\" In Python, we call it a \"file object,\" or (to be more precise) a \"file-like object.\"  (There are many things that aren't files, but implement the functionality of a file, so that's why they're called file-like objects.)\n",
    "\n",
    "So to read from a text file, we'll need to:\n",
    "- Tell the OS we want to read from the file\n",
    "- Get a file-like object back from Python, which was in touch with the OS\n",
    "- Tell the file-like object we want to read from the file"
   ]
  },
  {
   "cell_type": "code",
   "execution_count": 87,
   "id": "50d0c14f",
   "metadata": {},
   "outputs": [],
   "source": [
    "# I'm going to use the /etc/passwd file from my Mac\n",
    "# /etc/passwd is a traditional Unix file with usernames and (no longer) passwords.\n",
    "\n",
    "f = open('/etc/passwd')  # (1) ask the OS to open a *read* connection to the file (2) return the file object"
   ]
  },
  {
   "cell_type": "code",
   "execution_count": 88,
   "id": "0c1de8e1",
   "metadata": {},
   "outputs": [
    {
     "data": {
      "text/plain": [
       "<_io.TextIOWrapper name='/etc/passwd' mode='r' encoding='UTF-8'>"
      ]
     },
     "execution_count": 88,
     "metadata": {},
     "output_type": "execute_result"
    }
   ],
   "source": [
    "# what does the file object tell us about itself?\n",
    "f"
   ]
  },
  {
   "cell_type": "code",
   "execution_count": 89,
   "id": "b03fe147",
   "metadata": {},
   "outputs": [],
   "source": [
    "# can I read from the file? YES!  I can run the read() method, which returns\n",
    "# a string containing the entire contents of the file\n",
    "\n",
    "# when you run f.read(), it starts from the end of the last read\n",
    "# so if you call it twice in a row, the second time will return 0 bytes\n",
    "\n",
    "s = f.read()   # this works, but it's usually a bad idea"
   ]
  },
  {
   "cell_type": "code",
   "execution_count": 90,
   "id": "9c5c5659",
   "metadata": {},
   "outputs": [
    {
     "data": {
      "text/plain": [
       "7630"
      ]
     },
     "execution_count": 90,
     "metadata": {},
     "output_type": "execute_result"
    }
   ],
   "source": [
    "len(s)"
   ]
  },
  {
   "cell_type": "code",
   "execution_count": 91,
   "id": "e1dff8fd",
   "metadata": {},
   "outputs": [
    {
     "name": "stdout",
     "output_type": "stream",
     "text": [
      "##\n",
      "\n",
      "# User Database\n",
      "\n",
      "# \n",
      "\n",
      "# Note that this file is consulted directly only when the system is running\n",
      "\n",
      "# in single-user mode.  At other times this information is provided by\n",
      "\n",
      "# Open Directory.\n",
      "\n",
      "#\n",
      "\n",
      "# See the opendirectoryd(8) man page for additional information about\n",
      "\n",
      "# Open Directory.\n",
      "\n",
      "##\n",
      "\n",
      "nobody:*:-2:-2:Unprivileged User:/var/empty:/usr/bin/false\n",
      "\n",
      "root:*:0:0:System Administrator:/var/root:/bin/sh\n",
      "\n",
      "daemon:*:1:1:System Services:/var/root:/usr/bin/false\n",
      "\n",
      "_uucp:*:4:4:Unix to Unix Copy Protocol:/var/spool/uucp:/usr/sbin/uucico\n",
      "\n",
      "_taskgated:*:13:13:Task Gate Daemon:/var/empty:/usr/bin/false\n",
      "\n",
      "_networkd:*:24:24:Network Services:/var/networkd:/usr/bin/false\n",
      "\n",
      "_installassistant:*:25:25:Install Assistant:/var/empty:/usr/bin/false\n",
      "\n",
      "_lp:*:26:26:Printing Services:/var/spool/cups:/usr/bin/false\n",
      "\n",
      "_postfix:*:27:27:Postfix Mail Server:/var/spool/postfix:/usr/bin/false\n",
      "\n",
      "_scsd:*:31:31:Service Configuration Service:/var/empty:/usr/bin/false\n",
      "\n",
      "_ces:*:32:32:Certificate Enrollment Service:/var/empty:/usr/bin/false\n",
      "\n",
      "_appstore:*:33:33:Mac App Store Service:/var/db/appstore:/usr/bin/false\n",
      "\n",
      "_mcxalr:*:54:54:MCX AppLaunch:/var/empty:/usr/bin/false\n",
      "\n",
      "_appleevents:*:55:55:AppleEvents Daemon:/var/empty:/usr/bin/false\n",
      "\n",
      "_geod:*:56:56:Geo Services Daemon:/var/db/geod:/usr/bin/false\n",
      "\n",
      "_devdocs:*:59:59:Developer Documentation:/var/empty:/usr/bin/false\n",
      "\n",
      "_sandbox:*:60:60:Seatbelt:/var/empty:/usr/bin/false\n",
      "\n",
      "_mdnsresponder:*:65:65:mDNSResponder:/var/empty:/usr/bin/false\n",
      "\n",
      "_ard:*:67:67:Apple Remote Desktop:/var/empty:/usr/bin/false\n",
      "\n",
      "_www:*:70:70:World Wide Web Server:/Library/WebServer:/usr/bin/false\n",
      "\n",
      "_eppc:*:71:71:Apple Events User:/var/empty:/usr/bin/false\n",
      "\n",
      "_cvs:*:72:72:CVS Server:/var/empty:/usr/bin/false\n",
      "\n",
      "_svn:*:73:73:SVN Server:/var/empty:/usr/bin/false\n",
      "\n",
      "_mysql:*:74:74:MySQL Server:/var/empty:/usr/bin/false\n",
      "\n",
      "_sshd:*:75:75:sshd Privilege separation:/var/empty:/usr/bin/false\n",
      "\n",
      "_qtss:*:76:76:QuickTime Streaming Server:/var/empty:/usr/bin/false\n",
      "\n",
      "_cyrus:*:77:6:Cyrus Administrator:/var/imap:/usr/bin/false\n",
      "\n",
      "_mailman:*:78:78:Mailman List Server:/var/empty:/usr/bin/false\n",
      "\n",
      "_appserver:*:79:79:Application Server:/var/empty:/usr/bin/false\n",
      "\n",
      "_clamav:*:82:82:ClamAV Daemon:/var/virusmails:/usr/bin/false\n",
      "\n",
      "_amavisd:*:83:83:AMaViS Daemon:/var/virusmails:/usr/bin/false\n",
      "\n",
      "_jabber:*:84:84:Jabber XMPP Server:/var/empty:/usr/bin/false\n",
      "\n",
      "_appowner:*:87:87:Application Owner:/var/empty:/usr/bin/false\n",
      "\n",
      "_windowserver:*:88:88:WindowServer:/var/empty:/usr/bin/false\n",
      "\n",
      "_spotlight:*:89:89:Spotlight:/var/empty:/usr/bin/false\n",
      "\n",
      "_tokend:*:91:91:Token Daemon:/var/empty:/usr/bin/false\n",
      "\n",
      "_securityagent:*:92:92:SecurityAgent:/var/db/securityagent:/usr/bin/false\n",
      "\n",
      "_calendar:*:93:93:Calendar:/var/empty:/usr/bin/false\n",
      "\n",
      "_teamsserver:*:94:94:TeamsServer:/var/teamsserver:/usr/bin/false\n",
      "\n",
      "_update_sharing:*:95:-2:Update Sharing:/var/empty:/usr/bin/false\n",
      "\n",
      "_installer:*:96:-2:Installer:/var/empty:/usr/bin/false\n",
      "\n",
      "_atsserver:*:97:97:ATS Server:/var/empty:/usr/bin/false\n",
      "\n",
      "_ftp:*:98:-2:FTP Daemon:/var/empty:/usr/bin/false\n",
      "\n",
      "_unknown:*:99:99:Unknown User:/var/empty:/usr/bin/false\n",
      "\n",
      "_softwareupdate:*:200:200:Software Update Service:/var/db/softwareupdate:/usr/bin/false\n",
      "\n",
      "_coreaudiod:*:202:202:Core Audio Daemon:/var/empty:/usr/bin/false\n",
      "\n",
      "_screensaver:*:203:203:Screensaver:/var/empty:/usr/bin/false\n",
      "\n",
      "_locationd:*:205:205:Location Daemon:/var/db/locationd:/usr/bin/false\n",
      "\n",
      "_trustevaluationagent:*:208:208:Trust Evaluation Agent:/var/empty:/usr/bin/false\n",
      "\n",
      "_timezone:*:210:210:AutoTimeZoneDaemon:/var/empty:/usr/bin/false\n",
      "\n",
      "_lda:*:211:211:Local Delivery Agent:/var/empty:/usr/bin/false\n",
      "\n",
      "_cvmsroot:*:212:212:CVMS Root:/var/empty:/usr/bin/false\n",
      "\n",
      "_usbmuxd:*:213:213:iPhone OS Device Helper:/var/db/lockdown:/usr/bin/false\n",
      "\n",
      "_dovecot:*:214:6:Dovecot Administrator:/var/empty:/usr/bin/false\n",
      "\n",
      "_dpaudio:*:215:215:DP Audio:/var/empty:/usr/bin/false\n",
      "\n",
      "_postgres:*:216:216:PostgreSQL Server:/var/empty:/usr/bin/false\n",
      "\n",
      "_krbtgt:*:217:-2:Kerberos Ticket Granting Ticket:/var/empty:/usr/bin/false\n",
      "\n",
      "_kadmin_admin:*:218:-2:Kerberos Admin Service:/var/empty:/usr/bin/false\n",
      "\n",
      "_kadmin_changepw:*:219:-2:Kerberos Change Password Service:/var/empty:/usr/bin/false\n",
      "\n",
      "_devicemgr:*:220:220:Device Management Server:/var/empty:/usr/bin/false\n",
      "\n",
      "_webauthserver:*:221:221:Web Auth Server:/var/empty:/usr/bin/false\n",
      "\n",
      "_netbios:*:222:222:NetBIOS:/var/empty:/usr/bin/false\n",
      "\n",
      "_warmd:*:224:224:Warm Daemon:/var/empty:/usr/bin/false\n",
      "\n",
      "_dovenull:*:227:227:Dovecot Authentication:/var/empty:/usr/bin/false\n",
      "\n",
      "_netstatistics:*:228:228:Network Statistics Daemon:/var/empty:/usr/bin/false\n",
      "\n",
      "_avbdeviced:*:229:-2:Ethernet AVB Device Daemon:/var/empty:/usr/bin/false\n",
      "\n",
      "_krb_krbtgt:*:230:-2:Open Directory Kerberos Ticket Granting Ticket:/var/empty:/usr/bin/false\n",
      "\n",
      "_krb_kadmin:*:231:-2:Open Directory Kerberos Admin Service:/var/empty:/usr/bin/false\n",
      "\n",
      "_krb_changepw:*:232:-2:Open Directory Kerberos Change Password Service:/var/empty:/usr/bin/false\n",
      "\n",
      "_krb_kerberos:*:233:-2:Open Directory Kerberos:/var/empty:/usr/bin/false\n",
      "\n",
      "_krb_anonymous:*:234:-2:Open Directory Kerberos Anonymous:/var/empty:/usr/bin/false\n",
      "\n",
      "_assetcache:*:235:235:Asset Cache Service:/var/empty:/usr/bin/false\n",
      "\n",
      "_coremediaiod:*:236:236:Core Media IO Daemon:/var/empty:/usr/bin/false\n",
      "\n",
      "_launchservicesd:*:239:239:_launchservicesd:/var/empty:/usr/bin/false\n",
      "\n",
      "_iconservices:*:240:240:IconServices:/var/empty:/usr/bin/false\n",
      "\n",
      "_distnote:*:241:241:DistNote:/var/empty:/usr/bin/false\n",
      "\n",
      "_nsurlsessiond:*:242:242:NSURLSession Daemon:/var/db/nsurlsessiond:/usr/bin/false\n",
      "\n",
      "_displaypolicyd:*:244:244:Display Policy Daemon:/var/empty:/usr/bin/false\n",
      "\n",
      "_astris:*:245:245:Astris Services:/var/db/astris:/usr/bin/false\n",
      "\n",
      "_krbfast:*:246:-2:Kerberos FAST Account:/var/empty:/usr/bin/false\n",
      "\n",
      "_gamecontrollerd:*:247:247:Game Controller Daemon:/var/empty:/usr/bin/false\n",
      "\n",
      "_mbsetupuser:*:248:248:Setup User:/var/setup:/bin/bash\n",
      "\n",
      "_ondemand:*:249:249:On Demand Resource Daemon:/var/db/ondemand:/usr/bin/false\n",
      "\n",
      "_xserverdocs:*:251:251:macOS Server Documents Service:/var/empty:/usr/bin/false\n",
      "\n",
      "_wwwproxy:*:252:252:WWW Proxy:/var/empty:/usr/bin/false\n",
      "\n",
      "_mobileasset:*:253:253:MobileAsset User:/var/ma:/usr/bin/false\n",
      "\n",
      "_findmydevice:*:254:254:Find My Device Daemon:/var/db/findmydevice:/usr/bin/false\n",
      "\n",
      "_datadetectors:*:257:257:DataDetectors:/var/db/datadetectors:/usr/bin/false\n",
      "\n",
      "_captiveagent:*:258:258:captiveagent:/var/empty:/usr/bin/false\n",
      "\n",
      "_ctkd:*:259:259:ctkd Account:/var/empty:/usr/bin/false\n",
      "\n",
      "_applepay:*:260:260:applepay Account:/var/db/applepay:/usr/bin/false\n",
      "\n",
      "_hidd:*:261:261:HID Service User:/var/db/hidd:/usr/bin/false\n",
      "\n",
      "_cmiodalassistants:*:262:262:CoreMedia IO Assistants User:/var/db/cmiodalassistants:/usr/bin/false\n",
      "\n",
      "_analyticsd:*:263:263:Analytics Daemon:/var/db/analyticsd:/usr/bin/false\n",
      "\n",
      "_fpsd:*:265:265:FPS Daemon:/var/db/fpsd:/usr/bin/false\n",
      "\n",
      "_timed:*:266:266:Time Sync Daemon:/var/db/timed:/usr/bin/false\n",
      "\n",
      "_nearbyd:*:268:268:Proximity and Ranging Daemon:/var/db/nearbyd:/usr/bin/false\n",
      "\n",
      "_reportmemoryexception:*:269:269:ReportMemoryException:/var/db/reportmemoryexception:/usr/bin/false\n",
      "\n",
      "_driverkit:*:270:270:DriverKit:/var/empty:/usr/bin/false\n",
      "\n",
      "_diskimagesiod:*:271:271:DiskImages IO Daemon:/var/db/diskimagesiod:/usr/bin/false\n",
      "\n",
      "_logd:*:272:272:Log Daemon:/var/db/diagnostics:/usr/bin/false\n",
      "\n",
      "_appinstalld:*:273:273:App Install Daemon:/var/db/appinstalld:/usr/bin/false\n",
      "\n",
      "_installcoordinationd:*:274:274:Install Coordination Daemon:/var/db/installcoordinationd:/usr/bin/false\n",
      "\n",
      "_demod:*:275:275:Demo Daemon:/var/empty:/usr/bin/false\n",
      "\n",
      "_rmd:*:277:277:Remote Management Daemon:/var/db/rmd:/usr/bin/false\n",
      "\n",
      "_fud:*:278:278:Firmware Update Daemon:/var/db/fud:/usr/bin/false\n",
      "\n",
      "_knowledgegraphd:*:279:279:Knowledge Graph Daemon:/var/db/knowledgegraphd:/usr/bin/false\n",
      "\n",
      "_coreml:*:280:280:CoreML Services:/var/empty:/usr/bin/false\n",
      "\n",
      "_trustd:*:282:282:trustd:/var/empty:/usr/bin/false\n",
      "\n",
      "_oahd:*:441:441:OAH Daemon:/var/empty:/usr/bin/false\n",
      "\n"
     ]
    }
   ],
   "source": [
    "# a much better way, and more idiomatic way, to read from a file in Python\n",
    "# is to use ... a for loop\n",
    "# if you iterate over a file, you'll get the next line with each iteration\n",
    "# (Each line includes the trailing \\n character)\n",
    "\n",
    "# since each line read from the file includes the \\n at the end\n",
    "# and print adds \\n when it displays something,\n",
    "# printing /etc/passwd ends up being double spaced.\n",
    "\n",
    "for one_line in open('/etc/passwd'):\n",
    "    print(one_line)"
   ]
  },
  {
   "cell_type": "code",
   "execution_count": 92,
   "id": "9ec1eeb9",
   "metadata": {},
   "outputs": [
    {
     "name": "stdout",
     "output_type": "stream",
     "text": [
      "##\n",
      "# User Database\n",
      "#\n",
      "# Note that this file is consulted directly only when the system is running\n",
      "# in single-user mode.  At other times this information is provided by\n",
      "# Open Directory.\n",
      "#\n",
      "# See the opendirectoryd(8) man page for additional information about\n",
      "# Open Directory.\n",
      "##\n",
      "nobody:*:-2:-2:Unprivileged User:/var/empty:/usr/bin/false\n",
      "root:*:0:0:System Administrator:/var/root:/bin/sh\n",
      "daemon:*:1:1:System Services:/var/root:/usr/bin/false\n",
      "_uucp:*:4:4:Unix to Unix Copy Protocol:/var/spool/uucp:/usr/sbin/uucico\n",
      "_taskgated:*:13:13:Task Gate Daemon:/var/empty:/usr/bin/false\n",
      "_networkd:*:24:24:Network Services:/var/networkd:/usr/bin/false\n",
      "_installassistant:*:25:25:Install Assistant:/var/empty:/usr/bin/false\n",
      "_lp:*:26:26:Printing Services:/var/spool/cups:/usr/bin/false\n",
      "_postfix:*:27:27:Postfix Mail Server:/var/spool/postfix:/usr/bin/false\n",
      "_scsd:*:31:31:Service Configuration Service:/var/empty:/usr/bin/false\n",
      "_ces:*:32:32:Certificate Enrollment Service:/var/empty:/usr/bin/false\n",
      "_appstore:*:33:33:Mac App Store Service:/var/db/appstore:/usr/bin/false\n",
      "_mcxalr:*:54:54:MCX AppLaunch:/var/empty:/usr/bin/false\n",
      "_appleevents:*:55:55:AppleEvents Daemon:/var/empty:/usr/bin/false\n",
      "_geod:*:56:56:Geo Services Daemon:/var/db/geod:/usr/bin/false\n",
      "_devdocs:*:59:59:Developer Documentation:/var/empty:/usr/bin/false\n",
      "_sandbox:*:60:60:Seatbelt:/var/empty:/usr/bin/false\n",
      "_mdnsresponder:*:65:65:mDNSResponder:/var/empty:/usr/bin/false\n",
      "_ard:*:67:67:Apple Remote Desktop:/var/empty:/usr/bin/false\n",
      "_www:*:70:70:World Wide Web Server:/Library/WebServer:/usr/bin/false\n",
      "_eppc:*:71:71:Apple Events User:/var/empty:/usr/bin/false\n",
      "_cvs:*:72:72:CVS Server:/var/empty:/usr/bin/false\n",
      "_svn:*:73:73:SVN Server:/var/empty:/usr/bin/false\n",
      "_mysql:*:74:74:MySQL Server:/var/empty:/usr/bin/false\n",
      "_sshd:*:75:75:sshd Privilege separation:/var/empty:/usr/bin/false\n",
      "_qtss:*:76:76:QuickTime Streaming Server:/var/empty:/usr/bin/false\n",
      "_cyrus:*:77:6:Cyrus Administrator:/var/imap:/usr/bin/false\n",
      "_mailman:*:78:78:Mailman List Server:/var/empty:/usr/bin/false\n",
      "_appserver:*:79:79:Application Server:/var/empty:/usr/bin/false\n",
      "_clamav:*:82:82:ClamAV Daemon:/var/virusmails:/usr/bin/false\n",
      "_amavisd:*:83:83:AMaViS Daemon:/var/virusmails:/usr/bin/false\n",
      "_jabber:*:84:84:Jabber XMPP Server:/var/empty:/usr/bin/false\n",
      "_appowner:*:87:87:Application Owner:/var/empty:/usr/bin/false\n",
      "_windowserver:*:88:88:WindowServer:/var/empty:/usr/bin/false\n",
      "_spotlight:*:89:89:Spotlight:/var/empty:/usr/bin/false\n",
      "_tokend:*:91:91:Token Daemon:/var/empty:/usr/bin/false\n",
      "_securityagent:*:92:92:SecurityAgent:/var/db/securityagent:/usr/bin/false\n",
      "_calendar:*:93:93:Calendar:/var/empty:/usr/bin/false\n",
      "_teamsserver:*:94:94:TeamsServer:/var/teamsserver:/usr/bin/false\n",
      "_update_sharing:*:95:-2:Update Sharing:/var/empty:/usr/bin/false\n",
      "_installer:*:96:-2:Installer:/var/empty:/usr/bin/false\n",
      "_atsserver:*:97:97:ATS Server:/var/empty:/usr/bin/false\n",
      "_ftp:*:98:-2:FTP Daemon:/var/empty:/usr/bin/false\n",
      "_unknown:*:99:99:Unknown User:/var/empty:/usr/bin/false\n",
      "_softwareupdate:*:200:200:Software Update Service:/var/db/softwareupdate:/usr/bin/false\n",
      "_coreaudiod:*:202:202:Core Audio Daemon:/var/empty:/usr/bin/false\n",
      "_screensaver:*:203:203:Screensaver:/var/empty:/usr/bin/false\n",
      "_locationd:*:205:205:Location Daemon:/var/db/locationd:/usr/bin/false\n",
      "_trustevaluationagent:*:208:208:Trust Evaluation Agent:/var/empty:/usr/bin/false\n",
      "_timezone:*:210:210:AutoTimeZoneDaemon:/var/empty:/usr/bin/false\n",
      "_lda:*:211:211:Local Delivery Agent:/var/empty:/usr/bin/false\n",
      "_cvmsroot:*:212:212:CVMS Root:/var/empty:/usr/bin/false\n",
      "_usbmuxd:*:213:213:iPhone OS Device Helper:/var/db/lockdown:/usr/bin/false\n",
      "_dovecot:*:214:6:Dovecot Administrator:/var/empty:/usr/bin/false\n",
      "_dpaudio:*:215:215:DP Audio:/var/empty:/usr/bin/false\n",
      "_postgres:*:216:216:PostgreSQL Server:/var/empty:/usr/bin/false\n",
      "_krbtgt:*:217:-2:Kerberos Ticket Granting Ticket:/var/empty:/usr/bin/false\n",
      "_kadmin_admin:*:218:-2:Kerberos Admin Service:/var/empty:/usr/bin/false\n",
      "_kadmin_changepw:*:219:-2:Kerberos Change Password Service:/var/empty:/usr/bin/false\n",
      "_devicemgr:*:220:220:Device Management Server:/var/empty:/usr/bin/false\n",
      "_webauthserver:*:221:221:Web Auth Server:/var/empty:/usr/bin/false\n",
      "_netbios:*:222:222:NetBIOS:/var/empty:/usr/bin/false\n",
      "_warmd:*:224:224:Warm Daemon:/var/empty:/usr/bin/false\n",
      "_dovenull:*:227:227:Dovecot Authentication:/var/empty:/usr/bin/false\n",
      "_netstatistics:*:228:228:Network Statistics Daemon:/var/empty:/usr/bin/false\n",
      "_avbdeviced:*:229:-2:Ethernet AVB Device Daemon:/var/empty:/usr/bin/false\n",
      "_krb_krbtgt:*:230:-2:Open Directory Kerberos Ticket Granting Ticket:/var/empty:/usr/bin/false\n",
      "_krb_kadmin:*:231:-2:Open Directory Kerberos Admin Service:/var/empty:/usr/bin/false\n",
      "_krb_changepw:*:232:-2:Open Directory Kerberos Change Password Service:/var/empty:/usr/bin/false\n",
      "_krb_kerberos:*:233:-2:Open Directory Kerberos:/var/empty:/usr/bin/false\n",
      "_krb_anonymous:*:234:-2:Open Directory Kerberos Anonymous:/var/empty:/usr/bin/false\n",
      "_assetcache:*:235:235:Asset Cache Service:/var/empty:/usr/bin/false\n",
      "_coremediaiod:*:236:236:Core Media IO Daemon:/var/empty:/usr/bin/false\n",
      "_launchservicesd:*:239:239:_launchservicesd:/var/empty:/usr/bin/false\n",
      "_iconservices:*:240:240:IconServices:/var/empty:/usr/bin/false\n",
      "_distnote:*:241:241:DistNote:/var/empty:/usr/bin/false\n",
      "_nsurlsessiond:*:242:242:NSURLSession Daemon:/var/db/nsurlsessiond:/usr/bin/false\n",
      "_displaypolicyd:*:244:244:Display Policy Daemon:/var/empty:/usr/bin/false\n",
      "_astris:*:245:245:Astris Services:/var/db/astris:/usr/bin/false\n",
      "_krbfast:*:246:-2:Kerberos FAST Account:/var/empty:/usr/bin/false\n",
      "_gamecontrollerd:*:247:247:Game Controller Daemon:/var/empty:/usr/bin/false\n",
      "_mbsetupuser:*:248:248:Setup User:/var/setup:/bin/bash\n",
      "_ondemand:*:249:249:On Demand Resource Daemon:/var/db/ondemand:/usr/bin/false\n",
      "_xserverdocs:*:251:251:macOS Server Documents Service:/var/empty:/usr/bin/false\n",
      "_wwwproxy:*:252:252:WWW Proxy:/var/empty:/usr/bin/false\n",
      "_mobileasset:*:253:253:MobileAsset User:/var/ma:/usr/bin/false\n",
      "_findmydevice:*:254:254:Find My Device Daemon:/var/db/findmydevice:/usr/bin/false\n",
      "_datadetectors:*:257:257:DataDetectors:/var/db/datadetectors:/usr/bin/false\n",
      "_captiveagent:*:258:258:captiveagent:/var/empty:/usr/bin/false\n",
      "_ctkd:*:259:259:ctkd Account:/var/empty:/usr/bin/false\n",
      "_applepay:*:260:260:applepay Account:/var/db/applepay:/usr/bin/false\n",
      "_hidd:*:261:261:HID Service User:/var/db/hidd:/usr/bin/false\n",
      "_cmiodalassistants:*:262:262:CoreMedia IO Assistants User:/var/db/cmiodalassistants:/usr/bin/false\n",
      "_analyticsd:*:263:263:Analytics Daemon:/var/db/analyticsd:/usr/bin/false\n",
      "_fpsd:*:265:265:FPS Daemon:/var/db/fpsd:/usr/bin/false\n",
      "_timed:*:266:266:Time Sync Daemon:/var/db/timed:/usr/bin/false\n",
      "_nearbyd:*:268:268:Proximity and Ranging Daemon:/var/db/nearbyd:/usr/bin/false\n",
      "_reportmemoryexception:*:269:269:ReportMemoryException:/var/db/reportmemoryexception:/usr/bin/false\n",
      "_driverkit:*:270:270:DriverKit:/var/empty:/usr/bin/false\n",
      "_diskimagesiod:*:271:271:DiskImages IO Daemon:/var/db/diskimagesiod:/usr/bin/false\n",
      "_logd:*:272:272:Log Daemon:/var/db/diagnostics:/usr/bin/false\n",
      "_appinstalld:*:273:273:App Install Daemon:/var/db/appinstalld:/usr/bin/false\n",
      "_installcoordinationd:*:274:274:Install Coordination Daemon:/var/db/installcoordinationd:/usr/bin/false\n",
      "_demod:*:275:275:Demo Daemon:/var/empty:/usr/bin/false\n",
      "_rmd:*:277:277:Remote Management Daemon:/var/db/rmd:/usr/bin/false\n",
      "_fud:*:278:278:Firmware Update Daemon:/var/db/fud:/usr/bin/false\n",
      "_knowledgegraphd:*:279:279:Knowledge Graph Daemon:/var/db/knowledgegraphd:/usr/bin/false\n",
      "_coreml:*:280:280:CoreML Services:/var/empty:/usr/bin/false\n",
      "_trustd:*:282:282:trustd:/var/empty:/usr/bin/false\n",
      "_oahd:*:441:441:OAH Daemon:/var/empty:/usr/bin/false\n"
     ]
    }
   ],
   "source": [
    "# remove the newline from the end of each line, and print \n",
    "for one_line in open('/etc/passwd'):\n",
    "    print(one_line.strip())"
   ]
  },
  {
   "cell_type": "code",
   "execution_count": 93,
   "id": "14542592",
   "metadata": {},
   "outputs": [
    {
     "name": "stdout",
     "output_type": "stream",
     "text": [
      "##\n",
      "\n",
      "# User Database\n",
      "\n",
      "# \n",
      "\n",
      "# Note that this file is consulted directly only when the system is running\n",
      "\n",
      "# in single-user mode.  At other times this information is provided by\n",
      "\n",
      "# Open Directory.\n",
      "\n",
      "#\n",
      "\n",
      "# See the opendirectoryd(8) man page for additional information about\n",
      "\n",
      "# Open Directory.\n",
      "\n",
      "##\n",
      "\n",
      "nobody\n",
      "root\n",
      "daemon\n",
      "_uucp\n",
      "_taskgated\n",
      "_networkd\n",
      "_installassistant\n",
      "_lp\n",
      "_postfix\n",
      "_scsd\n",
      "_ces\n",
      "_appstore\n",
      "_mcxalr\n",
      "_appleevents\n",
      "_geod\n",
      "_devdocs\n",
      "_sandbox\n",
      "_mdnsresponder\n",
      "_ard\n",
      "_www\n",
      "_eppc\n",
      "_cvs\n",
      "_svn\n",
      "_mysql\n",
      "_sshd\n",
      "_qtss\n",
      "_cyrus\n",
      "_mailman\n",
      "_appserver\n",
      "_clamav\n",
      "_amavisd\n",
      "_jabber\n",
      "_appowner\n",
      "_windowserver\n",
      "_spotlight\n",
      "_tokend\n",
      "_securityagent\n",
      "_calendar\n",
      "_teamsserver\n",
      "_update_sharing\n",
      "_installer\n",
      "_atsserver\n",
      "_ftp\n",
      "_unknown\n",
      "_softwareupdate\n",
      "_coreaudiod\n",
      "_screensaver\n",
      "_locationd\n",
      "_trustevaluationagent\n",
      "_timezone\n",
      "_lda\n",
      "_cvmsroot\n",
      "_usbmuxd\n",
      "_dovecot\n",
      "_dpaudio\n",
      "_postgres\n",
      "_krbtgt\n",
      "_kadmin_admin\n",
      "_kadmin_changepw\n",
      "_devicemgr\n",
      "_webauthserver\n",
      "_netbios\n",
      "_warmd\n",
      "_dovenull\n",
      "_netstatistics\n",
      "_avbdeviced\n",
      "_krb_krbtgt\n",
      "_krb_kadmin\n",
      "_krb_changepw\n",
      "_krb_kerberos\n",
      "_krb_anonymous\n",
      "_assetcache\n",
      "_coremediaiod\n",
      "_launchservicesd\n",
      "_iconservices\n",
      "_distnote\n",
      "_nsurlsessiond\n",
      "_displaypolicyd\n",
      "_astris\n",
      "_krbfast\n",
      "_gamecontrollerd\n",
      "_mbsetupuser\n",
      "_ondemand\n",
      "_xserverdocs\n",
      "_wwwproxy\n",
      "_mobileasset\n",
      "_findmydevice\n",
      "_datadetectors\n",
      "_captiveagent\n",
      "_ctkd\n",
      "_applepay\n",
      "_hidd\n",
      "_cmiodalassistants\n",
      "_analyticsd\n",
      "_fpsd\n",
      "_timed\n",
      "_nearbyd\n",
      "_reportmemoryexception\n",
      "_driverkit\n",
      "_diskimagesiod\n",
      "_logd\n",
      "_appinstalld\n",
      "_installcoordinationd\n",
      "_demod\n",
      "_rmd\n",
      "_fud\n",
      "_knowledgegraphd\n",
      "_coreml\n",
      "_trustd\n",
      "_oahd\n"
     ]
    }
   ],
   "source": [
    "# what if I just want to print the usernames on the system?\n",
    "\n",
    "for one_line in open('/etc/passwd'):\n",
    "    fields = one_line.split(':')  # use : on each line to break things into a list of strings\n",
    "    print(fields[0])    # print the first element in the list, aka the username"
   ]
  },
  {
   "cell_type": "code",
   "execution_count": 96,
   "id": "b5a3b70b",
   "metadata": {},
   "outputs": [
    {
     "name": "stdout",
     "output_type": "stream",
     "text": [
      "nobody\n",
      "root\n",
      "daemon\n",
      "_uucp\n",
      "_taskgated\n",
      "_networkd\n",
      "_installassistant\n",
      "_lp\n",
      "_postfix\n",
      "_scsd\n",
      "_ces\n",
      "_appstore\n",
      "_mcxalr\n",
      "_appleevents\n",
      "_geod\n",
      "_devdocs\n",
      "_sandbox\n",
      "_mdnsresponder\n",
      "_ard\n",
      "_www\n",
      "_eppc\n",
      "_cvs\n",
      "_svn\n",
      "_mysql\n",
      "_sshd\n",
      "_qtss\n",
      "_cyrus\n",
      "_mailman\n",
      "_appserver\n",
      "_clamav\n",
      "_amavisd\n",
      "_jabber\n",
      "_appowner\n",
      "_windowserver\n",
      "_spotlight\n",
      "_tokend\n",
      "_securityagent\n",
      "_calendar\n",
      "_teamsserver\n",
      "_update_sharing\n",
      "_installer\n",
      "_atsserver\n",
      "_ftp\n",
      "_unknown\n",
      "_softwareupdate\n",
      "_coreaudiod\n",
      "_screensaver\n",
      "_locationd\n",
      "_trustevaluationagent\n",
      "_timezone\n",
      "_lda\n",
      "_cvmsroot\n",
      "_usbmuxd\n",
      "_dovecot\n",
      "_dpaudio\n",
      "_postgres\n",
      "_krbtgt\n",
      "_kadmin_admin\n",
      "_kadmin_changepw\n",
      "_devicemgr\n",
      "_webauthserver\n",
      "_netbios\n",
      "_warmd\n",
      "_dovenull\n",
      "_netstatistics\n",
      "_avbdeviced\n",
      "_krb_krbtgt\n",
      "_krb_kadmin\n",
      "_krb_changepw\n",
      "_krb_kerberos\n",
      "_krb_anonymous\n",
      "_assetcache\n",
      "_coremediaiod\n",
      "_launchservicesd\n",
      "_iconservices\n",
      "_distnote\n",
      "_nsurlsessiond\n",
      "_displaypolicyd\n",
      "_astris\n",
      "_krbfast\n",
      "_gamecontrollerd\n",
      "_mbsetupuser\n",
      "_ondemand\n",
      "_xserverdocs\n",
      "_wwwproxy\n",
      "_mobileasset\n",
      "_findmydevice\n",
      "_datadetectors\n",
      "_captiveagent\n",
      "_ctkd\n",
      "_applepay\n",
      "_hidd\n",
      "_cmiodalassistants\n",
      "_analyticsd\n",
      "_fpsd\n",
      "_timed\n",
      "_nearbyd\n",
      "_reportmemoryexception\n",
      "_driverkit\n",
      "_diskimagesiod\n",
      "_logd\n",
      "_appinstalld\n",
      "_installcoordinationd\n",
      "_demod\n",
      "_rmd\n",
      "_fud\n",
      "_knowledgegraphd\n",
      "_coreml\n",
      "_trustd\n",
      "_oahd\n"
     ]
    }
   ],
   "source": [
    "# very common idiom for:\n",
    "# (1) opening a file\n",
    "# (2) going through each line\n",
    "# (3) ignoring of the lines that we don't care about\n",
    "# (4) breaking each line into parts\n",
    "# (5) printing the part that's of interest to us\n",
    "\n",
    "for one_line in open('/etc/passwd'):\n",
    "    if not one_line.startswith('#'): # startswith asks: does the string start with this argument?\n",
    "        fields = one_line.split(':')  # use : on each line to break things into a list of strings\n",
    "        print(fields[0])    # print the first element in the list, aka the username"
   ]
  },
  {
   "cell_type": "markdown",
   "id": "81e94d8c",
   "metadata": {},
   "source": [
    "# Exercise: Summing numbers\n",
    "\n",
    "In the zipfile I provided, there's a file called `nums.txt`. Each line of that file contains an optional integer, as well as some whitespace (meaning: `\\n`, `\\t`, and spaces).\n",
    "\n",
    "1. Define `total` to be 0\n",
    "2. Go through the file `nums.txt`, one line at a time\n",
    "3. Check: Can we turn the current line, after removing spaces, into an integer?\n",
    "4. If so, then do so, and add the int to `total`\n",
    "5. Print `total`.\n"
   ]
  },
  {
   "cell_type": "code",
   "execution_count": 97,
   "id": "53dfb800",
   "metadata": {},
   "outputs": [
    {
     "name": "stdout",
     "output_type": "stream",
     "text": [
      "5\r\n",
      "\t10     \r\n",
      "\t20\r\n",
      "  \t3\r\n",
      "\t\t   \t20        \r\n",
      "\r\n",
      " 25\r\n"
     ]
    }
   ],
   "source": [
    "# On Unix, we can use \"cat\" to look at a file\n",
    "# In Jupyter, we can use ! at the start of a line to execute programs\n",
    "!cat nums.txt"
   ]
  },
  {
   "cell_type": "code",
   "execution_count": 103,
   "id": "cffdcf82",
   "metadata": {},
   "outputs": [
    {
     "name": "stdout",
     "output_type": "stream",
     "text": [
      "83\n"
     ]
    }
   ],
   "source": [
    "total = 0\n",
    "for one_line in open('nums.txt'):\n",
    "    if one_line.strip() != '':         # after removing whitespace, do we have a non-empty string?\n",
    "        total += int(one_line.strip())   # if so, print the integer we got from that line\n",
    "print(total)        "
   ]
  },
  {
   "cell_type": "code",
   "execution_count": 104,
   "id": "e2dd74a4",
   "metadata": {},
   "outputs": [
    {
     "name": "stdout",
     "output_type": "stream",
     "text": [
      "83\n"
     ]
    }
   ],
   "source": [
    "# slight change, probably easier to understand\n",
    "\n",
    "total = 0\n",
    "for one_line in open('nums.txt'):\n",
    "    if one_line.strip().isdigit():       # after removing whitespace, do we have digits only?\n",
    "        total += int(one_line.strip())   # if so, print the integer we got from that line\n",
    "print(total)        "
   ]
  },
  {
   "cell_type": "markdown",
   "id": "71529281",
   "metadata": {},
   "source": [
    "# Next up\n",
    "\n",
    "1. Reading from files, counting in dicts\n",
    "2. Writing to files\n",
    "\n"
   ]
  },
  {
   "cell_type": "code",
   "execution_count": 105,
   "id": "5d1f1ec2",
   "metadata": {},
   "outputs": [],
   "source": [
    "f = open('/etc/passwd')\n",
    "\n",
    "f.close()   # good to do when reading"
   ]
  },
  {
   "cell_type": "code",
   "execution_count": 106,
   "id": "12ec8f4b",
   "metadata": {
    "collapsed": true
   },
   "outputs": [
    {
     "name": "stdout",
     "output_type": "stream",
     "text": [
      "3\n",
      "16\n",
      "3\n",
      "76\n",
      "71\n",
      "18\n",
      "2\n",
      "70\n",
      "18\n",
      "3\n",
      "59\n",
      "50\n",
      "54\n",
      "72\n",
      "62\n",
      "64\n",
      "70\n",
      "61\n",
      "71\n",
      "70\n",
      "70\n",
      "72\n",
      "56\n",
      "66\n",
      "62\n",
      "67\n",
      "52\n",
      "63\n",
      "60\n",
      "69\n",
      "58\n",
      "50\n",
      "50\n",
      "54\n",
      "66\n",
      "67\n",
      "59\n",
      "63\n",
      "64\n",
      "61\n",
      "62\n",
      "61\n",
      "62\n",
      "61\n",
      "55\n",
      "55\n",
      "74\n",
      "53\n",
      "65\n",
      "65\n",
      "55\n",
      "56\n",
      "50\n",
      "56\n",
      "88\n",
      "66\n",
      "61\n",
      "70\n",
      "81\n",
      "65\n",
      "62\n",
      "56\n",
      "75\n",
      "65\n",
      "54\n",
      "64\n",
      "75\n",
      "72\n",
      "85\n",
      "72\n",
      "67\n",
      "53\n",
      "55\n",
      "69\n",
      "77\n",
      "74\n",
      "94\n",
      "85\n",
      "97\n",
      "73\n",
      "84\n",
      "68\n",
      "71\n",
      "70\n",
      "63\n",
      "55\n",
      "82\n",
      "74\n",
      "64\n",
      "66\n",
      "76\n",
      "55\n",
      "78\n",
      "80\n",
      "56\n",
      "63\n",
      "82\n",
      "76\n",
      "63\n",
      "55\n",
      "69\n",
      "61\n",
      "99\n",
      "73\n",
      "55\n",
      "63\n",
      "79\n",
      "100\n",
      "57\n",
      "83\n",
      "62\n",
      "77\n",
      "104\n",
      "55\n",
      "67\n",
      "65\n",
      "89\n",
      "60\n",
      "51\n",
      "53\n"
     ]
    }
   ],
   "source": [
    "# here, our file is closed automatically\n",
    "# because the only reference to it is in the \"for\" loop\n",
    "# when the loop exits/ends, the reference to the file object disappears,\n",
    "# and the file can be closed automatically by Python\n",
    "\n",
    "for one_line in open('/etc/passwd'):\n",
    "    print(len(one_line))"
   ]
  },
  {
   "cell_type": "code",
   "execution_count": 1,
   "id": "903cbb46",
   "metadata": {},
   "outputs": [
    {
     "name": "stdout",
     "output_type": "stream",
     "text": [
      "friendly_traceback 0.5.11; friendly 0.5.5.\n",
      "Type 'Friendly' for basic help.\n"
     ]
    }
   ],
   "source": [
    "# you can install friendly using pip on your computer (not inside of Jupyter!)\n",
    "# pip install friendly\n",
    "\n",
    "# after doing that, in Jupyter, you can say:\n",
    "from friendly.jupyter import Friendly"
   ]
  },
  {
   "cell_type": "code",
   "execution_count": 2,
   "id": "1cfa74b4",
   "metadata": {
    "scrolled": true
   },
   "outputs": [
    {
     "data": {
      "text/html": [
       "<div id='friendly-message1'><pre style='white-space:pre;overflow-x:auto;line-height:normal'><span style=\"color: #dd0000; text-decoration-color: #dd0000; background-color: #ffffff\">NameError</span>: name 'namee' is not defined. Did you mean: 'name'?         \n",
       "</pre></div>"
      ],
      "text/plain": [
       "\u001b[38;2;221;0;0;48;2;255;255;255mNameError\u001b[0m: name 'namee' is not defined. Did you mean: 'name'?         \n"
      ]
     },
     "metadata": {},
     "output_type": "display_data"
    },
    {
     "data": {
      "text/html": [
       "\n",
       "        <button\n",
       "            id='friendly-tb-btn-show1'\n",
       "            onclick='friendly_toggle_more1()'\n",
       "            style=''>\n",
       "        More ...\n",
       "        </button>\n",
       "        <script type=\"text/Javascript\"> function friendly_toggle_more1(){\n",
       "        var btn = document.getElementById('friendly-tb-btn-show1');\n",
       "        var btn_what = document.getElementById('friendly-tb-btn-show-what1');\n",
       "        var btn_where = document.getElementById('friendly-tb-btn-show-where1');\n",
       "        var btn_why = document.getElementById('friendly-tb-btn-show-why1');\n",
       "        var message = document.getElementById('friendly-message1');\n",
       "        var friendly_tb_content = document.getElementById('friendly-tb-friendly_tb-content1');\n",
       "        var what_content = document.getElementById('friendly-tb-what-content1');\n",
       "        var why_content = document.getElementById('friendly-tb-why-content1');\n",
       "        var where_content = document.getElementById('friendly-tb-where-content1');\n",
       "\n",
       "        if (btn_what.style.display == 'none'){\n",
       "            message.style.display = 'none';\n",
       "            btn_what.style.display = 'block';\n",
       "            btn_why.style.display = 'block';\n",
       "            btn_where.style.display = 'block';\n",
       "            friendly_tb_content.style.display = 'block';\n",
       "            btn.textContent = \"Show message only\";\n",
       "        } else {\n",
       "            btn_what.style.display = 'none';\n",
       "            btn_what.textContent = 'what()';\n",
       "            btn_why.style.display = 'none';\n",
       "            btn_why.textContent = 'why()';\n",
       "            btn_where.style.display = 'none';\n",
       "            btn_where.textContent = 'where()';\n",
       "            what_content.style.display = 'none';\n",
       "            why_content.style.display = 'none';\n",
       "            where_content.style.display = 'none';\n",
       "            friendly_tb_content.style.display = 'none';\n",
       "            message.style.display = 'block';\n",
       "            btn.textContent = \"More ...\";\n",
       "        }\n",
       "        };\n",
       "        </script>\n",
       "        "
      ]
     },
     "metadata": {},
     "output_type": "display_data"
    },
    {
     "data": {
      "text/html": [
       "<div id='friendly-tb-friendly_tb-content1' style='display:none'><pre style='white-space:pre;overflow-x:auto;line-height:normal'><span style=\"color: #dd0000; text-decoration-color: #dd0000; background-color: #ffffff\">Traceback (most recent call last):</span><span style=\"background-color: #ffffff\">                                                                  </span>\n",
       "<span style=\"color: #101010; text-decoration-color: #101010; background-color: #ffffff\">  Code block </span><span style=\"color: #783114; text-decoration-color: #783114; background-color: #ffffff\">[</span><span style=\"color: #101010; text-decoration-color: #101010; background-color: #ffffff\">2</span><span style=\"color: #783114; text-decoration-color: #783114; background-color: #ffffff\">]</span><span style=\"color: #101010; text-decoration-color: #101010; background-color: #ffffff\">, line 2, in </span><span style=\"color: #0011aa; text-decoration-color: #0011aa; background-color: #ffffff\">&lt;module&gt;</span><span style=\"background-color: #ffffff\">                                                               </span>\n",
       "<span style=\"color: #101010; text-decoration-color: #101010; background-color: #ffffff\">    </span><span style=\"color: #005500; text-decoration-color: #005500; background-color: #ffffff\">print</span><span style=\"color: #783114; text-decoration-color: #783114; background-color: #ffffff\">(</span><span style=\"color: #0011aa; text-decoration-color: #0011aa; background-color: #ffffff\">namee</span><span style=\"color: #783114; text-decoration-color: #783114; background-color: #ffffff\">)</span><span style=\"background-color: #ffffff\">                                                                                    </span>\n",
       "<span style=\"color: #dd0000; text-decoration-color: #dd0000; background-color: #ffffff\">NameError</span><span style=\"color: #101010; text-decoration-color: #101010; background-color: #ffffff\">: </span><span style=\"color: #0011aa; text-decoration-color: #0011aa; background-color: #ffffff\">name 'namee' is not defined. Did you mean: 'name'?</span><span style=\"background-color: #ffffff\">                                       </span>\n",
       "\n",
       "Did you mean <span style=\"color: #0011aa; text-decoration-color: #0011aa; background-color: #ffffff\">name</span>?                                                                                  \n",
       "</pre></div>"
      ],
      "text/plain": [
       "\u001b[38;2;221;0;0;48;2;255;255;255mTraceback (most recent call last):\u001b[0m\u001b[48;2;255;255;255m                                                                  \u001b[0m\n",
       "\u001b[38;2;16;16;16;48;2;255;255;255m  Code block \u001b[0m\u001b[38;2;120;49;20;48;2;255;255;255m[\u001b[0m\u001b[38;2;16;16;16;48;2;255;255;255m2\u001b[0m\u001b[38;2;120;49;20;48;2;255;255;255m]\u001b[0m\u001b[38;2;16;16;16;48;2;255;255;255m, line \u001b[0m\u001b[38;2;16;16;16;48;2;255;255;255m2\u001b[0m\u001b[38;2;16;16;16;48;2;255;255;255m, in \u001b[0m\u001b[38;2;0;17;170;48;2;255;255;255m<module>\u001b[0m\u001b[48;2;255;255;255m                                                               \u001b[0m\n",
       "\u001b[38;2;16;16;16;48;2;255;255;255m    \u001b[0m\u001b[38;2;0;85;0;48;2;255;255;255mprint\u001b[0m\u001b[38;2;120;49;20;48;2;255;255;255m(\u001b[0m\u001b[38;2;0;17;170;48;2;255;255;255mnamee\u001b[0m\u001b[38;2;120;49;20;48;2;255;255;255m)\u001b[0m\u001b[48;2;255;255;255m                                                                                    \u001b[0m\n",
       "\u001b[38;2;221;0;0;48;2;255;255;255mNameError\u001b[0m\u001b[38;2;16;16;16;48;2;255;255;255m: \u001b[0m\u001b[38;2;0;17;170;48;2;255;255;255mname 'namee' is not defined. Did you mean: 'name'?\u001b[0m\u001b[48;2;255;255;255m                                       \u001b[0m\n",
       "\n",
       "Did you mean \u001b[38;2;0;17;170;48;2;255;255;255mname\u001b[0m?                                                                                  \n"
      ]
     },
     "metadata": {},
     "output_type": "display_data"
    },
    {
     "data": {
      "text/html": [
       "<script type=\"text/Javascript\"> function toggle_what1(){\n",
       "     var content = document.getElementById('friendly-tb-what-content1');\n",
       "     var btn = document.getElementById('friendly-tb-btn-show-what1');\n",
       "        if (content.style.display === 'none') {\n",
       "            content.style.display = 'block';\n",
       "            btn.textContent = \"Hide what()\";\n",
       "        } else {\n",
       "            content.style.display = 'none';\n",
       "            btn.textContent = \"what()\";\n",
       "       }\n",
       "    }\n",
       "     </script>\n",
       "     <button\n",
       "         id='friendly-tb-btn-show-what1'\n",
       "         onclick='toggle_what1()'\n",
       "         style='display:none '>\n",
       "     what()\n",
       "     </button>\n",
       "    "
      ]
     },
     "metadata": {},
     "output_type": "display_data"
    },
    {
     "data": {
      "text/html": [
       "<div id='friendly-tb-what-content1' style='display:none'><pre style='white-space:pre;overflow-x:auto;line-height:normal'>A <span style=\"color: #dd0000; text-decoration-color: #dd0000; background-color: #ffffff\">NameError</span> exception indicates that a variable or function name is   \n",
       "not known to Python. Most often, this is because there is a spelling  \n",
       "mistake. However, sometimes it is because the name is used before     \n",
       "being defined or given a value.                                       \n",
       "</pre></div>"
      ],
      "text/plain": [
       "A \u001b[38;2;221;0;0;48;2;255;255;255mNameError\u001b[0m exception indicates that a variable or function name is   \n",
       "not known to Python. Most often, this is because there is a spelling  \n",
       "mistake. However, sometimes it is because the name is used before     \n",
       "being defined or given a value.                                       \n"
      ]
     },
     "metadata": {},
     "output_type": "display_data"
    },
    {
     "data": {
      "text/html": [
       "<script type=\"text/Javascript\"> function toggle_why1(){\n",
       "     var content = document.getElementById('friendly-tb-why-content1');\n",
       "     var btn = document.getElementById('friendly-tb-btn-show-why1');\n",
       "        if (content.style.display === 'none') {\n",
       "            content.style.display = 'block';\n",
       "            btn.textContent = \"Hide why()\";\n",
       "        } else {\n",
       "            content.style.display = 'none';\n",
       "            btn.textContent = \"why()\";\n",
       "       }\n",
       "    }\n",
       "     </script>\n",
       "     <button\n",
       "         id='friendly-tb-btn-show-why1'\n",
       "         onclick='toggle_why1()'\n",
       "         style='display:none '>\n",
       "     why()\n",
       "     </button>\n",
       "    "
      ]
     },
     "metadata": {},
     "output_type": "display_data"
    },
    {
     "data": {
      "text/html": [
       "<div id='friendly-tb-why-content1' style='display:none'><pre style='white-space:pre;overflow-x:auto;line-height:normal'>In your program, no object with the name <span style=\"color: #0011aa; text-decoration-color: #0011aa; background-color: #ffffff\">namee</span> exists. The similar    \n",
       "name <span style=\"color: #0011aa; text-decoration-color: #0011aa; background-color: #ffffff\">name</span> was found in the local scope.                               \n",
       "</pre></div>"
      ],
      "text/plain": [
       "In your program, no object with the name \u001b[38;2;0;17;170;48;2;255;255;255mnamee\u001b[0m exists. The similar    \n",
       "name \u001b[38;2;0;17;170;48;2;255;255;255mname\u001b[0m was found in the local scope.                               \n"
      ]
     },
     "metadata": {},
     "output_type": "display_data"
    },
    {
     "data": {
      "text/html": [
       "<script type=\"text/Javascript\"> function toggle_where1(){\n",
       "     var content = document.getElementById('friendly-tb-where-content1');\n",
       "     var btn = document.getElementById('friendly-tb-btn-show-where1');\n",
       "        if (content.style.display === 'none') {\n",
       "            content.style.display = 'block';\n",
       "            btn.textContent = \"Hide where()\";\n",
       "        } else {\n",
       "            content.style.display = 'none';\n",
       "            btn.textContent = \"where()\";\n",
       "       }\n",
       "    }\n",
       "     </script>\n",
       "     <button\n",
       "         id='friendly-tb-btn-show-where1'\n",
       "         onclick='toggle_where1()'\n",
       "         style='display:none '>\n",
       "     where()\n",
       "     </button>\n",
       "    "
      ]
     },
     "metadata": {},
     "output_type": "display_data"
    },
    {
     "data": {
      "text/html": [
       "<div id='friendly-tb-where-content1' style='display:none'><pre style='white-space:pre;overflow-x:auto;line-height:normal'><span style=\"color: #dd0000; text-decoration-color: #dd0000\">Exception raised on line 2 of code block </span><span style=\"color: #783114; text-decoration-color: #783114; background-color: #ffffff\">[</span><span style=\"color: #101010; text-decoration-color: #101010; background-color: #ffffff\">2</span><span style=\"color: #783114; text-decoration-color: #783114; background-color: #ffffff\">]</span><span style=\"color: #dd0000; text-decoration-color: #dd0000\">.</span>                                                       \n",
       "\n",
       "<span style=\"color: #101010; text-decoration-color: #101010; background-color: #ffffff\">       1</span><span style=\"color: #783114; text-decoration-color: #783114; background-color: #ffffff\">:</span><span style=\"color: #101010; text-decoration-color: #101010; background-color: #ffffff\"> </span><span style=\"color: #0011aa; text-decoration-color: #0011aa; background-color: #ffffff\">name</span><span style=\"color: #101010; text-decoration-color: #101010; background-color: #ffffff\"> </span><span style=\"color: #783114; text-decoration-color: #783114; background-color: #ffffff\">=</span><span style=\"color: #101010; text-decoration-color: #101010; background-color: #ffffff\"> </span><span style=\"color: #8b008b; text-decoration-color: #8b008b; background-color: #ffffff\">'Reuven'</span><span style=\"background-color: #ffffff\">                                                                           </span>\n",
       "<span style=\"color: #101010; text-decoration-color: #101010; background-color: #ffffff\">    </span><span style=\"color: #783114; text-decoration-color: #783114; background-color: #ffffff\">--&gt;</span><span style=\"color: #101010; text-decoration-color: #101010; background-color: #ffffff\">2</span><span style=\"color: #783114; text-decoration-color: #783114; background-color: #ffffff\">:</span><span style=\"color: #101010; text-decoration-color: #101010; background-color: #ffffff\"> </span><span style=\"color: #005500; text-decoration-color: #005500; background-color: #ffffff\">print</span><span style=\"color: #783114; text-decoration-color: #783114; background-color: #ffffff\">(</span><span style=\"color: #0011aa; text-decoration-color: #0011aa; background-color: #ffffff\">namee</span><span style=\"color: #783114; text-decoration-color: #783114; background-color: #ffffff\">)</span><span style=\"background-color: #ffffff\">                                                                              </span>\n",
       "<span style=\"color: #101010; text-decoration-color: #101010; background-color: #ffffff\">                </span><span style=\"color: #783114; text-decoration-color: #783114; background-color: #ffffff\">^^^^^</span><span style=\"background-color: #ffffff\">                                                                               </span>\n",
       "</pre></div>"
      ],
      "text/plain": [
       "\u001b[38;2;221;0;0mException raised on line 2 of code block \u001b[0m\u001b[38;2;120;49;20;48;2;255;255;255m[\u001b[0m\u001b[38;2;16;16;16;48;2;255;255;255m2\u001b[0m\u001b[38;2;120;49;20;48;2;255;255;255m]\u001b[0m\u001b[38;2;221;0;0m.\u001b[0m                                                       \n",
       "\n",
       "\u001b[38;2;16;16;16;48;2;255;255;255m       \u001b[0m\u001b[38;2;16;16;16;48;2;255;255;255m1\u001b[0m\u001b[38;2;120;49;20;48;2;255;255;255m:\u001b[0m\u001b[38;2;16;16;16;48;2;255;255;255m \u001b[0m\u001b[38;2;0;17;170;48;2;255;255;255mname\u001b[0m\u001b[38;2;16;16;16;48;2;255;255;255m \u001b[0m\u001b[38;2;120;49;20;48;2;255;255;255m=\u001b[0m\u001b[38;2;16;16;16;48;2;255;255;255m \u001b[0m\u001b[38;2;139;0;139;48;2;255;255;255m'\u001b[0m\u001b[38;2;139;0;139;48;2;255;255;255mReuven\u001b[0m\u001b[38;2;139;0;139;48;2;255;255;255m'\u001b[0m\u001b[48;2;255;255;255m                                                                           \u001b[0m\n",
       "\u001b[38;2;16;16;16;48;2;255;255;255m    \u001b[0m\u001b[38;2;120;49;20;48;2;255;255;255m-\u001b[0m\u001b[38;2;120;49;20;48;2;255;255;255m-\u001b[0m\u001b[38;2;120;49;20;48;2;255;255;255m>\u001b[0m\u001b[38;2;16;16;16;48;2;255;255;255m2\u001b[0m\u001b[38;2;120;49;20;48;2;255;255;255m:\u001b[0m\u001b[38;2;16;16;16;48;2;255;255;255m \u001b[0m\u001b[38;2;0;85;0;48;2;255;255;255mprint\u001b[0m\u001b[38;2;120;49;20;48;2;255;255;255m(\u001b[0m\u001b[38;2;0;17;170;48;2;255;255;255mnamee\u001b[0m\u001b[38;2;120;49;20;48;2;255;255;255m)\u001b[0m\u001b[48;2;255;255;255m                                                                              \u001b[0m\n",
       "\u001b[38;2;16;16;16;48;2;255;255;255m                \u001b[0m\u001b[38;2;120;49;20;48;2;255;255;255m^\u001b[0m\u001b[38;2;120;49;20;48;2;255;255;255m^\u001b[0m\u001b[38;2;120;49;20;48;2;255;255;255m^\u001b[0m\u001b[38;2;120;49;20;48;2;255;255;255m^\u001b[0m\u001b[38;2;120;49;20;48;2;255;255;255m^\u001b[0m\u001b[48;2;255;255;255m                                                                               \u001b[0m\n"
      ]
     },
     "metadata": {},
     "output_type": "display_data"
    }
   ],
   "source": [
    "name = 'Reuven'\n",
    "print(namee)"
   ]
  },
  {
   "cell_type": "code",
   "execution_count": 4,
   "id": "4874ab09",
   "metadata": {},
   "outputs": [
    {
     "data": {
      "text/html": [
       "<div id='friendly-message3'><pre style='white-space:pre;overflow-x:auto;line-height:normal'><span style=\"color: #dd0000; text-decoration-color: #dd0000; background-color: #ffffff\">FileNotFoundError</span>: [Errno 2] No such file or directory:               \n",
       "'c:\\Users\\reuven\\whatever'                                            \n",
       "</pre></div>"
      ],
      "text/plain": [
       "\u001b[38;2;221;0;0;48;2;255;255;255mFileNotFoundError\u001b[0m: [Errno 2] No such file or directory:               \n",
       "'c:\\Users\\reuven\\whatever'                                            \n"
      ]
     },
     "metadata": {},
     "output_type": "display_data"
    },
    {
     "data": {
      "text/html": [
       "\n",
       "        <button\n",
       "            id='friendly-tb-btn-show3'\n",
       "            onclick='friendly_toggle_more3()'\n",
       "            style=''>\n",
       "        More ...\n",
       "        </button>\n",
       "        <script type=\"text/Javascript\"> function friendly_toggle_more3(){\n",
       "        var btn = document.getElementById('friendly-tb-btn-show3');\n",
       "        var btn_what = document.getElementById('friendly-tb-btn-show-what3');\n",
       "        var btn_where = document.getElementById('friendly-tb-btn-show-where3');\n",
       "        var btn_why = document.getElementById('friendly-tb-btn-show-why3');\n",
       "        var message = document.getElementById('friendly-message3');\n",
       "        var friendly_tb_content = document.getElementById('friendly-tb-friendly_tb-content3');\n",
       "        var what_content = document.getElementById('friendly-tb-what-content3');\n",
       "        var why_content = document.getElementById('friendly-tb-why-content3');\n",
       "        var where_content = document.getElementById('friendly-tb-where-content3');\n",
       "\n",
       "        if (btn_what.style.display == 'none'){\n",
       "            message.style.display = 'none';\n",
       "            btn_what.style.display = 'block';\n",
       "            btn_why.style.display = 'block';\n",
       "            btn_where.style.display = 'block';\n",
       "            friendly_tb_content.style.display = 'block';\n",
       "            btn.textContent = \"Show message only\";\n",
       "        } else {\n",
       "            btn_what.style.display = 'none';\n",
       "            btn_what.textContent = 'what()';\n",
       "            btn_why.style.display = 'none';\n",
       "            btn_why.textContent = 'why()';\n",
       "            btn_where.style.display = 'none';\n",
       "            btn_where.textContent = 'where()';\n",
       "            what_content.style.display = 'none';\n",
       "            why_content.style.display = 'none';\n",
       "            where_content.style.display = 'none';\n",
       "            friendly_tb_content.style.display = 'none';\n",
       "            message.style.display = 'block';\n",
       "            btn.textContent = \"More ...\";\n",
       "        }\n",
       "        };\n",
       "        </script>\n",
       "        "
      ]
     },
     "metadata": {},
     "output_type": "display_data"
    },
    {
     "data": {
      "text/html": [
       "<div id='friendly-tb-friendly_tb-content3' style='display:none'><pre style='white-space:pre;overflow-x:auto;line-height:normal'><span style=\"color: #dd0000; text-decoration-color: #dd0000; background-color: #ffffff\">Traceback (most recent call last):</span><span style=\"background-color: #ffffff\">                                                                  </span>\n",
       "<span style=\"color: #101010; text-decoration-color: #101010; background-color: #ffffff\">  Code block </span><span style=\"color: #783114; text-decoration-color: #783114; background-color: #ffffff\">[</span><span style=\"color: #101010; text-decoration-color: #101010; background-color: #ffffff\">4</span><span style=\"color: #783114; text-decoration-color: #783114; background-color: #ffffff\">]</span><span style=\"color: #101010; text-decoration-color: #101010; background-color: #ffffff\">, line 2, in </span><span style=\"color: #0011aa; text-decoration-color: #0011aa; background-color: #ffffff\">&lt;module&gt;</span><span style=\"background-color: #ffffff\">                                                               </span>\n",
       "<span style=\"color: #101010; text-decoration-color: #101010; background-color: #ffffff\">    </span><span style=\"color: #005500; text-decoration-color: #005500; background-color: #ffffff\">open</span><span style=\"color: #783114; text-decoration-color: #783114; background-color: #ffffff\">(</span><span style=\"color: #8b008b; text-decoration-color: #8b008b; background-color: #ffffff\">r'c:\\Users\\reuven\\whatever'</span><span style=\"color: #783114; text-decoration-color: #783114; background-color: #ffffff\">)</span><span style=\"background-color: #ffffff\">                                                               </span>\n",
       "<span style=\"color: #dd0000; text-decoration-color: #dd0000; background-color: #ffffff\">FileNotFoundError</span><span style=\"color: #101010; text-decoration-color: #101010; background-color: #ffffff\">: </span><span style=\"color: #0011aa; text-decoration-color: #0011aa; background-color: #ffffff\">[Errno 2] No such file or directory: 'c:\\\\Users\\\\reuven\\\\whatever'</span><span style=\"background-color: #ffffff\">               </span>\n",
       "</pre></div>"
      ],
      "text/plain": [
       "\u001b[38;2;221;0;0;48;2;255;255;255mTraceback (most recent call last):\u001b[0m\u001b[48;2;255;255;255m                                                                  \u001b[0m\n",
       "\u001b[38;2;16;16;16;48;2;255;255;255m  Code block \u001b[0m\u001b[38;2;120;49;20;48;2;255;255;255m[\u001b[0m\u001b[38;2;16;16;16;48;2;255;255;255m4\u001b[0m\u001b[38;2;120;49;20;48;2;255;255;255m]\u001b[0m\u001b[38;2;16;16;16;48;2;255;255;255m, line \u001b[0m\u001b[38;2;16;16;16;48;2;255;255;255m2\u001b[0m\u001b[38;2;16;16;16;48;2;255;255;255m, in \u001b[0m\u001b[38;2;0;17;170;48;2;255;255;255m<module>\u001b[0m\u001b[48;2;255;255;255m                                                               \u001b[0m\n",
       "\u001b[38;2;16;16;16;48;2;255;255;255m    \u001b[0m\u001b[38;2;0;85;0;48;2;255;255;255mopen\u001b[0m\u001b[38;2;120;49;20;48;2;255;255;255m(\u001b[0m\u001b[38;2;139;0;139;48;2;255;255;255mr\u001b[0m\u001b[38;2;139;0;139;48;2;255;255;255m'\u001b[0m\u001b[38;2;139;0;139;48;2;255;255;255mc:\u001b[0m\u001b[38;2;139;0;139;48;2;255;255;255m\\\u001b[0m\u001b[38;2;139;0;139;48;2;255;255;255mUsers\u001b[0m\u001b[38;2;139;0;139;48;2;255;255;255m\\\u001b[0m\u001b[38;2;139;0;139;48;2;255;255;255mreuven\u001b[0m\u001b[38;2;139;0;139;48;2;255;255;255m\\\u001b[0m\u001b[38;2;139;0;139;48;2;255;255;255mwhatever\u001b[0m\u001b[38;2;139;0;139;48;2;255;255;255m'\u001b[0m\u001b[38;2;120;49;20;48;2;255;255;255m)\u001b[0m\u001b[48;2;255;255;255m                                                               \u001b[0m\n",
       "\u001b[38;2;221;0;0;48;2;255;255;255mFileNotFoundError\u001b[0m\u001b[38;2;16;16;16;48;2;255;255;255m: \u001b[0m\u001b[38;2;0;17;170;48;2;255;255;255m[Errno 2] No such file or directory: 'c:\\\\Users\\\\reuven\\\\whatever'\u001b[0m\u001b[48;2;255;255;255m               \u001b[0m\n"
      ]
     },
     "metadata": {},
     "output_type": "display_data"
    },
    {
     "data": {
      "text/html": [
       "<script type=\"text/Javascript\"> function toggle_what3(){\n",
       "     var content = document.getElementById('friendly-tb-what-content3');\n",
       "     var btn = document.getElementById('friendly-tb-btn-show-what3');\n",
       "        if (content.style.display === 'none') {\n",
       "            content.style.display = 'block';\n",
       "            btn.textContent = \"Hide what()\";\n",
       "        } else {\n",
       "            content.style.display = 'none';\n",
       "            btn.textContent = \"what()\";\n",
       "       }\n",
       "    }\n",
       "     </script>\n",
       "     <button\n",
       "         id='friendly-tb-btn-show-what3'\n",
       "         onclick='toggle_what3()'\n",
       "         style='display:none '>\n",
       "     what()\n",
       "     </button>\n",
       "    "
      ]
     },
     "metadata": {},
     "output_type": "display_data"
    },
    {
     "data": {
      "text/html": [
       "<div id='friendly-tb-what-content3' style='display:none'><pre style='white-space:pre;overflow-x:auto;line-height:normal'>A <span style=\"color: #dd0000; text-decoration-color: #dd0000; background-color: #ffffff\">FileNotFoundError</span> exception indicates that you are trying to open a \n",
       "file that cannot be found by Python. This could be because you        \n",
       "misspelled the name of the file.                                      \n",
       "</pre></div>"
      ],
      "text/plain": [
       "A \u001b[38;2;221;0;0;48;2;255;255;255mFileNotFoundError\u001b[0m exception indicates that you are trying to open a \n",
       "file that cannot be found by Python. This could be because you        \n",
       "misspelled the name of the file.                                      \n"
      ]
     },
     "metadata": {},
     "output_type": "display_data"
    },
    {
     "data": {
      "text/html": [
       "<script type=\"text/Javascript\"> function toggle_why3(){\n",
       "     var content = document.getElementById('friendly-tb-why-content3');\n",
       "     var btn = document.getElementById('friendly-tb-btn-show-why3');\n",
       "        if (content.style.display === 'none') {\n",
       "            content.style.display = 'block';\n",
       "            btn.textContent = \"Hide why()\";\n",
       "        } else {\n",
       "            content.style.display = 'none';\n",
       "            btn.textContent = \"why()\";\n",
       "       }\n",
       "    }\n",
       "     </script>\n",
       "     <button\n",
       "         id='friendly-tb-btn-show-why3'\n",
       "         onclick='toggle_why3()'\n",
       "         style='display:none '>\n",
       "     why()\n",
       "     </button>\n",
       "    "
      ]
     },
     "metadata": {},
     "output_type": "display_data"
    },
    {
     "data": {
      "text/html": [
       "<div id='friendly-tb-why-content3' style='display:none'><pre style='white-space:pre;overflow-x:auto;line-height:normal'>In your program, the name of the file that cannot be found is         \n",
       "<span style=\"color: #0011aa; text-decoration-color: #0011aa; background-color: #ffffff\">c</span><span style=\"color: #783114; text-decoration-color: #783114; background-color: #ffffff\">:</span><span style=\"color: #101010; text-decoration-color: #101010; background-color: #ffffff\">\\\\</span><span style=\"color: #0011aa; text-decoration-color: #0011aa; background-color: #ffffff\">Users</span><span style=\"color: #101010; text-decoration-color: #101010; background-color: #ffffff\">\\\\</span><span style=\"color: #0011aa; text-decoration-color: #0011aa; background-color: #ffffff\">reuven</span><span style=\"color: #101010; text-decoration-color: #101010; background-color: #ffffff\">\\\\</span><span style=\"color: #0011aa; text-decoration-color: #0011aa; background-color: #ffffff\">whatever</span>. It was expected to be found in the       \n",
       "<span style=\"color: #783114; text-decoration-color: #783114; background-color: #ffffff\">/</span><span style=\"color: #0011aa; text-decoration-color: #0011aa; background-color: #ffffff\">Users</span><span style=\"color: #783114; text-decoration-color: #783114; background-color: #ffffff\">/</span><span style=\"color: #0011aa; text-decoration-color: #0011aa; background-color: #ffffff\">reuven</span><span style=\"color: #783114; text-decoration-color: #783114; background-color: #ffffff\">/</span><span style=\"color: #0011aa; text-decoration-color: #0011aa; background-color: #ffffff\">Courses</span><span style=\"color: #783114; text-decoration-color: #783114; background-color: #ffffff\">/</span><span style=\"color: #0011aa; text-decoration-color: #0011aa; background-color: #ffffff\">Current</span><span style=\"color: #783114; text-decoration-color: #783114; background-color: #ffffff\">/</span><span style=\"color: #0011aa; text-decoration-color: #0011aa; background-color: #ffffff\">O</span><span style=\"color: #8b008b; text-decoration-color: #8b008b; background-color: #ffffff\">'Reilly-2022-q1</span> directory. I have no   \n",
       "additional information for you.                                       \n",
       "</pre></div>"
      ],
      "text/plain": [
       "In your program, the name of the file that cannot be found is         \n",
       "\u001b[38;2;0;17;170;48;2;255;255;255mc\u001b[0m\u001b[38;2;120;49;20;48;2;255;255;255m:\u001b[0m\u001b[38;2;16;16;16;48;2;255;255;255m\\\u001b[0m\u001b[38;2;16;16;16;48;2;255;255;255m\\\u001b[0m\u001b[38;2;0;17;170;48;2;255;255;255mUsers\u001b[0m\u001b[38;2;16;16;16;48;2;255;255;255m\\\u001b[0m\u001b[38;2;16;16;16;48;2;255;255;255m\\\u001b[0m\u001b[38;2;0;17;170;48;2;255;255;255mreuven\u001b[0m\u001b[38;2;16;16;16;48;2;255;255;255m\\\u001b[0m\u001b[38;2;16;16;16;48;2;255;255;255m\\\u001b[0m\u001b[38;2;0;17;170;48;2;255;255;255mwhatever\u001b[0m. It was expected to be found in the       \n",
       "\u001b[38;2;120;49;20;48;2;255;255;255m/\u001b[0m\u001b[38;2;0;17;170;48;2;255;255;255mUsers\u001b[0m\u001b[38;2;120;49;20;48;2;255;255;255m/\u001b[0m\u001b[38;2;0;17;170;48;2;255;255;255mreuven\u001b[0m\u001b[38;2;120;49;20;48;2;255;255;255m/\u001b[0m\u001b[38;2;0;17;170;48;2;255;255;255mCourses\u001b[0m\u001b[38;2;120;49;20;48;2;255;255;255m/\u001b[0m\u001b[38;2;0;17;170;48;2;255;255;255mCurrent\u001b[0m\u001b[38;2;120;49;20;48;2;255;255;255m/\u001b[0m\u001b[38;2;0;17;170;48;2;255;255;255mO\u001b[0m\u001b[38;2;139;0;139;48;2;255;255;255m'\u001b[0m\u001b[38;2;139;0;139;48;2;255;255;255mReilly-2022-q1\u001b[0m directory. I have no   \n",
       "additional information for you.                                       \n"
      ]
     },
     "metadata": {},
     "output_type": "display_data"
    },
    {
     "data": {
      "text/html": [
       "<script type=\"text/Javascript\"> function toggle_where3(){\n",
       "     var content = document.getElementById('friendly-tb-where-content3');\n",
       "     var btn = document.getElementById('friendly-tb-btn-show-where3');\n",
       "        if (content.style.display === 'none') {\n",
       "            content.style.display = 'block';\n",
       "            btn.textContent = \"Hide where()\";\n",
       "        } else {\n",
       "            content.style.display = 'none';\n",
       "            btn.textContent = \"where()\";\n",
       "       }\n",
       "    }\n",
       "     </script>\n",
       "     <button\n",
       "         id='friendly-tb-btn-show-where3'\n",
       "         onclick='toggle_where3()'\n",
       "         style='display:none '>\n",
       "     where()\n",
       "     </button>\n",
       "    "
      ]
     },
     "metadata": {},
     "output_type": "display_data"
    },
    {
     "data": {
      "text/html": [
       "<div id='friendly-tb-where-content3' style='display:none'><pre style='white-space:pre;overflow-x:auto;line-height:normal'><span style=\"color: #dd0000; text-decoration-color: #dd0000\">Exception raised on line 2 of code block </span><span style=\"color: #783114; text-decoration-color: #783114; background-color: #ffffff\">[</span><span style=\"color: #101010; text-decoration-color: #101010; background-color: #ffffff\">4</span><span style=\"color: #783114; text-decoration-color: #783114; background-color: #ffffff\">]</span><span style=\"color: #dd0000; text-decoration-color: #dd0000\">.</span>                                                       \n",
       "\n",
       "<span style=\"color: #101010; text-decoration-color: #101010; background-color: #ffffff\">       1</span><span style=\"color: #783114; text-decoration-color: #783114; background-color: #ffffff\">:</span><span style=\"color: #101010; text-decoration-color: #101010; background-color: #ffffff\"> </span><span style=\"color: #808080; text-decoration-color: #808080; background-color: #ffffff\"># in Windows, be careful!  You need to double backslashes *or* use raw strings</span><span style=\"background-color: #ffffff\">            </span>\n",
       "<span style=\"color: #101010; text-decoration-color: #101010; background-color: #ffffff\">    </span><span style=\"color: #783114; text-decoration-color: #783114; background-color: #ffffff\">--&gt;</span><span style=\"color: #101010; text-decoration-color: #101010; background-color: #ffffff\">2</span><span style=\"color: #783114; text-decoration-color: #783114; background-color: #ffffff\">:</span><span style=\"color: #101010; text-decoration-color: #101010; background-color: #ffffff\"> </span><span style=\"color: #005500; text-decoration-color: #005500; background-color: #ffffff\">open</span><span style=\"color: #783114; text-decoration-color: #783114; background-color: #ffffff\">(</span><span style=\"color: #8b008b; text-decoration-color: #8b008b; background-color: #ffffff\">r'c:\\Users\\reuven\\whatever'</span><span style=\"color: #783114; text-decoration-color: #783114; background-color: #ffffff\">)</span><span style=\"background-color: #ffffff\">                                                         </span>\n",
       "<span style=\"color: #101010; text-decoration-color: #101010; background-color: #ffffff\">          </span><span style=\"color: #783114; text-decoration-color: #783114; background-color: #ffffff\">^^^^^^^^^^^^^^^^^^^^^^^^^^^^^^^^^</span><span style=\"background-color: #ffffff\">                                                         </span>\n",
       "\n",
       "<span style=\"color: #101010; text-decoration-color: #101010; background-color: #ffffff\">    </span><span style=\"color: #005500; text-decoration-color: #005500; background-color: #ffffff\">open</span><span style=\"color: #783114; text-decoration-color: #783114; background-color: #ffffff\">:</span><span style=\"color: #101010; text-decoration-color: #101010; background-color: #ffffff\">  </span><span style=\"color: #783114; text-decoration-color: #783114; background-color: #ffffff\">&lt;</span><span style=\"color: #0011aa; text-decoration-color: #0011aa; background-color: #ffffff\">builtin</span><span style=\"color: #101010; text-decoration-color: #101010; background-color: #ffffff\"> </span><span style=\"color: #0011aa; text-decoration-color: #0011aa; background-color: #ffffff\">function</span><span style=\"color: #101010; text-decoration-color: #101010; background-color: #ffffff\"> </span><span style=\"color: #005500; text-decoration-color: #005500; background-color: #ffffff\">open</span><span style=\"color: #783114; text-decoration-color: #783114; background-color: #ffffff\">&gt;</span><span style=\"background-color: #ffffff\">                                                                  </span>\n",
       "</pre></div>"
      ],
      "text/plain": [
       "\u001b[38;2;221;0;0mException raised on line 2 of code block \u001b[0m\u001b[38;2;120;49;20;48;2;255;255;255m[\u001b[0m\u001b[38;2;16;16;16;48;2;255;255;255m4\u001b[0m\u001b[38;2;120;49;20;48;2;255;255;255m]\u001b[0m\u001b[38;2;221;0;0m.\u001b[0m                                                       \n",
       "\n",
       "\u001b[38;2;16;16;16;48;2;255;255;255m       \u001b[0m\u001b[38;2;16;16;16;48;2;255;255;255m1\u001b[0m\u001b[38;2;120;49;20;48;2;255;255;255m:\u001b[0m\u001b[38;2;16;16;16;48;2;255;255;255m \u001b[0m\u001b[38;2;128;128;128;48;2;255;255;255m# in Windows, be careful!  You need to double backslashes *or* use raw strings\u001b[0m\u001b[48;2;255;255;255m            \u001b[0m\n",
       "\u001b[38;2;16;16;16;48;2;255;255;255m    \u001b[0m\u001b[38;2;120;49;20;48;2;255;255;255m-\u001b[0m\u001b[38;2;120;49;20;48;2;255;255;255m-\u001b[0m\u001b[38;2;120;49;20;48;2;255;255;255m>\u001b[0m\u001b[38;2;16;16;16;48;2;255;255;255m2\u001b[0m\u001b[38;2;120;49;20;48;2;255;255;255m:\u001b[0m\u001b[38;2;16;16;16;48;2;255;255;255m \u001b[0m\u001b[38;2;0;85;0;48;2;255;255;255mopen\u001b[0m\u001b[38;2;120;49;20;48;2;255;255;255m(\u001b[0m\u001b[38;2;139;0;139;48;2;255;255;255mr\u001b[0m\u001b[38;2;139;0;139;48;2;255;255;255m'\u001b[0m\u001b[38;2;139;0;139;48;2;255;255;255mc:\u001b[0m\u001b[38;2;139;0;139;48;2;255;255;255m\\\u001b[0m\u001b[38;2;139;0;139;48;2;255;255;255mUsers\u001b[0m\u001b[38;2;139;0;139;48;2;255;255;255m\\\u001b[0m\u001b[38;2;139;0;139;48;2;255;255;255mreuven\u001b[0m\u001b[38;2;139;0;139;48;2;255;255;255m\\\u001b[0m\u001b[38;2;139;0;139;48;2;255;255;255mwhatever\u001b[0m\u001b[38;2;139;0;139;48;2;255;255;255m'\u001b[0m\u001b[38;2;120;49;20;48;2;255;255;255m)\u001b[0m\u001b[48;2;255;255;255m                                                         \u001b[0m\n",
       "\u001b[38;2;16;16;16;48;2;255;255;255m          \u001b[0m\u001b[38;2;120;49;20;48;2;255;255;255m^\u001b[0m\u001b[38;2;120;49;20;48;2;255;255;255m^\u001b[0m\u001b[38;2;120;49;20;48;2;255;255;255m^\u001b[0m\u001b[38;2;120;49;20;48;2;255;255;255m^\u001b[0m\u001b[38;2;120;49;20;48;2;255;255;255m^\u001b[0m\u001b[38;2;120;49;20;48;2;255;255;255m^\u001b[0m\u001b[38;2;120;49;20;48;2;255;255;255m^\u001b[0m\u001b[38;2;120;49;20;48;2;255;255;255m^\u001b[0m\u001b[38;2;120;49;20;48;2;255;255;255m^\u001b[0m\u001b[38;2;120;49;20;48;2;255;255;255m^\u001b[0m\u001b[38;2;120;49;20;48;2;255;255;255m^\u001b[0m\u001b[38;2;120;49;20;48;2;255;255;255m^\u001b[0m\u001b[38;2;120;49;20;48;2;255;255;255m^\u001b[0m\u001b[38;2;120;49;20;48;2;255;255;255m^\u001b[0m\u001b[38;2;120;49;20;48;2;255;255;255m^\u001b[0m\u001b[38;2;120;49;20;48;2;255;255;255m^\u001b[0m\u001b[38;2;120;49;20;48;2;255;255;255m^\u001b[0m\u001b[38;2;120;49;20;48;2;255;255;255m^\u001b[0m\u001b[38;2;120;49;20;48;2;255;255;255m^\u001b[0m\u001b[38;2;120;49;20;48;2;255;255;255m^\u001b[0m\u001b[38;2;120;49;20;48;2;255;255;255m^\u001b[0m\u001b[38;2;120;49;20;48;2;255;255;255m^\u001b[0m\u001b[38;2;120;49;20;48;2;255;255;255m^\u001b[0m\u001b[38;2;120;49;20;48;2;255;255;255m^\u001b[0m\u001b[38;2;120;49;20;48;2;255;255;255m^\u001b[0m\u001b[38;2;120;49;20;48;2;255;255;255m^\u001b[0m\u001b[38;2;120;49;20;48;2;255;255;255m^\u001b[0m\u001b[38;2;120;49;20;48;2;255;255;255m^\u001b[0m\u001b[38;2;120;49;20;48;2;255;255;255m^\u001b[0m\u001b[38;2;120;49;20;48;2;255;255;255m^\u001b[0m\u001b[38;2;120;49;20;48;2;255;255;255m^\u001b[0m\u001b[38;2;120;49;20;48;2;255;255;255m^\u001b[0m\u001b[38;2;120;49;20;48;2;255;255;255m^\u001b[0m\u001b[48;2;255;255;255m                                                         \u001b[0m\n",
       "\n",
       "\u001b[38;2;16;16;16;48;2;255;255;255m    \u001b[0m\u001b[38;2;0;85;0;48;2;255;255;255mopen\u001b[0m\u001b[38;2;120;49;20;48;2;255;255;255m:\u001b[0m\u001b[38;2;16;16;16;48;2;255;255;255m  \u001b[0m\u001b[38;2;120;49;20;48;2;255;255;255m<\u001b[0m\u001b[38;2;0;17;170;48;2;255;255;255mbuiltin\u001b[0m\u001b[38;2;16;16;16;48;2;255;255;255m \u001b[0m\u001b[38;2;0;17;170;48;2;255;255;255mfunction\u001b[0m\u001b[38;2;16;16;16;48;2;255;255;255m \u001b[0m\u001b[38;2;0;85;0;48;2;255;255;255mopen\u001b[0m\u001b[38;2;120;49;20;48;2;255;255;255m>\u001b[0m\u001b[48;2;255;255;255m                                                                  \u001b[0m\n"
      ]
     },
     "metadata": {},
     "output_type": "display_data"
    }
   ],
   "source": [
    "# in Windows, be careful!  You need to double backslashes *or* use raw strings\n",
    "open(r'c:\\Users\\reuven\\whatever')"
   ]
  },
  {
   "cell_type": "code",
   "execution_count": 6,
   "id": "ea9a838b",
   "metadata": {},
   "outputs": [
    {
     "name": "stdout",
     "output_type": "stream",
     "text": [
      "_uucp:*:4:4:Unix to Unix Copy Protocol:/var/spool/uucp:/usr/sbin/uucico\n",
      "_postfix:*:27:27:Postfix Mail Server:/var/spool/postfix:/usr/bin/false\n",
      "_mcxalr:*:54:54:MCX AppLaunch:/var/empty:/usr/bin/false\n",
      "_sandbox:*:60:60:Seatbelt:/var/empty:/usr/bin/false\n",
      "_usbmuxd:*:213:213:iPhone OS Device Helper:/var/db/lockdown:/usr/bin/false\n",
      "_xserverdocs:*:251:251:macOS Server Documents Service:/var/empty:/usr/bin/false\n",
      "_wwwproxy:*:252:252:WWW Proxy:/var/empty:/usr/bin/false\n",
      "_nearbyd:*:268:268:Proximity and Ranging Daemon:/var/db/nearbyd:/usr/bin/false\n",
      "_reportmemoryexception:*:269:269:ReportMemoryException:/var/db/reportmemoryexception:/usr/bin/false\n"
     ]
    }
   ],
   "source": [
    "# only print the lines containing 'x'\n",
    "\n",
    "for one_line in open('/etc/passwd'):\n",
    "    if 'x' in one_line:\n",
    "        print(one_line.strip())"
   ]
  },
  {
   "cell_type": "code",
   "execution_count": 8,
   "id": "c3455542",
   "metadata": {},
   "outputs": [
    {
     "name": "stdout",
     "output_type": "stream",
     "text": [
      "Search for: q\n",
      "_mysql:*:74:74:MySQL Server:/var/empty:/usr/bin/false\n",
      "_qtss:*:76:76:QuickTime Streaming Server:/var/empty:/usr/bin/false\n"
     ]
    }
   ],
   "source": [
    "look_for = input('Search for: ').strip()\n",
    "\n",
    "for one_line in open('/etc/passwd'):\n",
    "    if look_for in one_line:\n",
    "        print(one_line.strip())"
   ]
  },
  {
   "cell_type": "code",
   "execution_count": 11,
   "id": "b0f41ab5",
   "metadata": {},
   "outputs": [
    {
     "name": "stdout",
     "output_type": "stream",
     "text": [
      "root\n",
      "daemon\n",
      "bin\n",
      "sys\n",
      "sync\n",
      "games\n",
      "man\n",
      "lp\n",
      "mail\n",
      "news\n",
      "uucp\n",
      "proxy\n",
      "www-data\n",
      "backup\n",
      "list\n",
      "irc\n",
      "gnats\n",
      "nobody\n",
      "syslog\n",
      "messagebus\n",
      "landscape\n",
      "jci\n",
      "sshd\n",
      "user\n",
      "reuven\n",
      "postfix\n",
      "colord\n",
      "postgres\n",
      "dovecot\n",
      "dovenull\n",
      "postgrey\n",
      "debian-spamd\n",
      "memcache\n",
      "genadi\n",
      "shira\n",
      "atara\n",
      "shikma\n",
      "amotz\n",
      "mysql\n",
      "clamav\n",
      "amavis\n",
      "opendkim\n",
      "gitlab-redis\n",
      "gitlab-psql\n",
      "git\n",
      "opendmarc\n",
      "dkim-milter-python\n",
      "deploy\n",
      "redis\n"
     ]
    }
   ],
   "source": [
    "# let's find usernames in linux-etc-passwd.txt (which was in my zipfile)\n",
    "\n",
    "for one_line in open('linux-etc-passwd.txt'):\n",
    "    if not one_line.startswith('#') and not one_line.startswith('\\n'):\n",
    "        fields = one_line.split(':')   # break the line apart\n",
    "        print(fields[0])               # print the username, the first field"
   ]
  },
  {
   "cell_type": "code",
   "execution_count": 12,
   "id": "cd9f5e2b",
   "metadata": {},
   "outputs": [
    {
     "name": "stdout",
     "output_type": "stream",
     "text": [
      "root\n",
      "daemon\n",
      "bin\n",
      "sys\n",
      "sync\n",
      "games\n",
      "man\n",
      "lp\n",
      "mail\n",
      "news\n",
      "uucp\n",
      "proxy\n",
      "www-data\n",
      "backup\n",
      "list\n",
      "irc\n",
      "gnats\n",
      "nobody\n",
      "syslog\n",
      "messagebus\n",
      "landscape\n",
      "jci\n",
      "sshd\n",
      "user\n",
      "reuven\n",
      "postfix\n",
      "colord\n",
      "postgres\n",
      "dovecot\n",
      "dovenull\n",
      "postgrey\n",
      "debian-spamd\n",
      "memcache\n",
      "genadi\n",
      "shira\n",
      "atara\n",
      "shikma\n",
      "amotz\n",
      "mysql\n",
      "clamav\n",
      "amavis\n",
      "opendkim\n",
      "gitlab-redis\n",
      "gitlab-psql\n",
      "git\n",
      "opendmarc\n",
      "dkim-milter-python\n",
      "deploy\n",
      "redis\n"
     ]
    }
   ],
   "source": [
    "# another way: pass a tuple of strings to startswith, and it looks for any/all of them\n",
    "\n",
    "for one_line in open('linux-etc-passwd.txt'):\n",
    "    if not one_line.startswith(('#', '\\n')):\n",
    "        fields = one_line.split(':')   # break the line apart\n",
    "        print(fields[0])               # print the username, the first field"
   ]
  },
  {
   "cell_type": "code",
   "execution_count": 13,
   "id": "f81f72aa",
   "metadata": {},
   "outputs": [],
   "source": [
    "# let's create a simple report!\n",
    "# we'll use a file and a dictionary\n",
    "\n",
    "# the file: mini-access-log.txt (an old Apache HTTP server logfile)"
   ]
  },
  {
   "cell_type": "code",
   "execution_count": 14,
   "id": "245ee696",
   "metadata": {},
   "outputs": [
    {
     "name": "stdout",
     "output_type": "stream",
     "text": [
      "67.218.116.165 - - [30/Jan/2010:00:03:18 +0200] \"GET /robots.txt HTTP/1.0\" 200 99 \"-\" \"Mozilla/5.0 (Twiceler-0.9 http://www.cuil.com/twiceler/robot.html)\"\r\n",
      "66.249.71.65 - - [30/Jan/2010:00:12:06 +0200] \"GET /browse/one_node/1557 HTTP/1.1\" 200 39208 \"-\" \"Mozilla/5.0 (compatible; Googlebot/2.1; +http://www.google.com/bot.html)\"\r\n",
      "65.55.106.183 - - [30/Jan/2010:01:29:23 +0200] \"GET /robots.txt HTTP/1.1\" 200 99 \"-\" \"msnbot/2.0b (+http://search.msn.com/msnbot.htm)\"\r\n",
      "65.55.106.183 - - [30/Jan/2010:01:30:06 +0200] \"GET /browse/one_model/2162 HTTP/1.1\" 200 2181 \"-\" \"msnbot/2.0b (+http://search.msn.com/msnbot.htm)\"\r\n",
      "66.249.71.65 - - [30/Jan/2010:02:07:14 +0200] \"GET /browse/browse_applet_tab/2593 HTTP/1.1\" 200 10305 \"-\" \"Mozilla/5.0 (compatible; Googlebot/2.1; +http://www.google.com/bot.html)\"\r\n",
      "66.249.71.65 - - [30/Jan/2010:02:10:39 +0200] \"GET /browse/browse_files_tab/2499?tab=true HTTP/1.1\" 200 446 \"-\" \"Mozilla/5.0 (compatible; Googlebot/2.1; +http://www.google.com/bot.html)\"\r\n",
      "66.249.65.12 - - [30/Jan/2010:03:13:34 +0200] \"GET /robots.txt HTTP/1.1\" 200 99 \"-\" \"Mozilla/5.0 (compatible; Googlebot/2.1; +http://www.google.com/bot.html)\"\r\n",
      "66.249.65.12 - - [30/Jan/2010:03:13:34 +0200] \"GET /browse/one_node/2715 HTTP/1.1\" 200 26433 \"-\" \"Mozilla/5.0 (compatible; Googlebot/2.1; +http://www.google.com/bot.html)\"\r\n",
      "66.249.65.12 - - [30/Jan/2010:03:43:39 +0200] \"GET /browse/download_model/1969 HTTP/1.1\" 200 31713 \"-\" \"Mozilla/5.0 (compatible; Googlebot/2.1; +http://www.google.com/bot.html)\"\r\n",
      "66.249.65.12 - - [30/Jan/2010:04:05:43 +0200] \"GET /browse/one_node/1406 HTTP/1.1\" 302 118 \"-\" \"Mozilla/5.0 (compatible; Googlebot/2.1; +http://www.google.com/bot.html)\"\r\n"
     ]
    }
   ],
   "source": [
    "!head mini-access-log.txt"
   ]
  },
  {
   "cell_type": "code",
   "execution_count": 15,
   "id": "c0fb0078",
   "metadata": {},
   "outputs": [
    {
     "name": "stdout",
     "output_type": "stream",
     "text": [
      "['67.218.116.165', '-', '-', '[30/Jan/2010:00:03:18', '+0200]', '\"GET', '/robots.txt', 'HTTP/1.0\"', '200', '99', '\"-\"', '\"Mozilla/5.0', '(Twiceler-0.9', 'http://www.cuil.com/twiceler/robot.html)\"']\n",
      "['66.249.71.65', '-', '-', '[30/Jan/2010:00:12:06', '+0200]', '\"GET', '/browse/one_node/1557', 'HTTP/1.1\"', '200', '39208', '\"-\"', '\"Mozilla/5.0', '(compatible;', 'Googlebot/2.1;', '+http://www.google.com/bot.html)\"']\n",
      "['65.55.106.183', '-', '-', '[30/Jan/2010:01:29:23', '+0200]', '\"GET', '/robots.txt', 'HTTP/1.1\"', '200', '99', '\"-\"', '\"msnbot/2.0b', '(+http://search.msn.com/msnbot.htm)\"']\n",
      "['65.55.106.183', '-', '-', '[30/Jan/2010:01:30:06', '+0200]', '\"GET', '/browse/one_model/2162', 'HTTP/1.1\"', '200', '2181', '\"-\"', '\"msnbot/2.0b', '(+http://search.msn.com/msnbot.htm)\"']\n",
      "['66.249.71.65', '-', '-', '[30/Jan/2010:02:07:14', '+0200]', '\"GET', '/browse/browse_applet_tab/2593', 'HTTP/1.1\"', '200', '10305', '\"-\"', '\"Mozilla/5.0', '(compatible;', 'Googlebot/2.1;', '+http://www.google.com/bot.html)\"']\n",
      "['66.249.71.65', '-', '-', '[30/Jan/2010:02:10:39', '+0200]', '\"GET', '/browse/browse_files_tab/2499?tab=true', 'HTTP/1.1\"', '200', '446', '\"-\"', '\"Mozilla/5.0', '(compatible;', 'Googlebot/2.1;', '+http://www.google.com/bot.html)\"']\n",
      "['66.249.65.12', '-', '-', '[30/Jan/2010:03:13:34', '+0200]', '\"GET', '/robots.txt', 'HTTP/1.1\"', '200', '99', '\"-\"', '\"Mozilla/5.0', '(compatible;', 'Googlebot/2.1;', '+http://www.google.com/bot.html)\"']\n",
      "['66.249.65.12', '-', '-', '[30/Jan/2010:03:13:34', '+0200]', '\"GET', '/browse/one_node/2715', 'HTTP/1.1\"', '200', '26433', '\"-\"', '\"Mozilla/5.0', '(compatible;', 'Googlebot/2.1;', '+http://www.google.com/bot.html)\"']\n",
      "['66.249.65.12', '-', '-', '[30/Jan/2010:03:43:39', '+0200]', '\"GET', '/browse/download_model/1969', 'HTTP/1.1\"', '200', '31713', '\"-\"', '\"Mozilla/5.0', '(compatible;', 'Googlebot/2.1;', '+http://www.google.com/bot.html)\"']\n",
      "['66.249.65.12', '-', '-', '[30/Jan/2010:04:05:43', '+0200]', '\"GET', '/browse/one_node/1406', 'HTTP/1.1\"', '302', '118', '\"-\"', '\"Mozilla/5.0', '(compatible;', 'Googlebot/2.1;', '+http://www.google.com/bot.html)\"']\n",
      "['66.249.65.12', '-', '-', '[30/Jan/2010:04:05:51', '+0200]', '\"GET', '/browse/one_model/1406', 'HTTP/1.1\"', '200', '2179', '\"-\"', '\"Mozilla/5.0', '(compatible;', 'Googlebot/2.1;', '+http://www.google.com/bot.html)\"']\n",
      "['65.55.106.131', '-', '-', '[30/Jan/2010:04:24:33', '+0200]', '\"GET', '/robots.txt', 'HTTP/1.1\"', '200', '99', '\"-\"', '\"msnbot/2.0b', '(+http://search.msn.com/msnbot.htm)\"']\n",
      "['65.55.106.131', '-', '-', '[30/Jan/2010:04:25:36', '+0200]', '\"GET', '/browse/one_model/1200', 'HTTP/1.1\"', '200', '2180', '\"-\"', '\"msnbot/2.0b', '(+http://search.msn.com/msnbot.htm)\"']\n",
      "['66.249.65.12', '-', '-', '[30/Jan/2010:04:34:36', '+0200]', '\"GET', '/browse/download_model/2170', 'HTTP/1.1\"', '200', '11772', '\"-\"', '\"Mozilla/5.0', '(compatible;', 'Googlebot/2.1;', '+http://www.google.com/bot.html)\"']\n",
      "['66.249.65.12', '-', '-', '[30/Jan/2010:04:39:37', '+0200]', '\"GET', '/browse/browse_preview_tab/2499?tab=true', 'HTTP/1.1\"', '200', '452', '\"-\"', '\"Mozilla/5.0', '(compatible;', 'Googlebot/2.1;', '+http://www.google.com/bot.html)\"']\n",
      "['66.249.65.12', '-', '-', '[30/Jan/2010:05:03:34', '+0200]', '\"GET', '/browse/download_model/2244', 'HTTP/1.1\"', '200', '7215', '\"-\"', '\"Mozilla/5.0', '(compatible;', 'Googlebot/2.1;', '+http://www.google.com/bot.html)\"']\n",
      "['66.249.65.12', '-', '-', '[30/Jan/2010:05:32:31', '+0200]', '\"GET', '/browse/download_model/1002', 'HTTP/1.1\"', '200', '3658', '\"-\"', '\"Mozilla/5.0', '(compatible;', 'Googlebot/2.1;', '+http://www.google.com/bot.html)\"']\n",
      "['66.249.65.12', '-', '-', '[30/Jan/2010:06:01:22', '+0200]', '\"GET', '/browse/download_model/1200', 'HTTP/1.1\"', '200', '31950', '\"-\"', '\"Mozilla/5.0', '(compatible;', 'Googlebot/2.1;', '+http://www.google.com/bot.html)\"']\n",
      "['66.249.65.12', '-', '-', '[30/Jan/2010:06:30:19', '+0200]', '\"GET', '/browse/download_model/2463', 'HTTP/1.1\"', '200', '3357', '\"-\"', '\"Mozilla/5.0', '(compatible;', 'Googlebot/2.1;', '+http://www.google.com/bot.html)\"']\n",
      "['66.249.65.12', '-', '-', '[30/Jan/2010:06:59:14', '+0200]', '\"GET', '/browse/download_model/1861', 'HTTP/1.1\"', '200', '5136', '\"-\"', '\"Mozilla/5.0', '(compatible;', 'Googlebot/2.1;', '+http://www.google.com/bot.html)\"']\n",
      "['65.55.106.186', '-', '-', '[30/Jan/2010:07:07:13', '+0200]', '\"GET', '/robots.txt', 'HTTP/1.1\"', '200', '99', '\"-\"', '\"msnbot/2.0b', '(+http://search.msn.com/msnbot.htm)\"']\n",
      "['65.55.106.186', '-', '-', '[30/Jan/2010:07:08:06', '+0200]', '\"GET', '/browse/about', 'HTTP/1.1\"', '200', '2315', '\"-\"', '\"msnbot/2.0b', '(+http://search.msn.com/msnbot.htm)\"']\n",
      "['66.249.65.12', '-', '-', '[30/Jan/2010:07:28:09', '+0200]', '\"GET', '/browse/download_model/1712', 'HTTP/1.1\"', '200', '11605', '\"-\"', '\"Mozilla/5.0', '(compatible;', 'Googlebot/2.1;', '+http://www.google.com/bot.html)\"']\n",
      "['66.249.65.12', '-', '-', '[30/Jan/2010:07:57:06', '+0200]', '\"GET', '/browse/download_model/1192', 'HTTP/1.1\"', '200', '31656', '\"-\"', '\"Mozilla/5.0', '(compatible;', 'Googlebot/2.1;', '+http://www.google.com/bot.html)\"']\n",
      "['66.249.65.12', '-', '-', '[30/Jan/2010:08:26:00', '+0200]', '\"GET', '/browse/download_model/1140', 'HTTP/1.1\"', '200', '4370', '\"-\"', '\"Mozilla/5.0', '(compatible;', 'Googlebot/2.1;', '+http://www.google.com/bot.html)\"']\n",
      "['74.52.245.146', '-', '-', '[30/Jan/2010:08:40:26', '+0200]', '\"GET', '/', 'HTTP/1.0\"', '302', '110', '\"-\"', '\"Mozilla/5.0', '(X11;', 'U;', 'Linux', 'i686;', 'en-US;', 'rv:1.7.5)', 'Gecko/20041107', 'Firefox/1.0\"']\n",
      "['74.52.245.146', '-', '-', '[30/Jan/2010:08:40:26', '+0200]', '\"GET', '/account/login', 'HTTP/1.0\"', '200', '5801', '\"-\"', '\"Mozilla/5.0', '(X11;', 'U;', 'Linux', 'i686;', 'en-US;', 'rv:1.7.5)', 'Gecko/20041107', 'Firefox/1.0\"']\n",
      "['66.249.65.43', '-', '-', '[30/Jan/2010:08:44:51', '+0200]', '\"GET', '/robots.txt', 'HTTP/1.1\"', '200', '99', '\"-\"', '\"Mozilla/5.0', '(compatible;', 'Googlebot/2.1;', '+http://www.google.com/bot.html)\"']\n",
      "['66.249.65.43', '-', '-', '[30/Jan/2010:08:44:52', '+0200]', '\"GET', '/', 'HTTP/1.1\"', '302', '112', '\"-\"', '\"Mozilla/5.0', '(compatible;', 'Googlebot/2.1;', '+http://www.google.com/bot.html)\"']\n",
      "['66.249.65.43', '-', '-', '[30/Jan/2010:08:44:52', '+0200]', '\"GET', '/account/login', 'HTTP/1.1\"', '200', '1935', '\"-\"', '\"Mozilla/5.0', '(compatible;', 'Googlebot/2.1;', '+http://www.google.com/bot.html)\"']\n",
      "['66.249.65.12', '-', '-', '[30/Jan/2010:08:54:53', '+0200]', '\"GET', '/browse/download_model/2152', 'HTTP/1.1\"', '200', '7285', '\"-\"', '\"Mozilla/5.0', '(compatible;', 'Googlebot/2.1;', '+http://www.google.com/bot.html)\"']\n",
      "['66.249.65.12', '-', '-', '[30/Jan/2010:09:23:46', '+0200]', '\"GET', '/browse/download_model/796', 'HTTP/1.1\"', '200', '3241', '\"-\"', '\"Mozilla/5.0', '(compatible;', 'Googlebot/2.1;', '+http://www.google.com/bot.html)\"']\n",
      "['66.249.65.12', '-', '-', '[30/Jan/2010:09:52:42', '+0200]', '\"GET', '/browse/one_node/2177', 'HTTP/1.1\"', '200', '1556', '\"-\"', '\"Mozilla/5.0', '(compatible;', 'Googlebot/2.1;', '+http://www.google.com/bot.html)\"']\n",
      "['66.249.65.12', '-', '-', '[30/Jan/2010:10:21:43', '+0200]', '\"GET', '/browse/one_node/2163', 'HTTP/1.1\"', '200', '4124', '\"-\"', '\"Mozilla/5.0', '(compatible;', 'Googlebot/2.1;', '+http://www.google.com/bot.html)\"']\n",
      "['66.249.65.12', '-', '-', '[30/Jan/2010:10:50:35', '+0200]', '\"GET', '/browse/one_node/1193', 'HTTP/1.1\"', '200', '29168', '\"-\"', '\"Mozilla/5.0', '(compatible;', 'Googlebot/2.1;', '+http://www.google.com/bot.html)\"']\n",
      "['66.249.65.12', '-', '-', '[30/Jan/2010:11:19:27', '+0200]', '\"GET', '/browse/one_node/1241', 'HTTP/1.1\"', '200', '7032', '\"-\"', '\"Mozilla/5.0', '(compatible;', 'Googlebot/2.1;', '+http://www.google.com/bot.html)\"']\n",
      "['65.55.207.25', '-', '-', '[30/Jan/2010:11:43:56', '+0200]', '\"GET', '/robots.txt', 'HTTP/1.1\"', '200', '99', '\"-\"', '\"msnbot/2.0b', '(+http://search.msn.com/msnbot.htm)\"']\n",
      "['65.55.207.25', '-', '-', '[30/Jan/2010:11:44:35', '+0200]', '\"GET', '/help', 'HTTP/1.1\"', '304', '-', '\"-\"', '\"msnbot/2.0b', '(+http://search.msn.com/msnbot.htm)\"']\n",
      "['66.249.65.12', '-', '-', '[30/Jan/2010:11:48:31', '+0200]', '\"GET', '/browse/download_model/2508', 'HTTP/1.1\"', '200', '11374', '\"-\"', '\"Mozilla/5.0', '(compatible;', 'Googlebot/2.1;', '+http://www.google.com/bot.html)\"']\n",
      "['66.249.65.12', '-', '-', '[30/Jan/2010:12:17:24', '+0200]', '\"GET', '/browse/one_node/2509', 'HTTP/1.1\"', '200', '4766', '\"-\"', '\"Mozilla/5.0', '(compatible;', 'Googlebot/2.1;', '+http://www.google.com/bot.html)\"']\n",
      "['66.249.65.12', '-', '-', '[30/Jan/2010:12:46:17', '+0200]', '\"GET', '/browse/one_node/1233', 'HTTP/1.1\"', '200', '79301', '\"-\"', '\"Mozilla/5.0', '(compatible;', 'Googlebot/2.1;', '+http://www.google.com/bot.html)\"']\n",
      "['66.249.65.12', '-', '-', '[30/Jan/2010:13:15:09', '+0200]', '\"GET', '/browse/download_model/2508?version=1819', 'HTTP/1.1\"', '200', '11374', '\"-\"', '\"Mozilla/5.0', '(compatible;', 'Googlebot/2.1;', '+http://www.google.com/bot.html)\"']\n",
      "['66.249.65.12', '-', '-', '[30/Jan/2010:13:44:01', '+0200]', '\"GET', '/browse/download_model/2508?version=1821', 'HTTP/1.1\"', '200', '11374', '\"-\"', '\"Mozilla/5.0', '(compatible;', 'Googlebot/2.1;', '+http://www.google.com/bot.html)\"']\n",
      "['66.249.65.12', '-', '-', '[30/Jan/2010:14:12:55', '+0200]', '\"GET', '/browse/download_model/902', 'HTTP/1.1\"', '200', '5050', '\"-\"', '\"Mozilla/5.0', '(compatible;', 'Googlebot/2.1;', '+http://www.google.com/bot.html)\"']\n",
      "['66.249.65.12', '-', '-', '[30/Jan/2010:14:42:01', '+0200]', '\"GET', '/browse/download_model/1679', 'HTTP/1.1\"', '200', '11290', '\"-\"', '\"Mozilla/5.0', '(compatible;', 'Googlebot/2.1;', '+http://www.google.com/bot.html)\"']\n",
      "['65.55.207.94', '-', '-', '[30/Jan/2010:15:02:52', '+0200]', '\"GET', '/robots.txt', 'HTTP/1.1\"', '200', '99', '\"-\"', '\"msnbot/2.0b', '(+http://search.msn.com/msnbot.htm)\"']\n",
      "['65.55.207.94', '-', '-', '[30/Jan/2010:15:03:36', '+0200]', '\"GET', '/browse/one_model/900', 'HTTP/1.1\"', '200', '2165', '\"-\"', '\"msnbot/2.0b', '(+http://search.msn.com/msnbot.htm)\"']\n",
      "['66.249.65.12', '-', '-', '[30/Jan/2010:15:10:51', '+0200]', '\"GET', '/browse/download_model/1612', 'HTTP/1.1\"', '200', '30540', '\"-\"', '\"Mozilla/5.0', '(compatible;', 'Googlebot/2.1;', '+http://www.google.com/bot.html)\"']\n",
      "['65.55.207.71', '-', '-', '[30/Jan/2010:15:32:04', '+0200]', '\"GET', '/account/new', 'HTTP/1.1\"', '304', '-', '\"-\"', '\"msnbot/2.0b', '(+http://search.msn.com/msnbot.htm)\"']\n",
      "['66.249.65.12', '-', '-', '[30/Jan/2010:15:39:45', '+0200]', '\"GET', '/browse/download_model/892', 'HTTP/1.1\"', '200', '4195', '\"-\"', '\"Mozilla/5.0', '(compatible;', 'Googlebot/2.1;', '+http://www.google.com/bot.html)\"']\n",
      "['66.249.65.12', '-', '-', '[30/Jan/2010:15:52:21', '+0200]', '\"GET', '/system/avatars/7/thumb/fractal-tree-on-transparent-sm.png?1237131134', 'HTTP/1.1\"', '304', '-', '\"-\"', '\"Googlebot-Image/1.0\"']\n",
      "['66.249.65.12', '-', '-', '[30/Jan/2010:16:08:36', '+0200]', '\"GET', '/browse/download_model/1865', 'HTTP/1.1\"', '200', '19432', '\"-\"', '\"Mozilla/5.0', '(compatible;', 'Googlebot/2.1;', '+http://www.google.com/bot.html)\"']\n",
      "['98.242.170.241', '-', '-', '[30/Jan/2010:16:10:49', '+0200]', '\"GET', '/dvdrental.com', 'HTTP/1.1\"', '404', '947', '\"http://www.dvdrental.com/modelingcommons.org\"', '\"Opera/9.80', '(Windows', 'NT', '5.2;', 'U;', 'en)', 'Presto/2.2.15', 'Version/10.10\"']\n",
      "['66.249.65.38', '-', '-', '[30/Jan/2010:16:37:33', '+0200]', '\"GET', '/browse/download_model/914', 'HTTP/1.1\"', '200', '6181', '\"-\"', '\"Mozilla/5.0', '(compatible;', 'Googlebot/2.1;', '+http://www.google.com/bot.html)\"']\n",
      "['66.249.65.38', '-', '-', '[30/Jan/2010:16:45:12', '+0200]', '\"GET', '/browse/browse_applet_tab/2593?tab=true', 'HTTP/1.1\"', '200', '10237', '\"-\"', '\"Mozilla/5.0', '(compatible;', 'Googlebot/2.1;', '+http://www.google.com/bot.html)\"']\n",
      "['66.249.65.38', '-', '-', '[30/Jan/2010:17:02:28', '+0200]', '\"GET', '/javascripts/application.js?1264605648', 'HTTP/1.1\"', '200', '698', '\"-\"', '\"Mozilla/5.0', '(compatible;', 'Googlebot/2.1;', '+http://www.google.com/bot.html)\"']\n",
      "['66.249.65.38', '-', '-', '[30/Jan/2010:17:02:29', '+0200]', '\"GET', '/stylesheets/browse.css?1264605648', 'HTTP/1.1\"', '200', '422', '\"-\"', '\"Mozilla/5.0', '(compatible;', 'Googlebot/2.1;', '+http://www.google.com/bot.html)\"']\n",
      "['66.249.65.38', '-', '-', '[30/Jan/2010:17:02:30', '+0200]', '\"GET', '/javascripts/jquery.livequery.js?1264605648', 'HTTP/1.1\"', '200', '2135', '\"-\"', '\"Mozilla/5.0', '(compatible;', 'Googlebot/2.1;', '+http://www.google.com/bot.html)\"']\n",
      "['66.249.65.38', '-', '-', '[30/Jan/2010:17:02:30', '+0200]', '\"GET', '/javascripts/jrails.js?1264605648', 'HTTP/1.1\"', '200', '1093', '\"-\"', '\"Mozilla/5.0', '(compatible;', 'Googlebot/2.1;', '+http://www.google.com/bot.html)\"']\n",
      "['66.249.65.38', '-', '-', '[30/Jan/2010:17:02:31', '+0200]', '\"GET', '/stylesheets/themes/nlcommons/ui.all.css?1264605648', 'HTTP/1.1\"', '200', '52', '\"-\"', '\"Mozilla/5.0', '(compatible;', 'Googlebot/2.1;', '+http://www.google.com/bot.html)\"']\n",
      "['66.249.65.38', '-', '-', '[30/Jan/2010:17:02:31', '+0200]', '\"GET', '/stylesheets/jquery.autocomplete.css?1264605648', 'HTTP/1.1\"', '200', '447', '\"-\"', '\"Mozilla/5.0', '(compatible;', 'Googlebot/2.1;', '+http://www.google.com/bot.html)\"']\n",
      "['66.249.65.38', '-', '-', '[30/Jan/2010:17:02:32', '+0200]', '\"GET', '/stylesheets/nlcommons.css?1264605648', 'HTTP/1.1\"', '200', '1179', '\"-\"', '\"Mozilla/5.0', '(compatible;', 'Googlebot/2.1;', '+http://www.google.com/bot.html)\"']\n",
      "['66.249.65.38', '-', '-', '[30/Jan/2010:17:02:32', '+0200]', '\"GET', '/javascripts/jquery.dataTables.js?1264605648', 'HTTP/1.1\"', '200', '15537', '\"-\"', '\"Mozilla/5.0', '(compatible;', 'Googlebot/2.1;', '+http://www.google.com/bot.html)\"']\n",
      "['66.249.65.38', '-', '-', '[30/Jan/2010:17:02:33', '+0200]', '\"GET', '/javascripts/jquery.js?1264605648', 'HTTP/1.1\"', '200', '19740', '\"-\"', '\"Mozilla/5.0', '(compatible;', 'Googlebot/2.1;', '+http://www.google.com/bot.html)\"']\n",
      "['66.249.65.38', '-', '-', '[30/Jan/2010:17:02:34', '+0200]', '\"GET', '/javascripts/nlcommons.js?1264605648', 'HTTP/1.1\"', '200', '20', '\"-\"', '\"Mozilla/5.0', '(compatible;', 'Googlebot/2.1;', '+http://www.google.com/bot.html)\"']\n",
      "['66.249.65.38', '-', '-', '[30/Jan/2010:17:02:34', '+0200]', '\"GET', '/javascripts/jquery-ui.js?1264605648', 'HTTP/1.1\"', '200', '72080', '\"-\"', '\"Mozilla/5.0', '(compatible;', 'Googlebot/2.1;', '+http://www.google.com/bot.html)\"']\n",
      "['66.249.65.38', '-', '-', '[30/Jan/2010:17:02:35', '+0200]', '\"GET', '/javascripts/jquery.autocomplete.js?1264605648', 'HTTP/1.1\"', '200', '6433', '\"-\"', '\"Mozilla/5.0', '(compatible;', 'Googlebot/2.1;', '+http://www.google.com/bot.html)\"']\n",
      "['66.249.65.38', '-', '-', '[30/Jan/2010:17:03:16', '+0200]', '\"GET', '/stylesheets/themes/nlcommons/ui.base.css', 'HTTP/1.1\"', '200', '111', '\"-\"', '\"Mozilla/5.0', '(compatible;', 'Googlebot/2.1;', '+http://www.google.com/bot.html)\"']\n",
      "['66.249.65.38', '-', '-', '[30/Jan/2010:17:03:16', '+0200]', '\"GET', '/stylesheets/themes/nlcommons/ui.theme.css', 'HTTP/1.1\"', '200', '2862', '\"-\"', '\"Mozilla/5.0', '(compatible;', 'Googlebot/2.1;', '+http://www.google.com/bot.html)\"']\n",
      "['66.249.65.38', '-', '-', '[30/Jan/2010:17:03:30', '+0200]', '\"GET', '/stylesheets/themes/nlcommons/ui.core.css', 'HTTP/1.1\"', '200', '624', '\"-\"', '\"Mozilla/5.0', '(compatible;', 'Googlebot/2.1;', '+http://www.google.com/bot.html)\"']\n",
      "['66.249.65.38', '-', '-', '[30/Jan/2010:17:03:31', '+0200]', '\"GET', '/stylesheets/themes/nlcommons/ui.accordion.css', 'HTTP/1.1\"', '200', '295', '\"-\"', '\"Mozilla/5.0', '(compatible;', 'Googlebot/2.1;', '+http://www.google.com/bot.html)\"']\n",
      "['66.249.65.38', '-', '-', '[30/Jan/2010:17:03:31', '+0200]', '\"GET', '/stylesheets/themes/nlcommons/ui.datepicker.css', 'HTTP/1.1\"', '200', '965', '\"-\"', '\"Mozilla/5.0', '(compatible;', 'Googlebot/2.1;', '+http://www.google.com/bot.html)\"']\n",
      "['66.249.65.38', '-', '-', '[30/Jan/2010:17:03:32', '+0200]', '\"GET', '/stylesheets/themes/nlcommons/ui.dialog.css', 'HTTP/1.1\"', '200', '442', '\"-\"', '\"Mozilla/5.0', '(compatible;', 'Googlebot/2.1;', '+http://www.google.com/bot.html)\"']\n",
      "['66.249.65.38', '-', '-', '[30/Jan/2010:17:03:32', '+0200]', '\"GET', '/stylesheets/themes/nlcommons/ui.slider.css', 'HTTP/1.1\"', '200', '318', '\"-\"', '\"Mozilla/5.0', '(compatible;', 'Googlebot/2.1;', '+http://www.google.com/bot.html)\"']\n",
      "['66.249.65.38', '-', '-', '[30/Jan/2010:17:03:33', '+0200]', '\"GET', '/stylesheets/themes/nlcommons/ui.progressbar.css', 'HTTP/1.1\"', '200', '114', '\"-\"', '\"Mozilla/5.0', '(compatible;', 'Googlebot/2.1;', '+http://www.google.com/bot.html)\"']\n",
      "['66.249.65.38', '-', '-', '[30/Jan/2010:17:03:34', '+0200]', '\"GET', '/stylesheets/themes/nlcommons/ui.tabs.css', 'HTTP/1.1\"', '200', '414', '\"-\"', '\"Mozilla/5.0', '(compatible;', 'Googlebot/2.1;', '+http://www.google.com/bot.html)\"']\n",
      "['66.249.65.38', '-', '-', '[30/Jan/2010:17:03:34', '+0200]', '\"GET', '/stylesheets/themes/nlcommons/ui.resizable.css', 'HTTP/1.1\"', '200', '307', '\"-\"', '\"Mozilla/5.0', '(compatible;', 'Googlebot/2.1;', '+http://www.google.com/bot.html)\"']\n",
      "['66.249.65.38', '-', '-', '[30/Jan/2010:17:06:29', '+0200]', '\"GET', '/browse/download_model/743', 'HTTP/1.1\"', '200', '10552', '\"-\"', '\"Mozilla/5.0', '(compatible;', 'Googlebot/2.1;', '+http://www.google.com/bot.html)\"']\n",
      "['66.249.65.38', '-', '-', '[30/Jan/2010:17:35:24', '+0200]', '\"GET', '/browse/download_model/2547', 'HTTP/1.1\"', '200', '40914', '\"-\"', '\"Mozilla/5.0', '(compatible;', 'Googlebot/2.1;', '+http://www.google.com/bot.html)\"']\n",
      "['65.55.207.126', '-', '-', '[30/Jan/2010:17:46:11', '+0200]', '\"GET', '/robots.txt', 'HTTP/1.1\"', '200', '99', '\"-\"', '\"msnbot/2.0b', '(+http://search.msn.com/msnbot.htm)\"']\n",
      "['65.55.207.126', '-', '-', '[30/Jan/2010:17:48:32', '+0200]', '\"GET', '/browse/one_model/1002', 'HTTP/1.1\"', '200', '2173', '\"-\"', '\"msnbot/2.0b', '(+http://search.msn.com/msnbot.htm)\"']\n",
      "['66.249.65.38', '-', '-', '[30/Jan/2010:18:04:31', '+0200]', '\"GET', '/browse/download_model/1210', 'HTTP/1.1\"', '200', '11948', '\"-\"', '\"Mozilla/5.0', '(compatible;', 'Googlebot/2.1;', '+http://www.google.com/bot.html)\"']\n",
      "['66.249.65.38', '-', '-', '[30/Jan/2010:18:33:30', '+0200]', '\"GET', '/browse/download_model/849', 'HTTP/1.1\"', '200', '6836', '\"-\"', '\"Mozilla/5.0', '(compatible;', 'Googlebot/2.1;', '+http://www.google.com/bot.html)\"']\n",
      "['66.249.65.38', '-', '-', '[30/Jan/2010:18:53:53', '+0200]', '\"GET', '/tags/one_tag/27', 'HTTP/1.1\"', '200', '2033', '\"-\"', '\"Mozilla/5.0', '(compatible;', 'Googlebot/2.1;', '+http://www.google.com/bot.html)\"']\n",
      "['66.249.65.38', '-', '-', '[30/Jan/2010:19:02:20', '+0200]', '\"GET', '/browse/download_model/739', 'HTTP/1.1\"', '200', '11302', '\"-\"', '\"Mozilla/5.0', '(compatible;', 'Googlebot/2.1;', '+http://www.google.com/bot.html)\"']\n",
      "['82.34.9.20', '-', '-', '[30/Jan/2010:19:18:24', '+0200]', '\"GET', '/account/models/33', 'HTTP/1.1\"', '200', '23774', '\"http://www.google.co.uk/search?hl=en&q=%22netlogo%22+sokoban&btnG=Search&meta=&aq=f&oq=\"', '\"Mozilla/4.0', '(compatible;', 'MSIE', '8.0;', 'Windows', 'NT', '5.1;', 'Trident/4.0;', '.NET', 'CLR', '2.0.50727;', '.NET', 'CLR', '3.0.4506.2152;', '.NET', 'CLR', '3.5.30729;', 'InfoPath.1)\"']\n",
      "['82.34.9.20', '-', '-', '[30/Jan/2010:19:18:18', '+0200]', '\"GET', '/account/models/33', 'HTTP/1.1\"', '200', '23774', '\"http://www.google.co.uk/search?hl=en&q=%22netlogo%22+sokoban&btnG=Search&meta=&aq=f&oq=\"', '\"Mozilla/4.0', '(compatible;', 'MSIE', '8.0;', 'Windows', 'NT', '5.1;', 'Trident/4.0;', '.NET', 'CLR', '2.0.50727;', '.NET', 'CLR', '3.0.4506.2152;', '.NET', 'CLR', '3.5.30729;', 'InfoPath.1)\"']\n",
      "['66.249.65.38', '-', '-', '[30/Jan/2010:19:31:07', '+0200]', '\"GET', '/browse/download_model/838', 'HTTP/1.1\"', '200', '7691', '\"-\"', '\"Mozilla/5.0', '(compatible;', 'Googlebot/2.1;', '+http://www.google.com/bot.html)\"']\n",
      "['66.249.65.38', '-', '-', '[30/Jan/2010:20:00:20', '+0200]', '\"GET', '/browse/download_model/2316', 'HTTP/1.1\"', '200', '48709', '\"-\"', '\"Mozilla/5.0', '(compatible;', 'Googlebot/2.1;', '+http://www.google.com/bot.html)\"']\n",
      "['66.249.65.38', '-', '-', '[30/Jan/2010:20:28:55', '+0200]', '\"GET', '/browse/download_model/840', 'HTTP/1.1\"', '200', '6063', '\"-\"', '\"Mozilla/5.0', '(compatible;', 'Googlebot/2.1;', '+http://www.google.com/bot.html)\"']\n",
      "['66.249.65.38', '-', '-', '[30/Jan/2010:20:47:05', '+0200]', '\"GET', '/?id=7', 'HTTP/1.1\"', '200', '3058', '\"-\"', '\"Mozilla/5.0', '(compatible;', 'Googlebot/2.1;', '+http://www.google.com/bot.html)\"']\n",
      "['66.249.65.38', '-', '-', '[30/Jan/2010:20:57:43', '+0200]', '\"GET', '/browse/download_model/806', 'HTTP/1.1\"', '200', '4263', '\"-\"', '\"Mozilla/5.0', '(compatible;', 'Googlebot/2.1;', '+http://www.google.com/bot.html)\"']\n",
      "['66.249.65.38', '-', '-', '[30/Jan/2010:21:07:44', '+0200]', '\"GET', '/account/mypage/17', 'HTTP/1.1\"', '200', '3103', '\"-\"', '\"Mozilla/5.0', '(compatible;', 'Googlebot/2.1;', '+http://www.google.com/bot.html)\"']\n",
      "['66.249.65.38', '-', '-', '[30/Jan/2010:21:26:36', '+0200]', '\"GET', '/browse/download_model/1891', 'HTTP/1.1\"', '200', '8570', '\"-\"', '\"Mozilla/5.0', '(compatible;', 'Googlebot/2.1;', '+http://www.google.com/bot.html)\"']\n",
      "['66.249.65.38', '-', '-', '[30/Jan/2010:21:56:01', '+0200]', '\"GET', '/browse/download_model/1881', 'HTTP/1.1\"', '200', '9618', '\"-\"', '\"Mozilla/5.0', '(compatible;', 'Googlebot/2.1;', '+http://www.google.com/bot.html)\"']\n",
      "['66.249.65.38', '-', '-', '[30/Jan/2010:22:25:13', '+0200]', '\"GET', '/browse/download_model/735', 'HTTP/1.1\"', '200', '16848', '\"-\"', '\"Mozilla/5.0', '(compatible;', 'Googlebot/2.1;', '+http://www.google.com/bot.html)\"']\n",
      "['65.55.106.155', '-', '-', '[30/Jan/2010:22:25:26', '+0200]', '\"GET', '/robots.txt', 'HTTP/1.1\"', '200', '99', '\"-\"', '\"msnbot/2.0b', '(+http://search.msn.com/msnbot.htm)\"']\n",
      "['65.55.106.155', '-', '-', '[30/Jan/2010:22:26:11', '+0200]', '\"GET', '/account/send_password', 'HTTP/1.1\"', '304', '-', '\"-\"', '\"msnbot/2.0b', '(+http://search.msn.com/msnbot.htm)\"']\n",
      "['66.249.65.38', '-', '-', '[30/Jan/2010:22:53:40', '+0200]', '\"GET', '/browse/download_model/1779', 'HTTP/1.1\"', '200', '8576', '\"-\"', '\"Mozilla/5.0', '(compatible;', 'Googlebot/2.1;', '+http://www.google.com/bot.html)\"']\n",
      "['66.249.65.38', '-', '-', '[30/Jan/2010:23:21:25', '+0200]', '\"GET', '/browse/follow/2029.atom', 'HTTP/1.1\"', '200', '653', '\"-\"', '\"Mozilla/5.0', '(compatible;', 'Googlebot/2.1;', '+http://www.google.com/bot.html)\"']\n",
      "['66.249.65.38', '-', '-', '[30/Jan/2010:23:22:21', '+0200]', '\"GET', '/browse/download_model/788', 'HTTP/1.1\"', '200', '3865', '\"-\"', '\"Mozilla/5.0', '(compatible;', 'Googlebot/2.1;', '+http://www.google.com/bot.html)\"']\n",
      "['66.249.65.38', '-', '-', '[30/Jan/2010:23:28:41', '+0200]', '\"GET', '/images/default-person.png?1245832850', 'HTTP/1.1\"', '200', '677', '\"-\"', '\"Googlebot-Image/1.0\"']\n",
      "['66.249.65.38', '-', '-', '[30/Jan/2010:23:53:12', '+0200]', '\"GET', '/browse/download_model/2340', 'HTTP/1.1\"', '200', '30305', '\"-\"', '\"Mozilla/5.0', '(compatible;', 'Googlebot/2.1;', '+http://www.google.com/bot.html)\"']\n",
      "['65.55.207.77', '-', '-', '[31/Jan/2010:00:06:37', '+0200]', '\"GET', '/robots.txt', 'HTTP/1.1\"', '200', '99', '\"-\"', '\"msnbot/2.0b', '(+http://search.msn.com/msnbot.htm)\"']\n",
      "['65.55.207.77', '-', '-', '[31/Jan/2010:00:09:36', '+0200]', '\"GET', '/browse/one_model/2152', 'HTTP/1.1\"', '200', '2195', '\"-\"', '\"msnbot/2.0b', '(+http://search.msn.com/msnbot.htm)\"']\n",
      "['66.249.65.38', '-', '-', '[31/Jan/2010:01:15:50', '+0200]', '\"GET', '/account/follow/2029.atom', 'HTTP/1.1\"', '404', '577', '\"-\"', '\"Mozilla/5.0', '(compatible;', 'Googlebot/2.1;', '+http://www.google.com/bot.html)\"']\n",
      "['67.218.116.165', '-', '-', '[31/Jan/2010:01:23:08', '+0200]', '\"GET', '/robots.txt', 'HTTP/1.0\"', '200', '99', '\"-\"', '\"Mozilla/5.0', '(Twiceler-0.9', 'http://www.cuil.com/twiceler/robot.html)\"']\n",
      "['66.249.65.38', '-', '-', '[31/Jan/2010:01:35:43', '+0200]', '\"GET', '/browse/one_model/2099', 'HTTP/1.1\"', '200', '2179', '\"-\"', '\"Mozilla/5.0', '(compatible;', 'Googlebot/2.1;', '+http://www.google.com/bot.html)\"']\n",
      "['208.80.193.28', '-', '-', '[31/Jan/2010:01:50:14', '+0200]', '\"GET', '/', 'HTTP/1.0\"', '302', '106', '\"-\"', '\"Mozilla/4.0', '(compatible;', 'MSIE', '6.0;', 'Windows', 'NT', '5.1;', 'SV1;', 'FunWebProducts;', '.NET', 'CLR', '1.0.3705;', '.NET', 'CLR', '1.1.4322;', 'Media', 'Center', 'PC', '4.0;', 'Hotbar', '10.0.356.0)\"']\n",
      "['66.249.65.38', '-', '-', '[31/Jan/2010:02:17:46', '+0200]', '\"GET', '/browse/download_model/985', 'HTTP/1.1\"', '200', '3204', '\"-\"', '\"Mozilla/5.0', '(compatible;', 'Googlebot/2.1;', '+http://www.google.com/bot.html)\"']\n",
      "['66.249.65.38', '-', '-', '[31/Jan/2010:02:48:17', '+0200]', '\"GET', '/browse/download_model/2162', 'HTTP/1.1\"', '200', '9362', '\"-\"', '\"Mozilla/5.0', '(compatible;', 'Googlebot/2.1;', '+http://www.google.com/bot.html)\"']\n",
      "['66.249.65.38', '-', '-', '[31/Jan/2010:02:51:11', '+0200]', '\"GET', '/browse/display_preview/2099', 'HTTP/1.1\"', '200', '7563', '\"-\"', '\"Googlebot-Image/1.0\"']\n",
      "['66.249.65.38', '-', '-', '[31/Jan/2010:03:04:16', '+0200]', '\"GET', '/browse/download_model/993', 'HTTP/1.1\"', '200', '3175', '\"-\"', '\"Mozilla/5.0', '(compatible;', 'Googlebot/2.1;', '+http://www.google.com/bot.html)\"']\n",
      "['66.249.65.38', '-', '-', '[31/Jan/2010:03:29:31', '+0200]', '\"GET', '/robots.txt', 'HTTP/1.1\"', '200', '99', '\"-\"', '\"Mozilla/5.0', '(compatible;', 'Googlebot/2.1;', '+http://www.google.com/bot.html)\"']\n",
      "['66.249.65.38', '-', '-', '[31/Jan/2010:03:29:31', '+0200]', '\"GET', '/browse/download_model/977', 'HTTP/1.1\"', '200', '2992', '\"-\"', '\"Mozilla/5.0', '(compatible;', 'Googlebot/2.1;', '+http://www.google.com/bot.html)\"']\n",
      "['66.249.65.38', '-', '-', '[31/Jan/2010:03:49:42', '+0200]', '\"GET', '/tags/one_tag/42', 'HTTP/1.1\"', '200', '2014', '\"-\"', '\"Mozilla/5.0', '(compatible;', 'Googlebot/2.1;', '+http://www.google.com/bot.html)\"']\n",
      "['66.249.65.38', '-', '-', '[31/Jan/2010:03:54:44', '+0200]', '\"GET', '/browse/download_model/746', 'HTTP/1.1\"', '200', '12754', '\"-\"', '\"Mozilla/5.0', '(compatible;', 'Googlebot/2.1;', '+http://www.google.com/bot.html)\"']\n",
      "['66.249.65.38', '-', '-', '[31/Jan/2010:04:19:51', '+0200]', '\"GET', '/browse/download_model/815', 'HTTP/1.1\"', '200', '6284', '\"-\"', '\"Mozilla/5.0', '(compatible;', 'Googlebot/2.1;', '+http://www.google.com/bot.html)\"']\n",
      "['89.248.172.58', '-', '-', '[31/Jan/2010:04:32:52', '+0200]', '\"GET', '/account/mypage/7', 'HTTP/1.1\"', '200', '14292', '\"-\"', '\"Mozilla/4.0', '(compatible;', 'MSIE', '6.0;', 'Windows', 'NT', '5.1;', 'SV1)\"']\n",
      "['89.248.172.58', '-', '-', '[31/Jan/2010:04:33:03', '+0200]', '\"GET', '/', 'HTTP/1.1\"', '302', '106', '\"-\"', '\"Mozilla/4.0', '(compatible;', 'MSIE', '6.0;', 'Windows', 'NT', '5.1;', 'SV1)\"']\n",
      "['89.248.172.58', '-', '-', '[31/Jan/2010:04:33:03', '+0200]', '\"GET', '/account/login', 'HTTP/1.1\"', '200', '5998', '\"-\"', '\"Mozilla/4.0', '(compatible;', 'MSIE', '6.0;', 'Windows', 'NT', '5.1;', 'SV1)\"']\n",
      "['89.248.172.58', '-', '-', '[31/Jan/2010:04:33:04', '+0200]', '\"GET', '/browse/list_models', 'HTTP/1.1\"', '200', '21752', '\"-\"', '\"Mozilla/4.0', '(compatible;', 'MSIE', '6.0;', 'Windows', 'NT', '5.1;', 'SV1)\"']\n",
      "['89.248.172.58', '-', '-', '[31/Jan/2010:04:33:05', '+0200]', '\"GET', '/browse/about', 'HTTP/1.1\"', '200', '6801', '\"-\"', '\"Mozilla/4.0', '(compatible;', 'MSIE', '6.0;', 'Windows', 'NT', '5.1;', 'SV1)\"']\n",
      "['89.248.172.58', '-', '-', '[31/Jan/2010:04:33:06', '+0200]', '\"GET', '/help', 'HTTP/1.1\"', '200', '5683', '\"-\"', '\"Mozilla/4.0', '(compatible;', 'MSIE', '6.0;', 'Windows', 'NT', '5.1;', 'SV1)\"']\n",
      "['89.248.172.58', '-', '-', '[31/Jan/2010:04:33:06', '+0200]', '\"GET', '/account/login', 'HTTP/1.1\"', '200', '5801', '\"-\"', '\"Mozilla/4.0', '(compatible;', 'MSIE', '6.0;', 'Windows', 'NT', '5.1;', 'SV1)\"']\n",
      "['89.248.172.58', '-', '-', '[31/Jan/2010:04:33:07', '+0200]', '\"GET', '/account/follow/7.atom', 'HTTP/1.1\"', '200', '4893', '\"-\"', '\"Mozilla/4.0', '(compatible;', 'MSIE', '6.0;', 'Windows', 'NT', '5.1;', 'SV1)\"']\n",
      "['89.248.172.58', '-', '-', '[31/Jan/2010:04:33:07', '+0200]', '\"GET', '/browse/one_model/1210', 'HTTP/1.1\"', '200', '6905', '\"-\"', '\"Mozilla/4.0', '(compatible;', 'MSIE', '6.0;', 'Windows', 'NT', '5.1;', 'SV1)\"']\n",
      "['89.248.172.58', '-', '-', '[31/Jan/2010:04:33:08', '+0200]', '\"GET', '/browse/one_model/1390', 'HTTP/1.1\"', '200', '6957', '\"-\"', '\"Mozilla/4.0', '(compatible;', 'MSIE', '6.0;', 'Windows', 'NT', '5.1;', 'SV1)\"']\n",
      "['89.248.172.58', '-', '-', '[31/Jan/2010:04:33:09', '+0200]', '\"GET', '/browse/one_model/2495', 'HTTP/1.1\"', '200', '7013', '\"-\"', '\"Mozilla/4.0', '(compatible;', 'MSIE', '6.0;', 'Windows', 'NT', '5.1;', 'SV1)\"']\n",
      "['89.248.172.58', '-', '-', '[31/Jan/2010:04:33:09', '+0200]', '\"GET', '/browse/one_model/2518', 'HTTP/1.1\"', '200', '6869', '\"-\"', '\"Mozilla/4.0', '(compatible;', 'MSIE', '6.0;', 'Windows', 'NT', '5.1;', 'SV1)\"']\n",
      "['89.248.172.58', '-', '-', '[31/Jan/2010:04:33:10', '+0200]', '\"GET', '/browse/one_model/1408', 'HTTP/1.1\"', '200', '6893', '\"-\"', '\"Mozilla/4.0', '(compatible;', 'MSIE', '6.0;', 'Windows', 'NT', '5.1;', 'SV1)\"']\n",
      "['89.248.172.58', '-', '-', '[31/Jan/2010:04:33:11', '+0200]', '\"GET', '/tags/one_tag/48', 'HTTP/1.1\"', '200', '6313', '\"-\"', '\"Mozilla/4.0', '(compatible;', 'MSIE', '6.0;', 'Windows', 'NT', '5.1;', 'SV1)\"']\n",
      "['89.248.172.58', '-', '-', '[31/Jan/2010:04:33:11', '+0200]', '\"GET', '/tags/one_tag/8', 'HTTP/1.1\"', '200', '6295', '\"-\"', '\"Mozilla/4.0', '(compatible;', 'MSIE', '6.0;', 'Windows', 'NT', '5.1;', 'SV1)\"']\n",
      "['89.248.172.58', '-', '-', '[31/Jan/2010:04:33:12', '+0200]', '\"GET', '/browse/one_model/815', 'HTTP/1.1\"', '200', '6839', '\"-\"', '\"Mozilla/4.0', '(compatible;', 'MSIE', '6.0;', 'Windows', 'NT', '5.1;', 'SV1)\"']\n",
      "['89.248.172.58', '-', '-', '[31/Jan/2010:04:33:13', '+0200]', '\"GET', '/browse/one_model/2547', 'HTTP/1.1\"', '200', '6890', '\"-\"', '\"Mozilla/4.0', '(compatible;', 'MSIE', '6.0;', 'Windows', 'NT', '5.1;', 'SV1)\"']\n",
      "['89.248.172.58', '-', '-', '[31/Jan/2010:04:33:13', '+0200]', '\"GET', '/browse/one_model/1578', 'HTTP/1.1\"', '200', '6913', '\"-\"', '\"Mozilla/4.0', '(compatible;', 'MSIE', '6.0;', 'Windows', 'NT', '5.1;', 'SV1)\"']\n",
      "['89.248.172.58', '-', '-', '[31/Jan/2010:04:33:14', '+0200]', '\"GET', '/browse/one_model/2510', 'HTTP/1.1\"', '200', '6829', '\"-\"', '\"Mozilla/4.0', '(compatible;', 'MSIE', '6.0;', 'Windows', 'NT', '5.1;', 'SV1)\"']\n",
      "['89.248.172.58', '-', '-', '[31/Jan/2010:04:33:14', '+0200]', '\"GET', '/browse/one_model/999', 'HTTP/1.1\"', '200', '6860', '\"-\"', '\"Mozilla/4.0', '(compatible;', 'MSIE', '6.0;', 'Windows', 'NT', '5.1;', 'SV1)\"']\n",
      "['89.248.172.58', '-', '-', '[31/Jan/2010:04:33:15', '+0200]', '\"GET', '/account/models/7', 'HTTP/1.1\"', '200', '8787', '\"-\"', '\"Mozilla/4.0', '(compatible;', 'MSIE', '6.0;', 'Windows', 'NT', '5.1;', 'SV1)\"']\n",
      "['89.248.172.58', '-', '-', '[31/Jan/2010:04:33:16', '+0200]', '\"GET', '/?id=17', 'HTTP/1.1\"', '200', '14542', '\"-\"', '\"Mozilla/4.0', '(compatible;', 'MSIE', '6.0;', 'Windows', 'NT', '5.1;', 'SV1)\"']\n",
      "['66.249.65.38', '-', '-', '[31/Jan/2010:04:45:02', '+0200]', '\"GET', '/browse/download_model/2182', 'HTTP/1.1\"', '200', '16607', '\"-\"', '\"Mozilla/5.0', '(compatible;', 'Googlebot/2.1;', '+http://www.google.com/bot.html)\"']\n",
      "['66.249.65.38', '-', '-', '[31/Jan/2010:05:10:16', '+0200]', '\"GET', '/browse/download_model/900', 'HTTP/1.1\"', '200', '3440', '\"-\"', '\"Mozilla/5.0', '(compatible;', 'Googlebot/2.1;', '+http://www.google.com/bot.html)\"']\n",
      "['66.249.65.38', '-', '-', '[31/Jan/2010:05:17:05', '+0200]', '\"GET', '/?id=8', 'HTTP/1.1\"', '200', '3018', '\"-\"', '\"Mozilla/5.0', '(compatible;', 'Googlebot/2.1;', '+http://www.google.com/bot.html)\"']\n",
      "['66.249.65.38', '-', '-', '[31/Jan/2010:05:35:29', '+0200]', '\"GET', '/browse/download_model/797', 'HTTP/1.1\"', '200', '11950', '\"-\"', '\"Mozilla/5.0', '(compatible;', 'Googlebot/2.1;', '+http://www.google.com/bot.html)\"']\n",
      "['66.249.65.38', '-', '-', '[31/Jan/2010:06:00:42', '+0200]', '\"GET', '/browse/download_model/2606', 'HTTP/1.1\"', '200', '357240', '\"-\"', '\"Mozilla/5.0', '(compatible;', 'Googlebot/2.1;', '+http://www.google.com/bot.html)\"']\n",
      "['66.249.65.38', '-', '-', '[31/Jan/2010:06:03:13', '+0200]', '\"GET', '/browse/one_model/993', 'HTTP/1.1\"', '200', '2170', '\"-\"', '\"Mozilla/5.0', '(compatible;', 'Googlebot/2.1;', '+http://www.google.com/bot.html)\"']\n",
      "['66.249.65.38', '-', '-', '[31/Jan/2010:06:25:55', '+0200]', '\"GET', '/browse/download_model/2601', 'HTTP/1.1\"', '200', '2498832', '\"-\"', '\"Mozilla/5.0', '(compatible;', 'Googlebot/2.1;', '+http://www.google.com/bot.html)\"']\n",
      "['66.249.65.38', '-', '-', '[31/Jan/2010:06:51:01', '+0200]', '\"GET', '/browse/download_model/2596', 'HTTP/1.1\"', '200', '220990', '\"-\"', '\"Mozilla/5.0', '(compatible;', 'Googlebot/2.1;', '+http://www.google.com/bot.html)\"']\n",
      "['66.249.65.38', '-', '-', '[31/Jan/2010:07:06:26', '+0200]', '\"GET', '/browse/display_preview/2244', 'HTTP/1.1\"', '200', '4072', '\"-\"', '\"Googlebot-Image/1.0\"']\n",
      "['66.249.65.38', '-', '-', '[31/Jan/2010:07:16:18', '+0200]', '\"GET', '/browse/download_model/2752', 'HTTP/1.1\"', '200', '3146', '\"-\"', '\"Mozilla/5.0', '(compatible;', 'Googlebot/2.1;', '+http://www.google.com/bot.html)\"']\n",
      "['66.249.65.38', '-', '-', '[31/Jan/2010:07:41:27', '+0200]', '\"GET', '/browse/download_model/2492', 'HTTP/1.1\"', '200', '1680079', '\"-\"', '\"Mozilla/5.0', '(compatible;', 'Googlebot/2.1;', '+http://www.google.com/bot.html)\"']\n",
      "['66.249.65.38', '-', '-', '[31/Jan/2010:08:06:40', '+0200]', '\"GET', '/browse/download_model/1408', 'HTTP/1.1\"', '200', '25038', '\"-\"', '\"Mozilla/5.0', '(compatible;', 'Googlebot/2.1;', '+http://www.google.com/bot.html)\"']\n",
      "['66.249.65.38', '-', '-', '[31/Jan/2010:08:31:50', '+0200]', '\"GET', '/browse/download_model/2511', 'HTTP/1.1\"', '200', '39499', '\"-\"', '\"Mozilla/5.0', '(compatible;', 'Googlebot/2.1;', '+http://www.google.com/bot.html)\"']\n",
      "['66.249.65.38', '-', '-', '[31/Jan/2010:08:56:59', '+0200]', '\"GET', '/browse/download_model/2479', 'HTTP/1.1\"', '200', '39598', '\"-\"', '\"Mozilla/5.0', '(compatible;', 'Googlebot/2.1;', '+http://www.google.com/bot.html)\"']\n",
      "['66.249.65.38', '-', '-', '[31/Jan/2010:09:22:13', '+0200]', '\"GET', '/browse/download_model/2754', 'HTTP/1.1\"', '200', '3279', '\"-\"', '\"Mozilla/5.0', '(compatible;', 'Googlebot/2.1;', '+http://www.google.com/bot.html)\"']\n",
      "['66.249.65.38', '-', '-', '[31/Jan/2010:09:47:25', '+0200]', '\"GET', '/browse/download_model/2751', 'HTTP/1.1\"', '200', '3146', '\"-\"', '\"Mozilla/5.0', '(compatible;', 'Googlebot/2.1;', '+http://www.google.com/bot.html)\"']\n",
      "['66.249.65.38', '-', '-', '[31/Jan/2010:10:12:33', '+0200]', '\"GET', '/browse/download_model/2656', 'HTTP/1.1\"', '200', '117532', '\"-\"', '\"Mozilla/5.0', '(compatible;', 'Googlebot/2.1;', '+http://www.google.com/bot.html)\"']\n",
      "['66.249.65.38', '-', '-', '[31/Jan/2010:10:30:53', '+0200]', '\"GET', '/browse/one_node/2701', 'HTTP/1.1\"', '200', '39424', '\"-\"', '\"Mozilla/5.0', '(compatible;', 'Googlebot/2.1;', '+http://www.google.com/bot.html)\"']\n",
      "['66.249.65.38', '-', '-', '[31/Jan/2010:10:37:46', '+0200]', '\"GET', '/browse/download_model/935', 'HTTP/1.1\"', '200', '5014', '\"-\"', '\"Mozilla/5.0', '(compatible;', 'Googlebot/2.1;', '+http://www.google.com/bot.html)\"']\n",
      "['66.249.65.38', '-', '-', '[31/Jan/2010:11:03:00', '+0200]', '\"GET', '/browse/download_model/717', 'HTTP/1.1\"', '200', '30442', '\"-\"', '\"Mozilla/5.0', '(compatible;', 'Googlebot/2.1;', '+http://www.google.com/bot.html)\"']\n",
      "['66.249.65.38', '-', '-', '[31/Jan/2010:11:28:14', '+0200]', '\"GET', '/browse/download_model/751', 'HTTP/1.1\"', '200', '7485', '\"-\"', '\"Mozilla/5.0', '(compatible;', 'Googlebot/2.1;', '+http://www.google.com/bot.html)\"']\n",
      "['66.249.65.38', '-', '-', '[31/Jan/2010:11:53:26', '+0200]', '\"GET', '/browse/download_model/2549', 'HTTP/1.1\"', '200', '5052', '\"-\"', '\"Mozilla/5.0', '(compatible;', 'Googlebot/2.1;', '+http://www.google.com/bot.html)\"']\n",
      "['66.249.65.38', '-', '-', '[31/Jan/2010:12:18:38', '+0200]', '\"GET', '/browse/download_model/2650', 'HTTP/1.1\"', '200', '57739', '\"-\"', '\"Mozilla/5.0', '(compatible;', 'Googlebot/2.1;', '+http://www.google.com/bot.html)\"']\n",
      "['66.249.65.38', '-', '-', '[31/Jan/2010:12:43:41', '+0200]', '\"GET', '/browse/download_model/729', 'HTTP/1.1\"', '200', '13146', '\"-\"', '\"Mozilla/5.0', '(compatible;', 'Googlebot/2.1;', '+http://www.google.com/bot.html)\"']\n",
      "['66.249.65.38', '-', '-', '[31/Jan/2010:12:45:28', '+0200]', '\"GET', '/browse/browse_applet_tab/2593', 'HTTP/1.1\"', '200', '10305', '\"-\"', '\"Mozilla/5.0', '(compatible;', 'Googlebot/2.1;', '+http://www.google.com/bot.html)\"']\n",
      "['66.249.65.38', '-', '-', '[31/Jan/2010:13:09:00', '+0200]', '\"GET', '/browse/download_model/814', 'HTTP/1.1\"', '200', '3066', '\"-\"', '\"Mozilla/5.0', '(compatible;', 'Googlebot/2.1;', '+http://www.google.com/bot.html)\"']\n",
      "['66.249.65.38', '-', '-', '[31/Jan/2010:13:34:05', '+0200]', '\"GET', '/browse/download_model/2629', 'HTTP/1.1\"', '200', '62903', '\"-\"', '\"Mozilla/5.0', '(compatible;', 'Googlebot/2.1;', '+http://www.google.com/bot.html)\"']\n",
      "['66.249.65.38', '-', '-', '[31/Jan/2010:13:59:27', '+0200]', '\"GET', '/browse/download_model/2644', 'HTTP/1.1\"', '200', '12122', '\"-\"', '\"Mozilla/5.0', '(compatible;', 'Googlebot/2.1;', '+http://www.google.com/bot.html)\"']\n",
      "['66.249.65.38', '-', '-', '[31/Jan/2010:14:24:30', '+0200]', '\"GET', '/browse/download_model/804', 'HTTP/1.1\"', '200', '4085', '\"-\"', '\"Mozilla/5.0', '(compatible;', 'Googlebot/2.1;', '+http://www.google.com/bot.html)\"']\n",
      "['67.195.112.35', '-', '-', '[31/Jan/2010:14:45:44', '+0200]', '\"GET', '/robots.txt', 'HTTP/1.0\"', '200', '99', '\"-\"', '\"Mozilla/5.0', '(compatible;', 'Yahoo!', 'Slurp;', 'http://help.yahoo.com/help/us/ysearch/slurp)\"']\n",
      "['67.195.112.35', '-', '-', '[31/Jan/2010:14:45:44', '+0200]', '\"GET', '/account/new', 'HTTP/1.0\"', '200', '2226', '\"-\"', '\"Mozilla/5.0', '(compatible;', 'Yahoo!', 'Slurp/3.0;', 'http://help.yahoo.com/help/us/ysearch/slurp)\"']\n",
      "['67.195.112.35', '-', '-', '[31/Jan/2010:14:45:47', '+0200]', '\"GET', '/stylesheets/nlcommons.css?1264605648', 'HTTP/1.0\"', '200', '1179', '\"http://modelingcommons.org/account/new\"', '\"Mozilla/5.0', '(compatible;', 'Yahoo!', 'Slurp/3.0;', 'http://help.yahoo.com/help/us/ysearch/slurp)\"']\n",
      "['67.195.112.35', '-', '-', '[31/Jan/2010:14:45:50', '+0200]', '\"GET', '/stylesheets/browse.css?1264605648', 'HTTP/1.0\"', '200', '422', '\"http://modelingcommons.org/account/new\"', '\"Mozilla/5.0', '(compatible;', 'Yahoo!', 'Slurp/3.0;', 'http://help.yahoo.com/help/us/ysearch/slurp)\"']\n",
      "['67.195.112.35', '-', '-', '[31/Jan/2010:14:45:52', '+0200]', '\"GET', '/stylesheets/jquery.autocomplete.css?1264605648', 'HTTP/1.0\"', '200', '447', '\"http://modelingcommons.org/account/new\"', '\"Mozilla/5.0', '(compatible;', 'Yahoo!', 'Slurp/3.0;', 'http://help.yahoo.com/help/us/ysearch/slurp)\"']\n",
      "['67.195.112.35', '-', '-', '[31/Jan/2010:14:45:55', '+0200]', '\"GET', '/stylesheets/themes/nlcommons/ui.all.css?1264605648', 'HTTP/1.0\"', '200', '52', '\"http://modelingcommons.org/account/new\"', '\"Mozilla/5.0', '(compatible;', 'Yahoo!', 'Slurp/3.0;', 'http://help.yahoo.com/help/us/ysearch/slurp)\"']\n",
      "['67.195.112.35', '-', '-', '[31/Jan/2010:14:45:57', '+0200]', '\"GET', '/stylesheets/themes/nlcommons/ui.theme.css', 'HTTP/1.0\"', '200', '2862', '\"http://modelingcommons.org/stylesheets/themes/nlcommons/ui.all.css?1264605648\"', '\"Mozilla/5.0', '(compatible;', 'Yahoo!', 'Slurp/3.0;', 'http://help.yahoo.com/help/us/ysearch/slurp)\"']\n",
      "['67.195.112.35', '-', '-', '[31/Jan/2010:14:45:57', '+0200]', '\"GET', '/stylesheets/themes/nlcommons/ui.base.css', 'HTTP/1.0\"', '200', '111', '\"http://modelingcommons.org/stylesheets/themes/nlcommons/ui.all.css?1264605648\"', '\"Mozilla/5.0', '(compatible;', 'Yahoo!', 'Slurp/3.0;', 'http://help.yahoo.com/help/us/ysearch/slurp)\"']\n",
      "['67.195.112.35', '-', '-', '[31/Jan/2010:14:45:59', '+0200]', '\"GET', '/stylesheets/themes/nlcommons/ui.slider.css', 'HTTP/1.0\"', '200', '318', '\"http://modelingcommons.org/stylesheets/themes/nlcommons/ui.base.css\"', '\"Mozilla/5.0', '(compatible;', 'Yahoo!', 'Slurp/3.0;', 'http://help.yahoo.com/help/us/ysearch/slurp)\"']\n",
      "['67.195.112.35', '-', '-', '[31/Jan/2010:14:45:59', '+0200]', '\"GET', '/stylesheets/themes/nlcommons/ui.core.css', 'HTTP/1.0\"', '200', '624', '\"http://modelingcommons.org/stylesheets/themes/nlcommons/ui.base.css\"', '\"Mozilla/5.0', '(compatible;', 'Yahoo!', 'Slurp/3.0;', 'http://help.yahoo.com/help/us/ysearch/slurp)\"']\n",
      "['67.195.112.35', '-', '-', '[31/Jan/2010:14:45:59', '+0200]', '\"GET', '/stylesheets/themes/nlcommons/ui.tabs.css', 'HTTP/1.0\"', '200', '414', '\"http://modelingcommons.org/stylesheets/themes/nlcommons/ui.base.css\"', '\"Mozilla/5.0', '(compatible;', 'Yahoo!', 'Slurp/3.0;', 'http://help.yahoo.com/help/us/ysearch/slurp)\"']\n",
      "['67.195.112.35', '-', '-', '[31/Jan/2010:14:45:59', '+0200]', '\"GET', '/stylesheets/themes/nlcommons/ui.accordion.css', 'HTTP/1.0\"', '200', '295', '\"http://modelingcommons.org/stylesheets/themes/nlcommons/ui.base.css\"', '\"Mozilla/5.0', '(compatible;', 'Yahoo!', 'Slurp/3.0;', 'http://help.yahoo.com/help/us/ysearch/slurp)\"']\n",
      "['67.195.112.35', '-', '-', '[31/Jan/2010:14:45:59', '+0200]', '\"GET', '/stylesheets/themes/nlcommons/ui.dialog.css', 'HTTP/1.0\"', '200', '442', '\"http://modelingcommons.org/stylesheets/themes/nlcommons/ui.base.css\"', '\"Mozilla/5.0', '(compatible;', 'Yahoo!', 'Slurp/3.0;', 'http://help.yahoo.com/help/us/ysearch/slurp)\"']\n",
      "['67.195.112.35', '-', '-', '[31/Jan/2010:14:45:59', '+0200]', '\"GET', '/stylesheets/themes/nlcommons/ui.resizable.css', 'HTTP/1.0\"', '200', '307', '\"http://modelingcommons.org/stylesheets/themes/nlcommons/ui.base.css\"', '\"Mozilla/5.0', '(compatible;', 'Yahoo!', 'Slurp/3.0;', 'http://help.yahoo.com/help/us/ysearch/slurp)\"']\n",
      "['67.195.112.35', '-', '-', '[31/Jan/2010:14:45:59', '+0200]', '\"GET', '/stylesheets/themes/nlcommons/ui.datepicker.css', 'HTTP/1.0\"', '200', '965', '\"http://modelingcommons.org/stylesheets/themes/nlcommons/ui.base.css\"', '\"Mozilla/5.0', '(compatible;', 'Yahoo!', 'Slurp/3.0;', 'http://help.yahoo.com/help/us/ysearch/slurp)\"']\n",
      "['67.195.112.35', '-', '-', '[31/Jan/2010:14:45:59', '+0200]', '\"GET', '/stylesheets/themes/nlcommons/ui.progressbar.css', 'HTTP/1.0\"', '200', '114', '\"http://modelingcommons.org/stylesheets/themes/nlcommons/ui.base.css\"', '\"Mozilla/5.0', '(compatible;', 'Yahoo!', 'Slurp/3.0;', 'http://help.yahoo.com/help/us/ysearch/slurp)\"']\n",
      "['66.249.65.38', '-', '-', '[31/Jan/2010:14:49:40', '+0200]', '\"GET', '/browse/download_model/1420', 'HTTP/1.1\"', '200', '73293', '\"-\"', '\"Mozilla/5.0', '(compatible;', 'Googlebot/2.1;', '+http://www.google.com/bot.html)\"']\n",
      "['65.55.207.50', '-', '-', '[31/Jan/2010:15:07:49', '+0200]', '\"GET', '/robots.txt', 'HTTP/1.1\"', '200', '99', '\"-\"', '\"msnbot/2.0b', '(+http://search.msn.com/msnbot.htm)\"']\n",
      "['65.55.207.50', '-', '-', '[31/Jan/2010:15:09:06', '+0200]', '\"GET', '/', 'HTTP/1.1\"', '302', '109', '\"-\"', '\"msnbot/2.0b', '(+http://search.msn.com/msnbot.htm)\"']\n",
      "['65.55.207.50', '-', '-', '[31/Jan/2010:15:09:14', '+0200]', '\"GET', '/account/login', 'HTTP/1.1\"', '200', '1935', '\"-\"', '\"msnbot/2.0b', '(+http://search.msn.com/msnbot.htm)\"']\n",
      "['66.249.65.38', '-', '-', '[31/Jan/2010:15:14:55', '+0200]', '\"GET', '/browse/download_model/766', 'HTTP/1.1\"', '200', '10923', '\"-\"', '\"Mozilla/5.0', '(compatible;', 'Googlebot/2.1;', '+http://www.google.com/bot.html)\"']\n",
      "['66.249.65.38', '-', '-', '[31/Jan/2010:15:40:01', '+0200]', '\"GET', '/browse/download_model/756', 'HTTP/1.1\"', '200', '4632', '\"-\"', '\"Mozilla/5.0', '(compatible;', 'Googlebot/2.1;', '+http://www.google.com/bot.html)\"']\n",
      "['66.249.65.38', '-', '-', '[31/Jan/2010:16:05:28', '+0200]', '\"GET', '/browse/download_model/757', 'HTTP/1.1\"', '200', '11079', '\"-\"', '\"Mozilla/5.0', '(compatible;', 'Googlebot/2.1;', '+http://www.google.com/bot.html)\"']\n",
      "['66.249.65.38', '-', '-', '[31/Jan/2010:16:30:36', '+0200]', '\"GET', '/browse/download_model/725', 'HTTP/1.1\"', '200', '16082', '\"-\"', '\"Mozilla/5.0', '(compatible;', 'Googlebot/2.1;', '+http://www.google.com/bot.html)\"']\n",
      "['66.249.65.38', '-', '-', '[31/Jan/2010:16:55:37', '+0200]', '\"GET', '/browse/download_model/2473', 'HTTP/1.1\"', '200', '211110', '\"-\"', '\"Mozilla/5.0', '(compatible;', 'Googlebot/2.1;', '+http://www.google.com/bot.html)\"']\n",
      "['66.249.65.38', '-', '-', '[31/Jan/2010:17:20:49', '+0200]', '\"GET', '/browse/download_model/1510', 'HTTP/1.1\"', '200', '35814', '\"-\"', '\"Mozilla/5.0', '(compatible;', 'Googlebot/2.1;', '+http://www.google.com/bot.html)\"']\n",
      "['65.55.215.75', '-', '-', '[31/Jan/2010:17:39:03', '+0200]', '\"GET', '/robots.txt', 'HTTP/1.1\"', '200', '99', '\"-\"', '\"msnbot/2.0b', '(+http://search.msn.com/msnbot.htm)\"']\n",
      "['65.55.215.75', '-', '-', '[31/Jan/2010:17:40:02', '+0200]', '\"GET', '/browse/list_models', 'HTTP/1.1\"', '304', '-', '\"-\"', '\"msnbot/2.0b', '(+http://search.msn.com/msnbot.htm)\"']\n",
      "['66.249.65.38', '-', '-', '[31/Jan/2010:17:46:08', '+0200]', '\"GET', '/browse/download_model/802', 'HTTP/1.1\"', '200', '4800', '\"-\"', '\"Mozilla/5.0', '(compatible;', 'Googlebot/2.1;', '+http://www.google.com/bot.html)\"']\n",
      "['66.249.65.38', '-', '-', '[31/Jan/2010:18:11:17', '+0200]', '\"GET', '/browse/download_model/2194', 'HTTP/1.1\"', '200', '11380', '\"-\"', '\"Mozilla/5.0', '(compatible;', 'Googlebot/2.1;', '+http://www.google.com/bot.html)\"']\n",
      "['66.249.65.38', '-', '-', '[31/Jan/2010:18:36:25', '+0200]', '\"GET', '/browse/download_model/1572', 'HTTP/1.1\"', '200', '10239', '\"-\"', '\"Mozilla/5.0', '(compatible;', 'Googlebot/2.1;', '+http://www.google.com/bot.html)\"']\n",
      "['66.249.65.38', '-', '-', '[31/Jan/2010:19:01:55', '+0200]', '\"GET', '/browse/download_model/1806', 'HTTP/1.1\"', '200', '12739', '\"-\"', '\"Mozilla/5.0', '(compatible;', 'Googlebot/2.1;', '+http://www.google.com/bot.html)\"']\n",
      "['66.249.65.38', '-', '-', '[31/Jan/2010:19:26:45', '+0200]', '\"GET', '/browse/download_model/930', 'HTTP/1.1\"', '200', '8271', '\"-\"', '\"Mozilla/5.0', '(compatible;', 'Googlebot/2.1;', '+http://www.google.com/bot.html)\"']\n",
      "['66.249.65.38', '-', '-', '[31/Jan/2010:19:52:00', '+0200]', '\"GET', '/browse/download_model/2041', 'HTTP/1.1\"', '200', '18891', '\"-\"', '\"Mozilla/5.0', '(compatible;', 'Googlebot/2.1;', '+http://www.google.com/bot.html)\"']\n",
      "['66.249.65.38', '-', '-', '[31/Jan/2010:20:17:07', '+0200]', '\"GET', '/browse/download_model/1800', 'HTTP/1.1\"', '200', '14802', '\"-\"', '\"Mozilla/5.0', '(compatible;', 'Googlebot/2.1;', '+http://www.google.com/bot.html)\"']\n",
      "['66.249.65.38', '-', '-', '[31/Jan/2010:20:42:19', '+0200]', '\"GET', '/browse/one_node/1613', 'HTTP/1.1\"', '200', '27080', '\"-\"', '\"Mozilla/5.0', '(compatible;', 'Googlebot/2.1;', '+http://www.google.com/bot.html)\"']\n",
      "['66.249.65.38', '-', '-', '[31/Jan/2010:21:08:00', '+0200]', '\"GET', '/browse/one_node/1892', 'HTTP/1.1\"', '200', '1296', '\"-\"', '\"Mozilla/5.0', '(compatible;', 'Googlebot/2.1;', '+http://www.google.com/bot.html)\"']\n"
     ]
    }
   ],
   "source": [
    "# how many times did each IP address make a request to my system?\n",
    "\n",
    "counts = {}   # create an empty dict -- IP addresses will be keys, integers (counts) will be values\n",
    "\n",
    "for one_line in open('mini-access-log.txt'):\n",
    "    fields = one_line.split() # return a list of strings, based on one_line, using whitespace separators\n",
    "    ip_address = fields[0]\n",
    "    \n",
    "    if ip_address in counts:   # have we seen this IP address before?\n",
    "        "
   ]
  },
  {
   "cell_type": "code",
   "execution_count": null,
   "id": "1d7577ba",
   "metadata": {},
   "outputs": [],
   "source": []
  }
 ],
 "metadata": {
  "kernelspec": {
   "display_name": "Python 3 (ipykernel)",
   "language": "python",
   "name": "python3"
  },
  "language_info": {
   "codemirror_mode": {
    "name": "ipython",
    "version": 3
   },
   "file_extension": ".py",
   "mimetype": "text/x-python",
   "name": "python",
   "nbconvert_exporter": "python",
   "pygments_lexer": "ipython3",
   "version": "3.10.1"
  }
 },
 "nbformat": 4,
 "nbformat_minor": 5
}
