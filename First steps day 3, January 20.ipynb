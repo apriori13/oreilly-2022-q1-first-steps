{
 "cells": [
  {
   "cell_type": "markdown",
   "id": "6d0b4edf",
   "metadata": {},
   "source": [
    "# Week 3: Dictionaries and files\n",
    "\n",
    "1. Recap of last week\n",
    "2. Dictionaries\n",
    "3. Text files -- reading and writing"
   ]
  },
  {
   "cell_type": "markdown",
   "id": "2ab3f133",
   "metadata": {},
   "source": [
    "# Recap \n",
    "\n",
    "1. Data structures!\n",
    "    - Each data structure allows us to store and retrieve data in a different way\n",
    "    - Numbers (integers and floats)\n",
    "2. Sequences \n",
    "    - Strings: immutable (cannot be changed), contain characters\n",
    "        - anything textual -- user input, displaying on the screen, reading from files, reading from the network, sending e-mail\n",
    "        - `str.strip` -- removes whitespace from the sides\n",
    "        - `str.isdigit` -- tells us if there are only digits in the string\n",
    "        - `str.lower` -- returns a new string, based on ours, in lowercase\n",
    "    - Lists: mutable (can be changed), contain anything\n",
    "        - collections of data (traditionally of the same type) -- lists of users, lists of filenames, lists of folders, lists of IP addresses\n",
    "        - `list.append` -- adds an element to the end of the list\n",
    "        - `list.pop` -- removes the element from the end of a list\n",
    "    - Tuples: immutable (cannot be changed), contain anything\n",
    "        - collections of *differently*-typed data -- records or structs\n",
    "    - All sequences can do:\n",
    "        - Retrieve with `[i]`, where `i` is a numeric index\n",
    "        - Get the length with `len(s)`, where `s` is a sequence\n",
    "        - Retrieve a slice with `[start:stop]`\n",
    "        - Search with `in`\n",
    "        - Loop with `for`\n",
    "3. Loops\n",
    "    - `for` loops -- iterate over every element of a sequence\n",
    "    - `for` loops on `range(n)` gives us `n` items, from 0 to `n`-1\n",
    "    - `while` loops, which run so long as the condition is `True`\n",
    "4. Strings to lists and back       \n",
    "    - `str.split` -- returns a list of strings, based on the string\n",
    "    - `str.join` -- returns a string, based on a \"glue\" string and a list of strings"
   ]
  },
  {
   "cell_type": "code",
   "execution_count": null,
   "id": "f4c3d453",
   "metadata": {},
   "outputs": [],
   "source": []
  }
 ],
 "metadata": {
  "kernelspec": {
   "display_name": "Python 3 (ipykernel)",
   "language": "python",
   "name": "python3"
  },
  "language_info": {
   "codemirror_mode": {
    "name": "ipython",
    "version": 3
   },
   "file_extension": ".py",
   "mimetype": "text/x-python",
   "name": "python",
   "nbconvert_exporter": "python",
   "pygments_lexer": "ipython3",
   "version": "3.10.1"
  }
 },
 "nbformat": 4,
 "nbformat_minor": 5
}
