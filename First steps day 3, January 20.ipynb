{
 "cells": [
  {
   "cell_type": "markdown",
   "id": "cb8e80a8",
   "metadata": {},
   "source": [
    "# Week 3: Dictionaries and files\n",
    "\n",
    "1. Recap of last week\n",
    "2. Dictionaries\n",
    "3. Text files -- reading and writing"
   ]
  },
  {
   "cell_type": "markdown",
   "id": "f7b8049e",
   "metadata": {},
   "source": [
    "# Recap \n",
    "\n",
    "1. Data structures!\n",
    "    - Each data structure allows us to store and retrieve data in a different way\n",
    "    - Numbers (integers and floats)\n",
    "2. Sequences \n",
    "    - Strings: immutable (cannot be changed), contain characters\n",
    "        - anything textual -- user input, displaying on the screen, reading from files, reading from the network, sending e-mail\n",
    "        - `str.strip` -- removes whitespace from the sides\n",
    "        - `str.isdigit` -- tells us if there are only digits in the string\n",
    "        - `str.lower` -- returns a new string, based on ours, in lowercase\n",
    "    - Lists: mutable (can be changed), contain anything\n",
    "        - collections of data (traditionally of the same type) -- lists of users, lists of filenames, lists of folders, lists of IP addresses\n",
    "        - `list.append` -- adds an element to the end of the list\n",
    "        - `list.pop` -- removes the element from the end of a list\n",
    "    - Tuples: immutable (cannot be changed), contain anything\n",
    "        - collections of *differently*-typed data -- records or structs\n",
    "    - All sequences can do:\n",
    "        - Retrieve with `[i]`, where `i` is a numeric index\n",
    "        - Get the length with `len(s)`, where `s` is a sequence\n",
    "        - Retrieve a slice with `[start:stop]`\n",
    "        - Search with `in`\n",
    "        - Loop with `for`\n",
    "3. Loops\n",
    "    - `for` loops -- iterate over every element of a sequence\n",
    "    - `for` loops on `range(n)` gives us `n` items, from 0 to `n`-1\n",
    "    - `while` loops, which run so long as the condition is `True`\n",
    "4. Strings to lists and back       \n",
    "    - `str.split` -- returns a list of strings, based on the string\n",
    "    - `str.join` -- returns a string, based on a \"glue\" string and a list of strings"
   ]
  },
  {
   "cell_type": "markdown",
   "id": "12775186",
   "metadata": {},
   "source": [
    "# Parentheses and quotes\n",
    "\n",
    "Python uses every type of quote and parentheses on the keyboard! They each have their own usages:\n",
    "\n",
    "### Quotation marks\n",
    "- Use `''` or `\"\"` to start and end strings.  There is no difference between them, but it's common to use one when you have the other on the inside of the string.\n",
    "- If you really need `'` or `\"` inside of a string, just use a backslash beforehand, such as `'He\\'s very nice'`.\n",
    "\n",
    "## Parentheses\n",
    "\n",
    "### `()` -- round parentheses \n",
    "- Calling functions \n",
    "- Calling classes/types\n",
    "- Grouping\n",
    "- Creating tuples\n",
    "\n",
    "### `[]` -- square brackets\n",
    "- Creating lists\n",
    "- Retrieving individual items from strings, lists, tuples\n",
    "- Retrieving slices from strings, lists, tuples\n",
    "\n",
    "### `{}` -- curly braces\n",
    "- Creating dicts\n",
    "- What should be evaluated in an f-string\n"
   ]
  },
  {
   "cell_type": "markdown",
   "id": "837c1e5e",
   "metadata": {},
   "source": [
    "# Dictionaries\n",
    "\n",
    "We've seen with lists and tuples that we can store whatever data we want there, but we need to retrieve it using the appropriate index.  Indexes start with 0 and go up to `len(s)` - 1.  \n",
    "\n",
    "In dicts, we also have indexes and values. But in the case of dicts, the indexes are called \"keys\" and *we* decide what they are.  The values can still be anything.\n",
    "\n",
    "Other languages also have \"dicts\" -- but they call them other things:\n",
    "- Hash tables\n",
    "- Hash maps\n",
    "- Hashes\n",
    "- Maps\n",
    "- Key-value stores\n",
    "- Name-value stores\n",
    "- Associative arrays\n",
    "\n",
    "What's especially nice about dicts is that the keys can be *ANY IMMUTABLE TYPE*, which normally means: numbers and strings.  You aren't restricted to using numbers, and they don't have to be in order.\n",
    "\n",
    "We can use dicts anywhere we have a \"mapping\" between one set of values and another:\n",
    "- Computer name -> IP address\n",
    "- Username -> password\n",
    "- User ID -> Username\n",
    "- Postal code -> state/province\n",
    "\n",
    "Keys must be unique! They cannot repeat themselves."
   ]
  },
  {
   "cell_type": "code",
   "execution_count": 1,
   "id": "9db7c618",
   "metadata": {},
   "outputs": [],
   "source": [
    "# to define a dict, use {}\n",
    "# each key-value pair has a key and value, separated by :\n",
    "# the pairs are separated by ,\n",
    "\n",
    "d = {'a':1, 'b':2, 'c':3}   # creating a dict with three key-value pairs"
   ]
  },
  {
   "cell_type": "code",
   "execution_count": 15,
   "id": "347d2cbc",
   "metadata": {},
   "outputs": [
    {
     "data": {
      "text/plain": [
       "3"
      ]
     },
     "execution_count": 15,
     "metadata": {},
     "output_type": "execute_result"
    }
   ],
   "source": [
    "# how big is this dict?  -- len returns the number of key-value pairs\n",
    "len(d)"
   ]
  },
  {
   "cell_type": "code",
   "execution_count": 3,
   "id": "0cbde235",
   "metadata": {},
   "outputs": [
    {
     "data": {
      "text/plain": [
       "1"
      ]
     },
     "execution_count": 3,
     "metadata": {},
     "output_type": "execute_result"
    }
   ],
   "source": [
    "# to retrieve a value from the dict, we use its key\n",
    "d['a']"
   ]
  },
  {
   "cell_type": "code",
   "execution_count": 4,
   "id": "e4afa4b1",
   "metadata": {},
   "outputs": [
    {
     "data": {
      "text/plain": [
       "2"
      ]
     },
     "execution_count": 4,
     "metadata": {},
     "output_type": "execute_result"
    }
   ],
   "source": [
    "d['b']"
   ]
  },
  {
   "cell_type": "code",
   "execution_count": 5,
   "id": "82fd1fe1",
   "metadata": {},
   "outputs": [
    {
     "data": {
      "text/plain": [
       "3"
      ]
     },
     "execution_count": 5,
     "metadata": {},
     "output_type": "execute_result"
    }
   ],
   "source": [
    "d['c']"
   ]
  },
  {
   "cell_type": "code",
   "execution_count": 6,
   "id": "d1ed3de1",
   "metadata": {},
   "outputs": [
    {
     "ename": "KeyError",
     "evalue": "'x'",
     "output_type": "error",
     "traceback": [
      "\u001b[0;31m---------------------------------------------------------------------------\u001b[0m",
      "\u001b[0;31mKeyError\u001b[0m                                  Traceback (most recent call last)",
      "\u001b[0;32m/var/folders/rr/0mnyyv811fs5vyp22gf4fxk00000gn/T/ipykernel_85667/3266031451.py\u001b[0m in \u001b[0;36m<module>\u001b[0;34m\u001b[0m\n\u001b[1;32m      1\u001b[0m \u001b[0;31m# what happens if I try to retrieve a key that doesn't work?\u001b[0m\u001b[0;34m\u001b[0m\u001b[0;34m\u001b[0m\u001b[0m\n\u001b[0;32m----> 2\u001b[0;31m \u001b[0md\u001b[0m\u001b[0;34m[\u001b[0m\u001b[0;34m'x'\u001b[0m\u001b[0;34m]\u001b[0m\u001b[0;34m\u001b[0m\u001b[0;34m\u001b[0m\u001b[0m\n\u001b[0m",
      "\u001b[0;31mKeyError\u001b[0m: 'x'"
     ]
    }
   ],
   "source": [
    "# what happens if I try to retrieve a key that doesn't work?\n",
    "d['x']"
   ]
  },
  {
   "cell_type": "code",
   "execution_count": 7,
   "id": "41fb2d45",
   "metadata": {},
   "outputs": [
    {
     "data": {
      "text/plain": [
       "True"
      ]
     },
     "execution_count": 7,
     "metadata": {},
     "output_type": "execute_result"
    }
   ],
   "source": [
    "# I can search for a key using \"in\" -- this does *NOT* search in the values!\n",
    "'a' in d"
   ]
  },
  {
   "cell_type": "code",
   "execution_count": 8,
   "id": "4b43d5e5",
   "metadata": {},
   "outputs": [
    {
     "data": {
      "text/plain": [
       "False"
      ]
     },
     "execution_count": 8,
     "metadata": {},
     "output_type": "execute_result"
    }
   ],
   "source": [
    "'x' in d"
   ]
  },
  {
   "cell_type": "code",
   "execution_count": 9,
   "id": "9d7bbcf6",
   "metadata": {},
   "outputs": [
    {
     "data": {
      "text/plain": [
       "{'a': 1, 'b': 2, 'c': 3}"
      ]
     },
     "execution_count": 9,
     "metadata": {},
     "output_type": "execute_result"
    }
   ],
   "source": [
    "d"
   ]
  },
  {
   "cell_type": "code",
   "execution_count": 10,
   "id": "1fd8145d",
   "metadata": {},
   "outputs": [],
   "source": [
    "# don't do this, but Python doesn't care!\n",
    "d = {'a':1, ' ':2, ' a ':3}"
   ]
  },
  {
   "cell_type": "code",
   "execution_count": 11,
   "id": "7f5036ac",
   "metadata": {},
   "outputs": [
    {
     "data": {
      "text/plain": [
       "3"
      ]
     },
     "execution_count": 11,
     "metadata": {},
     "output_type": "execute_result"
    }
   ],
   "source": [
    "len(d)"
   ]
  },
  {
   "cell_type": "code",
   "execution_count": 12,
   "id": "f2bc8503",
   "metadata": {},
   "outputs": [
    {
     "data": {
      "text/plain": [
       "1"
      ]
     },
     "execution_count": 12,
     "metadata": {},
     "output_type": "execute_result"
    }
   ],
   "source": [
    "d['a']"
   ]
  },
  {
   "cell_type": "code",
   "execution_count": 13,
   "id": "7ddb770a",
   "metadata": {},
   "outputs": [
    {
     "data": {
      "text/plain": [
       "2"
      ]
     },
     "execution_count": 13,
     "metadata": {},
     "output_type": "execute_result"
    }
   ],
   "source": [
    "d[' ']"
   ]
  },
  {
   "cell_type": "code",
   "execution_count": 14,
   "id": "561fb7f4",
   "metadata": {},
   "outputs": [
    {
     "data": {
      "text/plain": [
       "3"
      ]
     },
     "execution_count": 14,
     "metadata": {},
     "output_type": "execute_result"
    }
   ],
   "source": [
    "d[' a ']"
   ]
  },
  {
   "cell_type": "code",
   "execution_count": 16,
   "id": "c18e3be1",
   "metadata": {},
   "outputs": [],
   "source": [
    "d = {'a':1, 'b':2, 'c':3}"
   ]
  },
  {
   "cell_type": "code",
   "execution_count": 17,
   "id": "3800956e",
   "metadata": {},
   "outputs": [
    {
     "data": {
      "text/plain": [
       "{'a': 2}"
      ]
     },
     "execution_count": 17,
     "metadata": {},
     "output_type": "execute_result"
    }
   ],
   "source": [
    "d = {'a':1, \"a\":2}  # there is no difference between 'a' and \"a\", just entering it\n",
    "d"
   ]
  },
  {
   "cell_type": "markdown",
   "id": "ba8b937e",
   "metadata": {},
   "source": []
  }
 ],
 "metadata": {
  "kernelspec": {
   "display_name": "Python 3 (ipykernel)",
   "language": "python",
   "name": "python3"
  },
  "language_info": {
   "codemirror_mode": {
    "name": "ipython",
    "version": 3
   },
   "file_extension": ".py",
   "mimetype": "text/x-python",
   "name": "python",
   "nbconvert_exporter": "python",
   "pygments_lexer": "ipython3",
   "version": "3.10.1"
  }
 },
 "nbformat": 4,
 "nbformat_minor": 5
}
