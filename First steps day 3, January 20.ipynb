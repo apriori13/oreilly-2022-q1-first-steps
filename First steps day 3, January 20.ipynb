{
 "cells": [
  {
   "cell_type": "markdown",
   "id": "eed31796",
   "metadata": {},
   "source": [
    "# Week 3: Dictionaries and files\n",
    "\n",
    "1. Recap of last week\n",
    "2. Dictionaries\n",
    "3. Text files -- reading and writing"
   ]
  },
  {
   "cell_type": "markdown",
   "id": "f1bf5332",
   "metadata": {},
   "source": [
    "# Recap \n",
    "\n",
    "1. Data structures!\n",
    "    - Each data structure allows us to store and retrieve data in a different way\n",
    "    - Numbers (integers and floats)\n",
    "2. Sequences \n",
    "    - Strings: immutable (cannot be changed), contain characters\n",
    "        - anything textual -- user input, displaying on the screen, reading from files, reading from the network, sending e-mail\n",
    "        - `str.strip` -- removes whitespace from the sides\n",
    "        - `str.isdigit` -- tells us if there are only digits in the string\n",
    "        - `str.lower` -- returns a new string, based on ours, in lowercase\n",
    "    - Lists: mutable (can be changed), contain anything\n",
    "        - collections of data (traditionally of the same type) -- lists of users, lists of filenames, lists of folders, lists of IP addresses\n",
    "        - `list.append` -- adds an element to the end of the list\n",
    "        - `list.pop` -- removes the element from the end of a list\n",
    "    - Tuples: immutable (cannot be changed), contain anything\n",
    "        - collections of *differently*-typed data -- records or structs\n",
    "    - All sequences can do:\n",
    "        - Retrieve with `[i]`, where `i` is a numeric index\n",
    "        - Get the length with `len(s)`, where `s` is a sequence\n",
    "        - Retrieve a slice with `[start:stop]`\n",
    "        - Search with `in`\n",
    "        - Loop with `for`\n",
    "3. Loops\n",
    "    - `for` loops -- iterate over every element of a sequence\n",
    "    - `for` loops on `range(n)` gives us `n` items, from 0 to `n`-1\n",
    "    - `while` loops, which run so long as the condition is `True`\n",
    "4. Strings to lists and back       \n",
    "    - `str.split` -- returns a list of strings, based on the string\n",
    "    - `str.join` -- returns a string, based on a \"glue\" string and a list of strings"
   ]
  },
  {
   "cell_type": "markdown",
   "id": "3a15f078",
   "metadata": {},
   "source": [
    "# Parentheses and quotes\n",
    "\n",
    "Python uses every type of quote and parentheses on the keyboard! They each have their own usages:\n",
    "\n",
    "### Quotation marks\n",
    "- Use `''` or `\"\"` to start and end strings.  There is no difference between them, but it's common to use one when you have the other on the inside of the string.\n",
    "- If you really need `'` or `\"` inside of a string, just use a backslash beforehand, such as `'He\\'s very nice'`.\n",
    "\n",
    "## Parentheses\n",
    "\n",
    "### `()` -- round parentheses \n",
    "- Calling functions \n",
    "- Calling classes/types\n",
    "- Grouping\n",
    "- Creating tuples\n",
    "\n",
    "### `[]` -- square brackets\n",
    "- Creating lists\n",
    "- Retrieving individual items from strings, lists, tuples\n",
    "- Retrieving slices from strings, lists, tuples\n",
    "\n",
    "### `{}` -- curly braces\n",
    "- Creating dicts\n",
    "- What should be evaluated in an f-string\n"
   ]
  },
  {
   "cell_type": "markdown",
   "id": "7bbcf21c",
   "metadata": {},
   "source": [
    "# Dictionaries\n",
    "\n",
    "We've seen with lists and tuples that we can store whatever data we want there, but we need to retrieve it using the appropriate index.  Indexes start with 0 and go up to `len(s)` - 1.  \n",
    "\n",
    "In dicts, we also have indexes and values. But in the case of dicts, the indexes are called \"keys\" and *we* decide what they are.  The values can still be anything.\n",
    "\n",
    "Other languages also have \"dicts\" -- but they call them other things:\n",
    "- Hash tables\n",
    "- Hash maps\n",
    "- Hashes\n",
    "- Maps\n",
    "- Key-value stores\n",
    "- Name-value stores\n",
    "- Associative arrays\n",
    "\n",
    "What's especially nice about dicts is that the keys can be *ANY IMMUTABLE TYPE*, which normally means: numbers and strings.  You aren't restricted to using numbers, and they don't have to be in order.\n",
    "\n",
    "We can use dicts anywhere we have a \"mapping\" between one set of values and another:\n",
    "- Computer name -> IP address\n",
    "- Username -> password\n",
    "- User ID -> Username\n",
    "- Postal code -> state/province\n",
    "\n",
    "Keys must be unique! They cannot repeat themselves."
   ]
  },
  {
   "cell_type": "code",
   "execution_count": 1,
   "id": "262cab98",
   "metadata": {},
   "outputs": [],
   "source": [
    "# to define a dict, use {}\n",
    "# each key-value pair has a key and value, separated by :\n",
    "# the pairs are separated by ,\n",
    "\n",
    "d = {'a':1, 'b':2, 'c':3}   # creating a dict with three key-value pairs"
   ]
  },
  {
   "cell_type": "code",
   "execution_count": 15,
   "id": "4dc22a5a",
   "metadata": {},
   "outputs": [
    {
     "data": {
      "text/plain": [
       "3"
      ]
     },
     "execution_count": 15,
     "metadata": {},
     "output_type": "execute_result"
    }
   ],
   "source": [
    "# how big is this dict?  -- len returns the number of key-value pairs\n",
    "len(d)"
   ]
  },
  {
   "cell_type": "code",
   "execution_count": 3,
   "id": "0031b5c8",
   "metadata": {},
   "outputs": [
    {
     "data": {
      "text/plain": [
       "1"
      ]
     },
     "execution_count": 3,
     "metadata": {},
     "output_type": "execute_result"
    }
   ],
   "source": [
    "# to retrieve a value from the dict, we use its key\n",
    "d['a']"
   ]
  },
  {
   "cell_type": "code",
   "execution_count": 4,
   "id": "de4f8f48",
   "metadata": {},
   "outputs": [
    {
     "data": {
      "text/plain": [
       "2"
      ]
     },
     "execution_count": 4,
     "metadata": {},
     "output_type": "execute_result"
    }
   ],
   "source": [
    "d['b']"
   ]
  },
  {
   "cell_type": "code",
   "execution_count": 5,
   "id": "19d47dbb",
   "metadata": {},
   "outputs": [
    {
     "data": {
      "text/plain": [
       "3"
      ]
     },
     "execution_count": 5,
     "metadata": {},
     "output_type": "execute_result"
    }
   ],
   "source": [
    "d['c']"
   ]
  },
  {
   "cell_type": "code",
   "execution_count": 6,
   "id": "dcd3922a",
   "metadata": {},
   "outputs": [
    {
     "ename": "KeyError",
     "evalue": "'x'",
     "output_type": "error",
     "traceback": [
      "\u001b[0;31m---------------------------------------------------------------------------\u001b[0m",
      "\u001b[0;31mKeyError\u001b[0m                                  Traceback (most recent call last)",
      "\u001b[0;32m/var/folders/rr/0mnyyv811fs5vyp22gf4fxk00000gn/T/ipykernel_85667/3266031451.py\u001b[0m in \u001b[0;36m<module>\u001b[0;34m\u001b[0m\n\u001b[1;32m      1\u001b[0m \u001b[0;31m# what happens if I try to retrieve a key that doesn't work?\u001b[0m\u001b[0;34m\u001b[0m\u001b[0;34m\u001b[0m\u001b[0m\n\u001b[0;32m----> 2\u001b[0;31m \u001b[0md\u001b[0m\u001b[0;34m[\u001b[0m\u001b[0;34m'x'\u001b[0m\u001b[0;34m]\u001b[0m\u001b[0;34m\u001b[0m\u001b[0;34m\u001b[0m\u001b[0m\n\u001b[0m",
      "\u001b[0;31mKeyError\u001b[0m: 'x'"
     ]
    }
   ],
   "source": [
    "# what happens if I try to retrieve a key that doesn't work?\n",
    "d['x']"
   ]
  },
  {
   "cell_type": "code",
   "execution_count": 7,
   "id": "6fc34cd4",
   "metadata": {},
   "outputs": [
    {
     "data": {
      "text/plain": [
       "True"
      ]
     },
     "execution_count": 7,
     "metadata": {},
     "output_type": "execute_result"
    }
   ],
   "source": [
    "# I can search for a key using \"in\" -- this does *NOT* search in the values!\n",
    "'a' in d"
   ]
  },
  {
   "cell_type": "code",
   "execution_count": 8,
   "id": "8b77177d",
   "metadata": {},
   "outputs": [
    {
     "data": {
      "text/plain": [
       "False"
      ]
     },
     "execution_count": 8,
     "metadata": {},
     "output_type": "execute_result"
    }
   ],
   "source": [
    "'x' in d"
   ]
  },
  {
   "cell_type": "code",
   "execution_count": 9,
   "id": "0a8e35db",
   "metadata": {},
   "outputs": [
    {
     "data": {
      "text/plain": [
       "{'a': 1, 'b': 2, 'c': 3}"
      ]
     },
     "execution_count": 9,
     "metadata": {},
     "output_type": "execute_result"
    }
   ],
   "source": [
    "d"
   ]
  },
  {
   "cell_type": "code",
   "execution_count": 10,
   "id": "3655c098",
   "metadata": {},
   "outputs": [],
   "source": [
    "# don't do this, but Python doesn't care!\n",
    "d = {'a':1, ' ':2, ' a ':3}"
   ]
  },
  {
   "cell_type": "code",
   "execution_count": 11,
   "id": "95c3d37f",
   "metadata": {},
   "outputs": [
    {
     "data": {
      "text/plain": [
       "3"
      ]
     },
     "execution_count": 11,
     "metadata": {},
     "output_type": "execute_result"
    }
   ],
   "source": [
    "len(d)"
   ]
  },
  {
   "cell_type": "code",
   "execution_count": 12,
   "id": "b6dd6085",
   "metadata": {},
   "outputs": [
    {
     "data": {
      "text/plain": [
       "1"
      ]
     },
     "execution_count": 12,
     "metadata": {},
     "output_type": "execute_result"
    }
   ],
   "source": [
    "d['a']"
   ]
  },
  {
   "cell_type": "code",
   "execution_count": 13,
   "id": "5c274ce7",
   "metadata": {},
   "outputs": [
    {
     "data": {
      "text/plain": [
       "2"
      ]
     },
     "execution_count": 13,
     "metadata": {},
     "output_type": "execute_result"
    }
   ],
   "source": [
    "d[' ']"
   ]
  },
  {
   "cell_type": "code",
   "execution_count": 14,
   "id": "389b6b42",
   "metadata": {},
   "outputs": [
    {
     "data": {
      "text/plain": [
       "3"
      ]
     },
     "execution_count": 14,
     "metadata": {},
     "output_type": "execute_result"
    }
   ],
   "source": [
    "d[' a ']"
   ]
  },
  {
   "cell_type": "code",
   "execution_count": 16,
   "id": "2c43f421",
   "metadata": {},
   "outputs": [],
   "source": [
    "d = {'a':1, 'b':2, 'c':3}"
   ]
  },
  {
   "cell_type": "code",
   "execution_count": 17,
   "id": "13e03f63",
   "metadata": {},
   "outputs": [
    {
     "data": {
      "text/plain": [
       "{'a': 2}"
      ]
     },
     "execution_count": 17,
     "metadata": {},
     "output_type": "execute_result"
    }
   ],
   "source": [
    "d = {'a':1, \"a\":2}  # there is no difference between 'a' and \"a\", just entering it\n",
    "d"
   ]
  },
  {
   "cell_type": "markdown",
   "id": "58f0a0ad",
   "metadata": {},
   "source": [
    "# Paradigm 1 for dict use: Mini-database\n",
    "\n",
    "We can create a small dict at the start of our program, and then query it when the program runs. This could be for month names -> month numbers (or month numbers -> month names)."
   ]
  },
  {
   "cell_type": "markdown",
   "id": "09dfb6fd",
   "metadata": {},
   "source": [
    "# Exercise: Restaurant \n",
    "\n",
    "1. Define a small dict, called `menu`, in which the keys are strings (entries on a menu) and the values are prices (integers).\n",
    "2. Define `total` to be 0.\n",
    "3. Ask the user repeatedly what they want to order.\n",
    "    - If they enter an empty string, stop asking and give the total bill.\n",
    "    - If they enter a string that's on our menu as an entry, tell them the price and the new total.\n",
    "    - If they enter a string that's *NOT* on our menu as an entry, scold them appropriately!\n",
    "4. Print the total at the end.\n",
    "\n",
    "Hints:\n",
    "- We can use a `while` loop to ask questions repeatedly, especially `while True`.\n",
    "- We can check for an empty string if we compare with `''`\n",
    "- We can break out of a loop with the `break` command\n",
    "- Check for membership in a dict with `in`\n"
   ]
  },
  {
   "cell_type": "code",
   "execution_count": 18,
   "id": "075a7636",
   "metadata": {},
   "outputs": [
    {
     "data": {
      "text/plain": [
       "10"
      ]
     },
     "execution_count": 18,
     "metadata": {},
     "output_type": "execute_result"
    }
   ],
   "source": [
    "menu = {'sandwich':10, 'tea':5, 'apple':1, 'cake':4}\n",
    "\n",
    "menu['sandwich']"
   ]
  },
  {
   "cell_type": "code",
   "execution_count": 19,
   "id": "6524c716",
   "metadata": {},
   "outputs": [
    {
     "data": {
      "text/plain": [
       "5"
      ]
     },
     "execution_count": 19,
     "metadata": {},
     "output_type": "execute_result"
    }
   ],
   "source": [
    "menu['tea']"
   ]
  },
  {
   "cell_type": "code",
   "execution_count": 20,
   "id": "a9d38307",
   "metadata": {},
   "outputs": [
    {
     "data": {
      "text/plain": [
       "True"
      ]
     },
     "execution_count": 20,
     "metadata": {},
     "output_type": "execute_result"
    }
   ],
   "source": [
    "'tea' in menu"
   ]
  },
  {
   "cell_type": "code",
   "execution_count": 21,
   "id": "597b978c",
   "metadata": {},
   "outputs": [],
   "source": [
    "# assigning the string 'tea' to the variable order\n",
    "order = 'tea'"
   ]
  },
  {
   "cell_type": "code",
   "execution_count": 22,
   "id": "434c8e10",
   "metadata": {},
   "outputs": [
    {
     "data": {
      "text/plain": [
       "True"
      ]
     },
     "execution_count": 22,
     "metadata": {},
     "output_type": "execute_result"
    }
   ],
   "source": [
    "# now I can use the variable to search in the dict\n",
    "# this will only search in the keys, not the value\n",
    "# in other words: is the value currently in the variable order (i.e., 'tea') a key in the dict menu?\n",
    "order in menu"
   ]
  },
  {
   "cell_type": "code",
   "execution_count": 23,
   "id": "648cb26b",
   "metadata": {},
   "outputs": [
    {
     "data": {
      "text/plain": [
       "5"
      ]
     },
     "execution_count": 23,
     "metadata": {},
     "output_type": "execute_result"
    }
   ],
   "source": [
    "# let's retrieve the value associated with the dict menu, key order\n",
    "menu[order]"
   ]
  },
  {
   "cell_type": "code",
   "execution_count": 24,
   "id": "9178c4d9",
   "metadata": {},
   "outputs": [
    {
     "name": "stdout",
     "output_type": "stream",
     "text": [
      "Order: sandwich\n",
      "sandwich costs 10, total is now 10\n",
      "Order: tea\n",
      "tea costs 5, total is now 15\n",
      "Order: cake\n",
      "cake costs 4, total is now 19\n",
      "Order: tea\n",
      "tea costs 5, total is now 24\n",
      "Order: elephant\n",
      "We are all out of elephant today!\n",
      "Order: \n",
      "Total is 24.\n"
     ]
    }
   ],
   "source": [
    "menu = {'sandwich':10, 'tea':5, 'apple':1, 'cake':4}\n",
    "total = 0\n",
    "\n",
    "while True:   # infinite loop!\n",
    "    order = input('Order: ').strip()    # get the user's order, remove whitespace, assign to order\n",
    "    \n",
    "    if order == '':   # did we get an empty string? Stop asking\n",
    "        break\n",
    "        \n",
    "    elif order in menu:         # is the user's order a key in the menu dict?\n",
    "        price = menu[order]   # get the price of the user's order from menu\n",
    "        total += price        # add this price to the total\n",
    "        print(f'{order} costs {price}, total is now {total}')\n",
    "    else:\n",
    "        print(f'We are all out of {order} today!')\n",
    "        \n",
    "print(f'Total is {total}.')        "
   ]
  },
  {
   "cell_type": "code",
   "execution_count": 25,
   "id": "27f89e06",
   "metadata": {},
   "outputs": [
    {
     "name": "stdout",
     "output_type": "stream",
     "text": [
      "Order: sandwich\n",
      "sandwich costs 10, total is now 10\n",
      "Order: tea\n",
      "tea costs 5, total is now 15\n",
      "Order: cake\n",
      "cake costs 4, total is now 19\n",
      "Order: apple\n",
      "apple costs 1, total is now 20\n",
      "Order: sandwich\n",
      "sandwich costs 10, total is now 30\n",
      "Order: tea\n",
      "tea costs 5, total is now 35\n",
      "Order: \n",
      "Total is 35.\n",
      "\tsandwich\n",
      "\ttea\n",
      "\tcake\n",
      "\tapple\n",
      "\tsandwich\n",
      "\ttea\n"
     ]
    }
   ],
   "source": [
    "# fancy version of our program -- with an order history\n",
    "\n",
    "menu = {'sandwich':10, 'tea':5, 'apple':1, 'cake':4}\n",
    "total = 0\n",
    "order_history = []\n",
    "\n",
    "while True:   # infinite loop!\n",
    "    order = input('Order: ').strip()    # get the user's order, remove whitespace, assign to order\n",
    "    \n",
    "    if order == '':   # did we get an empty string? Stop asking\n",
    "        break\n",
    "        \n",
    "    elif order in menu:         # is the user's order a key in the menu dict?\n",
    "        price = menu[order]   # get the price of the user's order from menu\n",
    "        total += price        # add this price to the total\n",
    "        order_history.append(order)\n",
    "        print(f'{order} costs {price}, total is now {total}')\n",
    "    else:\n",
    "        print(f'We are all out of {order} today!')\n",
    "        \n",
    "print(f'Total is {total}.')        \n",
    "for one_item in order_history:\n",
    "    print(f'\\t{one_item}')"
   ]
  },
  {
   "cell_type": "markdown",
   "id": "2f313588",
   "metadata": {},
   "source": [
    "# Dictionaries are mutable!\n",
    "\n",
    "We can change dictionaries:\n",
    "- Add a key-value pair\n",
    "- Update/change a value\n",
    "- Remove a key-value pair"
   ]
  },
  {
   "cell_type": "code",
   "execution_count": 26,
   "id": "8e08e210",
   "metadata": {},
   "outputs": [
    {
     "name": "stdout",
     "output_type": "stream",
     "text": [
      "{'a': 10}\n",
      "{'a': 20}\n"
     ]
    }
   ],
   "source": [
    "d = {}        # empty dict\n",
    "d['a'] = 10   # add a key-value pair via assignment -- there is no \"append\" method!\n",
    "print(d)\n",
    "\n",
    "d['a'] = 20   # if the key already exists, we update the existing value for the key\n",
    "print(d)"
   ]
  },
  {
   "cell_type": "code",
   "execution_count": 27,
   "id": "36fcd54d",
   "metadata": {},
   "outputs": [
    {
     "name": "stdout",
     "output_type": "stream",
     "text": [
      "{'a': 10, 'b': 30, 'c': 40}\n"
     ]
    }
   ],
   "source": [
    "d['b'] = 30\n",
    "d['c'] = 40\n",
    "d['a'] = 10\n",
    "\n",
    "print(d)"
   ]
  },
  {
   "cell_type": "code",
   "execution_count": 28,
   "id": "3fde93ff",
   "metadata": {},
   "outputs": [
    {
     "data": {
      "text/plain": [
       "30"
      ]
     },
     "execution_count": 28,
     "metadata": {},
     "output_type": "execute_result"
    }
   ],
   "source": [
    "# to remove a key-value pair, use \"pop\"\n",
    "# we have to provide the key that we'll be removing\n",
    "d.pop('b')  # removes 'b':its value, and returns its value"
   ]
  },
  {
   "cell_type": "code",
   "execution_count": 29,
   "id": "fae0cb06",
   "metadata": {},
   "outputs": [
    {
     "data": {
      "text/plain": [
       "{'a': 10, 'c': 40}"
      ]
     },
     "execution_count": 29,
     "metadata": {},
     "output_type": "execute_result"
    }
   ],
   "source": [
    "d"
   ]
  },
  {
   "cell_type": "code",
   "execution_count": 30,
   "id": "7d4f346f",
   "metadata": {},
   "outputs": [
    {
     "data": {
      "text/plain": [
       "{'x': 10, 'v': 20, 'q': 30, 'w': 40, 'y': 50}"
      ]
     },
     "execution_count": 30,
     "metadata": {},
     "output_type": "execute_result"
    }
   ],
   "source": [
    "# key-value pairs in modern Python are kept in chronological order of adding the keys\n",
    "d = {}\n",
    "d['x'] = 10\n",
    "d['v'] = 20\n",
    "d['q'] = 30\n",
    "d['w'] = 40\n",
    "d['y'] = 50\n",
    "\n",
    "d"
   ]
  },
  {
   "cell_type": "code",
   "execution_count": 35,
   "id": "33763f01",
   "metadata": {},
   "outputs": [
    {
     "ename": "TypeError",
     "evalue": "unhashable type: 'list'",
     "output_type": "error",
     "traceback": [
      "\u001b[0;31m---------------------------------------------------------------------------\u001b[0m",
      "\u001b[0;31mTypeError\u001b[0m                                 Traceback (most recent call last)",
      "\u001b[0;32m/var/folders/rr/0mnyyv811fs5vyp22gf4fxk00000gn/T/ipykernel_85667/962819915.py\u001b[0m in \u001b[0;36m<module>\u001b[0;34m\u001b[0m\n\u001b[1;32m      4\u001b[0m \u001b[0;31m# let's try to add a new key-value pair to our dict,\u001b[0m\u001b[0;34m\u001b[0m\u001b[0;34m\u001b[0m\u001b[0m\n\u001b[1;32m      5\u001b[0m \u001b[0;31m# with a key of mylist and value of 10\u001b[0m\u001b[0;34m\u001b[0m\u001b[0;34m\u001b[0m\u001b[0m\n\u001b[0;32m----> 6\u001b[0;31m \u001b[0md\u001b[0m\u001b[0;34m[\u001b[0m\u001b[0mmylist\u001b[0m\u001b[0;34m]\u001b[0m \u001b[0;34m=\u001b[0m \u001b[0;36m10\u001b[0m   \u001b[0;31m# this doesn't work, because lists are MUTABLE and cannot be dict keys\u001b[0m\u001b[0;34m\u001b[0m\u001b[0;34m\u001b[0m\u001b[0m\n\u001b[0m",
      "\u001b[0;31mTypeError\u001b[0m: unhashable type: 'list'"
     ]
    }
   ],
   "source": [
    "# the keys must be immutable\n",
    "mylist = [10, 20, 30]\n",
    "\n",
    "# let's try to add a new key-value pair to our dict,\n",
    "# with a key of mylist and value of 10\n",
    "d[mylist] = 10   # this doesn't work, because lists are MUTABLE and cannot be dict keys"
   ]
  },
  {
   "cell_type": "code",
   "execution_count": 32,
   "id": "bf3acf41",
   "metadata": {},
   "outputs": [
    {
     "data": {
      "text/plain": [
       "12345"
      ]
     },
     "execution_count": 32,
     "metadata": {},
     "output_type": "execute_result"
    }
   ],
   "source": [
    "# more examples of dictionaries\n",
    "\n",
    "# usernames as keys, ID numbers as values\n",
    "users = {'reuven':12345, 'admin':999, 'someone':456}\n",
    "users['reuven']"
   ]
  },
  {
   "cell_type": "code",
   "execution_count": 33,
   "id": "0912fe13",
   "metadata": {},
   "outputs": [
    {
     "data": {
      "text/plain": [
       "'Jan'"
      ]
     },
     "execution_count": 33,
     "metadata": {},
     "output_type": "execute_result"
    }
   ],
   "source": [
    "# month numbers as keys, month names as values\n",
    "months = {1:'Jan', 2:'Feb', 3:'Mar', 4:'Apr', 5:'May'}\n",
    "months[1]"
   ]
  },
  {
   "cell_type": "code",
   "execution_count": 34,
   "id": "86b3d5f9",
   "metadata": {},
   "outputs": [
    {
     "data": {
      "text/plain": [
       "'Apr'"
      ]
     },
     "execution_count": 34,
     "metadata": {},
     "output_type": "execute_result"
    }
   ],
   "source": [
    "months[4]"
   ]
  },
  {
   "cell_type": "markdown",
   "id": "4c1dabc9",
   "metadata": {},
   "source": [
    "# Keys and values\n",
    "\n",
    "Keys in a dict must be immutable. They thus can be:\n",
    "- `True` and `False` (boring)\n",
    "- Integers or floats\n",
    "- Strings\n",
    "- Tuples, so long as the tuples only contain immutable values\n",
    "\n",
    "Values in a dict can be **ABSOLUTELY ANYTHING AT ALL**:\n",
    "- integers\n",
    "- strings\n",
    "- lists\n",
    "- tuples\n",
    "- dicts\n",
    "- functions\n",
    "- modules\n",
    "- classes\n",
    "- YOU NAME IT!\n",
    "\n",
    "Dicts are one-way streets -- you can get the value via the key, but *NOT* the other way around."
   ]
  },
  {
   "cell_type": "code",
   "execution_count": 36,
   "id": "bf53492a",
   "metadata": {},
   "outputs": [],
   "source": [
    "# tuple with immutable values:\n",
    "# these can be used as dict keys \n",
    "# Consider: coordinates on an x,y axis!\n",
    "\n",
    "t = (10, 20, 30)      # numbers are immutable\n",
    "t = ('a', 'b', 'c')   # strings are immutable"
   ]
  },
  {
   "cell_type": "code",
   "execution_count": 37,
   "id": "c35696a0",
   "metadata": {},
   "outputs": [],
   "source": [
    "# tuple with mutable values:\n",
    "\n",
    "t = ([10, 20, 30], [40, 50, 60])  # lists are mutable\n",
    "t = ({'a':1, 'b':2}, {'c':3, 'd':4})  # dicts are mutable"
   ]
  },
  {
   "cell_type": "markdown",
   "id": "15d8c115",
   "metadata": {},
   "source": [
    "# Next up\n",
    "\n",
    "- Accumulating known things\n",
    "- Accumulating unknown things\n",
    "\n"
   ]
  },
  {
   "cell_type": "code",
   "execution_count": 38,
   "id": "cfa50e36",
   "metadata": {},
   "outputs": [
    {
     "data": {
      "text/plain": [
       "{'a': 1, 'b': 3, 'c': 0}"
      ]
     },
     "execution_count": 38,
     "metadata": {},
     "output_type": "execute_result"
    }
   ],
   "source": [
    "# I want to keep track of a, b, and c\n",
    "\n",
    "# start off my dict with these three keys, all values are 0\n",
    "d = {'a':0, 'b':0, 'c':0}\n",
    "\n",
    "d['a'] += 1   # add 1 to the current value of d['a']\n",
    "d['b'] += 3   # add 3 to the current value of d['b']\n",
    "\n",
    "d\n"
   ]
  },
  {
   "cell_type": "code",
   "execution_count": 41,
   "id": "730e435e",
   "metadata": {},
   "outputs": [
    {
     "data": {
      "text/plain": [
       "{8: 1, 9: 0, 10: 2, 11: 1, 12: 1, 13: 1, 14: 3, 15: 0, 16: 0, 17: 0, 18: 0}"
      ]
     },
     "execution_count": 41,
     "metadata": {},
     "output_type": "execute_result"
    }
   ],
   "source": [
    "# let's keep track of how often each high temp will be in Modi'in\n",
    "d = {8:0, 9:0, 10:0, 11:0, 12:0, 13:0, 14:0, 15:0, 16:0, 17:0, 18:0}\n",
    "\n",
    "d[14] += 1\n",
    "d[14] += 1\n",
    "d[14] += 1\n",
    "d[10] += 1\n",
    "d[13] += 1\n",
    "d[10] += 1\n",
    "d[12] += 1\n",
    "d[8] += 1\n",
    "d[11] += 1\n",
    "\n",
    "d"
   ]
  },
  {
   "cell_type": "code",
   "execution_count": 42,
   "id": "1e01493f",
   "metadata": {},
   "outputs": [
    {
     "ename": "KeyError",
     "evalue": "14",
     "output_type": "error",
     "traceback": [
      "\u001b[0;31m---------------------------------------------------------------------------\u001b[0m",
      "\u001b[0;31mKeyError\u001b[0m                                  Traceback (most recent call last)",
      "\u001b[0;32m/var/folders/rr/0mnyyv811fs5vyp22gf4fxk00000gn/T/ipykernel_85667/752951223.py\u001b[0m in \u001b[0;36m<module>\u001b[0;34m\u001b[0m\n\u001b[1;32m      4\u001b[0m \u001b[0md\u001b[0m \u001b[0;34m=\u001b[0m \u001b[0;34m{\u001b[0m\u001b[0;34m}\u001b[0m\u001b[0;34m\u001b[0m\u001b[0;34m\u001b[0m\u001b[0m\n\u001b[1;32m      5\u001b[0m \u001b[0;34m\u001b[0m\u001b[0m\n\u001b[0;32m----> 6\u001b[0;31m \u001b[0md\u001b[0m\u001b[0;34m[\u001b[0m\u001b[0;36m14\u001b[0m\u001b[0;34m]\u001b[0m \u001b[0;34m+=\u001b[0m \u001b[0;36m1\u001b[0m\u001b[0;34m\u001b[0m\u001b[0;34m\u001b[0m\u001b[0m\n\u001b[0m\u001b[1;32m      7\u001b[0m \u001b[0md\u001b[0m\u001b[0;34m[\u001b[0m\u001b[0;36m14\u001b[0m\u001b[0;34m]\u001b[0m \u001b[0;34m+=\u001b[0m \u001b[0;36m1\u001b[0m\u001b[0;34m\u001b[0m\u001b[0;34m\u001b[0m\u001b[0m\n\u001b[1;32m      8\u001b[0m \u001b[0md\u001b[0m\u001b[0;34m[\u001b[0m\u001b[0;36m14\u001b[0m\u001b[0;34m]\u001b[0m \u001b[0;34m+=\u001b[0m \u001b[0;36m1\u001b[0m\u001b[0;34m\u001b[0m\u001b[0;34m\u001b[0m\u001b[0m\n",
      "\u001b[0;31mKeyError\u001b[0m: 14"
     ]
    }
   ],
   "source": [
    "# what if I initialized d to be empty:\n",
    "\n",
    "# let's keep track of how often each high temp will be in Modi'in\n",
    "d = {}\n",
    "\n",
    "d[14] += 1   # this means: d[14] = d[14] + 1\n",
    "d[14] += 1\n",
    "d[14] += 1\n",
    "d[10] += 1\n",
    "d[13] += 1\n",
    "d[10] += 1\n",
    "d[12] += 1\n",
    "d[8] += 1\n",
    "d[11] += 1\n",
    "\n",
    "d"
   ]
  },
  {
   "cell_type": "markdown",
   "id": "5f769af6",
   "metadata": {},
   "source": [
    "# Exercise: Vowels, digits, and others\n",
    "\n",
    "1. Define a dict, `counts`, with three keys: `vowels`, `digits`, and `others`.  The value for each key should be 0.\n",
    "2. Ask the user to enter a string.\n",
    "3. Go through each character in the string:\n",
    "    - If the character is a vowel (a, e, i, o, u) then add one to `vowels`\n",
    "    - If the character is a digit, then add one to `digits`\n",
    "    - If the character is neither, then add one to `others`\n",
    "4. Print the resulting dictionary\n",
    "\n",
    "Hints:\n",
    "- You can check for membership in a string with `in`\n",
    "- You can check if a string contains only digits 0-9 with `str.isdigit`\n"
   ]
  },
  {
   "cell_type": "code",
   "execution_count": 48,
   "id": "a6589e1c",
   "metadata": {},
   "outputs": [
    {
     "name": "stdout",
     "output_type": "stream",
     "text": [
      "Enter a string: abe123!?\n",
      "{'vowels': 2, 'digits': 3, 'others': 3}\n"
     ]
    }
   ],
   "source": [
    "counts = {'vowels':0, 'digits':0, 'others':0}\n",
    "\n",
    "s = input('Enter a string: ').strip()\n",
    "\n",
    "for one_character in s:\n",
    "    if one_character in 'aeiou':\n",
    "        counts['vowels'] += 1\n",
    "    elif one_character.isdigit():\n",
    "        counts['digits'] += 1\n",
    "    else:\n",
    "        counts['others'] += 1\n",
    "    \n",
    "print(counts)    "
   ]
  },
  {
   "cell_type": "code",
   "execution_count": 51,
   "id": "8cc93cb2",
   "metadata": {},
   "outputs": [
    {
     "name": "stdout",
     "output_type": "stream",
     "text": [
      "Enter a string: hello\n",
      "{'h': 1, 'e': 1, 'l': 2, 'o': 1}\n"
     ]
    }
   ],
   "source": [
    "# I want to count the characters in a string\n",
    "# meaning: ask the user to enter a string\n",
    "# how often does each character show up?\n",
    "\n",
    "counts = {}   # empty dict!\n",
    "\n",
    "s = input('Enter a string: ').strip()\n",
    "\n",
    "for one_character in s:\n",
    "\n",
    "    # one_character -- the current character, in the loop, from s\n",
    "    # if we ask \"one_character in counts\" -- we're checking if the character is a key in the counts dict\n",
    "    # but here, we're saying \"one_character not in counts\", which means, True if it's *NOT* a key there\n",
    "    # so: if the current character is *not* a key in the dict, then add it to the dict with a value of 1\n",
    "\n",
    "    if one_character not in counts:  \n",
    "        counts[one_character] = 1    # add the key-value pair the first time we see this key\n",
    "\n",
    "    # if the current character *is* already a key counts, \n",
    "    # then just add 1 to the value associated with that key\n",
    "\n",
    "    else:\n",
    "        counts[one_character] += 1   # add 1 to the value the subsequent times we see the key\n",
    "    \n",
    "print(counts)    "
   ]
  },
  {
   "cell_type": "markdown",
   "id": "1a647595",
   "metadata": {},
   "source": [
    "# Three paradigms for working with dicts\n",
    "\n",
    "1. We define the dict at the start of the program, and read from it as a database (e.g., menu)\n",
    "2. We define the dict with keys and starting values (often 0), and add to those values over time (e.g., digits, vowels, and others)\n",
    "3. We define an empty dict, and based on input, we add keys and values (e.g., character counter)"
   ]
  },
  {
   "cell_type": "markdown",
   "id": "2f3926d6",
   "metadata": {},
   "source": [
    "# Exercise: Rainfall\n",
    "\n",
    "We're going to use a dict to keep track of total rainfall in cities. Which cities? Whichever ones the user decides to enter.  How much rain? Whatever the user enters. \n",
    "\n",
    "The dict, `rainfall`, will have city names (strings) as keys, and mm rain (integers) as values.\n",
    "\n",
    "1. Define an empty dict, `rainfall`.\n",
    "2. Ask the user, again and again, to enter a city name.\n",
    "3. If they give us an empty string, stop asking and print `rainfall`.\n",
    "4. Ask the user a 2nd question: How much rain fell, in mm?\n",
    "5. If this is the first time encountering this city, then assign to our dict, with the city name as the key and `mm_rain` as the value.\n",
    "6. If we have seen this city before, then add the value in `mm_rain` to the existing value.\n",
    "7. Print the dict.\n",
    "\n",
    "Example:\n",
    "\n",
    "    City: Jerusalem\n",
    "    Rain: 5\n",
    "    City: Tel Aviv\n",
    "    Rain: 4\n",
    "    City: Jerusalem\n",
    "    Rain: 3\n",
    "    City: [ENTER]\n",
    "    {'Jerusalem':8, 'Tel Aviv':4}"
   ]
  },
  {
   "cell_type": "code",
   "execution_count": 53,
   "id": "fea82fb8",
   "metadata": {
    "scrolled": true
   },
   "outputs": [
    {
     "name": "stdout",
     "output_type": "stream",
     "text": [
      "City: a\n",
      "Rain: 5\n",
      "City: b\n",
      "Rain: 4\n",
      "City: a\n",
      "Rain: 3\n",
      "City: \n",
      "{'a': 8, 'b': 4}\n"
     ]
    }
   ],
   "source": [
    "rainfall = {}\n",
    "\n",
    "while True:\n",
    "    city_name = input('City: ').strip()\n",
    "    \n",
    "    if city_name == '':  # got an empty city name? stop!\n",
    "        break\n",
    "        \n",
    "    mm_rain = input('Rain: ').strip()  \n",
    "    mm_rain = int(mm_rain)   # convert to an int, assuming users gave us good input\n",
    "    \n",
    "    # have we seen this city before?\n",
    "    if city_name in rainfall:   # yes, we have seen it before!\n",
    "        rainfall[city_name] += mm_rain\n",
    "    else:                       # no, this is the first time seeing this city\n",
    "        rainfall[city_name] = mm_rain\n",
    "        \n",
    "print(rainfall)        "
   ]
  },
  {
   "cell_type": "code",
   "execution_count": 54,
   "id": "f4a47550",
   "metadata": {},
   "outputs": [
    {
     "data": {
      "text/plain": [
       "{'a': 5}"
      ]
     },
     "execution_count": 54,
     "metadata": {},
     "output_type": "execute_result"
    }
   ],
   "source": [
    "# empty dict\n",
    "d = {}\n",
    "\n",
    "city_name = 'a'\n",
    "mm_rain = 5\n",
    "\n",
    "d[city_name] = 5    # this adds the key-value pair 'a' : 5 to the dict\n",
    "d"
   ]
  },
  {
   "cell_type": "markdown",
   "id": "e6bc0a0d",
   "metadata": {},
   "source": [
    "# Next up:\n",
    "\n",
    "1. Looping over dicts\n",
    "2. How dicts work (and why we use them)\n",
    "3. Working with files\n",
    "\n",
    "If you are on your own computer, and you can download + install text files into the same directory as you're running Jupyter, then please download the zipfile mentioned in the resources.  It contains some text files we'll be using."
   ]
  },
  {
   "cell_type": "code",
   "execution_count": 55,
   "id": "11393239",
   "metadata": {},
   "outputs": [
    {
     "name": "stdout",
     "output_type": "stream",
     "text": [
      "a\n",
      "b\n",
      "c\n"
     ]
    }
   ],
   "source": [
    "d = {'a':10, 'b':20, 'c':30}\n",
    "\n",
    "# will this work? And if it does, what do I get with each iteration?\n",
    "for one_item in d:\n",
    "    print(one_item)  # looping over a dict gives me the keys"
   ]
  },
  {
   "cell_type": "code",
   "execution_count": 56,
   "id": "798739e8",
   "metadata": {},
   "outputs": [
    {
     "name": "stdout",
     "output_type": "stream",
     "text": [
      "a: 10\n",
      "b: 20\n",
      "c: 30\n"
     ]
    }
   ],
   "source": [
    "# one classic way to get all keys and values in a \"for\" loop\n",
    "d = {'a':10, 'b':20, 'c':30}\n",
    "\n",
    "for one_key in d:\n",
    "    print(f'{one_key}: {d[one_key]}') "
   ]
  },
  {
   "cell_type": "code",
   "execution_count": 57,
   "id": "c944c74b",
   "metadata": {},
   "outputs": [
    {
     "data": {
      "text/plain": [
       "dict_keys(['a', 'b', 'c'])"
      ]
     },
     "execution_count": 57,
     "metadata": {},
     "output_type": "execute_result"
    }
   ],
   "source": [
    "# dicts have a few methods to retrieve their parts\n",
    "\n",
    "d.keys()   # returns all keys"
   ]
  },
  {
   "cell_type": "code",
   "execution_count": 58,
   "id": "79f263f4",
   "metadata": {},
   "outputs": [],
   "source": [
    "# don't iterate over d.keys()!  It's faster to just iterate over d"
   ]
  },
  {
   "cell_type": "code",
   "execution_count": 59,
   "id": "a9637444",
   "metadata": {},
   "outputs": [
    {
     "data": {
      "text/plain": [
       "dict_values([10, 20, 30])"
      ]
     },
     "execution_count": 59,
     "metadata": {},
     "output_type": "execute_result"
    }
   ],
   "source": [
    "d.values()   # returns all values"
   ]
  },
  {
   "cell_type": "code",
   "execution_count": 60,
   "id": "b01e8091",
   "metadata": {},
   "outputs": [
    {
     "data": {
      "text/plain": [
       "True"
      ]
     },
     "execution_count": 60,
     "metadata": {},
     "output_type": "execute_result"
    }
   ],
   "source": [
    "# I can search in the values, if I want\n",
    "# (relatively rare, but it does happen)\n",
    "\n",
    "30 in d.values()"
   ]
  },
  {
   "cell_type": "code",
   "execution_count": 63,
   "id": "735d32d2",
   "metadata": {},
   "outputs": [
    {
     "name": "stdout",
     "output_type": "stream",
     "text": [
      "10\n",
      "20\n",
      "30\n"
     ]
    }
   ],
   "source": [
    "# I can print all the values... but I can't get the keys from the values\n",
    "\n",
    "for one_value in d.values():\n",
    "    print(one_value)"
   ]
  },
  {
   "cell_type": "code",
   "execution_count": 64,
   "id": "982047a6",
   "metadata": {},
   "outputs": [
    {
     "data": {
      "text/plain": [
       "dict_values(['Jan', 'Feb', 'Mar', 'Apr', 'May'])"
      ]
     },
     "execution_count": 64,
     "metadata": {},
     "output_type": "execute_result"
    }
   ],
   "source": [
    "months.values()"
   ]
  },
  {
   "cell_type": "code",
   "execution_count": 65,
   "id": "198b84fd",
   "metadata": {},
   "outputs": [
    {
     "name": "stdout",
     "output_type": "stream",
     "text": [
      "Jan\n",
      "Feb\n",
      "Mar\n",
      "Apr\n",
      "May\n"
     ]
    }
   ],
   "source": [
    "for month_name in months.values():\n",
    "    print(month_name)"
   ]
  },
  {
   "cell_type": "code",
   "execution_count": 66,
   "id": "f934d51c",
   "metadata": {},
   "outputs": [
    {
     "name": "stdout",
     "output_type": "stream",
     "text": [
      "('a', 10)\n",
      "('b', 20)\n",
      "('c', 30)\n"
     ]
    }
   ],
   "source": [
    "# my favorite way to iterate over dicts is with the \"items\" method\n",
    "\n",
    "for one_item in d.items():\n",
    "    print(one_item)  # we get a 2-element tuple, with the key and value for each pair"
   ]
  },
  {
   "cell_type": "code",
   "execution_count": 68,
   "id": "ce6208d3",
   "metadata": {},
   "outputs": [
    {
     "name": "stdout",
     "output_type": "stream",
     "text": [
      "a: 10\n",
      "b: 20\n",
      "c: 30\n"
     ]
    }
   ],
   "source": [
    "# this will work -- t[0] is the key and t[1] is the value\n",
    "for t in d.items():\n",
    "    print(f'{t[0]}: {t[1]}')"
   ]
  },
  {
   "cell_type": "code",
   "execution_count": 69,
   "id": "c920c72d",
   "metadata": {},
   "outputs": [],
   "source": [
    "# we can use unpacking\n",
    "# unpacking means: we have a sequence on the right, and multiple variables on the left\n",
    "\n",
    "mylist = [10, 20, 30]\n",
    "x,y,z = mylist    # three variables = three elements in mylist -- so x=10, y=20, z=30"
   ]
  },
  {
   "cell_type": "code",
   "execution_count": 70,
   "id": "643e801b",
   "metadata": {},
   "outputs": [
    {
     "data": {
      "text/plain": [
       "10"
      ]
     },
     "execution_count": 70,
     "metadata": {},
     "output_type": "execute_result"
    }
   ],
   "source": [
    "x"
   ]
  },
  {
   "cell_type": "code",
   "execution_count": 71,
   "id": "5c86775c",
   "metadata": {},
   "outputs": [
    {
     "data": {
      "text/plain": [
       "20"
      ]
     },
     "execution_count": 71,
     "metadata": {},
     "output_type": "execute_result"
    }
   ],
   "source": [
    "y"
   ]
  },
  {
   "cell_type": "code",
   "execution_count": 72,
   "id": "646051c8",
   "metadata": {},
   "outputs": [
    {
     "data": {
      "text/plain": [
       "30"
      ]
     },
     "execution_count": 72,
     "metadata": {},
     "output_type": "execute_result"
    }
   ],
   "source": [
    "z"
   ]
  },
  {
   "cell_type": "code",
   "execution_count": 73,
   "id": "891c5f01",
   "metadata": {},
   "outputs": [
    {
     "name": "stdout",
     "output_type": "stream",
     "text": [
      "a: 10\n",
      "b: 20\n",
      "c: 30\n"
     ]
    }
   ],
   "source": [
    "# I can use unpacking in my for loop!\n",
    "for key, value in d.items():\n",
    "    print(f'{key}: {value}')"
   ]
  },
  {
   "cell_type": "code",
   "execution_count": 74,
   "id": "f8f016f8",
   "metadata": {},
   "outputs": [
    {
     "name": "stdout",
     "output_type": "stream",
     "text": [
      "1: Jan\n",
      "2: Feb\n",
      "3: Mar\n",
      "4: Apr\n",
      "5: May\n"
     ]
    }
   ],
   "source": [
    "for month_number, month_name in months.items():\n",
    "    print(f'{month_number}: {month_name}')"
   ]
  },
  {
   "cell_type": "markdown",
   "id": "26e040f0",
   "metadata": {},
   "source": [
    "# How do dicts work?\n",
    "\n",
    "Why do we need (want) dictionaries? Can't we just use lists?  What's the big advantage?\n",
    "\n",
    "There are several:\n",
    "- Keys are guaranteed to be unique -- I don't need to worry about duplicates\n",
    "- My programs become more readable -- I'd prefer to use keys with meaning than numbers for indexes\n",
    "- Searching for a key in a dict is *FAR, FAR* faster than in a list."
   ]
  }
 ],
 "metadata": {
  "kernelspec": {
   "display_name": "Python 3 (ipykernel)",
   "language": "python",
   "name": "python3"
  },
  "language_info": {
   "codemirror_mode": {
    "name": "ipython",
    "version": 3
   },
   "file_extension": ".py",
   "mimetype": "text/x-python",
   "name": "python",
   "nbconvert_exporter": "python",
   "pygments_lexer": "ipython3",
   "version": "3.10.1"
  }
 },
 "nbformat": 4,
 "nbformat_minor": 5
}
