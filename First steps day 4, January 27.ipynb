{
 "cells": [
  {
   "cell_type": "markdown",
   "id": "7868f8be",
   "metadata": {},
   "source": [
    "# Functions!\n",
    "\n",
    "1. What are functions?\n",
    "2. Writing simple functions\n",
    "3. Arguments and parameters\n",
    "4. Return values\n",
    "5. Default argument values\n",
    "6. Complex return values\n",
    "7. Unpacking\n",
    "8. Local vs. global variables"
   ]
  },
  {
   "cell_type": "markdown",
   "id": "59bde0c5",
   "metadata": {},
   "source": [
    "# What are functions?\n",
    "\n",
    "If we imagine Python to be a (human) language, then we have so far been talking about *nouns*.  Our various data structures are the nouns of the language.\n",
    "\n",
    "There are some verbs -- functions and methods -- but so far, we've had to use the verbs that the system came with.\n",
    "\n",
    "Functions allow us to create new verbs, and thus describe new activities.\n",
    "\n",
    "Do we really need functions?  No.\n",
    "\n",
    "Functions are an abstraction -- they allow us to describe many different activities with a single word.\n",
    "\n",
    "When I define a function, I'm giving a name to a (short or long) set of steps that I don't want to describe individually.  I want to wrap them up together.\n",
    "\n"
   ]
  },
  {
   "cell_type": "markdown",
   "id": "feee1ac7",
   "metadata": {},
   "source": [
    "# Functions vs. methods\n",
    "\n",
    "Functions are free-floating names in Python. Methods, by contrast, are always attached to an object -- their name always comes after a `.`, and that `.` comes after an object name.\n",
    "\n"
   ]
  },
  {
   "cell_type": "code",
   "execution_count": 1,
   "id": "2543f9b5",
   "metadata": {},
   "outputs": [
    {
     "name": "stdout",
     "output_type": "stream",
     "text": [
      "abcde\n"
     ]
    }
   ],
   "source": [
    "s = 'abcde'  # defined a string\n",
    "\n",
    "print(s)     # print is a function"
   ]
  },
  {
   "cell_type": "code",
   "execution_count": 2,
   "id": "61388b9a",
   "metadata": {
    "scrolled": true
   },
   "outputs": [
    {
     "name": "stdout",
     "output_type": "stream",
     "text": [
      "5\n"
     ]
    }
   ],
   "source": [
    "print(len(s))   # len and print are both functions"
   ]
  },
  {
   "cell_type": "code",
   "execution_count": 3,
   "id": "e97c0722",
   "metadata": {},
   "outputs": [
    {
     "name": "stdout",
     "output_type": "stream",
     "text": [
      "ABCDE\n"
     ]
    }
   ],
   "source": [
    "print(s.upper())   # upper is a method (attached to s) but print is a function"
   ]
  },
  {
   "cell_type": "markdown",
   "id": "d0bf6d0b",
   "metadata": {},
   "source": [
    "# How do I define a function?\n",
    "\n",
    "1. I use the keyword `def`.\n",
    "2. I give the function a name.\n",
    "3. I tell Python what parameters the function will take, if any, in parentheses.\n",
    "4. I have a colon at the end of the line.\n",
    "5. I then have an indented block containing the \"function body.\"\n",
    "\n",
    "When I define the function, it **DOES NOT EXECUTE**.  We're defining a function, we're not running it.\n",
    "\n",
    "These terms all mean the same thing:\n",
    "1. Running the function\n",
    "2. Executing the function\n",
    "3. Calling the function (in fact, Python has a category of object called \"callables,\" which includes functions)\n",
    "\n",
    "When you define a function with `def`, you're really doing two different things:\n",
    "1. Creating a new function object\n",
    "2. Assigning that object to a variable\n",
    "\n",
    "Meaning: A function name is just like a variable name, and follows the same rules:\n",
    "- Any length\n",
    "- Cannot collide with keywords (`def`, `if`, `for`)\n",
    "- Should try to avoid using builtin names (`str`, `dict`, `list`)\n",
    "- Any combination of letters, numbers, and `_`, *but* cannot start with a number\n",
    "- If you start with `_`, then it's considered to be secret/private (even though everyone can see it)\n",
    "- Normally, Python uses all lowercase letters + `_` between words"
   ]
  },
  {
   "cell_type": "code",
   "execution_count": 4,
   "id": "a5875bbc",
   "metadata": {},
   "outputs": [],
   "source": [
    "def hello():          # def + function name + empty parentheses + :\n",
    "    print('Hello!')   # the function body, which is 1 line long"
   ]
  },
  {
   "cell_type": "code",
   "execution_count": 5,
   "id": "3e6b8db1",
   "metadata": {},
   "outputs": [
    {
     "name": "stdout",
     "output_type": "stream",
     "text": [
      "Hello!\n"
     ]
    }
   ],
   "source": [
    "# How do I run the function?  Use ()!\n",
    "\n",
    "hello()"
   ]
  },
  {
   "cell_type": "code",
   "execution_count": null,
   "id": "2f228779",
   "metadata": {},
   "outputs": [],
   "source": []
  }
 ],
 "metadata": {
  "kernelspec": {
   "display_name": "Python 3 (ipykernel)",
   "language": "python",
   "name": "python3"
  },
  "language_info": {
   "codemirror_mode": {
    "name": "ipython",
    "version": 3
   },
   "file_extension": ".py",
   "mimetype": "text/x-python",
   "name": "python",
   "nbconvert_exporter": "python",
   "pygments_lexer": "ipython3",
   "version": "3.10.1"
  }
 },
 "nbformat": 4,
 "nbformat_minor": 5
}
