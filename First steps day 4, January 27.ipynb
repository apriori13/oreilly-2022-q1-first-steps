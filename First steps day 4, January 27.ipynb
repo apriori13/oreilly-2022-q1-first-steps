{
 "cells": [
  {
   "cell_type": "markdown",
   "id": "804fe798",
   "metadata": {},
   "source": [
    "# Functions!\n",
    "\n",
    "1. What are functions?\n",
    "2. Writing simple functions\n",
    "3. Arguments and parameters\n",
    "4. Return values\n",
    "5. Default argument values\n",
    "6. Complex return values\n",
    "7. Unpacking\n",
    "8. Local vs. global variables"
   ]
  },
  {
   "cell_type": "markdown",
   "id": "32aaf2e7",
   "metadata": {},
   "source": [
    "# What are functions?\n",
    "\n",
    "If we imagine Python to be a (human) language, then we have so far been talking about *nouns*.  Our various data structures are the nouns of the language.\n",
    "\n",
    "There are some verbs -- functions and methods -- but so far, we've had to use the verbs that the system came with.\n",
    "\n",
    "Functions allow us to create new verbs, and thus describe new activities.\n",
    "\n",
    "Do we really need functions?  No.\n",
    "\n",
    "Functions are an abstraction -- they allow us to describe many different activities with a single word.\n",
    "\n",
    "When I define a function, I'm giving a name to a (short or long) set of steps that I don't want to describe individually.  I want to wrap them up together.\n",
    "\n"
   ]
  },
  {
   "cell_type": "markdown",
   "id": "868b8b8e",
   "metadata": {},
   "source": [
    "# Functions vs. methods\n",
    "\n",
    "Functions are free-floating names in Python. Methods, by contrast, are always attached to an object -- their name always comes after a `.`, and that `.` comes after an object name.\n",
    "\n"
   ]
  },
  {
   "cell_type": "code",
   "execution_count": 1,
   "id": "8bcc7853",
   "metadata": {},
   "outputs": [
    {
     "name": "stdout",
     "output_type": "stream",
     "text": [
      "abcde\n"
     ]
    }
   ],
   "source": [
    "s = 'abcde'  # defined a string\n",
    "\n",
    "print(s)     # print is a function"
   ]
  },
  {
   "cell_type": "code",
   "execution_count": 2,
   "id": "92807705",
   "metadata": {
    "scrolled": true
   },
   "outputs": [
    {
     "name": "stdout",
     "output_type": "stream",
     "text": [
      "5\n"
     ]
    }
   ],
   "source": [
    "print(len(s))   # len and print are both functions"
   ]
  },
  {
   "cell_type": "code",
   "execution_count": 3,
   "id": "212f967b",
   "metadata": {},
   "outputs": [
    {
     "name": "stdout",
     "output_type": "stream",
     "text": [
      "ABCDE\n"
     ]
    }
   ],
   "source": [
    "print(s.upper())   # upper is a method (attached to s) but print is a function"
   ]
  },
  {
   "cell_type": "markdown",
   "id": "550ce12c",
   "metadata": {},
   "source": [
    "# How do I define a function?\n",
    "\n",
    "1. I use the keyword `def`.\n",
    "2. I give the function a name.\n",
    "3. I tell Python what parameters the function will take, if any, in parentheses.\n",
    "4. I have a colon at the end of the line.\n",
    "5. I then have an indented block containing the \"function body.\"\n",
    "\n",
    "When I define the function, it **DOES NOT EXECUTE**.  We're defining a function, we're not running it.\n",
    "\n",
    "These terms all mean the same thing:\n",
    "1. Running the function\n",
    "2. Executing the function\n",
    "3. Calling the function (in fact, Python has a category of object called \"callables,\" which includes functions)\n",
    "\n",
    "When you define a function with `def`, you're really doing two different things:\n",
    "1. Creating a new function object\n",
    "2. Assigning that object to a variable\n",
    "\n",
    "Meaning: A function name is just like a variable name, and follows the same rules:\n",
    "- Any length\n",
    "- Cannot collide with keywords (`def`, `if`, `for`)\n",
    "- Should try to avoid using builtin names (`str`, `dict`, `list`)\n",
    "- Any combination of letters, numbers, and `_`, *but* cannot start with a number\n",
    "- If you start with `_`, then it's considered to be secret/private (even though everyone can see it)\n",
    "- Normally, Python uses all lowercase letters + `_` between words"
   ]
  },
  {
   "cell_type": "code",
   "execution_count": 4,
   "id": "03458b6b",
   "metadata": {},
   "outputs": [],
   "source": [
    "def hello():          # def + function name + empty parentheses + :\n",
    "    print('Hello!')   # the function body, which is 1 line long"
   ]
  },
  {
   "cell_type": "code",
   "execution_count": 5,
   "id": "e6ff50e4",
   "metadata": {},
   "outputs": [
    {
     "name": "stdout",
     "output_type": "stream",
     "text": [
      "Hello!\n"
     ]
    }
   ],
   "source": [
    "# How do I run the function?  Use ()!\n",
    "\n",
    "hello()"
   ]
  },
  {
   "cell_type": "code",
   "execution_count": 6,
   "id": "614a935b",
   "metadata": {},
   "outputs": [
    {
     "data": {
      "text/plain": [
       "'12345'"
      ]
     },
     "execution_count": 6,
     "metadata": {},
     "output_type": "execute_result"
    }
   ],
   "source": [
    "str(12345) # I want to be able to do this... and if I define a variable/function called \"str\", I cannot!"
   ]
  },
  {
   "cell_type": "code",
   "execution_count": 7,
   "id": "f1a1528a",
   "metadata": {},
   "outputs": [],
   "source": [
    "def hello():\n",
    "    name = input('Enter your name: ').strip()\n",
    "    if name == '':\n",
    "        print('Hey! You did not enter a name!')\n",
    "    else:\n",
    "        print(f'Hello, {name}!')"
   ]
  },
  {
   "cell_type": "code",
   "execution_count": 8,
   "id": "e1fcf4fc",
   "metadata": {},
   "outputs": [
    {
     "data": {
      "text/plain": [
       "function"
      ]
     },
     "execution_count": 8,
     "metadata": {},
     "output_type": "execute_result"
    }
   ],
   "source": [
    "type(hello)   # what kind of thing is assigned to the variable \"hello\""
   ]
  },
  {
   "cell_type": "code",
   "execution_count": 11,
   "id": "3fa678a8",
   "metadata": {},
   "outputs": [
    {
     "name": "stdout",
     "output_type": "stream",
     "text": [
      "Enter your name: \n",
      "Hey! You did not enter a name!\n"
     ]
    }
   ],
   "source": [
    "hello()"
   ]
  },
  {
   "cell_type": "markdown",
   "id": "6a460b5d",
   "metadata": {},
   "source": [
    "# Editing functions\n",
    "\n",
    "If you're in Jupyter, then you can see a function's definition with the special `??` suffix on a function name. Just run `hello??` on a line by itself, and you'll see the definition.\n",
    "\n",
    "If you're *not* in Jupyter, and you're using an IDE (integrated development environment) or editor (e.g., PyCharm or VSCode), then you can just open up the file containing that function definition and look at it.\n",
    "\n",
    "In an editor, it's very easy to edit a function definition -- y ou "
   ]
  }
 ],
 "metadata": {
  "kernelspec": {
   "display_name": "Python 3 (ipykernel)",
   "language": "python",
   "name": "python3"
  },
  "language_info": {
   "codemirror_mode": {
    "name": "ipython",
    "version": 3
   },
   "file_extension": ".py",
   "mimetype": "text/x-python",
   "name": "python",
   "nbconvert_exporter": "python",
   "pygments_lexer": "ipython3",
   "version": "3.10.1"
  }
 },
 "nbformat": 4,
 "nbformat_minor": 5
}
