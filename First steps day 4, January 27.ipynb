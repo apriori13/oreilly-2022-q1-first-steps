{
 "cells": [
  {
   "cell_type": "markdown",
   "id": "9bde282f",
   "metadata": {},
   "source": [
    "# Functions!\n",
    "\n",
    "1. What are functions?\n",
    "2. Writing simple functions\n",
    "3. Arguments and parameters\n",
    "4. Return values\n",
    "5. Default argument values\n",
    "6. Complex return values\n",
    "7. Unpacking\n",
    "8. Local vs. global variables"
   ]
  },
  {
   "cell_type": "markdown",
   "id": "078e045f",
   "metadata": {},
   "source": [
    "# What are functions?\n",
    "\n",
    "If we imagine Python to be a (human) language, then we have so far been talking about *nouns*.  Our various data structures are the nouns of the language.\n",
    "\n",
    "There are some verbs -- functions and methods -- but so far, we've had to use the verbs that the system came with.\n",
    "\n",
    "Functions allow us to create new verbs, and thus describe new activities.\n",
    "\n",
    "Do we really need functions?  No.\n",
    "\n",
    "Functions are an abstraction -- they allow us to describe many different activities with a single word.\n",
    "\n",
    "When I define a function, I'm giving a name to a (short or long) set of steps that I don't want to describe individually.  I want to wrap them up together.\n",
    "\n"
   ]
  },
  {
   "cell_type": "markdown",
   "id": "a8269a6e",
   "metadata": {},
   "source": [
    "# Functions vs. methods\n",
    "\n",
    "Functions are free-floating names in Python. Methods, by contrast, are always attached to an object -- their name always comes after a `.`, and that `.` comes after an object name.\n",
    "\n"
   ]
  },
  {
   "cell_type": "code",
   "execution_count": 1,
   "id": "0e257726",
   "metadata": {},
   "outputs": [
    {
     "name": "stdout",
     "output_type": "stream",
     "text": [
      "abcde\n"
     ]
    }
   ],
   "source": [
    "s = 'abcde'  # defined a string\n",
    "\n",
    "print(s)     # print is a function"
   ]
  },
  {
   "cell_type": "code",
   "execution_count": 2,
   "id": "982c58a5",
   "metadata": {
    "scrolled": true
   },
   "outputs": [
    {
     "name": "stdout",
     "output_type": "stream",
     "text": [
      "5\n"
     ]
    }
   ],
   "source": [
    "print(len(s))   # len and print are both functions"
   ]
  },
  {
   "cell_type": "code",
   "execution_count": null,
   "id": "68b0cc89",
   "metadata": {},
   "outputs": [],
   "source": [
    "print(s.upper)"
   ]
  },
  {
   "cell_type": "markdown",
   "id": "29fb1ded",
   "metadata": {},
   "source": [
    "# How do I define a function?\n",
    "\n",
    "I use the keyword `def`."
   ]
  }
 ],
 "metadata": {
  "kernelspec": {
   "display_name": "Python 3 (ipykernel)",
   "language": "python",
   "name": "python3"
  },
  "language_info": {
   "codemirror_mode": {
    "name": "ipython",
    "version": 3
   },
   "file_extension": ".py",
   "mimetype": "text/x-python",
   "name": "python",
   "nbconvert_exporter": "python",
   "pygments_lexer": "ipython3",
   "version": "3.10.1"
  }
 },
 "nbformat": 4,
 "nbformat_minor": 5
}
