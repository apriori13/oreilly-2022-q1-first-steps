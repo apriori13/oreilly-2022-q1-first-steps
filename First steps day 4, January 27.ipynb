{
 "cells": [
  {
   "cell_type": "markdown",
   "id": "641d4978",
   "metadata": {},
   "source": [
    "# Functions!\n",
    "\n",
    "1. What are functions?\n",
    "2. Writing simple functions\n",
    "3. Arguments and parameters\n",
    "4. Return values\n",
    "5. Default argument values\n",
    "6. Complex return values\n",
    "7. Unpacking\n",
    "8. Local vs. global variables"
   ]
  },
  {
   "cell_type": "markdown",
   "id": "fc94c4bc",
   "metadata": {},
   "source": [
    "# What are functions?\n",
    "\n",
    "If we imagine Python to be a (human) language, then we have so far been talking about *nouns*.  Our various data structures are the nouns of the language.\n",
    "\n",
    "There are some verbs -- functions and methods -- but so far, we've had to use the verbs that the system came with.\n",
    "\n",
    "Functions allow us to create new verbs, and thus describe new activities.\n",
    "\n",
    "Do we really need functions?  No.\n",
    "\n",
    "Functions are an abstraction -- they allow us to describe many different activities with a single word.\n",
    "\n",
    "When I define a function, I'm giving a name to a (short or long) set of steps that I don't want to describe individually.  I want to wrap them up together.\n",
    "\n"
   ]
  },
  {
   "cell_type": "markdown",
   "id": "26d3e076",
   "metadata": {},
   "source": [
    "# Functions vs. methods\n",
    "\n",
    "Functions are free-floating names in Python. Methods, by contrast, are always attached to an object -- their name always comes after a `.`, and that `.` comes after an object name.\n",
    "\n"
   ]
  },
  {
   "cell_type": "code",
   "execution_count": 1,
   "id": "ef842020",
   "metadata": {},
   "outputs": [
    {
     "name": "stdout",
     "output_type": "stream",
     "text": [
      "abcde\n"
     ]
    }
   ],
   "source": [
    "s = 'abcde'  # defined a string\n",
    "\n",
    "print(s)     # print is a function"
   ]
  },
  {
   "cell_type": "code",
   "execution_count": 2,
   "id": "1bbe76e3",
   "metadata": {
    "scrolled": true
   },
   "outputs": [
    {
     "name": "stdout",
     "output_type": "stream",
     "text": [
      "5\n"
     ]
    }
   ],
   "source": [
    "print(len(s))   # len and print are both functions"
   ]
  },
  {
   "cell_type": "code",
   "execution_count": 3,
   "id": "e6dd72b6",
   "metadata": {},
   "outputs": [
    {
     "name": "stdout",
     "output_type": "stream",
     "text": [
      "ABCDE\n"
     ]
    }
   ],
   "source": [
    "print(s.upper())   # upper is a method (attached to s) but print is a function"
   ]
  },
  {
   "cell_type": "markdown",
   "id": "70924c6d",
   "metadata": {},
   "source": [
    "# How do I define a function?\n",
    "\n",
    "1. I use the keyword `def`.\n",
    "2. I give the function a name.\n",
    "3. I tell Python what parameters the function will take, if any, in parentheses.\n",
    "4. I have a colon at the end of the line.\n",
    "5. I then have an indented block containing the \"function body.\"\n",
    "\n",
    "When I define the function, it **DOES NOT EXECUTE**.  We're defining a function, we're not running it.\n",
    "\n",
    "These terms all mean the same thing:\n",
    "1. Running the function\n",
    "2. Executing the function\n",
    "3. Calling the function (in fact, Python has a category of object called \"callables,\" which includes functions)\n",
    "\n",
    "When you define a function with `def`, you're really doing two different things:\n",
    "1. Creating a new function object\n",
    "2. Assigning that object to a variable\n",
    "\n",
    "Meaning: A function name is just like a variable name, and follows the same rules:\n",
    "- Any length\n",
    "- Cannot collide with keywords (`def`, `if`, `for`)\n",
    "- Should try to avoid using builtin names (`str`, `dict`, `list`)\n",
    "- Any combination of letters, numbers, and `_`, *but* cannot start with a number\n",
    "- If you start with `_`, then it's considered to be secret/private (even though everyone can see it)\n",
    "- Normally, Python uses all lowercase letters + `_` between words"
   ]
  },
  {
   "cell_type": "code",
   "execution_count": 4,
   "id": "e860a82c",
   "metadata": {},
   "outputs": [],
   "source": [
    "def hello():          # def + function name + empty parentheses + :\n",
    "    print('Hello!')   # the function body, which is 1 line long"
   ]
  },
  {
   "cell_type": "code",
   "execution_count": 5,
   "id": "822fa08e",
   "metadata": {},
   "outputs": [
    {
     "name": "stdout",
     "output_type": "stream",
     "text": [
      "Hello!\n"
     ]
    }
   ],
   "source": [
    "# How do I run the function?  Use ()!\n",
    "\n",
    "hello()"
   ]
  },
  {
   "cell_type": "code",
   "execution_count": 6,
   "id": "e491c965",
   "metadata": {},
   "outputs": [
    {
     "data": {
      "text/plain": [
       "'12345'"
      ]
     },
     "execution_count": 6,
     "metadata": {},
     "output_type": "execute_result"
    }
   ],
   "source": [
    "str(12345) # I want to be able to do this... and if I define a variable/function called \"str\", I cannot!"
   ]
  },
  {
   "cell_type": "code",
   "execution_count": 7,
   "id": "f518cab4",
   "metadata": {},
   "outputs": [],
   "source": [
    "def hello():\n",
    "    name = input('Enter your name: ').strip()\n",
    "    if name == '':\n",
    "        print('Hey! You did not enter a name!')\n",
    "    else:\n",
    "        print(f'Hello, {name}!')"
   ]
  },
  {
   "cell_type": "code",
   "execution_count": 8,
   "id": "079d3640",
   "metadata": {},
   "outputs": [
    {
     "data": {
      "text/plain": [
       "function"
      ]
     },
     "execution_count": 8,
     "metadata": {},
     "output_type": "execute_result"
    }
   ],
   "source": [
    "type(hello)   # what kind of thing is assigned to the variable \"hello\""
   ]
  },
  {
   "cell_type": "code",
   "execution_count": 11,
   "id": "15b73434",
   "metadata": {},
   "outputs": [
    {
     "name": "stdout",
     "output_type": "stream",
     "text": [
      "Enter your name: \n",
      "Hey! You did not enter a name!\n"
     ]
    }
   ],
   "source": [
    "hello()"
   ]
  },
  {
   "cell_type": "markdown",
   "id": "9f590efe",
   "metadata": {},
   "source": [
    "# Editing functions\n",
    "\n",
    "If you're in Jupyter, then you can see a function's definition with the special `??` suffix on a function name. Just run `hello??` on a line by itself, and you'll see the definition.\n",
    "\n",
    "If you're *not* in Jupyter, and you're using an IDE (integrated development environment) or editor (e.g., PyCharm or VSCode), then you can just open up the file containing that function definition and look at it.\n",
    "\n",
    "In an editor, it's very easy to edit a function definition -- you just edit it!\n",
    "\n",
    "In Jupyter, it's trickier -- it's better to just find the function and rewrite it."
   ]
  },
  {
   "cell_type": "markdown",
   "id": "c9932aa0",
   "metadata": {},
   "source": [
    "# Exercise: Calculator\n",
    "\n",
    "1. Write a function, `calc`, which, when run, does the following:\n",
    "2. Ask the user to enter three pieces of information:\n",
    "    - `first`, an integer\n",
    "    - `op`, an operator\n",
    "    - `second`, an integer\n",
    "3. If `op` is either `+` or `-`, then print the result of adding or subtracting (respectively) the numbers from one another.\n",
    "4. If `op` is neither of these, give some sort of scolding/error message.\n",
    "5. Don't forget you need to convert inputs into numbers using `int`. If you really want, you can check using `.isdigit` whether that's possible.\n",
    "6. Then run `calc`, and see that it asks for you inputs and prints the result."
   ]
  },
  {
   "cell_type": "code",
   "execution_count": 13,
   "id": "e97f7775",
   "metadata": {},
   "outputs": [],
   "source": [
    "def calc():\n",
    "    # get inputs from the user\n",
    "    first = input('Enter first: ').strip()\n",
    "    op = input('Enter operator: ').strip()\n",
    "    second = input('Enter second: ').strip()\n",
    "    \n",
    "    # turn numbers into integers (from strings)\n",
    "    first = int(first)\n",
    "    second = int(second)\n",
    "    \n",
    "    # what operator should we use?\n",
    "    if op == '+':\n",
    "        result = first + second\n",
    "    elif op == '-':\n",
    "        result = first - second\n",
    "    else:\n",
    "        result = 'Not supported'\n",
    "        \n",
    "    # print a report for the user\n",
    "    print(f'{first} {op} {second} = {result}')"
   ]
  },
  {
   "cell_type": "code",
   "execution_count": 14,
   "id": "9588aa41",
   "metadata": {},
   "outputs": [
    {
     "name": "stdout",
     "output_type": "stream",
     "text": [
      "Enter first: 10\n",
      "Enter operator: +\n",
      "Enter second: 3\n",
      "10 + 3 = 13\n"
     ]
    }
   ],
   "source": [
    "calc()"
   ]
  },
  {
   "cell_type": "markdown",
   "id": "a657c9ec",
   "metadata": {},
   "source": [
    "# In Python Tutor:\n",
    "\n",
    "https://pythontutor.com/visualize.html#code=def%20calc%28%29%3A%0A%20%20%20%20%23%20get%20inputs%20from%20the%20user%0A%20%20%20%20first%20%3D%20input%28'Enter%20first%3A%20'%29.strip%28%29%0A%20%20%20%20op%20%3D%20input%28'Enter%20operator%3A%20'%29.strip%28%29%0A%20%20%20%20second%20%3D%20input%28'Enter%20second%3A%20'%29.strip%28%29%0A%20%20%20%20%0A%20%20%20%20%23%20turn%20numbers%20into%20integers%20%28from%20strings%29%0A%20%20%20%20first%20%3D%20int%28first%29%0A%20%20%20%20second%20%3D%20int%28second%29%0A%20%20%20%20%0A%20%20%20%20%23%20what%20operator%20should%20we%20use%3F%0A%20%20%20%20if%20op%20%3D%3D%20'%2B'%3A%0A%20%20%20%20%20%20%20%20result%20%3D%20first%20%2B%20second%0A%20%20%20%20elif%20op%20%3D%3D%20'-'%3A%0A%20%20%20%20%20%20%20%20result%20%3D%20first%20-%20second%0A%20%20%20%20else%3A%0A%20%20%20%20%20%20%20%20result%20%3D%20'Not%20supported'%0A%20%20%20%20%20%20%20%20%0A%20%20%20%20%23%20print%20a%20report%20for%20the%20user%0A%20%20%20%20print%28f'%7Bfirst%7D%20%7Bop%7D%20%7Bsecond%7D%20%3D%20%7Bresult%7D'%29%0A%20%20%20%20%0Acalc%28%29%20%20%20%20&cumulative=false&curInstr=12&heapPrimitives=true&mode=display&origin=opt-frontend.js&py=3&rawInputLstJSON=%5B%225%22,%22-%22,%2220%22%5D&textReferences=false"
   ]
  },
  {
   "cell_type": "markdown",
   "id": "86127fae",
   "metadata": {},
   "source": [
    "# Redefining functions\n",
    "\n",
    "Just as you can define the same variable multiple times, and the most recent time you defined it determines its value, the most recent time you defined a function determines how it works.\n",
    "\n",
    "If you define a function with the same name multiple times, only the most recent version is still around."
   ]
  },
  {
   "cell_type": "code",
   "execution_count": 15,
   "id": "b4be596a",
   "metadata": {},
   "outputs": [],
   "source": [
    "def hello():\n",
    "    name = input('Enter your name: ').strip()\n",
    "    \n",
    "    print(f'Hello, {name}!')"
   ]
  },
  {
   "cell_type": "code",
   "execution_count": 16,
   "id": "0954c2c2",
   "metadata": {
    "scrolled": true
   },
   "outputs": [
    {
     "name": "stdout",
     "output_type": "stream",
     "text": [
      "Enter your name: Reuven\n",
      "Hello, Reuven!\n"
     ]
    }
   ],
   "source": [
    "hello()   # no parentheses? No execution of the function!"
   ]
  },
  {
   "cell_type": "code",
   "execution_count": 17,
   "id": "81cb22ed",
   "metadata": {},
   "outputs": [],
   "source": [
    "# what if I want to call the function and provide a name at that point\n",
    "# I'm going to define the function with a *parameter* -- meaning, a variable that's \n",
    "# assigned when the function is called\n",
    "\n",
    "# in this case, name is not only a variable, it's a special kind of variable called a *parameter*.\n",
    "# parameters get their values from the caller\n",
    "\n",
    "def hello(name):\n",
    "    print(f'Hello, {name}!')"
   ]
  },
  {
   "cell_type": "code",
   "execution_count": 18,
   "id": "9dcb1630",
   "metadata": {},
   "outputs": [
    {
     "name": "stdout",
     "output_type": "stream",
     "text": [
      "Hello, name!\n"
     ]
    }
   ],
   "source": [
    "hello('name')"
   ]
  },
  {
   "cell_type": "code",
   "execution_count": 19,
   "id": "c80295e4",
   "metadata": {},
   "outputs": [
    {
     "name": "stdout",
     "output_type": "stream",
     "text": [
      "Hello, Reuven!\n"
     ]
    }
   ],
   "source": [
    "hello('Reuven')"
   ]
  },
  {
   "cell_type": "code",
   "execution_count": 20,
   "id": "b4f268ba",
   "metadata": {},
   "outputs": [
    {
     "name": "stdout",
     "output_type": "stream",
     "text": [
      "Hello, world!\n"
     ]
    }
   ],
   "source": [
    "x = 'world'\n",
    "hello(x)"
   ]
  },
  {
   "cell_type": "code",
   "execution_count": 21,
   "id": "c01ccede",
   "metadata": {},
   "outputs": [
    {
     "name": "stdout",
     "output_type": "stream",
     "text": [
      "Hello, world!\n"
     ]
    }
   ],
   "source": [
    "# Python doesn't check what type of data I pass as an argument \n",
    "hello('world')"
   ]
  },
  {
   "cell_type": "code",
   "execution_count": 22,
   "id": "27c8323e",
   "metadata": {},
   "outputs": [
    {
     "name": "stdout",
     "output_type": "stream",
     "text": [
      "Hello, 5!\n"
     ]
    }
   ],
   "source": [
    "hello(5)"
   ]
  },
  {
   "cell_type": "code",
   "execution_count": 23,
   "id": "25df248e",
   "metadata": {},
   "outputs": [
    {
     "name": "stdout",
     "output_type": "stream",
     "text": [
      "Hello, [10, 20, 30]!\n"
     ]
    }
   ],
   "source": [
    "hello([10, 20, 30])"
   ]
  },
  {
   "cell_type": "code",
   "execution_count": 24,
   "id": "1c1a4ae2",
   "metadata": {},
   "outputs": [
    {
     "ename": "TypeError",
     "evalue": "hello() missing 1 required positional argument: 'name'",
     "output_type": "error",
     "traceback": [
      "\u001b[0;31m---------------------------------------------------------------------------\u001b[0m",
      "\u001b[0;31mTypeError\u001b[0m                                 Traceback (most recent call last)",
      "\u001b[0;32m/var/folders/rr/0mnyyv811fs5vyp22gf4fxk00000gn/T/ipykernel_45412/2734792267.py\u001b[0m in \u001b[0;36m<module>\u001b[0;34m\u001b[0m\n\u001b[0;32m----> 1\u001b[0;31m \u001b[0mhello\u001b[0m\u001b[0;34m(\u001b[0m\u001b[0;34m)\u001b[0m   \u001b[0;31m# what if I call it again, but without an argument?  This used to work, right?\u001b[0m\u001b[0;34m\u001b[0m\u001b[0;34m\u001b[0m\u001b[0m\n\u001b[0m",
      "\u001b[0;31mTypeError\u001b[0m: hello() missing 1 required positional argument: 'name'"
     ]
    }
   ],
   "source": [
    "hello()   # what if I call it again, but without an argument?  This used to work, right?"
   ]
  },
  {
   "cell_type": "markdown",
   "id": "8b3811c8",
   "metadata": {},
   "source": [
    "# Parameter types\n",
    "\n",
    "The idea of a parameter that can only be an integer, or only be a string, **DOES NOT EXIST** in Python. That idea does exist in other programming languages. But in Python, any parameter can get any value passed to it.  The function needs to check these things -- or not! Maybe the user should have read the documentation before passing a bad value.\n",
    "\n",
    "More seriously: Python now has what are called \"type annotations,\" or \"type hints.\" And a separate program called Mypy checks these against your code, to make sure that you don't mess up too much."
   ]
  },
  {
   "cell_type": "code",
   "execution_count": 25,
   "id": "3db74808",
   "metadata": {},
   "outputs": [],
   "source": [
    "# Let's write a function that takes *two* arguments (into two parameters)\n",
    "\n",
    "def hello(first, last):\n",
    "    print(f'Hello, {first} {last}!')"
   ]
  },
  {
   "cell_type": "code",
   "execution_count": 26,
   "id": "56ffee47",
   "metadata": {},
   "outputs": [
    {
     "name": "stdout",
     "output_type": "stream",
     "text": [
      "Hello, Reuven Lerner!\n"
     ]
    }
   ],
   "source": [
    "hello('Reuven', 'Lerner')"
   ]
  },
  {
   "cell_type": "code",
   "execution_count": 27,
   "id": "9834414f",
   "metadata": {},
   "outputs": [
    {
     "name": "stdout",
     "output_type": "stream",
     "text": [
      "Hello, out there!\n"
     ]
    }
   ],
   "source": [
    "hello('out', 'there')"
   ]
  },
  {
   "cell_type": "code",
   "execution_count": 29,
   "id": "6ada9ff4",
   "metadata": {},
   "outputs": [
    {
     "ename": "TypeError",
     "evalue": "hello() missing 1 required positional argument: 'last'",
     "output_type": "error",
     "traceback": [
      "\u001b[0;31m---------------------------------------------------------------------------\u001b[0m",
      "\u001b[0;31mTypeError\u001b[0m                                 Traceback (most recent call last)",
      "\u001b[0;32m/var/folders/rr/0mnyyv811fs5vyp22gf4fxk00000gn/T/ipykernel_45412/3423178131.py\u001b[0m in \u001b[0;36m<module>\u001b[0;34m\u001b[0m\n\u001b[0;32m----> 1\u001b[0;31m \u001b[0mhello\u001b[0m\u001b[0;34m(\u001b[0m\u001b[0;34m'there'\u001b[0m\u001b[0;34m)\u001b[0m   \u001b[0;31m# not enough arguments!\u001b[0m\u001b[0;34m\u001b[0m\u001b[0;34m\u001b[0m\u001b[0m\n\u001b[0m",
      "\u001b[0;31mTypeError\u001b[0m: hello() missing 1 required positional argument: 'last'"
     ]
    }
   ],
   "source": [
    "hello('there')   # not enough arguments!"
   ]
  },
  {
   "cell_type": "code",
   "execution_count": 30,
   "id": "561e09b8",
   "metadata": {},
   "outputs": [
    {
     "name": "stdout",
     "output_type": "stream",
     "text": [
      "Hello, 10 20!\n"
     ]
    }
   ],
   "source": [
    "hello(10, 20)"
   ]
  },
  {
   "cell_type": "code",
   "execution_count": 31,
   "id": "4126c021",
   "metadata": {},
   "outputs": [
    {
     "name": "stdout",
     "output_type": "stream",
     "text": [
      "Hello, [10, 20, 30] [40, 50, 60]!\n"
     ]
    }
   ],
   "source": [
    "# don't do this... but it does work!\n",
    "hello([10, 20, 30], [40, 50, 60])"
   ]
  },
  {
   "cell_type": "code",
   "execution_count": 32,
   "id": "5abfa4ff",
   "metadata": {},
   "outputs": [
    {
     "name": "stdout",
     "output_type": "stream",
     "text": [
      "Hello, None None!\n"
     ]
    }
   ],
   "source": [
    "# Python has a special value called None (with a capital N)\n",
    "# you can pass that as an argument, as well\n",
    "hello(None, None)"
   ]
  },
  {
   "cell_type": "code",
   "execution_count": 33,
   "id": "3f45249e",
   "metadata": {},
   "outputs": [],
   "source": [
    "def add(first, second):\n",
    "    print(f'{first} + {second} = {first+second}')"
   ]
  },
  {
   "cell_type": "code",
   "execution_count": 34,
   "id": "061774ed",
   "metadata": {},
   "outputs": [
    {
     "name": "stdout",
     "output_type": "stream",
     "text": [
      "3 + 4 = 7\n"
     ]
    }
   ],
   "source": [
    "# pass integers\n",
    "add(3, 4)"
   ]
  },
  {
   "cell_type": "code",
   "execution_count": 35,
   "id": "e3d25dce",
   "metadata": {},
   "outputs": [
    {
     "name": "stdout",
     "output_type": "stream",
     "text": [
      "abc + def = abcdef\n"
     ]
    }
   ],
   "source": [
    "# pass strings\n",
    "add('abc', 'def')"
   ]
  },
  {
   "cell_type": "code",
   "execution_count": 38,
   "id": "05f7635f",
   "metadata": {},
   "outputs": [
    {
     "name": "stdout",
     "output_type": "stream",
     "text": [
      "3 + 4 = 34\n"
     ]
    }
   ],
   "source": [
    "# pass strings\n",
    "add('3', '4')"
   ]
  },
  {
   "cell_type": "code",
   "execution_count": 36,
   "id": "4d265fe7",
   "metadata": {},
   "outputs": [
    {
     "name": "stdout",
     "output_type": "stream",
     "text": [
      "[10, 20, 30] + [40, 50, 60] = [10, 20, 30, 40, 50, 60]\n"
     ]
    }
   ],
   "source": [
    "# pass lists\n",
    "add([10, 20, 30], [40, 50, 60])"
   ]
  },
  {
   "cell_type": "code",
   "execution_count": 37,
   "id": "f30e0ab9",
   "metadata": {},
   "outputs": [],
   "source": [
    "# In dynamic languages like Python, we take this for granted\n",
    "# in other languages, like C/Java/C#, people think this is TOTALLY NUTS"
   ]
  },
  {
   "cell_type": "markdown",
   "id": "60a615ef",
   "metadata": {},
   "source": [
    "# Exercise: `mysum`\n",
    "\n",
    "1. Python comes with a function called `sum`, which takes a single argument (list or tuple) of integers, and returns the sum of those integers.\n",
    "2. Write a function called `mysum` that takes a list or tuple of integers, and prints the result on the screen.\n",
    "3. You'll probably want to define a new variable in the function called `total` and then iterate with a `for` loop over the elements of the list or tuple.\n",
    "4. Don't use the built-in `sum` function to write your own `mysum` function. "
   ]
  },
  {
   "cell_type": "code",
   "execution_count": 39,
   "id": "28f3278f",
   "metadata": {},
   "outputs": [],
   "source": [
    "def mysum(numbers):  # numbers is a list or tuple of integers\n",
    "    total = 0\n",
    "    \n",
    "    for one_number in numbers:\n",
    "        total += one_number\n",
    "        \n",
    "    print(total)"
   ]
  },
  {
   "cell_type": "code",
   "execution_count": 40,
   "id": "e40f8c16",
   "metadata": {},
   "outputs": [
    {
     "name": "stdout",
     "output_type": "stream",
     "text": [
      "60\n"
     ]
    }
   ],
   "source": [
    "mysum([10, 20, 30])"
   ]
  },
  {
   "cell_type": "code",
   "execution_count": 41,
   "id": "63147ddc",
   "metadata": {},
   "outputs": [
    {
     "name": "stdout",
     "output_type": "stream",
     "text": [
      "543\n"
     ]
    }
   ],
   "source": [
    "mysum([100, 200, 300, -57])"
   ]
  },
  {
   "cell_type": "code",
   "execution_count": 42,
   "id": "124281f3",
   "metadata": {},
   "outputs": [
    {
     "name": "stdout",
     "output_type": "stream",
     "text": [
      "0\n"
     ]
    }
   ],
   "source": [
    "mysum([])"
   ]
  },
  {
   "cell_type": "code",
   "execution_count": 44,
   "id": "c5ec689e",
   "metadata": {},
   "outputs": [],
   "source": [
    "# buggy version : we don't define total in advance!\n",
    "# because we try to use total's value before it has one, we get an UnboundLocalError\n",
    "\n",
    "def mysum(numbers):  # numbers is a list or tuple of integers\n",
    "    for one_number in numbers:\n",
    "        total += one_number\n",
    "        \n",
    "    print(total)"
   ]
  },
  {
   "cell_type": "code",
   "execution_count": 45,
   "id": "e45fb1ca",
   "metadata": {},
   "outputs": [
    {
     "ename": "UnboundLocalError",
     "evalue": "local variable 'total' referenced before assignment",
     "output_type": "error",
     "traceback": [
      "\u001b[0;31m---------------------------------------------------------------------------\u001b[0m",
      "\u001b[0;31mUnboundLocalError\u001b[0m                         Traceback (most recent call last)",
      "\u001b[0;32m/var/folders/rr/0mnyyv811fs5vyp22gf4fxk00000gn/T/ipykernel_45412/2688749076.py\u001b[0m in \u001b[0;36m<module>\u001b[0;34m\u001b[0m\n\u001b[0;32m----> 1\u001b[0;31m \u001b[0mmysum\u001b[0m\u001b[0;34m(\u001b[0m\u001b[0;34m[\u001b[0m\u001b[0;36m10\u001b[0m\u001b[0;34m,\u001b[0m \u001b[0;36m20\u001b[0m\u001b[0;34m,\u001b[0m \u001b[0;36m30\u001b[0m\u001b[0;34m]\u001b[0m\u001b[0;34m)\u001b[0m\u001b[0;34m\u001b[0m\u001b[0;34m\u001b[0m\u001b[0m\n\u001b[0m",
      "\u001b[0;32m/var/folders/rr/0mnyyv811fs5vyp22gf4fxk00000gn/T/ipykernel_45412/3692459112.py\u001b[0m in \u001b[0;36mmysum\u001b[0;34m(numbers)\u001b[0m\n\u001b[1;32m      3\u001b[0m \u001b[0;32mdef\u001b[0m \u001b[0mmysum\u001b[0m\u001b[0;34m(\u001b[0m\u001b[0mnumbers\u001b[0m\u001b[0;34m)\u001b[0m\u001b[0;34m:\u001b[0m  \u001b[0;31m# numbers is a list or tuple of integers\u001b[0m\u001b[0;34m\u001b[0m\u001b[0;34m\u001b[0m\u001b[0m\n\u001b[1;32m      4\u001b[0m     \u001b[0;32mfor\u001b[0m \u001b[0mone_number\u001b[0m \u001b[0;32min\u001b[0m \u001b[0mnumbers\u001b[0m\u001b[0;34m:\u001b[0m\u001b[0;34m\u001b[0m\u001b[0;34m\u001b[0m\u001b[0m\n\u001b[0;32m----> 5\u001b[0;31m         \u001b[0mtotal\u001b[0m \u001b[0;34m+=\u001b[0m \u001b[0mone_number\u001b[0m\u001b[0;34m\u001b[0m\u001b[0;34m\u001b[0m\u001b[0m\n\u001b[0m\u001b[1;32m      6\u001b[0m \u001b[0;34m\u001b[0m\u001b[0m\n\u001b[1;32m      7\u001b[0m     \u001b[0mprint\u001b[0m\u001b[0;34m(\u001b[0m\u001b[0mtotal\u001b[0m\u001b[0;34m)\u001b[0m\u001b[0;34m\u001b[0m\u001b[0;34m\u001b[0m\u001b[0m\n",
      "\u001b[0;31mUnboundLocalError\u001b[0m: local variable 'total' referenced before assignment"
     ]
    }
   ],
   "source": [
    "mysum([10, 20, 30])"
   ]
  },
  {
   "cell_type": "markdown",
   "id": "1bdd619a",
   "metadata": {},
   "source": [
    "# Next up\n",
    "\n",
    "Return values from functions!"
   ]
  },
  {
   "cell_type": "markdown",
   "id": "a9b4a471",
   "metadata": {},
   "source": [
    "# Adding elements \n",
    "\n",
    "To add one element to a list, you can use the `list.append` method:\n",
    "\n"
   ]
  },
  {
   "cell_type": "code",
   "execution_count": 46,
   "id": "d3d51212",
   "metadata": {},
   "outputs": [
    {
     "data": {
      "text/plain": [
       "[10, 20, 30, 40, 'abcd']"
      ]
     },
     "execution_count": 46,
     "metadata": {},
     "output_type": "execute_result"
    }
   ],
   "source": [
    "mylist = [10, 20, 30]\n",
    "mylist.append(40 )     # adds 40 to the end\n",
    "mylist.append('abcd')  # adds 'abcd' to the end\n",
    "\n",
    "mylist"
   ]
  },
  {
   "cell_type": "code",
   "execution_count": 47,
   "id": "ac538944",
   "metadata": {},
   "outputs": [],
   "source": [
    "# how do you add an item to a tuple?\n",
    "# you can't! Tuples are IMMUTABLE, so they cannot be changed."
   ]
  },
  {
   "cell_type": "code",
   "execution_count": 48,
   "id": "ea27627c",
   "metadata": {},
   "outputs": [
    {
     "name": "stdout",
     "output_type": "stream",
     "text": [
      "60\n"
     ]
    }
   ],
   "source": [
    "def mysum(numbers):  # numbers is a list or tuple of integers\n",
    "    total = 0\n",
    "    \n",
    "    # the \"for\" loop assigns values to one_number\n",
    "    # and *then* executes its loop body\n",
    "\n",
    "    # so by the time we get into the loop body, the variable one_number\n",
    "    # is guaranteed to be assigned.\n",
    "    for one_number in numbers:\n",
    "        total += one_number\n",
    "        \n",
    "    print(total)\n",
    "    \n",
    "mysum([10, 20, 30])    "
   ]
  },
  {
   "cell_type": "code",
   "execution_count": 50,
   "id": "9965bbc9",
   "metadata": {},
   "outputs": [
    {
     "name": "stdout",
     "output_type": "stream",
     "text": [
      "60\n"
     ]
    }
   ],
   "source": [
    "# don't do this, but it *WILL* work\n",
    "\n",
    "def starfish(elephant):  # numbers is a list or tuple of integers\n",
    "    octopus = 0\n",
    "    \n",
    "    for iguana in elephant:\n",
    "        octopus += iguana\n",
    "        \n",
    "    print(octopus)\n",
    "    \n",
    "starfish([10, 20, 30])    "
   ]
  },
  {
   "cell_type": "markdown",
   "id": "0badca91",
   "metadata": {},
   "source": [
    "# Printing vs. returning\n",
    "\n",
    "So far, our functions have all printed their results on the screen. But most functions don't print their results. Rather, they *return* their results to the caller.\n",
    "\n",
    "When I call `input`, I get a string value *back*. I can assign that string value to a variable, and I can print that string value with `print`. But if I don't print it, then the value isn't printed.\n",
    "\n",
    "There's a big difference between displaying and returning.\n",
    "\n",
    "Another example: When I use `s[5]` to get index 5 back from the string `s`, I get a value back. It isn't printed on the screen, unless I use `print` (or I'm in Jupyter).\n",
    "\n",
    "Normally, we want our functions to return values. Displaying them is less important than returning them.  We can always display (print) a returned value. But once something is shown on the screen, we can't capture it into a variable.\n",
    "\n",
    "Given all this, how do we return values from our functions?\n",
    "\n",
    "Simply put, we use the `return` keyword. We can return any value we want from any function. In fact, a function can return different things at different times (but this is not always a good idea)."
   ]
  },
  {
   "cell_type": "code",
   "execution_count": 53,
   "id": "5a985e6f",
   "metadata": {},
   "outputs": [],
   "source": [
    "# now our \"hello\" function returns a string value\n",
    "# previously, it printed the value on the screen... and returned None, because\n",
    "#  we didn't explicitly return anything\n",
    "\n",
    "def hello(name):\n",
    "    return f'Hello, {name}!'"
   ]
  },
  {
   "cell_type": "code",
   "execution_count": 54,
   "id": "ecf7de3f",
   "metadata": {},
   "outputs": [
    {
     "name": "stdout",
     "output_type": "stream",
     "text": [
      "Hello, Reuven!\n"
     ]
    }
   ],
   "source": [
    "print(hello('Reuven'))"
   ]
  },
  {
   "cell_type": "code",
   "execution_count": 55,
   "id": "7da61412",
   "metadata": {},
   "outputs": [
    {
     "name": "stdout",
     "output_type": "stream",
     "text": [
      "Hello, Reuven!\n"
     ]
    }
   ],
   "source": [
    "s = hello('Reuven')\n",
    "print(s)"
   ]
  },
  {
   "cell_type": "code",
   "execution_count": 56,
   "id": "701dad85",
   "metadata": {},
   "outputs": [
    {
     "data": {
      "text/plain": [
       "'Hello, world!Hello, out there!'"
      ]
     },
     "execution_count": 56,
     "metadata": {},
     "output_type": "execute_result"
    }
   ],
   "source": [
    "# a silly example, but...\n",
    "\n",
    "hello('world') + hello('out there')"
   ]
  },
  {
   "cell_type": "code",
   "execution_count": 57,
   "id": "01f31f43",
   "metadata": {},
   "outputs": [],
   "source": [
    "def boring():\n",
    "    return 'a'"
   ]
  },
  {
   "cell_type": "code",
   "execution_count": 58,
   "id": "6e57d849",
   "metadata": {},
   "outputs": [
    {
     "data": {
      "text/plain": [
       "'a'"
      ]
     },
     "execution_count": 58,
     "metadata": {},
     "output_type": "execute_result"
    }
   ],
   "source": [
    "boring()"
   ]
  },
  {
   "cell_type": "code",
   "execution_count": 59,
   "id": "64ba5821",
   "metadata": {},
   "outputs": [
    {
     "data": {
      "text/plain": [
       "'a'"
      ]
     },
     "execution_count": 59,
     "metadata": {},
     "output_type": "execute_result"
    }
   ],
   "source": [
    "boring()"
   ]
  },
  {
   "cell_type": "code",
   "execution_count": 60,
   "id": "8615e2d5",
   "metadata": {},
   "outputs": [
    {
     "data": {
      "text/plain": [
       "'a'"
      ]
     },
     "execution_count": 60,
     "metadata": {},
     "output_type": "execute_result"
    }
   ],
   "source": [
    "boring()"
   ]
  },
  {
   "cell_type": "code",
   "execution_count": 61,
   "id": "7bdb73bf",
   "metadata": {},
   "outputs": [],
   "source": [
    "def add(first, second):\n",
    "    return first + second"
   ]
  },
  {
   "cell_type": "code",
   "execution_count": 62,
   "id": "59a776e5",
   "metadata": {},
   "outputs": [
    {
     "data": {
      "text/plain": [
       "39"
      ]
     },
     "execution_count": 62,
     "metadata": {},
     "output_type": "execute_result"
    }
   ],
   "source": [
    "#   13     +   26 \n",
    "add(10, 3) + add(20, 6)"
   ]
  },
  {
   "cell_type": "code",
   "execution_count": 63,
   "id": "f106707f",
   "metadata": {},
   "outputs": [],
   "source": [
    "# what happens if I print the results instead?\n",
    "def add(first, second):\n",
    "    print(first + second)"
   ]
  },
  {
   "cell_type": "code",
   "execution_count": 64,
   "id": "360fdd5f",
   "metadata": {},
   "outputs": [
    {
     "name": "stdout",
     "output_type": "stream",
     "text": [
      "13\n",
      "26\n"
     ]
    },
    {
     "ename": "TypeError",
     "evalue": "unsupported operand type(s) for +: 'NoneType' and 'NoneType'",
     "output_type": "error",
     "traceback": [
      "\u001b[0;31m---------------------------------------------------------------------------\u001b[0m",
      "\u001b[0;31mTypeError\u001b[0m                                 Traceback (most recent call last)",
      "\u001b[0;32m/var/folders/rr/0mnyyv811fs5vyp22gf4fxk00000gn/T/ipykernel_45412/2848914135.py\u001b[0m in \u001b[0;36m<module>\u001b[0;34m\u001b[0m\n\u001b[0;32m----> 1\u001b[0;31m \u001b[0madd\u001b[0m\u001b[0;34m(\u001b[0m\u001b[0;36m10\u001b[0m\u001b[0;34m,\u001b[0m \u001b[0;36m3\u001b[0m\u001b[0;34m)\u001b[0m \u001b[0;34m+\u001b[0m \u001b[0madd\u001b[0m\u001b[0;34m(\u001b[0m\u001b[0;36m20\u001b[0m\u001b[0;34m,\u001b[0m \u001b[0;36m6\u001b[0m\u001b[0;34m)\u001b[0m\u001b[0;34m\u001b[0m\u001b[0;34m\u001b[0m\u001b[0m\n\u001b[0m",
      "\u001b[0;31mTypeError\u001b[0m: unsupported operand type(s) for +: 'NoneType' and 'NoneType'"
     ]
    }
   ],
   "source": [
    "add(10, 3) + add(20, 6)"
   ]
  },
  {
   "cell_type": "code",
   "execution_count": 66,
   "id": "b4afe51c",
   "metadata": {},
   "outputs": [
    {
     "name": "stdout",
     "output_type": "stream",
     "text": [
      "20\n",
      "40\n"
     ]
    },
    {
     "ename": "TypeError",
     "evalue": "unsupported operand type(s) for +: 'NoneType' and 'NoneType'",
     "output_type": "error",
     "traceback": [
      "\u001b[0;31m---------------------------------------------------------------------------\u001b[0m",
      "\u001b[0;31mTypeError\u001b[0m                                 Traceback (most recent call last)",
      "\u001b[0;32m/var/folders/rr/0mnyyv811fs5vyp22gf4fxk00000gn/T/ipykernel_45412/3454372280.py\u001b[0m in \u001b[0;36m<module>\u001b[0;34m\u001b[0m\n\u001b[1;32m      2\u001b[0m     \u001b[0mprint\u001b[0m\u001b[0;34m(\u001b[0m\u001b[0mn\u001b[0m \u001b[0;34m*\u001b[0m \u001b[0;36m2\u001b[0m\u001b[0;34m)\u001b[0m\u001b[0;34m\u001b[0m\u001b[0;34m\u001b[0m\u001b[0m\n\u001b[1;32m      3\u001b[0m \u001b[0;34m\u001b[0m\u001b[0m\n\u001b[0;32m----> 4\u001b[0;31m \u001b[0mtimes_2\u001b[0m\u001b[0;34m(\u001b[0m\u001b[0;36m10\u001b[0m\u001b[0;34m)\u001b[0m \u001b[0;34m+\u001b[0m \u001b[0mtimes_2\u001b[0m\u001b[0;34m(\u001b[0m\u001b[0;36m20\u001b[0m\u001b[0;34m)\u001b[0m\u001b[0;34m\u001b[0m\u001b[0;34m\u001b[0m\u001b[0m\n\u001b[0m",
      "\u001b[0;31mTypeError\u001b[0m: unsupported operand type(s) for +: 'NoneType' and 'NoneType'"
     ]
    }
   ],
   "source": [
    "def times_2(n):\n",
    "    print(n * 2)\n",
    "    \n",
    "times_2(10) + times_2(20)"
   ]
  },
  {
   "cell_type": "code",
   "execution_count": 68,
   "id": "6cf97702",
   "metadata": {},
   "outputs": [
    {
     "name": "stdout",
     "output_type": "stream",
     "text": [
      "Hello, Reuven!!!\n"
     ]
    }
   ],
   "source": [
    "def hello(name):\n",
    "    return f'Hello, {name}'\n",
    "\n",
    "def make_exciting(s):\n",
    "    return f'{s}!!!'\n",
    "\n",
    "print(make_exciting(hello('Reuven')))"
   ]
  },
  {
   "cell_type": "code",
   "execution_count": 69,
   "id": "f35d3c58",
   "metadata": {},
   "outputs": [
    {
     "name": "stdout",
     "output_type": "stream",
     "text": [
      "Hello, Reuven\n",
      "None!!!\n",
      "None\n"
     ]
    }
   ],
   "source": [
    "def hello(name):\n",
    "    print(f'Hello, {name}')  # returns None\n",
    "\n",
    "def make_exciting(s):\n",
    "    print(f'{s}!!!')  # returns None\n",
    "\n",
    "print(make_exciting(hello('Reuven')))"
   ]
  },
  {
   "cell_type": "markdown",
   "id": "c77fbd98",
   "metadata": {},
   "source": [
    "# Using `return`\n",
    "\n",
    "You can use `return` in a function to return any type of value. It's *not* a function, so you don't need to use parentheses. You can, and some people do, but it's generally considered unnecessary."
   ]
  },
  {
   "cell_type": "code",
   "execution_count": 70,
   "id": "08dc5fe0",
   "metadata": {},
   "outputs": [
    {
     "name": "stdout",
     "output_type": "stream",
     "text": [
      "x = 5, y = [10, 20, 30], z = {'a': 1, 'b': 2}.\n"
     ]
    }
   ],
   "source": [
    "x = 5\n",
    "y = [10, 20, 30]\n",
    "z = {'a':1, 'b':2}\n",
    "\n",
    "# If I want a string with these variable values, it'll be ugly:\n",
    "s = 'x = ' + str(x) + ', y = ' + str(y) + ', z = ' + str(z) + '.'\n",
    "print(s)"
   ]
  },
  {
   "cell_type": "code",
   "execution_count": 72,
   "id": "b1ee42e5",
   "metadata": {},
   "outputs": [
    {
     "name": "stdout",
     "output_type": "stream",
     "text": [
      "x = 5, y = [10, 20, 30], z = {'a': 1, 'b': 2}.\n"
     ]
    }
   ],
   "source": [
    "print(f'x = {x}, y = {y}, z = {z}.')"
   ]
  },
  {
   "cell_type": "markdown",
   "id": "2216a641",
   "metadata": {},
   "source": [
    "# Exercise: Biggest value\n",
    "\n",
    "1. Write a function, `return_biggest`, that takes a list or tuple of values, which we'll call `values`.\n",
    "2. In the function, assign the variable `biggest` to be the first element of `values`.\n",
    "3. Go through each element in `values`, and if it's bigger than `biggest`, replace `biggest` with the current value.\n",
    "4. Return the biggest value from the function.\n",
    "\n",
    "```python\n",
    "print(return_biggest([30, 20, 10, 50, 25, 18]))  # should print 50\n",
    "```"
   ]
  },
  {
   "cell_type": "code",
   "execution_count": 75,
   "id": "f9561bbf",
   "metadata": {},
   "outputs": [],
   "source": [
    "def return_biggest(values):\n",
    "    biggest = values[0]         # assume the first element is the biggest\n",
    "    for one_item in values:     # go through each element\n",
    "        if one_item > biggest:  # is it bigger than biggest? \n",
    "            biggest = one_item  #   it gets to replace bigger\n",
    "    return biggest"
   ]
  },
  {
   "cell_type": "code",
   "execution_count": 76,
   "id": "e43ef1af",
   "metadata": {},
   "outputs": [
    {
     "name": "stdout",
     "output_type": "stream",
     "text": [
      "50\n"
     ]
    }
   ],
   "source": [
    "print(return_biggest([30, 20, 10, 50, 25, 18]))"
   ]
  },
  {
   "cell_type": "code",
   "execution_count": 77,
   "id": "bcbd3fd6",
   "metadata": {},
   "outputs": [],
   "source": [
    "x = return_biggest([30, 20, 10, 50, 25, 18])"
   ]
  },
  {
   "cell_type": "code",
   "execution_count": 78,
   "id": "0e394c26",
   "metadata": {},
   "outputs": [
    {
     "data": {
      "text/plain": [
       "50"
      ]
     },
     "execution_count": 78,
     "metadata": {},
     "output_type": "execute_result"
    }
   ],
   "source": [
    "x"
   ]
  },
  {
   "cell_type": "code",
   "execution_count": 79,
   "id": "c1e2b4b1",
   "metadata": {},
   "outputs": [
    {
     "data": {
      "text/plain": [
       "50"
      ]
     },
     "execution_count": 79,
     "metadata": {},
     "output_type": "execute_result"
    }
   ],
   "source": [
    "numbers = [30, 20, 10, 50, 25, 18]\n",
    "return_biggest(numbers)"
   ]
  },
  {
   "cell_type": "code",
   "execution_count": 81,
   "id": "4f5b7962",
   "metadata": {},
   "outputs": [],
   "source": [
    "# What if we get an empty list?\n",
    "# Option 1: the user gets an error. Too bad for them!\n",
    "# Option 2: return None\n",
    "\n",
    "def return_biggest(values):\n",
    "    if len(values) == 0:   # did we get an empty sequence? Return None! Get out of here!\n",
    "        return None\n",
    "    \n",
    "    biggest = values[0]         # assume the first element is the biggest\n",
    "    for one_item in values[1:]: # go through each element, except index 0\n",
    "        if one_item > biggest:  # is it bigger than biggest? \n",
    "            biggest = one_item  #   it gets to replace bigger\n",
    "    return biggest"
   ]
  },
  {
   "cell_type": "code",
   "execution_count": 82,
   "id": "f7b8a033",
   "metadata": {},
   "outputs": [
    {
     "data": {
      "text/plain": [
       "50"
      ]
     },
     "execution_count": 82,
     "metadata": {},
     "output_type": "execute_result"
    }
   ],
   "source": [
    "numbers = [30, 20, 10, 50, 25, 18]\n",
    "return_biggest(numbers)"
   ]
  },
  {
   "cell_type": "code",
   "execution_count": 80,
   "id": "6dea9e52",
   "metadata": {},
   "outputs": [
    {
     "ename": "TypeError",
     "evalue": "object of type 'int' has no len()",
     "output_type": "error",
     "traceback": [
      "\u001b[0;31m---------------------------------------------------------------------------\u001b[0m",
      "\u001b[0;31mTypeError\u001b[0m                                 Traceback (most recent call last)",
      "\u001b[0;32m/var/folders/rr/0mnyyv811fs5vyp22gf4fxk00000gn/T/ipykernel_45412/521276918.py\u001b[0m in \u001b[0;36m<module>\u001b[0;34m\u001b[0m\n\u001b[0;32m----> 1\u001b[0;31m \u001b[0mlen\u001b[0m\u001b[0;34m(\u001b[0m\u001b[0;36m6\u001b[0m\u001b[0;34m)\u001b[0m\u001b[0;34m\u001b[0m\u001b[0;34m\u001b[0m\u001b[0m\n\u001b[0m",
      "\u001b[0;31mTypeError\u001b[0m: object of type 'int' has no len()"
     ]
    }
   ],
   "source": [
    "len(6)"
   ]
  },
  {
   "cell_type": "code",
   "execution_count": 83,
   "id": "653226e9",
   "metadata": {},
   "outputs": [
    {
     "name": "stdout",
     "output_type": "stream",
     "text": [
      "Currently, numbers = []\n",
      "Number: 10\n",
      "Currently, numbers = [10]\n",
      "Number: 15\n",
      "Currently, numbers = [10, 15]\n",
      "Number: 35\n",
      "Currently, numbers = [10, 15, 35]\n",
      "Number: hello\n",
      "hello is not numeric\n",
      "Currently, numbers = [10, 15, 35]\n",
      "Number: 2\n",
      "Currently, numbers = [10, 15, 35, 2]\n",
      "Number: 18\n",
      "Currently, numbers = [10, 15, 35, 2, 18]\n",
      "Number: 26\n",
      "Currently, numbers = [10, 15, 35, 2, 18, 26]\n",
      "Number: \n"
     ]
    }
   ],
   "source": [
    "# let's ask the user to give us a bunch of values, and then pass \n",
    "# those to return_biggest!\n",
    "\n",
    "# (1) Define the function\n",
    "def return_biggest(values):\n",
    "    if len(values) == 0:   # did we get an empty sequence? Return None! Get out of here!\n",
    "        return None\n",
    "    \n",
    "    biggest = values[0]         # assume the first element is the biggest\n",
    "    for one_item in values[1:]: # go through each element, except index 0\n",
    "        if one_item > biggest:  # is it bigger than biggest? \n",
    "            biggest = one_item  #   it gets to replace bigger\n",
    "    return biggest\n",
    "\n",
    "# (2) Define a list, and ask the user integers, until they stop\n",
    "numbers = []\n",
    "\n",
    "while True:\n",
    "    print(f'Currently, numbers = {numbers}')\n",
    "    s = input('Number: ').strip()\n",
    "    if s == '':\n",
    "        break\n",
    "        \n",
    "    if s.isdigit():\n",
    "        numbers.append(int(s))\n",
    "    else:\n",
    "        print(f'{s} is not numeric')\n"
   ]
  },
  {
   "cell_type": "code",
   "execution_count": 84,
   "id": "f2f5d226",
   "metadata": {},
   "outputs": [
    {
     "name": "stdout",
     "output_type": "stream",
     "text": [
      "35\n"
     ]
    }
   ],
   "source": [
    "# (3) Run our return_biggest function on our numbers\n",
    "\n",
    "print(return_biggest(numbers))"
   ]
  },
  {
   "cell_type": "code",
   "execution_count": 85,
   "id": "d556097e",
   "metadata": {},
   "outputs": [],
   "source": [
    "def add(first, second):\n",
    "    return first + second"
   ]
  },
  {
   "cell_type": "code",
   "execution_count": 86,
   "id": "666eda56",
   "metadata": {},
   "outputs": [
    {
     "data": {
      "text/plain": [
       "8"
      ]
     },
     "execution_count": 86,
     "metadata": {},
     "output_type": "execute_result"
    }
   ],
   "source": [
    "add(3, 5)"
   ]
  },
  {
   "cell_type": "code",
   "execution_count": 87,
   "id": "359dd38a",
   "metadata": {},
   "outputs": [
    {
     "ename": "TypeError",
     "evalue": "add() missing 1 required positional argument: 'second'",
     "output_type": "error",
     "traceback": [
      "\u001b[0;31m---------------------------------------------------------------------------\u001b[0m",
      "\u001b[0;31mTypeError\u001b[0m                                 Traceback (most recent call last)",
      "\u001b[0;32m/var/folders/rr/0mnyyv811fs5vyp22gf4fxk00000gn/T/ipykernel_45412/2172010150.py\u001b[0m in \u001b[0;36m<module>\u001b[0;34m\u001b[0m\n\u001b[0;32m----> 1\u001b[0;31m \u001b[0madd\u001b[0m\u001b[0;34m(\u001b[0m\u001b[0;36m3\u001b[0m\u001b[0;34m)\u001b[0m\u001b[0;34m\u001b[0m\u001b[0;34m\u001b[0m\u001b[0m\n\u001b[0m",
      "\u001b[0;31mTypeError\u001b[0m: add() missing 1 required positional argument: 'second'"
     ]
    }
   ],
   "source": [
    "add(3)"
   ]
  },
  {
   "cell_type": "code",
   "execution_count": 88,
   "id": "aa351833",
   "metadata": {},
   "outputs": [],
   "source": [
    "# I want add to work with 2 arguments (and add them together) or with 1 argument (and \n",
    "# have second default to 10)\n",
    "\n",
    "def add(first, second=10):   # 10 is a defaults. It's only used if no 2nd argument is passed\n",
    "    return first + second"
   ]
  },
  {
   "cell_type": "code",
   "execution_count": 89,
   "id": "f2f9145e",
   "metadata": {},
   "outputs": [
    {
     "data": {
      "text/plain": [
       "8"
      ]
     },
     "execution_count": 89,
     "metadata": {},
     "output_type": "execute_result"
    }
   ],
   "source": [
    "add(3, 5)  # I needed two arguments, to assign to two parameters (first + second).  I got them!"
   ]
  },
  {
   "cell_type": "code",
   "execution_count": 90,
   "id": "114fe1a1",
   "metadata": {},
   "outputs": [
    {
     "data": {
      "text/plain": [
       "13"
      ]
     },
     "execution_count": 90,
     "metadata": {},
     "output_type": "execute_result"
    }
   ],
   "source": [
    "add(3) # I needed 2 arguments, I got one. But second has a default value of 10 -- let's use it!"
   ]
  },
  {
   "cell_type": "markdown",
   "id": "d8625df7",
   "metadata": {},
   "source": [
    "# Default argument values\n",
    "\n",
    "If you want one or more parameters to have default argument values (i.e., values that will be supplied if no argument is passed to the function), then you just add `=` and the value after the parameter name.\n",
    "\n",
    "Note:\n",
    "1. All parameters with defaults must come after parameters without defaults.  In other words, all mandatory parameters come before all optional parameters.\n",
    "2. It's a very bad idea to use mutable data (i.e., list or dict) as the default value.  Try hard to use integers and strings."
   ]
  },
  {
   "cell_type": "markdown",
   "id": "3bfefdd8",
   "metadata": {},
   "source": [
    "# Pedantic time! Arguments vs. parameters\n",
    "\n",
    "*Parameters* are variables. They contain values. They are part of the function definition. So in `add` above, `first` and `second` are parameters.\n",
    "\n",
    "*Arguments* are values, passed when we call the function. Their values are assigned to parameters.\n",
    "\n",
    "Most programmers use these terms interchangeably.  I'll try (usually) to be accurate with my usage. \n",
    "\n",
    "A very big deal in programming, and in Python in particular, is: How does the language assign arguments to parameters?\n",
    "\n",
    "So far, we've seen *positional* arguments -- the first argument is assigned to the first parameter, the second to the second, etc."
   ]
  },
  {
   "cell_type": "code",
   "execution_count": 91,
   "id": "6b1c4fbc",
   "metadata": {},
   "outputs": [],
   "source": [
    "def myfunc(a, b, c=10, d=20):\n",
    "    return f'a = {a}, b = {b}, c = {c}, d = {d}'"
   ]
  },
  {
   "cell_type": "code",
   "execution_count": 92,
   "id": "3659ce9f",
   "metadata": {},
   "outputs": [
    {
     "data": {
      "text/plain": [
       "'a = 100, b = 200, c = 300, d = 400'"
      ]
     },
     "execution_count": 92,
     "metadata": {},
     "output_type": "execute_result"
    }
   ],
   "source": [
    "myfunc(100, 200, 300, 400)"
   ]
  },
  {
   "cell_type": "code",
   "execution_count": 93,
   "id": "d9421ccd",
   "metadata": {},
   "outputs": [
    {
     "data": {
      "text/plain": [
       "'a = 100, b = 200, c = 10, d = 20'"
      ]
     },
     "execution_count": 93,
     "metadata": {},
     "output_type": "execute_result"
    }
   ],
   "source": [
    "myfunc(100, 200)"
   ]
  },
  {
   "cell_type": "code",
   "execution_count": 94,
   "id": "a285b3bb",
   "metadata": {},
   "outputs": [
    {
     "data": {
      "text/plain": [
       "'a = 100, b = 200, c = 300, d = 20'"
      ]
     },
     "execution_count": 94,
     "metadata": {},
     "output_type": "execute_result"
    }
   ],
   "source": [
    "myfunc(100, 200, 300)"
   ]
  },
  {
   "cell_type": "code",
   "execution_count": 96,
   "id": "263ee4b0",
   "metadata": {},
   "outputs": [
    {
     "ename": "SyntaxError",
     "evalue": "non-default argument follows default argument (2268775216.py, line 2)",
     "output_type": "error",
     "traceback": [
      "\u001b[0;36m  File \u001b[0;32m\"/var/folders/rr/0mnyyv811fs5vyp22gf4fxk00000gn/T/ipykernel_45412/2268775216.py\"\u001b[0;36m, line \u001b[0;32m2\u001b[0m\n\u001b[0;31m    def myfunc(a=10, b=20, c, d):\u001b[0m\n\u001b[0m                           ^\u001b[0m\n\u001b[0;31mSyntaxError\u001b[0m\u001b[0;31m:\u001b[0m non-default argument follows default argument\n"
     ]
    }
   ],
   "source": [
    "# can't even define the function, because a non-default argument follows a default argument\n",
    "def myfunc(a=10, b=20, c, d):\n",
    "    return f'a = {a}, b = {b}, c = {c}, d = {d}'"
   ]
  },
  {
   "cell_type": "markdown",
   "id": "e0b7bd0a",
   "metadata": {},
   "source": [
    "# Next up\n",
    "\n",
    "- Keyword arguments\n",
    "- More about default argument values\n",
    "- Unpacking + complex return values\n",
    "- Local vs. global variables\n",
    "\n",
    "10 minute break"
   ]
  },
  {
   "cell_type": "code",
   "execution_count": 97,
   "id": "82d33652",
   "metadata": {},
   "outputs": [],
   "source": [
    "def add(first, second):\n",
    "    return first + second"
   ]
  },
  {
   "cell_type": "code",
   "execution_count": 98,
   "id": "325cb073",
   "metadata": {},
   "outputs": [
    {
     "data": {
      "text/plain": [
       "13"
      ]
     },
     "execution_count": 98,
     "metadata": {},
     "output_type": "execute_result"
    }
   ],
   "source": [
    "add(10, 3)   \n",
    "\n",
    "# how does Python assign arguments to parameters?\n",
    "# In this case, it uses *positional* arguments.\n",
    "# Meaning:\n",
    "\n",
    "# parameters:   first   second\n",
    "# arguments      10       3"
   ]
  },
  {
   "cell_type": "code",
   "execution_count": 99,
   "id": "7c29c74f",
   "metadata": {},
   "outputs": [
    {
     "data": {
      "text/plain": [
       "13"
      ]
     },
     "execution_count": 99,
     "metadata": {},
     "output_type": "execute_result"
    }
   ],
   "source": [
    "# there's another way we can call the function, though\n",
    "# we can use *keyword* arguments\n",
    "\n",
    "add(first=10, second=3)\n",
    "\n",
    "# parameters    first   second\n",
    "# arguments       10       3"
   ]
  },
  {
   "cell_type": "code",
   "execution_count": 100,
   "id": "b86f731b",
   "metadata": {},
   "outputs": [
    {
     "data": {
      "text/plain": [
       "13"
      ]
     },
     "execution_count": 100,
     "metadata": {},
     "output_type": "execute_result"
    }
   ],
   "source": [
    "add(second=3, first=10)\n",
    "\n",
    "# parameters:   first second\n",
    "# arguments       10     3\n"
   ]
  },
  {
   "cell_type": "code",
   "execution_count": 101,
   "id": "905957db",
   "metadata": {},
   "outputs": [
    {
     "data": {
      "text/plain": [
       "13"
      ]
     },
     "execution_count": 101,
     "metadata": {},
     "output_type": "execute_result"
    }
   ],
   "source": [
    "# we can use both positional and keyword arguments together,\n",
    "# when we call a function\n",
    "# *BUT* the positional arguments need to come before the keyword arguments\n",
    "\n",
    "add(10, second=3)  # fine: positional before keyword\n"
   ]
  },
  {
   "cell_type": "code",
   "execution_count": 102,
   "id": "562a1dd4",
   "metadata": {},
   "outputs": [
    {
     "ename": "SyntaxError",
     "evalue": "positional argument follows keyword argument (2847334286.py, line 1)",
     "output_type": "error",
     "traceback": [
      "\u001b[0;36m  File \u001b[0;32m\"/var/folders/rr/0mnyyv811fs5vyp22gf4fxk00000gn/T/ipykernel_45412/2847334286.py\"\u001b[0;36m, line \u001b[0;32m1\u001b[0m\n\u001b[0;31m    add(first=10, 3)  # not find: keyword before positional\u001b[0m\n\u001b[0m                   ^\u001b[0m\n\u001b[0;31mSyntaxError\u001b[0m\u001b[0;31m:\u001b[0m positional argument follows keyword argument\n"
     ]
    }
   ],
   "source": [
    "add(first=10, 3)  # not find: keyword before positional"
   ]
  },
  {
   "cell_type": "code",
   "execution_count": 103,
   "id": "6101b45c",
   "metadata": {},
   "outputs": [
    {
     "data": {
      "text/plain": [
       "'a = 100, b = 200, c = 300, d = 400'"
      ]
     },
     "execution_count": 103,
     "metadata": {},
     "output_type": "execute_result"
    }
   ],
   "source": [
    "# can I pass values to a, b, and d?\n",
    "\n",
    "def myfunc(a, b, c=30, d=40):\n",
    "    return f'a = {a}, b = {b}, c = {c}, d = {d}'\n",
    "\n",
    "myfunc(100, 200, 300, 400)  # looks like we cannot!"
   ]
  },
  {
   "cell_type": "code",
   "execution_count": 104,
   "id": "3940f7c4",
   "metadata": {},
   "outputs": [
    {
     "data": {
      "text/plain": [
       "'a = 100, b = 200, c = 30, d = 400'"
      ]
     },
     "execution_count": 104,
     "metadata": {},
     "output_type": "execute_result"
    }
   ],
   "source": [
    "# actually, we can -- if we use keyword arguments\n",
    "myfunc(100, 200, d=400)   # look -- we don't mention c, so it gets its default"
   ]
  },
  {
   "cell_type": "code",
   "execution_count": 106,
   "id": "65e420cd",
   "metadata": {},
   "outputs": [],
   "source": [
    "# this is exactly the same as before,\n",
    "# except that now we can set a starting point\n",
    "\n",
    "def mysum(numbers, start=0):\n",
    "    total = start\n",
    "    \n",
    "    for one_number in numbers:\n",
    "        total += one_number\n",
    "        \n",
    "    return total"
   ]
  },
  {
   "cell_type": "code",
   "execution_count": 107,
   "id": "250fc7d0",
   "metadata": {},
   "outputs": [
    {
     "data": {
      "text/plain": [
       "60"
      ]
     },
     "execution_count": 107,
     "metadata": {},
     "output_type": "execute_result"
    }
   ],
   "source": [
    "mysum([10, 20, 30])"
   ]
  },
  {
   "cell_type": "code",
   "execution_count": 109,
   "id": "a5937dcf",
   "metadata": {},
   "outputs": [
    {
     "data": {
      "text/plain": [
       "110"
      ]
     },
     "execution_count": 109,
     "metadata": {},
     "output_type": "execute_result"
    }
   ],
   "source": [
    "# here, I provide an explicit value for start, rather than depend on the default value of 0\n",
    "mysum([10, 20, 30], 50)"
   ]
  },
  {
   "cell_type": "code",
   "execution_count": 110,
   "id": "71cb8898",
   "metadata": {},
   "outputs": [
    {
     "data": {
      "text/plain": [
       "'Hello, world!'"
      ]
     },
     "execution_count": 110,
     "metadata": {},
     "output_type": "execute_result"
    }
   ],
   "source": [
    "def hello(name, p='!'):\n",
    "    return f'Hello, {name}{p}'\n",
    "\n",
    "hello('world')"
   ]
  },
  {
   "cell_type": "code",
   "execution_count": 111,
   "id": "56d89f33",
   "metadata": {},
   "outputs": [
    {
     "data": {
      "text/plain": [
       "'Hello, world.'"
      ]
     },
     "execution_count": 111,
     "metadata": {},
     "output_type": "execute_result"
    }
   ],
   "source": [
    "hello('world', '.')"
   ]
  },
  {
   "cell_type": "code",
   "execution_count": 112,
   "id": "b6eb5458",
   "metadata": {},
   "outputs": [
    {
     "data": {
      "text/plain": [
       "'Hello, world?'"
      ]
     },
     "execution_count": 112,
     "metadata": {},
     "output_type": "execute_result"
    }
   ],
   "source": [
    "hello('world', '?')"
   ]
  },
  {
   "cell_type": "code",
   "execution_count": 114,
   "id": "1907ed44",
   "metadata": {},
   "outputs": [
    {
     "data": {
      "text/plain": [
       "['abcd', 'efgh', 'ijkl']"
      ]
     },
     "execution_count": 114,
     "metadata": {},
     "output_type": "execute_result"
    }
   ],
   "source": [
    "# remember split?  It takes a string and returns a list of strings\n",
    "s = 'abcd efgh ijkl'\n",
    "\n",
    "s.split(' ')  # list separated by space characters"
   ]
  },
  {
   "cell_type": "code",
   "execution_count": 115,
   "id": "07c0d2ac",
   "metadata": {},
   "outputs": [
    {
     "data": {
      "text/plain": [
       "['abcd ', 'fgh ijkl']"
      ]
     },
     "execution_count": 115,
     "metadata": {},
     "output_type": "execute_result"
    }
   ],
   "source": [
    "s.split('e')   # very weird, but technically OK - list of 2 strings, using 'e' as the separator"
   ]
  },
  {
   "cell_type": "code",
   "execution_count": 116,
   "id": "1bf39ff0",
   "metadata": {},
   "outputs": [
    {
     "data": {
      "text/plain": [
       "['abcd', 'efgh', 'ijkl']"
      ]
     },
     "execution_count": 116,
     "metadata": {},
     "output_type": "execute_result"
    }
   ],
   "source": [
    "s.split()  # notice, we don't have to pass an argument. How? There's a default value for it!"
   ]
  },
  {
   "cell_type": "code",
   "execution_count": 117,
   "id": "13c49f07",
   "metadata": {},
   "outputs": [],
   "source": [
    "# for more arguments than parameters, look for *args"
   ]
  },
  {
   "cell_type": "markdown",
   "id": "d0de5ca0",
   "metadata": {},
   "source": [
    "# Exercise: Calculator\n",
    "\n",
    "1. Define a function, `calc`, that takes three arguments:\n",
    "    - `first`, an integer\n",
    "    - `second`, an integer\n",
    "    - `op`, a string with a default value of `+`\n",
    "2. If `op` is `+`, add them together, and return the result. \n",
    "3. If `op` is `-`, subtract them, and return the result.\n",
    "4. Any other `op` value, return a string, `Not supported`.\n",
    "\n",
    "```python\n",
    "calc(10, 3, '+')   # should return the int 13\n",
    "calc(10, 3)        # should also return the int 13\n",
    "calc(10, 3, '-')   # should return the int 7\n",
    "```"
   ]
  },
  {
   "cell_type": "code",
   "execution_count": 118,
   "id": "0f61e853",
   "metadata": {},
   "outputs": [],
   "source": [
    "def calc(first, second, op='+'):\n",
    "    if op == '+':\n",
    "        return first + second\n",
    "    elif op == '-':\n",
    "        return first - second\n",
    "    else:\n",
    "        return 'Not supported'       \n"
   ]
  },
  {
   "cell_type": "code",
   "execution_count": 119,
   "id": "e4600dc1",
   "metadata": {},
   "outputs": [
    {
     "data": {
      "text/plain": [
       "13"
      ]
     },
     "execution_count": 119,
     "metadata": {},
     "output_type": "execute_result"
    }
   ],
   "source": [
    "# positional arguments:\n",
    "# parameters  first second  op\n",
    "# arguments     10    3      '+'\n",
    "\n",
    "calc(10, 3, '+')"
   ]
  },
  {
   "cell_type": "code",
   "execution_count": 121,
   "id": "20f70f2f",
   "metadata": {},
   "outputs": [
    {
     "data": {
      "text/plain": [
       "13"
      ]
     },
     "execution_count": 121,
     "metadata": {},
     "output_type": "execute_result"
    }
   ],
   "source": [
    "# positional arguments:\n",
    "# parameters    first  second  op\n",
    "# arguments      10      3     '+'\n",
    "\n",
    "calc(10, 3)"
   ]
  },
  {
   "cell_type": "code",
   "execution_count": 122,
   "id": "b33527b2",
   "metadata": {},
   "outputs": [
    {
     "ename": "TypeError",
     "evalue": "calc() missing 1 required positional argument: 'second'",
     "output_type": "error",
     "traceback": [
      "\u001b[0;31m---------------------------------------------------------------------------\u001b[0m",
      "\u001b[0;31mTypeError\u001b[0m                                 Traceback (most recent call last)",
      "\u001b[0;32m/var/folders/rr/0mnyyv811fs5vyp22gf4fxk00000gn/T/ipykernel_45412/3689605498.py\u001b[0m in \u001b[0;36m<module>\u001b[0;34m\u001b[0m\n\u001b[1;32m      3\u001b[0m \u001b[0;31m# arguments      10\u001b[0m\u001b[0;34m\u001b[0m\u001b[0;34m\u001b[0m\u001b[0m\n\u001b[1;32m      4\u001b[0m \u001b[0;34m\u001b[0m\u001b[0m\n\u001b[0;32m----> 5\u001b[0;31m \u001b[0mcalc\u001b[0m\u001b[0;34m(\u001b[0m\u001b[0;36m10\u001b[0m\u001b[0;34m)\u001b[0m\u001b[0;34m\u001b[0m\u001b[0;34m\u001b[0m\u001b[0m\n\u001b[0m",
      "\u001b[0;31mTypeError\u001b[0m: calc() missing 1 required positional argument: 'second'"
     ]
    }
   ],
   "source": [
    "# positional arguments:\n",
    "# parameters:   first  second   op\n",
    "# arguments      10             \n",
    "\n",
    "calc(10)"
   ]
  },
  {
   "cell_type": "code",
   "execution_count": 123,
   "id": "d5fe3bdd",
   "metadata": {},
   "outputs": [],
   "source": [
    "def calc(first=0, second=0, op='+'):\n",
    "    if op == '+':\n",
    "        return first + second\n",
    "    elif op == '-':\n",
    "        return first - second\n",
    "    else:\n",
    "        return 'Not supported'       \n"
   ]
  },
  {
   "cell_type": "code",
   "execution_count": 125,
   "id": "974889ea",
   "metadata": {},
   "outputs": [
    {
     "data": {
      "text/plain": [
       "0"
      ]
     },
     "execution_count": 125,
     "metadata": {},
     "output_type": "execute_result"
    }
   ],
   "source": [
    "calc()   # all parameters get defaults"
   ]
  },
  {
   "cell_type": "code",
   "execution_count": 126,
   "id": "aa52b903",
   "metadata": {},
   "outputs": [
    {
     "data": {
      "text/plain": [
       "3"
      ]
     },
     "execution_count": 126,
     "metadata": {},
     "output_type": "execute_result"
    }
   ],
   "source": [
    "calc(3)  # 3 + 0"
   ]
  },
  {
   "cell_type": "code",
   "execution_count": 127,
   "id": "774eea74",
   "metadata": {},
   "outputs": [
    {
     "data": {
      "text/plain": [
       "5"
      ]
     },
     "execution_count": 127,
     "metadata": {},
     "output_type": "execute_result"
    }
   ],
   "source": [
    "calc(3, 2)  # 3 + 2"
   ]
  },
  {
   "cell_type": "code",
   "execution_count": 128,
   "id": "e4220125",
   "metadata": {},
   "outputs": [
    {
     "data": {
      "text/plain": [
       "1"
      ]
     },
     "execution_count": 128,
     "metadata": {},
     "output_type": "execute_result"
    }
   ],
   "source": [
    "calc(3, 2, '-')"
   ]
  },
  {
   "cell_type": "code",
   "execution_count": 129,
   "id": "a3958321",
   "metadata": {},
   "outputs": [
    {
     "data": {
      "text/plain": [
       "3"
      ]
     },
     "execution_count": 129,
     "metadata": {},
     "output_type": "execute_result"
    }
   ],
   "source": [
    "calc(3, op='-')   # 3 - 0"
   ]
  },
  {
   "cell_type": "code",
   "execution_count": 130,
   "id": "0b007fdd",
   "metadata": {},
   "outputs": [],
   "source": [
    "def calc(first=2, second=4, op='+'):\n",
    "    if op == '+':\n",
    "        return first + second\n",
    "    elif op == '-':\n",
    "        return first - second\n",
    "    else:\n",
    "        return 'Not supported'       \n"
   ]
  },
  {
   "cell_type": "code",
   "execution_count": 131,
   "id": "872a4270",
   "metadata": {},
   "outputs": [
    {
     "data": {
      "text/plain": [
       "6"
      ]
     },
     "execution_count": 131,
     "metadata": {},
     "output_type": "execute_result"
    }
   ],
   "source": [
    "calc()"
   ]
  },
  {
   "cell_type": "code",
   "execution_count": 132,
   "id": "332f834d",
   "metadata": {},
   "outputs": [
    {
     "data": {
      "text/plain": [
       "-2"
      ]
     },
     "execution_count": 132,
     "metadata": {},
     "output_type": "execute_result"
    }
   ],
   "source": [
    "calc(op='-')   # pass only one keyword argument; others will get default values"
   ]
  },
  {
   "cell_type": "markdown",
   "id": "77628ffd",
   "metadata": {},
   "source": [
    "# Unpacking\n",
    "\n",
    "Unpacking (aka \"tuple unpacking\") lets us take a sequence (string, list, tuple) on the right, and several variables on the left.  If the number of variables and elements in the sequence is the same, we can assign them en masse.\n"
   ]
  },
  {
   "cell_type": "code",
   "execution_count": 133,
   "id": "3f2ec72e",
   "metadata": {},
   "outputs": [],
   "source": [
    "mylist = [10, 20, 30]\n",
    "x,y,z = mylist   # 3 variables, 3 elements"
   ]
  },
  {
   "cell_type": "code",
   "execution_count": 134,
   "id": "a0e5845f",
   "metadata": {},
   "outputs": [
    {
     "data": {
      "text/plain": [
       "10"
      ]
     },
     "execution_count": 134,
     "metadata": {},
     "output_type": "execute_result"
    }
   ],
   "source": [
    "x"
   ]
  },
  {
   "cell_type": "code",
   "execution_count": 135,
   "id": "89555009",
   "metadata": {},
   "outputs": [
    {
     "data": {
      "text/plain": [
       "20"
      ]
     },
     "execution_count": 135,
     "metadata": {},
     "output_type": "execute_result"
    }
   ],
   "source": [
    "y"
   ]
  },
  {
   "cell_type": "code",
   "execution_count": 136,
   "id": "aec1f6ef",
   "metadata": {},
   "outputs": [
    {
     "data": {
      "text/plain": [
       "30"
      ]
     },
     "execution_count": 136,
     "metadata": {},
     "output_type": "execute_result"
    }
   ],
   "source": [
    "z"
   ]
  },
  {
   "cell_type": "code",
   "execution_count": 137,
   "id": "b56b859f",
   "metadata": {},
   "outputs": [
    {
     "data": {
      "text/plain": [
       "[10, 20, 30]"
      ]
     },
     "execution_count": 137,
     "metadata": {},
     "output_type": "execute_result"
    }
   ],
   "source": [
    "def myfunc():\n",
    "    return [10, 20, 30]  # return a list of 3 elements\n",
    "\n",
    "x = myfunc()    # run the function, and return its list, assigning to x\n",
    "x"
   ]
  },
  {
   "cell_type": "code",
   "execution_count": 139,
   "id": "5fa8a44a",
   "metadata": {},
   "outputs": [],
   "source": [
    "# myfunc returns a list of 3 elements\n",
    "x,y,z = myfunc()"
   ]
  },
  {
   "cell_type": "code",
   "execution_count": 140,
   "id": "17b8122a",
   "metadata": {},
   "outputs": [
    {
     "data": {
      "text/plain": [
       "10"
      ]
     },
     "execution_count": 140,
     "metadata": {},
     "output_type": "execute_result"
    }
   ],
   "source": [
    "x"
   ]
  },
  {
   "cell_type": "code",
   "execution_count": 141,
   "id": "e5c34f9d",
   "metadata": {},
   "outputs": [
    {
     "data": {
      "text/plain": [
       "20"
      ]
     },
     "execution_count": 141,
     "metadata": {},
     "output_type": "execute_result"
    }
   ],
   "source": [
    "y"
   ]
  },
  {
   "cell_type": "code",
   "execution_count": 142,
   "id": "ee47849e",
   "metadata": {},
   "outputs": [
    {
     "data": {
      "text/plain": [
       "30"
      ]
     },
     "execution_count": 142,
     "metadata": {},
     "output_type": "execute_result"
    }
   ],
   "source": [
    "z"
   ]
  },
  {
   "cell_type": "code",
   "execution_count": 143,
   "id": "f5f5aef7",
   "metadata": {},
   "outputs": [
    {
     "data": {
      "text/plain": [
       "['Reuven', 'Lerner']"
      ]
     },
     "execution_count": 143,
     "metadata": {},
     "output_type": "execute_result"
    }
   ],
   "source": [
    "def first_and_last(s):\n",
    "    return s.split()\n",
    "\n",
    "first_and_last('Reuven Lerner')"
   ]
  },
  {
   "cell_type": "code",
   "execution_count": 144,
   "id": "bfa21916",
   "metadata": {},
   "outputs": [],
   "source": [
    "first, last = first_and_last('Reuven Lerner')"
   ]
  },
  {
   "cell_type": "code",
   "execution_count": 145,
   "id": "fdd1dca5",
   "metadata": {},
   "outputs": [
    {
     "data": {
      "text/plain": [
       "'Reuven'"
      ]
     },
     "execution_count": 145,
     "metadata": {},
     "output_type": "execute_result"
    }
   ],
   "source": [
    "first"
   ]
  },
  {
   "cell_type": "code",
   "execution_count": 146,
   "id": "0756a4ff",
   "metadata": {},
   "outputs": [
    {
     "data": {
      "text/plain": [
       "'Lerner'"
      ]
     },
     "execution_count": 146,
     "metadata": {},
     "output_type": "execute_result"
    }
   ],
   "source": [
    "last"
   ]
  },
  {
   "cell_type": "code",
   "execution_count": 147,
   "id": "0015f298",
   "metadata": {},
   "outputs": [],
   "source": [
    "# done, not_done = wait(my_tasks)"
   ]
  },
  {
   "cell_type": "code",
   "execution_count": 149,
   "id": "0acb7b68",
   "metadata": {},
   "outputs": [],
   "source": [
    "# Python makes it easy to feel like our function can return more than one thing\n",
    "# really, it's just returning a tuple.. but with unpacking, we can feel like\n",
    "# we're getting multiple values\n",
    "\n",
    "def word_info(word):\n",
    "    output = {'len':len(word), 'first':word[0]}\n",
    "    \n",
    "    return word, output  # you don't () to create a tuple -- just a ,\n",
    "\n",
    "# retrieve the string + dict using unpacking\n",
    "the_word, d = word_info('python')"
   ]
  },
  {
   "cell_type": "code",
   "execution_count": 150,
   "id": "c924e4e3",
   "metadata": {},
   "outputs": [
    {
     "data": {
      "text/plain": [
       "'python'"
      ]
     },
     "execution_count": 150,
     "metadata": {},
     "output_type": "execute_result"
    }
   ],
   "source": [
    "the_word"
   ]
  },
  {
   "cell_type": "code",
   "execution_count": 151,
   "id": "8e15cc57",
   "metadata": {},
   "outputs": [
    {
     "data": {
      "text/plain": [
       "{'len': 6, 'first': 'p'}"
      ]
     },
     "execution_count": 151,
     "metadata": {},
     "output_type": "execute_result"
    }
   ],
   "source": [
    "d"
   ]
  },
  {
   "cell_type": "code",
   "execution_count": 152,
   "id": "08ecb58d",
   "metadata": {},
   "outputs": [
    {
     "data": {
      "text/plain": [
       "([10, 20, 30], [25, 35, 45])"
      ]
     },
     "execution_count": 152,
     "metadata": {},
     "output_type": "execute_result"
    }
   ],
   "source": [
    "# another example of returning a tuple with multiple values \n",
    "# and then grabbing it with unpacking\n",
    "\n",
    "def evens_and_odds(numbers):    # numbers will be a list of integers\n",
    "    evens = []\n",
    "    odds = []\n",
    "    \n",
    "    for one_number in numbers:\n",
    "        if one_number % 2 == 1:   # if its remainder after /2 is 1, it's odd\n",
    "            odds.append(one_number)\n",
    "        else:\n",
    "            evens.append(one_number)\n",
    "            \n",
    "    return evens, odds    # this means: a 2-element tuple of lists, evens + odds\n",
    "\n",
    "# I call the function with a list of integers\n",
    "# the return value is a 2-element tuple of lists\n",
    "# each list contains integers from the input\n",
    "evens_and_odds([10, 20, 30, 25, 35, 45])"
   ]
  },
  {
   "cell_type": "code",
   "execution_count": 153,
   "id": "2f41aadf",
   "metadata": {},
   "outputs": [],
   "source": [
    "# I could just assign that tuple to t\n",
    "t = evens_and_odds([10, 20, 30, 25, 35, 45])\n",
    "\n"
   ]
  },
  {
   "cell_type": "code",
   "execution_count": 155,
   "id": "99a9cde1",
   "metadata": {},
   "outputs": [],
   "source": [
    "# or I can assign each element of the tuple to a separate variable\n",
    "# two variables being assigned a 2-element tuple\n",
    "# each variable (x and y) gets one list\n",
    "x, y = evens_and_odds([10, 20, 30, 25, 35, 45])"
   ]
  },
  {
   "cell_type": "code",
   "execution_count": 156,
   "id": "7566d5b5",
   "metadata": {},
   "outputs": [
    {
     "data": {
      "text/plain": [
       "[10, 20, 30]"
      ]
     },
     "execution_count": 156,
     "metadata": {},
     "output_type": "execute_result"
    }
   ],
   "source": [
    "x"
   ]
  },
  {
   "cell_type": "code",
   "execution_count": 157,
   "id": "c97b3b0f",
   "metadata": {},
   "outputs": [
    {
     "data": {
      "text/plain": [
       "[25, 35, 45]"
      ]
     },
     "execution_count": 157,
     "metadata": {},
     "output_type": "execute_result"
    }
   ],
   "source": [
    "y"
   ]
  },
  {
   "cell_type": "markdown",
   "id": "ed84ae25",
   "metadata": {},
   "source": [
    "# Two big ideas\n",
    "\n",
    "1. Big idea 1: You can return anything you want from a function. If you return a tuple, then it feels like you're returning multiple values.\n",
    "2. Big idea 2: You can use unpacking to assign data with multiple elements to multiple variables\n",
    "\n",
    "The combination of these ideas (returning a tuple + unpacking) means that you can get multiple values back from a function."
   ]
  },
  {
   "cell_type": "markdown",
   "id": "3642a7d5",
   "metadata": {},
   "source": [
    "# Exercise: Vowel counts\n",
    "\n",
    "1. Define a function, `vowel_counts`, that takes a string as its only input.\n",
    "2. Define a dict, `counts`, in the function.  The dict has five keys (a, e, i, o, and u) and values of 0.\n",
    "3. Go through the string, one character at a time.\n",
    "4. If the current character is a vowel, increment the count for that vowel.\n",
    "5. Return the dict to the caller.\n",
    "\n",
    "```python\n",
    "vowel_counts('hello')  # returnd value will be: {'a':0, 'e':1, 'i':0, 'o':1, 'u':0}\n",
    "```"
   ]
  },
  {
   "cell_type": "code",
   "execution_count": 158,
   "id": "537e2670",
   "metadata": {},
   "outputs": [],
   "source": [
    "def vowel_counts(s):\n",
    "    counts = {'a':0, 'e':0, 'i':0, 'o':0, 'u':0}\n",
    "    \n",
    "    for one_character in s:           # go through s, one character at a time\n",
    "        if one_character in counts:   # is the character a key in our dict?\n",
    "            counts[one_character] += 1\n",
    "    \n",
    "    return counts"
   ]
  },
  {
   "cell_type": "code",
   "execution_count": 159,
   "id": "03d198b2",
   "metadata": {},
   "outputs": [
    {
     "data": {
      "text/plain": [
       "{'a': 0, 'e': 1, 'i': 0, 'o': 1, 'u': 0}"
      ]
     },
     "execution_count": 159,
     "metadata": {},
     "output_type": "execute_result"
    }
   ],
   "source": [
    "vowel_counts('hello')"
   ]
  },
  {
   "cell_type": "code",
   "execution_count": 160,
   "id": "8f413853",
   "metadata": {},
   "outputs": [
    {
     "name": "stdout",
     "output_type": "stream",
     "text": [
      "Enter a string: Hello out there!\n",
      "{'a': 0, 'e': 3, 'i': 0, 'o': 2, 'u': 1}\n"
     ]
    }
   ],
   "source": [
    "s = input('Enter a string: ').strip()\n",
    "print(vowel_counts(s))"
   ]
  },
  {
   "cell_type": "code",
   "execution_count": 161,
   "id": "bc02527e",
   "metadata": {},
   "outputs": [
    {
     "name": "stdout",
     "output_type": "stream",
     "text": [
      "a: 0\n",
      "e: 3\n",
      "i: 0\n",
      "o: 2\n",
      "u: 1\n"
     ]
    }
   ],
   "source": [
    "d = vowel_counts(s)\n",
    "for key, value in d.items():\n",
    "    print(f'{key}: {value}')"
   ]
  },
  {
   "cell_type": "markdown",
   "id": "0fcd2946",
   "metadata": {},
   "source": [
    "# In the Python Tutor:\n",
    "\n",
    "https://pythontutor.com/visualize.html#code=def%20vowel_counts%28s%29%3A%0A%20%20%20%20counts%20%3D%20%7B'a'%3A0,%20'e'%3A0,%20'i'%3A0,%20'o'%3A0,%20'u'%3A0%7D%0A%20%20%20%20%0A%20%20%20%20for%20one_character%20in%20s%3A%20%20%20%20%20%20%20%20%20%20%20%23%20go%20through%20s,%20one%20character%20at%20a%20time%0A%20%20%20%20%20%20%20%20if%20one_character%20in%20counts%3A%20%20%20%23%20is%20the%20character%20a%20key%20in%20our%20dict%3F%0A%20%20%20%20%20%20%20%20%20%20%20%20counts%5Bone_character%5D%20%2B%3D%201%0A%20%20%20%20%0A%20%20%20%20return%20counts%0A%20%20%20%20%0Aprint%28vowel_counts%28'hello%20there'%29%29%0A&cumulative=false&curInstr=33&heapPrimitives=nevernest&mode=display&origin=opt-frontend.js&py=3&rawInputLstJSON=%5B%5D&textReferences=false"
   ]
  },
  {
   "cell_type": "code",
   "execution_count": 162,
   "id": "c4069744",
   "metadata": {},
   "outputs": [],
   "source": [
    "# alternative version, which lets the user specify the characters to track\n",
    "# the default, though, will be 'aeiou'\n",
    "\n",
    "def char_counts(s, chars='aeiou'):\n",
    "    # initialize our dict\n",
    "    counts = {}\n",
    "    for one_character in chars:\n",
    "        counts[one_character] = 0\n",
    "    \n",
    "    # go through the user's string\n",
    "    for one_character in s:           # go through s, one character at a time\n",
    "        if one_character in counts:   # is the character a key in our dict?\n",
    "            counts[one_character] += 1\n",
    "    \n",
    "    return counts"
   ]
  },
  {
   "cell_type": "code",
   "execution_count": 163,
   "id": "f1eb1dab",
   "metadata": {},
   "outputs": [
    {
     "data": {
      "text/plain": [
       "{'a': 0, 'e': 3, 'i': 0, 'o': 2, 'u': 1}"
      ]
     },
     "execution_count": 163,
     "metadata": {},
     "output_type": "execute_result"
    }
   ],
   "source": [
    "char_counts('hello, out there!')"
   ]
  },
  {
   "cell_type": "code",
   "execution_count": 164,
   "id": "c08c3cb4",
   "metadata": {},
   "outputs": [
    {
     "data": {
      "text/plain": [
       "{'!': 1, '@': 0, '#': 0, '$': 0, '%': 0, ',': 1, '.': 0}"
      ]
     },
     "execution_count": 164,
     "metadata": {},
     "output_type": "execute_result"
    }
   ],
   "source": [
    "char_counts('hello, out there!', '!@#$%,.')"
   ]
  },
  {
   "cell_type": "code",
   "execution_count": 165,
   "id": "7bda1012",
   "metadata": {},
   "outputs": [
    {
     "data": {
      "text/plain": [
       "{'a': 0, 'e': 3, 'i': 0, 'o': 2, 'u': 1, 'y': 0}"
      ]
     },
     "execution_count": 165,
     "metadata": {},
     "output_type": "execute_result"
    }
   ],
   "source": [
    "char_counts('hello, out there!', chars='aeiouy')"
   ]
  },
  {
   "cell_type": "code",
   "execution_count": 166,
   "id": "d26f0625",
   "metadata": {},
   "outputs": [],
   "source": [
    "# how about counting words?\n",
    "\n",
    "def word_counts(s, words=('this', 'is', 'very', 'interesting')):\n",
    "    # initialize our dict\n",
    "    counts = {}\n",
    "    for one_word in words:\n",
    "        counts[one_word] = 0\n",
    "    \n",
    "    # go through the user's sentence, one word at a time\n",
    "    for one_word in s.split():           # go through s, one word\n",
    "        if one_word in counts:   # is the character a key in our dict?\n",
    "            counts[one_word] += 1\n",
    "    \n",
    "    return counts\n",
    "\n"
   ]
  },
  {
   "cell_type": "code",
   "execution_count": 167,
   "id": "e23737c9",
   "metadata": {},
   "outputs": [
    {
     "data": {
      "text/plain": [
       "{'this': 2, 'is': 1, 'very': 0, 'interesting': 1}"
      ]
     },
     "execution_count": 167,
     "metadata": {},
     "output_type": "execute_result"
    }
   ],
   "source": [
    "word_counts('this is the most interesting thing I did this week')"
   ]
  },
  {
   "cell_type": "markdown",
   "id": "05229fa9",
   "metadata": {},
   "source": [
    "Python Workout (https://PythonWorkout.com) has exercises for improving your Python, but also many suggestions along these lines (e.g., why you sho"
   ]
  }
 ],
 "metadata": {
  "kernelspec": {
   "display_name": "Python 3 (ipykernel)",
   "language": "python",
   "name": "python3"
  },
  "language_info": {
   "codemirror_mode": {
    "name": "ipython",
    "version": 3
   },
   "file_extension": ".py",
   "mimetype": "text/x-python",
   "name": "python",
   "nbconvert_exporter": "python",
   "pygments_lexer": "ipython3",
   "version": "3.10.1"
  }
 },
 "nbformat": 4,
 "nbformat_minor": 5
}
