{
 "cells": [
  {
   "cell_type": "markdown",
   "id": "b28ff09b",
   "metadata": {},
   "source": [
    "# Functions!\n",
    "\n",
    "1. What are functions?\n",
    "2. Writing simple functions\n",
    "3. Arguments and parameters\n",
    "4. Return values\n",
    "5. Default argument values\n",
    "6. Complex return values\n",
    "7. Unpacking\n",
    "8. Local vs. global variables"
   ]
  },
  {
   "cell_type": "markdown",
   "id": "31644a03",
   "metadata": {},
   "source": [
    "# What are functions?\n",
    "\n",
    "If we imagine Python to be a (human) language, then we have so far been talking about *nouns*.  Our various data structures are the nouns of the language.\n",
    "\n",
    "There are some verbs -- functions and methods -- but so far, we've had to use the verbs that the system came with.\n",
    "\n",
    "Functions allow us to create new verbs, and thus describe new activities.\n",
    "\n",
    "Do we really need functions?  No.\n",
    "\n",
    "Functions are an abstraction -- they allow us to describe many different activities with a single word.\n",
    "\n",
    "When I define a function, I'm giving a name to a (short or long) set of steps that I don't want to describe individually.  I want to wrap them up together.\n",
    "\n"
   ]
  },
  {
   "cell_type": "markdown",
   "id": "0c38e741",
   "metadata": {},
   "source": [
    "# Functions vs. methods\n",
    "\n",
    "Functions are free-floating names in Python. Methods, by contrast, are always attached to an object -- their name always comes after a `.`, and that `.` comes after an object name.\n",
    "\n"
   ]
  },
  {
   "cell_type": "code",
   "execution_count": 1,
   "id": "0d8ecc3b",
   "metadata": {},
   "outputs": [
    {
     "name": "stdout",
     "output_type": "stream",
     "text": [
      "abcde\n"
     ]
    }
   ],
   "source": [
    "s = 'abcde'  # defined a string\n",
    "\n",
    "print(s)     # print is a function"
   ]
  },
  {
   "cell_type": "code",
   "execution_count": 2,
   "id": "0ba67223",
   "metadata": {
    "scrolled": true
   },
   "outputs": [
    {
     "name": "stdout",
     "output_type": "stream",
     "text": [
      "5\n"
     ]
    }
   ],
   "source": [
    "print(len(s))   # len and print are both functions"
   ]
  },
  {
   "cell_type": "code",
   "execution_count": 3,
   "id": "fac96937",
   "metadata": {},
   "outputs": [
    {
     "name": "stdout",
     "output_type": "stream",
     "text": [
      "ABCDE\n"
     ]
    }
   ],
   "source": [
    "print(s.upper())   # upper is a method (attached to s) but print is a function"
   ]
  },
  {
   "cell_type": "markdown",
   "id": "24a9e3d0",
   "metadata": {},
   "source": [
    "# How do I define a function?\n",
    "\n",
    "1. I use the keyword `def`.\n",
    "2. I give the function a name.\n",
    "3. I tell Python what parameters the function will take, if any, in parentheses.\n",
    "4. I have a colon at the end of the line.\n",
    "5. I then have an indented block containing the \"function body.\"\n",
    "\n",
    "When I define the function, it **DOES NOT EXECUTE**.  We're defining a function, we're not running it.\n",
    "\n",
    "These terms all mean the same thing:\n",
    "1. Running the function\n",
    "2. Executing the function\n",
    "3. Calling the function (in fact, Python has a category of object called \"callables,\" which includes functions)\n",
    "\n",
    "When you define a function with `def`, you're really doing two different things:\n",
    "1. Creating a new function object\n",
    "2. Assigning that object to a variable\n",
    "\n",
    "Meaning: A function name is just like a variable name, and follows the same rules:\n",
    "- Any length\n",
    "- Cannot collide with keywords (`def`, `if`, `for`)\n",
    "- Should try to avoid using builtin names (`str`, `dict`, `list`)\n",
    "- Any combination of letters, numbers, and `_`, *but* cannot start with a number\n",
    "- If you start with `_`, then it's considered to be secret/private (even though everyone can see it)\n",
    "- Normally, Python uses all lowercase letters + `_` between words"
   ]
  },
  {
   "cell_type": "code",
   "execution_count": 4,
   "id": "28357ba9",
   "metadata": {},
   "outputs": [],
   "source": [
    "def hello():          # def + function name + empty parentheses + :\n",
    "    print('Hello!')   # the function body, which is 1 line long"
   ]
  },
  {
   "cell_type": "code",
   "execution_count": 5,
   "id": "6f7b2059",
   "metadata": {},
   "outputs": [
    {
     "name": "stdout",
     "output_type": "stream",
     "text": [
      "Hello!\n"
     ]
    }
   ],
   "source": [
    "# How do I run the function?  Use ()!\n",
    "\n",
    "hello()"
   ]
  },
  {
   "cell_type": "code",
   "execution_count": 6,
   "id": "59061c9b",
   "metadata": {},
   "outputs": [
    {
     "data": {
      "text/plain": [
       "'12345'"
      ]
     },
     "execution_count": 6,
     "metadata": {},
     "output_type": "execute_result"
    }
   ],
   "source": [
    "str(12345) # I want to be able to do this... and if I define a variable/function called \"str\", I cannot!"
   ]
  },
  {
   "cell_type": "code",
   "execution_count": 7,
   "id": "ee7678f4",
   "metadata": {},
   "outputs": [],
   "source": [
    "def hello():\n",
    "    name = input('Enter your name: ').strip()\n",
    "    if name == '':\n",
    "        print('Hey! You did not enter a name!')\n",
    "    else:\n",
    "        print(f'Hello, {name}!')"
   ]
  },
  {
   "cell_type": "code",
   "execution_count": 8,
   "id": "d3e41251",
   "metadata": {},
   "outputs": [
    {
     "data": {
      "text/plain": [
       "function"
      ]
     },
     "execution_count": 8,
     "metadata": {},
     "output_type": "execute_result"
    }
   ],
   "source": [
    "type(hello)   # what kind of thing is assigned to the variable \"hello\""
   ]
  },
  {
   "cell_type": "code",
   "execution_count": 11,
   "id": "aec690f4",
   "metadata": {},
   "outputs": [
    {
     "name": "stdout",
     "output_type": "stream",
     "text": [
      "Enter your name: \n",
      "Hey! You did not enter a name!\n"
     ]
    }
   ],
   "source": [
    "hello()"
   ]
  },
  {
   "cell_type": "markdown",
   "id": "4961700e",
   "metadata": {},
   "source": [
    "# Editing functions\n",
    "\n",
    "If you're in Jupyter, then you can see a function's definition with the special `??` suffix on a function name. Just run `hello??` on a line by itself, and you'll see the definition.\n",
    "\n",
    "If you're *not* in Jupyter, and you're using an IDE (integrated development environment) or editor (e.g., PyCharm or VSCode), then you can just open up the file containing that function definition and look at it.\n",
    "\n",
    "In an editor, it's very easy to edit a function definition -- you just edit it!\n",
    "\n",
    "In Jupyter, it's trickier -- it's better to just find the function and rewrite it."
   ]
  },
  {
   "cell_type": "markdown",
   "id": "596652e6",
   "metadata": {},
   "source": [
    "# Exercise: Calculator\n",
    "\n",
    "1. Write a function, `calc`, which, when run, does the following:\n",
    "2. Ask the user to enter three pieces of information:\n",
    "    - `first`, an integer\n",
    "    - `op`, an operator\n",
    "    - `second`, an integer\n",
    "3. If `op` is either `+` or `-`, then print the result of adding or subtracting (respectively) the numbers from one another.\n",
    "4. If `op` is neither of these, give some sort of scolding/error message.\n",
    "5. Don't forget you need to convert inputs into numbers using `int`. If you really want, you can check using `.isdigit` whether that's possible.\n",
    "6. Then run `calc`, and see that it asks for you inputs and prints the result."
   ]
  },
  {
   "cell_type": "code",
   "execution_count": 13,
   "id": "c59860ed",
   "metadata": {},
   "outputs": [],
   "source": [
    "def calc():\n",
    "    # get inputs from the user\n",
    "    first = input('Enter first: ').strip()\n",
    "    op = input('Enter operator: ').strip()\n",
    "    second = input('Enter second: ').strip()\n",
    "    \n",
    "    # turn numbers into integers (from strings)\n",
    "    first = int(first)\n",
    "    second = int(second)\n",
    "    \n",
    "    # what operator should we use?\n",
    "    if op == '+':\n",
    "        result = first + second\n",
    "    elif op == '-':\n",
    "        result = first - second\n",
    "    else:\n",
    "        result = 'Not supported'\n",
    "        \n",
    "    # print a report for the user\n",
    "    print(f'{first} {op} {second} = {result}')"
   ]
  },
  {
   "cell_type": "code",
   "execution_count": 14,
   "id": "8d8722cc",
   "metadata": {},
   "outputs": [
    {
     "name": "stdout",
     "output_type": "stream",
     "text": [
      "Enter first: 10\n",
      "Enter operator: +\n",
      "Enter second: 3\n",
      "10 + 3 = 13\n"
     ]
    }
   ],
   "source": [
    "calc()"
   ]
  },
  {
   "cell_type": "markdown",
   "id": "152b1f13",
   "metadata": {},
   "source": [
    "# In Python Tutor:\n",
    "\n",
    "https://pythontutor.com/visualize.html#code=def%20calc%28%29%3A%0A%20%20%20%20%23%20get%20inputs%20from%20the%20user%0A%20%20%20%20first%20%3D%20input%28'Enter%20first%3A%20'%29.strip%28%29%0A%20%20%20%20op%20%3D%20input%28'Enter%20operator%3A%20'%29.strip%28%29%0A%20%20%20%20second%20%3D%20input%28'Enter%20second%3A%20'%29.strip%28%29%0A%20%20%20%20%0A%20%20%20%20%23%20turn%20numbers%20into%20integers%20%28from%20strings%29%0A%20%20%20%20first%20%3D%20int%28first%29%0A%20%20%20%20second%20%3D%20int%28second%29%0A%20%20%20%20%0A%20%20%20%20%23%20what%20operator%20should%20we%20use%3F%0A%20%20%20%20if%20op%20%3D%3D%20'%2B'%3A%0A%20%20%20%20%20%20%20%20result%20%3D%20first%20%2B%20second%0A%20%20%20%20elif%20op%20%3D%3D%20'-'%3A%0A%20%20%20%20%20%20%20%20result%20%3D%20first%20-%20second%0A%20%20%20%20else%3A%0A%20%20%20%20%20%20%20%20result%20%3D%20'Not%20supported'%0A%20%20%20%20%20%20%20%20%0A%20%20%20%20%23%20print%20a%20report%20for%20the%20user%0A%20%20%20%20print%28f'%7Bfirst%7D%20%7Bop%7D%20%7Bsecond%7D%20%3D%20%7Bresult%7D'%29%0A%20%20%20%20%0Acalc%28%29%20%20%20%20&cumulative=false&curInstr=12&heapPrimitives=true&mode=display&origin=opt-frontend.js&py=3&rawInputLstJSON=%5B%225%22,%22-%22,%2220%22%5D&textReferences=false"
   ]
  },
  {
   "cell_type": "markdown",
   "id": "3f53ab8a",
   "metadata": {},
   "source": [
    "# Redefining functions\n",
    "\n",
    "Just as you can define the same variable multiple times, and the most recent time you defined it determines its value, the most recent time you defined a function determines how it works.\n",
    "\n",
    "If you define a function with the same name multiple times, only the most recent version is still around."
   ]
  },
  {
   "cell_type": "code",
   "execution_count": 15,
   "id": "13866b90",
   "metadata": {},
   "outputs": [],
   "source": [
    "def hello():\n",
    "    name = input('Enter your name: ').strip()\n",
    "    \n",
    "    print(f'Hello, {name}!')"
   ]
  },
  {
   "cell_type": "code",
   "execution_count": 16,
   "id": "1b18e543",
   "metadata": {
    "scrolled": true
   },
   "outputs": [
    {
     "name": "stdout",
     "output_type": "stream",
     "text": [
      "Enter your name: Reuven\n",
      "Hello, Reuven!\n"
     ]
    }
   ],
   "source": [
    "hello()   # no parentheses? No execution of the function!"
   ]
  },
  {
   "cell_type": "code",
   "execution_count": 17,
   "id": "c202254e",
   "metadata": {},
   "outputs": [],
   "source": [
    "# what if I want to call the function and provide a name at that point\n",
    "# I'm going to define the function with a *parameter* -- meaning, a variable that's \n",
    "# assigned when the function is called\n",
    "\n",
    "# in this case, name is not only a variable, it's a special kind of variable called a *parameter*.\n",
    "# parameters get their values from the caller\n",
    "\n",
    "def hello(name):\n",
    "    print(f'Hello, {name}!')"
   ]
  },
  {
   "cell_type": "code",
   "execution_count": 18,
   "id": "b7cec5eb",
   "metadata": {},
   "outputs": [
    {
     "name": "stdout",
     "output_type": "stream",
     "text": [
      "Hello, name!\n"
     ]
    }
   ],
   "source": [
    "hello('name')"
   ]
  },
  {
   "cell_type": "code",
   "execution_count": 19,
   "id": "f2534a19",
   "metadata": {},
   "outputs": [
    {
     "name": "stdout",
     "output_type": "stream",
     "text": [
      "Hello, Reuven!\n"
     ]
    }
   ],
   "source": [
    "hello('Reuven')"
   ]
  },
  {
   "cell_type": "code",
   "execution_count": 20,
   "id": "b4349aab",
   "metadata": {},
   "outputs": [
    {
     "name": "stdout",
     "output_type": "stream",
     "text": [
      "Hello, world!\n"
     ]
    }
   ],
   "source": [
    "x = 'world'\n",
    "hello(x)"
   ]
  },
  {
   "cell_type": "code",
   "execution_count": 21,
   "id": "c50d0e2d",
   "metadata": {},
   "outputs": [
    {
     "name": "stdout",
     "output_type": "stream",
     "text": [
      "Hello, world!\n"
     ]
    }
   ],
   "source": [
    "# Python doesn't check what type of data I pass as an argument \n",
    "hello('world')"
   ]
  },
  {
   "cell_type": "code",
   "execution_count": 22,
   "id": "41799f39",
   "metadata": {},
   "outputs": [
    {
     "name": "stdout",
     "output_type": "stream",
     "text": [
      "Hello, 5!\n"
     ]
    }
   ],
   "source": [
    "hello(5)"
   ]
  },
  {
   "cell_type": "code",
   "execution_count": 23,
   "id": "2feaedac",
   "metadata": {},
   "outputs": [
    {
     "name": "stdout",
     "output_type": "stream",
     "text": [
      "Hello, [10, 20, 30]!\n"
     ]
    }
   ],
   "source": [
    "hello([10, 20, 30])"
   ]
  },
  {
   "cell_type": "code",
   "execution_count": 24,
   "id": "27a5deee",
   "metadata": {},
   "outputs": [
    {
     "ename": "TypeError",
     "evalue": "hello() missing 1 required positional argument: 'name'",
     "output_type": "error",
     "traceback": [
      "\u001b[0;31m---------------------------------------------------------------------------\u001b[0m",
      "\u001b[0;31mTypeError\u001b[0m                                 Traceback (most recent call last)",
      "\u001b[0;32m/var/folders/rr/0mnyyv811fs5vyp22gf4fxk00000gn/T/ipykernel_45412/2734792267.py\u001b[0m in \u001b[0;36m<module>\u001b[0;34m\u001b[0m\n\u001b[0;32m----> 1\u001b[0;31m \u001b[0mhello\u001b[0m\u001b[0;34m(\u001b[0m\u001b[0;34m)\u001b[0m   \u001b[0;31m# what if I call it again, but without an argument?  This used to work, right?\u001b[0m\u001b[0;34m\u001b[0m\u001b[0;34m\u001b[0m\u001b[0m\n\u001b[0m",
      "\u001b[0;31mTypeError\u001b[0m: hello() missing 1 required positional argument: 'name'"
     ]
    }
   ],
   "source": [
    "hello()   # what if I call it again, but without an argument?  This used to work, right?"
   ]
  },
  {
   "cell_type": "markdown",
   "id": "4a2594d0",
   "metadata": {},
   "source": [
    "# Parameter types\n",
    "\n",
    "The idea of a parameter that can only be an integer, or only be a string, **DOES NOT EXIST** in Python. That idea does exist in other programming languages. But in Python, any parameter can get any value passed to it.  The function needs to check these things -- or not! Maybe the user should have read the documentation before passing a bad value.\n",
    "\n",
    "More seriously: Python now has what are called \"type annotations,\" or \"type hints.\" And a separate program called Mypy checks these against your code, to make sure that you don't mess up too much."
   ]
  },
  {
   "cell_type": "code",
   "execution_count": 25,
   "id": "b2c72649",
   "metadata": {},
   "outputs": [],
   "source": [
    "# Let's write a function that takes *two* arguments (into two parameters)\n",
    "\n",
    "def hello(first, last):\n",
    "    print(f'Hello, {first} {last}!')"
   ]
  },
  {
   "cell_type": "code",
   "execution_count": 26,
   "id": "98180b72",
   "metadata": {},
   "outputs": [
    {
     "name": "stdout",
     "output_type": "stream",
     "text": [
      "Hello, Reuven Lerner!\n"
     ]
    }
   ],
   "source": [
    "hello('Reuven', 'Lerner')"
   ]
  },
  {
   "cell_type": "code",
   "execution_count": 27,
   "id": "836ac4d9",
   "metadata": {},
   "outputs": [
    {
     "name": "stdout",
     "output_type": "stream",
     "text": [
      "Hello, out there!\n"
     ]
    }
   ],
   "source": [
    "hello('out', 'there')"
   ]
  },
  {
   "cell_type": "code",
   "execution_count": 29,
   "id": "1396cfc7",
   "metadata": {},
   "outputs": [
    {
     "ename": "TypeError",
     "evalue": "hello() missing 1 required positional argument: 'last'",
     "output_type": "error",
     "traceback": [
      "\u001b[0;31m---------------------------------------------------------------------------\u001b[0m",
      "\u001b[0;31mTypeError\u001b[0m                                 Traceback (most recent call last)",
      "\u001b[0;32m/var/folders/rr/0mnyyv811fs5vyp22gf4fxk00000gn/T/ipykernel_45412/3423178131.py\u001b[0m in \u001b[0;36m<module>\u001b[0;34m\u001b[0m\n\u001b[0;32m----> 1\u001b[0;31m \u001b[0mhello\u001b[0m\u001b[0;34m(\u001b[0m\u001b[0;34m'there'\u001b[0m\u001b[0;34m)\u001b[0m   \u001b[0;31m# not enough arguments!\u001b[0m\u001b[0;34m\u001b[0m\u001b[0;34m\u001b[0m\u001b[0m\n\u001b[0m",
      "\u001b[0;31mTypeError\u001b[0m: hello() missing 1 required positional argument: 'last'"
     ]
    }
   ],
   "source": [
    "hello('there')   # not enough arguments!"
   ]
  },
  {
   "cell_type": "code",
   "execution_count": 30,
   "id": "a9019fce",
   "metadata": {},
   "outputs": [
    {
     "name": "stdout",
     "output_type": "stream",
     "text": [
      "Hello, 10 20!\n"
     ]
    }
   ],
   "source": [
    "hello(10, 20)"
   ]
  },
  {
   "cell_type": "code",
   "execution_count": 31,
   "id": "d3ca0ebd",
   "metadata": {},
   "outputs": [
    {
     "name": "stdout",
     "output_type": "stream",
     "text": [
      "Hello, [10, 20, 30] [40, 50, 60]!\n"
     ]
    }
   ],
   "source": [
    "# don't do this... but it does work!\n",
    "hello([10, 20, 30], [40, 50, 60])"
   ]
  },
  {
   "cell_type": "code",
   "execution_count": 32,
   "id": "297fdd72",
   "metadata": {},
   "outputs": [
    {
     "name": "stdout",
     "output_type": "stream",
     "text": [
      "Hello, None None!\n"
     ]
    }
   ],
   "source": [
    "# Python has a special value called None (with a capital N)\n",
    "# you can pass that as an argument, as well\n",
    "hello(None, None)"
   ]
  },
  {
   "cell_type": "code",
   "execution_count": 33,
   "id": "80a38c05",
   "metadata": {},
   "outputs": [],
   "source": [
    "def add(first, second):\n",
    "    print(f'{first} + {second} = {first+second}')"
   ]
  },
  {
   "cell_type": "code",
   "execution_count": 34,
   "id": "a9014b8e",
   "metadata": {},
   "outputs": [
    {
     "name": "stdout",
     "output_type": "stream",
     "text": [
      "3 + 4 = 7\n"
     ]
    }
   ],
   "source": [
    "# pass integers\n",
    "add(3, 4)"
   ]
  },
  {
   "cell_type": "code",
   "execution_count": 35,
   "id": "1092819d",
   "metadata": {},
   "outputs": [
    {
     "name": "stdout",
     "output_type": "stream",
     "text": [
      "abc + def = abcdef\n"
     ]
    }
   ],
   "source": [
    "# pass strings\n",
    "add('abc', 'def')"
   ]
  },
  {
   "cell_type": "code",
   "execution_count": 38,
   "id": "66886bbd",
   "metadata": {},
   "outputs": [
    {
     "name": "stdout",
     "output_type": "stream",
     "text": [
      "3 + 4 = 34\n"
     ]
    }
   ],
   "source": [
    "# pass strings\n",
    "add('3', '4')"
   ]
  },
  {
   "cell_type": "code",
   "execution_count": 36,
   "id": "b288783b",
   "metadata": {},
   "outputs": [
    {
     "name": "stdout",
     "output_type": "stream",
     "text": [
      "[10, 20, 30] + [40, 50, 60] = [10, 20, 30, 40, 50, 60]\n"
     ]
    }
   ],
   "source": [
    "# pass lists\n",
    "add([10, 20, 30], [40, 50, 60])"
   ]
  },
  {
   "cell_type": "code",
   "execution_count": 37,
   "id": "671d17a9",
   "metadata": {},
   "outputs": [],
   "source": [
    "# In dynamic languages like Python, we take this for granted\n",
    "# in other languages, like C/Java/C#, people think this is TOTALLY NUTS"
   ]
  },
  {
   "cell_type": "markdown",
   "id": "8a34291e",
   "metadata": {},
   "source": [
    "# Exercise: `mysum`\n",
    "\n",
    "1. Python comes with a function called `sum`, which takes a single argument (list or tuple) of integers, and returns the sum of those integers.\n",
    "2. Write a function called `mysum` that takes a list or tuple of integers, and prints the result on the screen.\n",
    "3. You'll probably want to define a new variable in the function called `total` and then iterate with a `for` loop over the elements of the list or tuple.\n",
    "4. Don't use the built-in `sum` function to write your own `mysum` function. "
   ]
  },
  {
   "cell_type": "code",
   "execution_count": 39,
   "id": "bc00ed76",
   "metadata": {},
   "outputs": [],
   "source": [
    "def mysum(numbers):  # numbers is a list or tuple of integers\n",
    "    total = 0\n",
    "    \n",
    "    for one_number in numbers:\n",
    "        total += one_number\n",
    "        \n",
    "    print(total)"
   ]
  },
  {
   "cell_type": "code",
   "execution_count": 40,
   "id": "3ec1d08b",
   "metadata": {},
   "outputs": [
    {
     "name": "stdout",
     "output_type": "stream",
     "text": [
      "60\n"
     ]
    }
   ],
   "source": [
    "mysum([10, 20, 30])"
   ]
  },
  {
   "cell_type": "code",
   "execution_count": 41,
   "id": "e9e63781",
   "metadata": {},
   "outputs": [
    {
     "name": "stdout",
     "output_type": "stream",
     "text": [
      "543\n"
     ]
    }
   ],
   "source": [
    "mysum([100, 200, 300, -57])"
   ]
  },
  {
   "cell_type": "code",
   "execution_count": 42,
   "id": "ade75ede",
   "metadata": {},
   "outputs": [
    {
     "name": "stdout",
     "output_type": "stream",
     "text": [
      "0\n"
     ]
    }
   ],
   "source": [
    "mysum([])"
   ]
  },
  {
   "cell_type": "code",
   "execution_count": 44,
   "id": "197ff38a",
   "metadata": {},
   "outputs": [],
   "source": [
    "# buggy version : we don't define total in advance!\n",
    "# because we try to use total's value before it has one, we get an UnboundLocalError\n",
    "\n",
    "def mysum(numbers):  # numbers is a list or tuple of integers\n",
    "    for one_number in numbers:\n",
    "        total += one_number\n",
    "        \n",
    "    print(total)"
   ]
  },
  {
   "cell_type": "code",
   "execution_count": 45,
   "id": "cf947793",
   "metadata": {},
   "outputs": [
    {
     "ename": "UnboundLocalError",
     "evalue": "local variable 'total' referenced before assignment",
     "output_type": "error",
     "traceback": [
      "\u001b[0;31m---------------------------------------------------------------------------\u001b[0m",
      "\u001b[0;31mUnboundLocalError\u001b[0m                         Traceback (most recent call last)",
      "\u001b[0;32m/var/folders/rr/0mnyyv811fs5vyp22gf4fxk00000gn/T/ipykernel_45412/2688749076.py\u001b[0m in \u001b[0;36m<module>\u001b[0;34m\u001b[0m\n\u001b[0;32m----> 1\u001b[0;31m \u001b[0mmysum\u001b[0m\u001b[0;34m(\u001b[0m\u001b[0;34m[\u001b[0m\u001b[0;36m10\u001b[0m\u001b[0;34m,\u001b[0m \u001b[0;36m20\u001b[0m\u001b[0;34m,\u001b[0m \u001b[0;36m30\u001b[0m\u001b[0;34m]\u001b[0m\u001b[0;34m)\u001b[0m\u001b[0;34m\u001b[0m\u001b[0;34m\u001b[0m\u001b[0m\n\u001b[0m",
      "\u001b[0;32m/var/folders/rr/0mnyyv811fs5vyp22gf4fxk00000gn/T/ipykernel_45412/3692459112.py\u001b[0m in \u001b[0;36mmysum\u001b[0;34m(numbers)\u001b[0m\n\u001b[1;32m      3\u001b[0m \u001b[0;32mdef\u001b[0m \u001b[0mmysum\u001b[0m\u001b[0;34m(\u001b[0m\u001b[0mnumbers\u001b[0m\u001b[0;34m)\u001b[0m\u001b[0;34m:\u001b[0m  \u001b[0;31m# numbers is a list or tuple of integers\u001b[0m\u001b[0;34m\u001b[0m\u001b[0;34m\u001b[0m\u001b[0m\n\u001b[1;32m      4\u001b[0m     \u001b[0;32mfor\u001b[0m \u001b[0mone_number\u001b[0m \u001b[0;32min\u001b[0m \u001b[0mnumbers\u001b[0m\u001b[0;34m:\u001b[0m\u001b[0;34m\u001b[0m\u001b[0;34m\u001b[0m\u001b[0m\n\u001b[0;32m----> 5\u001b[0;31m         \u001b[0mtotal\u001b[0m \u001b[0;34m+=\u001b[0m \u001b[0mone_number\u001b[0m\u001b[0;34m\u001b[0m\u001b[0;34m\u001b[0m\u001b[0m\n\u001b[0m\u001b[1;32m      6\u001b[0m \u001b[0;34m\u001b[0m\u001b[0m\n\u001b[1;32m      7\u001b[0m     \u001b[0mprint\u001b[0m\u001b[0;34m(\u001b[0m\u001b[0mtotal\u001b[0m\u001b[0;34m)\u001b[0m\u001b[0;34m\u001b[0m\u001b[0;34m\u001b[0m\u001b[0m\n",
      "\u001b[0;31mUnboundLocalError\u001b[0m: local variable 'total' referenced before assignment"
     ]
    }
   ],
   "source": [
    "mysum([10, 20, 30])"
   ]
  },
  {
   "cell_type": "markdown",
   "id": "af2c1f4f",
   "metadata": {},
   "source": [
    "# Next up\n",
    "\n",
    "Return values from functions!"
   ]
  },
  {
   "cell_type": "markdown",
   "id": "47e8f477",
   "metadata": {},
   "source": [
    "# Adding elements \n",
    "\n",
    "To add one element to a list, you can use the `list.append` method:\n",
    "\n"
   ]
  },
  {
   "cell_type": "code",
   "execution_count": 46,
   "id": "851991f4",
   "metadata": {},
   "outputs": [
    {
     "data": {
      "text/plain": [
       "[10, 20, 30, 40, 'abcd']"
      ]
     },
     "execution_count": 46,
     "metadata": {},
     "output_type": "execute_result"
    }
   ],
   "source": [
    "mylist = [10, 20, 30]\n",
    "mylist.append(40 )     # adds 40 to the end\n",
    "mylist.append('abcd')  # adds 'abcd' to the end\n",
    "\n",
    "mylist"
   ]
  },
  {
   "cell_type": "code",
   "execution_count": null,
   "id": "8df2e0c2",
   "metadata": {},
   "outputs": [],
   "source": [
    "# how"
   ]
  }
 ],
 "metadata": {
  "kernelspec": {
   "display_name": "Python 3 (ipykernel)",
   "language": "python",
   "name": "python3"
  },
  "language_info": {
   "codemirror_mode": {
    "name": "ipython",
    "version": 3
   },
   "file_extension": ".py",
   "mimetype": "text/x-python",
   "name": "python",
   "nbconvert_exporter": "python",
   "pygments_lexer": "ipython3",
   "version": "3.10.1"
  }
 },
 "nbformat": 4,
 "nbformat_minor": 5
}
