{
 "cells": [
  {
   "cell_type": "markdown",
   "id": "9896a6a0",
   "metadata": {},
   "source": [
    "# Functions!\n",
    "\n",
    "1. What are functions?\n",
    "2. Writing simple functions\n",
    "3. Arguments and parameters\n",
    "4. Return values\n",
    "5. Default argument values\n",
    "6. Complex return values\n",
    "7. Unpacking\n",
    "8. Local vs. global variables"
   ]
  },
  {
   "cell_type": "markdown",
   "id": "c90b599a",
   "metadata": {},
   "source": [
    "# What are functions?\n",
    "\n",
    "If we imagine Python to be a (human) language, then we have so far been talking about *nouns*.  Our various data structures are the nouns of the language.\n",
    "\n",
    "There are some verbs -- functions and methods -- but so far, we've had to use the verbs that the system came with.\n",
    "\n",
    "Functions allow us to create new verbs, and thus describe new activities.\n",
    "\n",
    "Do we really need functions?  No.\n",
    "\n",
    "Functions are an abstraction -- they allow us to describe many different activities with a single word.\n",
    "\n",
    "When I define a function, I'm giving a name to a (short or long) set of steps that I don't want to describe individually.  I want to wrap them up together.\n",
    "\n"
   ]
  }
 ],
 "metadata": {
  "kernelspec": {
   "display_name": "Python 3 (ipykernel)",
   "language": "python",
   "name": "python3"
  },
  "language_info": {
   "codemirror_mode": {
    "name": "ipython",
    "version": 3
   },
   "file_extension": ".py",
   "mimetype": "text/x-python",
   "name": "python",
   "nbconvert_exporter": "python",
   "pygments_lexer": "ipython3",
   "version": "3.10.1"
  }
 },
 "nbformat": 4,
 "nbformat_minor": 5
}
