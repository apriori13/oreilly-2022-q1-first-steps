{
 "cells": [
  {
   "cell_type": "markdown",
   "id": "6e91ec64",
   "metadata": {},
   "source": [
    "# Week 5: Modules and packages\n",
    "\n",
    "1. Review last week's challenge + any questions to answer\n",
    "2. What are modules?  What can they contain?\n",
    "3. The `import` statement\n",
    "4. (A little bit about) developing a module\n",
    "5. Python's standard library (i.e., the modules that come with Python)\n",
    "6. Modules vs. packages\n",
    "7. Intro to PyPI\n",
    "8. Using `pip` and downloading/installing modules"
   ]
  },
  {
   "cell_type": "code",
   "execution_count": 2,
   "id": "1beba8f7",
   "metadata": {},
   "outputs": [
    {
     "name": "stdout",
     "output_type": "stream",
     "text": [
      "Enter your name: Reuven\n",
      "Hello, Reuven!\n",
      "Enter your name: \n"
     ]
    }
   ],
   "source": [
    "# what is the walrus operator, why do we care, and how do we use it?\n",
    "\n",
    "# start with a simple loop\n",
    "\n",
    "while True:\n",
    "    name = input('Enter your name: ').strip()\n",
    "    \n",
    "    if name == '':  # did we get an empty string?  If so, then leave the loop\n",
    "        break\n",
    "        \n",
    "    print(f'Hello, {name}!')"
   ]
  },
  {
   "cell_type": "code",
   "execution_count": 3,
   "id": "26dc1615",
   "metadata": {},
   "outputs": [
    {
     "name": "stdout",
     "output_type": "stream",
     "text": [
      "Enter your name: Reuven\n",
      "Hello, Reuven!\n",
      "Enter your name: world\n",
      "Hello, world!\n",
      "Enter your name: asdfsafas\n",
      "Hello, asdfsafas!\n",
      "Enter your name: \n"
     ]
    }
   ],
   "source": [
    "# another way to check for an empty string\n",
    "# empty strings are considered False in an if/while\n",
    "# all other strings are considered True in an if/while\n",
    "\n",
    "while True:\n",
    "    name = input('Enter your name: ').strip()\n",
    "    \n",
    "    if name:   # did we get a non-empty string?\n",
    "        print(f'Hello, {name}!')\n",
    "    else:      # did we get an empty string?\n",
    "        break"
   ]
  },
  {
   "cell_type": "code",
   "execution_count": 4,
   "id": "985b4ff8",
   "metadata": {},
   "outputs": [
    {
     "name": "stdout",
     "output_type": "stream",
     "text": [
      "Enter your name: asdfa\n",
      "Hello, asdfa!\n",
      "Enter your name: asdfa\n",
      "Hello, asdfa!\n",
      "Enter your name: \n"
     ]
    }
   ],
   "source": [
    "# rewrite this once again...\n",
    "\n",
    "while True:\n",
    "    name = input('Enter your name: ').strip()\n",
    "    \n",
    "    if not name:   # '' (empty string) is False next to an if\n",
    "        break       #  again, this means: break if we have an empty string\n",
    "\n",
    "    print(f'Hello, {name}!')\n"
   ]
  },
  {
   "cell_type": "code",
   "execution_count": 5,
   "id": "cc3bce8b",
   "metadata": {},
   "outputs": [
    {
     "ename": "SyntaxError",
     "evalue": "invalid syntax. Maybe you meant '==' or ':=' instead of '='? (1395544256.py, line 12)",
     "output_type": "error",
     "traceback": [
      "\u001b[0;36m  File \u001b[0;32m\"/var/folders/rr/0mnyyv811fs5vyp22gf4fxk00000gn/T/ipykernel_12859/1395544256.py\"\u001b[0;36m, line \u001b[0;32m12\u001b[0m\n\u001b[0;31m    while name = input('Enter your name: ').strip():\u001b[0m\n\u001b[0m          ^\u001b[0m\n\u001b[0;31mSyntaxError\u001b[0m\u001b[0;31m:\u001b[0m invalid syntax. Maybe you meant '==' or ':=' instead of '='?\n"
     ]
    }
   ],
   "source": [
    "# can we rewrite things to be shorter?\n",
    "\n",
    "# while looks to its right (like if) and looks for a True/False value\n",
    "# if all goes well, then in the below code:\n",
    "\n",
    "# (1) with each iteration, we get the user's name\n",
    "# (2) we strip it of whitespace\n",
    "# (3) we assign the value to name\n",
    "# (4) \"while\" looks to its right -- empty string? stop. non-empty string? run the loop block\n",
    "\n",
    "\n",
    "while name = input('Enter your name: ').strip():\n",
    "    \n",
    "    print(f'Hello, {name}!')"
   ]
  },
  {
   "cell_type": "code",
   "execution_count": 6,
   "id": "200598cd",
   "metadata": {},
   "outputs": [
    {
     "name": "stdout",
     "output_type": "stream",
     "text": [
      "Enter your name: Reuven\n",
      "Hello, Reuven!\n",
      "Enter your name: asdfafd\n",
      "Hello, asdfafd!\n",
      "Enter your name: \n"
     ]
    }
   ],
   "source": [
    "# the walrus operator, :=  (looks like a walrus if you turn your head 90 degrees to the left)\n",
    "# this operator does two things:\n",
    "\n",
    "# (1) everything = does\n",
    "# (2) returns a value\n",
    "\n",
    "# now our while loop looks to its right, and it *DOES* get a value back\n",
    "\n",
    "while name := input('Enter your name: ').strip():\n",
    "    \n",
    "    print(f'Hello, {name}!')"
   ]
  },
  {
   "cell_type": "code",
   "execution_count": null,
   "id": "e5dbae96",
   "metadata": {},
   "outputs": [],
   "source": []
  }
 ],
 "metadata": {
  "kernelspec": {
   "display_name": "Python 3 (ipykernel)",
   "language": "python",
   "name": "python3"
  },
  "language_info": {
   "codemirror_mode": {
    "name": "ipython",
    "version": 3
   },
   "file_extension": ".py",
   "mimetype": "text/x-python",
   "name": "python",
   "nbconvert_exporter": "python",
   "pygments_lexer": "ipython3",
   "version": "3.10.1"
  }
 },
 "nbformat": 4,
 "nbformat_minor": 5
}
