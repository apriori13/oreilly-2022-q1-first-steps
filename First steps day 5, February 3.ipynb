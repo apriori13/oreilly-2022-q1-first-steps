{
 "cells": [
  {
   "cell_type": "markdown",
   "id": "22dc0997",
   "metadata": {},
   "source": [
    "# Week 5: Modules and packages\n",
    "\n",
    "1. Review last week's challenge + any questions to answer\n",
    "2. What are modules?  What can they contain?\n",
    "3. The `import` statement\n",
    "4. (A little bit about) developing a module\n",
    "5. Python's standard library (i.e., the modules that come with Python)\n",
    "6. Modules vs. packages\n",
    "7. Intro to PyPI\n",
    "8. Using `pip` and downloading/installing modules"
   ]
  },
  {
   "cell_type": "code",
   "execution_count": 2,
   "id": "7b059386",
   "metadata": {},
   "outputs": [
    {
     "name": "stdout",
     "output_type": "stream",
     "text": [
      "Enter your name: Reuven\n",
      "Hello, Reuven!\n",
      "Enter your name: \n"
     ]
    }
   ],
   "source": [
    "# what is the walrus operator, why do we care, and how do we use it?\n",
    "\n",
    "# start with a simple loop\n",
    "\n",
    "while True:\n",
    "    name = input('Enter your name: ').strip()\n",
    "    \n",
    "    if name == '':  # did we get an empty string?  If so, then leave the loop\n",
    "        break\n",
    "        \n",
    "    print(f'Hello, {name}!')"
   ]
  },
  {
   "cell_type": "code",
   "execution_count": 3,
   "id": "427d1f40",
   "metadata": {},
   "outputs": [
    {
     "name": "stdout",
     "output_type": "stream",
     "text": [
      "Enter your name: Reuven\n",
      "Hello, Reuven!\n",
      "Enter your name: world\n",
      "Hello, world!\n",
      "Enter your name: asdfsafas\n",
      "Hello, asdfsafas!\n",
      "Enter your name: \n"
     ]
    }
   ],
   "source": [
    "# another way to check for an empty string\n",
    "# empty strings are considered False in an if/while\n",
    "# all other strings are considered True in an if/while\n",
    "\n",
    "while True:\n",
    "    name = input('Enter your name: ').strip()\n",
    "    \n",
    "    if name:   # did we get a non-empty string?\n",
    "        print(f'Hello, {name}!')\n",
    "    else:      # did we get an empty string?\n",
    "        break"
   ]
  },
  {
   "cell_type": "code",
   "execution_count": 4,
   "id": "99aaa8fa",
   "metadata": {},
   "outputs": [
    {
     "name": "stdout",
     "output_type": "stream",
     "text": [
      "Enter your name: asdfa\n",
      "Hello, asdfa!\n",
      "Enter your name: asdfa\n",
      "Hello, asdfa!\n",
      "Enter your name: \n"
     ]
    }
   ],
   "source": [
    "# rewrite this once again...\n",
    "\n",
    "while True:\n",
    "    name = input('Enter your name: ').strip()\n",
    "    \n",
    "    if not name:   # '' (empty string) is False next to an if\n",
    "        break       #  again, this means: break if we have an empty string\n",
    "\n",
    "    print(f'Hello, {name}!')\n"
   ]
  },
  {
   "cell_type": "code",
   "execution_count": 5,
   "id": "b6534a04",
   "metadata": {},
   "outputs": [
    {
     "ename": "SyntaxError",
     "evalue": "invalid syntax. Maybe you meant '==' or ':=' instead of '='? (1395544256.py, line 12)",
     "output_type": "error",
     "traceback": [
      "\u001b[0;36m  File \u001b[0;32m\"/var/folders/rr/0mnyyv811fs5vyp22gf4fxk00000gn/T/ipykernel_12859/1395544256.py\"\u001b[0;36m, line \u001b[0;32m12\u001b[0m\n\u001b[0;31m    while name = input('Enter your name: ').strip():\u001b[0m\n\u001b[0m          ^\u001b[0m\n\u001b[0;31mSyntaxError\u001b[0m\u001b[0;31m:\u001b[0m invalid syntax. Maybe you meant '==' or ':=' instead of '='?\n"
     ]
    }
   ],
   "source": [
    "# can we rewrite things to be shorter?\n",
    "\n",
    "# while looks to its right (like if) and looks for a True/False value\n",
    "# if all goes well, then in the below code:\n",
    "\n",
    "# (1) with each iteration, we get the user's name\n",
    "# (2) we strip it of whitespace\n",
    "# (3) we assign the value to name\n",
    "# (4) \"while\" looks to its right -- empty string? stop. non-empty string? run the loop block\n",
    "\n",
    "\n",
    "while name = input('Enter your name: ').strip():\n",
    "    \n",
    "    print(f'Hello, {name}!')"
   ]
  },
  {
   "cell_type": "code",
   "execution_count": 6,
   "id": "276f4d3b",
   "metadata": {},
   "outputs": [
    {
     "name": "stdout",
     "output_type": "stream",
     "text": [
      "Enter your name: Reuven\n",
      "Hello, Reuven!\n",
      "Enter your name: asdfafd\n",
      "Hello, asdfafd!\n",
      "Enter your name: \n"
     ]
    }
   ],
   "source": [
    "# the walrus operator, :=  (looks like a walrus if you turn your head 90 degrees to the left)\n",
    "# this operator does two things:\n",
    "\n",
    "# (1) everything = does\n",
    "# (2) returns a value\n",
    "\n",
    "# now our while loop looks to its right, and it *DOES* get a value back\n",
    "\n",
    "while name := input('Enter your name: ').strip():\n",
    "    \n",
    "    print(f'Hello, {name}!')"
   ]
  },
  {
   "cell_type": "code",
   "execution_count": 7,
   "id": "6c128649",
   "metadata": {},
   "outputs": [
    {
     "name": "stdout",
     "output_type": "stream",
     "text": [
      "False-ish\n"
     ]
    }
   ],
   "source": [
    "s = ''  # empty string\n",
    "\n",
    "if s:  # putting s (the string) in a \"boolean context,\" in an \"if\" or \"while\"\n",
    "    print('True-ish')\n",
    "else:\n",
    "    print('False-ish')"
   ]
  },
  {
   "cell_type": "code",
   "execution_count": 9,
   "id": "f7efc847",
   "metadata": {},
   "outputs": [
    {
     "name": "stdout",
     "output_type": "stream",
     "text": [
      "Yes, it is empty!\n"
     ]
    }
   ],
   "source": [
    "s = ''  # empty string\n",
    "\n",
    "if not s:  # putting s (the string) in a \"boolean context,\" in an \"if\" or \"while\"\n",
    "    print('Yes, it is empty!')\n",
    "else:\n",
    "    print('No, it is not empty!')"
   ]
  },
  {
   "cell_type": "markdown",
   "id": "9cc692ee",
   "metadata": {},
   "source": [
    "# Python Skills Challenge: Functions\n",
    "\n",
    "In this challenge, you are to write a function `count_ips`. The function will take a single argument, a string naming a logfile from a Web server.  The function will return a Python dict, in which the keys are IP addresses from the file, and the values represent the number of times each IP address made a request from the site.\n",
    "\n",
    "Here are the first few lines from the sort of logfile the function should expect:\n",
    "\n",
    "```\n",
    "67.218.116.165 - - [30/Jan/2010:00:03:18 +0200] \"GET /robots.txt HTTP/1.0\" 200 99 \"-\" \"Mozilla/5.0 (Twiceler-0.9 http://www.cuil.com/twiceler/robot.html)\"\n",
    "66.249.71.65 - - [30/Jan/2010:00:12:06 +0200] \"GET /browse/one_node/1557 HTTP/1.1\" 200 39208 \"-\" \"Mozilla/5.0 (compatible; Googlebot/2.1; +http://www.google.com/bot.html)\"\n",
    "65.55.106.183 - - [30/Jan/2010:01:29:23 +0200] \"GET /robots.txt HTTP/1.1\" 200 99 \"-\" \"msnbot/2.0b (+http://search.msn.com/msnbot.htm)\"\n",
    "65.55.106.183 - - [30/Jan/2010:01:30:06 +0200] \"GET /browse/one_model/2162 HTTP/1.1\" 200 2181 \"-\" \"msnbot/2.0b (+http://search.msn.com/msnbot.htm)\"\n",
    "66.249.71.65 - - [30/Jan/2010:02:07:14 +0200] \"GET /browse/browse_applet_tab/2593 HTTP/1.1\" 200 10305 \"-\" \"Mozilla/5.0 (compatible; Googlebot/2.1; +http://www.google.com/bot.html)\"\n",
    "```\n",
    "\n",
    "Notice that each line of the file starts with an IP address, and then has (among other things) the timestamp at which the request was made, the actual request, and an indication of what browser was used to make the request.\n",
    "\n",
    "If the file is empty, then the returned dictionary should be empty.\n",
    "\n",
    "This Katacoda challenge system will test your function against a file, `logfile.txt`, that is in the current `/root` directory. When the function returns the correct values, you will see an indication of this.\n",
    "\n",
    "Good luck!\n"
   ]
  },
  {
   "cell_type": "code",
   "execution_count": 10,
   "id": "2b94cc1b",
   "metadata": {},
   "outputs": [],
   "source": [
    "# write a function, called count_ips\n",
    "# function's sole parameter is \"filename\", name of a logfile\n",
    "# function will output a dictionary \n",
    "#    keys in the dict will be strings (IP addresses)\n",
    "#    values in the dict will be counts -- how many times the address appears"
   ]
  },
  {
   "cell_type": "code",
   "execution_count": 19,
   "id": "1865d54c",
   "metadata": {},
   "outputs": [],
   "source": [
    "def count_ips(filename):\n",
    "    output = {}                    # output is a local variable in the \"count_ips\" function\n",
    "    \n",
    "    for one_line in open(filename):\n",
    "        fields = one_line.split()  # turn each line from the file into a list of strings\n",
    "        ip_address = fields[0]     # grab the first field on the line, the IP address\n",
    "\n",
    "        if ip_address in output:   # have we seen this IP address before?\n",
    "            output[ip_address] += 1\n",
    "        else:\n",
    "            output[ip_address] = 1     # first time seeing this IP, we'll assign 1\n",
    "    \n",
    "    return output"
   ]
  },
  {
   "cell_type": "code",
   "execution_count": 22,
   "id": "b0856dc1",
   "metadata": {},
   "outputs": [
    {
     "name": "stdout",
     "output_type": "stream",
     "text": [
      "67.218.116.165:\t2\n",
      "66.249.71.65:\t3\n",
      "65.55.106.183:\t2\n",
      "66.249.65.12:\t32\n",
      "65.55.106.131:\t2\n",
      "65.55.106.186:\t2\n",
      "74.52.245.146:\t2\n",
      "66.249.65.43:\t3\n",
      "65.55.207.25:\t2\n",
      "65.55.207.94:\t2\n",
      "65.55.207.71:\t1\n",
      "98.242.170.241:\t1\n",
      "66.249.65.38:\t100\n",
      "65.55.207.126:\t2\n",
      "82.34.9.20:\t2\n",
      "65.55.106.155:\t2\n",
      "65.55.207.77:\t2\n",
      "208.80.193.28:\t1\n",
      "89.248.172.58:\t22\n",
      "67.195.112.35:\t16\n",
      "65.55.207.50:\t3\n",
      "65.55.215.75:\t2\n"
     ]
    }
   ],
   "source": [
    "# run the function against the file\n",
    "d = count_ips('mini-access-log.txt')\n",
    "\n",
    "# d is a dict, so I can run \"items\" on it, and iterate over keys and values\n",
    "for key, value in d.items():\n",
    "    print(f'{key}:\\t{value}')"
   ]
  },
  {
   "cell_type": "code",
   "execution_count": 24,
   "id": "51ea19ce",
   "metadata": {},
   "outputs": [],
   "source": [
    "from friendly.jupyter import Friendly"
   ]
  },
  {
   "cell_type": "markdown",
   "id": "84e85515",
   "metadata": {},
   "source": [
    "# DRY -- don't repeat yourself!\n",
    "\n",
    "1. If I have several lines in a row that are basically the same, I can DRY them up by using a loop.\n",
    "2. If I have the same code repeated several times across my program, I can DRY them up by using a function.\n",
    "3. If I have the same code repeated across SEVERAL DIFFERENT PROGRAMS, then I can use a \"library.\" \n",
    "\n",
    "A library is a collection of functions and data that you can reuse, and avoid re-inventing the wheel.\n",
    "\n",
    "Anyone can write a library:\n",
    "- You can write a library with commonly used functions and data\n",
    "- Your group at work might write a library to handle common tasks, functionality, file types\n",
    "- Your company might supply standard libraries for everyone to use for standard tasks (e.g., logging into the security system, or working with file types, or accessing the database)\n",
    "- Your software vendors might supply libraries that allow you access to their files, functionality, security, etc.\n",
    "- Your operating system is basically a bunch of libraries, which you can use from your program to communicate with the disk, printer, network, etc.\n",
    "\n",
    "In Python, we call libraries \"modules.\"  And modules are extremely common, and extremely handy."
   ]
  },
  {
   "cell_type": "markdown",
   "id": "bcdf3f45",
   "metadata": {},
   "source": [
    "# We use `import` to make use of a module\n",
    "\n",
    "The `import` statement is very common in Python, because it lets us load a module into memory and make use of its functions and data.\n",
    "\n",
    "If I want a random number, I can use the `import` statement to load the `random` module. In the `random` module, we have a bunch of different functions that have to do with random numbers."
   ]
  },
  {
   "cell_type": "code",
   "execution_count": 25,
   "id": "c31cfe20",
   "metadata": {},
   "outputs": [],
   "source": [
    "import random"
   ]
  },
  {
   "cell_type": "markdown",
   "id": "ae95c66d",
   "metadata": {},
   "source": [
    "# Things to notice about `import`\n",
    "\n",
    "1. It's not a function.  We don't use `()` around its argument.  It's a statement that has a single word after it.\n",
    "2. In many languages, we indicate which file we want to load. Not in Python! We indicate what module we want to load, and based on that, Python tries to find the file and load it.\n",
    "3. After the module is loaded, you can access all of the module's functionality with the module's name and a dot `.`.  "
   ]
  },
  {
   "cell_type": "code",
   "execution_count": 26,
   "id": "99691f27",
   "metadata": {},
   "outputs": [
    {
     "data": {
      "text/html": [
       "<pre style='white-space:pre;overflow-x:auto;line-height:normal'><span style=\"font-weight: bold\">&lt;</span><span style=\"color: #ff00ff; text-decoration-color: #ff00ff; font-weight: bold\">class</span><span style=\"color: #000000; text-decoration-color: #000000\"> </span><span style=\"color: #008000; text-decoration-color: #008000\">'module'</span><span style=\"font-weight: bold\">&gt;</span>\n",
       "</pre>"
      ],
      "text/plain": [
       "\u001b[1m<\u001b[0m\u001b[1;95mclass\u001b[0m\u001b[39m \u001b[0m\u001b[32m'module'\u001b[0m\u001b[1m>\u001b[0m\n"
      ]
     },
     "metadata": {},
     "output_type": "display_data"
    }
   ],
   "source": [
    "# now that I've said \"import random\", \"random\" is a variable defined in my system\n",
    "type(random)  # what kind of object does it contain?"
   ]
  },
  {
   "cell_type": "code",
   "execution_count": 27,
   "id": "8a8d1a9a",
   "metadata": {},
   "outputs": [
    {
     "data": {
      "text/html": [
       "<pre style='white-space:pre;overflow-x:auto;line-height:normal'>\n",
       "<span style=\"font-weight: bold\">[</span>\n",
       "<span style=\"color: #7fbf7f; text-decoration-color: #7fbf7f\">│   </span><span style=\"color: #008000; text-decoration-color: #008000\">'BPF'</span>,\n",
       "<span style=\"color: #7fbf7f; text-decoration-color: #7fbf7f\">│   </span><span style=\"color: #008000; text-decoration-color: #008000\">'LOG4'</span>,\n",
       "<span style=\"color: #7fbf7f; text-decoration-color: #7fbf7f\">│   </span><span style=\"color: #008000; text-decoration-color: #008000\">'NV_MAGICCONST'</span>,\n",
       "<span style=\"color: #7fbf7f; text-decoration-color: #7fbf7f\">│   </span><span style=\"color: #008000; text-decoration-color: #008000\">'RECIP_BPF'</span>,\n",
       "<span style=\"color: #7fbf7f; text-decoration-color: #7fbf7f\">│   </span><span style=\"color: #008000; text-decoration-color: #008000\">'Random'</span>,\n",
       "<span style=\"color: #7fbf7f; text-decoration-color: #7fbf7f\">│   </span><span style=\"color: #008000; text-decoration-color: #008000\">'SG_MAGICCONST'</span>,\n",
       "<span style=\"color: #7fbf7f; text-decoration-color: #7fbf7f\">│   </span><span style=\"color: #008000; text-decoration-color: #008000\">'SystemRandom'</span>,\n",
       "<span style=\"color: #7fbf7f; text-decoration-color: #7fbf7f\">│   </span><span style=\"color: #008000; text-decoration-color: #008000\">'TWOPI'</span>,\n",
       "<span style=\"color: #7fbf7f; text-decoration-color: #7fbf7f\">│   </span><span style=\"color: #008000; text-decoration-color: #008000\">'_ONE'</span>,\n",
       "<span style=\"color: #7fbf7f; text-decoration-color: #7fbf7f\">│   </span><span style=\"color: #008000; text-decoration-color: #008000\">'_Sequence'</span>,\n",
       "<span style=\"color: #7fbf7f; text-decoration-color: #7fbf7f\">│   </span><span style=\"color: #008000; text-decoration-color: #008000\">'_Set'</span>,\n",
       "<span style=\"color: #7fbf7f; text-decoration-color: #7fbf7f\">│   </span><span style=\"color: #008000; text-decoration-color: #008000\">'__all__'</span>,\n",
       "<span style=\"color: #7fbf7f; text-decoration-color: #7fbf7f\">│   </span><span style=\"color: #008000; text-decoration-color: #008000\">'__builtins__'</span>,\n",
       "<span style=\"color: #7fbf7f; text-decoration-color: #7fbf7f\">│   </span><span style=\"color: #008000; text-decoration-color: #008000\">'__cached__'</span>,\n",
       "<span style=\"color: #7fbf7f; text-decoration-color: #7fbf7f\">│   </span><span style=\"color: #008000; text-decoration-color: #008000\">'__doc__'</span>,\n",
       "<span style=\"color: #7fbf7f; text-decoration-color: #7fbf7f\">│   </span><span style=\"color: #008000; text-decoration-color: #008000\">'__file__'</span>,\n",
       "<span style=\"color: #7fbf7f; text-decoration-color: #7fbf7f\">│   </span><span style=\"color: #008000; text-decoration-color: #008000\">'__loader__'</span>,\n",
       "<span style=\"color: #7fbf7f; text-decoration-color: #7fbf7f\">│   </span><span style=\"color: #008000; text-decoration-color: #008000\">'__name__'</span>,\n",
       "<span style=\"color: #7fbf7f; text-decoration-color: #7fbf7f\">│   </span><span style=\"color: #008000; text-decoration-color: #008000\">'__package__'</span>,\n",
       "<span style=\"color: #7fbf7f; text-decoration-color: #7fbf7f\">│   </span><span style=\"color: #008000; text-decoration-color: #008000\">'__spec__'</span>,\n",
       "<span style=\"color: #7fbf7f; text-decoration-color: #7fbf7f\">│   </span><span style=\"color: #008000; text-decoration-color: #008000\">'_accumulate'</span>,\n",
       "<span style=\"color: #7fbf7f; text-decoration-color: #7fbf7f\">│   </span><span style=\"color: #008000; text-decoration-color: #008000\">'_acos'</span>,\n",
       "<span style=\"color: #7fbf7f; text-decoration-color: #7fbf7f\">│   </span><span style=\"color: #008000; text-decoration-color: #008000\">'_bisect'</span>,\n",
       "<span style=\"color: #7fbf7f; text-decoration-color: #7fbf7f\">│   </span><span style=\"color: #008000; text-decoration-color: #008000\">'_ceil'</span>,\n",
       "<span style=\"color: #7fbf7f; text-decoration-color: #7fbf7f\">│   </span><span style=\"color: #008000; text-decoration-color: #008000\">'_cos'</span>,\n",
       "<span style=\"color: #7fbf7f; text-decoration-color: #7fbf7f\">│   </span><span style=\"color: #008000; text-decoration-color: #008000\">'_e'</span>,\n",
       "<span style=\"color: #7fbf7f; text-decoration-color: #7fbf7f\">│   </span><span style=\"color: #008000; text-decoration-color: #008000\">'_exp'</span>,\n",
       "<span style=\"color: #7fbf7f; text-decoration-color: #7fbf7f\">│   </span><span style=\"color: #008000; text-decoration-color: #008000\">'_floor'</span>,\n",
       "<span style=\"color: #7fbf7f; text-decoration-color: #7fbf7f\">│   </span><span style=\"color: #008000; text-decoration-color: #008000\">'_index'</span>,\n",
       "<span style=\"color: #7fbf7f; text-decoration-color: #7fbf7f\">│   </span><span style=\"color: #008000; text-decoration-color: #008000\">'_inst'</span>,\n",
       "<span style=\"color: #7fbf7f; text-decoration-color: #7fbf7f\">│   </span><span style=\"color: #008000; text-decoration-color: #008000\">'_isfinite'</span>,\n",
       "<span style=\"color: #7fbf7f; text-decoration-color: #7fbf7f\">│   </span><span style=\"color: #008000; text-decoration-color: #008000\">'_log'</span>,\n",
       "<span style=\"color: #7fbf7f; text-decoration-color: #7fbf7f\">│   </span><span style=\"color: #008000; text-decoration-color: #008000\">'_os'</span>,\n",
       "<span style=\"color: #7fbf7f; text-decoration-color: #7fbf7f\">│   </span><span style=\"color: #008000; text-decoration-color: #008000\">'_pi'</span>,\n",
       "<span style=\"color: #7fbf7f; text-decoration-color: #7fbf7f\">│   </span><span style=\"color: #008000; text-decoration-color: #008000\">'_random'</span>,\n",
       "<span style=\"color: #7fbf7f; text-decoration-color: #7fbf7f\">│   </span><span style=\"color: #008000; text-decoration-color: #008000\">'_repeat'</span>,\n",
       "<span style=\"color: #7fbf7f; text-decoration-color: #7fbf7f\">│   </span><span style=\"color: #008000; text-decoration-color: #008000\">'_sha512'</span>,\n",
       "<span style=\"color: #7fbf7f; text-decoration-color: #7fbf7f\">│   </span><span style=\"color: #008000; text-decoration-color: #008000\">'_sin'</span>,\n",
       "<span style=\"color: #7fbf7f; text-decoration-color: #7fbf7f\">│   </span><span style=\"color: #008000; text-decoration-color: #008000\">'_sqrt'</span>,\n",
       "<span style=\"color: #7fbf7f; text-decoration-color: #7fbf7f\">│   </span><span style=\"color: #008000; text-decoration-color: #008000\">'_test'</span>,\n",
       "<span style=\"color: #7fbf7f; text-decoration-color: #7fbf7f\">│   </span><span style=\"color: #008000; text-decoration-color: #008000\">'_test_generator'</span>,\n",
       "<span style=\"color: #7fbf7f; text-decoration-color: #7fbf7f\">│   </span><span style=\"color: #008000; text-decoration-color: #008000\">'_urandom'</span>,\n",
       "<span style=\"color: #7fbf7f; text-decoration-color: #7fbf7f\">│   </span><span style=\"color: #008000; text-decoration-color: #008000\">'_warn'</span>,\n",
       "<span style=\"color: #7fbf7f; text-decoration-color: #7fbf7f\">│   </span><span style=\"color: #008000; text-decoration-color: #008000\">'betavariate'</span>,\n",
       "<span style=\"color: #7fbf7f; text-decoration-color: #7fbf7f\">│   </span><span style=\"color: #008000; text-decoration-color: #008000\">'choice'</span>,\n",
       "<span style=\"color: #7fbf7f; text-decoration-color: #7fbf7f\">│   </span><span style=\"color: #008000; text-decoration-color: #008000\">'choices'</span>,\n",
       "<span style=\"color: #7fbf7f; text-decoration-color: #7fbf7f\">│   </span><span style=\"color: #008000; text-decoration-color: #008000\">'expovariate'</span>,\n",
       "<span style=\"color: #7fbf7f; text-decoration-color: #7fbf7f\">│   </span><span style=\"color: #008000; text-decoration-color: #008000\">'gammavariate'</span>,\n",
       "<span style=\"color: #7fbf7f; text-decoration-color: #7fbf7f\">│   </span><span style=\"color: #008000; text-decoration-color: #008000\">'gauss'</span>,\n",
       "<span style=\"color: #7fbf7f; text-decoration-color: #7fbf7f\">│   </span><span style=\"color: #008000; text-decoration-color: #008000\">'getrandbits'</span>,\n",
       "<span style=\"color: #7fbf7f; text-decoration-color: #7fbf7f\">│   </span><span style=\"color: #008000; text-decoration-color: #008000\">'getstate'</span>,\n",
       "<span style=\"color: #7fbf7f; text-decoration-color: #7fbf7f\">│   </span><span style=\"color: #008000; text-decoration-color: #008000\">'lognormvariate'</span>,\n",
       "<span style=\"color: #7fbf7f; text-decoration-color: #7fbf7f\">│   </span><span style=\"color: #008000; text-decoration-color: #008000\">'normalvariate'</span>,\n",
       "<span style=\"color: #7fbf7f; text-decoration-color: #7fbf7f\">│   </span><span style=\"color: #008000; text-decoration-color: #008000\">'paretovariate'</span>,\n",
       "<span style=\"color: #7fbf7f; text-decoration-color: #7fbf7f\">│   </span><span style=\"color: #008000; text-decoration-color: #008000\">'randbytes'</span>,\n",
       "<span style=\"color: #7fbf7f; text-decoration-color: #7fbf7f\">│   </span><span style=\"color: #008000; text-decoration-color: #008000\">'randint'</span>,\n",
       "<span style=\"color: #7fbf7f; text-decoration-color: #7fbf7f\">│   </span><span style=\"color: #008000; text-decoration-color: #008000\">'random'</span>,\n",
       "<span style=\"color: #7fbf7f; text-decoration-color: #7fbf7f\">│   </span><span style=\"color: #008000; text-decoration-color: #008000\">'randrange'</span>,\n",
       "<span style=\"color: #7fbf7f; text-decoration-color: #7fbf7f\">│   </span><span style=\"color: #008000; text-decoration-color: #008000\">'sample'</span>,\n",
       "<span style=\"color: #7fbf7f; text-decoration-color: #7fbf7f\">│   </span><span style=\"color: #008000; text-decoration-color: #008000\">'seed'</span>,\n",
       "<span style=\"color: #7fbf7f; text-decoration-color: #7fbf7f\">│   </span><span style=\"color: #008000; text-decoration-color: #008000\">'setstate'</span>,\n",
       "<span style=\"color: #7fbf7f; text-decoration-color: #7fbf7f\">│   </span><span style=\"color: #008000; text-decoration-color: #008000\">'shuffle'</span>,\n",
       "<span style=\"color: #7fbf7f; text-decoration-color: #7fbf7f\">│   </span><span style=\"color: #008000; text-decoration-color: #008000\">'triangular'</span>,\n",
       "<span style=\"color: #7fbf7f; text-decoration-color: #7fbf7f\">│   </span><span style=\"color: #008000; text-decoration-color: #008000\">'uniform'</span>,\n",
       "<span style=\"color: #7fbf7f; text-decoration-color: #7fbf7f\">│   </span><span style=\"color: #008000; text-decoration-color: #008000\">'vonmisesvariate'</span>,\n",
       "<span style=\"color: #7fbf7f; text-decoration-color: #7fbf7f\">│   </span><span style=\"color: #008000; text-decoration-color: #008000\">'weibullvariate'</span>\n",
       "<span style=\"font-weight: bold\">]</span>\n",
       "</pre>"
      ],
      "text/plain": [
       "\n",
       "\u001b[1m[\u001b[0m\n",
       "\u001b[2;32m│   \u001b[0m\u001b[32m'BPF'\u001b[0m,\n",
       "\u001b[2;32m│   \u001b[0m\u001b[32m'LOG4'\u001b[0m,\n",
       "\u001b[2;32m│   \u001b[0m\u001b[32m'NV_MAGICCONST'\u001b[0m,\n",
       "\u001b[2;32m│   \u001b[0m\u001b[32m'RECIP_BPF'\u001b[0m,\n",
       "\u001b[2;32m│   \u001b[0m\u001b[32m'Random'\u001b[0m,\n",
       "\u001b[2;32m│   \u001b[0m\u001b[32m'SG_MAGICCONST'\u001b[0m,\n",
       "\u001b[2;32m│   \u001b[0m\u001b[32m'SystemRandom'\u001b[0m,\n",
       "\u001b[2;32m│   \u001b[0m\u001b[32m'TWOPI'\u001b[0m,\n",
       "\u001b[2;32m│   \u001b[0m\u001b[32m'_ONE'\u001b[0m,\n",
       "\u001b[2;32m│   \u001b[0m\u001b[32m'_Sequence'\u001b[0m,\n",
       "\u001b[2;32m│   \u001b[0m\u001b[32m'_Set'\u001b[0m,\n",
       "\u001b[2;32m│   \u001b[0m\u001b[32m'__all__'\u001b[0m,\n",
       "\u001b[2;32m│   \u001b[0m\u001b[32m'__builtins__'\u001b[0m,\n",
       "\u001b[2;32m│   \u001b[0m\u001b[32m'__cached__'\u001b[0m,\n",
       "\u001b[2;32m│   \u001b[0m\u001b[32m'__doc__'\u001b[0m,\n",
       "\u001b[2;32m│   \u001b[0m\u001b[32m'__file__'\u001b[0m,\n",
       "\u001b[2;32m│   \u001b[0m\u001b[32m'__loader__'\u001b[0m,\n",
       "\u001b[2;32m│   \u001b[0m\u001b[32m'__name__'\u001b[0m,\n",
       "\u001b[2;32m│   \u001b[0m\u001b[32m'__package__'\u001b[0m,\n",
       "\u001b[2;32m│   \u001b[0m\u001b[32m'__spec__'\u001b[0m,\n",
       "\u001b[2;32m│   \u001b[0m\u001b[32m'_accumulate'\u001b[0m,\n",
       "\u001b[2;32m│   \u001b[0m\u001b[32m'_acos'\u001b[0m,\n",
       "\u001b[2;32m│   \u001b[0m\u001b[32m'_bisect'\u001b[0m,\n",
       "\u001b[2;32m│   \u001b[0m\u001b[32m'_ceil'\u001b[0m,\n",
       "\u001b[2;32m│   \u001b[0m\u001b[32m'_cos'\u001b[0m,\n",
       "\u001b[2;32m│   \u001b[0m\u001b[32m'_e'\u001b[0m,\n",
       "\u001b[2;32m│   \u001b[0m\u001b[32m'_exp'\u001b[0m,\n",
       "\u001b[2;32m│   \u001b[0m\u001b[32m'_floor'\u001b[0m,\n",
       "\u001b[2;32m│   \u001b[0m\u001b[32m'_index'\u001b[0m,\n",
       "\u001b[2;32m│   \u001b[0m\u001b[32m'_inst'\u001b[0m,\n",
       "\u001b[2;32m│   \u001b[0m\u001b[32m'_isfinite'\u001b[0m,\n",
       "\u001b[2;32m│   \u001b[0m\u001b[32m'_log'\u001b[0m,\n",
       "\u001b[2;32m│   \u001b[0m\u001b[32m'_os'\u001b[0m,\n",
       "\u001b[2;32m│   \u001b[0m\u001b[32m'_pi'\u001b[0m,\n",
       "\u001b[2;32m│   \u001b[0m\u001b[32m'_random'\u001b[0m,\n",
       "\u001b[2;32m│   \u001b[0m\u001b[32m'_repeat'\u001b[0m,\n",
       "\u001b[2;32m│   \u001b[0m\u001b[32m'_sha512'\u001b[0m,\n",
       "\u001b[2;32m│   \u001b[0m\u001b[32m'_sin'\u001b[0m,\n",
       "\u001b[2;32m│   \u001b[0m\u001b[32m'_sqrt'\u001b[0m,\n",
       "\u001b[2;32m│   \u001b[0m\u001b[32m'_test'\u001b[0m,\n",
       "\u001b[2;32m│   \u001b[0m\u001b[32m'_test_generator'\u001b[0m,\n",
       "\u001b[2;32m│   \u001b[0m\u001b[32m'_urandom'\u001b[0m,\n",
       "\u001b[2;32m│   \u001b[0m\u001b[32m'_warn'\u001b[0m,\n",
       "\u001b[2;32m│   \u001b[0m\u001b[32m'betavariate'\u001b[0m,\n",
       "\u001b[2;32m│   \u001b[0m\u001b[32m'choice'\u001b[0m,\n",
       "\u001b[2;32m│   \u001b[0m\u001b[32m'choices'\u001b[0m,\n",
       "\u001b[2;32m│   \u001b[0m\u001b[32m'expovariate'\u001b[0m,\n",
       "\u001b[2;32m│   \u001b[0m\u001b[32m'gammavariate'\u001b[0m,\n",
       "\u001b[2;32m│   \u001b[0m\u001b[32m'gauss'\u001b[0m,\n",
       "\u001b[2;32m│   \u001b[0m\u001b[32m'getrandbits'\u001b[0m,\n",
       "\u001b[2;32m│   \u001b[0m\u001b[32m'getstate'\u001b[0m,\n",
       "\u001b[2;32m│   \u001b[0m\u001b[32m'lognormvariate'\u001b[0m,\n",
       "\u001b[2;32m│   \u001b[0m\u001b[32m'normalvariate'\u001b[0m,\n",
       "\u001b[2;32m│   \u001b[0m\u001b[32m'paretovariate'\u001b[0m,\n",
       "\u001b[2;32m│   \u001b[0m\u001b[32m'randbytes'\u001b[0m,\n",
       "\u001b[2;32m│   \u001b[0m\u001b[32m'randint'\u001b[0m,\n",
       "\u001b[2;32m│   \u001b[0m\u001b[32m'random'\u001b[0m,\n",
       "\u001b[2;32m│   \u001b[0m\u001b[32m'randrange'\u001b[0m,\n",
       "\u001b[2;32m│   \u001b[0m\u001b[32m'sample'\u001b[0m,\n",
       "\u001b[2;32m│   \u001b[0m\u001b[32m'seed'\u001b[0m,\n",
       "\u001b[2;32m│   \u001b[0m\u001b[32m'setstate'\u001b[0m,\n",
       "\u001b[2;32m│   \u001b[0m\u001b[32m'shuffle'\u001b[0m,\n",
       "\u001b[2;32m│   \u001b[0m\u001b[32m'triangular'\u001b[0m,\n",
       "\u001b[2;32m│   \u001b[0m\u001b[32m'uniform'\u001b[0m,\n",
       "\u001b[2;32m│   \u001b[0m\u001b[32m'vonmisesvariate'\u001b[0m,\n",
       "\u001b[2;32m│   \u001b[0m\u001b[32m'weibullvariate'\u001b[0m\n",
       "\u001b[1m]\u001b[0m\n"
      ]
     },
     "metadata": {},
     "output_type": "display_data"
    }
   ],
   "source": [
    "# what names are available after the . when I use random?\n",
    "# I can find out by running the \"dir\" function on random\n",
    "\n",
    "dir(random)   # this gives me a list of strings -- what names are available"
   ]
  },
  {
   "cell_type": "code",
   "execution_count": 28,
   "id": "bcfb6fd5",
   "metadata": {},
   "outputs": [
    {
     "data": {
      "text/html": [
       "<pre style='white-space:pre;overflow-x:auto;line-height:normal'><span style=\"color: #008080; text-decoration-color: #008080; font-weight: bold\">100</span>\n",
       "</pre>"
      ],
      "text/plain": [
       "\u001b[1;36m100\u001b[0m\n"
      ]
     },
     "metadata": {},
     "output_type": "display_data"
    }
   ],
   "source": [
    "# once I've loaded random, I can invoke the random.randint function on it:\n",
    "random.randint(0, 100)"
   ]
  },
  {
   "cell_type": "code",
   "execution_count": 29,
   "id": "8c63ca02",
   "metadata": {},
   "outputs": [
    {
     "data": {
      "text/html": [
       "<pre style='white-space:pre;overflow-x:auto;line-height:normal'><span style=\"color: #008080; text-decoration-color: #008080; font-weight: bold\">46</span>\n",
       "</pre>"
      ],
      "text/plain": [
       "\u001b[1;36m46\u001b[0m\n"
      ]
     },
     "metadata": {},
     "output_type": "display_data"
    }
   ],
   "source": [
    "random.randint(0, 100)"
   ]
  },
  {
   "cell_type": "code",
   "execution_count": 30,
   "id": "71bf1afc",
   "metadata": {},
   "outputs": [
    {
     "data": {
      "text/html": [
       "<pre style='white-space:pre;overflow-x:auto;line-height:normal'><span style=\"color: #008000; text-decoration-color: #008000\">'e'</span>\n",
       "</pre>"
      ],
      "text/plain": [
       "\u001b[32m'e'\u001b[0m\n"
      ]
     },
     "metadata": {},
     "output_type": "display_data"
    }
   ],
   "source": [
    "random.choice('abcde')"
   ]
  },
  {
   "cell_type": "code",
   "execution_count": 31,
   "id": "1611d0dd",
   "metadata": {},
   "outputs": [
    {
     "data": {
      "text/html": [
       "<pre style='white-space:pre;overflow-x:auto;line-height:normal'><span style=\"color: #008000; text-decoration-color: #008000\">'d'</span>\n",
       "</pre>"
      ],
      "text/plain": [
       "\u001b[32m'd'\u001b[0m\n"
      ]
     },
     "metadata": {},
     "output_type": "display_data"
    }
   ],
   "source": [
    "random.choice('abcde')"
   ]
  },
  {
   "cell_type": "code",
   "execution_count": 32,
   "id": "cc200a5d",
   "metadata": {},
   "outputs": [
    {
     "name": "stdout",
     "output_type": "stream",
     "text": [
      "Help on method shuffle in module random:\n",
      "\n",
      "shuffle(x, random=None) method of random.Random instance\n",
      "    Shuffle list x in place, and return None.\n",
      "    \n",
      "    Optional argument random is a 0-argument function returning a\n",
      "    random float in [0.0, 1.0); if it is the default None, the\n",
      "    standard random.random will be used.\n",
      "\n"
     ]
    }
   ],
   "source": [
    "# if you want to know more about a function, you can\n",
    "# (a) look up the documentation on python.org\n",
    "# (b) if you're in Jupyter, you can run the \"help\" function on the function you want\n",
    "\n",
    "help(random.shuffle)"
   ]
  },
  {
   "cell_type": "code",
   "execution_count": 33,
   "id": "c12568c0",
   "metadata": {},
   "outputs": [
    {
     "data": {
      "text/html": [
       "<pre style='white-space:pre;overflow-x:auto;line-height:normal'><span style=\"font-weight: bold\">[</span><span style=\"color: #008080; text-decoration-color: #008080; font-weight: bold\">40</span>, <span style=\"color: #008080; text-decoration-color: #008080; font-weight: bold\">50</span>, <span style=\"color: #008080; text-decoration-color: #008080; font-weight: bold\">20</span>, <span style=\"color: #008080; text-decoration-color: #008080; font-weight: bold\">30</span>, <span style=\"color: #008080; text-decoration-color: #008080; font-weight: bold\">10</span><span style=\"font-weight: bold\">]</span>\n",
       "</pre>"
      ],
      "text/plain": [
       "\u001b[1m[\u001b[0m\u001b[1;36m40\u001b[0m, \u001b[1;36m50\u001b[0m, \u001b[1;36m20\u001b[0m, \u001b[1;36m30\u001b[0m, \u001b[1;36m10\u001b[0m\u001b[1m]\u001b[0m\n"
      ]
     },
     "metadata": {},
     "output_type": "display_data"
    }
   ],
   "source": [
    "mylist = [10, 20, 30, 40, 50]\n",
    "random.shuffle(mylist)\n",
    "\n",
    "mylist"
   ]
  },
  {
   "cell_type": "code",
   "execution_count": 34,
   "id": "f94e3504",
   "metadata": {},
   "outputs": [],
   "source": [
    "?random.choice"
   ]
  },
  {
   "cell_type": "code",
   "execution_count": 35,
   "id": "adbf51f0",
   "metadata": {},
   "outputs": [],
   "source": [
    "random.choice??"
   ]
  },
  {
   "cell_type": "code",
   "execution_count": 36,
   "id": "b9f26516",
   "metadata": {},
   "outputs": [],
   "source": [
    "import glob   # glob is a module that lets us find patterns of filenames, e.g., *.txt"
   ]
  },
  {
   "cell_type": "code",
   "execution_count": 37,
   "id": "8eea528e",
   "metadata": {},
   "outputs": [
    {
     "data": {
      "text/html": [
       "<pre style='white-space:pre;overflow-x:auto;line-height:normal'>\n",
       "<span style=\"font-weight: bold\">[</span>\n",
       "<span style=\"color: #7fbf7f; text-decoration-color: #7fbf7f\">│   </span><span style=\"color: #008000; text-decoration-color: #008000\">'mini-access-log.txt'</span>,\n",
       "<span style=\"color: #7fbf7f; text-decoration-color: #7fbf7f\">│   </span><span style=\"color: #008000; text-decoration-color: #008000\">'nums.txt'</span>,\n",
       "<span style=\"color: #7fbf7f; text-decoration-color: #7fbf7f\">│   </span><span style=\"color: #008000; text-decoration-color: #008000\">'mydict.txt'</span>,\n",
       "<span style=\"color: #7fbf7f; text-decoration-color: #7fbf7f\">│   </span><span style=\"color: #008000; text-decoration-color: #008000\">'mynewfile.txt'</span>,\n",
       "<span style=\"color: #7fbf7f; text-decoration-color: #7fbf7f\">│   </span><span style=\"color: #008000; text-decoration-color: #008000\">'shoe-data.txt'</span>,\n",
       "<span style=\"color: #7fbf7f; text-decoration-color: #7fbf7f\">│   </span><span style=\"color: #008000; text-decoration-color: #008000\">'linux-etc-passwd.txt'</span>,\n",
       "<span style=\"color: #7fbf7f; text-decoration-color: #7fbf7f\">│   </span><span style=\"color: #008000; text-decoration-color: #008000\">'wcfile.txt'</span>,\n",
       "<span style=\"color: #7fbf7f; text-decoration-color: #7fbf7f\">│   </span><span style=\"color: #008000; text-decoration-color: #008000\">'myfile.txt'</span>\n",
       "<span style=\"font-weight: bold\">]</span>\n",
       "</pre>"
      ],
      "text/plain": [
       "\n",
       "\u001b[1m[\u001b[0m\n",
       "\u001b[2;32m│   \u001b[0m\u001b[32m'mini-access-log.txt'\u001b[0m,\n",
       "\u001b[2;32m│   \u001b[0m\u001b[32m'nums.txt'\u001b[0m,\n",
       "\u001b[2;32m│   \u001b[0m\u001b[32m'mydict.txt'\u001b[0m,\n",
       "\u001b[2;32m│   \u001b[0m\u001b[32m'mynewfile.txt'\u001b[0m,\n",
       "\u001b[2;32m│   \u001b[0m\u001b[32m'shoe-data.txt'\u001b[0m,\n",
       "\u001b[2;32m│   \u001b[0m\u001b[32m'linux-etc-passwd.txt'\u001b[0m,\n",
       "\u001b[2;32m│   \u001b[0m\u001b[32m'wcfile.txt'\u001b[0m,\n",
       "\u001b[2;32m│   \u001b[0m\u001b[32m'myfile.txt'\u001b[0m\n",
       "\u001b[1m]\u001b[0m\n"
      ]
     },
     "metadata": {},
     "output_type": "display_data"
    }
   ],
   "source": [
    "glob.glob('*.txt')    # module glob, function glob"
   ]
  },
  {
   "cell_type": "code",
   "execution_count": 38,
   "id": "e4e55984",
   "metadata": {},
   "outputs": [],
   "source": [
    "# Write a function, file_length, that takes a filename and returns the length\n",
    "\n",
    "def file_length(filename):\n",
    "    total = 0    \n",
    "    \n",
    "    for one_line in open(filename):    # go over the file, one line at a time\n",
    "        total += len(one_line)         # add the current line's length to total\n",
    "        \n",
    "    return total      "
   ]
  },
  {
   "cell_type": "code",
   "execution_count": 39,
   "id": "eb5f88a1",
   "metadata": {},
   "outputs": [
    {
     "data": {
      "text/html": [
       "<pre style='white-space:pre;overflow-x:auto;line-height:normal'><span style=\"color: #008080; text-decoration-color: #008080; font-weight: bold\">42</span>\n",
       "</pre>"
      ],
      "text/plain": [
       "\u001b[1;36m42\u001b[0m\n"
      ]
     },
     "metadata": {},
     "output_type": "display_data"
    }
   ],
   "source": [
    "file_length('nums.txt')"
   ]
  },
  {
   "cell_type": "code",
   "execution_count": 40,
   "id": "46218374",
   "metadata": {},
   "outputs": [
    {
     "data": {
      "text/html": [
       "<pre style='white-space:pre;overflow-x:auto;line-height:normal'><span style=\"color: #008080; text-decoration-color: #008080; font-weight: bold\">30</span>\n",
       "</pre>"
      ],
      "text/plain": [
       "\u001b[1;36m30\u001b[0m\n"
      ]
     },
     "metadata": {},
     "output_type": "display_data"
    }
   ],
   "source": [
    "file_length('mynewfile.txt')"
   ]
  },
  {
   "cell_type": "code",
   "execution_count": 41,
   "id": "467a6282",
   "metadata": {},
   "outputs": [
    {
     "data": {
      "text/html": [
       "<pre style='white-space:pre;overflow-x:auto;line-height:normal'><span style=\"color: #008080; text-decoration-color: #008080; font-weight: bold\">2683</span>\n",
       "</pre>"
      ],
      "text/plain": [
       "\u001b[1;36m2683\u001b[0m\n"
      ]
     },
     "metadata": {},
     "output_type": "display_data"
    }
   ],
   "source": [
    "file_length('linux-etc-passwd.txt')"
   ]
  },
  {
   "cell_type": "code",
   "execution_count": 42,
   "id": "a727a268",
   "metadata": {},
   "outputs": [
    {
     "name": "stdout",
     "output_type": "stream",
     "text": [
      "mini-access-log.txt:\t36562\n",
      "nums.txt:\t42\n",
      "mydict.txt:\t18\n",
      "mynewfile.txt:\t30\n",
      "shoe-data.txt:\t1676\n",
      "linux-etc-passwd.txt:\t2683\n",
      "wcfile.txt:\t165\n",
      "myfile.txt:\t30\n"
     ]
    }
   ],
   "source": [
    "# I can combine my new friend, glob.glob, with my new function, file_length:\n",
    "\n",
    "for one_filename in glob.glob('*.txt'):   # for each *.txt file in the current directory\n",
    "    l = file_length(one_filename)\n",
    "    print(f'{one_filename}:\\t{l}')"
   ]
  },
  {
   "cell_type": "code",
   "execution_count": 43,
   "id": "bb2f91dc",
   "metadata": {},
   "outputs": [
    {
     "name": "stdout",
     "output_type": "stream",
     "text": [
      "-rw-r--r-- 1 reuven staff  2683 Mar 13  2016 linux-etc-passwd.txt\r\n",
      "-rw-r--r-- 1 reuven staff 36562 Aug  8  2014 mini-access-log.txt\r\n",
      "-rw-r--r-- 1 reuven staff    18 Jan 20 22:48 mydict.txt\r\n",
      "-rw-r--r-- 1 reuven staff    30 Jan 20 22:35 myfile.txt\r\n",
      "-rw-r--r-- 1 reuven staff    30 Jan 20 22:39 mynewfile.txt\r\n",
      "-rw-r--r-- 1 reuven staff    42 Sep 19  2017 nums.txt\r\n",
      "-rw-r--r-- 1 reuven staff  1676 Dec 14  2014 shoe-data.txt\r\n",
      "-rw-r--r-- 1 reuven staff   165 Nov 19  2013 wcfile.txt\r\n"
     ]
    }
   ],
   "source": [
    "!ls -l *.txt"
   ]
  },
  {
   "cell_type": "markdown",
   "id": "afc65eb4",
   "metadata": {},
   "source": [
    "# Exercise: Pick a random character\n",
    "\n",
    "1. Use `glob.glob` to find all of the text files in the current directory (like I did).\n",
    "2. Go through each filename in a `for` loop.\n",
    "3. Open each file, and go through each line, one at a time.\n",
    "4. Use `random.randint` to choose a random character from that line.  Meaning: Calculate the length of the line with `len`, and then run `random.randint` to get a random number up to that.\n",
    "5. Print the filename, the number, and the character at that location in the file.\n",
    "\n",
    "Hints:\n",
    "- `glob.glob('*.txt')` -- returns a list of strings (filenames)\n",
    "- `random.randint(0, 100)` -- returns a random integer from 0 - 100\n",
    "- Don't forget to `import` each of the two modules we're using here."
   ]
  },
  {
   "cell_type": "code",
   "execution_count": 44,
   "id": "e5198e0c",
   "metadata": {},
   "outputs": [
    {
     "name": "stdout",
     "output_type": "stream",
     "text": [
      "-rw-r--r-- 1 reuven staff 2683 Mar 13  2016 linux-etc-passwd.txt\r\n"
     ]
    }
   ],
   "source": [
    "!ls -l linux-etc-passwd.txt"
   ]
  },
  {
   "cell_type": "code",
   "execution_count": null,
   "id": "f9f8d395",
   "metadata": {},
   "outputs": [],
   "source": []
  }
 ],
 "metadata": {
  "kernelspec": {
   "display_name": "Python 3 (ipykernel)",
   "language": "python",
   "name": "python3"
  },
  "language_info": {
   "codemirror_mode": {
    "name": "ipython",
    "version": 3
   },
   "file_extension": ".py",
   "mimetype": "text/x-python",
   "name": "python",
   "nbconvert_exporter": "python",
   "pygments_lexer": "ipython3",
   "version": "3.10.1"
  }
 },
 "nbformat": 4,
 "nbformat_minor": 5
}
