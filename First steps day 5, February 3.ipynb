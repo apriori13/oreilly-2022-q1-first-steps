{
 "cells": [
  {
   "cell_type": "markdown",
   "id": "f657025e",
   "metadata": {},
   "source": [
    "# Week 5: Modules and packages\n",
    "\n",
    "1. Review last week's challenge + any questions to answer\n",
    "2. What are modules?  What can they contain?\n",
    "3. The `import` statement\n",
    "4. (A little bit about) developing a module\n",
    "5. Python's standard library (i.e., the modules that come with Python)\n",
    "6. Modules vs. packages\n",
    "7. Intro to PyPI\n",
    "8. Using `pip` and downloading/installing modules"
   ]
  },
  {
   "cell_type": "code",
   "execution_count": 2,
   "id": "045cd34c",
   "metadata": {},
   "outputs": [
    {
     "name": "stdout",
     "output_type": "stream",
     "text": [
      "Enter your name: Reuven\n",
      "Hello, Reuven!\n",
      "Enter your name: \n"
     ]
    }
   ],
   "source": [
    "# what is the walrus operator, why do we care, and how do we use it?\n",
    "\n",
    "# start with a simple loop\n",
    "\n",
    "while True:\n",
    "    name = input('Enter your name: ').strip()\n",
    "    \n",
    "    if name == '':  # did we get an empty string?  If so, then leave the loop\n",
    "        break\n",
    "        \n",
    "    print(f'Hello, {name}!')"
   ]
  },
  {
   "cell_type": "code",
   "execution_count": 3,
   "id": "f403f64f",
   "metadata": {},
   "outputs": [
    {
     "name": "stdout",
     "output_type": "stream",
     "text": [
      "Enter your name: Reuven\n",
      "Hello, Reuven!\n",
      "Enter your name: world\n",
      "Hello, world!\n",
      "Enter your name: asdfsafas\n",
      "Hello, asdfsafas!\n",
      "Enter your name: \n"
     ]
    }
   ],
   "source": [
    "# another way to check for an empty string\n",
    "# empty strings are considered False in an if/while\n",
    "# all other strings are considered True in an if/while\n",
    "\n",
    "while True:\n",
    "    name = input('Enter your name: ').strip()\n",
    "    \n",
    "    if name:   # did we get a non-empty string?\n",
    "        print(f'Hello, {name}!')\n",
    "    else:      # did we get an empty string?\n",
    "        break"
   ]
  },
  {
   "cell_type": "code",
   "execution_count": 4,
   "id": "c6612632",
   "metadata": {},
   "outputs": [
    {
     "name": "stdout",
     "output_type": "stream",
     "text": [
      "Enter your name: asdfa\n",
      "Hello, asdfa!\n",
      "Enter your name: asdfa\n",
      "Hello, asdfa!\n",
      "Enter your name: \n"
     ]
    }
   ],
   "source": [
    "# rewrite this once again...\n",
    "\n",
    "while True:\n",
    "    name = input('Enter your name: ').strip()\n",
    "    \n",
    "    if not name:   # '' (empty string) is False next to an if\n",
    "        break       #  again, this means: break if we have an empty string\n",
    "\n",
    "    print(f'Hello, {name}!')\n"
   ]
  },
  {
   "cell_type": "code",
   "execution_count": 5,
   "id": "1aa9ab53",
   "metadata": {},
   "outputs": [
    {
     "ename": "SyntaxError",
     "evalue": "invalid syntax. Maybe you meant '==' or ':=' instead of '='? (1395544256.py, line 12)",
     "output_type": "error",
     "traceback": [
      "\u001b[0;36m  File \u001b[0;32m\"/var/folders/rr/0mnyyv811fs5vyp22gf4fxk00000gn/T/ipykernel_12859/1395544256.py\"\u001b[0;36m, line \u001b[0;32m12\u001b[0m\n\u001b[0;31m    while name = input('Enter your name: ').strip():\u001b[0m\n\u001b[0m          ^\u001b[0m\n\u001b[0;31mSyntaxError\u001b[0m\u001b[0;31m:\u001b[0m invalid syntax. Maybe you meant '==' or ':=' instead of '='?\n"
     ]
    }
   ],
   "source": [
    "# can we rewrite things to be shorter?\n",
    "\n",
    "# while looks to its right (like if) and looks for a True/False value\n",
    "# if all goes well, then in the below code:\n",
    "\n",
    "# (1) with each iteration, we get the user's name\n",
    "# (2) we strip it of whitespace\n",
    "# (3) we assign the value to name\n",
    "# (4) \"while\" looks to its right -- empty string? stop. non-empty string? run the loop block\n",
    "\n",
    "\n",
    "while name = input('Enter your name: ').strip():\n",
    "    \n",
    "    print(f'Hello, {name}!')"
   ]
  },
  {
   "cell_type": "code",
   "execution_count": 6,
   "id": "19a11288",
   "metadata": {},
   "outputs": [
    {
     "name": "stdout",
     "output_type": "stream",
     "text": [
      "Enter your name: Reuven\n",
      "Hello, Reuven!\n",
      "Enter your name: asdfafd\n",
      "Hello, asdfafd!\n",
      "Enter your name: \n"
     ]
    }
   ],
   "source": [
    "# the walrus operator, :=  (looks like a walrus if you turn your head 90 degrees to the left)\n",
    "# this operator does two things:\n",
    "\n",
    "# (1) everything = does\n",
    "# (2) returns a value\n",
    "\n",
    "# now our while loop looks to its right, and it *DOES* get a value back\n",
    "\n",
    "while name := input('Enter your name: ').strip():\n",
    "    \n",
    "    print(f'Hello, {name}!')"
   ]
  },
  {
   "cell_type": "code",
   "execution_count": 7,
   "id": "49c76261",
   "metadata": {},
   "outputs": [
    {
     "name": "stdout",
     "output_type": "stream",
     "text": [
      "False-ish\n"
     ]
    }
   ],
   "source": [
    "s = ''  # empty string\n",
    "\n",
    "if s:  # putting s (the string) in a \"boolean context,\" in an \"if\" or \"while\"\n",
    "    print('True-ish')\n",
    "else:\n",
    "    print('False-ish')"
   ]
  },
  {
   "cell_type": "code",
   "execution_count": 9,
   "id": "17b1923b",
   "metadata": {},
   "outputs": [
    {
     "name": "stdout",
     "output_type": "stream",
     "text": [
      "Yes, it is empty!\n"
     ]
    }
   ],
   "source": [
    "s = ''  # empty string\n",
    "\n",
    "if not s:  # putting s (the string) in a \"boolean context,\" in an \"if\" or \"while\"\n",
    "    print('Yes, it is empty!')\n",
    "else:\n",
    "    print('No, it is not empty!')"
   ]
  },
  {
   "cell_type": "markdown",
   "id": "02462693",
   "metadata": {},
   "source": [
    "# Python Skills Challenge: Functions\n",
    "\n",
    "In this challenge, you are to write a function `count_ips`. The function will take a single argument, a string naming a logfile from a Web server.  The function will return a Python dict, in which the keys are IP addresses from the file, and the values represent the number of times each IP address made a request from the site.\n",
    "\n",
    "Here are the first few lines from the sort of logfile the function should expect:\n",
    "\n",
    "```\n",
    "67.218.116.165 - - [30/Jan/2010:00:03:18 +0200] \"GET /robots.txt HTTP/1.0\" 200 99 \"-\" \"Mozilla/5.0 (Twiceler-0.9 http://www.cuil.com/twiceler/robot.html)\"\n",
    "66.249.71.65 - - [30/Jan/2010:00:12:06 +0200] \"GET /browse/one_node/1557 HTTP/1.1\" 200 39208 \"-\" \"Mozilla/5.0 (compatible; Googlebot/2.1; +http://www.google.com/bot.html)\"\n",
    "65.55.106.183 - - [30/Jan/2010:01:29:23 +0200] \"GET /robots.txt HTTP/1.1\" 200 99 \"-\" \"msnbot/2.0b (+http://search.msn.com/msnbot.htm)\"\n",
    "65.55.106.183 - - [30/Jan/2010:01:30:06 +0200] \"GET /browse/one_model/2162 HTTP/1.1\" 200 2181 \"-\" \"msnbot/2.0b (+http://search.msn.com/msnbot.htm)\"\n",
    "66.249.71.65 - - [30/Jan/2010:02:07:14 +0200] \"GET /browse/browse_applet_tab/2593 HTTP/1.1\" 200 10305 \"-\" \"Mozilla/5.0 (compatible; Googlebot/2.1; +http://www.google.com/bot.html)\"\n",
    "```\n",
    "\n",
    "Notice that each line of the file starts with an IP address, and then has (among other things) the timestamp at which the request was made, the actual request, and an indication of what browser was used to make the request.\n",
    "\n",
    "If the file is empty, then the returned dictionary should be empty.\n",
    "\n",
    "This Katacoda challenge system will test your function against a file, `logfile.txt`, that is in the current `/root` directory. When the function returns the correct values, you will see an indication of this.\n",
    "\n",
    "Good luck!\n"
   ]
  },
  {
   "cell_type": "code",
   "execution_count": 10,
   "id": "9daf7d94",
   "metadata": {},
   "outputs": [],
   "source": [
    "# write a function, called count_ips\n",
    "# function's sole parameter is \"filename\", name of a logfile\n",
    "# function will output a dictionary \n",
    "#    keys in the dict will be strings (IP addresses)\n",
    "#    values in the dict will be counts -- how many times the address appears"
   ]
  },
  {
   "cell_type": "code",
   "execution_count": 19,
   "id": "50e06540",
   "metadata": {},
   "outputs": [],
   "source": [
    "def count_ips(filename):\n",
    "    output = {}                    # output is a local variable in the \"count_ips\" function\n",
    "    \n",
    "    for one_line in open(filename):\n",
    "        fields = one_line.split()  # turn each line from the file into a list of strings\n",
    "        ip_address = fields[0]     # grab the first field on the line, the IP address\n",
    "\n",
    "        if ip_address in output:   # have we seen this IP address before?\n",
    "            output[ip_address] += 1\n",
    "        else:\n",
    "            output[ip_address] = 1     # first time seeing this IP, we'll assign 1\n",
    "    \n",
    "    return output"
   ]
  },
  {
   "cell_type": "code",
   "execution_count": 22,
   "id": "0caec62c",
   "metadata": {},
   "outputs": [
    {
     "name": "stdout",
     "output_type": "stream",
     "text": [
      "67.218.116.165:\t2\n",
      "66.249.71.65:\t3\n",
      "65.55.106.183:\t2\n",
      "66.249.65.12:\t32\n",
      "65.55.106.131:\t2\n",
      "65.55.106.186:\t2\n",
      "74.52.245.146:\t2\n",
      "66.249.65.43:\t3\n",
      "65.55.207.25:\t2\n",
      "65.55.207.94:\t2\n",
      "65.55.207.71:\t1\n",
      "98.242.170.241:\t1\n",
      "66.249.65.38:\t100\n",
      "65.55.207.126:\t2\n",
      "82.34.9.20:\t2\n",
      "65.55.106.155:\t2\n",
      "65.55.207.77:\t2\n",
      "208.80.193.28:\t1\n",
      "89.248.172.58:\t22\n",
      "67.195.112.35:\t16\n",
      "65.55.207.50:\t3\n",
      "65.55.215.75:\t2\n"
     ]
    }
   ],
   "source": [
    "# run the function against the file\n",
    "d = count_ips('mini-access-log.txt')\n",
    "\n",
    "# d is a dict, so I can run \"items\" on it, and iterate over keys and values\n",
    "for key, value in d.items():\n",
    "    print(f'{key}:\\t{value}')"
   ]
  },
  {
   "cell_type": "code",
   "execution_count": 24,
   "id": "2ec12b89",
   "metadata": {},
   "outputs": [],
   "source": [
    "from friendly.jupyter import Friendly"
   ]
  },
  {
   "cell_type": "markdown",
   "id": "30504b67",
   "metadata": {},
   "source": [
    "# DRY -- don't repeat yourself!\n",
    "\n",
    "1. If I have several lines in a row that are basically the same, I can DRY them up by using a loop.\n",
    "2. If I have the same code repeated several times across my program, I can DRY them up by using a function.\n",
    "3. If I have the same code repeated across SEVERAL DIFFERENT PROGRAMS, then I can use a \"library.\" \n",
    "\n",
    "A library is a collection of functions and data that you can reuse, and avoid re-inventing the wheel.\n",
    "\n",
    "Anyone can write a library:\n",
    "- You can write a library with commonly used functions and data\n",
    "- Your group at work might write a library to handle common tasks, functionality, file types\n",
    "- Your company might supply standard libraries for everyone to use for standard tasks (e.g., logging into the security system, or working with file types, or accessing the database)\n",
    "- Your software vendors might supply libraries that allow you access to their files, functionality, security, etc.\n",
    "- Your operating system is basically a bunch of libraries, which you can use from your program to communicate with the disk, printer, network, etc.\n",
    "\n",
    "In Python, we call libraries \"modules.\"  And modules are extremely common, and extremely handy."
   ]
  },
  {
   "cell_type": "markdown",
   "id": "53e969ff",
   "metadata": {},
   "source": [
    "# We use `import` to make use of a module\n",
    "\n",
    "The `import` statement is very common in Python, because it lets us load a module into memory and make use of its functions and data.\n",
    "\n",
    "If I want a random number, I can use the `import` statement to load the `random` module. In the `random` module, we have a bunch of different functions that have to do with random numbers."
   ]
  },
  {
   "cell_type": "code",
   "execution_count": 25,
   "id": "16a716ef",
   "metadata": {},
   "outputs": [],
   "source": [
    "import random"
   ]
  },
  {
   "cell_type": "markdown",
   "id": "cd0ba1d4",
   "metadata": {},
   "source": [
    "# Things to notice about `import`\n",
    "\n",
    "1. It's not a function.  We don't use `()` around its argument.  It's a statement that has a single word after it.\n",
    "2. In many languages, we indicate which file we want to load. Not in Python! We indicate what module we want to load, and based on that, Python tries to find the file and load it.\n",
    "3. After the module is loaded, you can access all of the module's functionality with the module's name and a dot `.`.  "
   ]
  },
  {
   "cell_type": "code",
   "execution_count": 26,
   "id": "80c091b9",
   "metadata": {},
   "outputs": [
    {
     "data": {
      "text/html": [
       "<pre style='white-space:pre;overflow-x:auto;line-height:normal'><span style=\"font-weight: bold\">&lt;</span><span style=\"color: #ff00ff; text-decoration-color: #ff00ff; font-weight: bold\">class</span><span style=\"color: #000000; text-decoration-color: #000000\"> </span><span style=\"color: #008000; text-decoration-color: #008000\">'module'</span><span style=\"font-weight: bold\">&gt;</span>\n",
       "</pre>"
      ],
      "text/plain": [
       "\u001b[1m<\u001b[0m\u001b[1;95mclass\u001b[0m\u001b[39m \u001b[0m\u001b[32m'module'\u001b[0m\u001b[1m>\u001b[0m\n"
      ]
     },
     "metadata": {},
     "output_type": "display_data"
    }
   ],
   "source": [
    "# now that I've said \"import random\", \"random\" is a variable defined in my system\n",
    "type(random)  # what kind of object does it contain?"
   ]
  },
  {
   "cell_type": "code",
   "execution_count": 27,
   "id": "b9a2f864",
   "metadata": {},
   "outputs": [
    {
     "data": {
      "text/html": [
       "<pre style='white-space:pre;overflow-x:auto;line-height:normal'>\n",
       "<span style=\"font-weight: bold\">[</span>\n",
       "<span style=\"color: #7fbf7f; text-decoration-color: #7fbf7f\">│   </span><span style=\"color: #008000; text-decoration-color: #008000\">'BPF'</span>,\n",
       "<span style=\"color: #7fbf7f; text-decoration-color: #7fbf7f\">│   </span><span style=\"color: #008000; text-decoration-color: #008000\">'LOG4'</span>,\n",
       "<span style=\"color: #7fbf7f; text-decoration-color: #7fbf7f\">│   </span><span style=\"color: #008000; text-decoration-color: #008000\">'NV_MAGICCONST'</span>,\n",
       "<span style=\"color: #7fbf7f; text-decoration-color: #7fbf7f\">│   </span><span style=\"color: #008000; text-decoration-color: #008000\">'RECIP_BPF'</span>,\n",
       "<span style=\"color: #7fbf7f; text-decoration-color: #7fbf7f\">│   </span><span style=\"color: #008000; text-decoration-color: #008000\">'Random'</span>,\n",
       "<span style=\"color: #7fbf7f; text-decoration-color: #7fbf7f\">│   </span><span style=\"color: #008000; text-decoration-color: #008000\">'SG_MAGICCONST'</span>,\n",
       "<span style=\"color: #7fbf7f; text-decoration-color: #7fbf7f\">│   </span><span style=\"color: #008000; text-decoration-color: #008000\">'SystemRandom'</span>,\n",
       "<span style=\"color: #7fbf7f; text-decoration-color: #7fbf7f\">│   </span><span style=\"color: #008000; text-decoration-color: #008000\">'TWOPI'</span>,\n",
       "<span style=\"color: #7fbf7f; text-decoration-color: #7fbf7f\">│   </span><span style=\"color: #008000; text-decoration-color: #008000\">'_ONE'</span>,\n",
       "<span style=\"color: #7fbf7f; text-decoration-color: #7fbf7f\">│   </span><span style=\"color: #008000; text-decoration-color: #008000\">'_Sequence'</span>,\n",
       "<span style=\"color: #7fbf7f; text-decoration-color: #7fbf7f\">│   </span><span style=\"color: #008000; text-decoration-color: #008000\">'_Set'</span>,\n",
       "<span style=\"color: #7fbf7f; text-decoration-color: #7fbf7f\">│   </span><span style=\"color: #008000; text-decoration-color: #008000\">'__all__'</span>,\n",
       "<span style=\"color: #7fbf7f; text-decoration-color: #7fbf7f\">│   </span><span style=\"color: #008000; text-decoration-color: #008000\">'__builtins__'</span>,\n",
       "<span style=\"color: #7fbf7f; text-decoration-color: #7fbf7f\">│   </span><span style=\"color: #008000; text-decoration-color: #008000\">'__cached__'</span>,\n",
       "<span style=\"color: #7fbf7f; text-decoration-color: #7fbf7f\">│   </span><span style=\"color: #008000; text-decoration-color: #008000\">'__doc__'</span>,\n",
       "<span style=\"color: #7fbf7f; text-decoration-color: #7fbf7f\">│   </span><span style=\"color: #008000; text-decoration-color: #008000\">'__file__'</span>,\n",
       "<span style=\"color: #7fbf7f; text-decoration-color: #7fbf7f\">│   </span><span style=\"color: #008000; text-decoration-color: #008000\">'__loader__'</span>,\n",
       "<span style=\"color: #7fbf7f; text-decoration-color: #7fbf7f\">│   </span><span style=\"color: #008000; text-decoration-color: #008000\">'__name__'</span>,\n",
       "<span style=\"color: #7fbf7f; text-decoration-color: #7fbf7f\">│   </span><span style=\"color: #008000; text-decoration-color: #008000\">'__package__'</span>,\n",
       "<span style=\"color: #7fbf7f; text-decoration-color: #7fbf7f\">│   </span><span style=\"color: #008000; text-decoration-color: #008000\">'__spec__'</span>,\n",
       "<span style=\"color: #7fbf7f; text-decoration-color: #7fbf7f\">│   </span><span style=\"color: #008000; text-decoration-color: #008000\">'_accumulate'</span>,\n",
       "<span style=\"color: #7fbf7f; text-decoration-color: #7fbf7f\">│   </span><span style=\"color: #008000; text-decoration-color: #008000\">'_acos'</span>,\n",
       "<span style=\"color: #7fbf7f; text-decoration-color: #7fbf7f\">│   </span><span style=\"color: #008000; text-decoration-color: #008000\">'_bisect'</span>,\n",
       "<span style=\"color: #7fbf7f; text-decoration-color: #7fbf7f\">│   </span><span style=\"color: #008000; text-decoration-color: #008000\">'_ceil'</span>,\n",
       "<span style=\"color: #7fbf7f; text-decoration-color: #7fbf7f\">│   </span><span style=\"color: #008000; text-decoration-color: #008000\">'_cos'</span>,\n",
       "<span style=\"color: #7fbf7f; text-decoration-color: #7fbf7f\">│   </span><span style=\"color: #008000; text-decoration-color: #008000\">'_e'</span>,\n",
       "<span style=\"color: #7fbf7f; text-decoration-color: #7fbf7f\">│   </span><span style=\"color: #008000; text-decoration-color: #008000\">'_exp'</span>,\n",
       "<span style=\"color: #7fbf7f; text-decoration-color: #7fbf7f\">│   </span><span style=\"color: #008000; text-decoration-color: #008000\">'_floor'</span>,\n",
       "<span style=\"color: #7fbf7f; text-decoration-color: #7fbf7f\">│   </span><span style=\"color: #008000; text-decoration-color: #008000\">'_index'</span>,\n",
       "<span style=\"color: #7fbf7f; text-decoration-color: #7fbf7f\">│   </span><span style=\"color: #008000; text-decoration-color: #008000\">'_inst'</span>,\n",
       "<span style=\"color: #7fbf7f; text-decoration-color: #7fbf7f\">│   </span><span style=\"color: #008000; text-decoration-color: #008000\">'_isfinite'</span>,\n",
       "<span style=\"color: #7fbf7f; text-decoration-color: #7fbf7f\">│   </span><span style=\"color: #008000; text-decoration-color: #008000\">'_log'</span>,\n",
       "<span style=\"color: #7fbf7f; text-decoration-color: #7fbf7f\">│   </span><span style=\"color: #008000; text-decoration-color: #008000\">'_os'</span>,\n",
       "<span style=\"color: #7fbf7f; text-decoration-color: #7fbf7f\">│   </span><span style=\"color: #008000; text-decoration-color: #008000\">'_pi'</span>,\n",
       "<span style=\"color: #7fbf7f; text-decoration-color: #7fbf7f\">│   </span><span style=\"color: #008000; text-decoration-color: #008000\">'_random'</span>,\n",
       "<span style=\"color: #7fbf7f; text-decoration-color: #7fbf7f\">│   </span><span style=\"color: #008000; text-decoration-color: #008000\">'_repeat'</span>,\n",
       "<span style=\"color: #7fbf7f; text-decoration-color: #7fbf7f\">│   </span><span style=\"color: #008000; text-decoration-color: #008000\">'_sha512'</span>,\n",
       "<span style=\"color: #7fbf7f; text-decoration-color: #7fbf7f\">│   </span><span style=\"color: #008000; text-decoration-color: #008000\">'_sin'</span>,\n",
       "<span style=\"color: #7fbf7f; text-decoration-color: #7fbf7f\">│   </span><span style=\"color: #008000; text-decoration-color: #008000\">'_sqrt'</span>,\n",
       "<span style=\"color: #7fbf7f; text-decoration-color: #7fbf7f\">│   </span><span style=\"color: #008000; text-decoration-color: #008000\">'_test'</span>,\n",
       "<span style=\"color: #7fbf7f; text-decoration-color: #7fbf7f\">│   </span><span style=\"color: #008000; text-decoration-color: #008000\">'_test_generator'</span>,\n",
       "<span style=\"color: #7fbf7f; text-decoration-color: #7fbf7f\">│   </span><span style=\"color: #008000; text-decoration-color: #008000\">'_urandom'</span>,\n",
       "<span style=\"color: #7fbf7f; text-decoration-color: #7fbf7f\">│   </span><span style=\"color: #008000; text-decoration-color: #008000\">'_warn'</span>,\n",
       "<span style=\"color: #7fbf7f; text-decoration-color: #7fbf7f\">│   </span><span style=\"color: #008000; text-decoration-color: #008000\">'betavariate'</span>,\n",
       "<span style=\"color: #7fbf7f; text-decoration-color: #7fbf7f\">│   </span><span style=\"color: #008000; text-decoration-color: #008000\">'choice'</span>,\n",
       "<span style=\"color: #7fbf7f; text-decoration-color: #7fbf7f\">│   </span><span style=\"color: #008000; text-decoration-color: #008000\">'choices'</span>,\n",
       "<span style=\"color: #7fbf7f; text-decoration-color: #7fbf7f\">│   </span><span style=\"color: #008000; text-decoration-color: #008000\">'expovariate'</span>,\n",
       "<span style=\"color: #7fbf7f; text-decoration-color: #7fbf7f\">│   </span><span style=\"color: #008000; text-decoration-color: #008000\">'gammavariate'</span>,\n",
       "<span style=\"color: #7fbf7f; text-decoration-color: #7fbf7f\">│   </span><span style=\"color: #008000; text-decoration-color: #008000\">'gauss'</span>,\n",
       "<span style=\"color: #7fbf7f; text-decoration-color: #7fbf7f\">│   </span><span style=\"color: #008000; text-decoration-color: #008000\">'getrandbits'</span>,\n",
       "<span style=\"color: #7fbf7f; text-decoration-color: #7fbf7f\">│   </span><span style=\"color: #008000; text-decoration-color: #008000\">'getstate'</span>,\n",
       "<span style=\"color: #7fbf7f; text-decoration-color: #7fbf7f\">│   </span><span style=\"color: #008000; text-decoration-color: #008000\">'lognormvariate'</span>,\n",
       "<span style=\"color: #7fbf7f; text-decoration-color: #7fbf7f\">│   </span><span style=\"color: #008000; text-decoration-color: #008000\">'normalvariate'</span>,\n",
       "<span style=\"color: #7fbf7f; text-decoration-color: #7fbf7f\">│   </span><span style=\"color: #008000; text-decoration-color: #008000\">'paretovariate'</span>,\n",
       "<span style=\"color: #7fbf7f; text-decoration-color: #7fbf7f\">│   </span><span style=\"color: #008000; text-decoration-color: #008000\">'randbytes'</span>,\n",
       "<span style=\"color: #7fbf7f; text-decoration-color: #7fbf7f\">│   </span><span style=\"color: #008000; text-decoration-color: #008000\">'randint'</span>,\n",
       "<span style=\"color: #7fbf7f; text-decoration-color: #7fbf7f\">│   </span><span style=\"color: #008000; text-decoration-color: #008000\">'random'</span>,\n",
       "<span style=\"color: #7fbf7f; text-decoration-color: #7fbf7f\">│   </span><span style=\"color: #008000; text-decoration-color: #008000\">'randrange'</span>,\n",
       "<span style=\"color: #7fbf7f; text-decoration-color: #7fbf7f\">│   </span><span style=\"color: #008000; text-decoration-color: #008000\">'sample'</span>,\n",
       "<span style=\"color: #7fbf7f; text-decoration-color: #7fbf7f\">│   </span><span style=\"color: #008000; text-decoration-color: #008000\">'seed'</span>,\n",
       "<span style=\"color: #7fbf7f; text-decoration-color: #7fbf7f\">│   </span><span style=\"color: #008000; text-decoration-color: #008000\">'setstate'</span>,\n",
       "<span style=\"color: #7fbf7f; text-decoration-color: #7fbf7f\">│   </span><span style=\"color: #008000; text-decoration-color: #008000\">'shuffle'</span>,\n",
       "<span style=\"color: #7fbf7f; text-decoration-color: #7fbf7f\">│   </span><span style=\"color: #008000; text-decoration-color: #008000\">'triangular'</span>,\n",
       "<span style=\"color: #7fbf7f; text-decoration-color: #7fbf7f\">│   </span><span style=\"color: #008000; text-decoration-color: #008000\">'uniform'</span>,\n",
       "<span style=\"color: #7fbf7f; text-decoration-color: #7fbf7f\">│   </span><span style=\"color: #008000; text-decoration-color: #008000\">'vonmisesvariate'</span>,\n",
       "<span style=\"color: #7fbf7f; text-decoration-color: #7fbf7f\">│   </span><span style=\"color: #008000; text-decoration-color: #008000\">'weibullvariate'</span>\n",
       "<span style=\"font-weight: bold\">]</span>\n",
       "</pre>"
      ],
      "text/plain": [
       "\n",
       "\u001b[1m[\u001b[0m\n",
       "\u001b[2;32m│   \u001b[0m\u001b[32m'BPF'\u001b[0m,\n",
       "\u001b[2;32m│   \u001b[0m\u001b[32m'LOG4'\u001b[0m,\n",
       "\u001b[2;32m│   \u001b[0m\u001b[32m'NV_MAGICCONST'\u001b[0m,\n",
       "\u001b[2;32m│   \u001b[0m\u001b[32m'RECIP_BPF'\u001b[0m,\n",
       "\u001b[2;32m│   \u001b[0m\u001b[32m'Random'\u001b[0m,\n",
       "\u001b[2;32m│   \u001b[0m\u001b[32m'SG_MAGICCONST'\u001b[0m,\n",
       "\u001b[2;32m│   \u001b[0m\u001b[32m'SystemRandom'\u001b[0m,\n",
       "\u001b[2;32m│   \u001b[0m\u001b[32m'TWOPI'\u001b[0m,\n",
       "\u001b[2;32m│   \u001b[0m\u001b[32m'_ONE'\u001b[0m,\n",
       "\u001b[2;32m│   \u001b[0m\u001b[32m'_Sequence'\u001b[0m,\n",
       "\u001b[2;32m│   \u001b[0m\u001b[32m'_Set'\u001b[0m,\n",
       "\u001b[2;32m│   \u001b[0m\u001b[32m'__all__'\u001b[0m,\n",
       "\u001b[2;32m│   \u001b[0m\u001b[32m'__builtins__'\u001b[0m,\n",
       "\u001b[2;32m│   \u001b[0m\u001b[32m'__cached__'\u001b[0m,\n",
       "\u001b[2;32m│   \u001b[0m\u001b[32m'__doc__'\u001b[0m,\n",
       "\u001b[2;32m│   \u001b[0m\u001b[32m'__file__'\u001b[0m,\n",
       "\u001b[2;32m│   \u001b[0m\u001b[32m'__loader__'\u001b[0m,\n",
       "\u001b[2;32m│   \u001b[0m\u001b[32m'__name__'\u001b[0m,\n",
       "\u001b[2;32m│   \u001b[0m\u001b[32m'__package__'\u001b[0m,\n",
       "\u001b[2;32m│   \u001b[0m\u001b[32m'__spec__'\u001b[0m,\n",
       "\u001b[2;32m│   \u001b[0m\u001b[32m'_accumulate'\u001b[0m,\n",
       "\u001b[2;32m│   \u001b[0m\u001b[32m'_acos'\u001b[0m,\n",
       "\u001b[2;32m│   \u001b[0m\u001b[32m'_bisect'\u001b[0m,\n",
       "\u001b[2;32m│   \u001b[0m\u001b[32m'_ceil'\u001b[0m,\n",
       "\u001b[2;32m│   \u001b[0m\u001b[32m'_cos'\u001b[0m,\n",
       "\u001b[2;32m│   \u001b[0m\u001b[32m'_e'\u001b[0m,\n",
       "\u001b[2;32m│   \u001b[0m\u001b[32m'_exp'\u001b[0m,\n",
       "\u001b[2;32m│   \u001b[0m\u001b[32m'_floor'\u001b[0m,\n",
       "\u001b[2;32m│   \u001b[0m\u001b[32m'_index'\u001b[0m,\n",
       "\u001b[2;32m│   \u001b[0m\u001b[32m'_inst'\u001b[0m,\n",
       "\u001b[2;32m│   \u001b[0m\u001b[32m'_isfinite'\u001b[0m,\n",
       "\u001b[2;32m│   \u001b[0m\u001b[32m'_log'\u001b[0m,\n",
       "\u001b[2;32m│   \u001b[0m\u001b[32m'_os'\u001b[0m,\n",
       "\u001b[2;32m│   \u001b[0m\u001b[32m'_pi'\u001b[0m,\n",
       "\u001b[2;32m│   \u001b[0m\u001b[32m'_random'\u001b[0m,\n",
       "\u001b[2;32m│   \u001b[0m\u001b[32m'_repeat'\u001b[0m,\n",
       "\u001b[2;32m│   \u001b[0m\u001b[32m'_sha512'\u001b[0m,\n",
       "\u001b[2;32m│   \u001b[0m\u001b[32m'_sin'\u001b[0m,\n",
       "\u001b[2;32m│   \u001b[0m\u001b[32m'_sqrt'\u001b[0m,\n",
       "\u001b[2;32m│   \u001b[0m\u001b[32m'_test'\u001b[0m,\n",
       "\u001b[2;32m│   \u001b[0m\u001b[32m'_test_generator'\u001b[0m,\n",
       "\u001b[2;32m│   \u001b[0m\u001b[32m'_urandom'\u001b[0m,\n",
       "\u001b[2;32m│   \u001b[0m\u001b[32m'_warn'\u001b[0m,\n",
       "\u001b[2;32m│   \u001b[0m\u001b[32m'betavariate'\u001b[0m,\n",
       "\u001b[2;32m│   \u001b[0m\u001b[32m'choice'\u001b[0m,\n",
       "\u001b[2;32m│   \u001b[0m\u001b[32m'choices'\u001b[0m,\n",
       "\u001b[2;32m│   \u001b[0m\u001b[32m'expovariate'\u001b[0m,\n",
       "\u001b[2;32m│   \u001b[0m\u001b[32m'gammavariate'\u001b[0m,\n",
       "\u001b[2;32m│   \u001b[0m\u001b[32m'gauss'\u001b[0m,\n",
       "\u001b[2;32m│   \u001b[0m\u001b[32m'getrandbits'\u001b[0m,\n",
       "\u001b[2;32m│   \u001b[0m\u001b[32m'getstate'\u001b[0m,\n",
       "\u001b[2;32m│   \u001b[0m\u001b[32m'lognormvariate'\u001b[0m,\n",
       "\u001b[2;32m│   \u001b[0m\u001b[32m'normalvariate'\u001b[0m,\n",
       "\u001b[2;32m│   \u001b[0m\u001b[32m'paretovariate'\u001b[0m,\n",
       "\u001b[2;32m│   \u001b[0m\u001b[32m'randbytes'\u001b[0m,\n",
       "\u001b[2;32m│   \u001b[0m\u001b[32m'randint'\u001b[0m,\n",
       "\u001b[2;32m│   \u001b[0m\u001b[32m'random'\u001b[0m,\n",
       "\u001b[2;32m│   \u001b[0m\u001b[32m'randrange'\u001b[0m,\n",
       "\u001b[2;32m│   \u001b[0m\u001b[32m'sample'\u001b[0m,\n",
       "\u001b[2;32m│   \u001b[0m\u001b[32m'seed'\u001b[0m,\n",
       "\u001b[2;32m│   \u001b[0m\u001b[32m'setstate'\u001b[0m,\n",
       "\u001b[2;32m│   \u001b[0m\u001b[32m'shuffle'\u001b[0m,\n",
       "\u001b[2;32m│   \u001b[0m\u001b[32m'triangular'\u001b[0m,\n",
       "\u001b[2;32m│   \u001b[0m\u001b[32m'uniform'\u001b[0m,\n",
       "\u001b[2;32m│   \u001b[0m\u001b[32m'vonmisesvariate'\u001b[0m,\n",
       "\u001b[2;32m│   \u001b[0m\u001b[32m'weibullvariate'\u001b[0m\n",
       "\u001b[1m]\u001b[0m\n"
      ]
     },
     "metadata": {},
     "output_type": "display_data"
    }
   ],
   "source": [
    "# what names are available after the . when I use random?\n",
    "# I can find out by running the \"dir\" function on random\n",
    "\n",
    "dir(random)   # this gives me a list of strings -- what names are available"
   ]
  },
  {
   "cell_type": "code",
   "execution_count": 28,
   "id": "17aa67b2",
   "metadata": {},
   "outputs": [
    {
     "data": {
      "text/html": [
       "<pre style='white-space:pre;overflow-x:auto;line-height:normal'><span style=\"color: #008080; text-decoration-color: #008080; font-weight: bold\">100</span>\n",
       "</pre>"
      ],
      "text/plain": [
       "\u001b[1;36m100\u001b[0m\n"
      ]
     },
     "metadata": {},
     "output_type": "display_data"
    }
   ],
   "source": [
    "# once I've loaded random, I can invoke the random.randint function on it:\n",
    "random.randint(0, 100)"
   ]
  },
  {
   "cell_type": "code",
   "execution_count": 29,
   "id": "bd7fd469",
   "metadata": {},
   "outputs": [
    {
     "data": {
      "text/html": [
       "<pre style='white-space:pre;overflow-x:auto;line-height:normal'><span style=\"color: #008080; text-decoration-color: #008080; font-weight: bold\">46</span>\n",
       "</pre>"
      ],
      "text/plain": [
       "\u001b[1;36m46\u001b[0m\n"
      ]
     },
     "metadata": {},
     "output_type": "display_data"
    }
   ],
   "source": [
    "random.randint(0, 100)"
   ]
  },
  {
   "cell_type": "code",
   "execution_count": 30,
   "id": "2f3d4a70",
   "metadata": {},
   "outputs": [
    {
     "data": {
      "text/html": [
       "<pre style='white-space:pre;overflow-x:auto;line-height:normal'><span style=\"color: #008000; text-decoration-color: #008000\">'e'</span>\n",
       "</pre>"
      ],
      "text/plain": [
       "\u001b[32m'e'\u001b[0m\n"
      ]
     },
     "metadata": {},
     "output_type": "display_data"
    }
   ],
   "source": [
    "random.choice('abcde')"
   ]
  },
  {
   "cell_type": "code",
   "execution_count": 31,
   "id": "58a64aad",
   "metadata": {},
   "outputs": [
    {
     "data": {
      "text/html": [
       "<pre style='white-space:pre;overflow-x:auto;line-height:normal'><span style=\"color: #008000; text-decoration-color: #008000\">'d'</span>\n",
       "</pre>"
      ],
      "text/plain": [
       "\u001b[32m'd'\u001b[0m\n"
      ]
     },
     "metadata": {},
     "output_type": "display_data"
    }
   ],
   "source": [
    "random.choice('abcde')"
   ]
  },
  {
   "cell_type": "code",
   "execution_count": 32,
   "id": "f7afcc29",
   "metadata": {},
   "outputs": [
    {
     "name": "stdout",
     "output_type": "stream",
     "text": [
      "Help on method shuffle in module random:\n",
      "\n",
      "shuffle(x, random=None) method of random.Random instance\n",
      "    Shuffle list x in place, and return None.\n",
      "    \n",
      "    Optional argument random is a 0-argument function returning a\n",
      "    random float in [0.0, 1.0); if it is the default None, the\n",
      "    standard random.random will be used.\n",
      "\n"
     ]
    }
   ],
   "source": [
    "# if you want to know more about a function, you can\n",
    "# (a) look up the documentation on python.org\n",
    "# (b) if you're in Jupyter, you can run the \"help\" function on the function you want\n",
    "\n",
    "help(random.shuffle)"
   ]
  },
  {
   "cell_type": "code",
   "execution_count": 33,
   "id": "e2ae6a7d",
   "metadata": {},
   "outputs": [
    {
     "data": {
      "text/html": [
       "<pre style='white-space:pre;overflow-x:auto;line-height:normal'><span style=\"font-weight: bold\">[</span><span style=\"color: #008080; text-decoration-color: #008080; font-weight: bold\">40</span>, <span style=\"color: #008080; text-decoration-color: #008080; font-weight: bold\">50</span>, <span style=\"color: #008080; text-decoration-color: #008080; font-weight: bold\">20</span>, <span style=\"color: #008080; text-decoration-color: #008080; font-weight: bold\">30</span>, <span style=\"color: #008080; text-decoration-color: #008080; font-weight: bold\">10</span><span style=\"font-weight: bold\">]</span>\n",
       "</pre>"
      ],
      "text/plain": [
       "\u001b[1m[\u001b[0m\u001b[1;36m40\u001b[0m, \u001b[1;36m50\u001b[0m, \u001b[1;36m20\u001b[0m, \u001b[1;36m30\u001b[0m, \u001b[1;36m10\u001b[0m\u001b[1m]\u001b[0m\n"
      ]
     },
     "metadata": {},
     "output_type": "display_data"
    }
   ],
   "source": [
    "mylist = [10, 20, 30, 40, 50]\n",
    "random.shuffle(mylist)\n",
    "\n",
    "mylist"
   ]
  },
  {
   "cell_type": "code",
   "execution_count": 34,
   "id": "8f0639ed",
   "metadata": {},
   "outputs": [],
   "source": [
    "?random.choice"
   ]
  },
  {
   "cell_type": "code",
   "execution_count": 35,
   "id": "ef527136",
   "metadata": {},
   "outputs": [],
   "source": [
    "random.choice??"
   ]
  },
  {
   "cell_type": "code",
   "execution_count": 36,
   "id": "52c78a18",
   "metadata": {},
   "outputs": [],
   "source": [
    "import glob   # glob is a module that lets us find patterns of filenames, e.g., *.txt"
   ]
  },
  {
   "cell_type": "code",
   "execution_count": 37,
   "id": "0ee08ffa",
   "metadata": {},
   "outputs": [
    {
     "data": {
      "text/html": [
       "<pre style='white-space:pre;overflow-x:auto;line-height:normal'>\n",
       "<span style=\"font-weight: bold\">[</span>\n",
       "<span style=\"color: #7fbf7f; text-decoration-color: #7fbf7f\">│   </span><span style=\"color: #008000; text-decoration-color: #008000\">'mini-access-log.txt'</span>,\n",
       "<span style=\"color: #7fbf7f; text-decoration-color: #7fbf7f\">│   </span><span style=\"color: #008000; text-decoration-color: #008000\">'nums.txt'</span>,\n",
       "<span style=\"color: #7fbf7f; text-decoration-color: #7fbf7f\">│   </span><span style=\"color: #008000; text-decoration-color: #008000\">'mydict.txt'</span>,\n",
       "<span style=\"color: #7fbf7f; text-decoration-color: #7fbf7f\">│   </span><span style=\"color: #008000; text-decoration-color: #008000\">'mynewfile.txt'</span>,\n",
       "<span style=\"color: #7fbf7f; text-decoration-color: #7fbf7f\">│   </span><span style=\"color: #008000; text-decoration-color: #008000\">'shoe-data.txt'</span>,\n",
       "<span style=\"color: #7fbf7f; text-decoration-color: #7fbf7f\">│   </span><span style=\"color: #008000; text-decoration-color: #008000\">'linux-etc-passwd.txt'</span>,\n",
       "<span style=\"color: #7fbf7f; text-decoration-color: #7fbf7f\">│   </span><span style=\"color: #008000; text-decoration-color: #008000\">'wcfile.txt'</span>,\n",
       "<span style=\"color: #7fbf7f; text-decoration-color: #7fbf7f\">│   </span><span style=\"color: #008000; text-decoration-color: #008000\">'myfile.txt'</span>\n",
       "<span style=\"font-weight: bold\">]</span>\n",
       "</pre>"
      ],
      "text/plain": [
       "\n",
       "\u001b[1m[\u001b[0m\n",
       "\u001b[2;32m│   \u001b[0m\u001b[32m'mini-access-log.txt'\u001b[0m,\n",
       "\u001b[2;32m│   \u001b[0m\u001b[32m'nums.txt'\u001b[0m,\n",
       "\u001b[2;32m│   \u001b[0m\u001b[32m'mydict.txt'\u001b[0m,\n",
       "\u001b[2;32m│   \u001b[0m\u001b[32m'mynewfile.txt'\u001b[0m,\n",
       "\u001b[2;32m│   \u001b[0m\u001b[32m'shoe-data.txt'\u001b[0m,\n",
       "\u001b[2;32m│   \u001b[0m\u001b[32m'linux-etc-passwd.txt'\u001b[0m,\n",
       "\u001b[2;32m│   \u001b[0m\u001b[32m'wcfile.txt'\u001b[0m,\n",
       "\u001b[2;32m│   \u001b[0m\u001b[32m'myfile.txt'\u001b[0m\n",
       "\u001b[1m]\u001b[0m\n"
      ]
     },
     "metadata": {},
     "output_type": "display_data"
    }
   ],
   "source": [
    "glob.glob('*.txt')    # module glob, function glob"
   ]
  },
  {
   "cell_type": "code",
   "execution_count": 38,
   "id": "261f1136",
   "metadata": {},
   "outputs": [],
   "source": [
    "# Write a function, file_length, that takes a filename and returns the length\n",
    "\n",
    "def file_length(filename):\n",
    "    total = 0    \n",
    "    \n",
    "    for one_line in open(filename):    # go over the file, one line at a time\n",
    "        total += len(one_line)         # add the current line's length to total\n",
    "        \n",
    "    return total      "
   ]
  },
  {
   "cell_type": "code",
   "execution_count": 39,
   "id": "7111c9f7",
   "metadata": {},
   "outputs": [
    {
     "data": {
      "text/html": [
       "<pre style='white-space:pre;overflow-x:auto;line-height:normal'><span style=\"color: #008080; text-decoration-color: #008080; font-weight: bold\">42</span>\n",
       "</pre>"
      ],
      "text/plain": [
       "\u001b[1;36m42\u001b[0m\n"
      ]
     },
     "metadata": {},
     "output_type": "display_data"
    }
   ],
   "source": [
    "file_length('nums.txt')"
   ]
  },
  {
   "cell_type": "code",
   "execution_count": 40,
   "id": "f42b9437",
   "metadata": {},
   "outputs": [
    {
     "data": {
      "text/html": [
       "<pre style='white-space:pre;overflow-x:auto;line-height:normal'><span style=\"color: #008080; text-decoration-color: #008080; font-weight: bold\">30</span>\n",
       "</pre>"
      ],
      "text/plain": [
       "\u001b[1;36m30\u001b[0m\n"
      ]
     },
     "metadata": {},
     "output_type": "display_data"
    }
   ],
   "source": [
    "file_length('mynewfile.txt')"
   ]
  },
  {
   "cell_type": "code",
   "execution_count": 41,
   "id": "cf42fb81",
   "metadata": {},
   "outputs": [
    {
     "data": {
      "text/html": [
       "<pre style='white-space:pre;overflow-x:auto;line-height:normal'><span style=\"color: #008080; text-decoration-color: #008080; font-weight: bold\">2683</span>\n",
       "</pre>"
      ],
      "text/plain": [
       "\u001b[1;36m2683\u001b[0m\n"
      ]
     },
     "metadata": {},
     "output_type": "display_data"
    }
   ],
   "source": [
    "file_length('linux-etc-passwd.txt')"
   ]
  },
  {
   "cell_type": "code",
   "execution_count": 42,
   "id": "c2a2a813",
   "metadata": {},
   "outputs": [
    {
     "name": "stdout",
     "output_type": "stream",
     "text": [
      "mini-access-log.txt:\t36562\n",
      "nums.txt:\t42\n",
      "mydict.txt:\t18\n",
      "mynewfile.txt:\t30\n",
      "shoe-data.txt:\t1676\n",
      "linux-etc-passwd.txt:\t2683\n",
      "wcfile.txt:\t165\n",
      "myfile.txt:\t30\n"
     ]
    }
   ],
   "source": [
    "# I can combine my new friend, glob.glob, with my new function, file_length:\n",
    "\n",
    "for one_filename in glob.glob('*.txt'):   # for each *.txt file in the current directory\n",
    "    l = file_length(one_filename)\n",
    "    print(f'{one_filename}:\\t{l}')"
   ]
  },
  {
   "cell_type": "code",
   "execution_count": 43,
   "id": "6b6391b9",
   "metadata": {},
   "outputs": [
    {
     "name": "stdout",
     "output_type": "stream",
     "text": [
      "-rw-r--r-- 1 reuven staff  2683 Mar 13  2016 linux-etc-passwd.txt\r\n",
      "-rw-r--r-- 1 reuven staff 36562 Aug  8  2014 mini-access-log.txt\r\n",
      "-rw-r--r-- 1 reuven staff    18 Jan 20 22:48 mydict.txt\r\n",
      "-rw-r--r-- 1 reuven staff    30 Jan 20 22:35 myfile.txt\r\n",
      "-rw-r--r-- 1 reuven staff    30 Jan 20 22:39 mynewfile.txt\r\n",
      "-rw-r--r-- 1 reuven staff    42 Sep 19  2017 nums.txt\r\n",
      "-rw-r--r-- 1 reuven staff  1676 Dec 14  2014 shoe-data.txt\r\n",
      "-rw-r--r-- 1 reuven staff   165 Nov 19  2013 wcfile.txt\r\n"
     ]
    }
   ],
   "source": [
    "!ls -l *.txt"
   ]
  },
  {
   "cell_type": "markdown",
   "id": "75713786",
   "metadata": {},
   "source": [
    "# Exercise: Pick a random character\n",
    "\n",
    "1. Use `glob.glob` to find all of the text files in the current directory (like I did).\n",
    "2. Go through each filename in a `for` loop.\n",
    "3. Open each file, and go through each line, one at a time.\n",
    "4. Use `random.randint` to choose a random character from that line.  Meaning: Calculate the length of the line with `len`, and then run `random.randint` to get a random number up to that.\n",
    "5. Print the filename, the number, and the character at that location in the file.\n",
    "\n",
    "Hints:\n",
    "- `glob.glob('*.txt')` -- returns a list of strings (filenames)\n",
    "- `random.randint(0, 100)` -- returns a random integer from 0 - 100\n",
    "- Don't forget to `import` each of the two modules we're using here."
   ]
  },
  {
   "cell_type": "code",
   "execution_count": 44,
   "id": "347a5082",
   "metadata": {},
   "outputs": [
    {
     "name": "stdout",
     "output_type": "stream",
     "text": [
      "-rw-r--r-- 1 reuven staff 2683 Mar 13  2016 linux-etc-passwd.txt\r\n"
     ]
    }
   ],
   "source": [
    "!ls -l linux-etc-passwd.txt"
   ]
  },
  {
   "cell_type": "code",
   "execution_count": 49,
   "id": "8acccdca",
   "metadata": {
    "collapsed": true
   },
   "outputs": [
    {
     "name": "stdout",
     "output_type": "stream",
     "text": [
      "mini-access-log.txt\t96\t.\n",
      "mini-access-log.txt\t100\tz\n",
      "mini-access-log.txt\t70\t.\n",
      "mini-access-log.txt\t21\t/\n",
      "mini-access-log.txt\t32\t:\n",
      "mini-access-log.txt\t27\t1\n",
      "mini-access-log.txt\t71\t\"\n",
      "mini-access-log.txt\t137\t \n",
      "mini-access-log.txt\t112\t5\n",
      "mini-access-log.txt\t46\t\"\n",
      "mini-access-log.txt\t69\t1\n",
      "mini-access-log.txt\t15\t \n",
      "mini-access-log.txt\t102\tb\n",
      "mini-access-log.txt\t108\tl\n",
      "mini-access-log.txt\t113\t \n",
      "mini-access-log.txt\t120\ta\n",
      "mini-access-log.txt\t102\t\"\n",
      "mini-access-log.txt\t134\te\n",
      "mini-access-log.txt\t100\t\"\n",
      "mini-access-log.txt\t78\t \n",
      "mini-access-log.txt\t80\t \n",
      "mini-access-log.txt\t135\tm\n",
      "mini-access-log.txt\t125\tl\n",
      "mini-access-log.txt\t147\tt\n",
      "mini-access-log.txt\t22\ta\n",
      "mini-access-log.txt\t103\t \n",
      "mini-access-log.txt\t38\t6\n",
      "mini-access-log.txt\t111\to\n",
      "mini-access-log.txt\t130\to\n",
      "mini-access-log.txt\t68\tT\n",
      "mini-access-log.txt\t53\tr\n",
      "mini-access-log.txt\t150\tw\n",
      "mini-access-log.txt\t117\tb\n",
      "mini-access-log.txt\t170\t\n",
      "\n",
      "mini-access-log.txt\t163\tt\n",
      "mini-access-log.txt\t14\t \n",
      "mini-access-log.txt\t25\t2\n",
      "mini-access-log.txt\t38\t \n",
      "mini-access-log.txt\t159\tg\n",
      "mini-access-log.txt\t100\ti\n",
      "mini-access-log.txt\t118\tb\n",
      "mini-access-log.txt\t121\tl\n",
      "mini-access-log.txt\t81\tr\n",
      "mini-access-log.txt\t14\t \n",
      "mini-access-log.txt\t32\t:\n",
      "mini-access-log.txt\t3\t5\n",
      "mini-access-log.txt\t82\t \n",
      "mini-access-log.txt\t113\t.\n",
      "mini-access-log.txt\t22\ta\n",
      "mini-access-log.txt\t41\t2\n",
      "mini-access-log.txt\t20\t/\n",
      "mini-access-log.txt\t88\t \n",
      "mini-access-log.txt\t89\tt\n",
      "mini-access-log.txt\t30\t1\n",
      "mini-access-log.txt\t159\tt\n",
      "mini-access-log.txt\t129\tp\n",
      "mini-access-log.txt\t156\t/\n",
      "mini-access-log.txt\t3\t2\n",
      "mini-access-log.txt\t166\te\n",
      "mini-access-log.txt\t172\t/\n",
      "mini-access-log.txt\t18\t3\n",
      "mini-access-log.txt\t50\t \n",
      "mini-access-log.txt\t151\te\n",
      "mini-access-log.txt\t171\tm\n",
      "mini-access-log.txt\t11\t8\n",
      "mini-access-log.txt\t178\tt\n",
      "mini-access-log.txt\t116\t \n",
      "mini-access-log.txt\t13\t-\n",
      "mini-access-log.txt\t5\t9\n",
      "mini-access-log.txt\t157\th\n",
      "mini-access-log.txt\t135\to\n",
      "mini-access-log.txt\t118\t-\n",
      "mini-access-log.txt\t104\t \n",
      "mini-access-log.txt\t172\to\n",
      "mini-access-log.txt\t114\t1\n",
      "mini-access-log.txt\t141\tG\n",
      "mini-access-log.txt\t100\tT\n",
      "mini-access-log.txt\t120\ta\n",
      "mini-access-log.txt\t111\t/\n",
      "mini-access-log.txt\t101\tt\n",
      "mini-access-log.txt\t95\t-\n",
      "mini-access-log.txt\t60\to\n",
      "mini-access-log.txt\t170\tt\n",
      "mini-access-log.txt\t16\t \n",
      "mini-access-log.txt\t168\tt\n",
      "mini-access-log.txt\t93\t:\n",
      "mini-access-log.txt\t157\ta\n",
      "mini-access-log.txt\t154\tg\n",
      "mini-access-log.txt\t56\ts\n",
      "mini-access-log.txt\t56\ts\n",
      "mini-access-log.txt\t61\tP\n",
      "mini-access-log.txt\t80\tT\n",
      "mini-access-log.txt\t95\to\n",
      "mini-access-log.txt\t136\tt\n",
      "mini-access-log.txt\t131\tg\n",
      "mini-access-log.txt\t52\tb\n",
      "mini-access-log.txt\t9\t.\n",
      "mini-access-log.txt\t46\t \n",
      "mini-access-log.txt\t155\tg\n",
      "mini-access-log.txt\t85\t \n",
      "mini-access-log.txt\t107\tl\n",
      "mini-access-log.txt\t87\t0\n",
      "mini-access-log.txt\t140\t.\n",
      "mini-access-log.txt\t67\t/\n",
      "mini-access-log.txt\t86\t0\n",
      "mini-access-log.txt\t125\tG\n",
      "mini-access-log.txt\t142\tr\n",
      "mini-access-log.txt\t0\t6\n",
      "mini-access-log.txt\t212\ta\n",
      "mini-access-log.txt\t97\t\"\n",
      "mini-access-log.txt\t73\t/\n",
      "mini-access-log.txt\t63\tl\n",
      "mini-access-log.txt\t175\t\n",
      "\n",
      "mini-access-log.txt\t145\to\n",
      "mini-access-log.txt\t144\tt\n",
      "mini-access-log.txt\t122\te\n",
      "mini-access-log.txt\t55\tw\n",
      "mini-access-log.txt\t107\tl\n",
      "mini-access-log.txt\t28\t1\n",
      "mini-access-log.txt\t90\tc\n",
      "mini-access-log.txt\t110\ti\n",
      "mini-access-log.txt\t77\t1\n",
      "mini-access-log.txt\t35\t3\n",
      "mini-access-log.txt\t10\t.\n",
      "mini-access-log.txt\t53\ta\n",
      "mini-access-log.txt\t10\t.\n",
      "mini-access-log.txt\t111\t(\n",
      "mini-access-log.txt\t78\tP\n",
      "mini-access-log.txt\t105\ta\n",
      "mini-access-log.txt\t129\t6\n",
      "mini-access-log.txt\t77\tT\n",
      "mini-access-log.txt\t43\t0\n",
      "mini-access-log.txt\t42\t2\n",
      "mini-access-log.txt\t131\t;\n",
      "mini-access-log.txt\t76\tT\n",
      "mini-access-log.txt\t1\t9\n",
      "mini-access-log.txt\t19\t3\n",
      "mini-access-log.txt\t8\t7\n",
      "mini-access-log.txt\t87\t7\n",
      "mini-access-log.txt\t54\ti\n",
      "mini-access-log.txt\t140\t.\n",
      "mini-access-log.txt\t98\t-\n",
      "mini-access-log.txt\t72\t3\n",
      "mini-access-log.txt\t26\t0\n",
      "mini-access-log.txt\t110\tl\n",
      "mini-access-log.txt\t14\t \n",
      "mini-access-log.txt\t137\tb\n",
      "mini-access-log.txt\t64\to\n",
      "mini-access-log.txt\t103\t\"\n",
      "mini-access-log.txt\t98\t\"\n",
      "mini-access-log.txt\t120\to\n",
      "mini-access-log.txt\t125\tl\n",
      "mini-access-log.txt\t156\tg\n",
      "mini-access-log.txt\t15\t-\n",
      "mini-access-log.txt\t67\t_\n",
      "mini-access-log.txt\t125\te\n",
      "mini-access-log.txt\t167\t/\n",
      "mini-access-log.txt\t82\t \n",
      "mini-access-log.txt\t6\t.\n",
      "mini-access-log.txt\t75\t1\n",
      "mini-access-log.txt\t162\to\n",
      "mini-access-log.txt\t2\t.\n",
      "mini-access-log.txt\t4\t4\n",
      "mini-access-log.txt\t171\tt\n",
      "mini-access-log.txt\t178\t)\n",
      "mini-access-log.txt\t79\tT\n",
      "mini-access-log.txt\t64\to\n",
      "mini-access-log.txt\t21\tJ\n",
      "mini-access-log.txt\t12\t \n",
      "mini-access-log.txt\t61\tx\n",
      "mini-access-log.txt\t63\tw\n",
      "mini-access-log.txt\t134\tr\n",
      "mini-access-log.txt\t24\tn\n",
      "mini-access-log.txt\t104\t/\n",
      "mini-access-log.txt\t93\t1\n",
      "mini-access-log.txt\t267\t/\n",
      "mini-access-log.txt\t248\ty\n",
      "mini-access-log.txt\t133\tm\n",
      "mini-access-log.txt\t85\tc\n",
      "mini-access-log.txt\t133\tn\n",
      "mini-access-log.txt\t95\tc\n",
      "mini-access-log.txt\t110\t4\n",
      "mini-access-log.txt\t149\te\n",
      "mini-access-log.txt\t12\t5\n",
      "mini-access-log.txt\t146\t/\n",
      "mini-access-log.txt\t46\t\"\n",
      "mini-access-log.txt\t132\t\"\n",
      "mini-access-log.txt\t2\t.\n",
      "mini-access-log.txt\t102\t(\n",
      "mini-access-log.txt\t121\tt\n",
      "mini-access-log.txt\t67\t_\n",
      "mini-access-log.txt\t92\t1\n",
      "mini-access-log.txt\t101\t \n",
      "mini-access-log.txt\t156\t.\n",
      "mini-access-log.txt\t169\tt\n",
      "mini-access-log.txt\t117\tc\n",
      "mini-access-log.txt\t99\t2\n",
      "mini-access-log.txt\t68\tm\n",
      "mini-access-log.txt\t164\to\n",
      "mini-access-log.txt\t165\tm\n",
      "mini-access-log.txt\t162\t.\n",
      "mini-access-log.txt\t28\t0\n",
      "mini-access-log.txt\t124\tb\n",
      "mini-access-log.txt\t10\t3\n",
      "mini-access-log.txt\t135\t1\n",
      "mini-access-log.txt\t87\t1\n",
      "nums.txt\t0\t5\n",
      "nums.txt\t1\t1\n",
      "nums.txt\t1\t2\n",
      "nums.txt\t4\t\n",
      "\n",
      "nums.txt\t10\t \n",
      "nums.txt\t0\t\n",
      "\n",
      "nums.txt\t0\t \n",
      "mydict.txt\t1\t=\n",
      "mydict.txt\t2\t2\n",
      "mydict.txt\t5\tl\n",
      "mynewfile.txt\t4\t\n",
      "\n",
      "mynewfile.txt\t4\ti\n",
      "mynewfile.txt\t1\t*\n",
      "mynewfile.txt\t3\t \n",
      "shoe-data.txt\t9\ta\n",
      "shoe-data.txt\t10\t\t\n",
      "shoe-data.txt\t15\t\n",
      "\n",
      "shoe-data.txt\t14\tn\n",
      "shoe-data.txt\t6\th\n",
      "shoe-data.txt\t0\tN\n",
      "shoe-data.txt\t6\ti\n",
      "shoe-data.txt\t1\td\n",
      "shoe-data.txt\t11\t\t\n",
      "shoe-data.txt\t1\te\n",
      "shoe-data.txt\t15\tn\n",
      "shoe-data.txt\t12\t1\n",
      "shoe-data.txt\t12\te\n",
      "shoe-data.txt\t14\t8\n",
      "shoe-data.txt\t8\ti\n",
      "shoe-data.txt\t8\th\n",
      "shoe-data.txt\t4\ta\n",
      "shoe-data.txt\t11\t1\n",
      "shoe-data.txt\t10\tk\n",
      "shoe-data.txt\t4\tB\n",
      "shoe-data.txt\t0\tN\n",
      "shoe-data.txt\t13\t\n",
      "\n",
      "shoe-data.txt\t0\tN\n",
      "shoe-data.txt\t13\t\n",
      "\n",
      "shoe-data.txt\t12\t\t\n",
      "shoe-data.txt\t1\te\n",
      "shoe-data.txt\t6\t\t\n",
      "shoe-data.txt\t16\t\t\n",
      "shoe-data.txt\t5\ta\n",
      "shoe-data.txt\t3\td\n",
      "shoe-data.txt\t13\tr\n",
      "shoe-data.txt\t5\ta\n",
      "shoe-data.txt\t14\tn\n",
      "shoe-data.txt\t8\tc\n",
      "shoe-data.txt\t2\tk\n",
      "shoe-data.txt\t8\tn\n",
      "shoe-data.txt\t9\tk\n",
      "shoe-data.txt\t10\tc\n",
      "shoe-data.txt\t4\tB\n",
      "shoe-data.txt\t11\t\t\n",
      "shoe-data.txt\t2\tk\n",
      "shoe-data.txt\t9\ta\n",
      "shoe-data.txt\t3\td\n",
      "shoe-data.txt\t14\t3\n",
      "shoe-data.txt\t20\t9\n",
      "shoe-data.txt\t12\t5\n",
      "shoe-data.txt\t9\ti\n",
      "shoe-data.txt\t2\tk\n",
      "shoe-data.txt\t13\t\t\n",
      "shoe-data.txt\t1\td\n",
      "shoe-data.txt\t13\tr\n",
      "shoe-data.txt\t8\tk\n",
      "shoe-data.txt\t11\t8\n",
      "shoe-data.txt\t11\tk\n",
      "shoe-data.txt\t15\tt\n",
      "shoe-data.txt\t1\ti\n",
      "shoe-data.txt\t4\t\t\n",
      "shoe-data.txt\t1\ti\n",
      "shoe-data.txt\t6\t\t\n",
      "shoe-data.txt\t13\tr\n",
      "shoe-data.txt\t7\tp\n",
      "shoe-data.txt\t6\t\t\n",
      "shoe-data.txt\t8\ti\n",
      "shoe-data.txt\t1\ti\n",
      "shoe-data.txt\t1\ti\n",
      "shoe-data.txt\t0\tA\n",
      "shoe-data.txt\t5\tp\n",
      "shoe-data.txt\t8\th\n",
      "shoe-data.txt\t10\te\n",
      "shoe-data.txt\t6\tl\n",
      "shoe-data.txt\t10\te\n",
      "shoe-data.txt\t8\tn\n",
      "shoe-data.txt\t9\tn\n",
      "shoe-data.txt\t9\t\t\n",
      "shoe-data.txt\t1\ti\n",
      "shoe-data.txt\t12\t9\n",
      "shoe-data.txt\t7\ta\n",
      "shoe-data.txt\t15\t\n",
      "\n",
      "shoe-data.txt\t13\t6\n",
      "shoe-data.txt\t12\t8\n",
      "shoe-data.txt\t4\tB\n",
      "shoe-data.txt\t19\t\n",
      "\n",
      "shoe-data.txt\t15\t\n",
      "\n",
      "shoe-data.txt\t14\t0\n",
      "shoe-data.txt\t18\t\t\n",
      "shoe-data.txt\t5\tp\n",
      "shoe-data.txt\t7\to\n",
      "shoe-data.txt\t10\t\t\n",
      "shoe-data.txt\t12\t3\n",
      "shoe-data.txt\t15\t\n",
      "\n",
      "shoe-data.txt\t4\t\t\n",
      "shoe-data.txt\t8\tk\n",
      "shoe-data.txt\t16\tk\n",
      "shoe-data.txt\t12\t8\n",
      "shoe-data.txt\t15\tk\n",
      "shoe-data.txt\t4\t\t\n",
      "shoe-data.txt\t16\tg\n",
      "shoe-data.txt\t5\ta\n",
      "shoe-data.txt\t8\tl\n",
      "shoe-data.txt\t2\tk\n",
      "linux-etc-passwd.txt\t10\ta\n",
      "linux-etc-passwd.txt\t7\th\n",
      "linux-etc-passwd.txt\t8\t:\n",
      "linux-etc-passwd.txt\t41\to\n",
      "linux-etc-passwd.txt\t19\t/\n",
      "linux-etc-passwd.txt\t22\tr\n",
      "linux-etc-passwd.txt\t8\t:\n",
      "linux-etc-passwd.txt\t39\t/\n",
      "linux-etc-passwd.txt\t32\ts\n",
      "linux-etc-passwd.txt\t1\tp\n",
      "linux-etc-passwd.txt\t15\t:\n",
      "linux-etc-passwd.txt\t0\t\n",
      "\n",
      "linux-etc-passwd.txt\t0\t\n",
      "\n",
      "linux-etc-passwd.txt\t0\t\n",
      "\n",
      "linux-etc-passwd.txt\t10\t:\n",
      "linux-etc-passwd.txt\t21\tr\n",
      "linux-etc-passwd.txt\t36\to\n",
      "linux-etc-passwd.txt\t38\tr\n",
      "linux-etc-passwd.txt\t2\tc\n",
      "linux-etc-passwd.txt\t17\ti\n",
      "linux-etc-passwd.txt\t24\tn\n",
      "linux-etc-passwd.txt\t32\tg\n",
      "linux-etc-passwd.txt\t0\t\n",
      "\n",
      "linux-etc-passwd.txt\t27\t:\n",
      "linux-etc-passwd.txt\t22\te\n",
      "linux-etc-passwd.txt\t32\tb\n",
      "linux-etc-passwd.txt\t21\t/\n",
      "linux-etc-passwd.txt\t24\t:\n",
      "linux-etc-passwd.txt\t8\t0\n",
      "linux-etc-passwd.txt\t40\t/\n",
      "linux-etc-passwd.txt\t18\t:\n",
      "linux-etc-passwd.txt\t34\tf\n",
      "linux-etc-passwd.txt\t10\t0\n",
      "linux-etc-passwd.txt\t19\tP\n",
      "linux-etc-passwd.txt\t33\tr\n",
      "linux-etc-passwd.txt\t62\ts\n",
      "linux-etc-passwd.txt\t10\t:\n",
      "linux-etc-passwd.txt\t23\t:\n",
      "linux-etc-passwd.txt\t53\ts\n",
      "linux-etc-passwd.txt\t38\t,\n",
      "linux-etc-passwd.txt\t48\t/\n",
      "linux-etc-passwd.txt\t26\tr\n",
      "linux-etc-passwd.txt\t14\t1\n",
      "linux-etc-passwd.txt\t44\th\n",
      "linux-etc-passwd.txt\t11\t:\n",
      "linux-etc-passwd.txt\t19\tv\n",
      "linux-etc-passwd.txt\t27\tt\n",
      "linux-etc-passwd.txt\t16\t2\n",
      "linux-etc-passwd.txt\t54\tl\n",
      "linux-etc-passwd.txt\t20\t1\n",
      "linux-etc-passwd.txt\t26\t/\n",
      "linux-etc-passwd.txt\t13\t1\n",
      "linux-etc-passwd.txt\t42\tm\n",
      "linux-etc-passwd.txt\t22\tl\n",
      "linux-etc-passwd.txt\t5\t:\n",
      "wcfile.txt\t8\ta\n",
      "wcfile.txt\t0\t\n",
      "\n",
      "wcfile.txt\t26\t0\n",
      "wcfile.txt\t0\t\n",
      "\n",
      "wcfile.txt\t0\tI\n",
      "wcfile.txt\t0\t\n",
      "\n",
      "wcfile.txt\t2\t \n",
      "wcfile.txt\t0\t\n",
      "\n",
      "wcfile.txt\t2\t \n",
      "wcfile.txt\t0\t\n",
      "\n",
      "wcfile.txt\t3\t!\n",
      "myfile.txt\t2\tc\n",
      "myfile.txt\t3\th\n",
      "myfile.txt\t7\td\n",
      "myfile.txt\t6\tg\n"
     ]
    }
   ],
   "source": [
    "import glob\n",
    "import random\n",
    "\n",
    "for one_filename in glob.glob('*.txt'):    # go through each filename in the current directory\n",
    "    for one_line in open(one_filename):    # go through each line in each file\n",
    "        n = random.randint(0, len(one_line)-1)  # get a character index for the current line\n",
    "        print(f'{one_filename}\\t{n}\\t{one_line[n]}')"
   ]
  },
  {
   "cell_type": "markdown",
   "id": "512de089",
   "metadata": {},
   "source": [
    "# Next up:\n",
    "\n",
    "1. Different forms of `import`\n",
    "2. Where Python loads modules from\n",
    "3. How to write our own module\n"
   ]
  },
  {
   "cell_type": "code",
   "execution_count": 53,
   "id": "ba0782bd",
   "metadata": {
    "collapsed": true
   },
   "outputs": [
    {
     "name": "stdout",
     "output_type": "stream",
     "text": [
      "There are 16 files in the current directory\n",
      "/etc/syslog.conf\t38\tf\n",
      "/etc/syslog.conf\t0\t\n",
      "\n",
      "/etc/syslog.conf\t21\t.\n",
      "/etc/rtadvd.conf\t57\tp\n",
      "/etc/rtadvd.conf\t0\t#\n",
      "/etc/rtadvd.conf\t48\ta\n",
      "/etc/rtadvd.conf\t42\ts\n",
      "/etc/rtadvd.conf\t41\to\n",
      "/etc/rtadvd.conf\t0\t#\n",
      "/etc/rtadvd.conf\t17\td\n",
      "/etc/rtadvd.conf\t1\t \n",
      "/etc/rtadvd.conf\t18\tr\n",
      "/etc/rtadvd.conf\t0\t\n",
      "\n",
      "/etc/rtadvd.conf\t15\t \n",
      "/etc/rtadvd.conf\t0\t#\n",
      "/etc/rtadvd.conf\t6\tt\n",
      "/etc/rtadvd.conf\t53\th\n",
      "/etc/rtadvd.conf\t13\t,\n",
      "/etc/rtadvd.conf\t61\t \n",
      "/etc/rtadvd.conf\t36\tk\n",
      "/etc/rtadvd.conf\t1\t\n",
      "\n",
      "/etc/rtadvd.conf\t0\t#\n",
      "/etc/rtadvd.conf\t6\tr\n",
      "/etc/pf.conf\t1\t\n",
      "\n",
      "/etc/pf.conf\t3\te\n",
      "/etc/pf.conf\t0\t#\n",
      "/etc/pf.conf\t43\th\n",
      "/etc/pf.conf\t28\te\n",
      "/etc/pf.conf\t2\te\n",
      "/etc/pf.conf\t6\ti\n",
      "/etc/pf.conf\t14\to\n",
      "/etc/pf.conf\t1\t\n",
      "\n",
      "/etc/pf.conf\t54\to\n",
      "/etc/pf.conf\t28\t \n",
      "/etc/pf.conf\t41\te\n",
      "/etc/pf.conf\t1\t \n",
      "/etc/pf.conf\t8\ts\n",
      "/etc/pf.conf\t1\t\n",
      "\n",
      "/etc/pf.conf\t13\t(\n",
      "/etc/pf.conf\t1\t\n",
      "\n",
      "/etc/pf.conf\t0\t\n",
      "\n",
      "/etc/pf.conf\t1\t\n",
      "\n",
      "/etc/pf.conf\t20\to\n",
      "/etc/pf.conf\t1\t\n",
      "\n",
      "/etc/pf.conf\t16\tm\n",
      "/etc/pf.conf\t10\t \n",
      "/etc/pf.conf\t23\t\"\n",
      "/etc/pf.conf\t29\t\n",
      "\n",
      "/etc/pf.conf\t2\tc\n",
      "/etc/pf.conf\t50\ta\n",
      "/etc/launchd.conf\t15\t0\n",
      "/etc/autofs.conf\t1\t\n",
      "\n",
      "/etc/autofs.conf\t0\t#\n",
      "/etc/autofs.conf\t0\t#\n",
      "/etc/autofs.conf\t0\t\n",
      "\n",
      "/etc/autofs.conf\t52\ti\n",
      "/etc/autofs.conf\t47\tt\n",
      "/etc/autofs.conf\t1\t \n",
      "/etc/autofs.conf\t2\tT\n",
      "/etc/autofs.conf\t0\tA\n",
      "/etc/autofs.conf\t0\t\n",
      "\n",
      "/etc/autofs.conf\t13\tt\n",
      "/etc/autofs.conf\t31\t \n",
      "/etc/autofs.conf\t22\to\n",
      "/etc/autofs.conf\t8\tN\n",
      "/etc/autofs.conf\t0\t\n",
      "\n",
      "/etc/autofs.conf\t3\tf\n",
      "/etc/autofs.conf\t27\tt\n",
      "/etc/autofs.conf\t34\ti\n",
      "/etc/autofs.conf\t5\tM\n",
      "/etc/autofs.conf\t0\t\n",
      "\n",
      "/etc/autofs.conf\t19\tt\n",
      "/etc/autofs.conf\t42\tu\n",
      "/etc/autofs.conf\t23\tL\n",
      "/etc/autofs.conf\t0\t\n",
      "\n",
      "/etc/autofs.conf\t50\tq\n",
      "/etc/autofs.conf\t7\tt\n",
      "/etc/autofs.conf\t57\ts\n",
      "/etc/autofs.conf\t22\tg\n",
      "/etc/autofs.conf\t30\t \n",
      "/etc/autofs.conf\t20\to\n",
      "/etc/autofs.conf\t5\tM\n",
      "/etc/autofs.conf\t0\t\n",
      "\n",
      "/etc/autofs.conf\t9\tp\n",
      "/etc/autofs.conf\t43\tt\n",
      "/etc/autofs.conf\t51\to\n",
      "/etc/autofs.conf\t3\th\n",
      "/etc/autofs.conf\t66\tt\n",
      "/etc/autofs.conf\t23\ts\n",
      "/etc/autofs.conf\t19\tn\n",
      "/etc/autofs.conf\t0\t\n",
      "\n",
      "/etc/autofs.conf\t12\ti\n",
      "/etc/autofs.conf\t38\tu\n",
      "/etc/autofs.conf\t3\th\n",
      "/etc/autofs.conf\t6\t \n",
      "/etc/autofs.conf\t0\tA\n",
      "/etc/autofs.conf\t0\t\n",
      "\n",
      "/etc/autofs.conf\t64\t.\n",
      "/etc/autofs.conf\t52\tt\n",
      "/etc/autofs.conf\t9\ta\n",
      "/etc/autofs.conf\t13\tN\n",
      "/etc/slpsa.conf\t16\tn\n",
      "/etc/ntp_opendirectory.conf\t1\t \n",
      "/etc/ntp_opendirectory.conf\t0\t\n",
      "\n",
      "/etc/resolv.conf\t0\t#\n",
      "/etc/resolv.conf\t7\t \n",
      "/etc/resolv.conf\t1\t\n",
      "\n",
      "/etc/resolv.conf\t63\ts\n",
      "/etc/resolv.conf\t50\ts\n",
      "/etc/resolv.conf\t26\t.\n",
      "/etc/resolv.conf\t0\t#\n",
      "/etc/resolv.conf\t24\tu\n",
      "/etc/resolv.conf\t4\ts\n",
      "/etc/resolv.conf\t1\t\n",
      "\n",
      "/etc/resolv.conf\t9\tO\n",
      "/etc/resolv.conf\t14\t \n",
      "/etc/resolv.conf\t0\t#\n",
      "/etc/resolv.conf\t4\ti\n",
      "/etc/resolv.conf\t1\t\n",
      "\n",
      "/etc/resolv.conf\t1\ta\n",
      "/etc/resolv.conf\t21\t.\n",
      "/etc/nfs.conf\t0\t#\n",
      "/etc/nfs.conf\t36\tl\n",
      "/etc/nfs.conf\t0\t#\n",
      "/etc/asl.conf\t2\t\n",
      "\n",
      "/etc/asl.conf\t9\tr\n",
      "/etc/asl.conf\t2\t\n",
      "\n",
      "/etc/asl.conf\t0\t\n",
      "\n",
      "/etc/asl.conf\t6\ta\n",
      "/etc/asl.conf\t31\te\n",
      "/etc/asl.conf\t0\t\n",
      "\n",
      "/etc/asl.conf\t26\to\n",
      "/etc/asl.conf\t25\tc\n",
      "/etc/asl.conf\t0\t\n",
      "\n",
      "/etc/asl.conf\t37\tr\n",
      "/etc/asl.conf\t20\ta\n",
      "/etc/asl.conf\t0\t\n",
      "\n",
      "/etc/asl.conf\t0\t#\n",
      "/etc/asl.conf\t8\te\n",
      "/etc/asl.conf\t0\t\n",
      "\n",
      "/etc/asl.conf\t3\ta\n",
      "/etc/asl.conf\t13\ts\n",
      "/etc/asl.conf\t0\t\n",
      "\n",
      "/etc/asl.conf\t0\t#\n",
      "/etc/asl.conf\t24\ti\n",
      "/etc/asl.conf\t0\t\n",
      "\n",
      "/etc/asl.conf\t32\t \n",
      "/etc/asl.conf\t22\to\n",
      "/etc/asl.conf\t0\t\n",
      "\n",
      "/etc/asl.conf\t21\ts\n",
      "/etc/asl.conf\t18\t0\n",
      "/etc/asl.conf\t0\t?\n",
      "/etc/asl.conf\t20\tf\n",
      "/etc/asl.conf\t25\te\n",
      "/etc/asl.conf\t50\tm\n",
      "/etc/asl.conf\t0\t\n",
      "\n",
      "/etc/asl.conf\t19\te\n",
      "/etc/asl.conf\t69\t \n",
      "/etc/ntp.conf\t1\te\n"
     ]
    },
    {
     "data": {
      "text/html": [
       "<div id='friendly-message5'><pre style='white-space:pre;overflow-x:auto;line-height:normal'><span style=\"color: #dd0000; text-decoration-color: #dd0000; background-color: #ffffff\">PermissionError</span>: [Errno 13] Permission denied: '/etc/AFP.conf'        \n",
       "</pre></div>"
      ],
      "text/plain": [
       "\u001b[38;2;221;0;0;48;2;255;255;255mPermissionError\u001b[0m: [Errno 13] Permission denied: '/etc/AFP.conf'        \n"
      ]
     },
     "metadata": {},
     "output_type": "display_data"
    },
    {
     "data": {
      "text/html": [
       "\n",
       "        <button\n",
       "            id='friendly-tb-btn-show5'\n",
       "            onclick='friendly_toggle_more5()'\n",
       "            style=''>\n",
       "        More ...\n",
       "        </button>\n",
       "        <script type=\"text/Javascript\"> function friendly_toggle_more5(){\n",
       "        var btn = document.getElementById('friendly-tb-btn-show5');\n",
       "        var btn_what = document.getElementById('friendly-tb-btn-show-what5');\n",
       "        var btn_where = document.getElementById('friendly-tb-btn-show-where5');\n",
       "        var btn_why = document.getElementById('friendly-tb-btn-show-why5');\n",
       "        var message = document.getElementById('friendly-message5');\n",
       "        var friendly_tb_content = document.getElementById('friendly-tb-friendly_tb-content5');\n",
       "        var what_content = document.getElementById('friendly-tb-what-content5');\n",
       "        var why_content = document.getElementById('friendly-tb-why-content5');\n",
       "        var where_content = document.getElementById('friendly-tb-where-content5');\n",
       "\n",
       "        if (btn_what.style.display == 'none'){\n",
       "            message.style.display = 'none';\n",
       "            btn_what.style.display = 'block';\n",
       "            btn_why.style.display = 'block';\n",
       "            btn_where.style.display = 'block';\n",
       "            friendly_tb_content.style.display = 'block';\n",
       "            btn.textContent = \"Show message only\";\n",
       "        } else {\n",
       "            btn_what.style.display = 'none';\n",
       "            btn_what.textContent = 'what()';\n",
       "            btn_why.style.display = 'none';\n",
       "            btn_why.textContent = 'why()';\n",
       "            btn_where.style.display = 'none';\n",
       "            btn_where.textContent = 'where()';\n",
       "            what_content.style.display = 'none';\n",
       "            why_content.style.display = 'none';\n",
       "            where_content.style.display = 'none';\n",
       "            friendly_tb_content.style.display = 'none';\n",
       "            message.style.display = 'block';\n",
       "            btn.textContent = \"More ...\";\n",
       "        }\n",
       "        };\n",
       "        </script>\n",
       "        "
      ]
     },
     "metadata": {},
     "output_type": "display_data"
    },
    {
     "data": {
      "text/html": [
       "<div id='friendly-tb-friendly_tb-content5' style='display:none'><pre style='white-space:pre;overflow-x:auto;line-height:normal'><span style=\"color: #dd0000; text-decoration-color: #dd0000; background-color: #ffffff\">Traceback (most recent call last):</span><span style=\"background-color: #ffffff\">                                                                  </span>\n",
       "<span style=\"color: #101010; text-decoration-color: #101010; background-color: #ffffff\">  Code block </span><span style=\"color: #783114; text-decoration-color: #783114; background-color: #ffffff\">[</span><span style=\"color: #101010; text-decoration-color: #101010; background-color: #ffffff\">53</span><span style=\"color: #783114; text-decoration-color: #783114; background-color: #ffffff\">]</span><span style=\"color: #101010; text-decoration-color: #101010; background-color: #ffffff\">, line 7, in </span><span style=\"color: #0011aa; text-decoration-color: #0011aa; background-color: #ffffff\">&lt;module&gt;</span><span style=\"background-color: #ffffff\">                                                              </span>\n",
       "<span style=\"color: #101010; text-decoration-color: #101010; background-color: #ffffff\">    </span><span style=\"color: #005500; text-decoration-color: #005500; background-color: #ffffff\">for</span><span style=\"color: #101010; text-decoration-color: #101010; background-color: #ffffff\"> </span><span style=\"color: #0011aa; text-decoration-color: #0011aa; background-color: #ffffff\">one_line</span><span style=\"color: #101010; text-decoration-color: #101010; background-color: #ffffff\"> </span><span style=\"color: #005500; text-decoration-color: #005500; background-color: #ffffff\">in</span><span style=\"color: #101010; text-decoration-color: #101010; background-color: #ffffff\"> </span><span style=\"color: #005500; text-decoration-color: #005500; background-color: #ffffff\">open</span><span style=\"color: #783114; text-decoration-color: #783114; background-color: #ffffff\">(</span><span style=\"color: #0011aa; text-decoration-color: #0011aa; background-color: #ffffff\">one_filename</span><span style=\"color: #783114; text-decoration-color: #783114; background-color: #ffffff\">):</span><span style=\"color: #101010; text-decoration-color: #101010; background-color: #ffffff\">    </span><span style=\"color: #808080; text-decoration-color: #808080; background-color: #ffffff\"># go through each line in each file</span><span style=\"background-color: #ffffff\">                      </span>\n",
       "<span style=\"color: #dd0000; text-decoration-color: #dd0000; background-color: #ffffff\">PermissionError</span><span style=\"color: #101010; text-decoration-color: #101010; background-color: #ffffff\">: </span><span style=\"color: #0011aa; text-decoration-color: #0011aa; background-color: #ffffff\">[Errno 13] Permission denied: '/etc/AFP.conf'</span><span style=\"background-color: #ffffff\">                                      </span>\n",
       "\n",
       "Friendly-traceback does not know the cause of this error.                                           \n",
       "</pre></div>"
      ],
      "text/plain": [
       "\u001b[38;2;221;0;0;48;2;255;255;255mTraceback (most recent call last):\u001b[0m\u001b[48;2;255;255;255m                                                                  \u001b[0m\n",
       "\u001b[38;2;16;16;16;48;2;255;255;255m  Code block \u001b[0m\u001b[38;2;120;49;20;48;2;255;255;255m[\u001b[0m\u001b[38;2;16;16;16;48;2;255;255;255m53\u001b[0m\u001b[38;2;120;49;20;48;2;255;255;255m]\u001b[0m\u001b[38;2;16;16;16;48;2;255;255;255m, line \u001b[0m\u001b[38;2;16;16;16;48;2;255;255;255m7\u001b[0m\u001b[38;2;16;16;16;48;2;255;255;255m, in \u001b[0m\u001b[38;2;0;17;170;48;2;255;255;255m<module>\u001b[0m\u001b[48;2;255;255;255m                                                              \u001b[0m\n",
       "\u001b[38;2;16;16;16;48;2;255;255;255m    \u001b[0m\u001b[38;2;0;85;0;48;2;255;255;255mfor\u001b[0m\u001b[38;2;16;16;16;48;2;255;255;255m \u001b[0m\u001b[38;2;0;17;170;48;2;255;255;255mone_line\u001b[0m\u001b[38;2;16;16;16;48;2;255;255;255m \u001b[0m\u001b[38;2;0;85;0;48;2;255;255;255min\u001b[0m\u001b[38;2;16;16;16;48;2;255;255;255m \u001b[0m\u001b[38;2;0;85;0;48;2;255;255;255mopen\u001b[0m\u001b[38;2;120;49;20;48;2;255;255;255m(\u001b[0m\u001b[38;2;0;17;170;48;2;255;255;255mone_filename\u001b[0m\u001b[38;2;120;49;20;48;2;255;255;255m)\u001b[0m\u001b[38;2;120;49;20;48;2;255;255;255m:\u001b[0m\u001b[38;2;16;16;16;48;2;255;255;255m    \u001b[0m\u001b[38;2;128;128;128;48;2;255;255;255m# go through each line in each file\u001b[0m\u001b[48;2;255;255;255m                      \u001b[0m\n",
       "\u001b[38;2;221;0;0;48;2;255;255;255mPermissionError\u001b[0m\u001b[38;2;16;16;16;48;2;255;255;255m: \u001b[0m\u001b[38;2;0;17;170;48;2;255;255;255m[Errno 13] Permission denied: '/etc/AFP.conf'\u001b[0m\u001b[48;2;255;255;255m                                      \u001b[0m\n",
       "\n",
       "Friendly-traceback does not know the cause of this error.                                           \n"
      ]
     },
     "metadata": {},
     "output_type": "display_data"
    },
    {
     "data": {
      "text/html": [
       "<script type=\"text/Javascript\"> function toggle_what5(){\n",
       "     var content = document.getElementById('friendly-tb-what-content5');\n",
       "     var btn = document.getElementById('friendly-tb-btn-show-what5');\n",
       "        if (content.style.display === 'none') {\n",
       "            content.style.display = 'block';\n",
       "            btn.textContent = \"Hide what()\";\n",
       "        } else {\n",
       "            content.style.display = 'none';\n",
       "            btn.textContent = \"what()\";\n",
       "       }\n",
       "    }\n",
       "     </script>\n",
       "     <button\n",
       "         id='friendly-tb-btn-show-what5'\n",
       "         onclick='toggle_what5()'\n",
       "         style='display:none '>\n",
       "     what()\n",
       "     </button>\n",
       "    "
      ]
     },
     "metadata": {},
     "output_type": "display_data"
    },
    {
     "data": {
      "text/html": [
       "<div id='friendly-tb-what-content5' style='display:none'><pre style='white-space:pre;overflow-x:auto;line-height:normal'>An exception of type <span style=\"color: #dd0000; text-decoration-color: #dd0000; background-color: #ffffff\">PermissionError</span> is a subclass of <span style=\"color: #dd0000; text-decoration-color: #dd0000; background-color: #ffffff\">OSError</span>. An     \n",
       "<span style=\"color: #dd0000; text-decoration-color: #dd0000; background-color: #ffffff\">OSError</span> exception is usually raised by the Operating System to        \n",
       "indicate that an operation is not allowed or that a resource is not   \n",
       "available.                                                            \n",
       "</pre></div>"
      ],
      "text/plain": [
       "An exception of type \u001b[38;2;221;0;0;48;2;255;255;255mPermissionError\u001b[0m is a subclass of \u001b[38;2;221;0;0;48;2;255;255;255mOSError\u001b[0m. An     \n",
       "\u001b[38;2;221;0;0;48;2;255;255;255mOSError\u001b[0m exception is usually raised by the Operating System to        \n",
       "indicate that an operation is not allowed or that a resource is not   \n",
       "available.                                                            \n"
      ]
     },
     "metadata": {},
     "output_type": "display_data"
    },
    {
     "data": {
      "text/html": [
       "<script type=\"text/Javascript\"> function toggle_why5(){\n",
       "     var content = document.getElementById('friendly-tb-why-content5');\n",
       "     var btn = document.getElementById('friendly-tb-btn-show-why5');\n",
       "        if (content.style.display === 'none') {\n",
       "            content.style.display = 'block';\n",
       "            btn.textContent = \"Hide why()\";\n",
       "        } else {\n",
       "            content.style.display = 'none';\n",
       "            btn.textContent = \"why()\";\n",
       "       }\n",
       "    }\n",
       "     </script>\n",
       "     <button\n",
       "         id='friendly-tb-btn-show-why5'\n",
       "         onclick='toggle_why5()'\n",
       "         style='display:none '>\n",
       "     why()\n",
       "     </button>\n",
       "    "
      ]
     },
     "metadata": {},
     "output_type": "display_data"
    },
    {
     "data": {
      "text/html": [
       "<div id='friendly-tb-why-content5' style='display:none'><pre style='white-space:pre;overflow-x:auto;line-height:normal'>No information is known about this exception. Please report this      \n",
       "example to                                                            \n",
       "https://github.com/friendly-traceback/friendly-traceback/issues/new If\n",
       "you are using a REPL, use <span style=\"color: #0011aa; text-decoration-color: #0011aa; background-color: #ffffff\">www</span><span style=\"color: #783114; text-decoration-color: #783114; background-color: #ffffff\">(</span><span style=\"color: #8b008b; text-decoration-color: #8b008b; background-color: #ffffff\">'bug'</span><span style=\"color: #783114; text-decoration-color: #783114; background-color: #ffffff\">)</span> to do so.                        \n",
       "\n",
       "If you are using the Friendly console, use <span style=\"color: #0011aa; text-decoration-color: #0011aa; background-color: #ffffff\">www</span><span style=\"color: #783114; text-decoration-color: #783114; background-color: #ffffff\">()</span> to do an Internet    \n",
       "search for this particular case.                                      \n",
       "</pre></div>"
      ],
      "text/plain": [
       "No information is known about this exception. Please report this      \n",
       "example to                                                            \n",
       "https://github.com/friendly-traceback/friendly-traceback/issues/new If\n",
       "you are using a REPL, use \u001b[38;2;0;17;170;48;2;255;255;255mwww\u001b[0m\u001b[38;2;120;49;20;48;2;255;255;255m(\u001b[0m\u001b[38;2;139;0;139;48;2;255;255;255m'\u001b[0m\u001b[38;2;139;0;139;48;2;255;255;255mbug\u001b[0m\u001b[38;2;139;0;139;48;2;255;255;255m'\u001b[0m\u001b[38;2;120;49;20;48;2;255;255;255m)\u001b[0m to do so.                        \n",
       "\n",
       "If you are using the Friendly console, use \u001b[38;2;0;17;170;48;2;255;255;255mwww\u001b[0m\u001b[38;2;120;49;20;48;2;255;255;255m(\u001b[0m\u001b[38;2;120;49;20;48;2;255;255;255m)\u001b[0m to do an Internet    \n",
       "search for this particular case.                                      \n"
      ]
     },
     "metadata": {},
     "output_type": "display_data"
    },
    {
     "data": {
      "text/html": [
       "<script type=\"text/Javascript\"> function toggle_where5(){\n",
       "     var content = document.getElementById('friendly-tb-where-content5');\n",
       "     var btn = document.getElementById('friendly-tb-btn-show-where5');\n",
       "        if (content.style.display === 'none') {\n",
       "            content.style.display = 'block';\n",
       "            btn.textContent = \"Hide where()\";\n",
       "        } else {\n",
       "            content.style.display = 'none';\n",
       "            btn.textContent = \"where()\";\n",
       "       }\n",
       "    }\n",
       "     </script>\n",
       "     <button\n",
       "         id='friendly-tb-btn-show-where5'\n",
       "         onclick='toggle_where5()'\n",
       "         style='display:none '>\n",
       "     where()\n",
       "     </button>\n",
       "    "
      ]
     },
     "metadata": {},
     "output_type": "display_data"
    },
    {
     "data": {
      "text/html": [
       "<div id='friendly-tb-where-content5' style='display:none'><pre style='white-space:pre;overflow-x:auto;line-height:normal'><span style=\"color: #dd0000; text-decoration-color: #dd0000\">Exception raised on line 7 of code block </span><span style=\"color: #783114; text-decoration-color: #783114; background-color: #ffffff\">[</span><span style=\"color: #101010; text-decoration-color: #101010; background-color: #ffffff\">53</span><span style=\"color: #783114; text-decoration-color: #783114; background-color: #ffffff\">]</span><span style=\"color: #dd0000; text-decoration-color: #dd0000\">.</span>                                                      \n",
       "\n",
       "<span style=\"color: #101010; text-decoration-color: #101010; background-color: #ffffff\">       4</span><span style=\"color: #783114; text-decoration-color: #783114; background-color: #ffffff\">:</span><span style=\"color: #101010; text-decoration-color: #101010; background-color: #ffffff\"> </span><span style=\"color: #0011aa; text-decoration-color: #0011aa; background-color: #ffffff\">filenames</span><span style=\"color: #101010; text-decoration-color: #101010; background-color: #ffffff\"> </span><span style=\"color: #783114; text-decoration-color: #783114; background-color: #ffffff\">=</span><span style=\"color: #101010; text-decoration-color: #101010; background-color: #ffffff\"> </span><span style=\"color: #0011aa; text-decoration-color: #0011aa; background-color: #ffffff\">glob</span><span style=\"color: #783114; text-decoration-color: #783114; background-color: #ffffff\">.</span><span style=\"color: #0011aa; text-decoration-color: #0011aa; background-color: #ffffff\">glob</span><span style=\"color: #783114; text-decoration-color: #783114; background-color: #ffffff\">(</span><span style=\"color: #8b008b; text-decoration-color: #8b008b; background-color: #ffffff\">'/etc/*.conf'</span><span style=\"color: #783114; text-decoration-color: #783114; background-color: #ffffff\">)</span><span style=\"background-color: #ffffff\">                                                      </span>\n",
       "<span style=\"color: #101010; text-decoration-color: #101010; background-color: #ffffff\">       5</span><span style=\"color: #783114; text-decoration-color: #783114; background-color: #ffffff\">:</span><span style=\"color: #101010; text-decoration-color: #101010; background-color: #ffffff\"> </span><span style=\"color: #005500; text-decoration-color: #005500; background-color: #ffffff\">print</span><span style=\"color: #783114; text-decoration-color: #783114; background-color: #ffffff\">(</span><span style=\"color: #8b008b; text-decoration-color: #8b008b; background-color: #ffffff\">f'There are {</span><span style=\"color: #005500; text-decoration-color: #005500; background-color: #ffffff\">len</span><span style=\"color: #783114; text-decoration-color: #783114; background-color: #ffffff\">(</span><span style=\"color: #0011aa; text-decoration-color: #0011aa; background-color: #ffffff\">filenames</span><span style=\"color: #783114; text-decoration-color: #783114; background-color: #ffffff\">)</span><span style=\"color: #8b008b; text-decoration-color: #8b008b; background-color: #ffffff\">} files in the current directory'</span><span style=\"color: #783114; text-decoration-color: #783114; background-color: #ffffff\">)</span><span style=\"background-color: #ffffff\">                       </span>\n",
       "<span style=\"color: #101010; text-decoration-color: #101010; background-color: #ffffff\">       6</span><span style=\"color: #783114; text-decoration-color: #783114; background-color: #ffffff\">:</span><span style=\"color: #101010; text-decoration-color: #101010; background-color: #ffffff\"> </span><span style=\"color: #005500; text-decoration-color: #005500; background-color: #ffffff\">for</span><span style=\"color: #101010; text-decoration-color: #101010; background-color: #ffffff\"> </span><span style=\"color: #0011aa; text-decoration-color: #0011aa; background-color: #ffffff\">one_filename</span><span style=\"color: #101010; text-decoration-color: #101010; background-color: #ffffff\"> </span><span style=\"color: #005500; text-decoration-color: #005500; background-color: #ffffff\">in</span><span style=\"color: #101010; text-decoration-color: #101010; background-color: #ffffff\"> </span><span style=\"color: #0011aa; text-decoration-color: #0011aa; background-color: #ffffff\">filenames</span><span style=\"color: #783114; text-decoration-color: #783114; background-color: #ffffff\">:</span><span style=\"color: #101010; text-decoration-color: #101010; background-color: #ffffff\">    </span><span style=\"color: #808080; text-decoration-color: #808080; background-color: #ffffff\"># go through each filename in the current directory</span><span style=\"background-color: #ffffff\">     </span>\n",
       "<span style=\"color: #101010; text-decoration-color: #101010; background-color: #ffffff\">    </span><span style=\"color: #783114; text-decoration-color: #783114; background-color: #ffffff\">--&gt;</span><span style=\"color: #101010; text-decoration-color: #101010; background-color: #ffffff\">7</span><span style=\"color: #783114; text-decoration-color: #783114; background-color: #ffffff\">:</span><span style=\"color: #101010; text-decoration-color: #101010; background-color: #ffffff\">     </span><span style=\"color: #005500; text-decoration-color: #005500; background-color: #ffffff\">for</span><span style=\"color: #101010; text-decoration-color: #101010; background-color: #ffffff\"> </span><span style=\"color: #0011aa; text-decoration-color: #0011aa; background-color: #ffffff\">one_line</span><span style=\"color: #101010; text-decoration-color: #101010; background-color: #ffffff\"> </span><span style=\"color: #005500; text-decoration-color: #005500; background-color: #ffffff\">in</span><span style=\"color: #101010; text-decoration-color: #101010; background-color: #ffffff\"> </span><span style=\"color: #005500; text-decoration-color: #005500; background-color: #ffffff\">open</span><span style=\"color: #783114; text-decoration-color: #783114; background-color: #ffffff\">(</span><span style=\"color: #0011aa; text-decoration-color: #0011aa; background-color: #ffffff\">one_filename</span><span style=\"color: #783114; text-decoration-color: #783114; background-color: #ffffff\">):</span><span style=\"color: #101010; text-decoration-color: #101010; background-color: #ffffff\">    </span><span style=\"color: #808080; text-decoration-color: #808080; background-color: #ffffff\"># go through each line in each file</span><span style=\"background-color: #ffffff\">            </span>\n",
       "<span style=\"color: #101010; text-decoration-color: #101010; background-color: #ffffff\">                              </span><span style=\"color: #783114; text-decoration-color: #783114; background-color: #ffffff\">^^^^^^^^^^^^^^^^^^</span><span style=\"background-color: #ffffff\">                                                    </span>\n",
       "<span style=\"color: #101010; text-decoration-color: #101010; background-color: #ffffff\">       8</span><span style=\"color: #783114; text-decoration-color: #783114; background-color: #ffffff\">:</span><span style=\"color: #101010; text-decoration-color: #101010; background-color: #ffffff\">         </span><span style=\"color: #0011aa; text-decoration-color: #0011aa; background-color: #ffffff\">n</span><span style=\"color: #101010; text-decoration-color: #101010; background-color: #ffffff\"> </span><span style=\"color: #783114; text-decoration-color: #783114; background-color: #ffffff\">=</span><span style=\"color: #101010; text-decoration-color: #101010; background-color: #ffffff\"> </span><span style=\"color: #0011aa; text-decoration-color: #0011aa; background-color: #ffffff\">random</span><span style=\"color: #783114; text-decoration-color: #783114; background-color: #ffffff\">.</span><span style=\"color: #0011aa; text-decoration-color: #0011aa; background-color: #ffffff\">randint</span><span style=\"color: #783114; text-decoration-color: #783114; background-color: #ffffff\">(</span><span style=\"color: #101010; text-decoration-color: #101010; background-color: #ffffff\">0</span><span style=\"color: #783114; text-decoration-color: #783114; background-color: #ffffff\">,</span><span style=\"color: #101010; text-decoration-color: #101010; background-color: #ffffff\"> </span><span style=\"color: #005500; text-decoration-color: #005500; background-color: #ffffff\">len</span><span style=\"color: #783114; text-decoration-color: #783114; background-color: #ffffff\">(</span><span style=\"color: #0011aa; text-decoration-color: #0011aa; background-color: #ffffff\">one_line</span><span style=\"color: #783114; text-decoration-color: #783114; background-color: #ffffff\">)-</span><span style=\"color: #101010; text-decoration-color: #101010; background-color: #ffffff\">1</span><span style=\"color: #783114; text-decoration-color: #783114; background-color: #ffffff\">)</span><span style=\"color: #101010; text-decoration-color: #101010; background-color: #ffffff\">  </span><span style=\"color: #808080; text-decoration-color: #808080; background-color: #ffffff\"># get a character index for the current </span><span style=\"background-color: #ffffff\">  </span>\n",
       "<span style=\"color: #808080; text-decoration-color: #808080; background-color: #ffffff\">line</span><span style=\"background-color: #ffffff\">                                                                                                </span>\n",
       "\n",
       "<span style=\"color: #101010; text-decoration-color: #101010; background-color: #ffffff\">    </span><span style=\"color: #0011aa; text-decoration-color: #0011aa; background-color: #ffffff\">one_filename</span><span style=\"color: #783114; text-decoration-color: #783114; background-color: #ffffff\">:</span><span style=\"color: #101010; text-decoration-color: #101010; background-color: #ffffff\">  </span><span style=\"color: #8b008b; text-decoration-color: #8b008b; background-color: #ffffff\">'/etc/AFP.conf'</span><span style=\"background-color: #ffffff\">                                                                  </span>\n",
       "<span style=\"color: #101010; text-decoration-color: #101010; background-color: #ffffff\">    </span><span style=\"color: #005500; text-decoration-color: #005500; background-color: #ffffff\">open</span><span style=\"color: #783114; text-decoration-color: #783114; background-color: #ffffff\">:</span><span style=\"color: #101010; text-decoration-color: #101010; background-color: #ffffff\">  </span><span style=\"color: #783114; text-decoration-color: #783114; background-color: #ffffff\">&lt;</span><span style=\"color: #0011aa; text-decoration-color: #0011aa; background-color: #ffffff\">builtin</span><span style=\"color: #101010; text-decoration-color: #101010; background-color: #ffffff\"> </span><span style=\"color: #0011aa; text-decoration-color: #0011aa; background-color: #ffffff\">function</span><span style=\"color: #101010; text-decoration-color: #101010; background-color: #ffffff\"> </span><span style=\"color: #005500; text-decoration-color: #005500; background-color: #ffffff\">open</span><span style=\"color: #783114; text-decoration-color: #783114; background-color: #ffffff\">&gt;</span><span style=\"background-color: #ffffff\">                                                                  </span>\n",
       "</pre></div>"
      ],
      "text/plain": [
       "\u001b[38;2;221;0;0mException raised on line 7 of code block \u001b[0m\u001b[38;2;120;49;20;48;2;255;255;255m[\u001b[0m\u001b[38;2;16;16;16;48;2;255;255;255m53\u001b[0m\u001b[38;2;120;49;20;48;2;255;255;255m]\u001b[0m\u001b[38;2;221;0;0m.\u001b[0m                                                      \n",
       "\n",
       "\u001b[38;2;16;16;16;48;2;255;255;255m       \u001b[0m\u001b[38;2;16;16;16;48;2;255;255;255m4\u001b[0m\u001b[38;2;120;49;20;48;2;255;255;255m:\u001b[0m\u001b[38;2;16;16;16;48;2;255;255;255m \u001b[0m\u001b[38;2;0;17;170;48;2;255;255;255mfilenames\u001b[0m\u001b[38;2;16;16;16;48;2;255;255;255m \u001b[0m\u001b[38;2;120;49;20;48;2;255;255;255m=\u001b[0m\u001b[38;2;16;16;16;48;2;255;255;255m \u001b[0m\u001b[38;2;0;17;170;48;2;255;255;255mglob\u001b[0m\u001b[38;2;120;49;20;48;2;255;255;255m.\u001b[0m\u001b[38;2;0;17;170;48;2;255;255;255mglob\u001b[0m\u001b[38;2;120;49;20;48;2;255;255;255m(\u001b[0m\u001b[38;2;139;0;139;48;2;255;255;255m'\u001b[0m\u001b[38;2;139;0;139;48;2;255;255;255m/etc/*.conf\u001b[0m\u001b[38;2;139;0;139;48;2;255;255;255m'\u001b[0m\u001b[38;2;120;49;20;48;2;255;255;255m)\u001b[0m\u001b[48;2;255;255;255m                                                      \u001b[0m\n",
       "\u001b[38;2;16;16;16;48;2;255;255;255m       \u001b[0m\u001b[38;2;16;16;16;48;2;255;255;255m5\u001b[0m\u001b[38;2;120;49;20;48;2;255;255;255m:\u001b[0m\u001b[38;2;16;16;16;48;2;255;255;255m \u001b[0m\u001b[38;2;0;85;0;48;2;255;255;255mprint\u001b[0m\u001b[38;2;120;49;20;48;2;255;255;255m(\u001b[0m\u001b[38;2;139;0;139;48;2;255;255;255mf\u001b[0m\u001b[38;2;139;0;139;48;2;255;255;255m'\u001b[0m\u001b[38;2;139;0;139;48;2;255;255;255mThere are \u001b[0m\u001b[38;2;139;0;139;48;2;255;255;255m{\u001b[0m\u001b[38;2;0;85;0;48;2;255;255;255mlen\u001b[0m\u001b[38;2;120;49;20;48;2;255;255;255m(\u001b[0m\u001b[38;2;0;17;170;48;2;255;255;255mfilenames\u001b[0m\u001b[38;2;120;49;20;48;2;255;255;255m)\u001b[0m\u001b[38;2;139;0;139;48;2;255;255;255m}\u001b[0m\u001b[38;2;139;0;139;48;2;255;255;255m files in the current directory\u001b[0m\u001b[38;2;139;0;139;48;2;255;255;255m'\u001b[0m\u001b[38;2;120;49;20;48;2;255;255;255m)\u001b[0m\u001b[48;2;255;255;255m                       \u001b[0m\n",
       "\u001b[38;2;16;16;16;48;2;255;255;255m       \u001b[0m\u001b[38;2;16;16;16;48;2;255;255;255m6\u001b[0m\u001b[38;2;120;49;20;48;2;255;255;255m:\u001b[0m\u001b[38;2;16;16;16;48;2;255;255;255m \u001b[0m\u001b[38;2;0;85;0;48;2;255;255;255mfor\u001b[0m\u001b[38;2;16;16;16;48;2;255;255;255m \u001b[0m\u001b[38;2;0;17;170;48;2;255;255;255mone_filename\u001b[0m\u001b[38;2;16;16;16;48;2;255;255;255m \u001b[0m\u001b[38;2;0;85;0;48;2;255;255;255min\u001b[0m\u001b[38;2;16;16;16;48;2;255;255;255m \u001b[0m\u001b[38;2;0;17;170;48;2;255;255;255mfilenames\u001b[0m\u001b[38;2;120;49;20;48;2;255;255;255m:\u001b[0m\u001b[38;2;16;16;16;48;2;255;255;255m    \u001b[0m\u001b[38;2;128;128;128;48;2;255;255;255m# go through each filename in the current directory\u001b[0m\u001b[48;2;255;255;255m     \u001b[0m\n",
       "\u001b[38;2;16;16;16;48;2;255;255;255m    \u001b[0m\u001b[38;2;120;49;20;48;2;255;255;255m-\u001b[0m\u001b[38;2;120;49;20;48;2;255;255;255m-\u001b[0m\u001b[38;2;120;49;20;48;2;255;255;255m>\u001b[0m\u001b[38;2;16;16;16;48;2;255;255;255m7\u001b[0m\u001b[38;2;120;49;20;48;2;255;255;255m:\u001b[0m\u001b[38;2;16;16;16;48;2;255;255;255m     \u001b[0m\u001b[38;2;0;85;0;48;2;255;255;255mfor\u001b[0m\u001b[38;2;16;16;16;48;2;255;255;255m \u001b[0m\u001b[38;2;0;17;170;48;2;255;255;255mone_line\u001b[0m\u001b[38;2;16;16;16;48;2;255;255;255m \u001b[0m\u001b[38;2;0;85;0;48;2;255;255;255min\u001b[0m\u001b[38;2;16;16;16;48;2;255;255;255m \u001b[0m\u001b[38;2;0;85;0;48;2;255;255;255mopen\u001b[0m\u001b[38;2;120;49;20;48;2;255;255;255m(\u001b[0m\u001b[38;2;0;17;170;48;2;255;255;255mone_filename\u001b[0m\u001b[38;2;120;49;20;48;2;255;255;255m)\u001b[0m\u001b[38;2;120;49;20;48;2;255;255;255m:\u001b[0m\u001b[38;2;16;16;16;48;2;255;255;255m    \u001b[0m\u001b[38;2;128;128;128;48;2;255;255;255m# go through each line in each file\u001b[0m\u001b[48;2;255;255;255m            \u001b[0m\n",
       "\u001b[38;2;16;16;16;48;2;255;255;255m                              \u001b[0m\u001b[38;2;120;49;20;48;2;255;255;255m^\u001b[0m\u001b[38;2;120;49;20;48;2;255;255;255m^\u001b[0m\u001b[38;2;120;49;20;48;2;255;255;255m^\u001b[0m\u001b[38;2;120;49;20;48;2;255;255;255m^\u001b[0m\u001b[38;2;120;49;20;48;2;255;255;255m^\u001b[0m\u001b[38;2;120;49;20;48;2;255;255;255m^\u001b[0m\u001b[38;2;120;49;20;48;2;255;255;255m^\u001b[0m\u001b[38;2;120;49;20;48;2;255;255;255m^\u001b[0m\u001b[38;2;120;49;20;48;2;255;255;255m^\u001b[0m\u001b[38;2;120;49;20;48;2;255;255;255m^\u001b[0m\u001b[38;2;120;49;20;48;2;255;255;255m^\u001b[0m\u001b[38;2;120;49;20;48;2;255;255;255m^\u001b[0m\u001b[38;2;120;49;20;48;2;255;255;255m^\u001b[0m\u001b[38;2;120;49;20;48;2;255;255;255m^\u001b[0m\u001b[38;2;120;49;20;48;2;255;255;255m^\u001b[0m\u001b[38;2;120;49;20;48;2;255;255;255m^\u001b[0m\u001b[38;2;120;49;20;48;2;255;255;255m^\u001b[0m\u001b[38;2;120;49;20;48;2;255;255;255m^\u001b[0m\u001b[48;2;255;255;255m                                                    \u001b[0m\n",
       "\u001b[38;2;16;16;16;48;2;255;255;255m       \u001b[0m\u001b[38;2;16;16;16;48;2;255;255;255m8\u001b[0m\u001b[38;2;120;49;20;48;2;255;255;255m:\u001b[0m\u001b[38;2;16;16;16;48;2;255;255;255m         \u001b[0m\u001b[38;2;0;17;170;48;2;255;255;255mn\u001b[0m\u001b[38;2;16;16;16;48;2;255;255;255m \u001b[0m\u001b[38;2;120;49;20;48;2;255;255;255m=\u001b[0m\u001b[38;2;16;16;16;48;2;255;255;255m \u001b[0m\u001b[38;2;0;17;170;48;2;255;255;255mrandom\u001b[0m\u001b[38;2;120;49;20;48;2;255;255;255m.\u001b[0m\u001b[38;2;0;17;170;48;2;255;255;255mrandint\u001b[0m\u001b[38;2;120;49;20;48;2;255;255;255m(\u001b[0m\u001b[38;2;16;16;16;48;2;255;255;255m0\u001b[0m\u001b[38;2;120;49;20;48;2;255;255;255m,\u001b[0m\u001b[38;2;16;16;16;48;2;255;255;255m \u001b[0m\u001b[38;2;0;85;0;48;2;255;255;255mlen\u001b[0m\u001b[38;2;120;49;20;48;2;255;255;255m(\u001b[0m\u001b[38;2;0;17;170;48;2;255;255;255mone_line\u001b[0m\u001b[38;2;120;49;20;48;2;255;255;255m)\u001b[0m\u001b[38;2;120;49;20;48;2;255;255;255m-\u001b[0m\u001b[38;2;16;16;16;48;2;255;255;255m1\u001b[0m\u001b[38;2;120;49;20;48;2;255;255;255m)\u001b[0m\u001b[38;2;16;16;16;48;2;255;255;255m  \u001b[0m\u001b[38;2;128;128;128;48;2;255;255;255m# get a character index for the current \u001b[0m\u001b[48;2;255;255;255m  \u001b[0m\n",
       "\u001b[38;2;128;128;128;48;2;255;255;255mline\u001b[0m\u001b[48;2;255;255;255m                                                                                                \u001b[0m\n",
       "\n",
       "\u001b[38;2;16;16;16;48;2;255;255;255m    \u001b[0m\u001b[38;2;0;17;170;48;2;255;255;255mone_filename\u001b[0m\u001b[38;2;120;49;20;48;2;255;255;255m:\u001b[0m\u001b[38;2;16;16;16;48;2;255;255;255m  \u001b[0m\u001b[38;2;139;0;139;48;2;255;255;255m'\u001b[0m\u001b[38;2;139;0;139;48;2;255;255;255m/etc/AFP.conf\u001b[0m\u001b[38;2;139;0;139;48;2;255;255;255m'\u001b[0m\u001b[48;2;255;255;255m                                                                  \u001b[0m\n",
       "\u001b[38;2;16;16;16;48;2;255;255;255m    \u001b[0m\u001b[38;2;0;85;0;48;2;255;255;255mopen\u001b[0m\u001b[38;2;120;49;20;48;2;255;255;255m:\u001b[0m\u001b[38;2;16;16;16;48;2;255;255;255m  \u001b[0m\u001b[38;2;120;49;20;48;2;255;255;255m<\u001b[0m\u001b[38;2;0;17;170;48;2;255;255;255mbuiltin\u001b[0m\u001b[38;2;16;16;16;48;2;255;255;255m \u001b[0m\u001b[38;2;0;17;170;48;2;255;255;255mfunction\u001b[0m\u001b[38;2;16;16;16;48;2;255;255;255m \u001b[0m\u001b[38;2;0;85;0;48;2;255;255;255mopen\u001b[0m\u001b[38;2;120;49;20;48;2;255;255;255m>\u001b[0m\u001b[48;2;255;255;255m                                                                  \u001b[0m\n"
      ]
     },
     "metadata": {},
     "output_type": "display_data"
    }
   ],
   "source": [
    "import glob\n",
    "import random\n",
    "\n",
    "filenames = glob.glob('/etc/*.conf')\n",
    "print(f'There are {len(filenames)} files in the current directory')\n",
    "for one_filename in filenames:    # go through each filename in the current directory\n",
    "    for one_line in open(one_filename):    # go through each line in each file\n",
    "        n = random.randint(0, len(one_line)-1)  # get a character index for the current line\n",
    "        print(f'{one_filename}\\t{n}\\t{one_line[n]}')"
   ]
  },
  {
   "cell_type": "code",
   "execution_count": 54,
   "id": "ebecfc8e",
   "metadata": {},
   "outputs": [
    {
     "data": {
      "text/html": [
       "<pre style='white-space:pre;overflow-x:auto;line-height:normal'><span style=\"color: #008080; text-decoration-color: #008080; font-weight: bold\">83</span>\n",
       "</pre>"
      ],
      "text/plain": [
       "\u001b[1;36m83\u001b[0m\n"
      ]
     },
     "metadata": {},
     "output_type": "display_data"
    }
   ],
   "source": [
    "import random\n",
    "random.randint(0, 100)  "
   ]
  },
  {
   "cell_type": "code",
   "execution_count": 55,
   "id": "da90f881",
   "metadata": {},
   "outputs": [
    {
     "data": {
      "text/html": [
       "<pre style='white-space:pre;overflow-x:auto;line-height:normal'><span style=\"color: #008080; text-decoration-color: #008080; font-weight: bold\">8</span>\n",
       "</pre>"
      ],
      "text/plain": [
       "\u001b[1;36m8\u001b[0m\n"
      ]
     },
     "metadata": {},
     "output_type": "display_data"
    }
   ],
   "source": [
    "random.randint(0, 50)"
   ]
  },
  {
   "cell_type": "code",
   "execution_count": 57,
   "id": "baacce88",
   "metadata": {},
   "outputs": [
    {
     "data": {
      "text/html": [
       "<div id='friendly-message6'><pre style='white-space:pre;overflow-x:auto;line-height:normal'><span style=\"color: #dd0000; text-decoration-color: #dd0000; background-color: #ffffff\">NameError</span>: name 'randint' is not defined                              \n",
       "</pre></div>"
      ],
      "text/plain": [
       "\u001b[38;2;221;0;0;48;2;255;255;255mNameError\u001b[0m: name 'randint' is not defined                              \n"
      ]
     },
     "metadata": {},
     "output_type": "display_data"
    },
    {
     "data": {
      "text/html": [
       "\n",
       "        <button\n",
       "            id='friendly-tb-btn-show6'\n",
       "            onclick='friendly_toggle_more6()'\n",
       "            style=''>\n",
       "        More ...\n",
       "        </button>\n",
       "        <script type=\"text/Javascript\"> function friendly_toggle_more6(){\n",
       "        var btn = document.getElementById('friendly-tb-btn-show6');\n",
       "        var btn_what = document.getElementById('friendly-tb-btn-show-what6');\n",
       "        var btn_where = document.getElementById('friendly-tb-btn-show-where6');\n",
       "        var btn_why = document.getElementById('friendly-tb-btn-show-why6');\n",
       "        var message = document.getElementById('friendly-message6');\n",
       "        var friendly_tb_content = document.getElementById('friendly-tb-friendly_tb-content6');\n",
       "        var what_content = document.getElementById('friendly-tb-what-content6');\n",
       "        var why_content = document.getElementById('friendly-tb-why-content6');\n",
       "        var where_content = document.getElementById('friendly-tb-where-content6');\n",
       "\n",
       "        if (btn_what.style.display == 'none'){\n",
       "            message.style.display = 'none';\n",
       "            btn_what.style.display = 'block';\n",
       "            btn_why.style.display = 'block';\n",
       "            btn_where.style.display = 'block';\n",
       "            friendly_tb_content.style.display = 'block';\n",
       "            btn.textContent = \"Show message only\";\n",
       "        } else {\n",
       "            btn_what.style.display = 'none';\n",
       "            btn_what.textContent = 'what()';\n",
       "            btn_why.style.display = 'none';\n",
       "            btn_why.textContent = 'why()';\n",
       "            btn_where.style.display = 'none';\n",
       "            btn_where.textContent = 'where()';\n",
       "            what_content.style.display = 'none';\n",
       "            why_content.style.display = 'none';\n",
       "            where_content.style.display = 'none';\n",
       "            friendly_tb_content.style.display = 'none';\n",
       "            message.style.display = 'block';\n",
       "            btn.textContent = \"More ...\";\n",
       "        }\n",
       "        };\n",
       "        </script>\n",
       "        "
      ]
     },
     "metadata": {},
     "output_type": "display_data"
    },
    {
     "data": {
      "text/html": [
       "<div id='friendly-tb-friendly_tb-content6' style='display:none'><pre style='white-space:pre;overflow-x:auto;line-height:normal'><span style=\"color: #dd0000; text-decoration-color: #dd0000; background-color: #ffffff\">Traceback (most recent call last):</span><span style=\"background-color: #ffffff\">                                                                  </span>\n",
       "<span style=\"color: #101010; text-decoration-color: #101010; background-color: #ffffff\">  Code block </span><span style=\"color: #783114; text-decoration-color: #783114; background-color: #ffffff\">[</span><span style=\"color: #101010; text-decoration-color: #101010; background-color: #ffffff\">57</span><span style=\"color: #783114; text-decoration-color: #783114; background-color: #ffffff\">]</span><span style=\"color: #101010; text-decoration-color: #101010; background-color: #ffffff\">, line 4, in </span><span style=\"color: #0011aa; text-decoration-color: #0011aa; background-color: #ffffff\">&lt;module&gt;</span><span style=\"background-color: #ffffff\">                                                              </span>\n",
       "<span style=\"color: #101010; text-decoration-color: #101010; background-color: #ffffff\">    </span><span style=\"color: #0011aa; text-decoration-color: #0011aa; background-color: #ffffff\">randint</span><span style=\"color: #783114; text-decoration-color: #783114; background-color: #ffffff\">(</span><span style=\"color: #101010; text-decoration-color: #101010; background-color: #ffffff\">0</span><span style=\"color: #783114; text-decoration-color: #783114; background-color: #ffffff\">,</span><span style=\"color: #101010; text-decoration-color: #101010; background-color: #ffffff\"> 100</span><span style=\"color: #783114; text-decoration-color: #783114; background-color: #ffffff\">)</span><span style=\"background-color: #ffffff\">                                                                                 </span>\n",
       "<span style=\"color: #dd0000; text-decoration-color: #dd0000; background-color: #ffffff\">NameError</span><span style=\"color: #101010; text-decoration-color: #101010; background-color: #ffffff\">: </span><span style=\"color: #0011aa; text-decoration-color: #0011aa; background-color: #ffffff\">name 'randint' is not defined</span><span style=\"background-color: #ffffff\">                                                            </span>\n",
       "\n",
       "Did you forget to add <span style=\"color: #0011aa; text-decoration-color: #0011aa; background-color: #ffffff\">random</span><span style=\"color: #783114; text-decoration-color: #783114; background-color: #ffffff\">.</span>?                                                                      \n",
       "</pre></div>"
      ],
      "text/plain": [
       "\u001b[38;2;221;0;0;48;2;255;255;255mTraceback (most recent call last):\u001b[0m\u001b[48;2;255;255;255m                                                                  \u001b[0m\n",
       "\u001b[38;2;16;16;16;48;2;255;255;255m  Code block \u001b[0m\u001b[38;2;120;49;20;48;2;255;255;255m[\u001b[0m\u001b[38;2;16;16;16;48;2;255;255;255m57\u001b[0m\u001b[38;2;120;49;20;48;2;255;255;255m]\u001b[0m\u001b[38;2;16;16;16;48;2;255;255;255m, line \u001b[0m\u001b[38;2;16;16;16;48;2;255;255;255m4\u001b[0m\u001b[38;2;16;16;16;48;2;255;255;255m, in \u001b[0m\u001b[38;2;0;17;170;48;2;255;255;255m<module>\u001b[0m\u001b[48;2;255;255;255m                                                              \u001b[0m\n",
       "\u001b[38;2;16;16;16;48;2;255;255;255m    \u001b[0m\u001b[38;2;0;17;170;48;2;255;255;255mrandint\u001b[0m\u001b[38;2;120;49;20;48;2;255;255;255m(\u001b[0m\u001b[38;2;16;16;16;48;2;255;255;255m0\u001b[0m\u001b[38;2;120;49;20;48;2;255;255;255m,\u001b[0m\u001b[38;2;16;16;16;48;2;255;255;255m \u001b[0m\u001b[38;2;16;16;16;48;2;255;255;255m100\u001b[0m\u001b[38;2;120;49;20;48;2;255;255;255m)\u001b[0m\u001b[48;2;255;255;255m                                                                                 \u001b[0m\n",
       "\u001b[38;2;221;0;0;48;2;255;255;255mNameError\u001b[0m\u001b[38;2;16;16;16;48;2;255;255;255m: \u001b[0m\u001b[38;2;0;17;170;48;2;255;255;255mname 'randint' is not defined\u001b[0m\u001b[48;2;255;255;255m                                                            \u001b[0m\n",
       "\n",
       "Did you forget to add \u001b[38;2;0;17;170;48;2;255;255;255mrandom\u001b[0m\u001b[38;2;120;49;20;48;2;255;255;255m.\u001b[0m?                                                                      \n"
      ]
     },
     "metadata": {},
     "output_type": "display_data"
    },
    {
     "data": {
      "text/html": [
       "<script type=\"text/Javascript\"> function toggle_what6(){\n",
       "     var content = document.getElementById('friendly-tb-what-content6');\n",
       "     var btn = document.getElementById('friendly-tb-btn-show-what6');\n",
       "        if (content.style.display === 'none') {\n",
       "            content.style.display = 'block';\n",
       "            btn.textContent = \"Hide what()\";\n",
       "        } else {\n",
       "            content.style.display = 'none';\n",
       "            btn.textContent = \"what()\";\n",
       "       }\n",
       "    }\n",
       "     </script>\n",
       "     <button\n",
       "         id='friendly-tb-btn-show-what6'\n",
       "         onclick='toggle_what6()'\n",
       "         style='display:none '>\n",
       "     what()\n",
       "     </button>\n",
       "    "
      ]
     },
     "metadata": {},
     "output_type": "display_data"
    },
    {
     "data": {
      "text/html": [
       "<div id='friendly-tb-what-content6' style='display:none'><pre style='white-space:pre;overflow-x:auto;line-height:normal'>A <span style=\"color: #dd0000; text-decoration-color: #dd0000; background-color: #ffffff\">NameError</span> exception indicates that a variable or function name is   \n",
       "not known to Python. Most often, this is because there is a spelling  \n",
       "mistake. However, sometimes it is because the name is used before     \n",
       "being defined or given a value.                                       \n",
       "</pre></div>"
      ],
      "text/plain": [
       "A \u001b[38;2;221;0;0;48;2;255;255;255mNameError\u001b[0m exception indicates that a variable or function name is   \n",
       "not known to Python. Most often, this is because there is a spelling  \n",
       "mistake. However, sometimes it is because the name is used before     \n",
       "being defined or given a value.                                       \n"
      ]
     },
     "metadata": {},
     "output_type": "display_data"
    },
    {
     "data": {
      "text/html": [
       "<script type=\"text/Javascript\"> function toggle_why6(){\n",
       "     var content = document.getElementById('friendly-tb-why-content6');\n",
       "     var btn = document.getElementById('friendly-tb-btn-show-why6');\n",
       "        if (content.style.display === 'none') {\n",
       "            content.style.display = 'block';\n",
       "            btn.textContent = \"Hide why()\";\n",
       "        } else {\n",
       "            content.style.display = 'none';\n",
       "            btn.textContent = \"why()\";\n",
       "       }\n",
       "    }\n",
       "     </script>\n",
       "     <button\n",
       "         id='friendly-tb-btn-show-why6'\n",
       "         onclick='toggle_why6()'\n",
       "         style='display:none '>\n",
       "     why()\n",
       "     </button>\n",
       "    "
      ]
     },
     "metadata": {},
     "output_type": "display_data"
    },
    {
     "data": {
      "text/html": [
       "<div id='friendly-tb-why-content6' style='display:none'><pre style='white-space:pre;overflow-x:auto;line-height:normal'>In your program, no object with the name <span style=\"color: #0011aa; text-decoration-color: #0011aa; background-color: #ffffff\">randint</span> exists.              \n",
       "\n",
       "The local object <span style=\"color: #0011aa; text-decoration-color: #0011aa; background-color: #ffffff\">random</span> has an attribute named <span style=\"color: #0011aa; text-decoration-color: #0011aa; background-color: #ffffff\">randint</span>. Perhaps you   \n",
       "should have written <span style=\"color: #0011aa; text-decoration-color: #0011aa; background-color: #ffffff\">random</span><span style=\"color: #783114; text-decoration-color: #783114; background-color: #ffffff\">.</span><span style=\"color: #0011aa; text-decoration-color: #0011aa; background-color: #ffffff\">randint</span> instead of <span style=\"color: #0011aa; text-decoration-color: #0011aa; background-color: #ffffff\">randint</span>.                \n",
       "\n",
       "<span style=\"color: #0011aa; text-decoration-color: #0011aa; background-color: #ffffff\">randint</span> is a name found in module <span style=\"color: #0011aa; text-decoration-color: #0011aa; background-color: #ffffff\">random</span>. Perhaps you forgot to write \n",
       "\n",
       "<span style=\"color: #005500; text-decoration-color: #005500; background-color: #ffffff\">from</span><span style=\"color: #101010; text-decoration-color: #101010; background-color: #ffffff\"> </span><span style=\"color: #0011aa; text-decoration-color: #0011aa; background-color: #ffffff\">random</span><span style=\"color: #101010; text-decoration-color: #101010; background-color: #ffffff\"> </span><span style=\"color: #005500; text-decoration-color: #005500; background-color: #ffffff\">import</span><span style=\"color: #101010; text-decoration-color: #101010; background-color: #ffffff\"> </span><span style=\"color: #0011aa; text-decoration-color: #0011aa; background-color: #ffffff\">randint</span><span style=\"background-color: #ffffff\">                                            </span>\n",
       "</pre></div>"
      ],
      "text/plain": [
       "In your program, no object with the name \u001b[38;2;0;17;170;48;2;255;255;255mrandint\u001b[0m exists.              \n",
       "\n",
       "The local object \u001b[38;2;0;17;170;48;2;255;255;255mrandom\u001b[0m has an attribute named \u001b[38;2;0;17;170;48;2;255;255;255mrandint\u001b[0m. Perhaps you   \n",
       "should have written \u001b[38;2;0;17;170;48;2;255;255;255mrandom\u001b[0m\u001b[38;2;120;49;20;48;2;255;255;255m.\u001b[0m\u001b[38;2;0;17;170;48;2;255;255;255mrandint\u001b[0m instead of \u001b[38;2;0;17;170;48;2;255;255;255mrandint\u001b[0m.                \n",
       "\n",
       "\u001b[38;2;0;17;170;48;2;255;255;255mrandint\u001b[0m is a name found in module \u001b[38;2;0;17;170;48;2;255;255;255mrandom\u001b[0m. Perhaps you forgot to write \n",
       "\n",
       "\u001b[38;2;0;85;0;48;2;255;255;255mfrom\u001b[0m\u001b[38;2;16;16;16;48;2;255;255;255m \u001b[0m\u001b[38;2;0;17;170;48;2;255;255;255mrandom\u001b[0m\u001b[38;2;16;16;16;48;2;255;255;255m \u001b[0m\u001b[38;2;0;85;0;48;2;255;255;255mimport\u001b[0m\u001b[38;2;16;16;16;48;2;255;255;255m \u001b[0m\u001b[38;2;0;17;170;48;2;255;255;255mrandint\u001b[0m\u001b[48;2;255;255;255m                                            \u001b[0m\n"
      ]
     },
     "metadata": {},
     "output_type": "display_data"
    },
    {
     "data": {
      "text/html": [
       "<script type=\"text/Javascript\"> function toggle_where6(){\n",
       "     var content = document.getElementById('friendly-tb-where-content6');\n",
       "     var btn = document.getElementById('friendly-tb-btn-show-where6');\n",
       "        if (content.style.display === 'none') {\n",
       "            content.style.display = 'block';\n",
       "            btn.textContent = \"Hide where()\";\n",
       "        } else {\n",
       "            content.style.display = 'none';\n",
       "            btn.textContent = \"where()\";\n",
       "       }\n",
       "    }\n",
       "     </script>\n",
       "     <button\n",
       "         id='friendly-tb-btn-show-where6'\n",
       "         onclick='toggle_where6()'\n",
       "         style='display:none '>\n",
       "     where()\n",
       "     </button>\n",
       "    "
      ]
     },
     "metadata": {},
     "output_type": "display_data"
    },
    {
     "data": {
      "text/html": [
       "<div id='friendly-tb-where-content6' style='display:none'><pre style='white-space:pre;overflow-x:auto;line-height:normal'><span style=\"color: #dd0000; text-decoration-color: #dd0000\">Exception raised on line 4 of code block </span><span style=\"color: #783114; text-decoration-color: #783114; background-color: #ffffff\">[</span><span style=\"color: #101010; text-decoration-color: #101010; background-color: #ffffff\">57</span><span style=\"color: #783114; text-decoration-color: #783114; background-color: #ffffff\">]</span><span style=\"color: #dd0000; text-decoration-color: #dd0000\">.</span>                                                      \n",
       "\n",
       "<span style=\"color: #101010; text-decoration-color: #101010; background-color: #ffffff\">       1</span><span style=\"color: #783114; text-decoration-color: #783114; background-color: #ffffff\">:</span><span style=\"color: #101010; text-decoration-color: #101010; background-color: #ffffff\"> </span><span style=\"color: #808080; text-decoration-color: #808080; background-color: #ffffff\"># Isn't it a pain to always say random.randint?</span><span style=\"background-color: #ffffff\">                                           </span>\n",
       "<span style=\"color: #101010; text-decoration-color: #101010; background-color: #ffffff\">       2</span><span style=\"color: #783114; text-decoration-color: #783114; background-color: #ffffff\">:</span><span style=\"color: #101010; text-decoration-color: #101010; background-color: #ffffff\"> </span><span style=\"color: #808080; text-decoration-color: #808080; background-color: #ffffff\"># wouldn't it be nice if I could just say randint(0, 100)?</span><span style=\"background-color: #ffffff\">                                </span>\n",
       "<span style=\"color: #101010; text-decoration-color: #101010; background-color: #ffffff\">    </span><span style=\"color: #783114; text-decoration-color: #783114; background-color: #ffffff\">--&gt;</span><span style=\"color: #101010; text-decoration-color: #101010; background-color: #ffffff\">4</span><span style=\"color: #783114; text-decoration-color: #783114; background-color: #ffffff\">:</span><span style=\"color: #101010; text-decoration-color: #101010; background-color: #ffffff\"> </span><span style=\"color: #0011aa; text-decoration-color: #0011aa; background-color: #ffffff\">randint</span><span style=\"color: #783114; text-decoration-color: #783114; background-color: #ffffff\">(</span><span style=\"color: #101010; text-decoration-color: #101010; background-color: #ffffff\">0</span><span style=\"color: #783114; text-decoration-color: #783114; background-color: #ffffff\">,</span><span style=\"color: #101010; text-decoration-color: #101010; background-color: #ffffff\"> 100</span><span style=\"color: #783114; text-decoration-color: #783114; background-color: #ffffff\">)</span><span style=\"background-color: #ffffff\">                                                                           </span>\n",
       "<span style=\"color: #101010; text-decoration-color: #101010; background-color: #ffffff\">          </span><span style=\"color: #783114; text-decoration-color: #783114; background-color: #ffffff\">^^^^^^^</span><span style=\"background-color: #ffffff\">                                                                                   </span>\n",
       "</pre></div>"
      ],
      "text/plain": [
       "\u001b[38;2;221;0;0mException raised on line 4 of code block \u001b[0m\u001b[38;2;120;49;20;48;2;255;255;255m[\u001b[0m\u001b[38;2;16;16;16;48;2;255;255;255m57\u001b[0m\u001b[38;2;120;49;20;48;2;255;255;255m]\u001b[0m\u001b[38;2;221;0;0m.\u001b[0m                                                      \n",
       "\n",
       "\u001b[38;2;16;16;16;48;2;255;255;255m       \u001b[0m\u001b[38;2;16;16;16;48;2;255;255;255m1\u001b[0m\u001b[38;2;120;49;20;48;2;255;255;255m:\u001b[0m\u001b[38;2;16;16;16;48;2;255;255;255m \u001b[0m\u001b[38;2;128;128;128;48;2;255;255;255m# Isn't it a pain to always say random.randint?\u001b[0m\u001b[48;2;255;255;255m                                           \u001b[0m\n",
       "\u001b[38;2;16;16;16;48;2;255;255;255m       \u001b[0m\u001b[38;2;16;16;16;48;2;255;255;255m2\u001b[0m\u001b[38;2;120;49;20;48;2;255;255;255m:\u001b[0m\u001b[38;2;16;16;16;48;2;255;255;255m \u001b[0m\u001b[38;2;128;128;128;48;2;255;255;255m# wouldn't it be nice if I could just say randint(0, 100)?\u001b[0m\u001b[48;2;255;255;255m                                \u001b[0m\n",
       "\u001b[38;2;16;16;16;48;2;255;255;255m    \u001b[0m\u001b[38;2;120;49;20;48;2;255;255;255m-\u001b[0m\u001b[38;2;120;49;20;48;2;255;255;255m-\u001b[0m\u001b[38;2;120;49;20;48;2;255;255;255m>\u001b[0m\u001b[38;2;16;16;16;48;2;255;255;255m4\u001b[0m\u001b[38;2;120;49;20;48;2;255;255;255m:\u001b[0m\u001b[38;2;16;16;16;48;2;255;255;255m \u001b[0m\u001b[38;2;0;17;170;48;2;255;255;255mrandint\u001b[0m\u001b[38;2;120;49;20;48;2;255;255;255m(\u001b[0m\u001b[38;2;16;16;16;48;2;255;255;255m0\u001b[0m\u001b[38;2;120;49;20;48;2;255;255;255m,\u001b[0m\u001b[38;2;16;16;16;48;2;255;255;255m \u001b[0m\u001b[38;2;16;16;16;48;2;255;255;255m100\u001b[0m\u001b[38;2;120;49;20;48;2;255;255;255m)\u001b[0m\u001b[48;2;255;255;255m                                                                           \u001b[0m\n",
       "\u001b[38;2;16;16;16;48;2;255;255;255m          \u001b[0m\u001b[38;2;120;49;20;48;2;255;255;255m^\u001b[0m\u001b[38;2;120;49;20;48;2;255;255;255m^\u001b[0m\u001b[38;2;120;49;20;48;2;255;255;255m^\u001b[0m\u001b[38;2;120;49;20;48;2;255;255;255m^\u001b[0m\u001b[38;2;120;49;20;48;2;255;255;255m^\u001b[0m\u001b[38;2;120;49;20;48;2;255;255;255m^\u001b[0m\u001b[38;2;120;49;20;48;2;255;255;255m^\u001b[0m\u001b[48;2;255;255;255m                                                                                   \u001b[0m\n"
      ]
     },
     "metadata": {},
     "output_type": "display_data"
    }
   ],
   "source": [
    "# Isn't it a pain to always say random.randint?\n",
    "# wouldn't it be nice if I could just say randint(0, 100)?\n",
    "\n",
    "randint(0, 100)"
   ]
  },
  {
   "cell_type": "code",
   "execution_count": 58,
   "id": "2a1b1559",
   "metadata": {},
   "outputs": [
    {
     "data": {
      "text/html": [
       "<pre style='white-space:pre;overflow-x:auto;line-height:normal'><span style=\"color: #008080; text-decoration-color: #008080; font-weight: bold\">80</span>\n",
       "</pre>"
      ],
      "text/plain": [
       "\u001b[1;36m80\u001b[0m\n"
      ]
     },
     "metadata": {},
     "output_type": "display_data"
    }
   ],
   "source": [
    "# when we say \n",
    "\n",
    "random.randint(0, 100)\n",
    "\n",
    "# Python is\n",
    "\n",
    "# (1) finding the \"random\" variable\n",
    "# (2) asking random if it has a \"randint\" attribute (i.e., name after the dot)\n",
    "# (3) If so, it retrieves that attribute\n",
    "# (4) that attribute is actually a function\n",
    "# (5) run the function with arguments 0, 100"
   ]
  },
  {
   "cell_type": "code",
   "execution_count": 59,
   "id": "585ebf1c",
   "metadata": {},
   "outputs": [
    {
     "data": {
      "text/html": [
       "<div id='friendly-message7'><pre style='white-space:pre;overflow-x:auto;line-height:normal'><span style=\"color: #dd0000; text-decoration-color: #dd0000; background-color: #ffffff\">NameError</span>: name 'randint' is not defined                              \n",
       "</pre></div>"
      ],
      "text/plain": [
       "\u001b[38;2;221;0;0;48;2;255;255;255mNameError\u001b[0m: name 'randint' is not defined                              \n"
      ]
     },
     "metadata": {},
     "output_type": "display_data"
    },
    {
     "data": {
      "text/html": [
       "\n",
       "        <button\n",
       "            id='friendly-tb-btn-show7'\n",
       "            onclick='friendly_toggle_more7()'\n",
       "            style=''>\n",
       "        More ...\n",
       "        </button>\n",
       "        <script type=\"text/Javascript\"> function friendly_toggle_more7(){\n",
       "        var btn = document.getElementById('friendly-tb-btn-show7');\n",
       "        var btn_what = document.getElementById('friendly-tb-btn-show-what7');\n",
       "        var btn_where = document.getElementById('friendly-tb-btn-show-where7');\n",
       "        var btn_why = document.getElementById('friendly-tb-btn-show-why7');\n",
       "        var message = document.getElementById('friendly-message7');\n",
       "        var friendly_tb_content = document.getElementById('friendly-tb-friendly_tb-content7');\n",
       "        var what_content = document.getElementById('friendly-tb-what-content7');\n",
       "        var why_content = document.getElementById('friendly-tb-why-content7');\n",
       "        var where_content = document.getElementById('friendly-tb-where-content7');\n",
       "\n",
       "        if (btn_what.style.display == 'none'){\n",
       "            message.style.display = 'none';\n",
       "            btn_what.style.display = 'block';\n",
       "            btn_why.style.display = 'block';\n",
       "            btn_where.style.display = 'block';\n",
       "            friendly_tb_content.style.display = 'block';\n",
       "            btn.textContent = \"Show message only\";\n",
       "        } else {\n",
       "            btn_what.style.display = 'none';\n",
       "            btn_what.textContent = 'what()';\n",
       "            btn_why.style.display = 'none';\n",
       "            btn_why.textContent = 'why()';\n",
       "            btn_where.style.display = 'none';\n",
       "            btn_where.textContent = 'where()';\n",
       "            what_content.style.display = 'none';\n",
       "            why_content.style.display = 'none';\n",
       "            where_content.style.display = 'none';\n",
       "            friendly_tb_content.style.display = 'none';\n",
       "            message.style.display = 'block';\n",
       "            btn.textContent = \"More ...\";\n",
       "        }\n",
       "        };\n",
       "        </script>\n",
       "        "
      ]
     },
     "metadata": {},
     "output_type": "display_data"
    },
    {
     "data": {
      "text/html": [
       "<div id='friendly-tb-friendly_tb-content7' style='display:none'><pre style='white-space:pre;overflow-x:auto;line-height:normal'><span style=\"color: #dd0000; text-decoration-color: #dd0000; background-color: #ffffff\">Traceback (most recent call last):</span><span style=\"background-color: #ffffff\">                                                                  </span>\n",
       "<span style=\"color: #101010; text-decoration-color: #101010; background-color: #ffffff\">  Code block </span><span style=\"color: #783114; text-decoration-color: #783114; background-color: #ffffff\">[</span><span style=\"color: #101010; text-decoration-color: #101010; background-color: #ffffff\">59</span><span style=\"color: #783114; text-decoration-color: #783114; background-color: #ffffff\">]</span><span style=\"color: #101010; text-decoration-color: #101010; background-color: #ffffff\">, line 3, in </span><span style=\"color: #0011aa; text-decoration-color: #0011aa; background-color: #ffffff\">&lt;module&gt;</span><span style=\"background-color: #ffffff\">                                                              </span>\n",
       "<span style=\"color: #101010; text-decoration-color: #101010; background-color: #ffffff\">    </span><span style=\"color: #0011aa; text-decoration-color: #0011aa; background-color: #ffffff\">randint</span><span style=\"color: #783114; text-decoration-color: #783114; background-color: #ffffff\">(</span><span style=\"color: #101010; text-decoration-color: #101010; background-color: #ffffff\">0</span><span style=\"color: #783114; text-decoration-color: #783114; background-color: #ffffff\">,</span><span style=\"color: #101010; text-decoration-color: #101010; background-color: #ffffff\"> 100</span><span style=\"color: #783114; text-decoration-color: #783114; background-color: #ffffff\">)</span><span style=\"background-color: #ffffff\">                                                                                 </span>\n",
       "<span style=\"color: #dd0000; text-decoration-color: #dd0000; background-color: #ffffff\">NameError</span><span style=\"color: #101010; text-decoration-color: #101010; background-color: #ffffff\">: </span><span style=\"color: #0011aa; text-decoration-color: #0011aa; background-color: #ffffff\">name 'randint' is not defined</span><span style=\"background-color: #ffffff\">                                                            </span>\n",
       "\n",
       "Did you forget to add <span style=\"color: #0011aa; text-decoration-color: #0011aa; background-color: #ffffff\">random</span><span style=\"color: #783114; text-decoration-color: #783114; background-color: #ffffff\">.</span>?                                                                      \n",
       "</pre></div>"
      ],
      "text/plain": [
       "\u001b[38;2;221;0;0;48;2;255;255;255mTraceback (most recent call last):\u001b[0m\u001b[48;2;255;255;255m                                                                  \u001b[0m\n",
       "\u001b[38;2;16;16;16;48;2;255;255;255m  Code block \u001b[0m\u001b[38;2;120;49;20;48;2;255;255;255m[\u001b[0m\u001b[38;2;16;16;16;48;2;255;255;255m59\u001b[0m\u001b[38;2;120;49;20;48;2;255;255;255m]\u001b[0m\u001b[38;2;16;16;16;48;2;255;255;255m, line \u001b[0m\u001b[38;2;16;16;16;48;2;255;255;255m3\u001b[0m\u001b[38;2;16;16;16;48;2;255;255;255m, in \u001b[0m\u001b[38;2;0;17;170;48;2;255;255;255m<module>\u001b[0m\u001b[48;2;255;255;255m                                                              \u001b[0m\n",
       "\u001b[38;2;16;16;16;48;2;255;255;255m    \u001b[0m\u001b[38;2;0;17;170;48;2;255;255;255mrandint\u001b[0m\u001b[38;2;120;49;20;48;2;255;255;255m(\u001b[0m\u001b[38;2;16;16;16;48;2;255;255;255m0\u001b[0m\u001b[38;2;120;49;20;48;2;255;255;255m,\u001b[0m\u001b[38;2;16;16;16;48;2;255;255;255m \u001b[0m\u001b[38;2;16;16;16;48;2;255;255;255m100\u001b[0m\u001b[38;2;120;49;20;48;2;255;255;255m)\u001b[0m\u001b[48;2;255;255;255m                                                                                 \u001b[0m\n",
       "\u001b[38;2;221;0;0;48;2;255;255;255mNameError\u001b[0m\u001b[38;2;16;16;16;48;2;255;255;255m: \u001b[0m\u001b[38;2;0;17;170;48;2;255;255;255mname 'randint' is not defined\u001b[0m\u001b[48;2;255;255;255m                                                            \u001b[0m\n",
       "\n",
       "Did you forget to add \u001b[38;2;0;17;170;48;2;255;255;255mrandom\u001b[0m\u001b[38;2;120;49;20;48;2;255;255;255m.\u001b[0m?                                                                      \n"
      ]
     },
     "metadata": {},
     "output_type": "display_data"
    },
    {
     "data": {
      "text/html": [
       "<script type=\"text/Javascript\"> function toggle_what7(){\n",
       "     var content = document.getElementById('friendly-tb-what-content7');\n",
       "     var btn = document.getElementById('friendly-tb-btn-show-what7');\n",
       "        if (content.style.display === 'none') {\n",
       "            content.style.display = 'block';\n",
       "            btn.textContent = \"Hide what()\";\n",
       "        } else {\n",
       "            content.style.display = 'none';\n",
       "            btn.textContent = \"what()\";\n",
       "       }\n",
       "    }\n",
       "     </script>\n",
       "     <button\n",
       "         id='friendly-tb-btn-show-what7'\n",
       "         onclick='toggle_what7()'\n",
       "         style='display:none '>\n",
       "     what()\n",
       "     </button>\n",
       "    "
      ]
     },
     "metadata": {},
     "output_type": "display_data"
    },
    {
     "data": {
      "text/html": [
       "<div id='friendly-tb-what-content7' style='display:none'><pre style='white-space:pre;overflow-x:auto;line-height:normal'>A <span style=\"color: #dd0000; text-decoration-color: #dd0000; background-color: #ffffff\">NameError</span> exception indicates that a variable or function name is   \n",
       "not known to Python. Most often, this is because there is a spelling  \n",
       "mistake. However, sometimes it is because the name is used before     \n",
       "being defined or given a value.                                       \n",
       "</pre></div>"
      ],
      "text/plain": [
       "A \u001b[38;2;221;0;0;48;2;255;255;255mNameError\u001b[0m exception indicates that a variable or function name is   \n",
       "not known to Python. Most often, this is because there is a spelling  \n",
       "mistake. However, sometimes it is because the name is used before     \n",
       "being defined or given a value.                                       \n"
      ]
     },
     "metadata": {},
     "output_type": "display_data"
    },
    {
     "data": {
      "text/html": [
       "<script type=\"text/Javascript\"> function toggle_why7(){\n",
       "     var content = document.getElementById('friendly-tb-why-content7');\n",
       "     var btn = document.getElementById('friendly-tb-btn-show-why7');\n",
       "        if (content.style.display === 'none') {\n",
       "            content.style.display = 'block';\n",
       "            btn.textContent = \"Hide why()\";\n",
       "        } else {\n",
       "            content.style.display = 'none';\n",
       "            btn.textContent = \"why()\";\n",
       "       }\n",
       "    }\n",
       "     </script>\n",
       "     <button\n",
       "         id='friendly-tb-btn-show-why7'\n",
       "         onclick='toggle_why7()'\n",
       "         style='display:none '>\n",
       "     why()\n",
       "     </button>\n",
       "    "
      ]
     },
     "metadata": {},
     "output_type": "display_data"
    },
    {
     "data": {
      "text/html": [
       "<div id='friendly-tb-why-content7' style='display:none'><pre style='white-space:pre;overflow-x:auto;line-height:normal'>In your program, no object with the name <span style=\"color: #0011aa; text-decoration-color: #0011aa; background-color: #ffffff\">randint</span> exists.              \n",
       "\n",
       "The local object <span style=\"color: #0011aa; text-decoration-color: #0011aa; background-color: #ffffff\">random</span> has an attribute named <span style=\"color: #0011aa; text-decoration-color: #0011aa; background-color: #ffffff\">randint</span>. Perhaps you   \n",
       "should have written <span style=\"color: #0011aa; text-decoration-color: #0011aa; background-color: #ffffff\">random</span><span style=\"color: #783114; text-decoration-color: #783114; background-color: #ffffff\">.</span><span style=\"color: #0011aa; text-decoration-color: #0011aa; background-color: #ffffff\">randint</span> instead of <span style=\"color: #0011aa; text-decoration-color: #0011aa; background-color: #ffffff\">randint</span>.                \n",
       "\n",
       "<span style=\"color: #0011aa; text-decoration-color: #0011aa; background-color: #ffffff\">randint</span> is a name found in module <span style=\"color: #0011aa; text-decoration-color: #0011aa; background-color: #ffffff\">random</span>. Perhaps you forgot to write \n",
       "\n",
       "<span style=\"color: #005500; text-decoration-color: #005500; background-color: #ffffff\">from</span><span style=\"color: #101010; text-decoration-color: #101010; background-color: #ffffff\"> </span><span style=\"color: #0011aa; text-decoration-color: #0011aa; background-color: #ffffff\">random</span><span style=\"color: #101010; text-decoration-color: #101010; background-color: #ffffff\"> </span><span style=\"color: #005500; text-decoration-color: #005500; background-color: #ffffff\">import</span><span style=\"color: #101010; text-decoration-color: #101010; background-color: #ffffff\"> </span><span style=\"color: #0011aa; text-decoration-color: #0011aa; background-color: #ffffff\">randint</span><span style=\"background-color: #ffffff\">                                            </span>\n",
       "</pre></div>"
      ],
      "text/plain": [
       "In your program, no object with the name \u001b[38;2;0;17;170;48;2;255;255;255mrandint\u001b[0m exists.              \n",
       "\n",
       "The local object \u001b[38;2;0;17;170;48;2;255;255;255mrandom\u001b[0m has an attribute named \u001b[38;2;0;17;170;48;2;255;255;255mrandint\u001b[0m. Perhaps you   \n",
       "should have written \u001b[38;2;0;17;170;48;2;255;255;255mrandom\u001b[0m\u001b[38;2;120;49;20;48;2;255;255;255m.\u001b[0m\u001b[38;2;0;17;170;48;2;255;255;255mrandint\u001b[0m instead of \u001b[38;2;0;17;170;48;2;255;255;255mrandint\u001b[0m.                \n",
       "\n",
       "\u001b[38;2;0;17;170;48;2;255;255;255mrandint\u001b[0m is a name found in module \u001b[38;2;0;17;170;48;2;255;255;255mrandom\u001b[0m. Perhaps you forgot to write \n",
       "\n",
       "\u001b[38;2;0;85;0;48;2;255;255;255mfrom\u001b[0m\u001b[38;2;16;16;16;48;2;255;255;255m \u001b[0m\u001b[38;2;0;17;170;48;2;255;255;255mrandom\u001b[0m\u001b[38;2;16;16;16;48;2;255;255;255m \u001b[0m\u001b[38;2;0;85;0;48;2;255;255;255mimport\u001b[0m\u001b[38;2;16;16;16;48;2;255;255;255m \u001b[0m\u001b[38;2;0;17;170;48;2;255;255;255mrandint\u001b[0m\u001b[48;2;255;255;255m                                            \u001b[0m\n"
      ]
     },
     "metadata": {},
     "output_type": "display_data"
    },
    {
     "data": {
      "text/html": [
       "<script type=\"text/Javascript\"> function toggle_where7(){\n",
       "     var content = document.getElementById('friendly-tb-where-content7');\n",
       "     var btn = document.getElementById('friendly-tb-btn-show-where7');\n",
       "        if (content.style.display === 'none') {\n",
       "            content.style.display = 'block';\n",
       "            btn.textContent = \"Hide where()\";\n",
       "        } else {\n",
       "            content.style.display = 'none';\n",
       "            btn.textContent = \"where()\";\n",
       "       }\n",
       "    }\n",
       "     </script>\n",
       "     <button\n",
       "         id='friendly-tb-btn-show-where7'\n",
       "         onclick='toggle_where7()'\n",
       "         style='display:none '>\n",
       "     where()\n",
       "     </button>\n",
       "    "
      ]
     },
     "metadata": {},
     "output_type": "display_data"
    },
    {
     "data": {
      "text/html": [
       "<div id='friendly-tb-where-content7' style='display:none'><pre style='white-space:pre;overflow-x:auto;line-height:normal'><span style=\"color: #dd0000; text-decoration-color: #dd0000\">Exception raised on line 3 of code block </span><span style=\"color: #783114; text-decoration-color: #783114; background-color: #ffffff\">[</span><span style=\"color: #101010; text-decoration-color: #101010; background-color: #ffffff\">59</span><span style=\"color: #783114; text-decoration-color: #783114; background-color: #ffffff\">]</span><span style=\"color: #dd0000; text-decoration-color: #dd0000\">.</span>                                                      \n",
       "\n",
       "<span style=\"color: #101010; text-decoration-color: #101010; background-color: #ffffff\">       1</span><span style=\"color: #783114; text-decoration-color: #783114; background-color: #ffffff\">:</span><span style=\"color: #101010; text-decoration-color: #101010; background-color: #ffffff\"> </span><span style=\"color: #808080; text-decoration-color: #808080; background-color: #ffffff\"># If I just say</span><span style=\"background-color: #ffffff\">                                                                           </span>\n",
       "<span style=\"color: #101010; text-decoration-color: #101010; background-color: #ffffff\">    </span><span style=\"color: #783114; text-decoration-color: #783114; background-color: #ffffff\">--&gt;</span><span style=\"color: #101010; text-decoration-color: #101010; background-color: #ffffff\">3</span><span style=\"color: #783114; text-decoration-color: #783114; background-color: #ffffff\">:</span><span style=\"color: #101010; text-decoration-color: #101010; background-color: #ffffff\"> </span><span style=\"color: #0011aa; text-decoration-color: #0011aa; background-color: #ffffff\">randint</span><span style=\"color: #783114; text-decoration-color: #783114; background-color: #ffffff\">(</span><span style=\"color: #101010; text-decoration-color: #101010; background-color: #ffffff\">0</span><span style=\"color: #783114; text-decoration-color: #783114; background-color: #ffffff\">,</span><span style=\"color: #101010; text-decoration-color: #101010; background-color: #ffffff\"> 100</span><span style=\"color: #783114; text-decoration-color: #783114; background-color: #ffffff\">)</span><span style=\"background-color: #ffffff\">                                                                           </span>\n",
       "<span style=\"color: #101010; text-decoration-color: #101010; background-color: #ffffff\">          </span><span style=\"color: #783114; text-decoration-color: #783114; background-color: #ffffff\">^^^^^^^</span><span style=\"background-color: #ffffff\">                                                                                   </span>\n",
       "</pre></div>"
      ],
      "text/plain": [
       "\u001b[38;2;221;0;0mException raised on line 3 of code block \u001b[0m\u001b[38;2;120;49;20;48;2;255;255;255m[\u001b[0m\u001b[38;2;16;16;16;48;2;255;255;255m59\u001b[0m\u001b[38;2;120;49;20;48;2;255;255;255m]\u001b[0m\u001b[38;2;221;0;0m.\u001b[0m                                                      \n",
       "\n",
       "\u001b[38;2;16;16;16;48;2;255;255;255m       \u001b[0m\u001b[38;2;16;16;16;48;2;255;255;255m1\u001b[0m\u001b[38;2;120;49;20;48;2;255;255;255m:\u001b[0m\u001b[38;2;16;16;16;48;2;255;255;255m \u001b[0m\u001b[38;2;128;128;128;48;2;255;255;255m# If I just say\u001b[0m\u001b[48;2;255;255;255m                                                                           \u001b[0m\n",
       "\u001b[38;2;16;16;16;48;2;255;255;255m    \u001b[0m\u001b[38;2;120;49;20;48;2;255;255;255m-\u001b[0m\u001b[38;2;120;49;20;48;2;255;255;255m-\u001b[0m\u001b[38;2;120;49;20;48;2;255;255;255m>\u001b[0m\u001b[38;2;16;16;16;48;2;255;255;255m3\u001b[0m\u001b[38;2;120;49;20;48;2;255;255;255m:\u001b[0m\u001b[38;2;16;16;16;48;2;255;255;255m \u001b[0m\u001b[38;2;0;17;170;48;2;255;255;255mrandint\u001b[0m\u001b[38;2;120;49;20;48;2;255;255;255m(\u001b[0m\u001b[38;2;16;16;16;48;2;255;255;255m0\u001b[0m\u001b[38;2;120;49;20;48;2;255;255;255m,\u001b[0m\u001b[38;2;16;16;16;48;2;255;255;255m \u001b[0m\u001b[38;2;16;16;16;48;2;255;255;255m100\u001b[0m\u001b[38;2;120;49;20;48;2;255;255;255m)\u001b[0m\u001b[48;2;255;255;255m                                                                           \u001b[0m\n",
       "\u001b[38;2;16;16;16;48;2;255;255;255m          \u001b[0m\u001b[38;2;120;49;20;48;2;255;255;255m^\u001b[0m\u001b[38;2;120;49;20;48;2;255;255;255m^\u001b[0m\u001b[38;2;120;49;20;48;2;255;255;255m^\u001b[0m\u001b[38;2;120;49;20;48;2;255;255;255m^\u001b[0m\u001b[38;2;120;49;20;48;2;255;255;255m^\u001b[0m\u001b[38;2;120;49;20;48;2;255;255;255m^\u001b[0m\u001b[38;2;120;49;20;48;2;255;255;255m^\u001b[0m\u001b[48;2;255;255;255m                                                                                   \u001b[0m\n"
      ]
     },
     "metadata": {},
     "output_type": "display_data"
    }
   ],
   "source": [
    "# If I just say \n",
    "\n",
    "randint(0, 100)\n",
    "\n",
    "# Python says: I don't have a variable \"randint\" and stops with an error"
   ]
  },
  {
   "cell_type": "code",
   "execution_count": 60,
   "id": "c7b4b605",
   "metadata": {},
   "outputs": [],
   "source": [
    "# what I'd like is a way to shorten my code by just being able to write \"random(0, 100)\"\n",
    "# the way we can do that is with \"from .. import\"\n",
    "\n",
    "# this means:\n",
    "# (1) find the module \"random\"\n",
    "# (2) find, in that module, the name \"randint\"\n",
    "# (3) define a new variable \"randint\" that refers to random.randint\n",
    "# NOTE: when we do this, \"random\" is *NOT* defined.  (But we defined it earlier, so we're OK)\n",
    "\n",
    "from random import randint"
   ]
  },
  {
   "cell_type": "code",
   "execution_count": 61,
   "id": "0a3aa42b",
   "metadata": {},
   "outputs": [
    {
     "data": {
      "text/html": [
       "<pre style='white-space:pre;overflow-x:auto;line-height:normal'><span style=\"color: #008080; text-decoration-color: #008080; font-weight: bold\">75</span>\n",
       "</pre>"
      ],
      "text/plain": [
       "\u001b[1;36m75\u001b[0m\n"
      ]
     },
     "metadata": {},
     "output_type": "display_data"
    }
   ],
   "source": [
    "# now randint *is* defined as a variable (function)\n",
    "# so we can run it\n",
    "\n",
    "randint(0, 100)"
   ]
  },
  {
   "cell_type": "code",
   "execution_count": 62,
   "id": "075a5d35",
   "metadata": {},
   "outputs": [],
   "source": [
    "# what's the advantage of using from .. import?\n",
    "# you can write less code.  You don't need to use the full name (module.function) every time\n",
    "# you want to run the function"
   ]
  },
  {
   "cell_type": "code",
   "execution_count": 63,
   "id": "2fc52109",
   "metadata": {},
   "outputs": [],
   "source": [
    "# An example: I often use the \"pandas\" library for data analyze\n",
    "# I often say:\n",
    "\n",
    "from pandas import Series, DataFrame   # notice -- two names, separated by commas\n"
   ]
  },
  {
   "cell_type": "markdown",
   "id": "8001bd80",
   "metadata": {},
   "source": [
    "# Ways to `import` (so far)\n",
    "\n",
    "1. `import MODNAME` \n",
    "2. `from MODNAME import NAME1`\n",
    "3. `from MODNAME import NAME1, NAME2`"
   ]
  },
  {
   "cell_type": "code",
   "execution_count": 64,
   "id": "655b6b0c",
   "metadata": {},
   "outputs": [],
   "source": [
    "# what if I want to import a module, but its name is long, complex, hard to spell, etc?\n",
    "# I want to import it, but I want to determine its name\n",
    "\n",
    "import random as r   # the \"as\" tells Python what to name the module when we load it"
   ]
  },
  {
   "cell_type": "code",
   "execution_count": 65,
   "id": "5356c3e3",
   "metadata": {},
   "outputs": [],
   "source": [
    "# everyone, but *everyone* in the data science world says:\n",
    "\n",
    "import numpy as np   # if you're using NumPy"
   ]
  },
  {
   "cell_type": "code",
   "execution_count": 66,
   "id": "4b3ca848",
   "metadata": {},
   "outputs": [],
   "source": [
    "import pandas as pd  # everyone using pandas does this, too"
   ]
  },
  {
   "cell_type": "code",
   "execution_count": 67,
   "id": "3f7b4a1f",
   "metadata": {},
   "outputs": [],
   "source": [
    "# along these lines, you can also say:\n",
    "\n",
    "# meaning: go to the random module, find the randint function, and import it *but* alias it to ri\n",
    "from random import randint as ri"
   ]
  },
  {
   "cell_type": "code",
   "execution_count": null,
   "id": "69b010e8",
   "metadata": {},
   "outputs": [],
   "source": []
  },
  {
   "cell_type": "markdown",
   "id": "f1e3b296",
   "metadata": {},
   "source": [
    "# Ways to `import` (so far)\n",
    "\n",
    "1. `import MODNAME` \n",
    "2. `from MODNAME import NAME1`\n",
    "3. `from MODNAME import NAME1, NAME2`\n",
    "4. `import MODNAME as ALIAS`\n",
    "5. `from MODNAME import NAME1 as ALIAS1`"
   ]
  },
  {
   "cell_type": "markdown",
   "id": "fd20609c",
   "metadata": {},
   "source": [
    "You can also say:\n",
    "\n",
    "```python\n",
    "from random import * \n",
    "```\n",
    "\n",
    "### Please, please, *please*, don't ever do this in your programs.\n",
    "\n",
    "What this means is:\n",
    "1. Find the module `random`\n",
    "2. Go through each name defined in the module.\n",
    "3. Define that name as a variable outside of the module, in your program.\n",
    "\n",
    "This has practical problems and philosophical problems:\n",
    "\n",
    "1. Practically, this means that if you and the module both use the same variable name, one of those variables is no longer available.\n",
    "2. Philosophically, this means that you don't want to use namespaces -- to keep names separate."
   ]
  },
  {
   "cell_type": "markdown",
   "id": "4404e129",
   "metadata": {},
   "source": [
    "# What is Python loading? Where are modules located?\n",
    "\n",
    "When we say `import modname`, what is Python doing?\n",
    "\n",
    "Simply put: It's loading the file `modname.py`.  It's looking for that file on your disk.\n",
    "\n",
    "Where is it looking?  In its search path -- a bunch of directories and files that it's configured to look at.  We can look at the search path, which is in `sys.path`.  (In the `sys` module, the `path` variable.)"
   ]
  },
  {
   "cell_type": "code",
   "execution_count": 68,
   "id": "cd0bbdf6",
   "metadata": {},
   "outputs": [
    {
     "data": {
      "text/html": [
       "<pre style='white-space:pre;overflow-x:auto;line-height:normal'>\n",
       "<span style=\"font-weight: bold\">[</span>\n",
       "<span style=\"color: #7fbf7f; text-decoration-color: #7fbf7f\">│   </span><span style=\"color: #008000; text-decoration-color: #008000\">\"/Users/reuven/Courses/Current/O'Reilly-2022-q1\"</span>,\n",
       "<span style=\"color: #7fbf7f; text-decoration-color: #7fbf7f\">│   </span><span style=\"color: #008000; text-decoration-color: #008000\">'/usr/local/Cellar/python@3.10/3.10.1/Frameworks/Python.framework/Versions/3.10/lib/python310.zip'</span>,\n",
       "<span style=\"color: #7fbf7f; text-decoration-color: #7fbf7f\">│   </span><span style=\"color: #008000; text-decoration-color: #008000\">'/usr/local/Cellar/python@3.10/3.10.1/Frameworks/Python.framework/Versions/3.10/lib/python3.10'</span>,\n",
       "<span style=\"color: #7fbf7f; text-decoration-color: #7fbf7f\">│   </span><span style=\"color: #008000; text-decoration-color: #008000\">'/usr/local/Cellar/python@3.10/3.10.1/Frameworks/Python.framework/Versions/3.10/lib/python3.10/lib-dynload'</span>,\n",
       "<span style=\"color: #7fbf7f; text-decoration-color: #7fbf7f\">│   </span><span style=\"color: #008000; text-decoration-color: #008000\">''</span>,\n",
       "<span style=\"color: #7fbf7f; text-decoration-color: #7fbf7f\">│   </span><span style=\"color: #008000; text-decoration-color: #008000\">'/usr/local/lib/python3.10/site-packages'</span>,\n",
       "<span style=\"color: #7fbf7f; text-decoration-color: #7fbf7f\">│   </span><span style=\"color: #008000; text-decoration-color: #008000\">'/usr/local/Cellar/pybind11/2.9.0/libexec/lib/python3.10/site-packages'</span>,\n",
       "<span style=\"color: #7fbf7f; text-decoration-color: #7fbf7f\">│   </span><span style=\"color: #008000; text-decoration-color: #008000\">'/usr/local/lib/python3.10/site-packages/IPython/extensions'</span>,\n",
       "<span style=\"color: #7fbf7f; text-decoration-color: #7fbf7f\">│   </span><span style=\"color: #008000; text-decoration-color: #008000\">'/Users/reuven/.ipython'</span>\n",
       "<span style=\"font-weight: bold\">]</span>\n",
       "</pre>"
      ],
      "text/plain": [
       "\n",
       "\u001b[1m[\u001b[0m\n",
       "\u001b[2;32m│   \u001b[0m\u001b[32m\"/Users/reuven/Courses/Current/O'Reilly-2022-q1\"\u001b[0m,\n",
       "\u001b[2;32m│   \u001b[0m\u001b[32m'/usr/local/Cellar/python@3.10/3.10.1/Frameworks/Python.framework/Versions/3.10/lib/python310.zip'\u001b[0m,\n",
       "\u001b[2;32m│   \u001b[0m\u001b[32m'/usr/local/Cellar/python@3.10/3.10.1/Frameworks/Python.framework/Versions/3.10/lib/python3.10'\u001b[0m,\n",
       "\u001b[2;32m│   \u001b[0m\u001b[32m'/usr/local/Cellar/python@3.10/3.10.1/Frameworks/Python.framework/Versions/3.10/lib/python3.10/lib-dynload'\u001b[0m,\n",
       "\u001b[2;32m│   \u001b[0m\u001b[32m''\u001b[0m,\n",
       "\u001b[2;32m│   \u001b[0m\u001b[32m'/usr/local/lib/python3.10/site-packages'\u001b[0m,\n",
       "\u001b[2;32m│   \u001b[0m\u001b[32m'/usr/local/Cellar/pybind11/2.9.0/libexec/lib/python3.10/site-packages'\u001b[0m,\n",
       "\u001b[2;32m│   \u001b[0m\u001b[32m'/usr/local/lib/python3.10/site-packages/IPython/extensions'\u001b[0m,\n",
       "\u001b[2;32m│   \u001b[0m\u001b[32m'/Users/reuven/.ipython'\u001b[0m\n",
       "\u001b[1m]\u001b[0m\n"
      ]
     },
     "metadata": {},
     "output_type": "display_data"
    }
   ],
   "source": [
    "import sys\n",
    "sys.path  # this is the list of directories where Python looks for modules"
   ]
  },
  {
   "cell_type": "markdown",
   "id": "ad32d4a6",
   "metadata": {},
   "source": [
    "# When I say `import`...\n",
    "\n",
    "Python goes through each directory in `sys.path`, looking for our module name + `.py`.\n",
    "\n"
   ]
  },
  {
   "cell_type": "code",
   "execution_count": 69,
   "id": "9ce761da",
   "metadata": {},
   "outputs": [
    {
     "data": {
      "text/html": [
       "<pre style='white-space:pre;overflow-x:auto;line-height:normal'><span style=\"font-weight: bold\">&lt;</span><span style=\"color: #ff00ff; text-decoration-color: #ff00ff; font-weight: bold\">module</span><span style=\"color: #000000; text-decoration-color: #000000\"> </span><span style=\"color: #008000; text-decoration-color: #008000\">'random'</span><span style=\"color: #000000; text-decoration-color: #000000\"> from </span><span style=\"color: #008000; text-decoration-color: #008000\">'/usr/local/Cellar/python@3.10/3.10.1/Frameworks/Python.framework/Versions/3.10/lib/python3.10/random.py'</span><span style=\"font-weight: bold\">&gt;</span>\n",
       "</pre>"
      ],
      "text/plain": [
       "\u001b[1m<\u001b[0m\u001b[1;95mmodule\u001b[0m\u001b[39m \u001b[0m\u001b[32m'random'\u001b[0m\u001b[39m from \u001b[0m\u001b[32m'/usr/local/Cellar/python@3.10/3.10.1/Frameworks/Python.framework/Versions/3.10/lib/python3.10/random.py'\u001b[0m\u001b[1m>\u001b[0m\n"
      ]
     },
     "metadata": {},
     "output_type": "display_data"
    }
   ],
   "source": [
    "random  "
   ]
  },
  {
   "cell_type": "markdown",
   "id": "e167828d",
   "metadata": {},
   "source": [
    "# Modifying `sys.path`.\n",
    "\n",
    "The best way to do this is by setting `PYTHONPATH`, an environment variable, before Python starts up.  Any value(s) there will be added to `sys.path` at startup.\n",
    "\n",
    "```\n",
    "Python 3.10.1 (main, Dec  6 2021, 23:20:29) [Clang 13.0.0 (clang-1300.0.29.3)] on darwin\n",
    "Type \"help\", \"copyright\", \"credits\" or \"license\" for more information.\n",
    ">>> import sys\n",
    ">>> for one_dirname in sys.path:\n",
    "...     print(one_dirname)\n",
    "...\n",
    "\n",
    "/usr/local/Cellar/python@3.10/3.10.1/Frameworks/Python.framework/Versions/3.10/lib/python310.zip\n",
    "/usr/local/Cellar/python@3.10/3.10.1/Frameworks/Python.framework/Versions/3.10/lib/python3.10\n",
    "/usr/local/Cellar/python@3.10/3.10.1/Frameworks/Python.framework/Versions/3.10/lib/python3.10/lib-dynload\n",
    "/usr/local/lib/python3.10/site-packages\n",
    "/usr/local/Cellar/pybind11/2.9.0/libexec/lib/python3.10/site-packages\n",
    ">>>\n",
    "[ ~/Desktop]$ export PYTHONPATH='/foo/bar:/my/favorite/directory'\n",
    "[ ~/Desktop]$ python3\n",
    "Python 3.10.1 (main, Dec  6 2021, 23:20:29) [Clang 13.0.0 (clang-1300.0.29.3)] on darwin\n",
    "Type \"help\", \"copyright\", \"credits\" or \"license\" for more information.\n",
    ">>> import sys\n",
    ">>> for one_dirname in sys.path:\n",
    "...     print(one_dirname)\n",
    "...\n",
    "\n",
    "/foo/bar\n",
    "/my/favorite/directory\n",
    "/usr/local/Cellar/python@3.10/3.10.1/Frameworks/Python.framework/Versions/3.10/lib/python310.zip\n",
    "/usr/local/Cellar/python@3.10/3.10.1/Frameworks/Python.framework/Versions/3.10/lib/python3.10\n",
    "/usr/local/Cellar/python@3.10/3.10.1/Frameworks/Python.framework/Versions/3.10/lib/python3.10/lib-dynload\n",
    "/usr/local/lib/python3.10/site-packages\n",
    "/usr/local/Cellar/pybind11/2.9.0/libexec/lib/python3.10/site-packages\n",
    ">>>\n",
    "```"
   ]
  },
  {
   "cell_type": "code",
   "execution_count": 70,
   "id": "7972e95e",
   "metadata": {},
   "outputs": [
    {
     "data": {
      "text/html": [
       "<pre style='white-space:pre;overflow-x:auto;line-height:normal'><span style=\"font-weight: bold\">&lt;</span><span style=\"color: #ff00ff; text-decoration-color: #ff00ff; font-weight: bold\">module</span><span style=\"color: #000000; text-decoration-color: #000000\"> </span><span style=\"color: #008000; text-decoration-color: #008000\">'random'</span><span style=\"color: #000000; text-decoration-color: #000000\"> from </span><span style=\"color: #008000; text-decoration-color: #008000\">'/usr/local/Cellar/python@3.10/3.10.1/Frameworks/Python.framework/Versions/3.10/lib/python3.10/random.py'</span><span style=\"font-weight: bold\">&gt;</span>\n",
       "</pre>"
      ],
      "text/plain": [
       "\u001b[1m<\u001b[0m\u001b[1;95mmodule\u001b[0m\u001b[39m \u001b[0m\u001b[32m'random'\u001b[0m\u001b[39m from \u001b[0m\u001b[32m'/usr/local/Cellar/python@3.10/3.10.1/Frameworks/Python.framework/Versions/3.10/lib/python3.10/random.py'\u001b[0m\u001b[1m>\u001b[0m\n"
      ]
     },
     "metadata": {},
     "output_type": "display_data"
    }
   ],
   "source": [
    "random\n"
   ]
  },
  {
   "cell_type": "code",
   "execution_count": 71,
   "id": "5b4ac0e6",
   "metadata": {},
   "outputs": [],
   "source": [
    "# the \"os\" module is all about the operating system -- especially connecting with files on the disk\n",
    "\n",
    "import os"
   ]
  },
  {
   "cell_type": "code",
   "execution_count": 72,
   "id": "e4c06b3a",
   "metadata": {},
   "outputs": [
    {
     "data": {
      "text/html": [
       "<pre style='white-space:pre;overflow-x:auto;line-height:normal'><span style=\"color: #800080; text-decoration-color: #800080; font-weight: bold\">os.stat_result</span><span style=\"font-weight: bold\">(</span><span style=\"color: #808000; text-decoration-color: #808000\">st_mode</span>=<span style=\"color: #008080; text-decoration-color: #008080; font-weight: bold\">33188</span>, <span style=\"color: #808000; text-decoration-color: #808000\">st_ino</span>=<span style=\"color: #008080; text-decoration-color: #008080; font-weight: bold\">17454971</span>, <span style=\"color: #808000; text-decoration-color: #808000\">st_dev</span>=<span style=\"color: #008080; text-decoration-color: #008080; font-weight: bold\">16777221</span>, <span style=\"color: #808000; text-decoration-color: #808000\">st_nlink</span>=<span style=\"color: #008080; text-decoration-color: #008080; font-weight: bold\">1</span>, <span style=\"color: #808000; text-decoration-color: #808000\">st_uid</span>=<span style=\"color: #008080; text-decoration-color: #008080; font-weight: bold\">0</span>, <span style=\"color: #808000; text-decoration-color: #808000\">st_gid</span>=<span style=\"color: #008080; text-decoration-color: #008080; font-weight: bold\">0</span>, <span style=\"color: #808000; text-decoration-color: #808000\">st_size</span>=<span style=\"color: #008080; text-decoration-color: #008080; font-weight: bold\">7630</span>, <span style=\"color: #808000; text-decoration-color: #808000\">st_atime</span>=<span style=\"color: #008080; text-decoration-color: #008080; font-weight: bold\">1634704084</span>, <span style=\"color: #808000; text-decoration-color: #808000\">st_mtime</span>=<span style=\"color: #008080; text-decoration-color: #008080; font-weight: bold\">1577865600</span>, <span style=\"color: #808000; text-decoration-color: #808000\">st_ctime</span>=<span style=\"color: #008080; text-decoration-color: #008080; font-weight: bold\">1634704084</span><span style=\"font-weight: bold\">)</span>\n",
       "</pre>"
      ],
      "text/plain": [
       "\u001b[1;35mos.stat_result\u001b[0m\u001b[1m(\u001b[0m\u001b[33mst_mode\u001b[0m=\u001b[1;36m33188\u001b[0m, \u001b[33mst_ino\u001b[0m=\u001b[1;36m17454971\u001b[0m, \u001b[33mst_dev\u001b[0m=\u001b[1;36m16777221\u001b[0m, \u001b[33mst_nlink\u001b[0m=\u001b[1;36m1\u001b[0m, \u001b[33mst_uid\u001b[0m=\u001b[1;36m0\u001b[0m, \u001b[33mst_gid\u001b[0m=\u001b[1;36m0\u001b[0m, \u001b[33mst_size\u001b[0m=\u001b[1;36m7630\u001b[0m, \u001b[33mst_atime\u001b[0m=\u001b[1;36m1634704084\u001b[0m, \u001b[33mst_mtime\u001b[0m=\u001b[1;36m1577865600\u001b[0m, \u001b[33mst_ctime\u001b[0m=\u001b[1;36m1634704084\u001b[0m\u001b[1m)\u001b[0m\n"
      ]
     },
     "metadata": {},
     "output_type": "display_data"
    }
   ],
   "source": [
    "# run os.stat to get some basic information about a file on the disk (filesystem)\n",
    "os.stat('/etc/passwd')"
   ]
  },
  {
   "cell_type": "code",
   "execution_count": 74,
   "id": "a5c22cf4",
   "metadata": {},
   "outputs": [
    {
     "data": {
      "text/html": [
       "<pre style='white-space:pre;overflow-x:auto;line-height:normal'><span style=\"color: #008080; text-decoration-color: #008080; font-weight: bold\">7630</span>\n",
       "</pre>"
      ],
      "text/plain": [
       "\u001b[1;36m7630\u001b[0m\n"
      ]
     },
     "metadata": {},
     "output_type": "display_data"
    }
   ],
   "source": [
    "file_info = os.stat('/etc/passwd')  # get the stat info into \"file_info\"\n",
    "file_info.st_size   # size of the file, in bytes"
   ]
  },
  {
   "cell_type": "code",
   "execution_count": 75,
   "id": "94c1126b",
   "metadata": {},
   "outputs": [
    {
     "data": {
      "text/html": [
       "<pre style='white-space:pre;overflow-x:auto;line-height:normal'><span style=\"color: #00ff00; text-decoration-color: #00ff00; font-style: italic\">True</span>\n",
       "</pre>"
      ],
      "text/plain": [
       "\u001b[3;92mTrue\u001b[0m\n"
      ]
     },
     "metadata": {},
     "output_type": "display_data"
    }
   ],
   "source": [
    "os.path.exists('/etc/passwd')"
   ]
  },
  {
   "cell_type": "code",
   "execution_count": 76,
   "id": "91c456ec",
   "metadata": {},
   "outputs": [
    {
     "data": {
      "text/html": [
       "<pre style='white-space:pre;overflow-x:auto;line-height:normal'><span style=\"color: #ff0000; text-decoration-color: #ff0000; font-style: italic\">False</span>\n",
       "</pre>"
      ],
      "text/plain": [
       "\u001b[3;91mFalse\u001b[0m\n"
      ]
     },
     "metadata": {},
     "output_type": "display_data"
    }
   ],
   "source": [
    "os.path.exists('/etc/passwdasdfasfafas')"
   ]
  },
  {
   "cell_type": "markdown",
   "id": "8878da1b",
   "metadata": {},
   "source": [
    "# Exercise: File length\n",
    "\n",
    "1. Load the `os` module.\n",
    "2. Ask the user to enter a filename.\n",
    "3. Using `os.path.exists`, check if the file exists.\n",
    "4. If so, then get the file's length with `os.stat`, printing the `st_size` attribute of the stat's object.\n",
    "5. If not, then scold the user, telling them the file doesn't exist."
   ]
  },
  {
   "cell_type": "code",
   "execution_count": 82,
   "id": "b0395895",
   "metadata": {},
   "outputs": [
    {
     "name": "stdout",
     "output_type": "stream",
     "text": [
      "Enter a filename: asdfasdfsafdafda\n",
      "asdfasdfsafdafda does not exist.\n"
     ]
    }
   ],
   "source": [
    "import os   # or: from os import exists, stat\n",
    "\n",
    "filename = input('Enter a filename: ').strip()\n",
    "\n",
    "if os.path.exists(filename):\n",
    "    file_info = os.stat(filename)  # get all file info via os.stat\n",
    "    size = file_info.st_size       # get the size from .st_size\n",
    "    print(f'Size of {filename} is {size}.')\n",
    "else:\n",
    "    print(f'{filename} does not exist.')"
   ]
  },
  {
   "cell_type": "markdown",
   "id": "6ac7d14f",
   "metadata": {},
   "source": [
    "# Writing a module\n",
    "\n",
    "A module is a Python program, stored in `sys.path`, with a `.py` extension (suffix).  You can use many different editors to create a Python program. Two very popular ones are:\n",
    "\n",
    "- PyCharm\n",
    "- VSCode (with the Python plugin)\n",
    "\n",
    "I wrote `mymod.py`, and saved it in the same directory as Jupyter. That puts it in my Jupyter notebook's `sys.path`.  I can now say `import mymod`, and have access to all of the data and functions in `mymod`."
   ]
  },
  {
   "cell_type": "code",
   "execution_count": 84,
   "id": "1e2abb2f",
   "metadata": {},
   "outputs": [],
   "source": [
    "import mymod"
   ]
  },
  {
   "cell_type": "code",
   "execution_count": 85,
   "id": "a6b8d1a5",
   "metadata": {},
   "outputs": [
    {
     "data": {
      "text/html": [
       "<pre style='white-space:pre;overflow-x:auto;line-height:normal'><span style=\"font-weight: bold\">&lt;</span><span style=\"color: #ff00ff; text-decoration-color: #ff00ff; font-weight: bold\">class</span><span style=\"color: #000000; text-decoration-color: #000000\"> </span><span style=\"color: #008000; text-decoration-color: #008000\">'module'</span><span style=\"font-weight: bold\">&gt;</span>\n",
       "</pre>"
      ],
      "text/plain": [
       "\u001b[1m<\u001b[0m\u001b[1;95mclass\u001b[0m\u001b[39m \u001b[0m\u001b[32m'module'\u001b[0m\u001b[1m>\u001b[0m\n"
      ]
     },
     "metadata": {},
     "output_type": "display_data"
    }
   ],
   "source": [
    "type(mymod)"
   ]
  },
  {
   "cell_type": "code",
   "execution_count": 86,
   "id": "bd291980",
   "metadata": {},
   "outputs": [
    {
     "data": {
      "text/html": [
       "<pre style='white-space:pre;overflow-x:auto;line-height:normal'>\n",
       "<span style=\"font-weight: bold\">[</span>\n",
       "<span style=\"color: #7fbf7f; text-decoration-color: #7fbf7f\">│   </span><span style=\"color: #008000; text-decoration-color: #008000\">'__builtins__'</span>,\n",
       "<span style=\"color: #7fbf7f; text-decoration-color: #7fbf7f\">│   </span><span style=\"color: #008000; text-decoration-color: #008000\">'__cached__'</span>,\n",
       "<span style=\"color: #7fbf7f; text-decoration-color: #7fbf7f\">│   </span><span style=\"color: #008000; text-decoration-color: #008000\">'__doc__'</span>,\n",
       "<span style=\"color: #7fbf7f; text-decoration-color: #7fbf7f\">│   </span><span style=\"color: #008000; text-decoration-color: #008000\">'__file__'</span>,\n",
       "<span style=\"color: #7fbf7f; text-decoration-color: #7fbf7f\">│   </span><span style=\"color: #008000; text-decoration-color: #008000\">'__loader__'</span>,\n",
       "<span style=\"color: #7fbf7f; text-decoration-color: #7fbf7f\">│   </span><span style=\"color: #008000; text-decoration-color: #008000\">'__name__'</span>,\n",
       "<span style=\"color: #7fbf7f; text-decoration-color: #7fbf7f\">│   </span><span style=\"color: #008000; text-decoration-color: #008000\">'__package__'</span>,\n",
       "<span style=\"color: #7fbf7f; text-decoration-color: #7fbf7f\">│   </span><span style=\"color: #008000; text-decoration-color: #008000\">'__spec__'</span>,\n",
       "<span style=\"color: #7fbf7f; text-decoration-color: #7fbf7f\">│   </span><span style=\"color: #008000; text-decoration-color: #008000\">'hello'</span>,\n",
       "<span style=\"color: #7fbf7f; text-decoration-color: #7fbf7f\">│   </span><span style=\"color: #008000; text-decoration-color: #008000\">'x'</span>,\n",
       "<span style=\"color: #7fbf7f; text-decoration-color: #7fbf7f\">│   </span><span style=\"color: #008000; text-decoration-color: #008000\">'y'</span>\n",
       "<span style=\"font-weight: bold\">]</span>\n",
       "</pre>"
      ],
      "text/plain": [
       "\n",
       "\u001b[1m[\u001b[0m\n",
       "\u001b[2;32m│   \u001b[0m\u001b[32m'__builtins__'\u001b[0m,\n",
       "\u001b[2;32m│   \u001b[0m\u001b[32m'__cached__'\u001b[0m,\n",
       "\u001b[2;32m│   \u001b[0m\u001b[32m'__doc__'\u001b[0m,\n",
       "\u001b[2;32m│   \u001b[0m\u001b[32m'__file__'\u001b[0m,\n",
       "\u001b[2;32m│   \u001b[0m\u001b[32m'__loader__'\u001b[0m,\n",
       "\u001b[2;32m│   \u001b[0m\u001b[32m'__name__'\u001b[0m,\n",
       "\u001b[2;32m│   \u001b[0m\u001b[32m'__package__'\u001b[0m,\n",
       "\u001b[2;32m│   \u001b[0m\u001b[32m'__spec__'\u001b[0m,\n",
       "\u001b[2;32m│   \u001b[0m\u001b[32m'hello'\u001b[0m,\n",
       "\u001b[2;32m│   \u001b[0m\u001b[32m'x'\u001b[0m,\n",
       "\u001b[2;32m│   \u001b[0m\u001b[32m'y'\u001b[0m\n",
       "\u001b[1m]\u001b[0m\n"
      ]
     },
     "metadata": {},
     "output_type": "display_data"
    }
   ],
   "source": [
    "# how can I see the names of things defined in mymod?\n",
    "# Use the \"dir\" function on the module object\n",
    "\n",
    "dir(mymod)"
   ]
  },
  {
   "cell_type": "code",
   "execution_count": 87,
   "id": "9b3c4917",
   "metadata": {},
   "outputs": [
    {
     "data": {
      "text/html": [
       "<pre style='white-space:pre;overflow-x:auto;line-height:normal'><span style=\"color: #008080; text-decoration-color: #008080; font-weight: bold\">100</span>\n",
       "</pre>"
      ],
      "text/plain": [
       "\u001b[1;36m100\u001b[0m\n"
      ]
     },
     "metadata": {},
     "output_type": "display_data"
    }
   ],
   "source": [
    "# I now know that hello, x, and y are all defined on my mod\n",
    "\n",
    "mymod.x  # get the value of mymod's x"
   ]
  },
  {
   "cell_type": "code",
   "execution_count": 88,
   "id": "c317ad3f",
   "metadata": {},
   "outputs": [
    {
     "data": {
      "text/html": [
       "<pre style='white-space:pre;overflow-x:auto;line-height:normal'><span style=\"font-weight: bold\">[</span><span style=\"color: #008080; text-decoration-color: #008080; font-weight: bold\">10</span>, <span style=\"color: #008080; text-decoration-color: #008080; font-weight: bold\">20</span>, <span style=\"color: #008080; text-decoration-color: #008080; font-weight: bold\">30</span><span style=\"font-weight: bold\">]</span>\n",
       "</pre>"
      ],
      "text/plain": [
       "\u001b[1m[\u001b[0m\u001b[1;36m10\u001b[0m, \u001b[1;36m20\u001b[0m, \u001b[1;36m30\u001b[0m\u001b[1m]\u001b[0m\n"
      ]
     },
     "metadata": {},
     "output_type": "display_data"
    }
   ],
   "source": [
    "mymod.y"
   ]
  },
  {
   "cell_type": "code",
   "execution_count": 89,
   "id": "47f49963",
   "metadata": {},
   "outputs": [
    {
     "data": {
      "text/html": [
       "<pre style='white-space:pre;overflow-x:auto;line-height:normal'><span style=\"color: #008000; text-decoration-color: #008000\">'Hello, Reuven!'</span>\n",
       "</pre>"
      ],
      "text/plain": [
       "\u001b[32m'Hello, Reuven!'\u001b[0m\n"
      ]
     },
     "metadata": {},
     "output_type": "display_data"
    }
   ],
   "source": [
    "mymod.hello('Reuven')"
   ]
  },
  {
   "cell_type": "markdown",
   "id": "b06e8b12",
   "metadata": {},
   "source": [
    "# Next up:\n",
    "\n",
    "1. Python standard library (what comes with Python)\n",
    "2. PyPI \n",
    "3. `pip` and installing modules\n",
    "4. General Q&A -- what next?\n"
   ]
  },
  {
   "cell_type": "code",
   "execution_count": 90,
   "id": "b839bef6",
   "metadata": {},
   "outputs": [
    {
     "data": {
      "text/html": [
       "<pre style='white-space:pre;overflow-x:auto;line-height:normal'>\n",
       "<span style=\"font-weight: bold\">[</span>\n",
       "<span style=\"color: #7fbf7f; text-decoration-color: #7fbf7f\">│   </span><span style=\"color: #008000; text-decoration-color: #008000\">'__builtins__'</span>,\n",
       "<span style=\"color: #7fbf7f; text-decoration-color: #7fbf7f\">│   </span><span style=\"color: #008000; text-decoration-color: #008000\">'__cached__'</span>,\n",
       "<span style=\"color: #7fbf7f; text-decoration-color: #7fbf7f\">│   </span><span style=\"color: #008000; text-decoration-color: #008000\">'__doc__'</span>,\n",
       "<span style=\"color: #7fbf7f; text-decoration-color: #7fbf7f\">│   </span><span style=\"color: #008000; text-decoration-color: #008000\">'__file__'</span>,\n",
       "<span style=\"color: #7fbf7f; text-decoration-color: #7fbf7f\">│   </span><span style=\"color: #008000; text-decoration-color: #008000\">'__loader__'</span>,\n",
       "<span style=\"color: #7fbf7f; text-decoration-color: #7fbf7f\">│   </span><span style=\"color: #008000; text-decoration-color: #008000\">'__name__'</span>,\n",
       "<span style=\"color: #7fbf7f; text-decoration-color: #7fbf7f\">│   </span><span style=\"color: #008000; text-decoration-color: #008000\">'__package__'</span>,\n",
       "<span style=\"color: #7fbf7f; text-decoration-color: #7fbf7f\">│   </span><span style=\"color: #008000; text-decoration-color: #008000\">'__spec__'</span>,\n",
       "<span style=\"color: #7fbf7f; text-decoration-color: #7fbf7f\">│   </span><span style=\"color: #008000; text-decoration-color: #008000\">'hello'</span>,\n",
       "<span style=\"color: #7fbf7f; text-decoration-color: #7fbf7f\">│   </span><span style=\"color: #008000; text-decoration-color: #008000\">'x'</span>,\n",
       "<span style=\"color: #7fbf7f; text-decoration-color: #7fbf7f\">│   </span><span style=\"color: #008000; text-decoration-color: #008000\">'y'</span>\n",
       "<span style=\"font-weight: bold\">]</span>\n",
       "</pre>"
      ],
      "text/plain": [
       "\n",
       "\u001b[1m[\u001b[0m\n",
       "\u001b[2;32m│   \u001b[0m\u001b[32m'__builtins__'\u001b[0m,\n",
       "\u001b[2;32m│   \u001b[0m\u001b[32m'__cached__'\u001b[0m,\n",
       "\u001b[2;32m│   \u001b[0m\u001b[32m'__doc__'\u001b[0m,\n",
       "\u001b[2;32m│   \u001b[0m\u001b[32m'__file__'\u001b[0m,\n",
       "\u001b[2;32m│   \u001b[0m\u001b[32m'__loader__'\u001b[0m,\n",
       "\u001b[2;32m│   \u001b[0m\u001b[32m'__name__'\u001b[0m,\n",
       "\u001b[2;32m│   \u001b[0m\u001b[32m'__package__'\u001b[0m,\n",
       "\u001b[2;32m│   \u001b[0m\u001b[32m'__spec__'\u001b[0m,\n",
       "\u001b[2;32m│   \u001b[0m\u001b[32m'hello'\u001b[0m,\n",
       "\u001b[2;32m│   \u001b[0m\u001b[32m'x'\u001b[0m,\n",
       "\u001b[2;32m│   \u001b[0m\u001b[32m'y'\u001b[0m\n",
       "\u001b[1m]\u001b[0m\n"
      ]
     },
     "metadata": {},
     "output_type": "display_data"
    }
   ],
   "source": [
    "dir(mymod)"
   ]
  },
  {
   "cell_type": "code",
   "execution_count": 91,
   "id": "78b1ed6b",
   "metadata": {},
   "outputs": [
    {
     "data": {
      "text/html": [
       "<pre style='white-space:pre;overflow-x:auto;line-height:normal'><span style=\"font-weight: bold\">&lt;</span><span style=\"color: #ff00ff; text-decoration-color: #ff00ff; font-weight: bold\">class</span><span style=\"color: #000000; text-decoration-color: #000000\"> </span><span style=\"color: #008000; text-decoration-color: #008000\">'function'</span><span style=\"font-weight: bold\">&gt;</span>\n",
       "</pre>"
      ],
      "text/plain": [
       "\u001b[1m<\u001b[0m\u001b[1;95mclass\u001b[0m\u001b[39m \u001b[0m\u001b[32m'function'\u001b[0m\u001b[1m>\u001b[0m\n"
      ]
     },
     "metadata": {},
     "output_type": "display_data"
    }
   ],
   "source": [
    "type(mymod.hello)"
   ]
  },
  {
   "cell_type": "code",
   "execution_count": 92,
   "id": "cf3eb0a4",
   "metadata": {},
   "outputs": [
    {
     "data": {
      "text/html": [
       "<pre style='white-space:pre;overflow-x:auto;line-height:normal'><span style=\"font-weight: bold\">&lt;</span><span style=\"color: #ff00ff; text-decoration-color: #ff00ff; font-weight: bold\">class</span><span style=\"color: #000000; text-decoration-color: #000000\"> </span><span style=\"color: #008000; text-decoration-color: #008000\">'int'</span><span style=\"font-weight: bold\">&gt;</span>\n",
       "</pre>"
      ],
      "text/plain": [
       "\u001b[1m<\u001b[0m\u001b[1;95mclass\u001b[0m\u001b[39m \u001b[0m\u001b[32m'int'\u001b[0m\u001b[1m>\u001b[0m\n"
      ]
     },
     "metadata": {},
     "output_type": "display_data"
    }
   ],
   "source": [
    "type(mymod.x)"
   ]
  },
  {
   "cell_type": "code",
   "execution_count": 93,
   "id": "073ff43f",
   "metadata": {},
   "outputs": [
    {
     "data": {
      "text/html": [
       "<pre style='white-space:pre;overflow-x:auto;line-height:normal'><span style=\"font-weight: bold\">&lt;</span><span style=\"color: #ff00ff; text-decoration-color: #ff00ff; font-weight: bold\">class</span><span style=\"color: #000000; text-decoration-color: #000000\"> </span><span style=\"color: #008000; text-decoration-color: #008000\">'list'</span><span style=\"font-weight: bold\">&gt;</span>\n",
       "</pre>"
      ],
      "text/plain": [
       "\u001b[1m<\u001b[0m\u001b[1;95mclass\u001b[0m\u001b[39m \u001b[0m\u001b[32m'list'\u001b[0m\u001b[1m>\u001b[0m\n"
      ]
     },
     "metadata": {},
     "output_type": "display_data"
    }
   ],
   "source": [
    "type(mymod.y)"
   ]
  },
  {
   "cell_type": "code",
   "execution_count": 94,
   "id": "95f43c82",
   "metadata": {},
   "outputs": [
    {
     "name": "stdout",
     "output_type": "stream",
     "text": [
      "Help on module mymod:\n",
      "\n",
      "NAME\n",
      "    mymod\n",
      "\n",
      "FUNCTIONS\n",
      "    hello(name)\n",
      "\n",
      "DATA\n",
      "    x = 100\n",
      "    y = [10, 20, 30]\n",
      "\n",
      "FILE\n",
      "    /Users/reuven/Courses/Current/O'Reilly-2022-q1/mymod.py\n",
      "\n",
      "\n"
     ]
    }
   ],
   "source": [
    "help(mymod)  # get documentation on the module"
   ]
  },
  {
   "cell_type": "code",
   "execution_count": 95,
   "id": "87bc6eea",
   "metadata": {},
   "outputs": [],
   "source": [
    "d = {'a':[10, 20, 30], 'b':[100, 200, 300, 400, 500], 'c': 'this is a sample sentence'.split() }"
   ]
  },
  {
   "cell_type": "code",
   "execution_count": 96,
   "id": "451f5899",
   "metadata": {},
   "outputs": [
    {
     "data": {
      "text/html": [
       "<pre style='white-space:pre;overflow-x:auto;line-height:normal'>\n",
       "<span style=\"font-weight: bold\">{</span>\n",
       "<span style=\"color: #7fbf7f; text-decoration-color: #7fbf7f\">│   </span><span style=\"color: #008000; text-decoration-color: #008000\">'a'</span>: <span style=\"font-weight: bold\">[</span><span style=\"color: #008080; text-decoration-color: #008080; font-weight: bold\">10</span>, <span style=\"color: #008080; text-decoration-color: #008080; font-weight: bold\">20</span>, <span style=\"color: #008080; text-decoration-color: #008080; font-weight: bold\">30</span><span style=\"font-weight: bold\">]</span>,\n",
       "<span style=\"color: #7fbf7f; text-decoration-color: #7fbf7f\">│   </span><span style=\"color: #008000; text-decoration-color: #008000\">'b'</span>: <span style=\"font-weight: bold\">[</span><span style=\"color: #008080; text-decoration-color: #008080; font-weight: bold\">100</span>, <span style=\"color: #008080; text-decoration-color: #008080; font-weight: bold\">200</span>, <span style=\"color: #008080; text-decoration-color: #008080; font-weight: bold\">300</span>, <span style=\"color: #008080; text-decoration-color: #008080; font-weight: bold\">400</span>, <span style=\"color: #008080; text-decoration-color: #008080; font-weight: bold\">500</span><span style=\"font-weight: bold\">]</span>,\n",
       "<span style=\"color: #7fbf7f; text-decoration-color: #7fbf7f\">│   </span><span style=\"color: #008000; text-decoration-color: #008000\">'c'</span>: <span style=\"font-weight: bold\">[</span><span style=\"color: #008000; text-decoration-color: #008000\">'this'</span>, <span style=\"color: #008000; text-decoration-color: #008000\">'is'</span>, <span style=\"color: #008000; text-decoration-color: #008000\">'a'</span>, <span style=\"color: #008000; text-decoration-color: #008000\">'sample'</span>, <span style=\"color: #008000; text-decoration-color: #008000\">'sentence'</span><span style=\"font-weight: bold\">]</span>\n",
       "<span style=\"font-weight: bold\">}</span>\n",
       "</pre>"
      ],
      "text/plain": [
       "\n",
       "\u001b[1m{\u001b[0m\n",
       "\u001b[2;32m│   \u001b[0m\u001b[32m'a'\u001b[0m: \u001b[1m[\u001b[0m\u001b[1;36m10\u001b[0m, \u001b[1;36m20\u001b[0m, \u001b[1;36m30\u001b[0m\u001b[1m]\u001b[0m,\n",
       "\u001b[2;32m│   \u001b[0m\u001b[32m'b'\u001b[0m: \u001b[1m[\u001b[0m\u001b[1;36m100\u001b[0m, \u001b[1;36m200\u001b[0m, \u001b[1;36m300\u001b[0m, \u001b[1;36m400\u001b[0m, \u001b[1;36m500\u001b[0m\u001b[1m]\u001b[0m,\n",
       "\u001b[2;32m│   \u001b[0m\u001b[32m'c'\u001b[0m: \u001b[1m[\u001b[0m\u001b[32m'this'\u001b[0m, \u001b[32m'is'\u001b[0m, \u001b[32m'a'\u001b[0m, \u001b[32m'sample'\u001b[0m, \u001b[32m'sentence'\u001b[0m\u001b[1m]\u001b[0m\n",
       "\u001b[1m}\u001b[0m\n"
      ]
     },
     "metadata": {},
     "output_type": "display_data"
    }
   ],
   "source": [
    "d"
   ]
  },
  {
   "cell_type": "code",
   "execution_count": 97,
   "id": "f998eeaf",
   "metadata": {},
   "outputs": [],
   "source": [
    "import pprint"
   ]
  },
  {
   "cell_type": "code",
   "execution_count": 98,
   "id": "cffd32ae",
   "metadata": {},
   "outputs": [
    {
     "name": "stdout",
     "output_type": "stream",
     "text": [
      "{'a': [10, 20, 30],\n",
      " 'b': [100, 200, 300, 400, 500],\n",
      " 'c': ['this', 'is', 'a', 'sample', 'sentence']}\n"
     ]
    }
   ],
   "source": [
    "pprint.pprint(d)"
   ]
  },
  {
   "cell_type": "code",
   "execution_count": 100,
   "id": "e6ea87ec",
   "metadata": {},
   "outputs": [
    {
     "name": "stdout",
     "output_type": "stream",
     "text": [
      "{'a': [10, 20, 30],\n",
      " 'b': [100, 200, 300, 400, 500],\n",
      " 'c': ['this', 'is', 'a', 'sample', 'sentence']}\n"
     ]
    }
   ],
   "source": [
    "pprint.pp(d)"
   ]
  },
  {
   "cell_type": "markdown",
   "id": "15909292",
   "metadata": {},
   "source": [
    "# Let's read a CSV file!"
   ]
  },
  {
   "cell_type": "code",
   "execution_count": 102,
   "id": "75d7227a",
   "metadata": {},
   "outputs": [
    {
     "name": "stdout",
     "output_type": "stream",
     "text": [
      "Country,FI,SW,DA,NO,EN,GE,DU,FL,FR,IT,SP,PO\r\n",
      "Germany,0,0,0,0,21,100,2,1,10,2,1,0\r\n",
      "Italy,0,0,0,0,5,3,0,0,11,100,1,0\r\n",
      "France,0,2,3,0,10,7,1,1,100,12,7,1\r\n",
      "Netherlands,0,0,0,0,41,47,100,100,16,2,2,0\r\n",
      "Belgium,0,0,0,0,14,15,0,59,44,2,1,0\r\n",
      "Luxemburg,0,0,0,0,31,100,4,1,92,10,0,0\r\n",
      "UK,0,0,0,0,100,7,0,0,15,3,2,0\r\n",
      "Portugal,0,0,0,0,9,0,0,0,10,1,2,100\r\n",
      "Austria,0,0,0,0,18,100,1,1,4,2,1,0\r\n",
      "Switzerland,0,0,0,0,21,83,1,2,64,23,3,1\r\n",
      "Sweden,5,100,10,11,43,25,0,0,6,1,1,0\r\n",
      "Denmark,0,22,100,20,38,36,1,1,10,3,1,0\r\n",
      "Norway,0,25,19,100,34,19,0,0,4,1,0,1\r\n",
      "Finland,100,23,0,0,12,11,0,0,2,1,0,0\r\n",
      "Spain,0,0,0,0,5,1,0,0,11,2,100,0\r\n",
      "Ireland,0,0,0,0,100,1,0,0,2,0,0,0\r\n"
     ]
    }
   ],
   "source": [
    "# in Jupyter, ! means: execute the following in terminal/CSV\n",
    "# on Unix/Mac, cat means: show me the file\n",
    "# so !cat means: show me the file now, using the Unix command\n",
    "\n",
    "!cat languages.csv"
   ]
  },
  {
   "cell_type": "code",
   "execution_count": null,
   "id": "dcb6c6ab",
   "metadata": {},
   "outputs": [],
   "source": []
  }
 ],
 "metadata": {
  "kernelspec": {
   "display_name": "Python 3 (ipykernel)",
   "language": "python",
   "name": "python3"
  },
  "language_info": {
   "codemirror_mode": {
    "name": "ipython",
    "version": 3
   },
   "file_extension": ".py",
   "mimetype": "text/x-python",
   "name": "python",
   "nbconvert_exporter": "python",
   "pygments_lexer": "ipython3",
   "version": "3.10.1"
  }
 },
 "nbformat": 4,
 "nbformat_minor": 5
}
