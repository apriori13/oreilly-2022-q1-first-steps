{
 "cells": [
  {
   "cell_type": "markdown",
   "id": "6d51b3e1",
   "metadata": {},
   "source": [
    "# Week 5: Modules and packages\n",
    "\n",
    "1. Review last week's challenge + any questions to answer\n",
    "2. What are modules?  What can they contain?\n",
    "3. The `import` statement\n",
    "4. (A little bit about) developing a module\n",
    "5. Python's standard library (i.e., the modules that come with Python)\n",
    "6. Modules vs. packages\n",
    "7. Intro to PyPI\n",
    "8. Using `pip` and downloading/installing modules"
   ]
  },
  {
   "cell_type": "code",
   "execution_count": 2,
   "id": "5e75b077",
   "metadata": {},
   "outputs": [
    {
     "name": "stdout",
     "output_type": "stream",
     "text": [
      "Enter your name: Reuven\n",
      "Hello, Reuven!\n",
      "Enter your name: \n"
     ]
    }
   ],
   "source": [
    "# what is the walrus operator, why do we care, and how do we use it?\n",
    "\n",
    "# start with a simple loop\n",
    "\n",
    "while True:\n",
    "    name = input('Enter your name: ').strip()\n",
    "    \n",
    "    if name == '':  # did we get an empty string?  If so, then leave the loop\n",
    "        break\n",
    "        \n",
    "    print(f'Hello, {name}!')"
   ]
  },
  {
   "cell_type": "code",
   "execution_count": 3,
   "id": "b077b253",
   "metadata": {},
   "outputs": [
    {
     "name": "stdout",
     "output_type": "stream",
     "text": [
      "Enter your name: Reuven\n",
      "Hello, Reuven!\n",
      "Enter your name: world\n",
      "Hello, world!\n",
      "Enter your name: asdfsafas\n",
      "Hello, asdfsafas!\n",
      "Enter your name: \n"
     ]
    }
   ],
   "source": [
    "# another way to check for an empty string\n",
    "# empty strings are considered False in an if/while\n",
    "# all other strings are considered True in an if/while\n",
    "\n",
    "while True:\n",
    "    name = input('Enter your name: ').strip()\n",
    "    \n",
    "    if name:   # did we get a non-empty string?\n",
    "        print(f'Hello, {name}!')\n",
    "    else:      # did we get an empty string?\n",
    "        break"
   ]
  },
  {
   "cell_type": "code",
   "execution_count": 4,
   "id": "87eda673",
   "metadata": {},
   "outputs": [
    {
     "name": "stdout",
     "output_type": "stream",
     "text": [
      "Enter your name: asdfa\n",
      "Hello, asdfa!\n",
      "Enter your name: asdfa\n",
      "Hello, asdfa!\n",
      "Enter your name: \n"
     ]
    }
   ],
   "source": [
    "# rewrite this once again...\n",
    "\n",
    "while True:\n",
    "    name = input('Enter your name: ').strip()\n",
    "    \n",
    "    if not name:   # '' (empty string) is False next to an if\n",
    "        break       #  again, this means: break if we have an empty string\n",
    "\n",
    "    print(f'Hello, {name}!')\n"
   ]
  },
  {
   "cell_type": "code",
   "execution_count": 5,
   "id": "51b0be49",
   "metadata": {},
   "outputs": [
    {
     "ename": "SyntaxError",
     "evalue": "invalid syntax. Maybe you meant '==' or ':=' instead of '='? (1395544256.py, line 12)",
     "output_type": "error",
     "traceback": [
      "\u001b[0;36m  File \u001b[0;32m\"/var/folders/rr/0mnyyv811fs5vyp22gf4fxk00000gn/T/ipykernel_12859/1395544256.py\"\u001b[0;36m, line \u001b[0;32m12\u001b[0m\n\u001b[0;31m    while name = input('Enter your name: ').strip():\u001b[0m\n\u001b[0m          ^\u001b[0m\n\u001b[0;31mSyntaxError\u001b[0m\u001b[0;31m:\u001b[0m invalid syntax. Maybe you meant '==' or ':=' instead of '='?\n"
     ]
    }
   ],
   "source": [
    "# can we rewrite things to be shorter?\n",
    "\n",
    "# while looks to its right (like if) and looks for a True/False value\n",
    "# if all goes well, then in the below code:\n",
    "\n",
    "# (1) with each iteration, we get the user's name\n",
    "# (2) we strip it of whitespace\n",
    "# (3) we assign the value to name\n",
    "# (4) \"while\" looks to its right -- empty string? stop. non-empty string? run the loop block\n",
    "\n",
    "\n",
    "while name = input('Enter your name: ').strip():\n",
    "    \n",
    "    print(f'Hello, {name}!')"
   ]
  },
  {
   "cell_type": "code",
   "execution_count": 6,
   "id": "12a4282a",
   "metadata": {},
   "outputs": [
    {
     "name": "stdout",
     "output_type": "stream",
     "text": [
      "Enter your name: Reuven\n",
      "Hello, Reuven!\n",
      "Enter your name: asdfafd\n",
      "Hello, asdfafd!\n",
      "Enter your name: \n"
     ]
    }
   ],
   "source": [
    "# the walrus operator, :=  (looks like a walrus if you turn your head 90 degrees to the left)\n",
    "# this operator does two things:\n",
    "\n",
    "# (1) everything = does\n",
    "# (2) returns a value\n",
    "\n",
    "# now our while loop looks to its right, and it *DOES* get a value back\n",
    "\n",
    "while name := input('Enter your name: ').strip():\n",
    "    \n",
    "    print(f'Hello, {name}!')"
   ]
  },
  {
   "cell_type": "code",
   "execution_count": 7,
   "id": "0416ad1d",
   "metadata": {},
   "outputs": [
    {
     "name": "stdout",
     "output_type": "stream",
     "text": [
      "False-ish\n"
     ]
    }
   ],
   "source": [
    "s = ''  # empty string\n",
    "\n",
    "if s:  # putting s (the string) in a \"boolean context,\" in an \"if\" or \"while\"\n",
    "    print('True-ish')\n",
    "else:\n",
    "    print('False-ish')"
   ]
  },
  {
   "cell_type": "code",
   "execution_count": 9,
   "id": "9803f15f",
   "metadata": {},
   "outputs": [
    {
     "name": "stdout",
     "output_type": "stream",
     "text": [
      "Yes, it is empty!\n"
     ]
    }
   ],
   "source": [
    "s = ''  # empty string\n",
    "\n",
    "if not s:  # putting s (the string) in a \"boolean context,\" in an \"if\" or \"while\"\n",
    "    print('Yes, it is empty!')\n",
    "else:\n",
    "    print('No, it is not empty!')"
   ]
  },
  {
   "cell_type": "markdown",
   "id": "5e2193e3",
   "metadata": {},
   "source": [
    "# Python Skills Challenge: Functions\n",
    "\n",
    "In this challenge, you are to write a function `count_ips`. The function will take a single argument, a string naming a logfile from a Web server.  The function will return a Python dict, in which the keys are IP addresses from the file, and the values represent the number of times each IP address made a request from the site.\n",
    "\n",
    "Here are the first few lines from the sort of logfile the function should expect:\n",
    "\n",
    "```\n",
    "67.218.116.165 - - [30/Jan/2010:00:03:18 +0200] \"GET /robots.txt HTTP/1.0\" 200 99 \"-\" \"Mozilla/5.0 (Twiceler-0.9 http://www.cuil.com/twiceler/robot.html)\"\n",
    "66.249.71.65 - - [30/Jan/2010:00:12:06 +0200] \"GET /browse/one_node/1557 HTTP/1.1\" 200 39208 \"-\" \"Mozilla/5.0 (compatible; Googlebot/2.1; +http://www.google.com/bot.html)\"\n",
    "65.55.106.183 - - [30/Jan/2010:01:29:23 +0200] \"GET /robots.txt HTTP/1.1\" 200 99 \"-\" \"msnbot/2.0b (+http://search.msn.com/msnbot.htm)\"\n",
    "65.55.106.183 - - [30/Jan/2010:01:30:06 +0200] \"GET /browse/one_model/2162 HTTP/1.1\" 200 2181 \"-\" \"msnbot/2.0b (+http://search.msn.com/msnbot.htm)\"\n",
    "66.249.71.65 - - [30/Jan/2010:02:07:14 +0200] \"GET /browse/browse_applet_tab/2593 HTTP/1.1\" 200 10305 \"-\" \"Mozilla/5.0 (compatible; Googlebot/2.1; +http://www.google.com/bot.html)\"\n",
    "```\n",
    "\n",
    "Notice that each line of the file starts with an IP address, and then has (among other things) the timestamp at which the request was made, the actual request, and an indication of what browser was used to make the request.\n",
    "\n",
    "If the file is empty, then the returned dictionary should be empty.\n",
    "\n",
    "This Katacoda challenge system will test your function against a file, `logfile.txt`, that is in the current `/root` directory. When the function returns the correct values, you will see an indication of this.\n",
    "\n",
    "Good luck!\n"
   ]
  },
  {
   "cell_type": "code",
   "execution_count": 10,
   "id": "9ae3fb86",
   "metadata": {},
   "outputs": [],
   "source": [
    "# write a function, called count_ips\n",
    "# function's sole parameter is \"filename\", name of a logfile\n",
    "# function will output a dictionary \n",
    "#    keys in the dict will be strings (IP addresses)\n",
    "#    values in the dict will be counts -- how many times the address appears"
   ]
  },
  {
   "cell_type": "code",
   "execution_count": 19,
   "id": "6ac33c8c",
   "metadata": {},
   "outputs": [],
   "source": [
    "def count_ips(filename):\n",
    "    output = {}                    # output is a local variable in the \"count_ips\" function\n",
    "    \n",
    "    for one_line in open(filename):\n",
    "        fields = one_line.split()  # turn each line from the file into a list of strings\n",
    "        ip_address = fields[0]     # grab the first field on the line, the IP address\n",
    "\n",
    "        if ip_address in output:   # have we seen this IP address before?\n",
    "            output[ip_address] += 1\n",
    "        else:\n",
    "            output[ip_address] = 1     # first time seeing this IP, we'll assign 1\n",
    "    \n",
    "    return output"
   ]
  },
  {
   "cell_type": "code",
   "execution_count": 22,
   "id": "e326c01a",
   "metadata": {},
   "outputs": [
    {
     "name": "stdout",
     "output_type": "stream",
     "text": [
      "67.218.116.165:\t2\n",
      "66.249.71.65:\t3\n",
      "65.55.106.183:\t2\n",
      "66.249.65.12:\t32\n",
      "65.55.106.131:\t2\n",
      "65.55.106.186:\t2\n",
      "74.52.245.146:\t2\n",
      "66.249.65.43:\t3\n",
      "65.55.207.25:\t2\n",
      "65.55.207.94:\t2\n",
      "65.55.207.71:\t1\n",
      "98.242.170.241:\t1\n",
      "66.249.65.38:\t100\n",
      "65.55.207.126:\t2\n",
      "82.34.9.20:\t2\n",
      "65.55.106.155:\t2\n",
      "65.55.207.77:\t2\n",
      "208.80.193.28:\t1\n",
      "89.248.172.58:\t22\n",
      "67.195.112.35:\t16\n",
      "65.55.207.50:\t3\n",
      "65.55.215.75:\t2\n"
     ]
    }
   ],
   "source": [
    "# run the function against the file\n",
    "d = count_ips('mini-access-log.txt')\n",
    "\n",
    "# d is a dict, so I can run \"items\" on it, and iterate over keys and values\n",
    "for key, value in d.items():\n",
    "    print(f'{key}:\\t{value}')"
   ]
  },
  {
   "cell_type": "code",
   "execution_count": 24,
   "id": "2ee04479",
   "metadata": {},
   "outputs": [],
   "source": [
    "from friendly.jupyter import Friendly"
   ]
  },
  {
   "cell_type": "markdown",
   "id": "dc12c0bd",
   "metadata": {},
   "source": [
    "# DRY -- don't repeat yourself!\n",
    "\n",
    "1. If I have several lines in a row that are basically the same, I can DRY them up by using a loop.\n",
    "2. If I have the same code repeated several times across my program, I can DRY them up by using a function.\n",
    "3. If I have the same code repeated across SEVERAL DIFFERENT PROGRAMS, then I can use a \"library.\" \n",
    "\n",
    "A library is a collection of functions and data that you can reuse, and avoid re-inventing the wheel.\n",
    "\n",
    "Anyone can write a library:\n",
    "- You can write a library with commonly used functions and data\n",
    "- Your group at work might write a library to handle common tasks, functionality, file types\n",
    "- Your company might supply standard libraries for everyone to use for standard tasks (e.g., logging into the security system, or working with file types, or accessing the database)\n",
    "- Your software vendors might supply libraries that allow you access to their files, functionality, security, etc.\n",
    "- Your operating system is basically a bunch of libraries, which you can use from your program to communicate with the disk, printer, network, etc.\n",
    "\n",
    "In Python, we call libraries \"modules.\"  And modules are extremely common, and extremely handy."
   ]
  },
  {
   "cell_type": "markdown",
   "id": "e48ff7ba",
   "metadata": {},
   "source": [
    "# We use `import` to make use of a module\n",
    "\n",
    "The `import` statement is very common in Python, because it lets us load a module into memory and make use of its functions and data.\n",
    "\n",
    "If I want a random number, I can use the `import` statement to load the `random` module. In the `random` module, we have a bunch of different functions that have to do with random numbers."
   ]
  },
  {
   "cell_type": "code",
   "execution_count": 25,
   "id": "0f651279",
   "metadata": {},
   "outputs": [],
   "source": [
    "import random"
   ]
  },
  {
   "cell_type": "markdown",
   "id": "47b3345b",
   "metadata": {},
   "source": [
    "# Things to notice about `import`\n",
    "\n",
    "1. It's not a function.  We don't use `()` around its argument.  It's a statement that has a single word after it.\n",
    "2. In many languages, we indicate which file we want to load. Not in Python! We indicate what module we want to load, and based on that, Python tries to find the file and load it.\n",
    "3. After the module is loaded, you can access all of the module's functionality with the module's name and a dot `.`.  "
   ]
  },
  {
   "cell_type": "code",
   "execution_count": 26,
   "id": "e948c838",
   "metadata": {},
   "outputs": [
    {
     "data": {
      "text/html": [
       "<pre style='white-space:pre;overflow-x:auto;line-height:normal'><span style=\"font-weight: bold\">&lt;</span><span style=\"color: #ff00ff; text-decoration-color: #ff00ff; font-weight: bold\">class</span><span style=\"color: #000000; text-decoration-color: #000000\"> </span><span style=\"color: #008000; text-decoration-color: #008000\">'module'</span><span style=\"font-weight: bold\">&gt;</span>\n",
       "</pre>"
      ],
      "text/plain": [
       "\u001b[1m<\u001b[0m\u001b[1;95mclass\u001b[0m\u001b[39m \u001b[0m\u001b[32m'module'\u001b[0m\u001b[1m>\u001b[0m\n"
      ]
     },
     "metadata": {},
     "output_type": "display_data"
    }
   ],
   "source": [
    "# now that I've said \"import random\", \"random\" is a variable defined in my system\n",
    "type(random)  # what kind of object does it contain?"
   ]
  },
  {
   "cell_type": "code",
   "execution_count": 27,
   "id": "34476011",
   "metadata": {},
   "outputs": [
    {
     "data": {
      "text/html": [
       "<pre style='white-space:pre;overflow-x:auto;line-height:normal'>\n",
       "<span style=\"font-weight: bold\">[</span>\n",
       "<span style=\"color: #7fbf7f; text-decoration-color: #7fbf7f\">│   </span><span style=\"color: #008000; text-decoration-color: #008000\">'BPF'</span>,\n",
       "<span style=\"color: #7fbf7f; text-decoration-color: #7fbf7f\">│   </span><span style=\"color: #008000; text-decoration-color: #008000\">'LOG4'</span>,\n",
       "<span style=\"color: #7fbf7f; text-decoration-color: #7fbf7f\">│   </span><span style=\"color: #008000; text-decoration-color: #008000\">'NV_MAGICCONST'</span>,\n",
       "<span style=\"color: #7fbf7f; text-decoration-color: #7fbf7f\">│   </span><span style=\"color: #008000; text-decoration-color: #008000\">'RECIP_BPF'</span>,\n",
       "<span style=\"color: #7fbf7f; text-decoration-color: #7fbf7f\">│   </span><span style=\"color: #008000; text-decoration-color: #008000\">'Random'</span>,\n",
       "<span style=\"color: #7fbf7f; text-decoration-color: #7fbf7f\">│   </span><span style=\"color: #008000; text-decoration-color: #008000\">'SG_MAGICCONST'</span>,\n",
       "<span style=\"color: #7fbf7f; text-decoration-color: #7fbf7f\">│   </span><span style=\"color: #008000; text-decoration-color: #008000\">'SystemRandom'</span>,\n",
       "<span style=\"color: #7fbf7f; text-decoration-color: #7fbf7f\">│   </span><span style=\"color: #008000; text-decoration-color: #008000\">'TWOPI'</span>,\n",
       "<span style=\"color: #7fbf7f; text-decoration-color: #7fbf7f\">│   </span><span style=\"color: #008000; text-decoration-color: #008000\">'_ONE'</span>,\n",
       "<span style=\"color: #7fbf7f; text-decoration-color: #7fbf7f\">│   </span><span style=\"color: #008000; text-decoration-color: #008000\">'_Sequence'</span>,\n",
       "<span style=\"color: #7fbf7f; text-decoration-color: #7fbf7f\">│   </span><span style=\"color: #008000; text-decoration-color: #008000\">'_Set'</span>,\n",
       "<span style=\"color: #7fbf7f; text-decoration-color: #7fbf7f\">│   </span><span style=\"color: #008000; text-decoration-color: #008000\">'__all__'</span>,\n",
       "<span style=\"color: #7fbf7f; text-decoration-color: #7fbf7f\">│   </span><span style=\"color: #008000; text-decoration-color: #008000\">'__builtins__'</span>,\n",
       "<span style=\"color: #7fbf7f; text-decoration-color: #7fbf7f\">│   </span><span style=\"color: #008000; text-decoration-color: #008000\">'__cached__'</span>,\n",
       "<span style=\"color: #7fbf7f; text-decoration-color: #7fbf7f\">│   </span><span style=\"color: #008000; text-decoration-color: #008000\">'__doc__'</span>,\n",
       "<span style=\"color: #7fbf7f; text-decoration-color: #7fbf7f\">│   </span><span style=\"color: #008000; text-decoration-color: #008000\">'__file__'</span>,\n",
       "<span style=\"color: #7fbf7f; text-decoration-color: #7fbf7f\">│   </span><span style=\"color: #008000; text-decoration-color: #008000\">'__loader__'</span>,\n",
       "<span style=\"color: #7fbf7f; text-decoration-color: #7fbf7f\">│   </span><span style=\"color: #008000; text-decoration-color: #008000\">'__name__'</span>,\n",
       "<span style=\"color: #7fbf7f; text-decoration-color: #7fbf7f\">│   </span><span style=\"color: #008000; text-decoration-color: #008000\">'__package__'</span>,\n",
       "<span style=\"color: #7fbf7f; text-decoration-color: #7fbf7f\">│   </span><span style=\"color: #008000; text-decoration-color: #008000\">'__spec__'</span>,\n",
       "<span style=\"color: #7fbf7f; text-decoration-color: #7fbf7f\">│   </span><span style=\"color: #008000; text-decoration-color: #008000\">'_accumulate'</span>,\n",
       "<span style=\"color: #7fbf7f; text-decoration-color: #7fbf7f\">│   </span><span style=\"color: #008000; text-decoration-color: #008000\">'_acos'</span>,\n",
       "<span style=\"color: #7fbf7f; text-decoration-color: #7fbf7f\">│   </span><span style=\"color: #008000; text-decoration-color: #008000\">'_bisect'</span>,\n",
       "<span style=\"color: #7fbf7f; text-decoration-color: #7fbf7f\">│   </span><span style=\"color: #008000; text-decoration-color: #008000\">'_ceil'</span>,\n",
       "<span style=\"color: #7fbf7f; text-decoration-color: #7fbf7f\">│   </span><span style=\"color: #008000; text-decoration-color: #008000\">'_cos'</span>,\n",
       "<span style=\"color: #7fbf7f; text-decoration-color: #7fbf7f\">│   </span><span style=\"color: #008000; text-decoration-color: #008000\">'_e'</span>,\n",
       "<span style=\"color: #7fbf7f; text-decoration-color: #7fbf7f\">│   </span><span style=\"color: #008000; text-decoration-color: #008000\">'_exp'</span>,\n",
       "<span style=\"color: #7fbf7f; text-decoration-color: #7fbf7f\">│   </span><span style=\"color: #008000; text-decoration-color: #008000\">'_floor'</span>,\n",
       "<span style=\"color: #7fbf7f; text-decoration-color: #7fbf7f\">│   </span><span style=\"color: #008000; text-decoration-color: #008000\">'_index'</span>,\n",
       "<span style=\"color: #7fbf7f; text-decoration-color: #7fbf7f\">│   </span><span style=\"color: #008000; text-decoration-color: #008000\">'_inst'</span>,\n",
       "<span style=\"color: #7fbf7f; text-decoration-color: #7fbf7f\">│   </span><span style=\"color: #008000; text-decoration-color: #008000\">'_isfinite'</span>,\n",
       "<span style=\"color: #7fbf7f; text-decoration-color: #7fbf7f\">│   </span><span style=\"color: #008000; text-decoration-color: #008000\">'_log'</span>,\n",
       "<span style=\"color: #7fbf7f; text-decoration-color: #7fbf7f\">│   </span><span style=\"color: #008000; text-decoration-color: #008000\">'_os'</span>,\n",
       "<span style=\"color: #7fbf7f; text-decoration-color: #7fbf7f\">│   </span><span style=\"color: #008000; text-decoration-color: #008000\">'_pi'</span>,\n",
       "<span style=\"color: #7fbf7f; text-decoration-color: #7fbf7f\">│   </span><span style=\"color: #008000; text-decoration-color: #008000\">'_random'</span>,\n",
       "<span style=\"color: #7fbf7f; text-decoration-color: #7fbf7f\">│   </span><span style=\"color: #008000; text-decoration-color: #008000\">'_repeat'</span>,\n",
       "<span style=\"color: #7fbf7f; text-decoration-color: #7fbf7f\">│   </span><span style=\"color: #008000; text-decoration-color: #008000\">'_sha512'</span>,\n",
       "<span style=\"color: #7fbf7f; text-decoration-color: #7fbf7f\">│   </span><span style=\"color: #008000; text-decoration-color: #008000\">'_sin'</span>,\n",
       "<span style=\"color: #7fbf7f; text-decoration-color: #7fbf7f\">│   </span><span style=\"color: #008000; text-decoration-color: #008000\">'_sqrt'</span>,\n",
       "<span style=\"color: #7fbf7f; text-decoration-color: #7fbf7f\">│   </span><span style=\"color: #008000; text-decoration-color: #008000\">'_test'</span>,\n",
       "<span style=\"color: #7fbf7f; text-decoration-color: #7fbf7f\">│   </span><span style=\"color: #008000; text-decoration-color: #008000\">'_test_generator'</span>,\n",
       "<span style=\"color: #7fbf7f; text-decoration-color: #7fbf7f\">│   </span><span style=\"color: #008000; text-decoration-color: #008000\">'_urandom'</span>,\n",
       "<span style=\"color: #7fbf7f; text-decoration-color: #7fbf7f\">│   </span><span style=\"color: #008000; text-decoration-color: #008000\">'_warn'</span>,\n",
       "<span style=\"color: #7fbf7f; text-decoration-color: #7fbf7f\">│   </span><span style=\"color: #008000; text-decoration-color: #008000\">'betavariate'</span>,\n",
       "<span style=\"color: #7fbf7f; text-decoration-color: #7fbf7f\">│   </span><span style=\"color: #008000; text-decoration-color: #008000\">'choice'</span>,\n",
       "<span style=\"color: #7fbf7f; text-decoration-color: #7fbf7f\">│   </span><span style=\"color: #008000; text-decoration-color: #008000\">'choices'</span>,\n",
       "<span style=\"color: #7fbf7f; text-decoration-color: #7fbf7f\">│   </span><span style=\"color: #008000; text-decoration-color: #008000\">'expovariate'</span>,\n",
       "<span style=\"color: #7fbf7f; text-decoration-color: #7fbf7f\">│   </span><span style=\"color: #008000; text-decoration-color: #008000\">'gammavariate'</span>,\n",
       "<span style=\"color: #7fbf7f; text-decoration-color: #7fbf7f\">│   </span><span style=\"color: #008000; text-decoration-color: #008000\">'gauss'</span>,\n",
       "<span style=\"color: #7fbf7f; text-decoration-color: #7fbf7f\">│   </span><span style=\"color: #008000; text-decoration-color: #008000\">'getrandbits'</span>,\n",
       "<span style=\"color: #7fbf7f; text-decoration-color: #7fbf7f\">│   </span><span style=\"color: #008000; text-decoration-color: #008000\">'getstate'</span>,\n",
       "<span style=\"color: #7fbf7f; text-decoration-color: #7fbf7f\">│   </span><span style=\"color: #008000; text-decoration-color: #008000\">'lognormvariate'</span>,\n",
       "<span style=\"color: #7fbf7f; text-decoration-color: #7fbf7f\">│   </span><span style=\"color: #008000; text-decoration-color: #008000\">'normalvariate'</span>,\n",
       "<span style=\"color: #7fbf7f; text-decoration-color: #7fbf7f\">│   </span><span style=\"color: #008000; text-decoration-color: #008000\">'paretovariate'</span>,\n",
       "<span style=\"color: #7fbf7f; text-decoration-color: #7fbf7f\">│   </span><span style=\"color: #008000; text-decoration-color: #008000\">'randbytes'</span>,\n",
       "<span style=\"color: #7fbf7f; text-decoration-color: #7fbf7f\">│   </span><span style=\"color: #008000; text-decoration-color: #008000\">'randint'</span>,\n",
       "<span style=\"color: #7fbf7f; text-decoration-color: #7fbf7f\">│   </span><span style=\"color: #008000; text-decoration-color: #008000\">'random'</span>,\n",
       "<span style=\"color: #7fbf7f; text-decoration-color: #7fbf7f\">│   </span><span style=\"color: #008000; text-decoration-color: #008000\">'randrange'</span>,\n",
       "<span style=\"color: #7fbf7f; text-decoration-color: #7fbf7f\">│   </span><span style=\"color: #008000; text-decoration-color: #008000\">'sample'</span>,\n",
       "<span style=\"color: #7fbf7f; text-decoration-color: #7fbf7f\">│   </span><span style=\"color: #008000; text-decoration-color: #008000\">'seed'</span>,\n",
       "<span style=\"color: #7fbf7f; text-decoration-color: #7fbf7f\">│   </span><span style=\"color: #008000; text-decoration-color: #008000\">'setstate'</span>,\n",
       "<span style=\"color: #7fbf7f; text-decoration-color: #7fbf7f\">│   </span><span style=\"color: #008000; text-decoration-color: #008000\">'shuffle'</span>,\n",
       "<span style=\"color: #7fbf7f; text-decoration-color: #7fbf7f\">│   </span><span style=\"color: #008000; text-decoration-color: #008000\">'triangular'</span>,\n",
       "<span style=\"color: #7fbf7f; text-decoration-color: #7fbf7f\">│   </span><span style=\"color: #008000; text-decoration-color: #008000\">'uniform'</span>,\n",
       "<span style=\"color: #7fbf7f; text-decoration-color: #7fbf7f\">│   </span><span style=\"color: #008000; text-decoration-color: #008000\">'vonmisesvariate'</span>,\n",
       "<span style=\"color: #7fbf7f; text-decoration-color: #7fbf7f\">│   </span><span style=\"color: #008000; text-decoration-color: #008000\">'weibullvariate'</span>\n",
       "<span style=\"font-weight: bold\">]</span>\n",
       "</pre>"
      ],
      "text/plain": [
       "\n",
       "\u001b[1m[\u001b[0m\n",
       "\u001b[2;32m│   \u001b[0m\u001b[32m'BPF'\u001b[0m,\n",
       "\u001b[2;32m│   \u001b[0m\u001b[32m'LOG4'\u001b[0m,\n",
       "\u001b[2;32m│   \u001b[0m\u001b[32m'NV_MAGICCONST'\u001b[0m,\n",
       "\u001b[2;32m│   \u001b[0m\u001b[32m'RECIP_BPF'\u001b[0m,\n",
       "\u001b[2;32m│   \u001b[0m\u001b[32m'Random'\u001b[0m,\n",
       "\u001b[2;32m│   \u001b[0m\u001b[32m'SG_MAGICCONST'\u001b[0m,\n",
       "\u001b[2;32m│   \u001b[0m\u001b[32m'SystemRandom'\u001b[0m,\n",
       "\u001b[2;32m│   \u001b[0m\u001b[32m'TWOPI'\u001b[0m,\n",
       "\u001b[2;32m│   \u001b[0m\u001b[32m'_ONE'\u001b[0m,\n",
       "\u001b[2;32m│   \u001b[0m\u001b[32m'_Sequence'\u001b[0m,\n",
       "\u001b[2;32m│   \u001b[0m\u001b[32m'_Set'\u001b[0m,\n",
       "\u001b[2;32m│   \u001b[0m\u001b[32m'__all__'\u001b[0m,\n",
       "\u001b[2;32m│   \u001b[0m\u001b[32m'__builtins__'\u001b[0m,\n",
       "\u001b[2;32m│   \u001b[0m\u001b[32m'__cached__'\u001b[0m,\n",
       "\u001b[2;32m│   \u001b[0m\u001b[32m'__doc__'\u001b[0m,\n",
       "\u001b[2;32m│   \u001b[0m\u001b[32m'__file__'\u001b[0m,\n",
       "\u001b[2;32m│   \u001b[0m\u001b[32m'__loader__'\u001b[0m,\n",
       "\u001b[2;32m│   \u001b[0m\u001b[32m'__name__'\u001b[0m,\n",
       "\u001b[2;32m│   \u001b[0m\u001b[32m'__package__'\u001b[0m,\n",
       "\u001b[2;32m│   \u001b[0m\u001b[32m'__spec__'\u001b[0m,\n",
       "\u001b[2;32m│   \u001b[0m\u001b[32m'_accumulate'\u001b[0m,\n",
       "\u001b[2;32m│   \u001b[0m\u001b[32m'_acos'\u001b[0m,\n",
       "\u001b[2;32m│   \u001b[0m\u001b[32m'_bisect'\u001b[0m,\n",
       "\u001b[2;32m│   \u001b[0m\u001b[32m'_ceil'\u001b[0m,\n",
       "\u001b[2;32m│   \u001b[0m\u001b[32m'_cos'\u001b[0m,\n",
       "\u001b[2;32m│   \u001b[0m\u001b[32m'_e'\u001b[0m,\n",
       "\u001b[2;32m│   \u001b[0m\u001b[32m'_exp'\u001b[0m,\n",
       "\u001b[2;32m│   \u001b[0m\u001b[32m'_floor'\u001b[0m,\n",
       "\u001b[2;32m│   \u001b[0m\u001b[32m'_index'\u001b[0m,\n",
       "\u001b[2;32m│   \u001b[0m\u001b[32m'_inst'\u001b[0m,\n",
       "\u001b[2;32m│   \u001b[0m\u001b[32m'_isfinite'\u001b[0m,\n",
       "\u001b[2;32m│   \u001b[0m\u001b[32m'_log'\u001b[0m,\n",
       "\u001b[2;32m│   \u001b[0m\u001b[32m'_os'\u001b[0m,\n",
       "\u001b[2;32m│   \u001b[0m\u001b[32m'_pi'\u001b[0m,\n",
       "\u001b[2;32m│   \u001b[0m\u001b[32m'_random'\u001b[0m,\n",
       "\u001b[2;32m│   \u001b[0m\u001b[32m'_repeat'\u001b[0m,\n",
       "\u001b[2;32m│   \u001b[0m\u001b[32m'_sha512'\u001b[0m,\n",
       "\u001b[2;32m│   \u001b[0m\u001b[32m'_sin'\u001b[0m,\n",
       "\u001b[2;32m│   \u001b[0m\u001b[32m'_sqrt'\u001b[0m,\n",
       "\u001b[2;32m│   \u001b[0m\u001b[32m'_test'\u001b[0m,\n",
       "\u001b[2;32m│   \u001b[0m\u001b[32m'_test_generator'\u001b[0m,\n",
       "\u001b[2;32m│   \u001b[0m\u001b[32m'_urandom'\u001b[0m,\n",
       "\u001b[2;32m│   \u001b[0m\u001b[32m'_warn'\u001b[0m,\n",
       "\u001b[2;32m│   \u001b[0m\u001b[32m'betavariate'\u001b[0m,\n",
       "\u001b[2;32m│   \u001b[0m\u001b[32m'choice'\u001b[0m,\n",
       "\u001b[2;32m│   \u001b[0m\u001b[32m'choices'\u001b[0m,\n",
       "\u001b[2;32m│   \u001b[0m\u001b[32m'expovariate'\u001b[0m,\n",
       "\u001b[2;32m│   \u001b[0m\u001b[32m'gammavariate'\u001b[0m,\n",
       "\u001b[2;32m│   \u001b[0m\u001b[32m'gauss'\u001b[0m,\n",
       "\u001b[2;32m│   \u001b[0m\u001b[32m'getrandbits'\u001b[0m,\n",
       "\u001b[2;32m│   \u001b[0m\u001b[32m'getstate'\u001b[0m,\n",
       "\u001b[2;32m│   \u001b[0m\u001b[32m'lognormvariate'\u001b[0m,\n",
       "\u001b[2;32m│   \u001b[0m\u001b[32m'normalvariate'\u001b[0m,\n",
       "\u001b[2;32m│   \u001b[0m\u001b[32m'paretovariate'\u001b[0m,\n",
       "\u001b[2;32m│   \u001b[0m\u001b[32m'randbytes'\u001b[0m,\n",
       "\u001b[2;32m│   \u001b[0m\u001b[32m'randint'\u001b[0m,\n",
       "\u001b[2;32m│   \u001b[0m\u001b[32m'random'\u001b[0m,\n",
       "\u001b[2;32m│   \u001b[0m\u001b[32m'randrange'\u001b[0m,\n",
       "\u001b[2;32m│   \u001b[0m\u001b[32m'sample'\u001b[0m,\n",
       "\u001b[2;32m│   \u001b[0m\u001b[32m'seed'\u001b[0m,\n",
       "\u001b[2;32m│   \u001b[0m\u001b[32m'setstate'\u001b[0m,\n",
       "\u001b[2;32m│   \u001b[0m\u001b[32m'shuffle'\u001b[0m,\n",
       "\u001b[2;32m│   \u001b[0m\u001b[32m'triangular'\u001b[0m,\n",
       "\u001b[2;32m│   \u001b[0m\u001b[32m'uniform'\u001b[0m,\n",
       "\u001b[2;32m│   \u001b[0m\u001b[32m'vonmisesvariate'\u001b[0m,\n",
       "\u001b[2;32m│   \u001b[0m\u001b[32m'weibullvariate'\u001b[0m\n",
       "\u001b[1m]\u001b[0m\n"
      ]
     },
     "metadata": {},
     "output_type": "display_data"
    }
   ],
   "source": [
    "# what names are available after the . when I use random?\n",
    "# I can find out by running the \"dir\" function on random\n",
    "\n",
    "dir(random)   # this gives me a list of strings -- what names are available"
   ]
  },
  {
   "cell_type": "code",
   "execution_count": 28,
   "id": "f454d4ee",
   "metadata": {},
   "outputs": [
    {
     "data": {
      "text/html": [
       "<pre style='white-space:pre;overflow-x:auto;line-height:normal'><span style=\"color: #008080; text-decoration-color: #008080; font-weight: bold\">100</span>\n",
       "</pre>"
      ],
      "text/plain": [
       "\u001b[1;36m100\u001b[0m\n"
      ]
     },
     "metadata": {},
     "output_type": "display_data"
    }
   ],
   "source": [
    "# once I've loaded random, I can invoke the random.randint function on it:\n",
    "random.randint(0, 100)"
   ]
  },
  {
   "cell_type": "code",
   "execution_count": 29,
   "id": "924f0505",
   "metadata": {},
   "outputs": [
    {
     "data": {
      "text/html": [
       "<pre style='white-space:pre;overflow-x:auto;line-height:normal'><span style=\"color: #008080; text-decoration-color: #008080; font-weight: bold\">46</span>\n",
       "</pre>"
      ],
      "text/plain": [
       "\u001b[1;36m46\u001b[0m\n"
      ]
     },
     "metadata": {},
     "output_type": "display_data"
    }
   ],
   "source": [
    "random.randint(0, 100)"
   ]
  },
  {
   "cell_type": "code",
   "execution_count": 30,
   "id": "1a47732c",
   "metadata": {},
   "outputs": [
    {
     "data": {
      "text/html": [
       "<pre style='white-space:pre;overflow-x:auto;line-height:normal'><span style=\"color: #008000; text-decoration-color: #008000\">'e'</span>\n",
       "</pre>"
      ],
      "text/plain": [
       "\u001b[32m'e'\u001b[0m\n"
      ]
     },
     "metadata": {},
     "output_type": "display_data"
    }
   ],
   "source": [
    "random.choice('abcde')"
   ]
  },
  {
   "cell_type": "code",
   "execution_count": 31,
   "id": "281b39ba",
   "metadata": {},
   "outputs": [
    {
     "data": {
      "text/html": [
       "<pre style='white-space:pre;overflow-x:auto;line-height:normal'><span style=\"color: #008000; text-decoration-color: #008000\">'d'</span>\n",
       "</pre>"
      ],
      "text/plain": [
       "\u001b[32m'd'\u001b[0m\n"
      ]
     },
     "metadata": {},
     "output_type": "display_data"
    }
   ],
   "source": [
    "random.choice('abcde')"
   ]
  },
  {
   "cell_type": "code",
   "execution_count": 32,
   "id": "4426767b",
   "metadata": {},
   "outputs": [
    {
     "name": "stdout",
     "output_type": "stream",
     "text": [
      "Help on method shuffle in module random:\n",
      "\n",
      "shuffle(x, random=None) method of random.Random instance\n",
      "    Shuffle list x in place, and return None.\n",
      "    \n",
      "    Optional argument random is a 0-argument function returning a\n",
      "    random float in [0.0, 1.0); if it is the default None, the\n",
      "    standard random.random will be used.\n",
      "\n"
     ]
    }
   ],
   "source": [
    "# if you want to know more about a function, you can\n",
    "# (a) look up the documentation on python.org\n",
    "# (b) if you're in Jupyter, you can run the \"help\" function on the function you want\n",
    "\n",
    "help(random.shuffle)"
   ]
  },
  {
   "cell_type": "code",
   "execution_count": 33,
   "id": "4b182aa8",
   "metadata": {},
   "outputs": [
    {
     "data": {
      "text/html": [
       "<pre style='white-space:pre;overflow-x:auto;line-height:normal'><span style=\"font-weight: bold\">[</span><span style=\"color: #008080; text-decoration-color: #008080; font-weight: bold\">40</span>, <span style=\"color: #008080; text-decoration-color: #008080; font-weight: bold\">50</span>, <span style=\"color: #008080; text-decoration-color: #008080; font-weight: bold\">20</span>, <span style=\"color: #008080; text-decoration-color: #008080; font-weight: bold\">30</span>, <span style=\"color: #008080; text-decoration-color: #008080; font-weight: bold\">10</span><span style=\"font-weight: bold\">]</span>\n",
       "</pre>"
      ],
      "text/plain": [
       "\u001b[1m[\u001b[0m\u001b[1;36m40\u001b[0m, \u001b[1;36m50\u001b[0m, \u001b[1;36m20\u001b[0m, \u001b[1;36m30\u001b[0m, \u001b[1;36m10\u001b[0m\u001b[1m]\u001b[0m\n"
      ]
     },
     "metadata": {},
     "output_type": "display_data"
    }
   ],
   "source": [
    "mylist = [10, 20, 30, 40, 50]\n",
    "random.shuffle(mylist)\n",
    "\n",
    "mylist"
   ]
  },
  {
   "cell_type": "code",
   "execution_count": 34,
   "id": "97e784b0",
   "metadata": {},
   "outputs": [],
   "source": [
    "?random.choice"
   ]
  },
  {
   "cell_type": "code",
   "execution_count": 35,
   "id": "bf8fb118",
   "metadata": {},
   "outputs": [],
   "source": [
    "random.choice??"
   ]
  },
  {
   "cell_type": "code",
   "execution_count": 36,
   "id": "6f66def7",
   "metadata": {},
   "outputs": [],
   "source": [
    "import glob   # glob is a module that lets us find patterns of filenames, e.g., *.txt"
   ]
  },
  {
   "cell_type": "code",
   "execution_count": 37,
   "id": "1f7a5a43",
   "metadata": {},
   "outputs": [
    {
     "data": {
      "text/html": [
       "<pre style='white-space:pre;overflow-x:auto;line-height:normal'>\n",
       "<span style=\"font-weight: bold\">[</span>\n",
       "<span style=\"color: #7fbf7f; text-decoration-color: #7fbf7f\">│   </span><span style=\"color: #008000; text-decoration-color: #008000\">'mini-access-log.txt'</span>,\n",
       "<span style=\"color: #7fbf7f; text-decoration-color: #7fbf7f\">│   </span><span style=\"color: #008000; text-decoration-color: #008000\">'nums.txt'</span>,\n",
       "<span style=\"color: #7fbf7f; text-decoration-color: #7fbf7f\">│   </span><span style=\"color: #008000; text-decoration-color: #008000\">'mydict.txt'</span>,\n",
       "<span style=\"color: #7fbf7f; text-decoration-color: #7fbf7f\">│   </span><span style=\"color: #008000; text-decoration-color: #008000\">'mynewfile.txt'</span>,\n",
       "<span style=\"color: #7fbf7f; text-decoration-color: #7fbf7f\">│   </span><span style=\"color: #008000; text-decoration-color: #008000\">'shoe-data.txt'</span>,\n",
       "<span style=\"color: #7fbf7f; text-decoration-color: #7fbf7f\">│   </span><span style=\"color: #008000; text-decoration-color: #008000\">'linux-etc-passwd.txt'</span>,\n",
       "<span style=\"color: #7fbf7f; text-decoration-color: #7fbf7f\">│   </span><span style=\"color: #008000; text-decoration-color: #008000\">'wcfile.txt'</span>,\n",
       "<span style=\"color: #7fbf7f; text-decoration-color: #7fbf7f\">│   </span><span style=\"color: #008000; text-decoration-color: #008000\">'myfile.txt'</span>\n",
       "<span style=\"font-weight: bold\">]</span>\n",
       "</pre>"
      ],
      "text/plain": [
       "\n",
       "\u001b[1m[\u001b[0m\n",
       "\u001b[2;32m│   \u001b[0m\u001b[32m'mini-access-log.txt'\u001b[0m,\n",
       "\u001b[2;32m│   \u001b[0m\u001b[32m'nums.txt'\u001b[0m,\n",
       "\u001b[2;32m│   \u001b[0m\u001b[32m'mydict.txt'\u001b[0m,\n",
       "\u001b[2;32m│   \u001b[0m\u001b[32m'mynewfile.txt'\u001b[0m,\n",
       "\u001b[2;32m│   \u001b[0m\u001b[32m'shoe-data.txt'\u001b[0m,\n",
       "\u001b[2;32m│   \u001b[0m\u001b[32m'linux-etc-passwd.txt'\u001b[0m,\n",
       "\u001b[2;32m│   \u001b[0m\u001b[32m'wcfile.txt'\u001b[0m,\n",
       "\u001b[2;32m│   \u001b[0m\u001b[32m'myfile.txt'\u001b[0m\n",
       "\u001b[1m]\u001b[0m\n"
      ]
     },
     "metadata": {},
     "output_type": "display_data"
    }
   ],
   "source": [
    "glob.glob('*.txt')    # module glob, function glob"
   ]
  },
  {
   "cell_type": "code",
   "execution_count": 38,
   "id": "a5b9b945",
   "metadata": {},
   "outputs": [],
   "source": [
    "# Write a function, file_length, that takes a filename and returns the length\n",
    "\n",
    "def file_length(filename):\n",
    "    total = 0    \n",
    "    \n",
    "    for one_line in open(filename):    # go over the file, one line at a time\n",
    "        total += len(one_line)         # add the current line's length to total\n",
    "        \n",
    "    return total      "
   ]
  },
  {
   "cell_type": "code",
   "execution_count": 39,
   "id": "61f749fd",
   "metadata": {},
   "outputs": [
    {
     "data": {
      "text/html": [
       "<pre style='white-space:pre;overflow-x:auto;line-height:normal'><span style=\"color: #008080; text-decoration-color: #008080; font-weight: bold\">42</span>\n",
       "</pre>"
      ],
      "text/plain": [
       "\u001b[1;36m42\u001b[0m\n"
      ]
     },
     "metadata": {},
     "output_type": "display_data"
    }
   ],
   "source": [
    "file_length('nums.txt')"
   ]
  },
  {
   "cell_type": "code",
   "execution_count": 40,
   "id": "5aa0c7f6",
   "metadata": {},
   "outputs": [
    {
     "data": {
      "text/html": [
       "<pre style='white-space:pre;overflow-x:auto;line-height:normal'><span style=\"color: #008080; text-decoration-color: #008080; font-weight: bold\">30</span>\n",
       "</pre>"
      ],
      "text/plain": [
       "\u001b[1;36m30\u001b[0m\n"
      ]
     },
     "metadata": {},
     "output_type": "display_data"
    }
   ],
   "source": [
    "file_length('mynewfile.txt')"
   ]
  },
  {
   "cell_type": "code",
   "execution_count": 41,
   "id": "03a68939",
   "metadata": {},
   "outputs": [
    {
     "data": {
      "text/html": [
       "<pre style='white-space:pre;overflow-x:auto;line-height:normal'><span style=\"color: #008080; text-decoration-color: #008080; font-weight: bold\">2683</span>\n",
       "</pre>"
      ],
      "text/plain": [
       "\u001b[1;36m2683\u001b[0m\n"
      ]
     },
     "metadata": {},
     "output_type": "display_data"
    }
   ],
   "source": [
    "file_length('linux-etc-passwd.txt')"
   ]
  },
  {
   "cell_type": "code",
   "execution_count": 42,
   "id": "310af3d7",
   "metadata": {},
   "outputs": [
    {
     "name": "stdout",
     "output_type": "stream",
     "text": [
      "mini-access-log.txt:\t36562\n",
      "nums.txt:\t42\n",
      "mydict.txt:\t18\n",
      "mynewfile.txt:\t30\n",
      "shoe-data.txt:\t1676\n",
      "linux-etc-passwd.txt:\t2683\n",
      "wcfile.txt:\t165\n",
      "myfile.txt:\t30\n"
     ]
    }
   ],
   "source": [
    "# I can combine my new friend, glob.glob, with my new function, file_length:\n",
    "\n",
    "for one_filename in glob.glob('*.txt'):   # for each *.txt file in the current directory\n",
    "    l = file_length(one_filename)\n",
    "    print(f'{one_filename}:\\t{l}')"
   ]
  },
  {
   "cell_type": "code",
   "execution_count": 43,
   "id": "34c4a290",
   "metadata": {},
   "outputs": [
    {
     "name": "stdout",
     "output_type": "stream",
     "text": [
      "-rw-r--r-- 1 reuven staff  2683 Mar 13  2016 linux-etc-passwd.txt\r\n",
      "-rw-r--r-- 1 reuven staff 36562 Aug  8  2014 mini-access-log.txt\r\n",
      "-rw-r--r-- 1 reuven staff    18 Jan 20 22:48 mydict.txt\r\n",
      "-rw-r--r-- 1 reuven staff    30 Jan 20 22:35 myfile.txt\r\n",
      "-rw-r--r-- 1 reuven staff    30 Jan 20 22:39 mynewfile.txt\r\n",
      "-rw-r--r-- 1 reuven staff    42 Sep 19  2017 nums.txt\r\n",
      "-rw-r--r-- 1 reuven staff  1676 Dec 14  2014 shoe-data.txt\r\n",
      "-rw-r--r-- 1 reuven staff   165 Nov 19  2013 wcfile.txt\r\n"
     ]
    }
   ],
   "source": [
    "!ls -l *.txt"
   ]
  },
  {
   "cell_type": "markdown",
   "id": "c269f918",
   "metadata": {},
   "source": [
    "# Exercise: Pick a random character\n",
    "\n",
    "1. Use `glob.glob` to find all of the text files in the current directory (like I did).\n",
    "2. Go through each filename in a `for` loop.\n",
    "3. Open each file, and go through each line, one at a time.\n",
    "4. Use `random.randint` to choose a random character from that line.  Meaning: Calculate the length of the line with `len`, and then run `random.randint` to get a random number up to that.\n",
    "5. Print the filename, the number, and the character at that location in the file.\n",
    "\n",
    "Hints:\n",
    "- `glob.glob('*.txt')` -- returns a list of strings (filenames)\n",
    "- `random.randint(0, 100)` -- returns a random integer from 0 - 100\n",
    "- Don't forget to `import` each of the two modules we're using here."
   ]
  },
  {
   "cell_type": "code",
   "execution_count": 44,
   "id": "ab327f7f",
   "metadata": {},
   "outputs": [
    {
     "name": "stdout",
     "output_type": "stream",
     "text": [
      "-rw-r--r-- 1 reuven staff 2683 Mar 13  2016 linux-etc-passwd.txt\r\n"
     ]
    }
   ],
   "source": [
    "!ls -l linux-etc-passwd.txt"
   ]
  },
  {
   "cell_type": "code",
   "execution_count": 49,
   "id": "aa6eab47",
   "metadata": {
    "collapsed": true
   },
   "outputs": [
    {
     "name": "stdout",
     "output_type": "stream",
     "text": [
      "mini-access-log.txt\t96\t.\n",
      "mini-access-log.txt\t100\tz\n",
      "mini-access-log.txt\t70\t.\n",
      "mini-access-log.txt\t21\t/\n",
      "mini-access-log.txt\t32\t:\n",
      "mini-access-log.txt\t27\t1\n",
      "mini-access-log.txt\t71\t\"\n",
      "mini-access-log.txt\t137\t \n",
      "mini-access-log.txt\t112\t5\n",
      "mini-access-log.txt\t46\t\"\n",
      "mini-access-log.txt\t69\t1\n",
      "mini-access-log.txt\t15\t \n",
      "mini-access-log.txt\t102\tb\n",
      "mini-access-log.txt\t108\tl\n",
      "mini-access-log.txt\t113\t \n",
      "mini-access-log.txt\t120\ta\n",
      "mini-access-log.txt\t102\t\"\n",
      "mini-access-log.txt\t134\te\n",
      "mini-access-log.txt\t100\t\"\n",
      "mini-access-log.txt\t78\t \n",
      "mini-access-log.txt\t80\t \n",
      "mini-access-log.txt\t135\tm\n",
      "mini-access-log.txt\t125\tl\n",
      "mini-access-log.txt\t147\tt\n",
      "mini-access-log.txt\t22\ta\n",
      "mini-access-log.txt\t103\t \n",
      "mini-access-log.txt\t38\t6\n",
      "mini-access-log.txt\t111\to\n",
      "mini-access-log.txt\t130\to\n",
      "mini-access-log.txt\t68\tT\n",
      "mini-access-log.txt\t53\tr\n",
      "mini-access-log.txt\t150\tw\n",
      "mini-access-log.txt\t117\tb\n",
      "mini-access-log.txt\t170\t\n",
      "\n",
      "mini-access-log.txt\t163\tt\n",
      "mini-access-log.txt\t14\t \n",
      "mini-access-log.txt\t25\t2\n",
      "mini-access-log.txt\t38\t \n",
      "mini-access-log.txt\t159\tg\n",
      "mini-access-log.txt\t100\ti\n",
      "mini-access-log.txt\t118\tb\n",
      "mini-access-log.txt\t121\tl\n",
      "mini-access-log.txt\t81\tr\n",
      "mini-access-log.txt\t14\t \n",
      "mini-access-log.txt\t32\t:\n",
      "mini-access-log.txt\t3\t5\n",
      "mini-access-log.txt\t82\t \n",
      "mini-access-log.txt\t113\t.\n",
      "mini-access-log.txt\t22\ta\n",
      "mini-access-log.txt\t41\t2\n",
      "mini-access-log.txt\t20\t/\n",
      "mini-access-log.txt\t88\t \n",
      "mini-access-log.txt\t89\tt\n",
      "mini-access-log.txt\t30\t1\n",
      "mini-access-log.txt\t159\tt\n",
      "mini-access-log.txt\t129\tp\n",
      "mini-access-log.txt\t156\t/\n",
      "mini-access-log.txt\t3\t2\n",
      "mini-access-log.txt\t166\te\n",
      "mini-access-log.txt\t172\t/\n",
      "mini-access-log.txt\t18\t3\n",
      "mini-access-log.txt\t50\t \n",
      "mini-access-log.txt\t151\te\n",
      "mini-access-log.txt\t171\tm\n",
      "mini-access-log.txt\t11\t8\n",
      "mini-access-log.txt\t178\tt\n",
      "mini-access-log.txt\t116\t \n",
      "mini-access-log.txt\t13\t-\n",
      "mini-access-log.txt\t5\t9\n",
      "mini-access-log.txt\t157\th\n",
      "mini-access-log.txt\t135\to\n",
      "mini-access-log.txt\t118\t-\n",
      "mini-access-log.txt\t104\t \n",
      "mini-access-log.txt\t172\to\n",
      "mini-access-log.txt\t114\t1\n",
      "mini-access-log.txt\t141\tG\n",
      "mini-access-log.txt\t100\tT\n",
      "mini-access-log.txt\t120\ta\n",
      "mini-access-log.txt\t111\t/\n",
      "mini-access-log.txt\t101\tt\n",
      "mini-access-log.txt\t95\t-\n",
      "mini-access-log.txt\t60\to\n",
      "mini-access-log.txt\t170\tt\n",
      "mini-access-log.txt\t16\t \n",
      "mini-access-log.txt\t168\tt\n",
      "mini-access-log.txt\t93\t:\n",
      "mini-access-log.txt\t157\ta\n",
      "mini-access-log.txt\t154\tg\n",
      "mini-access-log.txt\t56\ts\n",
      "mini-access-log.txt\t56\ts\n",
      "mini-access-log.txt\t61\tP\n",
      "mini-access-log.txt\t80\tT\n",
      "mini-access-log.txt\t95\to\n",
      "mini-access-log.txt\t136\tt\n",
      "mini-access-log.txt\t131\tg\n",
      "mini-access-log.txt\t52\tb\n",
      "mini-access-log.txt\t9\t.\n",
      "mini-access-log.txt\t46\t \n",
      "mini-access-log.txt\t155\tg\n",
      "mini-access-log.txt\t85\t \n",
      "mini-access-log.txt\t107\tl\n",
      "mini-access-log.txt\t87\t0\n",
      "mini-access-log.txt\t140\t.\n",
      "mini-access-log.txt\t67\t/\n",
      "mini-access-log.txt\t86\t0\n",
      "mini-access-log.txt\t125\tG\n",
      "mini-access-log.txt\t142\tr\n",
      "mini-access-log.txt\t0\t6\n",
      "mini-access-log.txt\t212\ta\n",
      "mini-access-log.txt\t97\t\"\n",
      "mini-access-log.txt\t73\t/\n",
      "mini-access-log.txt\t63\tl\n",
      "mini-access-log.txt\t175\t\n",
      "\n",
      "mini-access-log.txt\t145\to\n",
      "mini-access-log.txt\t144\tt\n",
      "mini-access-log.txt\t122\te\n",
      "mini-access-log.txt\t55\tw\n",
      "mini-access-log.txt\t107\tl\n",
      "mini-access-log.txt\t28\t1\n",
      "mini-access-log.txt\t90\tc\n",
      "mini-access-log.txt\t110\ti\n",
      "mini-access-log.txt\t77\t1\n",
      "mini-access-log.txt\t35\t3\n",
      "mini-access-log.txt\t10\t.\n",
      "mini-access-log.txt\t53\ta\n",
      "mini-access-log.txt\t10\t.\n",
      "mini-access-log.txt\t111\t(\n",
      "mini-access-log.txt\t78\tP\n",
      "mini-access-log.txt\t105\ta\n",
      "mini-access-log.txt\t129\t6\n",
      "mini-access-log.txt\t77\tT\n",
      "mini-access-log.txt\t43\t0\n",
      "mini-access-log.txt\t42\t2\n",
      "mini-access-log.txt\t131\t;\n",
      "mini-access-log.txt\t76\tT\n",
      "mini-access-log.txt\t1\t9\n",
      "mini-access-log.txt\t19\t3\n",
      "mini-access-log.txt\t8\t7\n",
      "mini-access-log.txt\t87\t7\n",
      "mini-access-log.txt\t54\ti\n",
      "mini-access-log.txt\t140\t.\n",
      "mini-access-log.txt\t98\t-\n",
      "mini-access-log.txt\t72\t3\n",
      "mini-access-log.txt\t26\t0\n",
      "mini-access-log.txt\t110\tl\n",
      "mini-access-log.txt\t14\t \n",
      "mini-access-log.txt\t137\tb\n",
      "mini-access-log.txt\t64\to\n",
      "mini-access-log.txt\t103\t\"\n",
      "mini-access-log.txt\t98\t\"\n",
      "mini-access-log.txt\t120\to\n",
      "mini-access-log.txt\t125\tl\n",
      "mini-access-log.txt\t156\tg\n",
      "mini-access-log.txt\t15\t-\n",
      "mini-access-log.txt\t67\t_\n",
      "mini-access-log.txt\t125\te\n",
      "mini-access-log.txt\t167\t/\n",
      "mini-access-log.txt\t82\t \n",
      "mini-access-log.txt\t6\t.\n",
      "mini-access-log.txt\t75\t1\n",
      "mini-access-log.txt\t162\to\n",
      "mini-access-log.txt\t2\t.\n",
      "mini-access-log.txt\t4\t4\n",
      "mini-access-log.txt\t171\tt\n",
      "mini-access-log.txt\t178\t)\n",
      "mini-access-log.txt\t79\tT\n",
      "mini-access-log.txt\t64\to\n",
      "mini-access-log.txt\t21\tJ\n",
      "mini-access-log.txt\t12\t \n",
      "mini-access-log.txt\t61\tx\n",
      "mini-access-log.txt\t63\tw\n",
      "mini-access-log.txt\t134\tr\n",
      "mini-access-log.txt\t24\tn\n",
      "mini-access-log.txt\t104\t/\n",
      "mini-access-log.txt\t93\t1\n",
      "mini-access-log.txt\t267\t/\n",
      "mini-access-log.txt\t248\ty\n",
      "mini-access-log.txt\t133\tm\n",
      "mini-access-log.txt\t85\tc\n",
      "mini-access-log.txt\t133\tn\n",
      "mini-access-log.txt\t95\tc\n",
      "mini-access-log.txt\t110\t4\n",
      "mini-access-log.txt\t149\te\n",
      "mini-access-log.txt\t12\t5\n",
      "mini-access-log.txt\t146\t/\n",
      "mini-access-log.txt\t46\t\"\n",
      "mini-access-log.txt\t132\t\"\n",
      "mini-access-log.txt\t2\t.\n",
      "mini-access-log.txt\t102\t(\n",
      "mini-access-log.txt\t121\tt\n",
      "mini-access-log.txt\t67\t_\n",
      "mini-access-log.txt\t92\t1\n",
      "mini-access-log.txt\t101\t \n",
      "mini-access-log.txt\t156\t.\n",
      "mini-access-log.txt\t169\tt\n",
      "mini-access-log.txt\t117\tc\n",
      "mini-access-log.txt\t99\t2\n",
      "mini-access-log.txt\t68\tm\n",
      "mini-access-log.txt\t164\to\n",
      "mini-access-log.txt\t165\tm\n",
      "mini-access-log.txt\t162\t.\n",
      "mini-access-log.txt\t28\t0\n",
      "mini-access-log.txt\t124\tb\n",
      "mini-access-log.txt\t10\t3\n",
      "mini-access-log.txt\t135\t1\n",
      "mini-access-log.txt\t87\t1\n",
      "nums.txt\t0\t5\n",
      "nums.txt\t1\t1\n",
      "nums.txt\t1\t2\n",
      "nums.txt\t4\t\n",
      "\n",
      "nums.txt\t10\t \n",
      "nums.txt\t0\t\n",
      "\n",
      "nums.txt\t0\t \n",
      "mydict.txt\t1\t=\n",
      "mydict.txt\t2\t2\n",
      "mydict.txt\t5\tl\n",
      "mynewfile.txt\t4\t\n",
      "\n",
      "mynewfile.txt\t4\ti\n",
      "mynewfile.txt\t1\t*\n",
      "mynewfile.txt\t3\t \n",
      "shoe-data.txt\t9\ta\n",
      "shoe-data.txt\t10\t\t\n",
      "shoe-data.txt\t15\t\n",
      "\n",
      "shoe-data.txt\t14\tn\n",
      "shoe-data.txt\t6\th\n",
      "shoe-data.txt\t0\tN\n",
      "shoe-data.txt\t6\ti\n",
      "shoe-data.txt\t1\td\n",
      "shoe-data.txt\t11\t\t\n",
      "shoe-data.txt\t1\te\n",
      "shoe-data.txt\t15\tn\n",
      "shoe-data.txt\t12\t1\n",
      "shoe-data.txt\t12\te\n",
      "shoe-data.txt\t14\t8\n",
      "shoe-data.txt\t8\ti\n",
      "shoe-data.txt\t8\th\n",
      "shoe-data.txt\t4\ta\n",
      "shoe-data.txt\t11\t1\n",
      "shoe-data.txt\t10\tk\n",
      "shoe-data.txt\t4\tB\n",
      "shoe-data.txt\t0\tN\n",
      "shoe-data.txt\t13\t\n",
      "\n",
      "shoe-data.txt\t0\tN\n",
      "shoe-data.txt\t13\t\n",
      "\n",
      "shoe-data.txt\t12\t\t\n",
      "shoe-data.txt\t1\te\n",
      "shoe-data.txt\t6\t\t\n",
      "shoe-data.txt\t16\t\t\n",
      "shoe-data.txt\t5\ta\n",
      "shoe-data.txt\t3\td\n",
      "shoe-data.txt\t13\tr\n",
      "shoe-data.txt\t5\ta\n",
      "shoe-data.txt\t14\tn\n",
      "shoe-data.txt\t8\tc\n",
      "shoe-data.txt\t2\tk\n",
      "shoe-data.txt\t8\tn\n",
      "shoe-data.txt\t9\tk\n",
      "shoe-data.txt\t10\tc\n",
      "shoe-data.txt\t4\tB\n",
      "shoe-data.txt\t11\t\t\n",
      "shoe-data.txt\t2\tk\n",
      "shoe-data.txt\t9\ta\n",
      "shoe-data.txt\t3\td\n",
      "shoe-data.txt\t14\t3\n",
      "shoe-data.txt\t20\t9\n",
      "shoe-data.txt\t12\t5\n",
      "shoe-data.txt\t9\ti\n",
      "shoe-data.txt\t2\tk\n",
      "shoe-data.txt\t13\t\t\n",
      "shoe-data.txt\t1\td\n",
      "shoe-data.txt\t13\tr\n",
      "shoe-data.txt\t8\tk\n",
      "shoe-data.txt\t11\t8\n",
      "shoe-data.txt\t11\tk\n",
      "shoe-data.txt\t15\tt\n",
      "shoe-data.txt\t1\ti\n",
      "shoe-data.txt\t4\t\t\n",
      "shoe-data.txt\t1\ti\n",
      "shoe-data.txt\t6\t\t\n",
      "shoe-data.txt\t13\tr\n",
      "shoe-data.txt\t7\tp\n",
      "shoe-data.txt\t6\t\t\n",
      "shoe-data.txt\t8\ti\n",
      "shoe-data.txt\t1\ti\n",
      "shoe-data.txt\t1\ti\n",
      "shoe-data.txt\t0\tA\n",
      "shoe-data.txt\t5\tp\n",
      "shoe-data.txt\t8\th\n",
      "shoe-data.txt\t10\te\n",
      "shoe-data.txt\t6\tl\n",
      "shoe-data.txt\t10\te\n",
      "shoe-data.txt\t8\tn\n",
      "shoe-data.txt\t9\tn\n",
      "shoe-data.txt\t9\t\t\n",
      "shoe-data.txt\t1\ti\n",
      "shoe-data.txt\t12\t9\n",
      "shoe-data.txt\t7\ta\n",
      "shoe-data.txt\t15\t\n",
      "\n",
      "shoe-data.txt\t13\t6\n",
      "shoe-data.txt\t12\t8\n",
      "shoe-data.txt\t4\tB\n",
      "shoe-data.txt\t19\t\n",
      "\n",
      "shoe-data.txt\t15\t\n",
      "\n",
      "shoe-data.txt\t14\t0\n",
      "shoe-data.txt\t18\t\t\n",
      "shoe-data.txt\t5\tp\n",
      "shoe-data.txt\t7\to\n",
      "shoe-data.txt\t10\t\t\n",
      "shoe-data.txt\t12\t3\n",
      "shoe-data.txt\t15\t\n",
      "\n",
      "shoe-data.txt\t4\t\t\n",
      "shoe-data.txt\t8\tk\n",
      "shoe-data.txt\t16\tk\n",
      "shoe-data.txt\t12\t8\n",
      "shoe-data.txt\t15\tk\n",
      "shoe-data.txt\t4\t\t\n",
      "shoe-data.txt\t16\tg\n",
      "shoe-data.txt\t5\ta\n",
      "shoe-data.txt\t8\tl\n",
      "shoe-data.txt\t2\tk\n",
      "linux-etc-passwd.txt\t10\ta\n",
      "linux-etc-passwd.txt\t7\th\n",
      "linux-etc-passwd.txt\t8\t:\n",
      "linux-etc-passwd.txt\t41\to\n",
      "linux-etc-passwd.txt\t19\t/\n",
      "linux-etc-passwd.txt\t22\tr\n",
      "linux-etc-passwd.txt\t8\t:\n",
      "linux-etc-passwd.txt\t39\t/\n",
      "linux-etc-passwd.txt\t32\ts\n",
      "linux-etc-passwd.txt\t1\tp\n",
      "linux-etc-passwd.txt\t15\t:\n",
      "linux-etc-passwd.txt\t0\t\n",
      "\n",
      "linux-etc-passwd.txt\t0\t\n",
      "\n",
      "linux-etc-passwd.txt\t0\t\n",
      "\n",
      "linux-etc-passwd.txt\t10\t:\n",
      "linux-etc-passwd.txt\t21\tr\n",
      "linux-etc-passwd.txt\t36\to\n",
      "linux-etc-passwd.txt\t38\tr\n",
      "linux-etc-passwd.txt\t2\tc\n",
      "linux-etc-passwd.txt\t17\ti\n",
      "linux-etc-passwd.txt\t24\tn\n",
      "linux-etc-passwd.txt\t32\tg\n",
      "linux-etc-passwd.txt\t0\t\n",
      "\n",
      "linux-etc-passwd.txt\t27\t:\n",
      "linux-etc-passwd.txt\t22\te\n",
      "linux-etc-passwd.txt\t32\tb\n",
      "linux-etc-passwd.txt\t21\t/\n",
      "linux-etc-passwd.txt\t24\t:\n",
      "linux-etc-passwd.txt\t8\t0\n",
      "linux-etc-passwd.txt\t40\t/\n",
      "linux-etc-passwd.txt\t18\t:\n",
      "linux-etc-passwd.txt\t34\tf\n",
      "linux-etc-passwd.txt\t10\t0\n",
      "linux-etc-passwd.txt\t19\tP\n",
      "linux-etc-passwd.txt\t33\tr\n",
      "linux-etc-passwd.txt\t62\ts\n",
      "linux-etc-passwd.txt\t10\t:\n",
      "linux-etc-passwd.txt\t23\t:\n",
      "linux-etc-passwd.txt\t53\ts\n",
      "linux-etc-passwd.txt\t38\t,\n",
      "linux-etc-passwd.txt\t48\t/\n",
      "linux-etc-passwd.txt\t26\tr\n",
      "linux-etc-passwd.txt\t14\t1\n",
      "linux-etc-passwd.txt\t44\th\n",
      "linux-etc-passwd.txt\t11\t:\n",
      "linux-etc-passwd.txt\t19\tv\n",
      "linux-etc-passwd.txt\t27\tt\n",
      "linux-etc-passwd.txt\t16\t2\n",
      "linux-etc-passwd.txt\t54\tl\n",
      "linux-etc-passwd.txt\t20\t1\n",
      "linux-etc-passwd.txt\t26\t/\n",
      "linux-etc-passwd.txt\t13\t1\n",
      "linux-etc-passwd.txt\t42\tm\n",
      "linux-etc-passwd.txt\t22\tl\n",
      "linux-etc-passwd.txt\t5\t:\n",
      "wcfile.txt\t8\ta\n",
      "wcfile.txt\t0\t\n",
      "\n",
      "wcfile.txt\t26\t0\n",
      "wcfile.txt\t0\t\n",
      "\n",
      "wcfile.txt\t0\tI\n",
      "wcfile.txt\t0\t\n",
      "\n",
      "wcfile.txt\t2\t \n",
      "wcfile.txt\t0\t\n",
      "\n",
      "wcfile.txt\t2\t \n",
      "wcfile.txt\t0\t\n",
      "\n",
      "wcfile.txt\t3\t!\n",
      "myfile.txt\t2\tc\n",
      "myfile.txt\t3\th\n",
      "myfile.txt\t7\td\n",
      "myfile.txt\t6\tg\n"
     ]
    }
   ],
   "source": [
    "import glob\n",
    "import random\n",
    "\n",
    "for one_filename in glob.glob('*.txt'):    # go through each filename in the current directory\n",
    "    for one_line in open(one_filename):    # go through each line in each file\n",
    "        n = random.randint(0, len(one_line)-1)  # get a character index for the current line\n",
    "        print(f'{one_filename}\\t{n}\\t{one_line[n]}')"
   ]
  },
  {
   "cell_type": "markdown",
   "id": "f96a1d83",
   "metadata": {},
   "source": [
    "# Next up:\n",
    "\n",
    "1. Different forms of `import`\n",
    "2. Where Python loads modules from\n",
    "3. How to write our own module\n"
   ]
  },
  {
   "cell_type": "code",
   "execution_count": 53,
   "id": "ef401908",
   "metadata": {
    "collapsed": true
   },
   "outputs": [
    {
     "name": "stdout",
     "output_type": "stream",
     "text": [
      "There are 16 files in the current directory\n",
      "/etc/syslog.conf\t38\tf\n",
      "/etc/syslog.conf\t0\t\n",
      "\n",
      "/etc/syslog.conf\t21\t.\n",
      "/etc/rtadvd.conf\t57\tp\n",
      "/etc/rtadvd.conf\t0\t#\n",
      "/etc/rtadvd.conf\t48\ta\n",
      "/etc/rtadvd.conf\t42\ts\n",
      "/etc/rtadvd.conf\t41\to\n",
      "/etc/rtadvd.conf\t0\t#\n",
      "/etc/rtadvd.conf\t17\td\n",
      "/etc/rtadvd.conf\t1\t \n",
      "/etc/rtadvd.conf\t18\tr\n",
      "/etc/rtadvd.conf\t0\t\n",
      "\n",
      "/etc/rtadvd.conf\t15\t \n",
      "/etc/rtadvd.conf\t0\t#\n",
      "/etc/rtadvd.conf\t6\tt\n",
      "/etc/rtadvd.conf\t53\th\n",
      "/etc/rtadvd.conf\t13\t,\n",
      "/etc/rtadvd.conf\t61\t \n",
      "/etc/rtadvd.conf\t36\tk\n",
      "/etc/rtadvd.conf\t1\t\n",
      "\n",
      "/etc/rtadvd.conf\t0\t#\n",
      "/etc/rtadvd.conf\t6\tr\n",
      "/etc/pf.conf\t1\t\n",
      "\n",
      "/etc/pf.conf\t3\te\n",
      "/etc/pf.conf\t0\t#\n",
      "/etc/pf.conf\t43\th\n",
      "/etc/pf.conf\t28\te\n",
      "/etc/pf.conf\t2\te\n",
      "/etc/pf.conf\t6\ti\n",
      "/etc/pf.conf\t14\to\n",
      "/etc/pf.conf\t1\t\n",
      "\n",
      "/etc/pf.conf\t54\to\n",
      "/etc/pf.conf\t28\t \n",
      "/etc/pf.conf\t41\te\n",
      "/etc/pf.conf\t1\t \n",
      "/etc/pf.conf\t8\ts\n",
      "/etc/pf.conf\t1\t\n",
      "\n",
      "/etc/pf.conf\t13\t(\n",
      "/etc/pf.conf\t1\t\n",
      "\n",
      "/etc/pf.conf\t0\t\n",
      "\n",
      "/etc/pf.conf\t1\t\n",
      "\n",
      "/etc/pf.conf\t20\to\n",
      "/etc/pf.conf\t1\t\n",
      "\n",
      "/etc/pf.conf\t16\tm\n",
      "/etc/pf.conf\t10\t \n",
      "/etc/pf.conf\t23\t\"\n",
      "/etc/pf.conf\t29\t\n",
      "\n",
      "/etc/pf.conf\t2\tc\n",
      "/etc/pf.conf\t50\ta\n",
      "/etc/launchd.conf\t15\t0\n",
      "/etc/autofs.conf\t1\t\n",
      "\n",
      "/etc/autofs.conf\t0\t#\n",
      "/etc/autofs.conf\t0\t#\n",
      "/etc/autofs.conf\t0\t\n",
      "\n",
      "/etc/autofs.conf\t52\ti\n",
      "/etc/autofs.conf\t47\tt\n",
      "/etc/autofs.conf\t1\t \n",
      "/etc/autofs.conf\t2\tT\n",
      "/etc/autofs.conf\t0\tA\n",
      "/etc/autofs.conf\t0\t\n",
      "\n",
      "/etc/autofs.conf\t13\tt\n",
      "/etc/autofs.conf\t31\t \n",
      "/etc/autofs.conf\t22\to\n",
      "/etc/autofs.conf\t8\tN\n",
      "/etc/autofs.conf\t0\t\n",
      "\n",
      "/etc/autofs.conf\t3\tf\n",
      "/etc/autofs.conf\t27\tt\n",
      "/etc/autofs.conf\t34\ti\n",
      "/etc/autofs.conf\t5\tM\n",
      "/etc/autofs.conf\t0\t\n",
      "\n",
      "/etc/autofs.conf\t19\tt\n",
      "/etc/autofs.conf\t42\tu\n",
      "/etc/autofs.conf\t23\tL\n",
      "/etc/autofs.conf\t0\t\n",
      "\n",
      "/etc/autofs.conf\t50\tq\n",
      "/etc/autofs.conf\t7\tt\n",
      "/etc/autofs.conf\t57\ts\n",
      "/etc/autofs.conf\t22\tg\n",
      "/etc/autofs.conf\t30\t \n",
      "/etc/autofs.conf\t20\to\n",
      "/etc/autofs.conf\t5\tM\n",
      "/etc/autofs.conf\t0\t\n",
      "\n",
      "/etc/autofs.conf\t9\tp\n",
      "/etc/autofs.conf\t43\tt\n",
      "/etc/autofs.conf\t51\to\n",
      "/etc/autofs.conf\t3\th\n",
      "/etc/autofs.conf\t66\tt\n",
      "/etc/autofs.conf\t23\ts\n",
      "/etc/autofs.conf\t19\tn\n",
      "/etc/autofs.conf\t0\t\n",
      "\n",
      "/etc/autofs.conf\t12\ti\n",
      "/etc/autofs.conf\t38\tu\n",
      "/etc/autofs.conf\t3\th\n",
      "/etc/autofs.conf\t6\t \n",
      "/etc/autofs.conf\t0\tA\n",
      "/etc/autofs.conf\t0\t\n",
      "\n",
      "/etc/autofs.conf\t64\t.\n",
      "/etc/autofs.conf\t52\tt\n",
      "/etc/autofs.conf\t9\ta\n",
      "/etc/autofs.conf\t13\tN\n",
      "/etc/slpsa.conf\t16\tn\n",
      "/etc/ntp_opendirectory.conf\t1\t \n",
      "/etc/ntp_opendirectory.conf\t0\t\n",
      "\n",
      "/etc/resolv.conf\t0\t#\n",
      "/etc/resolv.conf\t7\t \n",
      "/etc/resolv.conf\t1\t\n",
      "\n",
      "/etc/resolv.conf\t63\ts\n",
      "/etc/resolv.conf\t50\ts\n",
      "/etc/resolv.conf\t26\t.\n",
      "/etc/resolv.conf\t0\t#\n",
      "/etc/resolv.conf\t24\tu\n",
      "/etc/resolv.conf\t4\ts\n",
      "/etc/resolv.conf\t1\t\n",
      "\n",
      "/etc/resolv.conf\t9\tO\n",
      "/etc/resolv.conf\t14\t \n",
      "/etc/resolv.conf\t0\t#\n",
      "/etc/resolv.conf\t4\ti\n",
      "/etc/resolv.conf\t1\t\n",
      "\n",
      "/etc/resolv.conf\t1\ta\n",
      "/etc/resolv.conf\t21\t.\n",
      "/etc/nfs.conf\t0\t#\n",
      "/etc/nfs.conf\t36\tl\n",
      "/etc/nfs.conf\t0\t#\n",
      "/etc/asl.conf\t2\t\n",
      "\n",
      "/etc/asl.conf\t9\tr\n",
      "/etc/asl.conf\t2\t\n",
      "\n",
      "/etc/asl.conf\t0\t\n",
      "\n",
      "/etc/asl.conf\t6\ta\n",
      "/etc/asl.conf\t31\te\n",
      "/etc/asl.conf\t0\t\n",
      "\n",
      "/etc/asl.conf\t26\to\n",
      "/etc/asl.conf\t25\tc\n",
      "/etc/asl.conf\t0\t\n",
      "\n",
      "/etc/asl.conf\t37\tr\n",
      "/etc/asl.conf\t20\ta\n",
      "/etc/asl.conf\t0\t\n",
      "\n",
      "/etc/asl.conf\t0\t#\n",
      "/etc/asl.conf\t8\te\n",
      "/etc/asl.conf\t0\t\n",
      "\n",
      "/etc/asl.conf\t3\ta\n",
      "/etc/asl.conf\t13\ts\n",
      "/etc/asl.conf\t0\t\n",
      "\n",
      "/etc/asl.conf\t0\t#\n",
      "/etc/asl.conf\t24\ti\n",
      "/etc/asl.conf\t0\t\n",
      "\n",
      "/etc/asl.conf\t32\t \n",
      "/etc/asl.conf\t22\to\n",
      "/etc/asl.conf\t0\t\n",
      "\n",
      "/etc/asl.conf\t21\ts\n",
      "/etc/asl.conf\t18\t0\n",
      "/etc/asl.conf\t0\t?\n",
      "/etc/asl.conf\t20\tf\n",
      "/etc/asl.conf\t25\te\n",
      "/etc/asl.conf\t50\tm\n",
      "/etc/asl.conf\t0\t\n",
      "\n",
      "/etc/asl.conf\t19\te\n",
      "/etc/asl.conf\t69\t \n",
      "/etc/ntp.conf\t1\te\n"
     ]
    },
    {
     "data": {
      "text/html": [
       "<div id='friendly-message5'><pre style='white-space:pre;overflow-x:auto;line-height:normal'><span style=\"color: #dd0000; text-decoration-color: #dd0000; background-color: #ffffff\">PermissionError</span>: [Errno 13] Permission denied: '/etc/AFP.conf'        \n",
       "</pre></div>"
      ],
      "text/plain": [
       "\u001b[38;2;221;0;0;48;2;255;255;255mPermissionError\u001b[0m: [Errno 13] Permission denied: '/etc/AFP.conf'        \n"
      ]
     },
     "metadata": {},
     "output_type": "display_data"
    },
    {
     "data": {
      "text/html": [
       "\n",
       "        <button\n",
       "            id='friendly-tb-btn-show5'\n",
       "            onclick='friendly_toggle_more5()'\n",
       "            style=''>\n",
       "        More ...\n",
       "        </button>\n",
       "        <script type=\"text/Javascript\"> function friendly_toggle_more5(){\n",
       "        var btn = document.getElementById('friendly-tb-btn-show5');\n",
       "        var btn_what = document.getElementById('friendly-tb-btn-show-what5');\n",
       "        var btn_where = document.getElementById('friendly-tb-btn-show-where5');\n",
       "        var btn_why = document.getElementById('friendly-tb-btn-show-why5');\n",
       "        var message = document.getElementById('friendly-message5');\n",
       "        var friendly_tb_content = document.getElementById('friendly-tb-friendly_tb-content5');\n",
       "        var what_content = document.getElementById('friendly-tb-what-content5');\n",
       "        var why_content = document.getElementById('friendly-tb-why-content5');\n",
       "        var where_content = document.getElementById('friendly-tb-where-content5');\n",
       "\n",
       "        if (btn_what.style.display == 'none'){\n",
       "            message.style.display = 'none';\n",
       "            btn_what.style.display = 'block';\n",
       "            btn_why.style.display = 'block';\n",
       "            btn_where.style.display = 'block';\n",
       "            friendly_tb_content.style.display = 'block';\n",
       "            btn.textContent = \"Show message only\";\n",
       "        } else {\n",
       "            btn_what.style.display = 'none';\n",
       "            btn_what.textContent = 'what()';\n",
       "            btn_why.style.display = 'none';\n",
       "            btn_why.textContent = 'why()';\n",
       "            btn_where.style.display = 'none';\n",
       "            btn_where.textContent = 'where()';\n",
       "            what_content.style.display = 'none';\n",
       "            why_content.style.display = 'none';\n",
       "            where_content.style.display = 'none';\n",
       "            friendly_tb_content.style.display = 'none';\n",
       "            message.style.display = 'block';\n",
       "            btn.textContent = \"More ...\";\n",
       "        }\n",
       "        };\n",
       "        </script>\n",
       "        "
      ]
     },
     "metadata": {},
     "output_type": "display_data"
    },
    {
     "data": {
      "text/html": [
       "<div id='friendly-tb-friendly_tb-content5' style='display:none'><pre style='white-space:pre;overflow-x:auto;line-height:normal'><span style=\"color: #dd0000; text-decoration-color: #dd0000; background-color: #ffffff\">Traceback (most recent call last):</span><span style=\"background-color: #ffffff\">                                                                  </span>\n",
       "<span style=\"color: #101010; text-decoration-color: #101010; background-color: #ffffff\">  Code block </span><span style=\"color: #783114; text-decoration-color: #783114; background-color: #ffffff\">[</span><span style=\"color: #101010; text-decoration-color: #101010; background-color: #ffffff\">53</span><span style=\"color: #783114; text-decoration-color: #783114; background-color: #ffffff\">]</span><span style=\"color: #101010; text-decoration-color: #101010; background-color: #ffffff\">, line 7, in </span><span style=\"color: #0011aa; text-decoration-color: #0011aa; background-color: #ffffff\">&lt;module&gt;</span><span style=\"background-color: #ffffff\">                                                              </span>\n",
       "<span style=\"color: #101010; text-decoration-color: #101010; background-color: #ffffff\">    </span><span style=\"color: #005500; text-decoration-color: #005500; background-color: #ffffff\">for</span><span style=\"color: #101010; text-decoration-color: #101010; background-color: #ffffff\"> </span><span style=\"color: #0011aa; text-decoration-color: #0011aa; background-color: #ffffff\">one_line</span><span style=\"color: #101010; text-decoration-color: #101010; background-color: #ffffff\"> </span><span style=\"color: #005500; text-decoration-color: #005500; background-color: #ffffff\">in</span><span style=\"color: #101010; text-decoration-color: #101010; background-color: #ffffff\"> </span><span style=\"color: #005500; text-decoration-color: #005500; background-color: #ffffff\">open</span><span style=\"color: #783114; text-decoration-color: #783114; background-color: #ffffff\">(</span><span style=\"color: #0011aa; text-decoration-color: #0011aa; background-color: #ffffff\">one_filename</span><span style=\"color: #783114; text-decoration-color: #783114; background-color: #ffffff\">):</span><span style=\"color: #101010; text-decoration-color: #101010; background-color: #ffffff\">    </span><span style=\"color: #808080; text-decoration-color: #808080; background-color: #ffffff\"># go through each line in each file</span><span style=\"background-color: #ffffff\">                      </span>\n",
       "<span style=\"color: #dd0000; text-decoration-color: #dd0000; background-color: #ffffff\">PermissionError</span><span style=\"color: #101010; text-decoration-color: #101010; background-color: #ffffff\">: </span><span style=\"color: #0011aa; text-decoration-color: #0011aa; background-color: #ffffff\">[Errno 13] Permission denied: '/etc/AFP.conf'</span><span style=\"background-color: #ffffff\">                                      </span>\n",
       "\n",
       "Friendly-traceback does not know the cause of this error.                                           \n",
       "</pre></div>"
      ],
      "text/plain": [
       "\u001b[38;2;221;0;0;48;2;255;255;255mTraceback (most recent call last):\u001b[0m\u001b[48;2;255;255;255m                                                                  \u001b[0m\n",
       "\u001b[38;2;16;16;16;48;2;255;255;255m  Code block \u001b[0m\u001b[38;2;120;49;20;48;2;255;255;255m[\u001b[0m\u001b[38;2;16;16;16;48;2;255;255;255m53\u001b[0m\u001b[38;2;120;49;20;48;2;255;255;255m]\u001b[0m\u001b[38;2;16;16;16;48;2;255;255;255m, line \u001b[0m\u001b[38;2;16;16;16;48;2;255;255;255m7\u001b[0m\u001b[38;2;16;16;16;48;2;255;255;255m, in \u001b[0m\u001b[38;2;0;17;170;48;2;255;255;255m<module>\u001b[0m\u001b[48;2;255;255;255m                                                              \u001b[0m\n",
       "\u001b[38;2;16;16;16;48;2;255;255;255m    \u001b[0m\u001b[38;2;0;85;0;48;2;255;255;255mfor\u001b[0m\u001b[38;2;16;16;16;48;2;255;255;255m \u001b[0m\u001b[38;2;0;17;170;48;2;255;255;255mone_line\u001b[0m\u001b[38;2;16;16;16;48;2;255;255;255m \u001b[0m\u001b[38;2;0;85;0;48;2;255;255;255min\u001b[0m\u001b[38;2;16;16;16;48;2;255;255;255m \u001b[0m\u001b[38;2;0;85;0;48;2;255;255;255mopen\u001b[0m\u001b[38;2;120;49;20;48;2;255;255;255m(\u001b[0m\u001b[38;2;0;17;170;48;2;255;255;255mone_filename\u001b[0m\u001b[38;2;120;49;20;48;2;255;255;255m)\u001b[0m\u001b[38;2;120;49;20;48;2;255;255;255m:\u001b[0m\u001b[38;2;16;16;16;48;2;255;255;255m    \u001b[0m\u001b[38;2;128;128;128;48;2;255;255;255m# go through each line in each file\u001b[0m\u001b[48;2;255;255;255m                      \u001b[0m\n",
       "\u001b[38;2;221;0;0;48;2;255;255;255mPermissionError\u001b[0m\u001b[38;2;16;16;16;48;2;255;255;255m: \u001b[0m\u001b[38;2;0;17;170;48;2;255;255;255m[Errno 13] Permission denied: '/etc/AFP.conf'\u001b[0m\u001b[48;2;255;255;255m                                      \u001b[0m\n",
       "\n",
       "Friendly-traceback does not know the cause of this error.                                           \n"
      ]
     },
     "metadata": {},
     "output_type": "display_data"
    },
    {
     "data": {
      "text/html": [
       "<script type=\"text/Javascript\"> function toggle_what5(){\n",
       "     var content = document.getElementById('friendly-tb-what-content5');\n",
       "     var btn = document.getElementById('friendly-tb-btn-show-what5');\n",
       "        if (content.style.display === 'none') {\n",
       "            content.style.display = 'block';\n",
       "            btn.textContent = \"Hide what()\";\n",
       "        } else {\n",
       "            content.style.display = 'none';\n",
       "            btn.textContent = \"what()\";\n",
       "       }\n",
       "    }\n",
       "     </script>\n",
       "     <button\n",
       "         id='friendly-tb-btn-show-what5'\n",
       "         onclick='toggle_what5()'\n",
       "         style='display:none '>\n",
       "     what()\n",
       "     </button>\n",
       "    "
      ]
     },
     "metadata": {},
     "output_type": "display_data"
    },
    {
     "data": {
      "text/html": [
       "<div id='friendly-tb-what-content5' style='display:none'><pre style='white-space:pre;overflow-x:auto;line-height:normal'>An exception of type <span style=\"color: #dd0000; text-decoration-color: #dd0000; background-color: #ffffff\">PermissionError</span> is a subclass of <span style=\"color: #dd0000; text-decoration-color: #dd0000; background-color: #ffffff\">OSError</span>. An     \n",
       "<span style=\"color: #dd0000; text-decoration-color: #dd0000; background-color: #ffffff\">OSError</span> exception is usually raised by the Operating System to        \n",
       "indicate that an operation is not allowed or that a resource is not   \n",
       "available.                                                            \n",
       "</pre></div>"
      ],
      "text/plain": [
       "An exception of type \u001b[38;2;221;0;0;48;2;255;255;255mPermissionError\u001b[0m is a subclass of \u001b[38;2;221;0;0;48;2;255;255;255mOSError\u001b[0m. An     \n",
       "\u001b[38;2;221;0;0;48;2;255;255;255mOSError\u001b[0m exception is usually raised by the Operating System to        \n",
       "indicate that an operation is not allowed or that a resource is not   \n",
       "available.                                                            \n"
      ]
     },
     "metadata": {},
     "output_type": "display_data"
    },
    {
     "data": {
      "text/html": [
       "<script type=\"text/Javascript\"> function toggle_why5(){\n",
       "     var content = document.getElementById('friendly-tb-why-content5');\n",
       "     var btn = document.getElementById('friendly-tb-btn-show-why5');\n",
       "        if (content.style.display === 'none') {\n",
       "            content.style.display = 'block';\n",
       "            btn.textContent = \"Hide why()\";\n",
       "        } else {\n",
       "            content.style.display = 'none';\n",
       "            btn.textContent = \"why()\";\n",
       "       }\n",
       "    }\n",
       "     </script>\n",
       "     <button\n",
       "         id='friendly-tb-btn-show-why5'\n",
       "         onclick='toggle_why5()'\n",
       "         style='display:none '>\n",
       "     why()\n",
       "     </button>\n",
       "    "
      ]
     },
     "metadata": {},
     "output_type": "display_data"
    },
    {
     "data": {
      "text/html": [
       "<div id='friendly-tb-why-content5' style='display:none'><pre style='white-space:pre;overflow-x:auto;line-height:normal'>No information is known about this exception. Please report this      \n",
       "example to                                                            \n",
       "https://github.com/friendly-traceback/friendly-traceback/issues/new If\n",
       "you are using a REPL, use <span style=\"color: #0011aa; text-decoration-color: #0011aa; background-color: #ffffff\">www</span><span style=\"color: #783114; text-decoration-color: #783114; background-color: #ffffff\">(</span><span style=\"color: #8b008b; text-decoration-color: #8b008b; background-color: #ffffff\">'bug'</span><span style=\"color: #783114; text-decoration-color: #783114; background-color: #ffffff\">)</span> to do so.                        \n",
       "\n",
       "If you are using the Friendly console, use <span style=\"color: #0011aa; text-decoration-color: #0011aa; background-color: #ffffff\">www</span><span style=\"color: #783114; text-decoration-color: #783114; background-color: #ffffff\">()</span> to do an Internet    \n",
       "search for this particular case.                                      \n",
       "</pre></div>"
      ],
      "text/plain": [
       "No information is known about this exception. Please report this      \n",
       "example to                                                            \n",
       "https://github.com/friendly-traceback/friendly-traceback/issues/new If\n",
       "you are using a REPL, use \u001b[38;2;0;17;170;48;2;255;255;255mwww\u001b[0m\u001b[38;2;120;49;20;48;2;255;255;255m(\u001b[0m\u001b[38;2;139;0;139;48;2;255;255;255m'\u001b[0m\u001b[38;2;139;0;139;48;2;255;255;255mbug\u001b[0m\u001b[38;2;139;0;139;48;2;255;255;255m'\u001b[0m\u001b[38;2;120;49;20;48;2;255;255;255m)\u001b[0m to do so.                        \n",
       "\n",
       "If you are using the Friendly console, use \u001b[38;2;0;17;170;48;2;255;255;255mwww\u001b[0m\u001b[38;2;120;49;20;48;2;255;255;255m(\u001b[0m\u001b[38;2;120;49;20;48;2;255;255;255m)\u001b[0m to do an Internet    \n",
       "search for this particular case.                                      \n"
      ]
     },
     "metadata": {},
     "output_type": "display_data"
    },
    {
     "data": {
      "text/html": [
       "<script type=\"text/Javascript\"> function toggle_where5(){\n",
       "     var content = document.getElementById('friendly-tb-where-content5');\n",
       "     var btn = document.getElementById('friendly-tb-btn-show-where5');\n",
       "        if (content.style.display === 'none') {\n",
       "            content.style.display = 'block';\n",
       "            btn.textContent = \"Hide where()\";\n",
       "        } else {\n",
       "            content.style.display = 'none';\n",
       "            btn.textContent = \"where()\";\n",
       "       }\n",
       "    }\n",
       "     </script>\n",
       "     <button\n",
       "         id='friendly-tb-btn-show-where5'\n",
       "         onclick='toggle_where5()'\n",
       "         style='display:none '>\n",
       "     where()\n",
       "     </button>\n",
       "    "
      ]
     },
     "metadata": {},
     "output_type": "display_data"
    },
    {
     "data": {
      "text/html": [
       "<div id='friendly-tb-where-content5' style='display:none'><pre style='white-space:pre;overflow-x:auto;line-height:normal'><span style=\"color: #dd0000; text-decoration-color: #dd0000\">Exception raised on line 7 of code block </span><span style=\"color: #783114; text-decoration-color: #783114; background-color: #ffffff\">[</span><span style=\"color: #101010; text-decoration-color: #101010; background-color: #ffffff\">53</span><span style=\"color: #783114; text-decoration-color: #783114; background-color: #ffffff\">]</span><span style=\"color: #dd0000; text-decoration-color: #dd0000\">.</span>                                                      \n",
       "\n",
       "<span style=\"color: #101010; text-decoration-color: #101010; background-color: #ffffff\">       4</span><span style=\"color: #783114; text-decoration-color: #783114; background-color: #ffffff\">:</span><span style=\"color: #101010; text-decoration-color: #101010; background-color: #ffffff\"> </span><span style=\"color: #0011aa; text-decoration-color: #0011aa; background-color: #ffffff\">filenames</span><span style=\"color: #101010; text-decoration-color: #101010; background-color: #ffffff\"> </span><span style=\"color: #783114; text-decoration-color: #783114; background-color: #ffffff\">=</span><span style=\"color: #101010; text-decoration-color: #101010; background-color: #ffffff\"> </span><span style=\"color: #0011aa; text-decoration-color: #0011aa; background-color: #ffffff\">glob</span><span style=\"color: #783114; text-decoration-color: #783114; background-color: #ffffff\">.</span><span style=\"color: #0011aa; text-decoration-color: #0011aa; background-color: #ffffff\">glob</span><span style=\"color: #783114; text-decoration-color: #783114; background-color: #ffffff\">(</span><span style=\"color: #8b008b; text-decoration-color: #8b008b; background-color: #ffffff\">'/etc/*.conf'</span><span style=\"color: #783114; text-decoration-color: #783114; background-color: #ffffff\">)</span><span style=\"background-color: #ffffff\">                                                      </span>\n",
       "<span style=\"color: #101010; text-decoration-color: #101010; background-color: #ffffff\">       5</span><span style=\"color: #783114; text-decoration-color: #783114; background-color: #ffffff\">:</span><span style=\"color: #101010; text-decoration-color: #101010; background-color: #ffffff\"> </span><span style=\"color: #005500; text-decoration-color: #005500; background-color: #ffffff\">print</span><span style=\"color: #783114; text-decoration-color: #783114; background-color: #ffffff\">(</span><span style=\"color: #8b008b; text-decoration-color: #8b008b; background-color: #ffffff\">f'There are {</span><span style=\"color: #005500; text-decoration-color: #005500; background-color: #ffffff\">len</span><span style=\"color: #783114; text-decoration-color: #783114; background-color: #ffffff\">(</span><span style=\"color: #0011aa; text-decoration-color: #0011aa; background-color: #ffffff\">filenames</span><span style=\"color: #783114; text-decoration-color: #783114; background-color: #ffffff\">)</span><span style=\"color: #8b008b; text-decoration-color: #8b008b; background-color: #ffffff\">} files in the current directory'</span><span style=\"color: #783114; text-decoration-color: #783114; background-color: #ffffff\">)</span><span style=\"background-color: #ffffff\">                       </span>\n",
       "<span style=\"color: #101010; text-decoration-color: #101010; background-color: #ffffff\">       6</span><span style=\"color: #783114; text-decoration-color: #783114; background-color: #ffffff\">:</span><span style=\"color: #101010; text-decoration-color: #101010; background-color: #ffffff\"> </span><span style=\"color: #005500; text-decoration-color: #005500; background-color: #ffffff\">for</span><span style=\"color: #101010; text-decoration-color: #101010; background-color: #ffffff\"> </span><span style=\"color: #0011aa; text-decoration-color: #0011aa; background-color: #ffffff\">one_filename</span><span style=\"color: #101010; text-decoration-color: #101010; background-color: #ffffff\"> </span><span style=\"color: #005500; text-decoration-color: #005500; background-color: #ffffff\">in</span><span style=\"color: #101010; text-decoration-color: #101010; background-color: #ffffff\"> </span><span style=\"color: #0011aa; text-decoration-color: #0011aa; background-color: #ffffff\">filenames</span><span style=\"color: #783114; text-decoration-color: #783114; background-color: #ffffff\">:</span><span style=\"color: #101010; text-decoration-color: #101010; background-color: #ffffff\">    </span><span style=\"color: #808080; text-decoration-color: #808080; background-color: #ffffff\"># go through each filename in the current directory</span><span style=\"background-color: #ffffff\">     </span>\n",
       "<span style=\"color: #101010; text-decoration-color: #101010; background-color: #ffffff\">    </span><span style=\"color: #783114; text-decoration-color: #783114; background-color: #ffffff\">--&gt;</span><span style=\"color: #101010; text-decoration-color: #101010; background-color: #ffffff\">7</span><span style=\"color: #783114; text-decoration-color: #783114; background-color: #ffffff\">:</span><span style=\"color: #101010; text-decoration-color: #101010; background-color: #ffffff\">     </span><span style=\"color: #005500; text-decoration-color: #005500; background-color: #ffffff\">for</span><span style=\"color: #101010; text-decoration-color: #101010; background-color: #ffffff\"> </span><span style=\"color: #0011aa; text-decoration-color: #0011aa; background-color: #ffffff\">one_line</span><span style=\"color: #101010; text-decoration-color: #101010; background-color: #ffffff\"> </span><span style=\"color: #005500; text-decoration-color: #005500; background-color: #ffffff\">in</span><span style=\"color: #101010; text-decoration-color: #101010; background-color: #ffffff\"> </span><span style=\"color: #005500; text-decoration-color: #005500; background-color: #ffffff\">open</span><span style=\"color: #783114; text-decoration-color: #783114; background-color: #ffffff\">(</span><span style=\"color: #0011aa; text-decoration-color: #0011aa; background-color: #ffffff\">one_filename</span><span style=\"color: #783114; text-decoration-color: #783114; background-color: #ffffff\">):</span><span style=\"color: #101010; text-decoration-color: #101010; background-color: #ffffff\">    </span><span style=\"color: #808080; text-decoration-color: #808080; background-color: #ffffff\"># go through each line in each file</span><span style=\"background-color: #ffffff\">            </span>\n",
       "<span style=\"color: #101010; text-decoration-color: #101010; background-color: #ffffff\">                              </span><span style=\"color: #783114; text-decoration-color: #783114; background-color: #ffffff\">^^^^^^^^^^^^^^^^^^</span><span style=\"background-color: #ffffff\">                                                    </span>\n",
       "<span style=\"color: #101010; text-decoration-color: #101010; background-color: #ffffff\">       8</span><span style=\"color: #783114; text-decoration-color: #783114; background-color: #ffffff\">:</span><span style=\"color: #101010; text-decoration-color: #101010; background-color: #ffffff\">         </span><span style=\"color: #0011aa; text-decoration-color: #0011aa; background-color: #ffffff\">n</span><span style=\"color: #101010; text-decoration-color: #101010; background-color: #ffffff\"> </span><span style=\"color: #783114; text-decoration-color: #783114; background-color: #ffffff\">=</span><span style=\"color: #101010; text-decoration-color: #101010; background-color: #ffffff\"> </span><span style=\"color: #0011aa; text-decoration-color: #0011aa; background-color: #ffffff\">random</span><span style=\"color: #783114; text-decoration-color: #783114; background-color: #ffffff\">.</span><span style=\"color: #0011aa; text-decoration-color: #0011aa; background-color: #ffffff\">randint</span><span style=\"color: #783114; text-decoration-color: #783114; background-color: #ffffff\">(</span><span style=\"color: #101010; text-decoration-color: #101010; background-color: #ffffff\">0</span><span style=\"color: #783114; text-decoration-color: #783114; background-color: #ffffff\">,</span><span style=\"color: #101010; text-decoration-color: #101010; background-color: #ffffff\"> </span><span style=\"color: #005500; text-decoration-color: #005500; background-color: #ffffff\">len</span><span style=\"color: #783114; text-decoration-color: #783114; background-color: #ffffff\">(</span><span style=\"color: #0011aa; text-decoration-color: #0011aa; background-color: #ffffff\">one_line</span><span style=\"color: #783114; text-decoration-color: #783114; background-color: #ffffff\">)-</span><span style=\"color: #101010; text-decoration-color: #101010; background-color: #ffffff\">1</span><span style=\"color: #783114; text-decoration-color: #783114; background-color: #ffffff\">)</span><span style=\"color: #101010; text-decoration-color: #101010; background-color: #ffffff\">  </span><span style=\"color: #808080; text-decoration-color: #808080; background-color: #ffffff\"># get a character index for the current </span><span style=\"background-color: #ffffff\">  </span>\n",
       "<span style=\"color: #808080; text-decoration-color: #808080; background-color: #ffffff\">line</span><span style=\"background-color: #ffffff\">                                                                                                </span>\n",
       "\n",
       "<span style=\"color: #101010; text-decoration-color: #101010; background-color: #ffffff\">    </span><span style=\"color: #0011aa; text-decoration-color: #0011aa; background-color: #ffffff\">one_filename</span><span style=\"color: #783114; text-decoration-color: #783114; background-color: #ffffff\">:</span><span style=\"color: #101010; text-decoration-color: #101010; background-color: #ffffff\">  </span><span style=\"color: #8b008b; text-decoration-color: #8b008b; background-color: #ffffff\">'/etc/AFP.conf'</span><span style=\"background-color: #ffffff\">                                                                  </span>\n",
       "<span style=\"color: #101010; text-decoration-color: #101010; background-color: #ffffff\">    </span><span style=\"color: #005500; text-decoration-color: #005500; background-color: #ffffff\">open</span><span style=\"color: #783114; text-decoration-color: #783114; background-color: #ffffff\">:</span><span style=\"color: #101010; text-decoration-color: #101010; background-color: #ffffff\">  </span><span style=\"color: #783114; text-decoration-color: #783114; background-color: #ffffff\">&lt;</span><span style=\"color: #0011aa; text-decoration-color: #0011aa; background-color: #ffffff\">builtin</span><span style=\"color: #101010; text-decoration-color: #101010; background-color: #ffffff\"> </span><span style=\"color: #0011aa; text-decoration-color: #0011aa; background-color: #ffffff\">function</span><span style=\"color: #101010; text-decoration-color: #101010; background-color: #ffffff\"> </span><span style=\"color: #005500; text-decoration-color: #005500; background-color: #ffffff\">open</span><span style=\"color: #783114; text-decoration-color: #783114; background-color: #ffffff\">&gt;</span><span style=\"background-color: #ffffff\">                                                                  </span>\n",
       "</pre></div>"
      ],
      "text/plain": [
       "\u001b[38;2;221;0;0mException raised on line 7 of code block \u001b[0m\u001b[38;2;120;49;20;48;2;255;255;255m[\u001b[0m\u001b[38;2;16;16;16;48;2;255;255;255m53\u001b[0m\u001b[38;2;120;49;20;48;2;255;255;255m]\u001b[0m\u001b[38;2;221;0;0m.\u001b[0m                                                      \n",
       "\n",
       "\u001b[38;2;16;16;16;48;2;255;255;255m       \u001b[0m\u001b[38;2;16;16;16;48;2;255;255;255m4\u001b[0m\u001b[38;2;120;49;20;48;2;255;255;255m:\u001b[0m\u001b[38;2;16;16;16;48;2;255;255;255m \u001b[0m\u001b[38;2;0;17;170;48;2;255;255;255mfilenames\u001b[0m\u001b[38;2;16;16;16;48;2;255;255;255m \u001b[0m\u001b[38;2;120;49;20;48;2;255;255;255m=\u001b[0m\u001b[38;2;16;16;16;48;2;255;255;255m \u001b[0m\u001b[38;2;0;17;170;48;2;255;255;255mglob\u001b[0m\u001b[38;2;120;49;20;48;2;255;255;255m.\u001b[0m\u001b[38;2;0;17;170;48;2;255;255;255mglob\u001b[0m\u001b[38;2;120;49;20;48;2;255;255;255m(\u001b[0m\u001b[38;2;139;0;139;48;2;255;255;255m'\u001b[0m\u001b[38;2;139;0;139;48;2;255;255;255m/etc/*.conf\u001b[0m\u001b[38;2;139;0;139;48;2;255;255;255m'\u001b[0m\u001b[38;2;120;49;20;48;2;255;255;255m)\u001b[0m\u001b[48;2;255;255;255m                                                      \u001b[0m\n",
       "\u001b[38;2;16;16;16;48;2;255;255;255m       \u001b[0m\u001b[38;2;16;16;16;48;2;255;255;255m5\u001b[0m\u001b[38;2;120;49;20;48;2;255;255;255m:\u001b[0m\u001b[38;2;16;16;16;48;2;255;255;255m \u001b[0m\u001b[38;2;0;85;0;48;2;255;255;255mprint\u001b[0m\u001b[38;2;120;49;20;48;2;255;255;255m(\u001b[0m\u001b[38;2;139;0;139;48;2;255;255;255mf\u001b[0m\u001b[38;2;139;0;139;48;2;255;255;255m'\u001b[0m\u001b[38;2;139;0;139;48;2;255;255;255mThere are \u001b[0m\u001b[38;2;139;0;139;48;2;255;255;255m{\u001b[0m\u001b[38;2;0;85;0;48;2;255;255;255mlen\u001b[0m\u001b[38;2;120;49;20;48;2;255;255;255m(\u001b[0m\u001b[38;2;0;17;170;48;2;255;255;255mfilenames\u001b[0m\u001b[38;2;120;49;20;48;2;255;255;255m)\u001b[0m\u001b[38;2;139;0;139;48;2;255;255;255m}\u001b[0m\u001b[38;2;139;0;139;48;2;255;255;255m files in the current directory\u001b[0m\u001b[38;2;139;0;139;48;2;255;255;255m'\u001b[0m\u001b[38;2;120;49;20;48;2;255;255;255m)\u001b[0m\u001b[48;2;255;255;255m                       \u001b[0m\n",
       "\u001b[38;2;16;16;16;48;2;255;255;255m       \u001b[0m\u001b[38;2;16;16;16;48;2;255;255;255m6\u001b[0m\u001b[38;2;120;49;20;48;2;255;255;255m:\u001b[0m\u001b[38;2;16;16;16;48;2;255;255;255m \u001b[0m\u001b[38;2;0;85;0;48;2;255;255;255mfor\u001b[0m\u001b[38;2;16;16;16;48;2;255;255;255m \u001b[0m\u001b[38;2;0;17;170;48;2;255;255;255mone_filename\u001b[0m\u001b[38;2;16;16;16;48;2;255;255;255m \u001b[0m\u001b[38;2;0;85;0;48;2;255;255;255min\u001b[0m\u001b[38;2;16;16;16;48;2;255;255;255m \u001b[0m\u001b[38;2;0;17;170;48;2;255;255;255mfilenames\u001b[0m\u001b[38;2;120;49;20;48;2;255;255;255m:\u001b[0m\u001b[38;2;16;16;16;48;2;255;255;255m    \u001b[0m\u001b[38;2;128;128;128;48;2;255;255;255m# go through each filename in the current directory\u001b[0m\u001b[48;2;255;255;255m     \u001b[0m\n",
       "\u001b[38;2;16;16;16;48;2;255;255;255m    \u001b[0m\u001b[38;2;120;49;20;48;2;255;255;255m-\u001b[0m\u001b[38;2;120;49;20;48;2;255;255;255m-\u001b[0m\u001b[38;2;120;49;20;48;2;255;255;255m>\u001b[0m\u001b[38;2;16;16;16;48;2;255;255;255m7\u001b[0m\u001b[38;2;120;49;20;48;2;255;255;255m:\u001b[0m\u001b[38;2;16;16;16;48;2;255;255;255m     \u001b[0m\u001b[38;2;0;85;0;48;2;255;255;255mfor\u001b[0m\u001b[38;2;16;16;16;48;2;255;255;255m \u001b[0m\u001b[38;2;0;17;170;48;2;255;255;255mone_line\u001b[0m\u001b[38;2;16;16;16;48;2;255;255;255m \u001b[0m\u001b[38;2;0;85;0;48;2;255;255;255min\u001b[0m\u001b[38;2;16;16;16;48;2;255;255;255m \u001b[0m\u001b[38;2;0;85;0;48;2;255;255;255mopen\u001b[0m\u001b[38;2;120;49;20;48;2;255;255;255m(\u001b[0m\u001b[38;2;0;17;170;48;2;255;255;255mone_filename\u001b[0m\u001b[38;2;120;49;20;48;2;255;255;255m)\u001b[0m\u001b[38;2;120;49;20;48;2;255;255;255m:\u001b[0m\u001b[38;2;16;16;16;48;2;255;255;255m    \u001b[0m\u001b[38;2;128;128;128;48;2;255;255;255m# go through each line in each file\u001b[0m\u001b[48;2;255;255;255m            \u001b[0m\n",
       "\u001b[38;2;16;16;16;48;2;255;255;255m                              \u001b[0m\u001b[38;2;120;49;20;48;2;255;255;255m^\u001b[0m\u001b[38;2;120;49;20;48;2;255;255;255m^\u001b[0m\u001b[38;2;120;49;20;48;2;255;255;255m^\u001b[0m\u001b[38;2;120;49;20;48;2;255;255;255m^\u001b[0m\u001b[38;2;120;49;20;48;2;255;255;255m^\u001b[0m\u001b[38;2;120;49;20;48;2;255;255;255m^\u001b[0m\u001b[38;2;120;49;20;48;2;255;255;255m^\u001b[0m\u001b[38;2;120;49;20;48;2;255;255;255m^\u001b[0m\u001b[38;2;120;49;20;48;2;255;255;255m^\u001b[0m\u001b[38;2;120;49;20;48;2;255;255;255m^\u001b[0m\u001b[38;2;120;49;20;48;2;255;255;255m^\u001b[0m\u001b[38;2;120;49;20;48;2;255;255;255m^\u001b[0m\u001b[38;2;120;49;20;48;2;255;255;255m^\u001b[0m\u001b[38;2;120;49;20;48;2;255;255;255m^\u001b[0m\u001b[38;2;120;49;20;48;2;255;255;255m^\u001b[0m\u001b[38;2;120;49;20;48;2;255;255;255m^\u001b[0m\u001b[38;2;120;49;20;48;2;255;255;255m^\u001b[0m\u001b[38;2;120;49;20;48;2;255;255;255m^\u001b[0m\u001b[48;2;255;255;255m                                                    \u001b[0m\n",
       "\u001b[38;2;16;16;16;48;2;255;255;255m       \u001b[0m\u001b[38;2;16;16;16;48;2;255;255;255m8\u001b[0m\u001b[38;2;120;49;20;48;2;255;255;255m:\u001b[0m\u001b[38;2;16;16;16;48;2;255;255;255m         \u001b[0m\u001b[38;2;0;17;170;48;2;255;255;255mn\u001b[0m\u001b[38;2;16;16;16;48;2;255;255;255m \u001b[0m\u001b[38;2;120;49;20;48;2;255;255;255m=\u001b[0m\u001b[38;2;16;16;16;48;2;255;255;255m \u001b[0m\u001b[38;2;0;17;170;48;2;255;255;255mrandom\u001b[0m\u001b[38;2;120;49;20;48;2;255;255;255m.\u001b[0m\u001b[38;2;0;17;170;48;2;255;255;255mrandint\u001b[0m\u001b[38;2;120;49;20;48;2;255;255;255m(\u001b[0m\u001b[38;2;16;16;16;48;2;255;255;255m0\u001b[0m\u001b[38;2;120;49;20;48;2;255;255;255m,\u001b[0m\u001b[38;2;16;16;16;48;2;255;255;255m \u001b[0m\u001b[38;2;0;85;0;48;2;255;255;255mlen\u001b[0m\u001b[38;2;120;49;20;48;2;255;255;255m(\u001b[0m\u001b[38;2;0;17;170;48;2;255;255;255mone_line\u001b[0m\u001b[38;2;120;49;20;48;2;255;255;255m)\u001b[0m\u001b[38;2;120;49;20;48;2;255;255;255m-\u001b[0m\u001b[38;2;16;16;16;48;2;255;255;255m1\u001b[0m\u001b[38;2;120;49;20;48;2;255;255;255m)\u001b[0m\u001b[38;2;16;16;16;48;2;255;255;255m  \u001b[0m\u001b[38;2;128;128;128;48;2;255;255;255m# get a character index for the current \u001b[0m\u001b[48;2;255;255;255m  \u001b[0m\n",
       "\u001b[38;2;128;128;128;48;2;255;255;255mline\u001b[0m\u001b[48;2;255;255;255m                                                                                                \u001b[0m\n",
       "\n",
       "\u001b[38;2;16;16;16;48;2;255;255;255m    \u001b[0m\u001b[38;2;0;17;170;48;2;255;255;255mone_filename\u001b[0m\u001b[38;2;120;49;20;48;2;255;255;255m:\u001b[0m\u001b[38;2;16;16;16;48;2;255;255;255m  \u001b[0m\u001b[38;2;139;0;139;48;2;255;255;255m'\u001b[0m\u001b[38;2;139;0;139;48;2;255;255;255m/etc/AFP.conf\u001b[0m\u001b[38;2;139;0;139;48;2;255;255;255m'\u001b[0m\u001b[48;2;255;255;255m                                                                  \u001b[0m\n",
       "\u001b[38;2;16;16;16;48;2;255;255;255m    \u001b[0m\u001b[38;2;0;85;0;48;2;255;255;255mopen\u001b[0m\u001b[38;2;120;49;20;48;2;255;255;255m:\u001b[0m\u001b[38;2;16;16;16;48;2;255;255;255m  \u001b[0m\u001b[38;2;120;49;20;48;2;255;255;255m<\u001b[0m\u001b[38;2;0;17;170;48;2;255;255;255mbuiltin\u001b[0m\u001b[38;2;16;16;16;48;2;255;255;255m \u001b[0m\u001b[38;2;0;17;170;48;2;255;255;255mfunction\u001b[0m\u001b[38;2;16;16;16;48;2;255;255;255m \u001b[0m\u001b[38;2;0;85;0;48;2;255;255;255mopen\u001b[0m\u001b[38;2;120;49;20;48;2;255;255;255m>\u001b[0m\u001b[48;2;255;255;255m                                                                  \u001b[0m\n"
      ]
     },
     "metadata": {},
     "output_type": "display_data"
    }
   ],
   "source": [
    "import glob\n",
    "import random\n",
    "\n",
    "filenames = glob.glob('/etc/*.conf')\n",
    "print(f'There are {len(filenames)} files in the current directory')\n",
    "for one_filename in filenames:    # go through each filename in the current directory\n",
    "    for one_line in open(one_filename):    # go through each line in each file\n",
    "        n = random.randint(0, len(one_line)-1)  # get a character index for the current line\n",
    "        print(f'{one_filename}\\t{n}\\t{one_line[n]}')"
   ]
  },
  {
   "cell_type": "code",
   "execution_count": 54,
   "id": "5b28a497",
   "metadata": {},
   "outputs": [
    {
     "data": {
      "text/html": [
       "<pre style='white-space:pre;overflow-x:auto;line-height:normal'><span style=\"color: #008080; text-decoration-color: #008080; font-weight: bold\">83</span>\n",
       "</pre>"
      ],
      "text/plain": [
       "\u001b[1;36m83\u001b[0m\n"
      ]
     },
     "metadata": {},
     "output_type": "display_data"
    }
   ],
   "source": [
    "import random\n",
    "random.randint(0, 100)  "
   ]
  },
  {
   "cell_type": "code",
   "execution_count": 55,
   "id": "cb3843ca",
   "metadata": {},
   "outputs": [
    {
     "data": {
      "text/html": [
       "<pre style='white-space:pre;overflow-x:auto;line-height:normal'><span style=\"color: #008080; text-decoration-color: #008080; font-weight: bold\">8</span>\n",
       "</pre>"
      ],
      "text/plain": [
       "\u001b[1;36m8\u001b[0m\n"
      ]
     },
     "metadata": {},
     "output_type": "display_data"
    }
   ],
   "source": [
    "random.randint(0, 50)"
   ]
  },
  {
   "cell_type": "code",
   "execution_count": 57,
   "id": "71922771",
   "metadata": {},
   "outputs": [
    {
     "data": {
      "text/html": [
       "<div id='friendly-message6'><pre style='white-space:pre;overflow-x:auto;line-height:normal'><span style=\"color: #dd0000; text-decoration-color: #dd0000; background-color: #ffffff\">NameError</span>: name 'randint' is not defined                              \n",
       "</pre></div>"
      ],
      "text/plain": [
       "\u001b[38;2;221;0;0;48;2;255;255;255mNameError\u001b[0m: name 'randint' is not defined                              \n"
      ]
     },
     "metadata": {},
     "output_type": "display_data"
    },
    {
     "data": {
      "text/html": [
       "\n",
       "        <button\n",
       "            id='friendly-tb-btn-show6'\n",
       "            onclick='friendly_toggle_more6()'\n",
       "            style=''>\n",
       "        More ...\n",
       "        </button>\n",
       "        <script type=\"text/Javascript\"> function friendly_toggle_more6(){\n",
       "        var btn = document.getElementById('friendly-tb-btn-show6');\n",
       "        var btn_what = document.getElementById('friendly-tb-btn-show-what6');\n",
       "        var btn_where = document.getElementById('friendly-tb-btn-show-where6');\n",
       "        var btn_why = document.getElementById('friendly-tb-btn-show-why6');\n",
       "        var message = document.getElementById('friendly-message6');\n",
       "        var friendly_tb_content = document.getElementById('friendly-tb-friendly_tb-content6');\n",
       "        var what_content = document.getElementById('friendly-tb-what-content6');\n",
       "        var why_content = document.getElementById('friendly-tb-why-content6');\n",
       "        var where_content = document.getElementById('friendly-tb-where-content6');\n",
       "\n",
       "        if (btn_what.style.display == 'none'){\n",
       "            message.style.display = 'none';\n",
       "            btn_what.style.display = 'block';\n",
       "            btn_why.style.display = 'block';\n",
       "            btn_where.style.display = 'block';\n",
       "            friendly_tb_content.style.display = 'block';\n",
       "            btn.textContent = \"Show message only\";\n",
       "        } else {\n",
       "            btn_what.style.display = 'none';\n",
       "            btn_what.textContent = 'what()';\n",
       "            btn_why.style.display = 'none';\n",
       "            btn_why.textContent = 'why()';\n",
       "            btn_where.style.display = 'none';\n",
       "            btn_where.textContent = 'where()';\n",
       "            what_content.style.display = 'none';\n",
       "            why_content.style.display = 'none';\n",
       "            where_content.style.display = 'none';\n",
       "            friendly_tb_content.style.display = 'none';\n",
       "            message.style.display = 'block';\n",
       "            btn.textContent = \"More ...\";\n",
       "        }\n",
       "        };\n",
       "        </script>\n",
       "        "
      ]
     },
     "metadata": {},
     "output_type": "display_data"
    },
    {
     "data": {
      "text/html": [
       "<div id='friendly-tb-friendly_tb-content6' style='display:none'><pre style='white-space:pre;overflow-x:auto;line-height:normal'><span style=\"color: #dd0000; text-decoration-color: #dd0000; background-color: #ffffff\">Traceback (most recent call last):</span><span style=\"background-color: #ffffff\">                                                                  </span>\n",
       "<span style=\"color: #101010; text-decoration-color: #101010; background-color: #ffffff\">  Code block </span><span style=\"color: #783114; text-decoration-color: #783114; background-color: #ffffff\">[</span><span style=\"color: #101010; text-decoration-color: #101010; background-color: #ffffff\">57</span><span style=\"color: #783114; text-decoration-color: #783114; background-color: #ffffff\">]</span><span style=\"color: #101010; text-decoration-color: #101010; background-color: #ffffff\">, line 4, in </span><span style=\"color: #0011aa; text-decoration-color: #0011aa; background-color: #ffffff\">&lt;module&gt;</span><span style=\"background-color: #ffffff\">                                                              </span>\n",
       "<span style=\"color: #101010; text-decoration-color: #101010; background-color: #ffffff\">    </span><span style=\"color: #0011aa; text-decoration-color: #0011aa; background-color: #ffffff\">randint</span><span style=\"color: #783114; text-decoration-color: #783114; background-color: #ffffff\">(</span><span style=\"color: #101010; text-decoration-color: #101010; background-color: #ffffff\">0</span><span style=\"color: #783114; text-decoration-color: #783114; background-color: #ffffff\">,</span><span style=\"color: #101010; text-decoration-color: #101010; background-color: #ffffff\"> 100</span><span style=\"color: #783114; text-decoration-color: #783114; background-color: #ffffff\">)</span><span style=\"background-color: #ffffff\">                                                                                 </span>\n",
       "<span style=\"color: #dd0000; text-decoration-color: #dd0000; background-color: #ffffff\">NameError</span><span style=\"color: #101010; text-decoration-color: #101010; background-color: #ffffff\">: </span><span style=\"color: #0011aa; text-decoration-color: #0011aa; background-color: #ffffff\">name 'randint' is not defined</span><span style=\"background-color: #ffffff\">                                                            </span>\n",
       "\n",
       "Did you forget to add <span style=\"color: #0011aa; text-decoration-color: #0011aa; background-color: #ffffff\">random</span><span style=\"color: #783114; text-decoration-color: #783114; background-color: #ffffff\">.</span>?                                                                      \n",
       "</pre></div>"
      ],
      "text/plain": [
       "\u001b[38;2;221;0;0;48;2;255;255;255mTraceback (most recent call last):\u001b[0m\u001b[48;2;255;255;255m                                                                  \u001b[0m\n",
       "\u001b[38;2;16;16;16;48;2;255;255;255m  Code block \u001b[0m\u001b[38;2;120;49;20;48;2;255;255;255m[\u001b[0m\u001b[38;2;16;16;16;48;2;255;255;255m57\u001b[0m\u001b[38;2;120;49;20;48;2;255;255;255m]\u001b[0m\u001b[38;2;16;16;16;48;2;255;255;255m, line \u001b[0m\u001b[38;2;16;16;16;48;2;255;255;255m4\u001b[0m\u001b[38;2;16;16;16;48;2;255;255;255m, in \u001b[0m\u001b[38;2;0;17;170;48;2;255;255;255m<module>\u001b[0m\u001b[48;2;255;255;255m                                                              \u001b[0m\n",
       "\u001b[38;2;16;16;16;48;2;255;255;255m    \u001b[0m\u001b[38;2;0;17;170;48;2;255;255;255mrandint\u001b[0m\u001b[38;2;120;49;20;48;2;255;255;255m(\u001b[0m\u001b[38;2;16;16;16;48;2;255;255;255m0\u001b[0m\u001b[38;2;120;49;20;48;2;255;255;255m,\u001b[0m\u001b[38;2;16;16;16;48;2;255;255;255m \u001b[0m\u001b[38;2;16;16;16;48;2;255;255;255m100\u001b[0m\u001b[38;2;120;49;20;48;2;255;255;255m)\u001b[0m\u001b[48;2;255;255;255m                                                                                 \u001b[0m\n",
       "\u001b[38;2;221;0;0;48;2;255;255;255mNameError\u001b[0m\u001b[38;2;16;16;16;48;2;255;255;255m: \u001b[0m\u001b[38;2;0;17;170;48;2;255;255;255mname 'randint' is not defined\u001b[0m\u001b[48;2;255;255;255m                                                            \u001b[0m\n",
       "\n",
       "Did you forget to add \u001b[38;2;0;17;170;48;2;255;255;255mrandom\u001b[0m\u001b[38;2;120;49;20;48;2;255;255;255m.\u001b[0m?                                                                      \n"
      ]
     },
     "metadata": {},
     "output_type": "display_data"
    },
    {
     "data": {
      "text/html": [
       "<script type=\"text/Javascript\"> function toggle_what6(){\n",
       "     var content = document.getElementById('friendly-tb-what-content6');\n",
       "     var btn = document.getElementById('friendly-tb-btn-show-what6');\n",
       "        if (content.style.display === 'none') {\n",
       "            content.style.display = 'block';\n",
       "            btn.textContent = \"Hide what()\";\n",
       "        } else {\n",
       "            content.style.display = 'none';\n",
       "            btn.textContent = \"what()\";\n",
       "       }\n",
       "    }\n",
       "     </script>\n",
       "     <button\n",
       "         id='friendly-tb-btn-show-what6'\n",
       "         onclick='toggle_what6()'\n",
       "         style='display:none '>\n",
       "     what()\n",
       "     </button>\n",
       "    "
      ]
     },
     "metadata": {},
     "output_type": "display_data"
    },
    {
     "data": {
      "text/html": [
       "<div id='friendly-tb-what-content6' style='display:none'><pre style='white-space:pre;overflow-x:auto;line-height:normal'>A <span style=\"color: #dd0000; text-decoration-color: #dd0000; background-color: #ffffff\">NameError</span> exception indicates that a variable or function name is   \n",
       "not known to Python. Most often, this is because there is a spelling  \n",
       "mistake. However, sometimes it is because the name is used before     \n",
       "being defined or given a value.                                       \n",
       "</pre></div>"
      ],
      "text/plain": [
       "A \u001b[38;2;221;0;0;48;2;255;255;255mNameError\u001b[0m exception indicates that a variable or function name is   \n",
       "not known to Python. Most often, this is because there is a spelling  \n",
       "mistake. However, sometimes it is because the name is used before     \n",
       "being defined or given a value.                                       \n"
      ]
     },
     "metadata": {},
     "output_type": "display_data"
    },
    {
     "data": {
      "text/html": [
       "<script type=\"text/Javascript\"> function toggle_why6(){\n",
       "     var content = document.getElementById('friendly-tb-why-content6');\n",
       "     var btn = document.getElementById('friendly-tb-btn-show-why6');\n",
       "        if (content.style.display === 'none') {\n",
       "            content.style.display = 'block';\n",
       "            btn.textContent = \"Hide why()\";\n",
       "        } else {\n",
       "            content.style.display = 'none';\n",
       "            btn.textContent = \"why()\";\n",
       "       }\n",
       "    }\n",
       "     </script>\n",
       "     <button\n",
       "         id='friendly-tb-btn-show-why6'\n",
       "         onclick='toggle_why6()'\n",
       "         style='display:none '>\n",
       "     why()\n",
       "     </button>\n",
       "    "
      ]
     },
     "metadata": {},
     "output_type": "display_data"
    },
    {
     "data": {
      "text/html": [
       "<div id='friendly-tb-why-content6' style='display:none'><pre style='white-space:pre;overflow-x:auto;line-height:normal'>In your program, no object with the name <span style=\"color: #0011aa; text-decoration-color: #0011aa; background-color: #ffffff\">randint</span> exists.              \n",
       "\n",
       "The local object <span style=\"color: #0011aa; text-decoration-color: #0011aa; background-color: #ffffff\">random</span> has an attribute named <span style=\"color: #0011aa; text-decoration-color: #0011aa; background-color: #ffffff\">randint</span>. Perhaps you   \n",
       "should have written <span style=\"color: #0011aa; text-decoration-color: #0011aa; background-color: #ffffff\">random</span><span style=\"color: #783114; text-decoration-color: #783114; background-color: #ffffff\">.</span><span style=\"color: #0011aa; text-decoration-color: #0011aa; background-color: #ffffff\">randint</span> instead of <span style=\"color: #0011aa; text-decoration-color: #0011aa; background-color: #ffffff\">randint</span>.                \n",
       "\n",
       "<span style=\"color: #0011aa; text-decoration-color: #0011aa; background-color: #ffffff\">randint</span> is a name found in module <span style=\"color: #0011aa; text-decoration-color: #0011aa; background-color: #ffffff\">random</span>. Perhaps you forgot to write \n",
       "\n",
       "<span style=\"color: #005500; text-decoration-color: #005500; background-color: #ffffff\">from</span><span style=\"color: #101010; text-decoration-color: #101010; background-color: #ffffff\"> </span><span style=\"color: #0011aa; text-decoration-color: #0011aa; background-color: #ffffff\">random</span><span style=\"color: #101010; text-decoration-color: #101010; background-color: #ffffff\"> </span><span style=\"color: #005500; text-decoration-color: #005500; background-color: #ffffff\">import</span><span style=\"color: #101010; text-decoration-color: #101010; background-color: #ffffff\"> </span><span style=\"color: #0011aa; text-decoration-color: #0011aa; background-color: #ffffff\">randint</span><span style=\"background-color: #ffffff\">                                            </span>\n",
       "</pre></div>"
      ],
      "text/plain": [
       "In your program, no object with the name \u001b[38;2;0;17;170;48;2;255;255;255mrandint\u001b[0m exists.              \n",
       "\n",
       "The local object \u001b[38;2;0;17;170;48;2;255;255;255mrandom\u001b[0m has an attribute named \u001b[38;2;0;17;170;48;2;255;255;255mrandint\u001b[0m. Perhaps you   \n",
       "should have written \u001b[38;2;0;17;170;48;2;255;255;255mrandom\u001b[0m\u001b[38;2;120;49;20;48;2;255;255;255m.\u001b[0m\u001b[38;2;0;17;170;48;2;255;255;255mrandint\u001b[0m instead of \u001b[38;2;0;17;170;48;2;255;255;255mrandint\u001b[0m.                \n",
       "\n",
       "\u001b[38;2;0;17;170;48;2;255;255;255mrandint\u001b[0m is a name found in module \u001b[38;2;0;17;170;48;2;255;255;255mrandom\u001b[0m. Perhaps you forgot to write \n",
       "\n",
       "\u001b[38;2;0;85;0;48;2;255;255;255mfrom\u001b[0m\u001b[38;2;16;16;16;48;2;255;255;255m \u001b[0m\u001b[38;2;0;17;170;48;2;255;255;255mrandom\u001b[0m\u001b[38;2;16;16;16;48;2;255;255;255m \u001b[0m\u001b[38;2;0;85;0;48;2;255;255;255mimport\u001b[0m\u001b[38;2;16;16;16;48;2;255;255;255m \u001b[0m\u001b[38;2;0;17;170;48;2;255;255;255mrandint\u001b[0m\u001b[48;2;255;255;255m                                            \u001b[0m\n"
      ]
     },
     "metadata": {},
     "output_type": "display_data"
    },
    {
     "data": {
      "text/html": [
       "<script type=\"text/Javascript\"> function toggle_where6(){\n",
       "     var content = document.getElementById('friendly-tb-where-content6');\n",
       "     var btn = document.getElementById('friendly-tb-btn-show-where6');\n",
       "        if (content.style.display === 'none') {\n",
       "            content.style.display = 'block';\n",
       "            btn.textContent = \"Hide where()\";\n",
       "        } else {\n",
       "            content.style.display = 'none';\n",
       "            btn.textContent = \"where()\";\n",
       "       }\n",
       "    }\n",
       "     </script>\n",
       "     <button\n",
       "         id='friendly-tb-btn-show-where6'\n",
       "         onclick='toggle_where6()'\n",
       "         style='display:none '>\n",
       "     where()\n",
       "     </button>\n",
       "    "
      ]
     },
     "metadata": {},
     "output_type": "display_data"
    },
    {
     "data": {
      "text/html": [
       "<div id='friendly-tb-where-content6' style='display:none'><pre style='white-space:pre;overflow-x:auto;line-height:normal'><span style=\"color: #dd0000; text-decoration-color: #dd0000\">Exception raised on line 4 of code block </span><span style=\"color: #783114; text-decoration-color: #783114; background-color: #ffffff\">[</span><span style=\"color: #101010; text-decoration-color: #101010; background-color: #ffffff\">57</span><span style=\"color: #783114; text-decoration-color: #783114; background-color: #ffffff\">]</span><span style=\"color: #dd0000; text-decoration-color: #dd0000\">.</span>                                                      \n",
       "\n",
       "<span style=\"color: #101010; text-decoration-color: #101010; background-color: #ffffff\">       1</span><span style=\"color: #783114; text-decoration-color: #783114; background-color: #ffffff\">:</span><span style=\"color: #101010; text-decoration-color: #101010; background-color: #ffffff\"> </span><span style=\"color: #808080; text-decoration-color: #808080; background-color: #ffffff\"># Isn't it a pain to always say random.randint?</span><span style=\"background-color: #ffffff\">                                           </span>\n",
       "<span style=\"color: #101010; text-decoration-color: #101010; background-color: #ffffff\">       2</span><span style=\"color: #783114; text-decoration-color: #783114; background-color: #ffffff\">:</span><span style=\"color: #101010; text-decoration-color: #101010; background-color: #ffffff\"> </span><span style=\"color: #808080; text-decoration-color: #808080; background-color: #ffffff\"># wouldn't it be nice if I could just say randint(0, 100)?</span><span style=\"background-color: #ffffff\">                                </span>\n",
       "<span style=\"color: #101010; text-decoration-color: #101010; background-color: #ffffff\">    </span><span style=\"color: #783114; text-decoration-color: #783114; background-color: #ffffff\">--&gt;</span><span style=\"color: #101010; text-decoration-color: #101010; background-color: #ffffff\">4</span><span style=\"color: #783114; text-decoration-color: #783114; background-color: #ffffff\">:</span><span style=\"color: #101010; text-decoration-color: #101010; background-color: #ffffff\"> </span><span style=\"color: #0011aa; text-decoration-color: #0011aa; background-color: #ffffff\">randint</span><span style=\"color: #783114; text-decoration-color: #783114; background-color: #ffffff\">(</span><span style=\"color: #101010; text-decoration-color: #101010; background-color: #ffffff\">0</span><span style=\"color: #783114; text-decoration-color: #783114; background-color: #ffffff\">,</span><span style=\"color: #101010; text-decoration-color: #101010; background-color: #ffffff\"> 100</span><span style=\"color: #783114; text-decoration-color: #783114; background-color: #ffffff\">)</span><span style=\"background-color: #ffffff\">                                                                           </span>\n",
       "<span style=\"color: #101010; text-decoration-color: #101010; background-color: #ffffff\">          </span><span style=\"color: #783114; text-decoration-color: #783114; background-color: #ffffff\">^^^^^^^</span><span style=\"background-color: #ffffff\">                                                                                   </span>\n",
       "</pre></div>"
      ],
      "text/plain": [
       "\u001b[38;2;221;0;0mException raised on line 4 of code block \u001b[0m\u001b[38;2;120;49;20;48;2;255;255;255m[\u001b[0m\u001b[38;2;16;16;16;48;2;255;255;255m57\u001b[0m\u001b[38;2;120;49;20;48;2;255;255;255m]\u001b[0m\u001b[38;2;221;0;0m.\u001b[0m                                                      \n",
       "\n",
       "\u001b[38;2;16;16;16;48;2;255;255;255m       \u001b[0m\u001b[38;2;16;16;16;48;2;255;255;255m1\u001b[0m\u001b[38;2;120;49;20;48;2;255;255;255m:\u001b[0m\u001b[38;2;16;16;16;48;2;255;255;255m \u001b[0m\u001b[38;2;128;128;128;48;2;255;255;255m# Isn't it a pain to always say random.randint?\u001b[0m\u001b[48;2;255;255;255m                                           \u001b[0m\n",
       "\u001b[38;2;16;16;16;48;2;255;255;255m       \u001b[0m\u001b[38;2;16;16;16;48;2;255;255;255m2\u001b[0m\u001b[38;2;120;49;20;48;2;255;255;255m:\u001b[0m\u001b[38;2;16;16;16;48;2;255;255;255m \u001b[0m\u001b[38;2;128;128;128;48;2;255;255;255m# wouldn't it be nice if I could just say randint(0, 100)?\u001b[0m\u001b[48;2;255;255;255m                                \u001b[0m\n",
       "\u001b[38;2;16;16;16;48;2;255;255;255m    \u001b[0m\u001b[38;2;120;49;20;48;2;255;255;255m-\u001b[0m\u001b[38;2;120;49;20;48;2;255;255;255m-\u001b[0m\u001b[38;2;120;49;20;48;2;255;255;255m>\u001b[0m\u001b[38;2;16;16;16;48;2;255;255;255m4\u001b[0m\u001b[38;2;120;49;20;48;2;255;255;255m:\u001b[0m\u001b[38;2;16;16;16;48;2;255;255;255m \u001b[0m\u001b[38;2;0;17;170;48;2;255;255;255mrandint\u001b[0m\u001b[38;2;120;49;20;48;2;255;255;255m(\u001b[0m\u001b[38;2;16;16;16;48;2;255;255;255m0\u001b[0m\u001b[38;2;120;49;20;48;2;255;255;255m,\u001b[0m\u001b[38;2;16;16;16;48;2;255;255;255m \u001b[0m\u001b[38;2;16;16;16;48;2;255;255;255m100\u001b[0m\u001b[38;2;120;49;20;48;2;255;255;255m)\u001b[0m\u001b[48;2;255;255;255m                                                                           \u001b[0m\n",
       "\u001b[38;2;16;16;16;48;2;255;255;255m          \u001b[0m\u001b[38;2;120;49;20;48;2;255;255;255m^\u001b[0m\u001b[38;2;120;49;20;48;2;255;255;255m^\u001b[0m\u001b[38;2;120;49;20;48;2;255;255;255m^\u001b[0m\u001b[38;2;120;49;20;48;2;255;255;255m^\u001b[0m\u001b[38;2;120;49;20;48;2;255;255;255m^\u001b[0m\u001b[38;2;120;49;20;48;2;255;255;255m^\u001b[0m\u001b[38;2;120;49;20;48;2;255;255;255m^\u001b[0m\u001b[48;2;255;255;255m                                                                                   \u001b[0m\n"
      ]
     },
     "metadata": {},
     "output_type": "display_data"
    }
   ],
   "source": [
    "# Isn't it a pain to always say random.randint?\n",
    "# wouldn't it be nice if I could just say randint(0, 100)?\n",
    "\n",
    "randint(0, 100)"
   ]
  },
  {
   "cell_type": "code",
   "execution_count": 58,
   "id": "22212d53",
   "metadata": {},
   "outputs": [
    {
     "data": {
      "text/html": [
       "<pre style='white-space:pre;overflow-x:auto;line-height:normal'><span style=\"color: #008080; text-decoration-color: #008080; font-weight: bold\">80</span>\n",
       "</pre>"
      ],
      "text/plain": [
       "\u001b[1;36m80\u001b[0m\n"
      ]
     },
     "metadata": {},
     "output_type": "display_data"
    }
   ],
   "source": [
    "# when we say \n",
    "\n",
    "random.randint(0, 100)\n",
    "\n",
    "# Python is\n",
    "\n",
    "# (1) finding the \"random\" variable\n",
    "# (2) asking random if it has a \"randint\" attribute (i.e., name after the dot)\n",
    "# (3) If so, it retrieves that attribute\n",
    "# (4) that attribute is actually a function\n",
    "# (5) run the function with arguments 0, 100"
   ]
  },
  {
   "cell_type": "code",
   "execution_count": 59,
   "id": "ede014ed",
   "metadata": {},
   "outputs": [
    {
     "data": {
      "text/html": [
       "<div id='friendly-message7'><pre style='white-space:pre;overflow-x:auto;line-height:normal'><span style=\"color: #dd0000; text-decoration-color: #dd0000; background-color: #ffffff\">NameError</span>: name 'randint' is not defined                              \n",
       "</pre></div>"
      ],
      "text/plain": [
       "\u001b[38;2;221;0;0;48;2;255;255;255mNameError\u001b[0m: name 'randint' is not defined                              \n"
      ]
     },
     "metadata": {},
     "output_type": "display_data"
    },
    {
     "data": {
      "text/html": [
       "\n",
       "        <button\n",
       "            id='friendly-tb-btn-show7'\n",
       "            onclick='friendly_toggle_more7()'\n",
       "            style=''>\n",
       "        More ...\n",
       "        </button>\n",
       "        <script type=\"text/Javascript\"> function friendly_toggle_more7(){\n",
       "        var btn = document.getElementById('friendly-tb-btn-show7');\n",
       "        var btn_what = document.getElementById('friendly-tb-btn-show-what7');\n",
       "        var btn_where = document.getElementById('friendly-tb-btn-show-where7');\n",
       "        var btn_why = document.getElementById('friendly-tb-btn-show-why7');\n",
       "        var message = document.getElementById('friendly-message7');\n",
       "        var friendly_tb_content = document.getElementById('friendly-tb-friendly_tb-content7');\n",
       "        var what_content = document.getElementById('friendly-tb-what-content7');\n",
       "        var why_content = document.getElementById('friendly-tb-why-content7');\n",
       "        var where_content = document.getElementById('friendly-tb-where-content7');\n",
       "\n",
       "        if (btn_what.style.display == 'none'){\n",
       "            message.style.display = 'none';\n",
       "            btn_what.style.display = 'block';\n",
       "            btn_why.style.display = 'block';\n",
       "            btn_where.style.display = 'block';\n",
       "            friendly_tb_content.style.display = 'block';\n",
       "            btn.textContent = \"Show message only\";\n",
       "        } else {\n",
       "            btn_what.style.display = 'none';\n",
       "            btn_what.textContent = 'what()';\n",
       "            btn_why.style.display = 'none';\n",
       "            btn_why.textContent = 'why()';\n",
       "            btn_where.style.display = 'none';\n",
       "            btn_where.textContent = 'where()';\n",
       "            what_content.style.display = 'none';\n",
       "            why_content.style.display = 'none';\n",
       "            where_content.style.display = 'none';\n",
       "            friendly_tb_content.style.display = 'none';\n",
       "            message.style.display = 'block';\n",
       "            btn.textContent = \"More ...\";\n",
       "        }\n",
       "        };\n",
       "        </script>\n",
       "        "
      ]
     },
     "metadata": {},
     "output_type": "display_data"
    },
    {
     "data": {
      "text/html": [
       "<div id='friendly-tb-friendly_tb-content7' style='display:none'><pre style='white-space:pre;overflow-x:auto;line-height:normal'><span style=\"color: #dd0000; text-decoration-color: #dd0000; background-color: #ffffff\">Traceback (most recent call last):</span><span style=\"background-color: #ffffff\">                                                                  </span>\n",
       "<span style=\"color: #101010; text-decoration-color: #101010; background-color: #ffffff\">  Code block </span><span style=\"color: #783114; text-decoration-color: #783114; background-color: #ffffff\">[</span><span style=\"color: #101010; text-decoration-color: #101010; background-color: #ffffff\">59</span><span style=\"color: #783114; text-decoration-color: #783114; background-color: #ffffff\">]</span><span style=\"color: #101010; text-decoration-color: #101010; background-color: #ffffff\">, line 3, in </span><span style=\"color: #0011aa; text-decoration-color: #0011aa; background-color: #ffffff\">&lt;module&gt;</span><span style=\"background-color: #ffffff\">                                                              </span>\n",
       "<span style=\"color: #101010; text-decoration-color: #101010; background-color: #ffffff\">    </span><span style=\"color: #0011aa; text-decoration-color: #0011aa; background-color: #ffffff\">randint</span><span style=\"color: #783114; text-decoration-color: #783114; background-color: #ffffff\">(</span><span style=\"color: #101010; text-decoration-color: #101010; background-color: #ffffff\">0</span><span style=\"color: #783114; text-decoration-color: #783114; background-color: #ffffff\">,</span><span style=\"color: #101010; text-decoration-color: #101010; background-color: #ffffff\"> 100</span><span style=\"color: #783114; text-decoration-color: #783114; background-color: #ffffff\">)</span><span style=\"background-color: #ffffff\">                                                                                 </span>\n",
       "<span style=\"color: #dd0000; text-decoration-color: #dd0000; background-color: #ffffff\">NameError</span><span style=\"color: #101010; text-decoration-color: #101010; background-color: #ffffff\">: </span><span style=\"color: #0011aa; text-decoration-color: #0011aa; background-color: #ffffff\">name 'randint' is not defined</span><span style=\"background-color: #ffffff\">                                                            </span>\n",
       "\n",
       "Did you forget to add <span style=\"color: #0011aa; text-decoration-color: #0011aa; background-color: #ffffff\">random</span><span style=\"color: #783114; text-decoration-color: #783114; background-color: #ffffff\">.</span>?                                                                      \n",
       "</pre></div>"
      ],
      "text/plain": [
       "\u001b[38;2;221;0;0;48;2;255;255;255mTraceback (most recent call last):\u001b[0m\u001b[48;2;255;255;255m                                                                  \u001b[0m\n",
       "\u001b[38;2;16;16;16;48;2;255;255;255m  Code block \u001b[0m\u001b[38;2;120;49;20;48;2;255;255;255m[\u001b[0m\u001b[38;2;16;16;16;48;2;255;255;255m59\u001b[0m\u001b[38;2;120;49;20;48;2;255;255;255m]\u001b[0m\u001b[38;2;16;16;16;48;2;255;255;255m, line \u001b[0m\u001b[38;2;16;16;16;48;2;255;255;255m3\u001b[0m\u001b[38;2;16;16;16;48;2;255;255;255m, in \u001b[0m\u001b[38;2;0;17;170;48;2;255;255;255m<module>\u001b[0m\u001b[48;2;255;255;255m                                                              \u001b[0m\n",
       "\u001b[38;2;16;16;16;48;2;255;255;255m    \u001b[0m\u001b[38;2;0;17;170;48;2;255;255;255mrandint\u001b[0m\u001b[38;2;120;49;20;48;2;255;255;255m(\u001b[0m\u001b[38;2;16;16;16;48;2;255;255;255m0\u001b[0m\u001b[38;2;120;49;20;48;2;255;255;255m,\u001b[0m\u001b[38;2;16;16;16;48;2;255;255;255m \u001b[0m\u001b[38;2;16;16;16;48;2;255;255;255m100\u001b[0m\u001b[38;2;120;49;20;48;2;255;255;255m)\u001b[0m\u001b[48;2;255;255;255m                                                                                 \u001b[0m\n",
       "\u001b[38;2;221;0;0;48;2;255;255;255mNameError\u001b[0m\u001b[38;2;16;16;16;48;2;255;255;255m: \u001b[0m\u001b[38;2;0;17;170;48;2;255;255;255mname 'randint' is not defined\u001b[0m\u001b[48;2;255;255;255m                                                            \u001b[0m\n",
       "\n",
       "Did you forget to add \u001b[38;2;0;17;170;48;2;255;255;255mrandom\u001b[0m\u001b[38;2;120;49;20;48;2;255;255;255m.\u001b[0m?                                                                      \n"
      ]
     },
     "metadata": {},
     "output_type": "display_data"
    },
    {
     "data": {
      "text/html": [
       "<script type=\"text/Javascript\"> function toggle_what7(){\n",
       "     var content = document.getElementById('friendly-tb-what-content7');\n",
       "     var btn = document.getElementById('friendly-tb-btn-show-what7');\n",
       "        if (content.style.display === 'none') {\n",
       "            content.style.display = 'block';\n",
       "            btn.textContent = \"Hide what()\";\n",
       "        } else {\n",
       "            content.style.display = 'none';\n",
       "            btn.textContent = \"what()\";\n",
       "       }\n",
       "    }\n",
       "     </script>\n",
       "     <button\n",
       "         id='friendly-tb-btn-show-what7'\n",
       "         onclick='toggle_what7()'\n",
       "         style='display:none '>\n",
       "     what()\n",
       "     </button>\n",
       "    "
      ]
     },
     "metadata": {},
     "output_type": "display_data"
    },
    {
     "data": {
      "text/html": [
       "<div id='friendly-tb-what-content7' style='display:none'><pre style='white-space:pre;overflow-x:auto;line-height:normal'>A <span style=\"color: #dd0000; text-decoration-color: #dd0000; background-color: #ffffff\">NameError</span> exception indicates that a variable or function name is   \n",
       "not known to Python. Most often, this is because there is a spelling  \n",
       "mistake. However, sometimes it is because the name is used before     \n",
       "being defined or given a value.                                       \n",
       "</pre></div>"
      ],
      "text/plain": [
       "A \u001b[38;2;221;0;0;48;2;255;255;255mNameError\u001b[0m exception indicates that a variable or function name is   \n",
       "not known to Python. Most often, this is because there is a spelling  \n",
       "mistake. However, sometimes it is because the name is used before     \n",
       "being defined or given a value.                                       \n"
      ]
     },
     "metadata": {},
     "output_type": "display_data"
    },
    {
     "data": {
      "text/html": [
       "<script type=\"text/Javascript\"> function toggle_why7(){\n",
       "     var content = document.getElementById('friendly-tb-why-content7');\n",
       "     var btn = document.getElementById('friendly-tb-btn-show-why7');\n",
       "        if (content.style.display === 'none') {\n",
       "            content.style.display = 'block';\n",
       "            btn.textContent = \"Hide why()\";\n",
       "        } else {\n",
       "            content.style.display = 'none';\n",
       "            btn.textContent = \"why()\";\n",
       "       }\n",
       "    }\n",
       "     </script>\n",
       "     <button\n",
       "         id='friendly-tb-btn-show-why7'\n",
       "         onclick='toggle_why7()'\n",
       "         style='display:none '>\n",
       "     why()\n",
       "     </button>\n",
       "    "
      ]
     },
     "metadata": {},
     "output_type": "display_data"
    },
    {
     "data": {
      "text/html": [
       "<div id='friendly-tb-why-content7' style='display:none'><pre style='white-space:pre;overflow-x:auto;line-height:normal'>In your program, no object with the name <span style=\"color: #0011aa; text-decoration-color: #0011aa; background-color: #ffffff\">randint</span> exists.              \n",
       "\n",
       "The local object <span style=\"color: #0011aa; text-decoration-color: #0011aa; background-color: #ffffff\">random</span> has an attribute named <span style=\"color: #0011aa; text-decoration-color: #0011aa; background-color: #ffffff\">randint</span>. Perhaps you   \n",
       "should have written <span style=\"color: #0011aa; text-decoration-color: #0011aa; background-color: #ffffff\">random</span><span style=\"color: #783114; text-decoration-color: #783114; background-color: #ffffff\">.</span><span style=\"color: #0011aa; text-decoration-color: #0011aa; background-color: #ffffff\">randint</span> instead of <span style=\"color: #0011aa; text-decoration-color: #0011aa; background-color: #ffffff\">randint</span>.                \n",
       "\n",
       "<span style=\"color: #0011aa; text-decoration-color: #0011aa; background-color: #ffffff\">randint</span> is a name found in module <span style=\"color: #0011aa; text-decoration-color: #0011aa; background-color: #ffffff\">random</span>. Perhaps you forgot to write \n",
       "\n",
       "<span style=\"color: #005500; text-decoration-color: #005500; background-color: #ffffff\">from</span><span style=\"color: #101010; text-decoration-color: #101010; background-color: #ffffff\"> </span><span style=\"color: #0011aa; text-decoration-color: #0011aa; background-color: #ffffff\">random</span><span style=\"color: #101010; text-decoration-color: #101010; background-color: #ffffff\"> </span><span style=\"color: #005500; text-decoration-color: #005500; background-color: #ffffff\">import</span><span style=\"color: #101010; text-decoration-color: #101010; background-color: #ffffff\"> </span><span style=\"color: #0011aa; text-decoration-color: #0011aa; background-color: #ffffff\">randint</span><span style=\"background-color: #ffffff\">                                            </span>\n",
       "</pre></div>"
      ],
      "text/plain": [
       "In your program, no object with the name \u001b[38;2;0;17;170;48;2;255;255;255mrandint\u001b[0m exists.              \n",
       "\n",
       "The local object \u001b[38;2;0;17;170;48;2;255;255;255mrandom\u001b[0m has an attribute named \u001b[38;2;0;17;170;48;2;255;255;255mrandint\u001b[0m. Perhaps you   \n",
       "should have written \u001b[38;2;0;17;170;48;2;255;255;255mrandom\u001b[0m\u001b[38;2;120;49;20;48;2;255;255;255m.\u001b[0m\u001b[38;2;0;17;170;48;2;255;255;255mrandint\u001b[0m instead of \u001b[38;2;0;17;170;48;2;255;255;255mrandint\u001b[0m.                \n",
       "\n",
       "\u001b[38;2;0;17;170;48;2;255;255;255mrandint\u001b[0m is a name found in module \u001b[38;2;0;17;170;48;2;255;255;255mrandom\u001b[0m. Perhaps you forgot to write \n",
       "\n",
       "\u001b[38;2;0;85;0;48;2;255;255;255mfrom\u001b[0m\u001b[38;2;16;16;16;48;2;255;255;255m \u001b[0m\u001b[38;2;0;17;170;48;2;255;255;255mrandom\u001b[0m\u001b[38;2;16;16;16;48;2;255;255;255m \u001b[0m\u001b[38;2;0;85;0;48;2;255;255;255mimport\u001b[0m\u001b[38;2;16;16;16;48;2;255;255;255m \u001b[0m\u001b[38;2;0;17;170;48;2;255;255;255mrandint\u001b[0m\u001b[48;2;255;255;255m                                            \u001b[0m\n"
      ]
     },
     "metadata": {},
     "output_type": "display_data"
    },
    {
     "data": {
      "text/html": [
       "<script type=\"text/Javascript\"> function toggle_where7(){\n",
       "     var content = document.getElementById('friendly-tb-where-content7');\n",
       "     var btn = document.getElementById('friendly-tb-btn-show-where7');\n",
       "        if (content.style.display === 'none') {\n",
       "            content.style.display = 'block';\n",
       "            btn.textContent = \"Hide where()\";\n",
       "        } else {\n",
       "            content.style.display = 'none';\n",
       "            btn.textContent = \"where()\";\n",
       "       }\n",
       "    }\n",
       "     </script>\n",
       "     <button\n",
       "         id='friendly-tb-btn-show-where7'\n",
       "         onclick='toggle_where7()'\n",
       "         style='display:none '>\n",
       "     where()\n",
       "     </button>\n",
       "    "
      ]
     },
     "metadata": {},
     "output_type": "display_data"
    },
    {
     "data": {
      "text/html": [
       "<div id='friendly-tb-where-content7' style='display:none'><pre style='white-space:pre;overflow-x:auto;line-height:normal'><span style=\"color: #dd0000; text-decoration-color: #dd0000\">Exception raised on line 3 of code block </span><span style=\"color: #783114; text-decoration-color: #783114; background-color: #ffffff\">[</span><span style=\"color: #101010; text-decoration-color: #101010; background-color: #ffffff\">59</span><span style=\"color: #783114; text-decoration-color: #783114; background-color: #ffffff\">]</span><span style=\"color: #dd0000; text-decoration-color: #dd0000\">.</span>                                                      \n",
       "\n",
       "<span style=\"color: #101010; text-decoration-color: #101010; background-color: #ffffff\">       1</span><span style=\"color: #783114; text-decoration-color: #783114; background-color: #ffffff\">:</span><span style=\"color: #101010; text-decoration-color: #101010; background-color: #ffffff\"> </span><span style=\"color: #808080; text-decoration-color: #808080; background-color: #ffffff\"># If I just say</span><span style=\"background-color: #ffffff\">                                                                           </span>\n",
       "<span style=\"color: #101010; text-decoration-color: #101010; background-color: #ffffff\">    </span><span style=\"color: #783114; text-decoration-color: #783114; background-color: #ffffff\">--&gt;</span><span style=\"color: #101010; text-decoration-color: #101010; background-color: #ffffff\">3</span><span style=\"color: #783114; text-decoration-color: #783114; background-color: #ffffff\">:</span><span style=\"color: #101010; text-decoration-color: #101010; background-color: #ffffff\"> </span><span style=\"color: #0011aa; text-decoration-color: #0011aa; background-color: #ffffff\">randint</span><span style=\"color: #783114; text-decoration-color: #783114; background-color: #ffffff\">(</span><span style=\"color: #101010; text-decoration-color: #101010; background-color: #ffffff\">0</span><span style=\"color: #783114; text-decoration-color: #783114; background-color: #ffffff\">,</span><span style=\"color: #101010; text-decoration-color: #101010; background-color: #ffffff\"> 100</span><span style=\"color: #783114; text-decoration-color: #783114; background-color: #ffffff\">)</span><span style=\"background-color: #ffffff\">                                                                           </span>\n",
       "<span style=\"color: #101010; text-decoration-color: #101010; background-color: #ffffff\">          </span><span style=\"color: #783114; text-decoration-color: #783114; background-color: #ffffff\">^^^^^^^</span><span style=\"background-color: #ffffff\">                                                                                   </span>\n",
       "</pre></div>"
      ],
      "text/plain": [
       "\u001b[38;2;221;0;0mException raised on line 3 of code block \u001b[0m\u001b[38;2;120;49;20;48;2;255;255;255m[\u001b[0m\u001b[38;2;16;16;16;48;2;255;255;255m59\u001b[0m\u001b[38;2;120;49;20;48;2;255;255;255m]\u001b[0m\u001b[38;2;221;0;0m.\u001b[0m                                                      \n",
       "\n",
       "\u001b[38;2;16;16;16;48;2;255;255;255m       \u001b[0m\u001b[38;2;16;16;16;48;2;255;255;255m1\u001b[0m\u001b[38;2;120;49;20;48;2;255;255;255m:\u001b[0m\u001b[38;2;16;16;16;48;2;255;255;255m \u001b[0m\u001b[38;2;128;128;128;48;2;255;255;255m# If I just say\u001b[0m\u001b[48;2;255;255;255m                                                                           \u001b[0m\n",
       "\u001b[38;2;16;16;16;48;2;255;255;255m    \u001b[0m\u001b[38;2;120;49;20;48;2;255;255;255m-\u001b[0m\u001b[38;2;120;49;20;48;2;255;255;255m-\u001b[0m\u001b[38;2;120;49;20;48;2;255;255;255m>\u001b[0m\u001b[38;2;16;16;16;48;2;255;255;255m3\u001b[0m\u001b[38;2;120;49;20;48;2;255;255;255m:\u001b[0m\u001b[38;2;16;16;16;48;2;255;255;255m \u001b[0m\u001b[38;2;0;17;170;48;2;255;255;255mrandint\u001b[0m\u001b[38;2;120;49;20;48;2;255;255;255m(\u001b[0m\u001b[38;2;16;16;16;48;2;255;255;255m0\u001b[0m\u001b[38;2;120;49;20;48;2;255;255;255m,\u001b[0m\u001b[38;2;16;16;16;48;2;255;255;255m \u001b[0m\u001b[38;2;16;16;16;48;2;255;255;255m100\u001b[0m\u001b[38;2;120;49;20;48;2;255;255;255m)\u001b[0m\u001b[48;2;255;255;255m                                                                           \u001b[0m\n",
       "\u001b[38;2;16;16;16;48;2;255;255;255m          \u001b[0m\u001b[38;2;120;49;20;48;2;255;255;255m^\u001b[0m\u001b[38;2;120;49;20;48;2;255;255;255m^\u001b[0m\u001b[38;2;120;49;20;48;2;255;255;255m^\u001b[0m\u001b[38;2;120;49;20;48;2;255;255;255m^\u001b[0m\u001b[38;2;120;49;20;48;2;255;255;255m^\u001b[0m\u001b[38;2;120;49;20;48;2;255;255;255m^\u001b[0m\u001b[38;2;120;49;20;48;2;255;255;255m^\u001b[0m\u001b[48;2;255;255;255m                                                                                   \u001b[0m\n"
      ]
     },
     "metadata": {},
     "output_type": "display_data"
    }
   ],
   "source": [
    "# If I just say \n",
    "\n",
    "randint(0, 100)\n",
    "\n",
    "# Python says: I don't have a variable \"randint\" and stops with an error"
   ]
  },
  {
   "cell_type": "code",
   "execution_count": 60,
   "id": "24440768",
   "metadata": {},
   "outputs": [],
   "source": [
    "# what I'd like is a way to shorten my code by just being able to write \"random(0, 100)\"\n",
    "# the way we can do that is with \"from .. import\"\n",
    "\n",
    "# this means:\n",
    "# (1) find the module \"random\"\n",
    "# (2) find, in that module, the name \"randint\"\n",
    "# (3) define a new variable \"randint\" that refers to random.randint\n",
    "# NOTE: when we do this, \"random\" is *NOT* defined.  (But we defined it earlier, so we're OK)\n",
    "\n",
    "from random import randint"
   ]
  },
  {
   "cell_type": "code",
   "execution_count": 61,
   "id": "81e47112",
   "metadata": {},
   "outputs": [
    {
     "data": {
      "text/html": [
       "<pre style='white-space:pre;overflow-x:auto;line-height:normal'><span style=\"color: #008080; text-decoration-color: #008080; font-weight: bold\">75</span>\n",
       "</pre>"
      ],
      "text/plain": [
       "\u001b[1;36m75\u001b[0m\n"
      ]
     },
     "metadata": {},
     "output_type": "display_data"
    }
   ],
   "source": [
    "# now randint *is* defined as a variable (function)\n",
    "# so we can run it\n",
    "\n",
    "randint(0, 100)"
   ]
  },
  {
   "cell_type": "code",
   "execution_count": 62,
   "id": "0e7fc09d",
   "metadata": {},
   "outputs": [],
   "source": [
    "# what's the advantage of using from .. import?\n",
    "# you can write less code.  You don't need to use the full name (module.function) every time\n",
    "# you want to run the function"
   ]
  },
  {
   "cell_type": "code",
   "execution_count": 63,
   "id": "79d4ab0e",
   "metadata": {},
   "outputs": [],
   "source": [
    "# An example: I often use the \"pandas\" library for data analyze\n",
    "# I often say:\n",
    "\n",
    "from pandas import Series, DataFrame   # notice -- two names, separated by commas\n"
   ]
  },
  {
   "cell_type": "markdown",
   "id": "2811c196",
   "metadata": {},
   "source": [
    "# Ways to `import` (so far)\n",
    "\n",
    "1. `import MODNAME` \n",
    "2. `from MODNAME import NAME1`\n",
    "3. `from MODNAME import NAME1, NAME2`"
   ]
  },
  {
   "cell_type": "code",
   "execution_count": 64,
   "id": "d7001e52",
   "metadata": {},
   "outputs": [],
   "source": [
    "# what if I want to import a module, but its name is long, complex, hard to spell, etc?\n",
    "# I want to import it, but I want to determine its name\n",
    "\n",
    "import random as r   # the \"as\" tells Python what to name the module when we load it"
   ]
  },
  {
   "cell_type": "code",
   "execution_count": 65,
   "id": "aa50f5b1",
   "metadata": {},
   "outputs": [],
   "source": [
    "# everyone, but *everyone* in the data science world says:\n",
    "\n",
    "import numpy as np   # if you're using NumPy"
   ]
  },
  {
   "cell_type": "code",
   "execution_count": 66,
   "id": "a72abf82",
   "metadata": {},
   "outputs": [],
   "source": [
    "import pandas as pd  # everyone using pandas does this, too"
   ]
  },
  {
   "cell_type": "code",
   "execution_count": 67,
   "id": "2b74ceba",
   "metadata": {},
   "outputs": [],
   "source": [
    "# along these lines, you can also say:\n",
    "\n",
    "# meaning: go to the random module, find the randint function, and import it *but* alias it to ri\n",
    "from random import randint as ri"
   ]
  },
  {
   "cell_type": "code",
   "execution_count": null,
   "id": "b0dca231",
   "metadata": {},
   "outputs": [],
   "source": []
  },
  {
   "cell_type": "markdown",
   "id": "f2d1895d",
   "metadata": {},
   "source": [
    "# Ways to `import` (so far)\n",
    "\n",
    "1. `import MODNAME` \n",
    "2. `from MODNAME import NAME1`\n",
    "3. `from MODNAME import NAME1, NAME2`\n",
    "4. `import MODNAME as ALIAS`\n",
    "5. `from MODNAME import NAME1 as ALIAS1`"
   ]
  },
  {
   "cell_type": "markdown",
   "id": "6ff115ff",
   "metadata": {},
   "source": [
    "You can also say:\n",
    "\n",
    "```python\n",
    "from random import * \n",
    "```\n",
    "\n",
    "### Please, please, *please*, don't ever do this in your programs.\n",
    "\n",
    "What this means is:\n",
    "1. Find the module `random`\n",
    "2. Go through each name defined in the module.\n",
    "3. Define that name as a variable outside of the module, in your program.\n",
    "\n",
    "This has practical problems and philosophical problems:\n",
    "\n",
    "1. Practically, this means that if you and the module both use the same variable name, one of those variables is no longer available.\n",
    "2. Philosophically, this means that you don't want to use namespaces -- to keep names separate."
   ]
  },
  {
   "cell_type": "markdown",
   "id": "89b67dfc",
   "metadata": {},
   "source": [
    "# What is Python loading? Where are modules located?\n",
    "\n",
    "When we say `import modname`, what is Python doing?\n",
    "\n",
    "Simply put: It's loading the file `modname.py`.  It's looking for that file on your disk.\n",
    "\n",
    "Where is it looking?  In its search path -- a bunch of directories and files that it's configured to look at.  We can look at the search path, which is in `sys.path`.  (In the `sys` module, the `path` variable.)"
   ]
  },
  {
   "cell_type": "code",
   "execution_count": 68,
   "id": "bc8b8d95",
   "metadata": {},
   "outputs": [
    {
     "data": {
      "text/html": [
       "<pre style='white-space:pre;overflow-x:auto;line-height:normal'>\n",
       "<span style=\"font-weight: bold\">[</span>\n",
       "<span style=\"color: #7fbf7f; text-decoration-color: #7fbf7f\">│   </span><span style=\"color: #008000; text-decoration-color: #008000\">\"/Users/reuven/Courses/Current/O'Reilly-2022-q1\"</span>,\n",
       "<span style=\"color: #7fbf7f; text-decoration-color: #7fbf7f\">│   </span><span style=\"color: #008000; text-decoration-color: #008000\">'/usr/local/Cellar/python@3.10/3.10.1/Frameworks/Python.framework/Versions/3.10/lib/python310.zip'</span>,\n",
       "<span style=\"color: #7fbf7f; text-decoration-color: #7fbf7f\">│   </span><span style=\"color: #008000; text-decoration-color: #008000\">'/usr/local/Cellar/python@3.10/3.10.1/Frameworks/Python.framework/Versions/3.10/lib/python3.10'</span>,\n",
       "<span style=\"color: #7fbf7f; text-decoration-color: #7fbf7f\">│   </span><span style=\"color: #008000; text-decoration-color: #008000\">'/usr/local/Cellar/python@3.10/3.10.1/Frameworks/Python.framework/Versions/3.10/lib/python3.10/lib-dynload'</span>,\n",
       "<span style=\"color: #7fbf7f; text-decoration-color: #7fbf7f\">│   </span><span style=\"color: #008000; text-decoration-color: #008000\">''</span>,\n",
       "<span style=\"color: #7fbf7f; text-decoration-color: #7fbf7f\">│   </span><span style=\"color: #008000; text-decoration-color: #008000\">'/usr/local/lib/python3.10/site-packages'</span>,\n",
       "<span style=\"color: #7fbf7f; text-decoration-color: #7fbf7f\">│   </span><span style=\"color: #008000; text-decoration-color: #008000\">'/usr/local/Cellar/pybind11/2.9.0/libexec/lib/python3.10/site-packages'</span>,\n",
       "<span style=\"color: #7fbf7f; text-decoration-color: #7fbf7f\">│   </span><span style=\"color: #008000; text-decoration-color: #008000\">'/usr/local/lib/python3.10/site-packages/IPython/extensions'</span>,\n",
       "<span style=\"color: #7fbf7f; text-decoration-color: #7fbf7f\">│   </span><span style=\"color: #008000; text-decoration-color: #008000\">'/Users/reuven/.ipython'</span>\n",
       "<span style=\"font-weight: bold\">]</span>\n",
       "</pre>"
      ],
      "text/plain": [
       "\n",
       "\u001b[1m[\u001b[0m\n",
       "\u001b[2;32m│   \u001b[0m\u001b[32m\"/Users/reuven/Courses/Current/O'Reilly-2022-q1\"\u001b[0m,\n",
       "\u001b[2;32m│   \u001b[0m\u001b[32m'/usr/local/Cellar/python@3.10/3.10.1/Frameworks/Python.framework/Versions/3.10/lib/python310.zip'\u001b[0m,\n",
       "\u001b[2;32m│   \u001b[0m\u001b[32m'/usr/local/Cellar/python@3.10/3.10.1/Frameworks/Python.framework/Versions/3.10/lib/python3.10'\u001b[0m,\n",
       "\u001b[2;32m│   \u001b[0m\u001b[32m'/usr/local/Cellar/python@3.10/3.10.1/Frameworks/Python.framework/Versions/3.10/lib/python3.10/lib-dynload'\u001b[0m,\n",
       "\u001b[2;32m│   \u001b[0m\u001b[32m''\u001b[0m,\n",
       "\u001b[2;32m│   \u001b[0m\u001b[32m'/usr/local/lib/python3.10/site-packages'\u001b[0m,\n",
       "\u001b[2;32m│   \u001b[0m\u001b[32m'/usr/local/Cellar/pybind11/2.9.0/libexec/lib/python3.10/site-packages'\u001b[0m,\n",
       "\u001b[2;32m│   \u001b[0m\u001b[32m'/usr/local/lib/python3.10/site-packages/IPython/extensions'\u001b[0m,\n",
       "\u001b[2;32m│   \u001b[0m\u001b[32m'/Users/reuven/.ipython'\u001b[0m\n",
       "\u001b[1m]\u001b[0m\n"
      ]
     },
     "metadata": {},
     "output_type": "display_data"
    }
   ],
   "source": [
    "import sys\n",
    "sys.path  # this is the list of directories where Python looks for modules"
   ]
  },
  {
   "cell_type": "markdown",
   "id": "122ed9bd",
   "metadata": {},
   "source": [
    "# When I say `import`...\n",
    "\n",
    "Python goes through each directory in `sys.path`, looking for our module name + `.py`.\n",
    "\n"
   ]
  },
  {
   "cell_type": "code",
   "execution_count": 69,
   "id": "8f8a3dc2",
   "metadata": {},
   "outputs": [
    {
     "data": {
      "text/html": [
       "<pre style='white-space:pre;overflow-x:auto;line-height:normal'><span style=\"font-weight: bold\">&lt;</span><span style=\"color: #ff00ff; text-decoration-color: #ff00ff; font-weight: bold\">module</span><span style=\"color: #000000; text-decoration-color: #000000\"> </span><span style=\"color: #008000; text-decoration-color: #008000\">'random'</span><span style=\"color: #000000; text-decoration-color: #000000\"> from </span><span style=\"color: #008000; text-decoration-color: #008000\">'/usr/local/Cellar/python@3.10/3.10.1/Frameworks/Python.framework/Versions/3.10/lib/python3.10/random.py'</span><span style=\"font-weight: bold\">&gt;</span>\n",
       "</pre>"
      ],
      "text/plain": [
       "\u001b[1m<\u001b[0m\u001b[1;95mmodule\u001b[0m\u001b[39m \u001b[0m\u001b[32m'random'\u001b[0m\u001b[39m from \u001b[0m\u001b[32m'/usr/local/Cellar/python@3.10/3.10.1/Frameworks/Python.framework/Versions/3.10/lib/python3.10/random.py'\u001b[0m\u001b[1m>\u001b[0m\n"
      ]
     },
     "metadata": {},
     "output_type": "display_data"
    }
   ],
   "source": [
    "random  "
   ]
  },
  {
   "cell_type": "markdown",
   "id": "e0ca776c",
   "metadata": {},
   "source": [
    "# Modifying `sys.path`.\n",
    "\n",
    "The best way to do this is by setting `PYTHONPATH`, an environment variable, before Python starts up.  Any value(s) there will be added to `sys.path` at startup.\n",
    "\n",
    "```\n",
    "Python 3.10.1 (main, Dec  6 2021, 23:20:29) [Clang 13.0.0 (clang-1300.0.29.3)] on darwin\n",
    "Type \"help\", \"copyright\", \"credits\" or \"license\" for more information.\n",
    ">>> import sys\n",
    ">>> for one_dirname in sys.path:\n",
    "...     print(one_dirname)\n",
    "...\n",
    "\n",
    "/usr/local/Cellar/python@3.10/3.10.1/Frameworks/Python.framework/Versions/3.10/lib/python310.zip\n",
    "/usr/local/Cellar/python@3.10/3.10.1/Frameworks/Python.framework/Versions/3.10/lib/python3.10\n",
    "/usr/local/Cellar/python@3.10/3.10.1/Frameworks/Python.framework/Versions/3.10/lib/python3.10/lib-dynload\n",
    "/usr/local/lib/python3.10/site-packages\n",
    "/usr/local/Cellar/pybind11/2.9.0/libexec/lib/python3.10/site-packages\n",
    ">>>\n",
    "[ ~/Desktop]$ export PYTHONPATH='/foo/bar:/my/favorite/directory'\n",
    "[ ~/Desktop]$ python3\n",
    "Python 3.10.1 (main, Dec  6 2021, 23:20:29) [Clang 13.0.0 (clang-1300.0.29.3)] on darwin\n",
    "Type \"help\", \"copyright\", \"credits\" or \"license\" for more information.\n",
    ">>> import sys\n",
    ">>> for one_dirname in sys.path:\n",
    "...     print(one_dirname)\n",
    "...\n",
    "\n",
    "/foo/bar\n",
    "/my/favorite/directory\n",
    "/usr/local/Cellar/python@3.10/3.10.1/Frameworks/Python.framework/Versions/3.10/lib/python310.zip\n",
    "/usr/local/Cellar/python@3.10/3.10.1/Frameworks/Python.framework/Versions/3.10/lib/python3.10\n",
    "/usr/local/Cellar/python@3.10/3.10.1/Frameworks/Python.framework/Versions/3.10/lib/python3.10/lib-dynload\n",
    "/usr/local/lib/python3.10/site-packages\n",
    "/usr/local/Cellar/pybind11/2.9.0/libexec/lib/python3.10/site-packages\n",
    ">>>\n",
    "```"
   ]
  },
  {
   "cell_type": "code",
   "execution_count": 70,
   "id": "ea0209ac",
   "metadata": {},
   "outputs": [
    {
     "data": {
      "text/html": [
       "<pre style='white-space:pre;overflow-x:auto;line-height:normal'><span style=\"font-weight: bold\">&lt;</span><span style=\"color: #ff00ff; text-decoration-color: #ff00ff; font-weight: bold\">module</span><span style=\"color: #000000; text-decoration-color: #000000\"> </span><span style=\"color: #008000; text-decoration-color: #008000\">'random'</span><span style=\"color: #000000; text-decoration-color: #000000\"> from </span><span style=\"color: #008000; text-decoration-color: #008000\">'/usr/local/Cellar/python@3.10/3.10.1/Frameworks/Python.framework/Versions/3.10/lib/python3.10/random.py'</span><span style=\"font-weight: bold\">&gt;</span>\n",
       "</pre>"
      ],
      "text/plain": [
       "\u001b[1m<\u001b[0m\u001b[1;95mmodule\u001b[0m\u001b[39m \u001b[0m\u001b[32m'random'\u001b[0m\u001b[39m from \u001b[0m\u001b[32m'/usr/local/Cellar/python@3.10/3.10.1/Frameworks/Python.framework/Versions/3.10/lib/python3.10/random.py'\u001b[0m\u001b[1m>\u001b[0m\n"
      ]
     },
     "metadata": {},
     "output_type": "display_data"
    }
   ],
   "source": [
    "random\n"
   ]
  },
  {
   "cell_type": "code",
   "execution_count": 71,
   "id": "583fde1c",
   "metadata": {},
   "outputs": [],
   "source": [
    "# the \"os\" module is all about the operating system -- especially connecting with files on the disk\n",
    "\n",
    "import os"
   ]
  },
  {
   "cell_type": "code",
   "execution_count": 72,
   "id": "cb9b3652",
   "metadata": {},
   "outputs": [
    {
     "data": {
      "text/html": [
       "<pre style='white-space:pre;overflow-x:auto;line-height:normal'><span style=\"color: #800080; text-decoration-color: #800080; font-weight: bold\">os.stat_result</span><span style=\"font-weight: bold\">(</span><span style=\"color: #808000; text-decoration-color: #808000\">st_mode</span>=<span style=\"color: #008080; text-decoration-color: #008080; font-weight: bold\">33188</span>, <span style=\"color: #808000; text-decoration-color: #808000\">st_ino</span>=<span style=\"color: #008080; text-decoration-color: #008080; font-weight: bold\">17454971</span>, <span style=\"color: #808000; text-decoration-color: #808000\">st_dev</span>=<span style=\"color: #008080; text-decoration-color: #008080; font-weight: bold\">16777221</span>, <span style=\"color: #808000; text-decoration-color: #808000\">st_nlink</span>=<span style=\"color: #008080; text-decoration-color: #008080; font-weight: bold\">1</span>, <span style=\"color: #808000; text-decoration-color: #808000\">st_uid</span>=<span style=\"color: #008080; text-decoration-color: #008080; font-weight: bold\">0</span>, <span style=\"color: #808000; text-decoration-color: #808000\">st_gid</span>=<span style=\"color: #008080; text-decoration-color: #008080; font-weight: bold\">0</span>, <span style=\"color: #808000; text-decoration-color: #808000\">st_size</span>=<span style=\"color: #008080; text-decoration-color: #008080; font-weight: bold\">7630</span>, <span style=\"color: #808000; text-decoration-color: #808000\">st_atime</span>=<span style=\"color: #008080; text-decoration-color: #008080; font-weight: bold\">1634704084</span>, <span style=\"color: #808000; text-decoration-color: #808000\">st_mtime</span>=<span style=\"color: #008080; text-decoration-color: #008080; font-weight: bold\">1577865600</span>, <span style=\"color: #808000; text-decoration-color: #808000\">st_ctime</span>=<span style=\"color: #008080; text-decoration-color: #008080; font-weight: bold\">1634704084</span><span style=\"font-weight: bold\">)</span>\n",
       "</pre>"
      ],
      "text/plain": [
       "\u001b[1;35mos.stat_result\u001b[0m\u001b[1m(\u001b[0m\u001b[33mst_mode\u001b[0m=\u001b[1;36m33188\u001b[0m, \u001b[33mst_ino\u001b[0m=\u001b[1;36m17454971\u001b[0m, \u001b[33mst_dev\u001b[0m=\u001b[1;36m16777221\u001b[0m, \u001b[33mst_nlink\u001b[0m=\u001b[1;36m1\u001b[0m, \u001b[33mst_uid\u001b[0m=\u001b[1;36m0\u001b[0m, \u001b[33mst_gid\u001b[0m=\u001b[1;36m0\u001b[0m, \u001b[33mst_size\u001b[0m=\u001b[1;36m7630\u001b[0m, \u001b[33mst_atime\u001b[0m=\u001b[1;36m1634704084\u001b[0m, \u001b[33mst_mtime\u001b[0m=\u001b[1;36m1577865600\u001b[0m, \u001b[33mst_ctime\u001b[0m=\u001b[1;36m1634704084\u001b[0m\u001b[1m)\u001b[0m\n"
      ]
     },
     "metadata": {},
     "output_type": "display_data"
    }
   ],
   "source": [
    "# run os.stat to get some basic information about a file on the disk (filesystem)\n",
    "os.stat('/etc/passwd')"
   ]
  },
  {
   "cell_type": "code",
   "execution_count": 74,
   "id": "68780893",
   "metadata": {},
   "outputs": [
    {
     "data": {
      "text/html": [
       "<pre style='white-space:pre;overflow-x:auto;line-height:normal'><span style=\"color: #008080; text-decoration-color: #008080; font-weight: bold\">7630</span>\n",
       "</pre>"
      ],
      "text/plain": [
       "\u001b[1;36m7630\u001b[0m\n"
      ]
     },
     "metadata": {},
     "output_type": "display_data"
    }
   ],
   "source": [
    "file_info = os.stat('/etc/passwd')  # get the stat info into \"file_info\"\n",
    "file_info.st_size   # size of the file, in bytes"
   ]
  },
  {
   "cell_type": "code",
   "execution_count": 75,
   "id": "2f54d66b",
   "metadata": {},
   "outputs": [
    {
     "data": {
      "text/html": [
       "<pre style='white-space:pre;overflow-x:auto;line-height:normal'><span style=\"color: #00ff00; text-decoration-color: #00ff00; font-style: italic\">True</span>\n",
       "</pre>"
      ],
      "text/plain": [
       "\u001b[3;92mTrue\u001b[0m\n"
      ]
     },
     "metadata": {},
     "output_type": "display_data"
    }
   ],
   "source": [
    "os.path.exists('/etc/passwd')"
   ]
  },
  {
   "cell_type": "code",
   "execution_count": 76,
   "id": "487663a6",
   "metadata": {},
   "outputs": [
    {
     "data": {
      "text/html": [
       "<pre style='white-space:pre;overflow-x:auto;line-height:normal'><span style=\"color: #ff0000; text-decoration-color: #ff0000; font-style: italic\">False</span>\n",
       "</pre>"
      ],
      "text/plain": [
       "\u001b[3;91mFalse\u001b[0m\n"
      ]
     },
     "metadata": {},
     "output_type": "display_data"
    }
   ],
   "source": [
    "os.path.exists('/etc/passwdasdfasfafas')"
   ]
  },
  {
   "cell_type": "markdown",
   "id": "a48139bf",
   "metadata": {},
   "source": [
    "# Exercise: File length\n",
    "\n",
    "1. Load the `os` module.\n",
    "2. Ask the user to enter a filename.\n",
    "3. Using `os.path.exists`, check if the file exists.\n",
    "4. If so, then get the file's length with `os.stat`, printing the `st_size` attribute of the stat's object.\n",
    "5. If not, then scold the user, telling them the file doesn't exist."
   ]
  },
  {
   "cell_type": "code",
   "execution_count": 82,
   "id": "39055165",
   "metadata": {},
   "outputs": [
    {
     "name": "stdout",
     "output_type": "stream",
     "text": [
      "Enter a filename: asdfasdfsafdafda\n",
      "asdfasdfsafdafda does not exist.\n"
     ]
    }
   ],
   "source": [
    "import os   # or: from os import exists, stat\n",
    "\n",
    "filename = input('Enter a filename: ').strip()\n",
    "\n",
    "if os.path.exists(filename):\n",
    "    file_info = os.stat(filename)  # get all file info via os.stat\n",
    "    size = file_info.st_size       # get the size from .st_size\n",
    "    print(f'Size of {filename} is {size}.')\n",
    "else:\n",
    "    print(f'{filename} does not exist.')"
   ]
  },
  {
   "cell_type": "markdown",
   "id": "45d478c0",
   "metadata": {},
   "source": [
    "# Writing a module\n",
    "\n",
    "A module is a Python program, stored in `sys.path`, with a `.py` extension (suffix).  You can use many different editors to create a Python program. Two very popular ones are:\n",
    "\n",
    "- PyCharm\n",
    "- VSCode (with the Python plugin)\n",
    "\n",
    "I wrote `mymod.py`, and saved it in the same directory as Jupyter. That puts it in my Jupyter notebook's `sys.path`.  I can now say `import mymod`, and have access to all of the data and functions in `mymod`."
   ]
  },
  {
   "cell_type": "code",
   "execution_count": 84,
   "id": "dd947a14",
   "metadata": {},
   "outputs": [],
   "source": [
    "import mymod"
   ]
  },
  {
   "cell_type": "code",
   "execution_count": 85,
   "id": "56d4a87f",
   "metadata": {},
   "outputs": [
    {
     "data": {
      "text/html": [
       "<pre style='white-space:pre;overflow-x:auto;line-height:normal'><span style=\"font-weight: bold\">&lt;</span><span style=\"color: #ff00ff; text-decoration-color: #ff00ff; font-weight: bold\">class</span><span style=\"color: #000000; text-decoration-color: #000000\"> </span><span style=\"color: #008000; text-decoration-color: #008000\">'module'</span><span style=\"font-weight: bold\">&gt;</span>\n",
       "</pre>"
      ],
      "text/plain": [
       "\u001b[1m<\u001b[0m\u001b[1;95mclass\u001b[0m\u001b[39m \u001b[0m\u001b[32m'module'\u001b[0m\u001b[1m>\u001b[0m\n"
      ]
     },
     "metadata": {},
     "output_type": "display_data"
    }
   ],
   "source": [
    "type(mymod)"
   ]
  },
  {
   "cell_type": "code",
   "execution_count": 86,
   "id": "bfa2f3c4",
   "metadata": {},
   "outputs": [
    {
     "data": {
      "text/html": [
       "<pre style='white-space:pre;overflow-x:auto;line-height:normal'>\n",
       "<span style=\"font-weight: bold\">[</span>\n",
       "<span style=\"color: #7fbf7f; text-decoration-color: #7fbf7f\">│   </span><span style=\"color: #008000; text-decoration-color: #008000\">'__builtins__'</span>,\n",
       "<span style=\"color: #7fbf7f; text-decoration-color: #7fbf7f\">│   </span><span style=\"color: #008000; text-decoration-color: #008000\">'__cached__'</span>,\n",
       "<span style=\"color: #7fbf7f; text-decoration-color: #7fbf7f\">│   </span><span style=\"color: #008000; text-decoration-color: #008000\">'__doc__'</span>,\n",
       "<span style=\"color: #7fbf7f; text-decoration-color: #7fbf7f\">│   </span><span style=\"color: #008000; text-decoration-color: #008000\">'__file__'</span>,\n",
       "<span style=\"color: #7fbf7f; text-decoration-color: #7fbf7f\">│   </span><span style=\"color: #008000; text-decoration-color: #008000\">'__loader__'</span>,\n",
       "<span style=\"color: #7fbf7f; text-decoration-color: #7fbf7f\">│   </span><span style=\"color: #008000; text-decoration-color: #008000\">'__name__'</span>,\n",
       "<span style=\"color: #7fbf7f; text-decoration-color: #7fbf7f\">│   </span><span style=\"color: #008000; text-decoration-color: #008000\">'__package__'</span>,\n",
       "<span style=\"color: #7fbf7f; text-decoration-color: #7fbf7f\">│   </span><span style=\"color: #008000; text-decoration-color: #008000\">'__spec__'</span>,\n",
       "<span style=\"color: #7fbf7f; text-decoration-color: #7fbf7f\">│   </span><span style=\"color: #008000; text-decoration-color: #008000\">'hello'</span>,\n",
       "<span style=\"color: #7fbf7f; text-decoration-color: #7fbf7f\">│   </span><span style=\"color: #008000; text-decoration-color: #008000\">'x'</span>,\n",
       "<span style=\"color: #7fbf7f; text-decoration-color: #7fbf7f\">│   </span><span style=\"color: #008000; text-decoration-color: #008000\">'y'</span>\n",
       "<span style=\"font-weight: bold\">]</span>\n",
       "</pre>"
      ],
      "text/plain": [
       "\n",
       "\u001b[1m[\u001b[0m\n",
       "\u001b[2;32m│   \u001b[0m\u001b[32m'__builtins__'\u001b[0m,\n",
       "\u001b[2;32m│   \u001b[0m\u001b[32m'__cached__'\u001b[0m,\n",
       "\u001b[2;32m│   \u001b[0m\u001b[32m'__doc__'\u001b[0m,\n",
       "\u001b[2;32m│   \u001b[0m\u001b[32m'__file__'\u001b[0m,\n",
       "\u001b[2;32m│   \u001b[0m\u001b[32m'__loader__'\u001b[0m,\n",
       "\u001b[2;32m│   \u001b[0m\u001b[32m'__name__'\u001b[0m,\n",
       "\u001b[2;32m│   \u001b[0m\u001b[32m'__package__'\u001b[0m,\n",
       "\u001b[2;32m│   \u001b[0m\u001b[32m'__spec__'\u001b[0m,\n",
       "\u001b[2;32m│   \u001b[0m\u001b[32m'hello'\u001b[0m,\n",
       "\u001b[2;32m│   \u001b[0m\u001b[32m'x'\u001b[0m,\n",
       "\u001b[2;32m│   \u001b[0m\u001b[32m'y'\u001b[0m\n",
       "\u001b[1m]\u001b[0m\n"
      ]
     },
     "metadata": {},
     "output_type": "display_data"
    }
   ],
   "source": [
    "# how can I see the names of things defined in mymod?\n",
    "# Use the \"dir\" function on the module object\n",
    "\n",
    "dir(mymod)"
   ]
  },
  {
   "cell_type": "code",
   "execution_count": 87,
   "id": "b3e48686",
   "metadata": {},
   "outputs": [
    {
     "data": {
      "text/html": [
       "<pre style='white-space:pre;overflow-x:auto;line-height:normal'><span style=\"color: #008080; text-decoration-color: #008080; font-weight: bold\">100</span>\n",
       "</pre>"
      ],
      "text/plain": [
       "\u001b[1;36m100\u001b[0m\n"
      ]
     },
     "metadata": {},
     "output_type": "display_data"
    }
   ],
   "source": [
    "# I now know that hello, x, and y are all defined on my mod\n",
    "\n",
    "mymod.x  # get the value of mymod's x"
   ]
  },
  {
   "cell_type": "code",
   "execution_count": 88,
   "id": "15980299",
   "metadata": {},
   "outputs": [
    {
     "data": {
      "text/html": [
       "<pre style='white-space:pre;overflow-x:auto;line-height:normal'><span style=\"font-weight: bold\">[</span><span style=\"color: #008080; text-decoration-color: #008080; font-weight: bold\">10</span>, <span style=\"color: #008080; text-decoration-color: #008080; font-weight: bold\">20</span>, <span style=\"color: #008080; text-decoration-color: #008080; font-weight: bold\">30</span><span style=\"font-weight: bold\">]</span>\n",
       "</pre>"
      ],
      "text/plain": [
       "\u001b[1m[\u001b[0m\u001b[1;36m10\u001b[0m, \u001b[1;36m20\u001b[0m, \u001b[1;36m30\u001b[0m\u001b[1m]\u001b[0m\n"
      ]
     },
     "metadata": {},
     "output_type": "display_data"
    }
   ],
   "source": [
    "mymod.y"
   ]
  },
  {
   "cell_type": "code",
   "execution_count": 89,
   "id": "984cae30",
   "metadata": {},
   "outputs": [
    {
     "data": {
      "text/html": [
       "<pre style='white-space:pre;overflow-x:auto;line-height:normal'><span style=\"color: #008000; text-decoration-color: #008000\">'Hello, Reuven!'</span>\n",
       "</pre>"
      ],
      "text/plain": [
       "\u001b[32m'Hello, Reuven!'\u001b[0m\n"
      ]
     },
     "metadata": {},
     "output_type": "display_data"
    }
   ],
   "source": [
    "mymod.hello('Reuven')"
   ]
  },
  {
   "cell_type": "markdown",
   "id": "e74d377e",
   "metadata": {},
   "source": [
    "# Next up:\n",
    "\n",
    "1. Python standard library (what comes with Python)\n",
    "2. PyPI \n",
    "3. `pip` and installing modules\n",
    "4. General Q&A -- what next?\n"
   ]
  },
  {
   "cell_type": "code",
   "execution_count": 90,
   "id": "6e25bf50",
   "metadata": {},
   "outputs": [
    {
     "data": {
      "text/html": [
       "<pre style='white-space:pre;overflow-x:auto;line-height:normal'>\n",
       "<span style=\"font-weight: bold\">[</span>\n",
       "<span style=\"color: #7fbf7f; text-decoration-color: #7fbf7f\">│   </span><span style=\"color: #008000; text-decoration-color: #008000\">'__builtins__'</span>,\n",
       "<span style=\"color: #7fbf7f; text-decoration-color: #7fbf7f\">│   </span><span style=\"color: #008000; text-decoration-color: #008000\">'__cached__'</span>,\n",
       "<span style=\"color: #7fbf7f; text-decoration-color: #7fbf7f\">│   </span><span style=\"color: #008000; text-decoration-color: #008000\">'__doc__'</span>,\n",
       "<span style=\"color: #7fbf7f; text-decoration-color: #7fbf7f\">│   </span><span style=\"color: #008000; text-decoration-color: #008000\">'__file__'</span>,\n",
       "<span style=\"color: #7fbf7f; text-decoration-color: #7fbf7f\">│   </span><span style=\"color: #008000; text-decoration-color: #008000\">'__loader__'</span>,\n",
       "<span style=\"color: #7fbf7f; text-decoration-color: #7fbf7f\">│   </span><span style=\"color: #008000; text-decoration-color: #008000\">'__name__'</span>,\n",
       "<span style=\"color: #7fbf7f; text-decoration-color: #7fbf7f\">│   </span><span style=\"color: #008000; text-decoration-color: #008000\">'__package__'</span>,\n",
       "<span style=\"color: #7fbf7f; text-decoration-color: #7fbf7f\">│   </span><span style=\"color: #008000; text-decoration-color: #008000\">'__spec__'</span>,\n",
       "<span style=\"color: #7fbf7f; text-decoration-color: #7fbf7f\">│   </span><span style=\"color: #008000; text-decoration-color: #008000\">'hello'</span>,\n",
       "<span style=\"color: #7fbf7f; text-decoration-color: #7fbf7f\">│   </span><span style=\"color: #008000; text-decoration-color: #008000\">'x'</span>,\n",
       "<span style=\"color: #7fbf7f; text-decoration-color: #7fbf7f\">│   </span><span style=\"color: #008000; text-decoration-color: #008000\">'y'</span>\n",
       "<span style=\"font-weight: bold\">]</span>\n",
       "</pre>"
      ],
      "text/plain": [
       "\n",
       "\u001b[1m[\u001b[0m\n",
       "\u001b[2;32m│   \u001b[0m\u001b[32m'__builtins__'\u001b[0m,\n",
       "\u001b[2;32m│   \u001b[0m\u001b[32m'__cached__'\u001b[0m,\n",
       "\u001b[2;32m│   \u001b[0m\u001b[32m'__doc__'\u001b[0m,\n",
       "\u001b[2;32m│   \u001b[0m\u001b[32m'__file__'\u001b[0m,\n",
       "\u001b[2;32m│   \u001b[0m\u001b[32m'__loader__'\u001b[0m,\n",
       "\u001b[2;32m│   \u001b[0m\u001b[32m'__name__'\u001b[0m,\n",
       "\u001b[2;32m│   \u001b[0m\u001b[32m'__package__'\u001b[0m,\n",
       "\u001b[2;32m│   \u001b[0m\u001b[32m'__spec__'\u001b[0m,\n",
       "\u001b[2;32m│   \u001b[0m\u001b[32m'hello'\u001b[0m,\n",
       "\u001b[2;32m│   \u001b[0m\u001b[32m'x'\u001b[0m,\n",
       "\u001b[2;32m│   \u001b[0m\u001b[32m'y'\u001b[0m\n",
       "\u001b[1m]\u001b[0m\n"
      ]
     },
     "metadata": {},
     "output_type": "display_data"
    }
   ],
   "source": [
    "dir(mymod)"
   ]
  },
  {
   "cell_type": "code",
   "execution_count": 91,
   "id": "0525a849",
   "metadata": {},
   "outputs": [
    {
     "data": {
      "text/html": [
       "<pre style='white-space:pre;overflow-x:auto;line-height:normal'><span style=\"font-weight: bold\">&lt;</span><span style=\"color: #ff00ff; text-decoration-color: #ff00ff; font-weight: bold\">class</span><span style=\"color: #000000; text-decoration-color: #000000\"> </span><span style=\"color: #008000; text-decoration-color: #008000\">'function'</span><span style=\"font-weight: bold\">&gt;</span>\n",
       "</pre>"
      ],
      "text/plain": [
       "\u001b[1m<\u001b[0m\u001b[1;95mclass\u001b[0m\u001b[39m \u001b[0m\u001b[32m'function'\u001b[0m\u001b[1m>\u001b[0m\n"
      ]
     },
     "metadata": {},
     "output_type": "display_data"
    }
   ],
   "source": [
    "type(mymod.hello)"
   ]
  },
  {
   "cell_type": "code",
   "execution_count": 92,
   "id": "b7dbb518",
   "metadata": {},
   "outputs": [
    {
     "data": {
      "text/html": [
       "<pre style='white-space:pre;overflow-x:auto;line-height:normal'><span style=\"font-weight: bold\">&lt;</span><span style=\"color: #ff00ff; text-decoration-color: #ff00ff; font-weight: bold\">class</span><span style=\"color: #000000; text-decoration-color: #000000\"> </span><span style=\"color: #008000; text-decoration-color: #008000\">'int'</span><span style=\"font-weight: bold\">&gt;</span>\n",
       "</pre>"
      ],
      "text/plain": [
       "\u001b[1m<\u001b[0m\u001b[1;95mclass\u001b[0m\u001b[39m \u001b[0m\u001b[32m'int'\u001b[0m\u001b[1m>\u001b[0m\n"
      ]
     },
     "metadata": {},
     "output_type": "display_data"
    }
   ],
   "source": [
    "type(mymod.x)"
   ]
  },
  {
   "cell_type": "code",
   "execution_count": 93,
   "id": "bb326638",
   "metadata": {},
   "outputs": [
    {
     "data": {
      "text/html": [
       "<pre style='white-space:pre;overflow-x:auto;line-height:normal'><span style=\"font-weight: bold\">&lt;</span><span style=\"color: #ff00ff; text-decoration-color: #ff00ff; font-weight: bold\">class</span><span style=\"color: #000000; text-decoration-color: #000000\"> </span><span style=\"color: #008000; text-decoration-color: #008000\">'list'</span><span style=\"font-weight: bold\">&gt;</span>\n",
       "</pre>"
      ],
      "text/plain": [
       "\u001b[1m<\u001b[0m\u001b[1;95mclass\u001b[0m\u001b[39m \u001b[0m\u001b[32m'list'\u001b[0m\u001b[1m>\u001b[0m\n"
      ]
     },
     "metadata": {},
     "output_type": "display_data"
    }
   ],
   "source": [
    "type(mymod.y)"
   ]
  },
  {
   "cell_type": "code",
   "execution_count": 94,
   "id": "ff137926",
   "metadata": {},
   "outputs": [
    {
     "name": "stdout",
     "output_type": "stream",
     "text": [
      "Help on module mymod:\n",
      "\n",
      "NAME\n",
      "    mymod\n",
      "\n",
      "FUNCTIONS\n",
      "    hello(name)\n",
      "\n",
      "DATA\n",
      "    x = 100\n",
      "    y = [10, 20, 30]\n",
      "\n",
      "FILE\n",
      "    /Users/reuven/Courses/Current/O'Reilly-2022-q1/mymod.py\n",
      "\n",
      "\n"
     ]
    }
   ],
   "source": [
    "help(mymod)  # get documentation on the module"
   ]
  },
  {
   "cell_type": "code",
   "execution_count": 95,
   "id": "8e9016cf",
   "metadata": {},
   "outputs": [],
   "source": [
    "d = {'a':[10, 20, 30], 'b':[100, 200, 300, 400, 500], 'c': 'this is a sample sentence'.split() }"
   ]
  },
  {
   "cell_type": "code",
   "execution_count": 96,
   "id": "b12f805f",
   "metadata": {},
   "outputs": [
    {
     "data": {
      "text/html": [
       "<pre style='white-space:pre;overflow-x:auto;line-height:normal'>\n",
       "<span style=\"font-weight: bold\">{</span>\n",
       "<span style=\"color: #7fbf7f; text-decoration-color: #7fbf7f\">│   </span><span style=\"color: #008000; text-decoration-color: #008000\">'a'</span>: <span style=\"font-weight: bold\">[</span><span style=\"color: #008080; text-decoration-color: #008080; font-weight: bold\">10</span>, <span style=\"color: #008080; text-decoration-color: #008080; font-weight: bold\">20</span>, <span style=\"color: #008080; text-decoration-color: #008080; font-weight: bold\">30</span><span style=\"font-weight: bold\">]</span>,\n",
       "<span style=\"color: #7fbf7f; text-decoration-color: #7fbf7f\">│   </span><span style=\"color: #008000; text-decoration-color: #008000\">'b'</span>: <span style=\"font-weight: bold\">[</span><span style=\"color: #008080; text-decoration-color: #008080; font-weight: bold\">100</span>, <span style=\"color: #008080; text-decoration-color: #008080; font-weight: bold\">200</span>, <span style=\"color: #008080; text-decoration-color: #008080; font-weight: bold\">300</span>, <span style=\"color: #008080; text-decoration-color: #008080; font-weight: bold\">400</span>, <span style=\"color: #008080; text-decoration-color: #008080; font-weight: bold\">500</span><span style=\"font-weight: bold\">]</span>,\n",
       "<span style=\"color: #7fbf7f; text-decoration-color: #7fbf7f\">│   </span><span style=\"color: #008000; text-decoration-color: #008000\">'c'</span>: <span style=\"font-weight: bold\">[</span><span style=\"color: #008000; text-decoration-color: #008000\">'this'</span>, <span style=\"color: #008000; text-decoration-color: #008000\">'is'</span>, <span style=\"color: #008000; text-decoration-color: #008000\">'a'</span>, <span style=\"color: #008000; text-decoration-color: #008000\">'sample'</span>, <span style=\"color: #008000; text-decoration-color: #008000\">'sentence'</span><span style=\"font-weight: bold\">]</span>\n",
       "<span style=\"font-weight: bold\">}</span>\n",
       "</pre>"
      ],
      "text/plain": [
       "\n",
       "\u001b[1m{\u001b[0m\n",
       "\u001b[2;32m│   \u001b[0m\u001b[32m'a'\u001b[0m: \u001b[1m[\u001b[0m\u001b[1;36m10\u001b[0m, \u001b[1;36m20\u001b[0m, \u001b[1;36m30\u001b[0m\u001b[1m]\u001b[0m,\n",
       "\u001b[2;32m│   \u001b[0m\u001b[32m'b'\u001b[0m: \u001b[1m[\u001b[0m\u001b[1;36m100\u001b[0m, \u001b[1;36m200\u001b[0m, \u001b[1;36m300\u001b[0m, \u001b[1;36m400\u001b[0m, \u001b[1;36m500\u001b[0m\u001b[1m]\u001b[0m,\n",
       "\u001b[2;32m│   \u001b[0m\u001b[32m'c'\u001b[0m: \u001b[1m[\u001b[0m\u001b[32m'this'\u001b[0m, \u001b[32m'is'\u001b[0m, \u001b[32m'a'\u001b[0m, \u001b[32m'sample'\u001b[0m, \u001b[32m'sentence'\u001b[0m\u001b[1m]\u001b[0m\n",
       "\u001b[1m}\u001b[0m\n"
      ]
     },
     "metadata": {},
     "output_type": "display_data"
    }
   ],
   "source": [
    "d"
   ]
  },
  {
   "cell_type": "code",
   "execution_count": 97,
   "id": "429b9a83",
   "metadata": {},
   "outputs": [],
   "source": [
    "import pprint"
   ]
  },
  {
   "cell_type": "code",
   "execution_count": 98,
   "id": "bfb66560",
   "metadata": {},
   "outputs": [
    {
     "name": "stdout",
     "output_type": "stream",
     "text": [
      "{'a': [10, 20, 30],\n",
      " 'b': [100, 200, 300, 400, 500],\n",
      " 'c': ['this', 'is', 'a', 'sample', 'sentence']}\n"
     ]
    }
   ],
   "source": [
    "pprint.pprint(d)"
   ]
  },
  {
   "cell_type": "code",
   "execution_count": 100,
   "id": "880a6478",
   "metadata": {},
   "outputs": [
    {
     "name": "stdout",
     "output_type": "stream",
     "text": [
      "{'a': [10, 20, 30],\n",
      " 'b': [100, 200, 300, 400, 500],\n",
      " 'c': ['this', 'is', 'a', 'sample', 'sentence']}\n"
     ]
    }
   ],
   "source": [
    "pprint.pp(d)"
   ]
  },
  {
   "cell_type": "markdown",
   "id": "b5189352",
   "metadata": {},
   "source": [
    "# Let's read a CSV file!"
   ]
  },
  {
   "cell_type": "code",
   "execution_count": 102,
   "id": "1fecb140",
   "metadata": {},
   "outputs": [
    {
     "name": "stdout",
     "output_type": "stream",
     "text": [
      "Country,FI,SW,DA,NO,EN,GE,DU,FL,FR,IT,SP,PO\r\n",
      "Germany,0,0,0,0,21,100,2,1,10,2,1,0\r\n",
      "Italy,0,0,0,0,5,3,0,0,11,100,1,0\r\n",
      "France,0,2,3,0,10,7,1,1,100,12,7,1\r\n",
      "Netherlands,0,0,0,0,41,47,100,100,16,2,2,0\r\n",
      "Belgium,0,0,0,0,14,15,0,59,44,2,1,0\r\n",
      "Luxemburg,0,0,0,0,31,100,4,1,92,10,0,0\r\n",
      "UK,0,0,0,0,100,7,0,0,15,3,2,0\r\n",
      "Portugal,0,0,0,0,9,0,0,0,10,1,2,100\r\n",
      "Austria,0,0,0,0,18,100,1,1,4,2,1,0\r\n",
      "Switzerland,0,0,0,0,21,83,1,2,64,23,3,1\r\n",
      "Sweden,5,100,10,11,43,25,0,0,6,1,1,0\r\n",
      "Denmark,0,22,100,20,38,36,1,1,10,3,1,0\r\n",
      "Norway,0,25,19,100,34,19,0,0,4,1,0,1\r\n",
      "Finland,100,23,0,0,12,11,0,0,2,1,0,0\r\n",
      "Spain,0,0,0,0,5,1,0,0,11,2,100,0\r\n",
      "Ireland,0,0,0,0,100,1,0,0,2,0,0,0\r\n"
     ]
    }
   ],
   "source": [
    "# in Jupyter, ! means: execute the following in terminal/CSV\n",
    "# on Unix/Mac, cat means: show me the file\n",
    "# so !cat means: show me the file now, using the Unix command\n",
    "\n",
    "!cat languages.csv"
   ]
  },
  {
   "cell_type": "code",
   "execution_count": 103,
   "id": "6fa4fea6",
   "metadata": {},
   "outputs": [
    {
     "name": "stdout",
     "output_type": "stream",
     "text": [
      "['Country', 'FI', 'SW', 'DA', 'NO', 'EN', 'GE', 'DU', 'FL', 'FR', 'IT', 'SP', 'PO']\n",
      "['Germany', '0', '0', '0', '0', '21', '100', '2', '1', '10', '2', '1', '0']\n",
      "['Italy', '0', '0', '0', '0', '5', '3', '0', '0', '11', '100', '1', '0']\n",
      "['France', '0', '2', '3', '0', '10', '7', '1', '1', '100', '12', '7', '1']\n",
      "['Netherlands', '0', '0', '0', '0', '41', '47', '100', '100', '16', '2', '2', '0']\n",
      "['Belgium', '0', '0', '0', '0', '14', '15', '0', '59', '44', '2', '1', '0']\n",
      "['Luxemburg', '0', '0', '0', '0', '31', '100', '4', '1', '92', '10', '0', '0']\n",
      "['UK', '0', '0', '0', '0', '100', '7', '0', '0', '15', '3', '2', '0']\n",
      "['Portugal', '0', '0', '0', '0', '9', '0', '0', '0', '10', '1', '2', '100']\n",
      "['Austria', '0', '0', '0', '0', '18', '100', '1', '1', '4', '2', '1', '0']\n",
      "['Switzerland', '0', '0', '0', '0', '21', '83', '1', '2', '64', '23', '3', '1']\n",
      "['Sweden', '5', '100', '10', '11', '43', '25', '0', '0', '6', '1', '1', '0']\n",
      "['Denmark', '0', '22', '100', '20', '38', '36', '1', '1', '10', '3', '1', '0']\n",
      "['Norway', '0', '25', '19', '100', '34', '19', '0', '0', '4', '1', '0', '1']\n",
      "['Finland', '100', '23', '0', '0', '12', '11', '0', '0', '2', '1', '0', '0']\n",
      "['Spain', '0', '0', '0', '0', '5', '1', '0', '0', '11', '2', '100', '0']\n",
      "['Ireland', '0', '0', '0', '0', '100', '1', '0', '0', '2', '0', '0', '0']\n"
     ]
    }
   ],
   "source": [
    "import csv\n",
    "\n",
    "with open('languages.csv') as csvfile:     # open the file for reading \n",
    "    r = csv.reader(csvfile)                # create a new csv.reader object with our file object\n",
    "    for row in r:                          # iterate over our CSV reader object\n",
    "        print(row)"
   ]
  },
  {
   "cell_type": "code",
   "execution_count": 108,
   "id": "c9948a2d",
   "metadata": {},
   "outputs": [
    {
     "name": "stdout",
     "output_type": "stream",
     "text": [
      "Country: EN\n",
      "Germany: 21\n",
      "Italy: 5\n",
      "France: 10\n",
      "Netherlands: 41\n",
      "Belgium: 14\n",
      "Luxemburg: 31\n",
      "UK: 100\n",
      "Portugal: 9\n",
      "Austria: 18\n",
      "Switzerland: 21\n",
      "Sweden: 43\n",
      "Denmark: 38\n",
      "Norway: 34\n",
      "Finland: 12\n",
      "Spain: 5\n",
      "Ireland: 100\n"
     ]
    }
   ],
   "source": [
    "# what proportion of each country speaks English well?\n",
    "\n",
    "import csv\n",
    "\n",
    "with open('languages.csv') as csvfile:     # open the file for reading \n",
    "    r = csv.reader(csvfile)                # create a new csv.reader object with our file object\n",
    "    for row in r:                          # iterate over our CSV reader object\n",
    "        country = row[0]\n",
    "        en = row[5]\n",
    "        print(f'{country}: {en}')"
   ]
  },
  {
   "cell_type": "code",
   "execution_count": 111,
   "id": "2e551f25",
   "metadata": {},
   "outputs": [
    {
     "name": "stdout",
     "output_type": "stream",
     "text": [
      "Enter two-letter language code: DU\n",
      "Proportion speaking DU:\n",
      "Country: DU\n",
      "Germany: 2\n",
      "Italy: 0\n",
      "France: 1\n",
      "Netherlands: 100\n",
      "Belgium: 0\n",
      "Luxemburg: 4\n",
      "UK: 0\n",
      "Portugal: 0\n",
      "Austria: 1\n",
      "Switzerland: 1\n",
      "Sweden: 0\n",
      "Denmark: 1\n",
      "Norway: 0\n",
      "Finland: 0\n",
      "Spain: 0\n",
      "Ireland: 0\n"
     ]
    }
   ],
   "source": [
    "# let's create a list with language names -> locations\n",
    "languages = [None, 'FI', 'SW', 'DA', 'NO', 'EN', 'GE', 'DU', 'FL', 'FR', 'IT', 'SP', 'PO']\n",
    "\n",
    "# I can use languages.index() to find the index/location of a language\n",
    "\n",
    "look_for = input('Enter two-letter language code: ').strip().upper()\n",
    "\n",
    "import csv\n",
    "\n",
    "print(f'Proportion speaking {look_for}:')\n",
    "with open('languages.csv') as csvfile:     # open the file for reading \n",
    "    r = csv.reader(csvfile)                # create a new csv.reader object with our file object\n",
    "    for row in r:                          # iterate over our CSV reader object\n",
    "        country = row[0]\n",
    "        lang = row[languages.index(look_for)]  # \n",
    "        print(f'{country}: {lang}')"
   ]
  },
  {
   "cell_type": "code",
   "execution_count": 113,
   "id": "0f10be88",
   "metadata": {},
   "outputs": [
    {
     "data": {
      "text/html": [
       "<pre style='white-space:pre;overflow-x:auto;line-height:normal'><span style=\"color: #800080; text-decoration-color: #800080; font-weight: bold\">datetime.datetime</span><span style=\"font-weight: bold\">(</span><span style=\"color: #008080; text-decoration-color: #008080; font-weight: bold\">2022</span>, <span style=\"color: #008080; text-decoration-color: #008080; font-weight: bold\">2</span>, <span style=\"color: #008080; text-decoration-color: #008080; font-weight: bold\">3</span>, <span style=\"color: #008080; text-decoration-color: #008080; font-weight: bold\">21</span>, <span style=\"color: #008080; text-decoration-color: #008080; font-weight: bold\">34</span>, <span style=\"color: #008080; text-decoration-color: #008080; font-weight: bold\">49</span>, <span style=\"color: #008080; text-decoration-color: #008080; font-weight: bold\">401069</span><span style=\"font-weight: bold\">)</span>\n",
       "</pre>"
      ],
      "text/plain": [
       "\u001b[1;35mdatetime.datetime\u001b[0m\u001b[1m(\u001b[0m\u001b[1;36m2022\u001b[0m, \u001b[1;36m2\u001b[0m, \u001b[1;36m3\u001b[0m, \u001b[1;36m21\u001b[0m, \u001b[1;36m34\u001b[0m, \u001b[1;36m49\u001b[0m, \u001b[1;36m401069\u001b[0m\u001b[1m)\u001b[0m\n"
      ]
     },
     "metadata": {},
     "output_type": "display_data"
    }
   ],
   "source": [
    "import datetime          # get the module\n",
    "\n",
    "datetime.datetime.now()  # a \"datetime.datetime\" object with year, month, day, hour, min, sec, nanosec"
   ]
  },
  {
   "cell_type": "code",
   "execution_count": 114,
   "id": "f9000e12",
   "metadata": {},
   "outputs": [
    {
     "data": {
      "text/html": [
       "<pre style='white-space:pre;overflow-x:auto;line-height:normal'><span style=\"color: #008080; text-decoration-color: #008080; font-weight: bold\">2022</span>\n",
       "</pre>"
      ],
      "text/plain": [
       "\u001b[1;36m2022\u001b[0m\n"
      ]
     },
     "metadata": {},
     "output_type": "display_data"
    }
   ],
   "source": [
    "now = datetime.datetime.now()\n",
    "\n",
    "now.year"
   ]
  },
  {
   "cell_type": "code",
   "execution_count": 115,
   "id": "8415387f",
   "metadata": {},
   "outputs": [
    {
     "data": {
      "text/html": [
       "<pre style='white-space:pre;overflow-x:auto;line-height:normal'><span style=\"color: #008080; text-decoration-color: #008080; font-weight: bold\">2</span>\n",
       "</pre>"
      ],
      "text/plain": [
       "\u001b[1;36m2\u001b[0m\n"
      ]
     },
     "metadata": {},
     "output_type": "display_data"
    }
   ],
   "source": [
    "now.month"
   ]
  },
  {
   "cell_type": "code",
   "execution_count": 117,
   "id": "7d1b29e5",
   "metadata": {},
   "outputs": [
    {
     "data": {
      "text/html": [
       "<pre style='white-space:pre;overflow-x:auto;line-height:normal'><span style=\"color: #800080; text-decoration-color: #800080; font-weight: bold\">datetime.timedelta</span><span style=\"font-weight: bold\">(</span><span style=\"color: #808000; text-decoration-color: #808000\">days</span>=<span style=\"color: #008080; text-decoration-color: #008080; font-weight: bold\">18832</span>, <span style=\"color: #808000; text-decoration-color: #808000\">seconds</span>=<span style=\"color: #008080; text-decoration-color: #008080; font-weight: bold\">77743</span>, <span style=\"color: #808000; text-decoration-color: #808000\">microseconds</span>=<span style=\"color: #008080; text-decoration-color: #008080; font-weight: bold\">108200</span><span style=\"font-weight: bold\">)</span>\n",
       "</pre>"
      ],
      "text/plain": [
       "\u001b[1;35mdatetime.timedelta\u001b[0m\u001b[1m(\u001b[0m\u001b[33mdays\u001b[0m=\u001b[1;36m18832\u001b[0m, \u001b[33mseconds\u001b[0m=\u001b[1;36m77743\u001b[0m, \u001b[33mmicroseconds\u001b[0m=\u001b[1;36m108200\u001b[0m\u001b[1m)\u001b[0m\n"
      ]
     },
     "metadata": {},
     "output_type": "display_data"
    }
   ],
   "source": [
    "# I get a \"time delta\" -- how much time has passed?\n",
    "datetime.datetime.now() - datetime.datetime(1970, 7, 14) "
   ]
  },
  {
   "cell_type": "code",
   "execution_count": 118,
   "id": "769b97e2",
   "metadata": {},
   "outputs": [
    {
     "data": {
      "text/html": [
       "<pre style='white-space:pre;overflow-x:auto;line-height:normal'><span style=\"color: #008080; text-decoration-color: #008080; font-weight: bold\">18832</span>\n",
       "</pre>"
      ],
      "text/plain": [
       "\u001b[1;36m18832\u001b[0m\n"
      ]
     },
     "metadata": {},
     "output_type": "display_data"
    }
   ],
   "source": [
    "delta = datetime.datetime.now() - datetime.datetime(1970, 7, 14) \n",
    "delta.days"
   ]
  },
  {
   "cell_type": "markdown",
   "id": "56cbfe26",
   "metadata": {},
   "source": [
    "# Exercise: How many days since you were born?\n",
    "\n",
    "1. Load up the `datetime` module with `import`.\n",
    "2. Use `datetime.datetime.now()` to get a datetime object describing today.\n",
    "3. Use `datetime.datetime`, passing it a year, month, and day, for your birthday.\n",
    "4. Subtract today from your birthday, and store into a `delta` object.\n",
    "5. Ask the delta for the number of days (with `.days`) since you were born.\n",
    "6. Be horrified!"
   ]
  },
  {
   "cell_type": "code",
   "execution_count": 119,
   "id": "b3b4191f",
   "metadata": {},
   "outputs": [
    {
     "data": {
      "text/html": [
       "<pre style='white-space:pre;overflow-x:auto;line-height:normal'><span style=\"color: #008080; text-decoration-color: #008080; font-weight: bold\">51.59452054794521</span>\n",
       "</pre>"
      ],
      "text/plain": [
       "\u001b[1;36m51.59452054794521\u001b[0m\n"
      ]
     },
     "metadata": {},
     "output_type": "display_data"
    }
   ],
   "source": [
    "delta.days / 365"
   ]
  },
  {
   "cell_type": "code",
   "execution_count": 120,
   "id": "702a382d",
   "metadata": {},
   "outputs": [
    {
     "data": {
      "text/html": [
       "<pre style='white-space:pre;overflow-x:auto;line-height:normal'><span style=\"color: #800080; text-decoration-color: #800080; font-weight: bold\">datetime.timedelta</span><span style=\"font-weight: bold\">(</span><span style=\"color: #808000; text-decoration-color: #808000\">days</span>=<span style=\"color: #008080; text-decoration-color: #008080; font-weight: bold\">18832</span>, <span style=\"color: #808000; text-decoration-color: #808000\">seconds</span>=<span style=\"color: #008080; text-decoration-color: #008080; font-weight: bold\">78240</span>, <span style=\"color: #808000; text-decoration-color: #808000\">microseconds</span>=<span style=\"color: #008080; text-decoration-color: #008080; font-weight: bold\">126940</span><span style=\"font-weight: bold\">)</span>\n",
       "</pre>"
      ],
      "text/plain": [
       "\u001b[1;35mdatetime.timedelta\u001b[0m\u001b[1m(\u001b[0m\u001b[33mdays\u001b[0m=\u001b[1;36m18832\u001b[0m, \u001b[33mseconds\u001b[0m=\u001b[1;36m78240\u001b[0m, \u001b[33mmicroseconds\u001b[0m=\u001b[1;36m126940\u001b[0m\u001b[1m)\u001b[0m\n"
      ]
     },
     "metadata": {},
     "output_type": "display_data"
    }
   ],
   "source": [
    "import datetime  \n",
    "now = datetime.datetime.now()  \n",
    "birthday = datetime.datetime(1970, 7, 14)\n",
    "\n",
    "delta = now - birthday\n",
    "delta"
   ]
  },
  {
   "cell_type": "code",
   "execution_count": 121,
   "id": "995bc589",
   "metadata": {},
   "outputs": [
    {
     "data": {
      "text/html": [
       "<pre style='white-space:pre;overflow-x:auto;line-height:normal'><span style=\"color: #008080; text-decoration-color: #008080; font-weight: bold\">18832</span>\n",
       "</pre>"
      ],
      "text/plain": [
       "\u001b[1;36m18832\u001b[0m\n"
      ]
     },
     "metadata": {},
     "output_type": "display_data"
    }
   ],
   "source": [
    "delta.days"
   ]
  },
  {
   "cell_type": "code",
   "execution_count": 122,
   "id": "13169d27",
   "metadata": {},
   "outputs": [
    {
     "data": {
      "text/html": [
       "<pre style='white-space:pre;overflow-x:auto;line-height:normal'><span style=\"color: #008080; text-decoration-color: #008080; font-weight: bold\">51.59452054794521</span>\n",
       "</pre>"
      ],
      "text/plain": [
       "\u001b[1;36m51.59452054794521\u001b[0m\n"
      ]
     },
     "metadata": {},
     "output_type": "display_data"
    }
   ],
   "source": [
    "delta.days / 365"
   ]
  },
  {
   "cell_type": "code",
   "execution_count": 124,
   "id": "7932f915",
   "metadata": {},
   "outputs": [
    {
     "data": {
      "text/html": [
       "<pre style='white-space:pre;overflow-x:auto;line-height:normal'><span style=\"color: #800080; text-decoration-color: #800080; font-weight: bold\">datetime.datetime</span><span style=\"font-weight: bold\">(</span><span style=\"color: #008080; text-decoration-color: #008080; font-weight: bold\">1972</span>, <span style=\"color: #008080; text-decoration-color: #008080; font-weight: bold\">5</span>, <span style=\"color: #008080; text-decoration-color: #008080; font-weight: bold\">29</span>, <span style=\"color: #008080; text-decoration-color: #008080; font-weight: bold\">21</span>, <span style=\"color: #008080; text-decoration-color: #008080; font-weight: bold\">44</span>, <span style=\"color: #008080; text-decoration-color: #008080; font-weight: bold\">0</span>, <span style=\"color: #008080; text-decoration-color: #008080; font-weight: bold\">126940</span><span style=\"font-weight: bold\">)</span>\n",
       "</pre>"
      ],
      "text/plain": [
       "\u001b[1;35mdatetime.datetime\u001b[0m\u001b[1m(\u001b[0m\u001b[1;36m1972\u001b[0m, \u001b[1;36m5\u001b[0m, \u001b[1;36m29\u001b[0m, \u001b[1;36m21\u001b[0m, \u001b[1;36m44\u001b[0m, \u001b[1;36m0\u001b[0m, \u001b[1;36m126940\u001b[0m\u001b[1m)\u001b[0m\n"
      ]
     },
     "metadata": {},
     "output_type": "display_data"
    }
   ],
   "source": [
    "now - datetime.timedelta(days=18147)"
   ]
  },
  {
   "cell_type": "markdown",
   "id": "97463b57",
   "metadata": {},
   "source": [
    "# Next up\n",
    "\n",
    "- Install things from PyPI using `pip`\n",
    "- `pip` tips!\n",
    "- Q&A about Python and **THE FUTURE**"
   ]
  },
  {
   "cell_type": "markdown",
   "id": "8a45eca9",
   "metadata": {},
   "source": [
    "# Installing packages from PyPI with `pip`\n",
    "\n",
    "`pip` comes with Python; it's part of the Python standard library. It is a module, but you almost never want to import it into a program.  Rather, you want to run it as a standalone program from the command line.\n",
    "\n",
    "Meaning: Don't try to run `pip` from Jupyter.  It's not a Python function."
   ]
  },
  {
   "cell_type": "code",
   "execution_count": 125,
   "id": "d24523ea",
   "metadata": {},
   "outputs": [
    {
     "data": {
      "text/html": [
       "<pre style='white-space:pre;overflow-x:auto;line-height:normal'>\n",
       "<span style=\"font-weight: bold\">[</span>\n",
       "<span style=\"color: #7fbf7f; text-decoration-color: #7fbf7f\">│   </span><span style=\"color: #008000; text-decoration-color: #008000\">\"/Users/reuven/Courses/Current/O'Reilly-2022-q1\"</span>,\n",
       "<span style=\"color: #7fbf7f; text-decoration-color: #7fbf7f\">│   </span><span style=\"color: #008000; text-decoration-color: #008000\">'/usr/local/Cellar/python@3.10/3.10.1/Frameworks/Python.framework/Versions/3.10/lib/python310.zip'</span>,\n",
       "<span style=\"color: #7fbf7f; text-decoration-color: #7fbf7f\">│   </span><span style=\"color: #008000; text-decoration-color: #008000\">'/usr/local/Cellar/python@3.10/3.10.1/Frameworks/Python.framework/Versions/3.10/lib/python3.10'</span>,\n",
       "<span style=\"color: #7fbf7f; text-decoration-color: #7fbf7f\">│   </span><span style=\"color: #008000; text-decoration-color: #008000\">'/usr/local/Cellar/python@3.10/3.10.1/Frameworks/Python.framework/Versions/3.10/lib/python3.10/lib-dynload'</span>,\n",
       "<span style=\"color: #7fbf7f; text-decoration-color: #7fbf7f\">│   </span><span style=\"color: #008000; text-decoration-color: #008000\">''</span>,\n",
       "<span style=\"color: #7fbf7f; text-decoration-color: #7fbf7f\">│   </span><span style=\"color: #008000; text-decoration-color: #008000\">'/usr/local/lib/python3.10/site-packages'</span>,\n",
       "<span style=\"color: #7fbf7f; text-decoration-color: #7fbf7f\">│   </span><span style=\"color: #008000; text-decoration-color: #008000\">'/usr/local/Cellar/pybind11/2.9.0/libexec/lib/python3.10/site-packages'</span>,\n",
       "<span style=\"color: #7fbf7f; text-decoration-color: #7fbf7f\">│   </span><span style=\"color: #008000; text-decoration-color: #008000\">'/usr/local/lib/python3.10/site-packages/IPython/extensions'</span>,\n",
       "<span style=\"color: #7fbf7f; text-decoration-color: #7fbf7f\">│   </span><span style=\"color: #008000; text-decoration-color: #008000\">'/Users/reuven/.ipython'</span>\n",
       "<span style=\"font-weight: bold\">]</span>\n",
       "</pre>"
      ],
      "text/plain": [
       "\n",
       "\u001b[1m[\u001b[0m\n",
       "\u001b[2;32m│   \u001b[0m\u001b[32m\"/Users/reuven/Courses/Current/O'Reilly-2022-q1\"\u001b[0m,\n",
       "\u001b[2;32m│   \u001b[0m\u001b[32m'/usr/local/Cellar/python@3.10/3.10.1/Frameworks/Python.framework/Versions/3.10/lib/python310.zip'\u001b[0m,\n",
       "\u001b[2;32m│   \u001b[0m\u001b[32m'/usr/local/Cellar/python@3.10/3.10.1/Frameworks/Python.framework/Versions/3.10/lib/python3.10'\u001b[0m,\n",
       "\u001b[2;32m│   \u001b[0m\u001b[32m'/usr/local/Cellar/python@3.10/3.10.1/Frameworks/Python.framework/Versions/3.10/lib/python3.10/lib-dynload'\u001b[0m,\n",
       "\u001b[2;32m│   \u001b[0m\u001b[32m''\u001b[0m,\n",
       "\u001b[2;32m│   \u001b[0m\u001b[32m'/usr/local/lib/python3.10/site-packages'\u001b[0m,\n",
       "\u001b[2;32m│   \u001b[0m\u001b[32m'/usr/local/Cellar/pybind11/2.9.0/libexec/lib/python3.10/site-packages'\u001b[0m,\n",
       "\u001b[2;32m│   \u001b[0m\u001b[32m'/usr/local/lib/python3.10/site-packages/IPython/extensions'\u001b[0m,\n",
       "\u001b[2;32m│   \u001b[0m\u001b[32m'/Users/reuven/.ipython'\u001b[0m\n",
       "\u001b[1m]\u001b[0m\n"
      ]
     },
     "metadata": {},
     "output_type": "display_data"
    }
   ],
   "source": [
    "sys.path"
   ]
  },
  {
   "cell_type": "code",
   "execution_count": 126,
   "id": "56cec8bb",
   "metadata": {},
   "outputs": [
    {
     "data": {
      "text/html": [
       "<div id='friendly-message9'><pre style='white-space:pre;overflow-x:auto;line-height:normal'><span style=\"color: #dd0000; text-decoration-color: #dd0000; background-color: #ffffff\">RuntimeError</span>: This event loop is already running                      \n",
       "</pre></div>"
      ],
      "text/plain": [
       "\u001b[38;2;221;0;0;48;2;255;255;255mRuntimeError\u001b[0m: This event loop is already running                      \n"
      ]
     },
     "metadata": {},
     "output_type": "display_data"
    },
    {
     "data": {
      "text/html": [
       "\n",
       "        <button\n",
       "            id='friendly-tb-btn-show9'\n",
       "            onclick='friendly_toggle_more9()'\n",
       "            style=''>\n",
       "        More ...\n",
       "        </button>\n",
       "        <script type=\"text/Javascript\"> function friendly_toggle_more9(){\n",
       "        var btn = document.getElementById('friendly-tb-btn-show9');\n",
       "        var btn_what = document.getElementById('friendly-tb-btn-show-what9');\n",
       "        var btn_where = document.getElementById('friendly-tb-btn-show-where9');\n",
       "        var btn_why = document.getElementById('friendly-tb-btn-show-why9');\n",
       "        var message = document.getElementById('friendly-message9');\n",
       "        var friendly_tb_content = document.getElementById('friendly-tb-friendly_tb-content9');\n",
       "        var what_content = document.getElementById('friendly-tb-what-content9');\n",
       "        var why_content = document.getElementById('friendly-tb-why-content9');\n",
       "        var where_content = document.getElementById('friendly-tb-where-content9');\n",
       "\n",
       "        if (btn_what.style.display == 'none'){\n",
       "            message.style.display = 'none';\n",
       "            btn_what.style.display = 'block';\n",
       "            btn_why.style.display = 'block';\n",
       "            btn_where.style.display = 'block';\n",
       "            friendly_tb_content.style.display = 'block';\n",
       "            btn.textContent = \"Show message only\";\n",
       "        } else {\n",
       "            btn_what.style.display = 'none';\n",
       "            btn_what.textContent = 'what()';\n",
       "            btn_why.style.display = 'none';\n",
       "            btn_why.textContent = 'why()';\n",
       "            btn_where.style.display = 'none';\n",
       "            btn_where.textContent = 'where()';\n",
       "            what_content.style.display = 'none';\n",
       "            why_content.style.display = 'none';\n",
       "            where_content.style.display = 'none';\n",
       "            friendly_tb_content.style.display = 'none';\n",
       "            message.style.display = 'block';\n",
       "            btn.textContent = \"More ...\";\n",
       "        }\n",
       "        };\n",
       "        </script>\n",
       "        "
      ]
     },
     "metadata": {},
     "output_type": "display_data"
    },
    {
     "data": {
      "text/html": [
       "<div id='friendly-tb-friendly_tb-content9' style='display:none'><pre style='white-space:pre;overflow-x:auto;line-height:normal'><span style=\"color: #dd0000; text-decoration-color: #dd0000; background-color: #ffffff\">Traceback (most recent call last):</span><span style=\"background-color: #ffffff\">                                                                  </span>\n",
       "<span style=\"color: #101010; text-decoration-color: #101010; background-color: #ffffff\">  Code block </span><span style=\"color: #783114; text-decoration-color: #783114; background-color: #ffffff\">[</span><span style=\"color: #101010; text-decoration-color: #101010; background-color: #ffffff\">126</span><span style=\"color: #783114; text-decoration-color: #783114; background-color: #ffffff\">]</span><span style=\"color: #101010; text-decoration-color: #101010; background-color: #ffffff\">, line 3, in </span><span style=\"color: #0011aa; text-decoration-color: #0011aa; background-color: #ffffff\">&lt;module&gt;</span><span style=\"background-color: #ffffff\">                                                             </span>\n",
       "<span style=\"color: #101010; text-decoration-color: #101010; background-color: #ffffff\">    </span><span style=\"color: #005500; text-decoration-color: #005500; background-color: #ffffff\">print</span><span style=\"color: #783114; text-decoration-color: #783114; background-color: #ffffff\">(</span><span style=\"color: #0011aa; text-decoration-color: #0011aa; background-color: #ffffff\">MacLookup</span><span style=\"color: #783114; text-decoration-color: #783114; background-color: #ffffff\">().</span><span style=\"color: #0011aa; text-decoration-color: #0011aa; background-color: #ffffff\">lookup</span><span style=\"color: #783114; text-decoration-color: #783114; background-color: #ffffff\">(</span><span style=\"color: #8b008b; text-decoration-color: #8b008b; background-color: #ffffff\">\"00:80:41:12:FE\"</span><span style=\"color: #783114; text-decoration-color: #783114; background-color: #ffffff\">))</span><span style=\"background-color: #ffffff\">                                                     </span>\n",
       "<span style=\"color: #101010; text-decoration-color: #101010; background-color: #ffffff\">  File </span><span style=\"color: #005500; text-decoration-color: #005500; background-color: #ffffff\">\"LOCAL:/mac_vendor_lookup.py\"</span><span style=\"color: #101010; text-decoration-color: #101010; background-color: #ffffff\">, line 122, in </span><span style=\"color: #0011aa; text-decoration-color: #0011aa; background-color: #ffffff\">lookup</span><span style=\"background-color: #ffffff\">                                           </span>\n",
       "<span style=\"color: #101010; text-decoration-color: #101010; background-color: #ffffff\">    </span><span style=\"color: #005500; text-decoration-color: #005500; background-color: #ffffff\">return</span><span style=\"color: #101010; text-decoration-color: #101010; background-color: #ffffff\"> </span><span style=\"color: #005500; text-decoration-color: #005500; background-color: #ffffff\">self</span><span style=\"color: #783114; text-decoration-color: #783114; background-color: #ffffff\">.</span><span style=\"color: #0011aa; text-decoration-color: #0011aa; background-color: #ffffff\">loop</span><span style=\"color: #783114; text-decoration-color: #783114; background-color: #ffffff\">.</span><span style=\"color: #0011aa; text-decoration-color: #0011aa; background-color: #ffffff\">run_until_complete</span><span style=\"color: #783114; text-decoration-color: #783114; background-color: #ffffff\">(</span><span style=\"color: #005500; text-decoration-color: #005500; background-color: #ffffff\">self</span><span style=\"color: #783114; text-decoration-color: #783114; background-color: #ffffff\">.</span><span style=\"color: #0011aa; text-decoration-color: #0011aa; background-color: #ffffff\">async_lookup</span><span style=\"color: #783114; text-decoration-color: #783114; background-color: #ffffff\">.</span><span style=\"color: #0011aa; text-decoration-color: #0011aa; background-color: #ffffff\">lookup</span><span style=\"color: #783114; text-decoration-color: #783114; background-color: #ffffff\">(</span><span style=\"color: #0011aa; text-decoration-color: #0011aa; background-color: #ffffff\">mac</span><span style=\"color: #783114; text-decoration-color: #783114; background-color: #ffffff\">))</span><span style=\"background-color: #ffffff\">                              </span>\n",
       "<span style=\"color: #dd0000; text-decoration-color: #dd0000; background-color: #ffffff\">RuntimeError</span><span style=\"color: #101010; text-decoration-color: #101010; background-color: #ffffff\">: </span><span style=\"color: #0011aa; text-decoration-color: #0011aa; background-color: #ffffff\">This event loop is already running</span><span style=\"background-color: #ffffff\">                                                    </span>\n",
       "\n",
       "Friendly-traceback does not know the cause of this error.                                           \n",
       "</pre></div>"
      ],
      "text/plain": [
       "\u001b[38;2;221;0;0;48;2;255;255;255mTraceback (most recent call last):\u001b[0m\u001b[48;2;255;255;255m                                                                  \u001b[0m\n",
       "\u001b[38;2;16;16;16;48;2;255;255;255m  Code block \u001b[0m\u001b[38;2;120;49;20;48;2;255;255;255m[\u001b[0m\u001b[38;2;16;16;16;48;2;255;255;255m126\u001b[0m\u001b[38;2;120;49;20;48;2;255;255;255m]\u001b[0m\u001b[38;2;16;16;16;48;2;255;255;255m, line \u001b[0m\u001b[38;2;16;16;16;48;2;255;255;255m3\u001b[0m\u001b[38;2;16;16;16;48;2;255;255;255m, in \u001b[0m\u001b[38;2;0;17;170;48;2;255;255;255m<module>\u001b[0m\u001b[48;2;255;255;255m                                                             \u001b[0m\n",
       "\u001b[38;2;16;16;16;48;2;255;255;255m    \u001b[0m\u001b[38;2;0;85;0;48;2;255;255;255mprint\u001b[0m\u001b[38;2;120;49;20;48;2;255;255;255m(\u001b[0m\u001b[38;2;0;17;170;48;2;255;255;255mMacLookup\u001b[0m\u001b[38;2;120;49;20;48;2;255;255;255m(\u001b[0m\u001b[38;2;120;49;20;48;2;255;255;255m)\u001b[0m\u001b[38;2;120;49;20;48;2;255;255;255m.\u001b[0m\u001b[38;2;0;17;170;48;2;255;255;255mlookup\u001b[0m\u001b[38;2;120;49;20;48;2;255;255;255m(\u001b[0m\u001b[38;2;139;0;139;48;2;255;255;255m\"\u001b[0m\u001b[38;2;139;0;139;48;2;255;255;255m00:80:41:12:FE\u001b[0m\u001b[38;2;139;0;139;48;2;255;255;255m\"\u001b[0m\u001b[38;2;120;49;20;48;2;255;255;255m)\u001b[0m\u001b[38;2;120;49;20;48;2;255;255;255m)\u001b[0m\u001b[48;2;255;255;255m                                                     \u001b[0m\n",
       "\u001b[38;2;16;16;16;48;2;255;255;255m  File \u001b[0m\u001b[38;2;0;85;0;48;2;255;255;255m\"LOCAL:/mac_vendor_lookup.py\"\u001b[0m\u001b[38;2;16;16;16;48;2;255;255;255m, line \u001b[0m\u001b[38;2;16;16;16;48;2;255;255;255m122\u001b[0m\u001b[38;2;16;16;16;48;2;255;255;255m, in \u001b[0m\u001b[38;2;0;17;170;48;2;255;255;255mlookup\u001b[0m\u001b[48;2;255;255;255m                                           \u001b[0m\n",
       "\u001b[38;2;16;16;16;48;2;255;255;255m    \u001b[0m\u001b[38;2;0;85;0;48;2;255;255;255mreturn\u001b[0m\u001b[38;2;16;16;16;48;2;255;255;255m \u001b[0m\u001b[38;2;0;85;0;48;2;255;255;255mself\u001b[0m\u001b[38;2;120;49;20;48;2;255;255;255m.\u001b[0m\u001b[38;2;0;17;170;48;2;255;255;255mloop\u001b[0m\u001b[38;2;120;49;20;48;2;255;255;255m.\u001b[0m\u001b[38;2;0;17;170;48;2;255;255;255mrun_until_complete\u001b[0m\u001b[38;2;120;49;20;48;2;255;255;255m(\u001b[0m\u001b[38;2;0;85;0;48;2;255;255;255mself\u001b[0m\u001b[38;2;120;49;20;48;2;255;255;255m.\u001b[0m\u001b[38;2;0;17;170;48;2;255;255;255masync_lookup\u001b[0m\u001b[38;2;120;49;20;48;2;255;255;255m.\u001b[0m\u001b[38;2;0;17;170;48;2;255;255;255mlookup\u001b[0m\u001b[38;2;120;49;20;48;2;255;255;255m(\u001b[0m\u001b[38;2;0;17;170;48;2;255;255;255mmac\u001b[0m\u001b[38;2;120;49;20;48;2;255;255;255m)\u001b[0m\u001b[38;2;120;49;20;48;2;255;255;255m)\u001b[0m\u001b[48;2;255;255;255m                              \u001b[0m\n",
       "\u001b[38;2;221;0;0;48;2;255;255;255mRuntimeError\u001b[0m\u001b[38;2;16;16;16;48;2;255;255;255m: \u001b[0m\u001b[38;2;0;17;170;48;2;255;255;255mThis event loop is already running\u001b[0m\u001b[48;2;255;255;255m                                                    \u001b[0m\n",
       "\n",
       "Friendly-traceback does not know the cause of this error.                                           \n"
      ]
     },
     "metadata": {},
     "output_type": "display_data"
    },
    {
     "data": {
      "text/html": [
       "<script type=\"text/Javascript\"> function toggle_what9(){\n",
       "     var content = document.getElementById('friendly-tb-what-content9');\n",
       "     var btn = document.getElementById('friendly-tb-btn-show-what9');\n",
       "        if (content.style.display === 'none') {\n",
       "            content.style.display = 'block';\n",
       "            btn.textContent = \"Hide what()\";\n",
       "        } else {\n",
       "            content.style.display = 'none';\n",
       "            btn.textContent = \"what()\";\n",
       "       }\n",
       "    }\n",
       "     </script>\n",
       "     <button\n",
       "         id='friendly-tb-btn-show-what9'\n",
       "         onclick='toggle_what9()'\n",
       "         style='display:none '>\n",
       "     what()\n",
       "     </button>\n",
       "    "
      ]
     },
     "metadata": {},
     "output_type": "display_data"
    },
    {
     "data": {
      "text/html": [
       "<div id='friendly-tb-what-content9' style='display:none'><pre style='white-space:pre;overflow-x:auto;line-height:normal'>A <span style=\"color: #dd0000; text-decoration-color: #dd0000; background-color: #ffffff\">RuntimeError</span> is raised when an error is detected that doesn't fall  \n",
       "in any of the more specific exception types defined by Python.        \n",
       "</pre></div>"
      ],
      "text/plain": [
       "A \u001b[38;2;221;0;0;48;2;255;255;255mRuntimeError\u001b[0m is raised when an error is detected that doesn't fall  \n",
       "in any of the more specific exception types defined by Python.        \n"
      ]
     },
     "metadata": {},
     "output_type": "display_data"
    },
    {
     "data": {
      "text/html": [
       "<script type=\"text/Javascript\"> function toggle_why9(){\n",
       "     var content = document.getElementById('friendly-tb-why-content9');\n",
       "     var btn = document.getElementById('friendly-tb-btn-show-why9');\n",
       "        if (content.style.display === 'none') {\n",
       "            content.style.display = 'block';\n",
       "            btn.textContent = \"Hide why()\";\n",
       "        } else {\n",
       "            content.style.display = 'none';\n",
       "            btn.textContent = \"why()\";\n",
       "       }\n",
       "    }\n",
       "     </script>\n",
       "     <button\n",
       "         id='friendly-tb-btn-show-why9'\n",
       "         onclick='toggle_why9()'\n",
       "         style='display:none '>\n",
       "     why()\n",
       "     </button>\n",
       "    "
      ]
     },
     "metadata": {},
     "output_type": "display_data"
    },
    {
     "data": {
      "text/html": [
       "<div id='friendly-tb-why-content9' style='display:none'><pre style='white-space:pre;overflow-x:auto;line-height:normal'>No information is known about this exception. Please report this      \n",
       "example to                                                            \n",
       "https://github.com/friendly-traceback/friendly-traceback/issues/new If\n",
       "you are using a REPL, use <span style=\"color: #0011aa; text-decoration-color: #0011aa; background-color: #ffffff\">www</span><span style=\"color: #783114; text-decoration-color: #783114; background-color: #ffffff\">(</span><span style=\"color: #8b008b; text-decoration-color: #8b008b; background-color: #ffffff\">'bug'</span><span style=\"color: #783114; text-decoration-color: #783114; background-color: #ffffff\">)</span> to do so.                        \n",
       "\n",
       "If you are using the Friendly console, use <span style=\"color: #0011aa; text-decoration-color: #0011aa; background-color: #ffffff\">www</span><span style=\"color: #783114; text-decoration-color: #783114; background-color: #ffffff\">()</span> to do an Internet    \n",
       "search for this particular case.                                      \n",
       "</pre></div>"
      ],
      "text/plain": [
       "No information is known about this exception. Please report this      \n",
       "example to                                                            \n",
       "https://github.com/friendly-traceback/friendly-traceback/issues/new If\n",
       "you are using a REPL, use \u001b[38;2;0;17;170;48;2;255;255;255mwww\u001b[0m\u001b[38;2;120;49;20;48;2;255;255;255m(\u001b[0m\u001b[38;2;139;0;139;48;2;255;255;255m'\u001b[0m\u001b[38;2;139;0;139;48;2;255;255;255mbug\u001b[0m\u001b[38;2;139;0;139;48;2;255;255;255m'\u001b[0m\u001b[38;2;120;49;20;48;2;255;255;255m)\u001b[0m to do so.                        \n",
       "\n",
       "If you are using the Friendly console, use \u001b[38;2;0;17;170;48;2;255;255;255mwww\u001b[0m\u001b[38;2;120;49;20;48;2;255;255;255m(\u001b[0m\u001b[38;2;120;49;20;48;2;255;255;255m)\u001b[0m to do an Internet    \n",
       "search for this particular case.                                      \n"
      ]
     },
     "metadata": {},
     "output_type": "display_data"
    },
    {
     "data": {
      "text/html": [
       "<script type=\"text/Javascript\"> function toggle_where9(){\n",
       "     var content = document.getElementById('friendly-tb-where-content9');\n",
       "     var btn = document.getElementById('friendly-tb-btn-show-where9');\n",
       "        if (content.style.display === 'none') {\n",
       "            content.style.display = 'block';\n",
       "            btn.textContent = \"Hide where()\";\n",
       "        } else {\n",
       "            content.style.display = 'none';\n",
       "            btn.textContent = \"where()\";\n",
       "       }\n",
       "    }\n",
       "     </script>\n",
       "     <button\n",
       "         id='friendly-tb-btn-show-where9'\n",
       "         onclick='toggle_where9()'\n",
       "         style='display:none '>\n",
       "     where()\n",
       "     </button>\n",
       "    "
      ]
     },
     "metadata": {},
     "output_type": "display_data"
    },
    {
     "data": {
      "text/html": [
       "<div id='friendly-tb-where-content9' style='display:none'><pre style='white-space:pre;overflow-x:auto;line-height:normal'><span style=\"color: #dd0000; text-decoration-color: #dd0000\">Execution stopped on line 3 of code block </span><span style=\"color: #783114; text-decoration-color: #783114; background-color: #ffffff\">[</span><span style=\"color: #101010; text-decoration-color: #101010; background-color: #ffffff\">126</span><span style=\"color: #783114; text-decoration-color: #783114; background-color: #ffffff\">]</span><span style=\"color: #dd0000; text-decoration-color: #dd0000\">.</span>                                                    \n",
       "\n",
       "<span style=\"color: #101010; text-decoration-color: #101010; background-color: #ffffff\">       1</span><span style=\"color: #783114; text-decoration-color: #783114; background-color: #ffffff\">:</span><span style=\"color: #101010; text-decoration-color: #101010; background-color: #ffffff\"> </span><span style=\"color: #005500; text-decoration-color: #005500; background-color: #ffffff\">from</span><span style=\"color: #101010; text-decoration-color: #101010; background-color: #ffffff\"> </span><span style=\"color: #0011aa; text-decoration-color: #0011aa; background-color: #ffffff\">mac_vendor_lookup</span><span style=\"color: #101010; text-decoration-color: #101010; background-color: #ffffff\"> </span><span style=\"color: #005500; text-decoration-color: #005500; background-color: #ffffff\">import</span><span style=\"color: #101010; text-decoration-color: #101010; background-color: #ffffff\"> </span><span style=\"color: #0011aa; text-decoration-color: #0011aa; background-color: #ffffff\">MacLookup</span><span style=\"background-color: #ffffff\">                                                   </span>\n",
       "<span style=\"color: #101010; text-decoration-color: #101010; background-color: #ffffff\">    </span><span style=\"color: #783114; text-decoration-color: #783114; background-color: #ffffff\">--&gt;</span><span style=\"color: #101010; text-decoration-color: #101010; background-color: #ffffff\">3</span><span style=\"color: #783114; text-decoration-color: #783114; background-color: #ffffff\">:</span><span style=\"color: #101010; text-decoration-color: #101010; background-color: #ffffff\"> </span><span style=\"color: #005500; text-decoration-color: #005500; background-color: #ffffff\">print</span><span style=\"color: #783114; text-decoration-color: #783114; background-color: #ffffff\">(</span><span style=\"color: #0011aa; text-decoration-color: #0011aa; background-color: #ffffff\">MacLookup</span><span style=\"color: #783114; text-decoration-color: #783114; background-color: #ffffff\">().</span><span style=\"color: #0011aa; text-decoration-color: #0011aa; background-color: #ffffff\">lookup</span><span style=\"color: #783114; text-decoration-color: #783114; background-color: #ffffff\">(</span><span style=\"color: #8b008b; text-decoration-color: #8b008b; background-color: #ffffff\">\"00:80:41:12:FE\"</span><span style=\"color: #783114; text-decoration-color: #783114; background-color: #ffffff\">))</span><span style=\"background-color: #ffffff\">                                               </span>\n",
       "<span style=\"color: #101010; text-decoration-color: #101010; background-color: #ffffff\">                </span><span style=\"color: #783114; text-decoration-color: #783114; background-color: #ffffff\">^^^^^^^^^^^^^^^^^^^^^^^^^^^^^^^^^^^^</span><span style=\"background-color: #ffffff\">                                                </span>\n",
       "\n",
       "<span style=\"color: #101010; text-decoration-color: #101010; background-color: #ffffff\">    </span><span style=\"color: #0011aa; text-decoration-color: #0011aa; background-color: #ffffff\">MacLookup</span><span style=\"color: #783114; text-decoration-color: #783114; background-color: #ffffff\">:</span><span style=\"color: #101010; text-decoration-color: #101010; background-color: #ffffff\">  </span><span style=\"color: #783114; text-decoration-color: #783114; background-color: #ffffff\">&lt;</span><span style=\"color: #005500; text-decoration-color: #005500; background-color: #ffffff\">class</span><span style=\"color: #101010; text-decoration-color: #101010; background-color: #ffffff\"> </span><span style=\"color: #0011aa; text-decoration-color: #0011aa; background-color: #ffffff\">mac_vendor_lookup</span><span style=\"color: #783114; text-decoration-color: #783114; background-color: #ffffff\">.</span><span style=\"color: #0011aa; text-decoration-color: #0011aa; background-color: #ffffff\">MacLookup</span><span style=\"color: #783114; text-decoration-color: #783114; background-color: #ffffff\">&gt;</span><span style=\"background-color: #ffffff\">                                                 </span>\n",
       "<span style=\"color: #101010; text-decoration-color: #101010; background-color: #ffffff\">    </span><span style=\"color: #005500; text-decoration-color: #005500; background-color: #ffffff\">print</span><span style=\"color: #783114; text-decoration-color: #783114; background-color: #ffffff\">:</span><span style=\"color: #101010; text-decoration-color: #101010; background-color: #ffffff\">  </span><span style=\"color: #783114; text-decoration-color: #783114; background-color: #ffffff\">&lt;</span><span style=\"color: #0011aa; text-decoration-color: #0011aa; background-color: #ffffff\">builtin</span><span style=\"color: #101010; text-decoration-color: #101010; background-color: #ffffff\"> </span><span style=\"color: #0011aa; text-decoration-color: #0011aa; background-color: #ffffff\">function</span><span style=\"color: #101010; text-decoration-color: #101010; background-color: #ffffff\"> </span><span style=\"color: #005500; text-decoration-color: #005500; background-color: #ffffff\">print</span><span style=\"color: #783114; text-decoration-color: #783114; background-color: #ffffff\">&gt;</span><span style=\"background-color: #ffffff\">                                                                </span>\n",
       "\n",
       "<span style=\"color: #dd0000; text-decoration-color: #dd0000\">Exception raised on line 122 of file LOCAL:/mac_vendor_lookup.py.</span>                                   \n",
       "\n",
       "<span style=\"color: #101010; text-decoration-color: #101010; background-color: #ffffff\">       121</span><span style=\"color: #783114; text-decoration-color: #783114; background-color: #ffffff\">:</span><span style=\"color: #101010; text-decoration-color: #101010; background-color: #ffffff\">     </span><span style=\"color: #005500; text-decoration-color: #005500; background-color: #ffffff\">def</span><span style=\"color: #101010; text-decoration-color: #101010; background-color: #ffffff\"> </span><span style=\"color: #0011aa; text-decoration-color: #0011aa; background-color: #ffffff\">lookup</span><span style=\"color: #783114; text-decoration-color: #783114; background-color: #ffffff\">(</span><span style=\"color: #005500; text-decoration-color: #005500; background-color: #ffffff\">self</span><span style=\"color: #783114; text-decoration-color: #783114; background-color: #ffffff\">,</span><span style=\"color: #101010; text-decoration-color: #101010; background-color: #ffffff\"> </span><span style=\"color: #0011aa; text-decoration-color: #0011aa; background-color: #ffffff\">mac</span><span style=\"color: #783114; text-decoration-color: #783114; background-color: #ffffff\">):</span><span style=\"background-color: #ffffff\">                                                              </span>\n",
       "<span style=\"color: #101010; text-decoration-color: #101010; background-color: #ffffff\">    </span><span style=\"color: #783114; text-decoration-color: #783114; background-color: #ffffff\">--&gt;</span><span style=\"color: #101010; text-decoration-color: #101010; background-color: #ffffff\">122</span><span style=\"color: #783114; text-decoration-color: #783114; background-color: #ffffff\">:</span><span style=\"color: #101010; text-decoration-color: #101010; background-color: #ffffff\">         </span><span style=\"color: #005500; text-decoration-color: #005500; background-color: #ffffff\">return</span><span style=\"color: #101010; text-decoration-color: #101010; background-color: #ffffff\"> </span><span style=\"color: #005500; text-decoration-color: #005500; background-color: #ffffff\">self</span><span style=\"color: #783114; text-decoration-color: #783114; background-color: #ffffff\">.</span><span style=\"color: #0011aa; text-decoration-color: #0011aa; background-color: #ffffff\">loop</span><span style=\"color: #783114; text-decoration-color: #783114; background-color: #ffffff\">.</span><span style=\"color: #0011aa; text-decoration-color: #0011aa; background-color: #ffffff\">run_until_complete</span><span style=\"color: #783114; text-decoration-color: #783114; background-color: #ffffff\">(</span><span style=\"color: #005500; text-decoration-color: #005500; background-color: #ffffff\">self</span><span style=\"color: #783114; text-decoration-color: #783114; background-color: #ffffff\">.</span><span style=\"color: #0011aa; text-decoration-color: #0011aa; background-color: #ffffff\">async_lookup</span><span style=\"color: #783114; text-decoration-color: #783114; background-color: #ffffff\">.</span><span style=\"color: #0011aa; text-decoration-color: #0011aa; background-color: #ffffff\">lookup</span><span style=\"color: #783114; text-decoration-color: #783114; background-color: #ffffff\">(</span><span style=\"color: #0011aa; text-decoration-color: #0011aa; background-color: #ffffff\">mac</span><span style=\"color: #783114; text-decoration-color: #783114; background-color: #ffffff\">))</span><span style=\"background-color: #ffffff\">              </span>\n",
       "<span style=\"color: #101010; text-decoration-color: #101010; background-color: #ffffff\">                           </span><span style=\"color: #783114; text-decoration-color: #783114; background-color: #ffffff\">^^^^^^^^^^^^^^^^^^^^^^^^^^^^^^^^^^^^^^^^^^^^^^^^^^^^^^^^^^^</span><span style=\"background-color: #ffffff\">              </span>\n",
       "\n",
       "<span style=\"color: #101010; text-decoration-color: #101010; background-color: #ffffff\">    </span><span style=\"color: #0011aa; text-decoration-color: #0011aa; background-color: #ffffff\">mac</span><span style=\"color: #783114; text-decoration-color: #783114; background-color: #ffffff\">:</span><span style=\"color: #101010; text-decoration-color: #101010; background-color: #ffffff\">  </span><span style=\"color: #8b008b; text-decoration-color: #8b008b; background-color: #ffffff\">'00:80:41:12:FE'</span><span style=\"background-color: #ffffff\">                                                                          </span>\n",
       "<span style=\"color: #101010; text-decoration-color: #101010; background-color: #ffffff\">    </span><span style=\"color: #005500; text-decoration-color: #005500; background-color: #ffffff\">self</span><span style=\"color: #783114; text-decoration-color: #783114; background-color: #ffffff\">:</span><span style=\"color: #101010; text-decoration-color: #101010; background-color: #ffffff\">  </span><span style=\"color: #783114; text-decoration-color: #783114; background-color: #ffffff\">&lt;</span><span style=\"color: #0011aa; text-decoration-color: #0011aa; background-color: #ffffff\">mac_vendor_lookup</span><span style=\"color: #783114; text-decoration-color: #783114; background-color: #ffffff\">.</span><span style=\"color: #0011aa; text-decoration-color: #0011aa; background-color: #ffffff\">MacLookup</span><span style=\"color: #101010; text-decoration-color: #101010; background-color: #ffffff\"> </span><span style=\"color: #005500; text-decoration-color: #005500; background-color: #ffffff\">object</span><span style=\"color: #783114; text-decoration-color: #783114; background-color: #ffffff\">&gt;</span><span style=\"background-color: #ffffff\">                                                     </span>\n",
       "<span style=\"color: #101010; text-decoration-color: #101010; background-color: #ffffff\">    </span><span style=\"color: #005500; text-decoration-color: #005500; background-color: #ffffff\">self</span><span style=\"color: #783114; text-decoration-color: #783114; background-color: #ffffff\">.</span><span style=\"color: #0011aa; text-decoration-color: #0011aa; background-color: #ffffff\">async_lookup</span><span style=\"color: #783114; text-decoration-color: #783114; background-color: #ffffff\">:</span><span style=\"color: #101010; text-decoration-color: #101010; background-color: #ffffff\">  </span><span style=\"color: #783114; text-decoration-color: #783114; background-color: #ffffff\">&lt;</span><span style=\"color: #0011aa; text-decoration-color: #0011aa; background-color: #ffffff\">mac_vendor_lookup</span><span style=\"color: #783114; text-decoration-color: #783114; background-color: #ffffff\">.</span><span style=\"color: #0011aa; text-decoration-color: #0011aa; background-color: #ffffff\">AsyncMacLookup</span><span style=\"color: #101010; text-decoration-color: #101010; background-color: #ffffff\"> </span><span style=\"color: #005500; text-decoration-color: #005500; background-color: #ffffff\">object</span><span style=\"color: #783114; text-decoration-color: #783114; background-color: #ffffff\">&gt;</span><span style=\"background-color: #ffffff\">                                   </span>\n",
       "<span style=\"color: #101010; text-decoration-color: #101010; background-color: #ffffff\">    </span><span style=\"color: #005500; text-decoration-color: #005500; background-color: #ffffff\">self</span><span style=\"color: #783114; text-decoration-color: #783114; background-color: #ffffff\">.</span><span style=\"color: #0011aa; text-decoration-color: #0011aa; background-color: #ffffff\">async_lookup</span><span style=\"color: #783114; text-decoration-color: #783114; background-color: #ffffff\">.</span><span style=\"color: #0011aa; text-decoration-color: #0011aa; background-color: #ffffff\">lookup</span><span style=\"color: #783114; text-decoration-color: #783114; background-color: #ffffff\">:</span><span style=\"color: #101010; text-decoration-color: #101010; background-color: #ffffff\">  </span><span style=\"color: #783114; text-decoration-color: #783114; background-color: #ffffff\">&lt;</span><span style=\"color: #0011aa; text-decoration-color: #0011aa; background-color: #ffffff\">bound</span><span style=\"color: #101010; text-decoration-color: #101010; background-color: #ffffff\"> </span><span style=\"color: #0011aa; text-decoration-color: #0011aa; background-color: #ffffff\">method</span><span style=\"color: #101010; text-decoration-color: #101010; background-color: #ffffff\"> </span><span style=\"color: #0011aa; text-decoration-color: #0011aa; background-color: #ffffff\">AsyncMacLookup</span><span style=\"color: #783114; text-decoration-color: #783114; background-color: #ffffff\">.</span><span style=\"color: #0011aa; text-decoration-color: #0011aa; background-color: #ffffff\">lookup</span><span style=\"color: #783114; text-decoration-color: #783114; background-color: #ffffff\">&gt;</span><span style=\"color: #101010; text-decoration-color: #101010; background-color: #ffffff\"> </span><span style=\"color: #0011aa; text-decoration-color: #0011aa; background-color: #ffffff\">of</span><span style=\"color: #101010; text-decoration-color: #101010; background-color: #ffffff\"> </span><span style=\"background-color: #ffffff\">                             </span>\n",
       "<span style=\"color: #783114; text-decoration-color: #783114; background-color: #ffffff\">&lt;</span><span style=\"color: #0011aa; text-decoration-color: #0011aa; background-color: #ffffff\">mac_vendor_lookup</span><span style=\"color: #783114; text-decoration-color: #783114; background-color: #ffffff\">.</span><span style=\"color: #0011aa; text-decoration-color: #0011aa; background-color: #ffffff\">AsyncMacLookup</span><span style=\"color: #101010; text-decoration-color: #101010; background-color: #ffffff\"> </span><span style=\"color: #005500; text-decoration-color: #005500; background-color: #ffffff\">object</span><span style=\"color: #783114; text-decoration-color: #783114; background-color: #ffffff\">&gt;</span><span style=\"background-color: #ffffff\">                                                           </span>\n",
       "<span style=\"color: #101010; text-decoration-color: #101010; background-color: #ffffff\">    </span><span style=\"color: #005500; text-decoration-color: #005500; background-color: #ffffff\">self</span><span style=\"color: #783114; text-decoration-color: #783114; background-color: #ffffff\">.</span><span style=\"color: #0011aa; text-decoration-color: #0011aa; background-color: #ffffff\">loop</span><span style=\"color: #783114; text-decoration-color: #783114; background-color: #ffffff\">:</span><span style=\"color: #101010; text-decoration-color: #101010; background-color: #ffffff\">  </span><span style=\"color: #783114; text-decoration-color: #783114; background-color: #ffffff\">&lt;</span><span style=\"color: #0011aa; text-decoration-color: #0011aa; background-color: #ffffff\">_UnixSelectorEventLoop</span><span style=\"color: #101010; text-decoration-color: #101010; background-color: #ffffff\"> </span><span style=\"color: #0011aa; text-decoration-color: #0011aa; background-color: #ffffff\">running</span><span style=\"color: #783114; text-decoration-color: #783114; background-color: #ffffff\">=</span><span style=\"color: #266290; text-decoration-color: #266290; background-color: #ffffff\">True</span><span style=\"color: #101010; text-decoration-color: #101010; background-color: #ffffff\"> </span><span style=\"color: #0011aa; text-decoration-color: #0011aa; background-color: #ffffff\">closed</span><span style=\"color: #783114; text-decoration-color: #783114; background-color: #ffffff\">=</span><span style=\"color: #266290; text-decoration-color: #266290; background-color: #ffffff\">False</span><span style=\"color: #101010; text-decoration-color: #101010; background-color: #ffffff\"> </span><span style=\"color: #0011aa; text-decoration-color: #0011aa; background-color: #ffffff\">debug</span><span style=\"color: #783114; text-decoration-color: #783114; background-color: #ffffff\">=</span><span style=\"color: #266290; text-decoration-color: #266290; background-color: #ffffff\">False</span><span style=\"color: #783114; text-decoration-color: #783114; background-color: #ffffff\">&gt;</span><span style=\"background-color: #ffffff\">                      </span>\n",
       "<span style=\"color: #101010; text-decoration-color: #101010; background-color: #ffffff\">    </span><span style=\"color: #005500; text-decoration-color: #005500; background-color: #ffffff\">self</span><span style=\"color: #783114; text-decoration-color: #783114; background-color: #ffffff\">.</span><span style=\"color: #0011aa; text-decoration-color: #0011aa; background-color: #ffffff\">loop</span><span style=\"color: #783114; text-decoration-color: #783114; background-color: #ffffff\">.</span><span style=\"color: #0011aa; text-decoration-color: #0011aa; background-color: #ffffff\">run_until_complete</span><span style=\"color: #783114; text-decoration-color: #783114; background-color: #ffffff\">:</span><span style=\"color: #101010; text-decoration-color: #101010; background-color: #ffffff\">  </span><span style=\"color: #783114; text-decoration-color: #783114; background-color: #ffffff\">&lt;</span><span style=\"color: #0011aa; text-decoration-color: #0011aa; background-color: #ffffff\">bound</span><span style=\"color: #101010; text-decoration-color: #101010; background-color: #ffffff\"> </span><span style=\"color: #0011aa; text-decoration-color: #0011aa; background-color: #ffffff\">method</span><span style=\"color: #101010; text-decoration-color: #101010; background-color: #ffffff\"> </span><span style=\"color: #0011aa; text-decoration-color: #0011aa; background-color: #ffffff\">BaseEventLoop</span><span style=\"color: #783114; text-decoration-color: #783114; background-color: #ffffff\">.</span><span style=\"color: #0011aa; text-decoration-color: #0011aa; background-color: #ffffff\">run_until_complete</span><span style=\"color: #783114; text-decoration-color: #783114; background-color: #ffffff\">&gt;</span><span style=\"color: #101010; text-decoration-color: #101010; background-color: #ffffff\"> </span><span style=\"color: #0011aa; text-decoration-color: #0011aa; background-color: #ffffff\">of</span><span style=\"color: #101010; text-decoration-color: #101010; background-color: #ffffff\"> </span><span style=\"background-color: #ffffff\">              </span>\n",
       "<span style=\"color: #783114; text-decoration-color: #783114; background-color: #ffffff\">&lt;</span><span style=\"color: #0011aa; text-decoration-color: #0011aa; background-color: #ffffff\">_UnixSelectorEventLoop</span><span style=\"color: #101010; text-decoration-color: #101010; background-color: #ffffff\"> </span><span style=\"color: #0011aa; text-decoration-color: #0011aa; background-color: #ffffff\">running</span><span style=\"color: #783114; text-decoration-color: #783114; background-color: #ffffff\">=</span><span style=\"color: #266290; text-decoration-color: #266290; background-color: #ffffff\">True</span><span style=\"color: #101010; text-decoration-color: #101010; background-color: #ffffff\"> </span><span style=\"color: #0011aa; text-decoration-color: #0011aa; background-color: #ffffff\">closed</span><span style=\"color: #783114; text-decoration-color: #783114; background-color: #ffffff\">=</span><span style=\"color: #266290; text-decoration-color: #266290; background-color: #ffffff\">False</span><span style=\"color: #101010; text-decoration-color: #101010; background-color: #ffffff\"> </span><span style=\"color: #0011aa; text-decoration-color: #0011aa; background-color: #ffffff\">debug</span><span style=\"color: #783114; text-decoration-color: #783114; background-color: #ffffff\">=</span><span style=\"color: #266290; text-decoration-color: #266290; background-color: #ffffff\">False</span><span style=\"color: #783114; text-decoration-color: #783114; background-color: #ffffff\">&gt;</span><span style=\"background-color: #ffffff\">                                      </span>\n",
       "</pre></div>"
      ],
      "text/plain": [
       "\u001b[38;2;221;0;0mExecution stopped on line 3 of code block \u001b[0m\u001b[38;2;120;49;20;48;2;255;255;255m[\u001b[0m\u001b[38;2;16;16;16;48;2;255;255;255m126\u001b[0m\u001b[38;2;120;49;20;48;2;255;255;255m]\u001b[0m\u001b[38;2;221;0;0m.\u001b[0m                                                    \n",
       "\n",
       "\u001b[38;2;16;16;16;48;2;255;255;255m       \u001b[0m\u001b[38;2;16;16;16;48;2;255;255;255m1\u001b[0m\u001b[38;2;120;49;20;48;2;255;255;255m:\u001b[0m\u001b[38;2;16;16;16;48;2;255;255;255m \u001b[0m\u001b[38;2;0;85;0;48;2;255;255;255mfrom\u001b[0m\u001b[38;2;16;16;16;48;2;255;255;255m \u001b[0m\u001b[38;2;0;17;170;48;2;255;255;255mmac_vendor_lookup\u001b[0m\u001b[38;2;16;16;16;48;2;255;255;255m \u001b[0m\u001b[38;2;0;85;0;48;2;255;255;255mimport\u001b[0m\u001b[38;2;16;16;16;48;2;255;255;255m \u001b[0m\u001b[38;2;0;17;170;48;2;255;255;255mMacLookup\u001b[0m\u001b[48;2;255;255;255m                                                   \u001b[0m\n",
       "\u001b[38;2;16;16;16;48;2;255;255;255m    \u001b[0m\u001b[38;2;120;49;20;48;2;255;255;255m-\u001b[0m\u001b[38;2;120;49;20;48;2;255;255;255m-\u001b[0m\u001b[38;2;120;49;20;48;2;255;255;255m>\u001b[0m\u001b[38;2;16;16;16;48;2;255;255;255m3\u001b[0m\u001b[38;2;120;49;20;48;2;255;255;255m:\u001b[0m\u001b[38;2;16;16;16;48;2;255;255;255m \u001b[0m\u001b[38;2;0;85;0;48;2;255;255;255mprint\u001b[0m\u001b[38;2;120;49;20;48;2;255;255;255m(\u001b[0m\u001b[38;2;0;17;170;48;2;255;255;255mMacLookup\u001b[0m\u001b[38;2;120;49;20;48;2;255;255;255m(\u001b[0m\u001b[38;2;120;49;20;48;2;255;255;255m)\u001b[0m\u001b[38;2;120;49;20;48;2;255;255;255m.\u001b[0m\u001b[38;2;0;17;170;48;2;255;255;255mlookup\u001b[0m\u001b[38;2;120;49;20;48;2;255;255;255m(\u001b[0m\u001b[38;2;139;0;139;48;2;255;255;255m\"\u001b[0m\u001b[38;2;139;0;139;48;2;255;255;255m00:80:41:12:FE\u001b[0m\u001b[38;2;139;0;139;48;2;255;255;255m\"\u001b[0m\u001b[38;2;120;49;20;48;2;255;255;255m)\u001b[0m\u001b[38;2;120;49;20;48;2;255;255;255m)\u001b[0m\u001b[48;2;255;255;255m                                               \u001b[0m\n",
       "\u001b[38;2;16;16;16;48;2;255;255;255m                \u001b[0m\u001b[38;2;120;49;20;48;2;255;255;255m^\u001b[0m\u001b[38;2;120;49;20;48;2;255;255;255m^\u001b[0m\u001b[38;2;120;49;20;48;2;255;255;255m^\u001b[0m\u001b[38;2;120;49;20;48;2;255;255;255m^\u001b[0m\u001b[38;2;120;49;20;48;2;255;255;255m^\u001b[0m\u001b[38;2;120;49;20;48;2;255;255;255m^\u001b[0m\u001b[38;2;120;49;20;48;2;255;255;255m^\u001b[0m\u001b[38;2;120;49;20;48;2;255;255;255m^\u001b[0m\u001b[38;2;120;49;20;48;2;255;255;255m^\u001b[0m\u001b[38;2;120;49;20;48;2;255;255;255m^\u001b[0m\u001b[38;2;120;49;20;48;2;255;255;255m^\u001b[0m\u001b[38;2;120;49;20;48;2;255;255;255m^\u001b[0m\u001b[38;2;120;49;20;48;2;255;255;255m^\u001b[0m\u001b[38;2;120;49;20;48;2;255;255;255m^\u001b[0m\u001b[38;2;120;49;20;48;2;255;255;255m^\u001b[0m\u001b[38;2;120;49;20;48;2;255;255;255m^\u001b[0m\u001b[38;2;120;49;20;48;2;255;255;255m^\u001b[0m\u001b[38;2;120;49;20;48;2;255;255;255m^\u001b[0m\u001b[38;2;120;49;20;48;2;255;255;255m^\u001b[0m\u001b[38;2;120;49;20;48;2;255;255;255m^\u001b[0m\u001b[38;2;120;49;20;48;2;255;255;255m^\u001b[0m\u001b[38;2;120;49;20;48;2;255;255;255m^\u001b[0m\u001b[38;2;120;49;20;48;2;255;255;255m^\u001b[0m\u001b[38;2;120;49;20;48;2;255;255;255m^\u001b[0m\u001b[38;2;120;49;20;48;2;255;255;255m^\u001b[0m\u001b[38;2;120;49;20;48;2;255;255;255m^\u001b[0m\u001b[38;2;120;49;20;48;2;255;255;255m^\u001b[0m\u001b[38;2;120;49;20;48;2;255;255;255m^\u001b[0m\u001b[38;2;120;49;20;48;2;255;255;255m^\u001b[0m\u001b[38;2;120;49;20;48;2;255;255;255m^\u001b[0m\u001b[38;2;120;49;20;48;2;255;255;255m^\u001b[0m\u001b[38;2;120;49;20;48;2;255;255;255m^\u001b[0m\u001b[38;2;120;49;20;48;2;255;255;255m^\u001b[0m\u001b[38;2;120;49;20;48;2;255;255;255m^\u001b[0m\u001b[38;2;120;49;20;48;2;255;255;255m^\u001b[0m\u001b[38;2;120;49;20;48;2;255;255;255m^\u001b[0m\u001b[48;2;255;255;255m                                                \u001b[0m\n",
       "\n",
       "\u001b[38;2;16;16;16;48;2;255;255;255m    \u001b[0m\u001b[38;2;0;17;170;48;2;255;255;255mMacLookup\u001b[0m\u001b[38;2;120;49;20;48;2;255;255;255m:\u001b[0m\u001b[38;2;16;16;16;48;2;255;255;255m  \u001b[0m\u001b[38;2;120;49;20;48;2;255;255;255m<\u001b[0m\u001b[38;2;0;85;0;48;2;255;255;255mclass\u001b[0m\u001b[38;2;16;16;16;48;2;255;255;255m \u001b[0m\u001b[38;2;0;17;170;48;2;255;255;255mmac_vendor_lookup\u001b[0m\u001b[38;2;120;49;20;48;2;255;255;255m.\u001b[0m\u001b[38;2;0;17;170;48;2;255;255;255mMacLookup\u001b[0m\u001b[38;2;120;49;20;48;2;255;255;255m>\u001b[0m\u001b[48;2;255;255;255m                                                 \u001b[0m\n",
       "\u001b[38;2;16;16;16;48;2;255;255;255m    \u001b[0m\u001b[38;2;0;85;0;48;2;255;255;255mprint\u001b[0m\u001b[38;2;120;49;20;48;2;255;255;255m:\u001b[0m\u001b[38;2;16;16;16;48;2;255;255;255m  \u001b[0m\u001b[38;2;120;49;20;48;2;255;255;255m<\u001b[0m\u001b[38;2;0;17;170;48;2;255;255;255mbuiltin\u001b[0m\u001b[38;2;16;16;16;48;2;255;255;255m \u001b[0m\u001b[38;2;0;17;170;48;2;255;255;255mfunction\u001b[0m\u001b[38;2;16;16;16;48;2;255;255;255m \u001b[0m\u001b[38;2;0;85;0;48;2;255;255;255mprint\u001b[0m\u001b[38;2;120;49;20;48;2;255;255;255m>\u001b[0m\u001b[48;2;255;255;255m                                                                \u001b[0m\n",
       "\n",
       "\u001b[38;2;221;0;0mException raised on line 122 of file LOCAL:/mac\u001b[0m\u001b[38;2;221;0;0m_\u001b[0m\u001b[38;2;221;0;0mvendor\u001b[0m\u001b[38;2;221;0;0m_\u001b[0m\u001b[38;2;221;0;0mlookup.py.\u001b[0m                                   \n",
       "\n",
       "\u001b[38;2;16;16;16;48;2;255;255;255m       \u001b[0m\u001b[38;2;16;16;16;48;2;255;255;255m121\u001b[0m\u001b[38;2;120;49;20;48;2;255;255;255m:\u001b[0m\u001b[38;2;16;16;16;48;2;255;255;255m     \u001b[0m\u001b[38;2;0;85;0;48;2;255;255;255mdef\u001b[0m\u001b[38;2;16;16;16;48;2;255;255;255m \u001b[0m\u001b[38;2;0;17;170;48;2;255;255;255mlookup\u001b[0m\u001b[38;2;120;49;20;48;2;255;255;255m(\u001b[0m\u001b[38;2;0;85;0;48;2;255;255;255mself\u001b[0m\u001b[38;2;120;49;20;48;2;255;255;255m,\u001b[0m\u001b[38;2;16;16;16;48;2;255;255;255m \u001b[0m\u001b[38;2;0;17;170;48;2;255;255;255mmac\u001b[0m\u001b[38;2;120;49;20;48;2;255;255;255m)\u001b[0m\u001b[38;2;120;49;20;48;2;255;255;255m:\u001b[0m\u001b[48;2;255;255;255m                                                              \u001b[0m\n",
       "\u001b[38;2;16;16;16;48;2;255;255;255m    \u001b[0m\u001b[38;2;120;49;20;48;2;255;255;255m-\u001b[0m\u001b[38;2;120;49;20;48;2;255;255;255m-\u001b[0m\u001b[38;2;120;49;20;48;2;255;255;255m>\u001b[0m\u001b[38;2;16;16;16;48;2;255;255;255m122\u001b[0m\u001b[38;2;120;49;20;48;2;255;255;255m:\u001b[0m\u001b[38;2;16;16;16;48;2;255;255;255m         \u001b[0m\u001b[38;2;0;85;0;48;2;255;255;255mreturn\u001b[0m\u001b[38;2;16;16;16;48;2;255;255;255m \u001b[0m\u001b[38;2;0;85;0;48;2;255;255;255mself\u001b[0m\u001b[38;2;120;49;20;48;2;255;255;255m.\u001b[0m\u001b[38;2;0;17;170;48;2;255;255;255mloop\u001b[0m\u001b[38;2;120;49;20;48;2;255;255;255m.\u001b[0m\u001b[38;2;0;17;170;48;2;255;255;255mrun_until_complete\u001b[0m\u001b[38;2;120;49;20;48;2;255;255;255m(\u001b[0m\u001b[38;2;0;85;0;48;2;255;255;255mself\u001b[0m\u001b[38;2;120;49;20;48;2;255;255;255m.\u001b[0m\u001b[38;2;0;17;170;48;2;255;255;255masync_lookup\u001b[0m\u001b[38;2;120;49;20;48;2;255;255;255m.\u001b[0m\u001b[38;2;0;17;170;48;2;255;255;255mlookup\u001b[0m\u001b[38;2;120;49;20;48;2;255;255;255m(\u001b[0m\u001b[38;2;0;17;170;48;2;255;255;255mmac\u001b[0m\u001b[38;2;120;49;20;48;2;255;255;255m)\u001b[0m\u001b[38;2;120;49;20;48;2;255;255;255m)\u001b[0m\u001b[48;2;255;255;255m              \u001b[0m\n",
       "\u001b[38;2;16;16;16;48;2;255;255;255m                           \u001b[0m\u001b[38;2;120;49;20;48;2;255;255;255m^\u001b[0m\u001b[38;2;120;49;20;48;2;255;255;255m^\u001b[0m\u001b[38;2;120;49;20;48;2;255;255;255m^\u001b[0m\u001b[38;2;120;49;20;48;2;255;255;255m^\u001b[0m\u001b[38;2;120;49;20;48;2;255;255;255m^\u001b[0m\u001b[38;2;120;49;20;48;2;255;255;255m^\u001b[0m\u001b[38;2;120;49;20;48;2;255;255;255m^\u001b[0m\u001b[38;2;120;49;20;48;2;255;255;255m^\u001b[0m\u001b[38;2;120;49;20;48;2;255;255;255m^\u001b[0m\u001b[38;2;120;49;20;48;2;255;255;255m^\u001b[0m\u001b[38;2;120;49;20;48;2;255;255;255m^\u001b[0m\u001b[38;2;120;49;20;48;2;255;255;255m^\u001b[0m\u001b[38;2;120;49;20;48;2;255;255;255m^\u001b[0m\u001b[38;2;120;49;20;48;2;255;255;255m^\u001b[0m\u001b[38;2;120;49;20;48;2;255;255;255m^\u001b[0m\u001b[38;2;120;49;20;48;2;255;255;255m^\u001b[0m\u001b[38;2;120;49;20;48;2;255;255;255m^\u001b[0m\u001b[38;2;120;49;20;48;2;255;255;255m^\u001b[0m\u001b[38;2;120;49;20;48;2;255;255;255m^\u001b[0m\u001b[38;2;120;49;20;48;2;255;255;255m^\u001b[0m\u001b[38;2;120;49;20;48;2;255;255;255m^\u001b[0m\u001b[38;2;120;49;20;48;2;255;255;255m^\u001b[0m\u001b[38;2;120;49;20;48;2;255;255;255m^\u001b[0m\u001b[38;2;120;49;20;48;2;255;255;255m^\u001b[0m\u001b[38;2;120;49;20;48;2;255;255;255m^\u001b[0m\u001b[38;2;120;49;20;48;2;255;255;255m^\u001b[0m\u001b[38;2;120;49;20;48;2;255;255;255m^\u001b[0m\u001b[38;2;120;49;20;48;2;255;255;255m^\u001b[0m\u001b[38;2;120;49;20;48;2;255;255;255m^\u001b[0m\u001b[38;2;120;49;20;48;2;255;255;255m^\u001b[0m\u001b[38;2;120;49;20;48;2;255;255;255m^\u001b[0m\u001b[38;2;120;49;20;48;2;255;255;255m^\u001b[0m\u001b[38;2;120;49;20;48;2;255;255;255m^\u001b[0m\u001b[38;2;120;49;20;48;2;255;255;255m^\u001b[0m\u001b[38;2;120;49;20;48;2;255;255;255m^\u001b[0m\u001b[38;2;120;49;20;48;2;255;255;255m^\u001b[0m\u001b[38;2;120;49;20;48;2;255;255;255m^\u001b[0m\u001b[38;2;120;49;20;48;2;255;255;255m^\u001b[0m\u001b[38;2;120;49;20;48;2;255;255;255m^\u001b[0m\u001b[38;2;120;49;20;48;2;255;255;255m^\u001b[0m\u001b[38;2;120;49;20;48;2;255;255;255m^\u001b[0m\u001b[38;2;120;49;20;48;2;255;255;255m^\u001b[0m\u001b[38;2;120;49;20;48;2;255;255;255m^\u001b[0m\u001b[38;2;120;49;20;48;2;255;255;255m^\u001b[0m\u001b[38;2;120;49;20;48;2;255;255;255m^\u001b[0m\u001b[38;2;120;49;20;48;2;255;255;255m^\u001b[0m\u001b[38;2;120;49;20;48;2;255;255;255m^\u001b[0m\u001b[38;2;120;49;20;48;2;255;255;255m^\u001b[0m\u001b[38;2;120;49;20;48;2;255;255;255m^\u001b[0m\u001b[38;2;120;49;20;48;2;255;255;255m^\u001b[0m\u001b[38;2;120;49;20;48;2;255;255;255m^\u001b[0m\u001b[38;2;120;49;20;48;2;255;255;255m^\u001b[0m\u001b[38;2;120;49;20;48;2;255;255;255m^\u001b[0m\u001b[38;2;120;49;20;48;2;255;255;255m^\u001b[0m\u001b[38;2;120;49;20;48;2;255;255;255m^\u001b[0m\u001b[38;2;120;49;20;48;2;255;255;255m^\u001b[0m\u001b[38;2;120;49;20;48;2;255;255;255m^\u001b[0m\u001b[38;2;120;49;20;48;2;255;255;255m^\u001b[0m\u001b[38;2;120;49;20;48;2;255;255;255m^\u001b[0m\u001b[48;2;255;255;255m              \u001b[0m\n",
       "\n",
       "\u001b[38;2;16;16;16;48;2;255;255;255m    \u001b[0m\u001b[38;2;0;17;170;48;2;255;255;255mmac\u001b[0m\u001b[38;2;120;49;20;48;2;255;255;255m:\u001b[0m\u001b[38;2;16;16;16;48;2;255;255;255m  \u001b[0m\u001b[38;2;139;0;139;48;2;255;255;255m'\u001b[0m\u001b[38;2;139;0;139;48;2;255;255;255m00:80:41:12:FE\u001b[0m\u001b[38;2;139;0;139;48;2;255;255;255m'\u001b[0m\u001b[48;2;255;255;255m                                                                          \u001b[0m\n",
       "\u001b[38;2;16;16;16;48;2;255;255;255m    \u001b[0m\u001b[38;2;0;85;0;48;2;255;255;255mself\u001b[0m\u001b[38;2;120;49;20;48;2;255;255;255m:\u001b[0m\u001b[38;2;16;16;16;48;2;255;255;255m  \u001b[0m\u001b[38;2;120;49;20;48;2;255;255;255m<\u001b[0m\u001b[38;2;0;17;170;48;2;255;255;255mmac_vendor_lookup\u001b[0m\u001b[38;2;120;49;20;48;2;255;255;255m.\u001b[0m\u001b[38;2;0;17;170;48;2;255;255;255mMacLookup\u001b[0m\u001b[38;2;16;16;16;48;2;255;255;255m \u001b[0m\u001b[38;2;0;85;0;48;2;255;255;255mobject\u001b[0m\u001b[38;2;120;49;20;48;2;255;255;255m>\u001b[0m\u001b[48;2;255;255;255m                                                     \u001b[0m\n",
       "\u001b[38;2;16;16;16;48;2;255;255;255m    \u001b[0m\u001b[38;2;0;85;0;48;2;255;255;255mself\u001b[0m\u001b[38;2;120;49;20;48;2;255;255;255m.\u001b[0m\u001b[38;2;0;17;170;48;2;255;255;255masync_lookup\u001b[0m\u001b[38;2;120;49;20;48;2;255;255;255m:\u001b[0m\u001b[38;2;16;16;16;48;2;255;255;255m  \u001b[0m\u001b[38;2;120;49;20;48;2;255;255;255m<\u001b[0m\u001b[38;2;0;17;170;48;2;255;255;255mmac_vendor_lookup\u001b[0m\u001b[38;2;120;49;20;48;2;255;255;255m.\u001b[0m\u001b[38;2;0;17;170;48;2;255;255;255mAsyncMacLookup\u001b[0m\u001b[38;2;16;16;16;48;2;255;255;255m \u001b[0m\u001b[38;2;0;85;0;48;2;255;255;255mobject\u001b[0m\u001b[38;2;120;49;20;48;2;255;255;255m>\u001b[0m\u001b[48;2;255;255;255m                                   \u001b[0m\n",
       "\u001b[38;2;16;16;16;48;2;255;255;255m    \u001b[0m\u001b[38;2;0;85;0;48;2;255;255;255mself\u001b[0m\u001b[38;2;120;49;20;48;2;255;255;255m.\u001b[0m\u001b[38;2;0;17;170;48;2;255;255;255masync_lookup\u001b[0m\u001b[38;2;120;49;20;48;2;255;255;255m.\u001b[0m\u001b[38;2;0;17;170;48;2;255;255;255mlookup\u001b[0m\u001b[38;2;120;49;20;48;2;255;255;255m:\u001b[0m\u001b[38;2;16;16;16;48;2;255;255;255m  \u001b[0m\u001b[38;2;120;49;20;48;2;255;255;255m<\u001b[0m\u001b[38;2;0;17;170;48;2;255;255;255mbound\u001b[0m\u001b[38;2;16;16;16;48;2;255;255;255m \u001b[0m\u001b[38;2;0;17;170;48;2;255;255;255mmethod\u001b[0m\u001b[38;2;16;16;16;48;2;255;255;255m \u001b[0m\u001b[38;2;0;17;170;48;2;255;255;255mAsyncMacLookup\u001b[0m\u001b[38;2;120;49;20;48;2;255;255;255m.\u001b[0m\u001b[38;2;0;17;170;48;2;255;255;255mlookup\u001b[0m\u001b[38;2;120;49;20;48;2;255;255;255m>\u001b[0m\u001b[38;2;16;16;16;48;2;255;255;255m \u001b[0m\u001b[38;2;0;17;170;48;2;255;255;255mof\u001b[0m\u001b[38;2;16;16;16;48;2;255;255;255m \u001b[0m\u001b[48;2;255;255;255m                             \u001b[0m\n",
       "\u001b[38;2;120;49;20;48;2;255;255;255m<\u001b[0m\u001b[38;2;0;17;170;48;2;255;255;255mmac_vendor_lookup\u001b[0m\u001b[38;2;120;49;20;48;2;255;255;255m.\u001b[0m\u001b[38;2;0;17;170;48;2;255;255;255mAsyncMacLookup\u001b[0m\u001b[38;2;16;16;16;48;2;255;255;255m \u001b[0m\u001b[38;2;0;85;0;48;2;255;255;255mobject\u001b[0m\u001b[38;2;120;49;20;48;2;255;255;255m>\u001b[0m\u001b[48;2;255;255;255m                                                           \u001b[0m\n",
       "\u001b[38;2;16;16;16;48;2;255;255;255m    \u001b[0m\u001b[38;2;0;85;0;48;2;255;255;255mself\u001b[0m\u001b[38;2;120;49;20;48;2;255;255;255m.\u001b[0m\u001b[38;2;0;17;170;48;2;255;255;255mloop\u001b[0m\u001b[38;2;120;49;20;48;2;255;255;255m:\u001b[0m\u001b[38;2;16;16;16;48;2;255;255;255m  \u001b[0m\u001b[38;2;120;49;20;48;2;255;255;255m<\u001b[0m\u001b[38;2;0;17;170;48;2;255;255;255m_UnixSelectorEventLoop\u001b[0m\u001b[38;2;16;16;16;48;2;255;255;255m \u001b[0m\u001b[38;2;0;17;170;48;2;255;255;255mrunning\u001b[0m\u001b[38;2;120;49;20;48;2;255;255;255m=\u001b[0m\u001b[38;2;38;98;144;48;2;255;255;255mTrue\u001b[0m\u001b[38;2;16;16;16;48;2;255;255;255m \u001b[0m\u001b[38;2;0;17;170;48;2;255;255;255mclosed\u001b[0m\u001b[38;2;120;49;20;48;2;255;255;255m=\u001b[0m\u001b[38;2;38;98;144;48;2;255;255;255mFalse\u001b[0m\u001b[38;2;16;16;16;48;2;255;255;255m \u001b[0m\u001b[38;2;0;17;170;48;2;255;255;255mdebug\u001b[0m\u001b[38;2;120;49;20;48;2;255;255;255m=\u001b[0m\u001b[38;2;38;98;144;48;2;255;255;255mFalse\u001b[0m\u001b[38;2;120;49;20;48;2;255;255;255m>\u001b[0m\u001b[48;2;255;255;255m                      \u001b[0m\n",
       "\u001b[38;2;16;16;16;48;2;255;255;255m    \u001b[0m\u001b[38;2;0;85;0;48;2;255;255;255mself\u001b[0m\u001b[38;2;120;49;20;48;2;255;255;255m.\u001b[0m\u001b[38;2;0;17;170;48;2;255;255;255mloop\u001b[0m\u001b[38;2;120;49;20;48;2;255;255;255m.\u001b[0m\u001b[38;2;0;17;170;48;2;255;255;255mrun_until_complete\u001b[0m\u001b[38;2;120;49;20;48;2;255;255;255m:\u001b[0m\u001b[38;2;16;16;16;48;2;255;255;255m  \u001b[0m\u001b[38;2;120;49;20;48;2;255;255;255m<\u001b[0m\u001b[38;2;0;17;170;48;2;255;255;255mbound\u001b[0m\u001b[38;2;16;16;16;48;2;255;255;255m \u001b[0m\u001b[38;2;0;17;170;48;2;255;255;255mmethod\u001b[0m\u001b[38;2;16;16;16;48;2;255;255;255m \u001b[0m\u001b[38;2;0;17;170;48;2;255;255;255mBaseEventLoop\u001b[0m\u001b[38;2;120;49;20;48;2;255;255;255m.\u001b[0m\u001b[38;2;0;17;170;48;2;255;255;255mrun_until_complete\u001b[0m\u001b[38;2;120;49;20;48;2;255;255;255m>\u001b[0m\u001b[38;2;16;16;16;48;2;255;255;255m \u001b[0m\u001b[38;2;0;17;170;48;2;255;255;255mof\u001b[0m\u001b[38;2;16;16;16;48;2;255;255;255m \u001b[0m\u001b[48;2;255;255;255m              \u001b[0m\n",
       "\u001b[38;2;120;49;20;48;2;255;255;255m<\u001b[0m\u001b[38;2;0;17;170;48;2;255;255;255m_UnixSelectorEventLoop\u001b[0m\u001b[38;2;16;16;16;48;2;255;255;255m \u001b[0m\u001b[38;2;0;17;170;48;2;255;255;255mrunning\u001b[0m\u001b[38;2;120;49;20;48;2;255;255;255m=\u001b[0m\u001b[38;2;38;98;144;48;2;255;255;255mTrue\u001b[0m\u001b[38;2;16;16;16;48;2;255;255;255m \u001b[0m\u001b[38;2;0;17;170;48;2;255;255;255mclosed\u001b[0m\u001b[38;2;120;49;20;48;2;255;255;255m=\u001b[0m\u001b[38;2;38;98;144;48;2;255;255;255mFalse\u001b[0m\u001b[38;2;16;16;16;48;2;255;255;255m \u001b[0m\u001b[38;2;0;17;170;48;2;255;255;255mdebug\u001b[0m\u001b[38;2;120;49;20;48;2;255;255;255m=\u001b[0m\u001b[38;2;38;98;144;48;2;255;255;255mFalse\u001b[0m\u001b[38;2;120;49;20;48;2;255;255;255m>\u001b[0m\u001b[48;2;255;255;255m                                      \u001b[0m\n"
      ]
     },
     "metadata": {},
     "output_type": "display_data"
    }
   ],
   "source": [
    "from mac_vendor_lookup import MacLookup\n",
    "\n",
    "print(MacLookup().lookup(\"00:80:41:12:FE\"))"
   ]
  },
  {
   "cell_type": "markdown",
   "id": "c2586f99",
   "metadata": {},
   "source": [
    "# Popular project: `requests`\n",
    "\n",
    "This implements an HTTP (meaning, basically, Web) client.  You can pretend that Python is a browser!"
   ]
  },
  {
   "cell_type": "markdown",
   "id": "41519f6e",
   "metadata": {},
   "source": [
    "# Using `pip`\n",
    "\n",
    "You can normally say\n",
    "\n",
    "```\n",
    "pip install apackage\n",
    "```\n",
    "\n",
    "This will install `apackage` on your computer, in the `site-packages` directory that your Python installation (and thus `pip`, and thus `sys.path`) all agree on.  So you can then use `import` to load a module/package from that directory.\n",
    "\n",
    "If you want to uninstall a package, use `pip uninstall`.\n",
    "\n",
    "If you try to `pip install` a package, but you have an older version, then `pip` won't overwrite what you already have.  You need to say `pip install -U apackage` and then it'll download and install the newer version."
   ]
  },
  {
   "cell_type": "code",
   "execution_count": 127,
   "id": "82ec9cb8",
   "metadata": {},
   "outputs": [],
   "source": [
    "# let's use requests to ... make some Web requests\n",
    "\n",
    "import requests\n",
    "r = requests.get('https://python.org/')"
   ]
  },
  {
   "cell_type": "code",
   "execution_count": 128,
   "id": "8e33d192",
   "metadata": {},
   "outputs": [
    {
     "data": {
      "text/html": [
       "<pre style='white-space:pre;overflow-x:auto;line-height:normal'><span style=\"color: #008080; text-decoration-color: #008080; font-weight: bold\">200</span>\n",
       "</pre>"
      ],
      "text/plain": [
       "\u001b[1;36m200\u001b[0m\n"
      ]
     },
     "metadata": {},
     "output_type": "display_data"
    }
   ],
   "source": [
    "r.status_code  # what's the status of our HTTP request?"
   ]
  },
  {
   "cell_type": "code",
   "execution_count": 129,
   "id": "dc8bd7e9",
   "metadata": {},
   "outputs": [
    {
     "data": {
      "text/html": [
       "<pre style='white-space:pre;overflow-x:auto;line-height:normal'><span style=\"color: #008000; text-decoration-color: #008000\">b'&lt;!doctype html&gt;\\n&lt;!--[if lt IE 7]&gt;   &lt;html class=\"no-js ie6 lt-ie7 lt-ie8 lt-ie9\"&gt;   &lt;![endif]--&gt;\\n&lt;!--[if IE 7]&gt;      &lt;html class=\"no-js ie7 lt-ie8 lt-ie9\"&gt;          &lt;![endif]--&gt;\\n&lt;!--[if IE 8]&gt;      &lt;html class=\"no-js ie8 lt-ie9\"&gt;                 &lt;![endif]--&gt;\\n&lt;!--[if gt IE 8]&gt;&lt;!--&gt;&lt;html class=\"no-js\" lang=\"en\" dir=\"ltr\"&gt;  &lt;!--&lt;![endif]--&gt;\\n\\n&lt;head&gt;\\n    &lt;meta charset=\"utf-8\"&gt;\\n    &lt;meta http-equiv=\"X-UA-Compatible\" content=\"IE=edge\"&gt;\\n\\n    &lt;link rel=\"prefetch\" href=\"//ajax.googleapis.com/ajax/libs/jquery/1.8.2/jquery.min.js\"&gt;\\n    &lt;link rel=\"prefetch\" href=\"//ajax.googleapis.com/ajax/libs/jqueryui/1.12.1/jquery-ui.min.js\"&gt;\\n\\n    &lt;meta name=\"application-name\" content=\"Python.org\"&gt;\\n    &lt;meta name=\"msapplication-tooltip\" content=\"The official home of the Python Programming Language\"&gt;\\n    &lt;meta name=\"apple-mobile-web-app-title\" content=\"Python.org\"&gt;\\n    &lt;meta name=\"apple-mobile-web-app-capable\" content=\"yes\"&gt;\\n    &lt;meta name=\"apple-mobile-web-app-status-bar-style\" content=\"black\"&gt;\\n\\n    &lt;meta name=\"viewport\" content=\"width=device-width, initial-scale=1.0\"&gt;\\n    &lt;meta name=\"HandheldFriendly\" content=\"True\"&gt;\\n    &lt;meta name=\"format-detection\" content=\"telephone=no\"&gt;\\n    &lt;meta http-equiv=\"cleartype\" content=\"on\"&gt;\\n    &lt;meta http-equiv=\"imagetoolbar\" content=\"false\"&gt;\\n\\n    &lt;script src=\"/static/js/libs/modernizr.js\"&gt;&lt;/script&gt;\\n\\n    &lt;link href=\"/static/stylesheets/style.a193d3b62d35.css\" rel=\"stylesheet\" type=\"text/css\" media=\"all\" title=\"default\" /&gt;\\n    &lt;link href=\"/static/stylesheets/mq.f9187444a4a1.css\" rel=\"stylesheet\" type=\"text/css\" media=\"not print, braille, embossed, speech, tty\" /&gt;\\n    \\n\\n    &lt;!--[if (lte IE 8)&amp;(!IEMobile)]&gt;\\n    &lt;link href=\"/static/stylesheets/no-mq.bf0c425cdb73.css\" rel=\"stylesheet\" type=\"text/css\" media=\"screen\" /&gt;\\n    \\n    \\n    &lt;![endif]--&gt;\\n    &lt;link rel=\"stylesheet\" href=\"//ajax.googleapis.com/ajax/libs/jqueryui/1.12.1/themes/smoothness/jquery-ui.css\"&gt;\\n\\n    \\n    &lt;link rel=\"icon\" type=\"image/x-icon\" href=\"/static/favicon.ico\"&gt;\\n    &lt;link rel=\"apple-touch-icon-precomposed\" sizes=\"144x144\" href=\"/static/apple-touch-icon-144x144-precomposed.png\"&gt;\\n    &lt;link rel=\"apple-touch-icon-precomposed\" sizes=\"114x114\" href=\"/static/apple-touch-icon-114x114-precomposed.png\"&gt;\\n    &lt;link rel=\"apple-touch-icon-precomposed\" sizes=\"72x72\" href=\"/static/apple-touch-icon-72x72-precomposed.png\"&gt;\\n    &lt;link rel=\"apple-touch-icon-precomposed\" href=\"/static/apple-touch-icon-precomposed.png\"&gt;\\n    &lt;link rel=\"apple-touch-icon\" href=\"/static/apple-touch-icon-precomposed.png\"&gt;\\n\\n    \\n    &lt;meta name=\"msapplication-TileImage\" content=\"/static/metro-icon-144x144-precomposed.png\"&gt;&lt;!-- white shape --&gt;\\n    &lt;meta name=\"msapplication-TileColor\" content=\"#3673a5\"&gt;&lt;!-- python blue --&gt;\\n    &lt;meta name=\"msapplication-navbutton-color\" content=\"#3673a5\"&gt;\\n\\n    &lt;title&gt;Welcome to Python.org&lt;/title&gt;\\n\\n    &lt;meta name=\"description\" content=\"The official home of the Python Programming Language\"&gt;\\n    &lt;meta name=\"keywords\" content=\"Python programming language object oriented web free open source software license documentation download community\"&gt;\\n\\n    \\n    &lt;meta property=\"og:type\" content=\"website\"&gt;\\n    &lt;meta property=\"og:site_name\" content=\"Python.org\"&gt;\\n    &lt;meta property=\"og:title\" content=\"Welcome to Python.org\"&gt;\\n    &lt;meta property=\"og:description\" content=\"The official home of the Python Programming Language\"&gt;\\n    \\n    &lt;meta property=\"og:image\" content=\"https://www.python.org/static/opengraph-icon-200x200.png\"&gt;\\n    &lt;meta property=\"og:image:secure_url\" content=\"https://www.python.org/static/opengraph-icon-200x200.png\"&gt;\\n    \\n    &lt;meta property=\"og:url\" content=\"https://www.python.org/\"&gt;\\n\\n    &lt;link rel=\"author\" href=\"/static/humans.txt\"&gt;\\n\\n    &lt;link rel=\"alternate\" type=\"application/rss+xml\" title=\"Python Enhancement Proposals\"\\n          href=\"https://www.python.org/dev/peps/peps.rss/\"&gt;\\n    &lt;link rel=\"alternate\" type=\"application/rss+xml\" title=\"Python Job Opportunities\"\\n          href=\"https://www.python.org/jobs/feed/rss/\"&gt;\\n    &lt;link rel=\"alternate\" type=\"application/rss+xml\" title=\"Python Software Foundation News\"\\n          href=\"https://feeds.feedburner.com/PythonSoftwareFoundationNews\"&gt;\\n    &lt;link rel=\"alternate\" type=\"application/rss+xml\" title=\"Python Insider\"\\n          href=\"https://feeds.feedburner.com/PythonInsider\"&gt;\\n\\n    \\n\\n    \\n    &lt;script type=\"application/ld+json\"&gt;\\n     {\\n       \"@context\": \"https://schema.org\",\\n       \"@type\": \"WebSite\",\\n       \"url\": \"https://www.python.org/\",\\n       \"potentialAction\": {\\n         \"@type\": \"SearchAction\",\\n         \"target\": \"https://www.python.org/search/?q={search_term_string}\",\\n         \"query-input\": \"required name=search_term_string\"\\n       }\\n     }\\n    &lt;/script&gt;\\n\\n    \\n    &lt;script type=\"text/javascript\"&gt;\\n    var _gaq = _gaq || [];\\n    _gaq.push([\\'_setAccount\\', \\'UA-39055973-1\\']);\\n    _gaq.push([\\'_trackPageview\\']);\\n\\n    (function() {\\n        var ga = document.createElement(\\'script\\'); ga.type = \\'text/javascript\\'; ga.async = true;\\n        ga.src = (\\'https:\\' == document.location.protocol ? \\'https://ssl\\' : \\'http://www\\') + \\'.google-analytics.com/ga.js\\';\\n        var s = document.getElementsByTagName(\\'script\\')[0]; s.parentNode.insertBefore(ga, s);\\n    })();\\n    &lt;/script&gt;\\n    \\n&lt;/head&gt;\\n\\n&lt;body class=\"python home\" id=\"homepage\"&gt;\\n\\n    &lt;div id=\"touchnav-wrapper\"&gt;\\n\\n        &lt;div id=\"nojs\" class=\"do-not-print\"&gt;\\n            &lt;p&gt;&lt;strong&gt;Notice:&lt;/strong&gt; While JavaScript is not essential for this website, your interaction with the content will be limited. Please turn JavaScript on for the full experience. &lt;/p&gt;\\n        &lt;/div&gt;\\n\\n        &lt;!--[if lte IE 8]&gt;\\n        &lt;div id=\"oldie-warning\" class=\"do-not-print\"&gt;\\n            &lt;p&gt;\\n                &lt;strong&gt;Notice:&lt;/strong&gt; Your browser is &lt;em&gt;ancient&lt;/em&gt;. Please\\n                &lt;a href=\"http://browsehappy.com/\"&gt;upgrade to a different browser&lt;/a&gt; to experience a better web.\\n            &lt;/p&gt;\\n        &lt;/div&gt;\\n        &lt;![endif]--&gt;\\n\\n        &lt;!-- Sister Site Links --&gt;\\n        &lt;div id=\"top\" class=\"top-bar do-not-print\"&gt;\\n\\n            &lt;nav class=\"meta-navigation container\" role=\"navigation\"&gt;\\n\\n                \\n                &lt;div class=\"skip-link screen-reader-text\"&gt;\\n                    &lt;a href=\"#content\" title=\"Skip to content\"&gt;Skip to content&lt;/a&gt;\\n                &lt;/div&gt;\\n\\n                \\n                &lt;a id=\"close-python-network\" class=\"jump-link\" href=\"#python-network\" aria-hidden=\"true\"&gt;\\n                    &lt;span aria-hidden=\"true\" class=\"icon-arrow-down\"&gt;&lt;span&gt;&amp;#9660;&lt;/span&gt;&lt;/span&gt; Close\\n                &lt;/a&gt;\\n\\n                \\n\\n&lt;ul class=\"menu\" role=\"tree\"&gt;\\n    \\n    &lt;li class=\"python-meta current_item selectedcurrent_branch selected\"&gt;\\n        &lt;a href=\"/\" title=\"The Python Programming Language\" class=\"current_item selectedcurrent_branch selected\"&gt;Python&lt;/a&gt;\\n    &lt;/li&gt;\\n    \\n    &lt;li class=\"psf-meta \"&gt;\\n        &lt;a href=\"/psf-landing/\" title=\"The Python Software Foundation\" &gt;PSF&lt;/a&gt;\\n    &lt;/li&gt;\\n    \\n    &lt;li class=\"docs-meta \"&gt;\\n        &lt;a href=\"https://docs.python.org\" title=\"Python Documentation\" &gt;Docs&lt;/a&gt;\\n    &lt;/li&gt;\\n    \\n    &lt;li class=\"pypi-meta \"&gt;\\n        &lt;a href=\"https://pypi.org/\" title=\"Python Package Index\" &gt;PyPI&lt;/a&gt;\\n    &lt;/li&gt;\\n    \\n    &lt;li class=\"jobs-meta \"&gt;\\n        &lt;a href=\"/jobs/\" title=\"Python Job Board\" &gt;Jobs&lt;/a&gt;\\n    &lt;/li&gt;\\n    \\n    &lt;li class=\"shop-meta \"&gt;\\n        &lt;a href=\"/community-landing/\"  &gt;Community&lt;/a&gt;\\n    &lt;/li&gt;\\n    \\n&lt;/ul&gt;\\n\\n\\n                &lt;a id=\"python-network\" class=\"jump-link\" href=\"#top\" aria-hidden=\"true\"&gt;\\n                    &lt;span aria-hidden=\"true\" class=\"icon-arrow-up\"&gt;&lt;span&gt;&amp;#9650;&lt;/span&gt;&lt;/span&gt; The Python Network\\n                &lt;/a&gt;\\n\\n            &lt;/nav&gt;\\n\\n        &lt;/div&gt;\\n\\n        &lt;!-- Header elements --&gt;\\n        &lt;header class=\"main-header\" role=\"banner\"&gt;\\n            &lt;div class=\"container\"&gt;\\n\\n                &lt;h1 class=\"site-headline\"&gt;\\n                    &lt;a href=\"/\"&gt;&lt;img class=\"python-logo\" src=\"/static/img/python-logo.png\" alt=\"python&amp;trade;\"&gt;&lt;/a&gt;\\n                &lt;/h1&gt;\\n\\n                &lt;div class=\"options-bar-container do-not-print\"&gt;\\n                    &lt;a href=\"https://psfmember.org/civicrm/contribute/transact?reset=1&amp;id=2\" class=\"donate-button\"&gt;Donate&lt;/a&gt;\\n                    &lt;div class=\"options-bar\"&gt;\\n                        \\n                        &lt;a id=\"site-map-link\" class=\"jump-to-menu\" href=\"#site-map\"&gt;&lt;span class=\"menu-icon\"&gt;&amp;equiv;&lt;/span&gt; Menu&lt;/a&gt;&lt;form class=\"search-the-site\" action=\"/search/\" method=\"get\"&gt;\\n                            &lt;fieldset title=\"Search Python.org\"&gt;\\n\\n                                &lt;span aria-hidden=\"true\" class=\"icon-search\"&gt;&lt;/span&gt;\\n\\n                                &lt;label class=\"screen-reader-text\" for=\"id-search-field\"&gt;Search This Site&lt;/label&gt;\\n                                &lt;input id=\"id-search-field\" name=\"q\" type=\"search\" role=\"textbox\" class=\"search-field\" placeholder=\"Search\" value=\"\" tabindex=\"1\"&gt;\\n\\n                                &lt;button type=\"submit\" name=\"submit\" id=\"submit\" class=\"search-button\" title=\"Submit this Search\" tabindex=\"3\"&gt;\\n                                    GO\\n                                &lt;/button&gt;\\n\\n                                \\n                                &lt;!--[if IE]&gt;&lt;input type=\"text\" style=\"display: none;\" disabled=\"disabled\" size=\"1\" tabindex=\"4\"&gt;&lt;![endif]--&gt;\\n\\n                            &lt;/fieldset&gt;\\n                        &lt;/form&gt;&lt;span class=\"breaker\"&gt;&lt;/span&gt;&lt;div class=\"adjust-font-size\" aria-hidden=\"true\"&gt;\\n                            &lt;ul class=\"navigation menu\" aria-label=\"Adjust Text Size on Page\"&gt;\\n                                &lt;li class=\"tier-1 last\" aria-haspopup=\"true\"&gt;\\n                                    &lt;a href=\"#\" class=\"action-trigger\"&gt;&lt;strong&gt;&lt;small&gt;A&lt;/small&gt; A&lt;/strong&gt;&lt;/a&gt;\\n                                    &lt;ul class=\"subnav menu\"&gt;\\n                                        &lt;li class=\"tier-2 element-1\" role=\"treeitem\"&gt;&lt;a class=\"text-shrink\" title=\"Make Text Smaller\" href=\"javascript:;\"&gt;Smaller&lt;/a&gt;&lt;/li&gt;\\n                                        &lt;li class=\"tier-2 element-2\" role=\"treeitem\"&gt;&lt;a class=\"text-grow\" title=\"Make Text Larger\" href=\"javascript:;\"&gt;Larger&lt;/a&gt;&lt;/li&gt;\\n                                        &lt;li class=\"tier-2 element-3\" role=\"treeitem\"&gt;&lt;a class=\"text-reset\" title=\"Reset any font size changes I have made\" href=\"javascript:;\"&gt;Reset&lt;/a&gt;&lt;/li&gt;\\n                                    &lt;/ul&gt;\\n                                &lt;/li&gt;\\n                            &lt;/ul&gt;\\n                        &lt;/div&gt;&lt;div class=\"winkwink-nudgenudge\"&gt;\\n                            &lt;ul class=\"navigation menu\" aria-label=\"Social Media Navigation\"&gt;\\n                                &lt;li class=\"tier-1 last\" aria-haspopup=\"true\"&gt;\\n                                    &lt;a href=\"#\" class=\"action-trigger\"&gt;Socialize&lt;/a&gt;\\n                                    &lt;ul class=\"subnav menu\"&gt;\\n                                        &lt;li class=\"tier-2 element-1\" role=\"treeitem\"&gt;&lt;a href=\"https://www.facebook.com/pythonlang?fref=ts\"&gt;&lt;span aria-hidden=\"true\" class=\"icon-facebook\"&gt;&lt;/span&gt;Facebook&lt;/a&gt;&lt;/li&gt;\\n                                        &lt;li class=\"tier-2 element-2\" role=\"treeitem\"&gt;&lt;a href=\"https://twitter.com/ThePSF\"&gt;&lt;span aria-hidden=\"true\" class=\"icon-twitter\"&gt;&lt;/span&gt;Twitter&lt;/a&gt;&lt;/li&gt;\\n                                        &lt;li class=\"tier-2 element-3\" role=\"treeitem\"&gt;&lt;a href=\"/community/irc/\"&gt;&lt;span aria-hidden=\"true\" class=\"icon-freenode\"&gt;&lt;/span&gt;Chat on IRC&lt;/a&gt;&lt;/li&gt;\\n                                    &lt;/ul&gt;\\n                                &lt;/li&gt;\\n                            &lt;/ul&gt;\\n                        &lt;/div&gt;\\n                        &lt;span data-html-include=\"/authenticated\"&gt;&lt;/span&gt;\\n                    &lt;/div&gt;&lt;!-- end options-bar --&gt;\\n                &lt;/div&gt;\\n\\n                &lt;nav id=\"mainnav\" class=\"python-navigation main-navigation do-not-print\" role=\"navigation\"&gt;\\n                    \\n                        \\n&lt;ul class=\"navigation menu\" role=\"menubar\" aria-label=\"Main Navigation\"&gt;\\n  \\n    \\n    \\n    &lt;li id=\"about\" class=\"tier-1 element-1  \" aria-haspopup=\"true\"&gt;\\n        &lt;a href=\"/about/\" title=\"\" class=\"\"&gt;About&lt;/a&gt;\\n        \\n            \\n\\n&lt;ul class=\"subnav menu\" role=\"menu\" aria-hidden=\"true\"&gt;\\n    \\n        &lt;li class=\"tier-2 element-1\" role=\"treeitem\"&gt;&lt;a href=\"/about/apps/\" title=\"\"&gt;Applications&lt;/a&gt;&lt;/li&gt;\\n    \\n        &lt;li class=\"tier-2 element-2\" role=\"treeitem\"&gt;&lt;a href=\"/about/quotes/\" title=\"\"&gt;Quotes&lt;/a&gt;&lt;/li&gt;\\n    \\n        &lt;li class=\"tier-2 element-3\" role=\"treeitem\"&gt;&lt;a href=\"/about/gettingstarted/\" title=\"\"&gt;Getting Started&lt;/a&gt;&lt;/li&gt;\\n    \\n        &lt;li class=\"tier-2 element-4\" role=\"treeitem\"&gt;&lt;a href=\"/about/help/\" title=\"\"&gt;Help&lt;/a&gt;&lt;/li&gt;\\n    \\n        &lt;li class=\"tier-2 element-5\" role=\"treeitem\"&gt;&lt;a href=\"http://brochure.getpython.info/\" title=\"\"&gt;Python Brochure&lt;/a&gt;&lt;/li&gt;\\n    \\n&lt;/ul&gt;\\n\\n        \\n    &lt;/li&gt;\\n    \\n    \\n    \\n    &lt;li id=\"downloads\" class=\"tier-1 element-2  \" aria-haspopup=\"true\"&gt;\\n        &lt;a href=\"/downloads/\" title=\"\" class=\"\"&gt;Downloads&lt;/a&gt;\\n        \\n            \\n\\n&lt;ul class=\"subnav menu\" role=\"menu\" aria-hidden=\"true\"&gt;\\n    \\n        &lt;li class=\"tier-2 element-1\" role=\"treeitem\"&gt;&lt;a href=\"/downloads/\" title=\"\"&gt;All releases&lt;/a&gt;&lt;/li&gt;\\n    \\n        &lt;li class=\"tier-2 element-2\" role=\"treeitem\"&gt;&lt;a href=\"/downloads/source/\" title=\"\"&gt;Source code&lt;/a&gt;&lt;/li&gt;\\n    \\n        &lt;li class=\"tier-2 element-3\" role=\"treeitem\"&gt;&lt;a href=\"/downloads/windows/\" title=\"\"&gt;Windows&lt;/a&gt;&lt;/li&gt;\\n    \\n        &lt;li class=\"tier-2 element-4\" role=\"treeitem\"&gt;&lt;a href=\"/downloads/macos/\" title=\"\"&gt;macOS&lt;/a&gt;&lt;/li&gt;\\n    \\n        &lt;li class=\"tier-2 element-5\" role=\"treeitem\"&gt;&lt;a href=\"/download/other/\" title=\"\"&gt;Other Platforms&lt;/a&gt;&lt;/li&gt;\\n    \\n        &lt;li class=\"tier-2 element-6\" role=\"treeitem\"&gt;&lt;a href=\"https://docs.python.org/3/license.html\" title=\"\"&gt;License&lt;/a&gt;&lt;/li&gt;\\n    \\n        &lt;li class=\"tier-2 element-7\" role=\"treeitem\"&gt;&lt;a href=\"/download/alternatives\" title=\"\"&gt;Alternative Implementations&lt;/a&gt;&lt;/li&gt;\\n    \\n&lt;/ul&gt;\\n\\n        \\n    &lt;/li&gt;\\n    \\n    \\n    \\n    &lt;li id=\"documentation\" class=\"tier-1 element-3  \" aria-haspopup=\"true\"&gt;\\n        &lt;a href=\"/doc/\" title=\"\" class=\"\"&gt;Documentation&lt;/a&gt;\\n        \\n            \\n\\n&lt;ul class=\"subnav menu\" role=\"menu\" aria-hidden=\"true\"&gt;\\n    \\n        &lt;li class=\"tier-2 element-1\" role=\"treeitem\"&gt;&lt;a href=\"/doc/\" title=\"\"&gt;Docs&lt;/a&gt;&lt;/li&gt;\\n    \\n        &lt;li class=\"tier-2 element-2\" role=\"treeitem\"&gt;&lt;a href=\"/doc/av\" title=\"\"&gt;Audio/Visual Talks&lt;/a&gt;&lt;/li&gt;\\n    \\n        &lt;li class=\"tier-2 element-3\" role=\"treeitem\"&gt;&lt;a href=\"https://wiki.python.org/moin/BeginnersGuide\" title=\"\"&gt;Beginner&amp;#39;s Guide&lt;/a&gt;&lt;/li&gt;\\n    \\n        &lt;li class=\"tier-2 element-4\" role=\"treeitem\"&gt;&lt;a href=\"https://devguide.python.org/\" title=\"\"&gt;Developer&amp;#39;s Guide&lt;/a&gt;&lt;/li&gt;\\n    \\n        &lt;li class=\"tier-2 element-5\" role=\"treeitem\"&gt;&lt;a href=\"https://docs.python.org/faq/\" title=\"\"&gt;FAQ&lt;/a&gt;&lt;/li&gt;\\n    \\n        &lt;li class=\"tier-2 element-6\" role=\"treeitem\"&gt;&lt;a href=\"http://wiki.python.org/moin/Languages\" title=\"\"&gt;Non-English Docs&lt;/a&gt;&lt;/li&gt;\\n    \\n        &lt;li class=\"tier-2 element-7\" role=\"treeitem\"&gt;&lt;a href=\"http://python.org/dev/peps/\" title=\"\"&gt;PEP Index&lt;/a&gt;&lt;/li&gt;\\n    \\n        &lt;li class=\"tier-2 element-8\" role=\"treeitem\"&gt;&lt;a href=\"https://wiki.python.org/moin/PythonBooks\" title=\"\"&gt;Python Books&lt;/a&gt;&lt;/li&gt;\\n    \\n        &lt;li class=\"tier-2 element-9\" role=\"treeitem\"&gt;&lt;a href=\"/doc/essays/\" title=\"\"&gt;Python Essays&lt;/a&gt;&lt;/li&gt;\\n    \\n&lt;/ul&gt;\\n\\n        \\n    &lt;/li&gt;\\n    \\n    \\n    \\n    &lt;li id=\"community\" class=\"tier-1 element-4  \" aria-haspopup=\"true\"&gt;\\n        &lt;a href=\"/community/\" title=\"\" class=\"\"&gt;Community&lt;/a&gt;\\n        \\n            \\n\\n&lt;ul class=\"subnav menu\" role=\"menu\" aria-hidden=\"true\"&gt;\\n    \\n        &lt;li class=\"tier-2 element-1\" role=\"treeitem\"&gt;&lt;a href=\"/community/diversity/\" title=\"\"&gt;Diversity&lt;/a&gt;&lt;/li&gt;\\n    \\n        &lt;li class=\"tier-2 element-2\" role=\"treeitem\"&gt;&lt;a href=\"/community/lists/\" title=\"\"&gt;Mailing Lists&lt;/a&gt;&lt;/li&gt;\\n    \\n        &lt;li class=\"tier-2 element-3\" role=\"treeitem\"&gt;&lt;a href=\"/community/irc/\" title=\"\"&gt;IRC&lt;/a&gt;&lt;/li&gt;\\n    \\n        &lt;li class=\"tier-2 element-4\" role=\"treeitem\"&gt;&lt;a href=\"/community/forums/\" title=\"\"&gt;Forums&lt;/a&gt;&lt;/li&gt;\\n    \\n        &lt;li class=\"tier-2 element-5\" role=\"treeitem\"&gt;&lt;a href=\"/psf/annual-report/2021/\" title=\"\"&gt;PSF Annual Impact Report&lt;/a&gt;&lt;/li&gt;\\n    \\n        &lt;li class=\"tier-2 element-6\" role=\"treeitem\"&gt;&lt;a href=\"/community/workshops/\" title=\"\"&gt;Python Conferences&lt;/a&gt;&lt;/li&gt;\\n    \\n        &lt;li class=\"tier-2 element-7\" role=\"treeitem\"&gt;&lt;a href=\"/community/sigs/\" title=\"\"&gt;Special Interest Groups&lt;/a&gt;&lt;/li&gt;\\n    \\n        &lt;li class=\"tier-2 element-8\" role=\"treeitem\"&gt;&lt;a href=\"/community/logos/\" title=\"\"&gt;Python Logo&lt;/a&gt;&lt;/li&gt;\\n    \\n        &lt;li class=\"tier-2 element-9\" role=\"treeitem\"&gt;&lt;a href=\"https://wiki.python.org/moin/\" title=\"\"&gt;Python Wiki&lt;/a&gt;&lt;/li&gt;\\n    \\n        &lt;li class=\"tier-2 element-10\" role=\"treeitem\"&gt;&lt;a href=\"/community/merchandise/\" title=\"\"&gt;Merchandise&lt;/a&gt;&lt;/li&gt;\\n    \\n        &lt;li class=\"tier-2 element-11\" role=\"treeitem\"&gt;&lt;a href=\"/community/awards\" title=\"\"&gt;Community Awards&lt;/a&gt;&lt;/li&gt;\\n    \\n        &lt;li class=\"tier-2 element-12\" role=\"treeitem\"&gt;&lt;a href=\"/psf/conduct/\" title=\"\"&gt;Code of Conduct&lt;/a&gt;&lt;/li&gt;\\n    \\n        &lt;li class=\"tier-2 element-13\" role=\"treeitem\"&gt;&lt;a href=\"/psf/get-involved/\" title=\"\"&gt;Get Involved&lt;/a&gt;&lt;/li&gt;\\n    \\n        &lt;li class=\"tier-2 element-14\" role=\"treeitem\"&gt;&lt;a href=\"/psf/community-stories/\" title=\"\"&gt;Shared Stories&lt;/a&gt;&lt;/li&gt;\\n    \\n&lt;/ul&gt;\\n\\n        \\n    &lt;/li&gt;\\n    \\n    \\n    \\n    &lt;li id=\"success-stories\" class=\"tier-1 element-5  \" aria-haspopup=\"true\"&gt;\\n        &lt;a href=\"/success-stories/\" title=\"success-stories\" class=\"\"&gt;Success Stories&lt;/a&gt;\\n        \\n            \\n\\n&lt;ul class=\"subnav menu\" role=\"menu\" aria-hidden=\"true\"&gt;\\n    \\n        &lt;li class=\"tier-2 element-1\" role=\"treeitem\"&gt;&lt;a href=\"/success-stories/category/arts/\" title=\"\"&gt;Arts&lt;/a&gt;&lt;/li&gt;\\n    \\n        &lt;li class=\"tier-2 element-2\" role=\"treeitem\"&gt;&lt;a href=\"/success-stories/category/business/\" title=\"\"&gt;Business&lt;/a&gt;&lt;/li&gt;\\n    \\n        &lt;li class=\"tier-2 element-3\" role=\"treeitem\"&gt;&lt;a href=\"/success-stories/category/education/\" title=\"\"&gt;Education&lt;/a&gt;&lt;/li&gt;\\n    \\n        &lt;li class=\"tier-2 element-4\" role=\"treeitem\"&gt;&lt;a href=\"/success-stories/category/engineering/\" title=\"\"&gt;Engineering&lt;/a&gt;&lt;/li&gt;\\n    \\n        &lt;li class=\"tier-2 element-5\" role=\"treeitem\"&gt;&lt;a href=\"/success-stories/category/government/\" title=\"\"&gt;Government&lt;/a&gt;&lt;/li&gt;\\n    \\n        &lt;li class=\"tier-2 element-6\" role=\"treeitem\"&gt;&lt;a href=\"/success-stories/category/scientific/\" title=\"\"&gt;Scientific&lt;/a&gt;&lt;/li&gt;\\n    \\n        &lt;li class=\"tier-2 element-7\" role=\"treeitem\"&gt;&lt;a href=\"/success-stories/category/software-development/\" title=\"\"&gt;Software Development&lt;/a&gt;&lt;/li&gt;\\n    \\n&lt;/ul&gt;\\n\\n        \\n    &lt;/li&gt;\\n    \\n    \\n    \\n    &lt;li id=\"news\" class=\"tier-1 element-6  \" aria-haspopup=\"true\"&gt;\\n        &lt;a href=\"/blogs/\" title=\"News from around the Python world\" class=\"\"&gt;News&lt;/a&gt;\\n        \\n            \\n\\n&lt;ul class=\"subnav menu\" role=\"menu\" aria-hidden=\"true\"&gt;\\n    \\n        &lt;li class=\"tier-2 element-1\" role=\"treeitem\"&gt;&lt;a href=\"/blogs/\" title=\"Python Insider Blog Posts\"&gt;Python News&lt;/a&gt;&lt;/li&gt;\\n    \\n        &lt;li class=\"tier-2 element-2\" role=\"treeitem\"&gt;&lt;a href=\"/psf/newsletter/\" title=\"Python Software Foundation Newsletter\"&gt;PSF Newsletter&lt;/a&gt;&lt;/li&gt;\\n    \\n        &lt;li class=\"tier-2 element-3\" role=\"treeitem\"&gt;&lt;a href=\"http://planetpython.org/\" title=\"Planet Python\"&gt;Community News&lt;/a&gt;&lt;/li&gt;\\n    \\n        &lt;li class=\"tier-2 element-4\" role=\"treeitem\"&gt;&lt;a href=\"http://pyfound.blogspot.com/\" title=\"PSF Blog\"&gt;PSF News&lt;/a&gt;&lt;/li&gt;\\n    \\n        &lt;li class=\"tier-2 element-5\" role=\"treeitem\"&gt;&lt;a href=\"http://pycon.blogspot.com/\" title=\"PyCon Blog\"&gt;PyCon News&lt;/a&gt;&lt;/li&gt;\\n    \\n&lt;/ul&gt;\\n\\n        \\n    &lt;/li&gt;\\n    \\n    \\n    \\n    &lt;li id=\"events\" class=\"tier-1 element-7  \" aria-haspopup=\"true\"&gt;\\n        &lt;a href=\"/events/\" title=\"\" class=\"\"&gt;Events&lt;/a&gt;\\n        \\n            \\n\\n&lt;ul class=\"subnav menu\" role=\"menu\" aria-hidden=\"true\"&gt;\\n    \\n        &lt;li class=\"tier-2 element-1\" role=\"treeitem\"&gt;&lt;a href=\"/events/python-events/\" title=\"\"&gt;Python Events&lt;/a&gt;&lt;/li&gt;\\n    \\n        &lt;li class=\"tier-2 element-2\" role=\"treeitem\"&gt;&lt;a href=\"/events/python-user-group/\" title=\"\"&gt;User Group Events&lt;/a&gt;&lt;/li&gt;\\n    \\n        &lt;li class=\"tier-2 element-3\" role=\"treeitem\"&gt;&lt;a href=\"/events/python-events/past/\" title=\"\"&gt;Python Events Archive&lt;/a&gt;&lt;/li&gt;\\n    \\n        &lt;li class=\"tier-2 element-4\" role=\"treeitem\"&gt;&lt;a href=\"/events/python-user-group/past/\" title=\"\"&gt;User Group Events Archive&lt;/a&gt;&lt;/li&gt;\\n    \\n        &lt;li class=\"tier-2 element-5\" role=\"treeitem\"&gt;&lt;a href=\"https://wiki.python.org/moin/PythonEventsCalendar#Submitting_an_Event\" title=\"\"&gt;Submit an Event&lt;/a&gt;&lt;/li&gt;\\n    \\n&lt;/ul&gt;\\n\\n        \\n    &lt;/li&gt;\\n    \\n    \\n    \\n    \\n  \\n&lt;/ul&gt;\\n\\n                    \\n                &lt;/nav&gt;\\n\\n                &lt;div class=\"header-banner \"&gt; &lt;!-- for optional \"do-not-print\" class --&gt;\\n                    \\n        &lt;div id=\"dive-into-python\" class=\"flex-slideshow slideshow\"&gt;\\n\\n            &lt;ul class=\"launch-shell menu\" id=\"launch-shell\"&gt;\\n                &lt;li&gt;\\n                    &lt;a class=\"button prompt\" id=\"start-shell\" data-shell-container=\"#dive-into-python\" href=\"/shell/\"&gt;&amp;gt;_\\n                        &lt;span class=\"message\"&gt;Launch Interactive Shell&lt;/span&gt;\\n                    &lt;/a&gt;\\n                &lt;/li&gt;\\n            &lt;/ul&gt;\\n\\n            &lt;ul class=\"slides menu\"&gt;\\n                \\n                &lt;li&gt;\\n                    &lt;div class=\"slide-code\"&gt;&lt;pre&gt;&lt;code&gt;&lt;span class=\"comment\"&gt;# Python 3: Fibonacci series up to n&lt;/span&gt;\\r\\n&gt;&gt;&gt; def fib(n):\\r\\n&gt;&gt;&gt;     a, b = 0, 1\\r\\n&gt;&gt;&gt;     while a &amp;lt; n:\\r\\n&gt;&gt;&gt;         print(a, end=\\' \\')\\r\\n&gt;&gt;&gt;         a, b = b, a+b\\r\\n&gt;&gt;&gt;     print()\\r\\n&gt;&gt;&gt; fib(1000)\\r\\n&lt;span class=\"output\"&gt;0 1 1 2 3 5 8 13 21 34 55 89 144 233 377 610 987&lt;/span&gt;&lt;/code&gt;&lt;/pre&gt;&lt;/div&gt;\\n                    &lt;div class=\"slide-copy\"&gt;&lt;h1&gt;Functions Defined&lt;/h1&gt;\\r\\n&lt;p&gt;The core of extensible programming is defining functions. Python allows mandatory and optional arguments, keyword arguments, and even arbitrary argument lists. &lt;a href=\"//docs.python.org/3/tutorial/controlflow.html#defining-functions\"&gt;More about defining functions in Python&amp;nbsp;3&lt;/a&gt;&lt;/p&gt;&lt;/div&gt;\\n                &lt;/li&gt;\\n                \\n                &lt;li&gt;\\n                    &lt;div class=\"slide-code\"&gt;&lt;pre&gt;&lt;code&gt;&lt;span class=\"comment\"&gt;# Python 3: List comprehensions&lt;/span&gt;\\r\\n&gt;&gt;&gt; fruits = [\\'Banana\\', \\'Apple\\', \\'Lime\\']\\r\\n&gt;&gt;&gt; loud_fruits = [fruit.upper() for fruit in fruits]\\r\\n&gt;&gt;&gt; print(loud_fruits)\\r\\n&lt;span class=\"output\"&gt;[\\'BANANA\\', \\'APPLE\\', \\'LIME\\']&lt;/span&gt;\\r\\n\\r\\n&lt;span class=\"comment\"&gt;# List and the enumerate function&lt;/span&gt;\\r\\n&gt;&gt;&gt; list(enumerate(fruits))\\r\\n&lt;span class=\"output\"&gt;[(0, \\'Banana\\'), (1, \\'Apple\\'), (2, \\'Lime\\')]&lt;/span&gt;&lt;/code&gt;&lt;/pre&gt;&lt;/div&gt;\\n                    &lt;div class=\"slide-copy\"&gt;&lt;h1&gt;Compound Data Types&lt;/h1&gt;\\r\\n&lt;p&gt;Lists (known as arrays in other languages) are one of the compound data types that Python understands. Lists can be indexed, sliced and manipulated with other built-in functions. &lt;a href=\"//docs.python.org/3/tutorial/introduction.html#lists\"&gt;More about lists in Python&amp;nbsp;3&lt;/a&gt;&lt;/p&gt;&lt;/div&gt;\\n                &lt;/li&gt;\\n                \\n                &lt;li&gt;\\n                    &lt;div class=\"slide-code\"&gt;&lt;pre&gt;&lt;code&gt;&lt;span class=\"comment\"&gt;# Python 3: Simple arithmetic&lt;/span&gt;\\r\\n&gt;&gt;&gt; 1 / 2\\r\\n&lt;span class=\"output\"&gt;0.5&lt;/span&gt;\\r\\n&gt;&gt;&gt; 2 ** 3\\r\\n&lt;span class=\"output\"&gt;8&lt;/span&gt;\\r\\n&gt;&gt;&gt; 17 / 3  &lt;span class=\"comment\"&gt;# classic division returns a float&lt;/span&gt;\\r\\n&lt;span class=\"output\"&gt;5.666666666666667&lt;/span&gt;\\r\\n&gt;&gt;&gt; 17 // 3  &lt;span class=\"comment\"&gt;# floor division&lt;/span&gt;\\r\\n&lt;span class=\"output\"&gt;5&lt;/span&gt;&lt;/code&gt;&lt;/pre&gt;&lt;/div&gt;\\n                    &lt;div class=\"slide-copy\"&gt;&lt;h1&gt;Intuitive Interpretation&lt;/h1&gt;\\r\\n&lt;p&gt;Calculations are simple with Python, and expression syntax is straightforward: the operators &lt;code&gt;+&lt;/code&gt;, &lt;code&gt;-&lt;/code&gt;, &lt;code&gt;*&lt;/code&gt; and &lt;code&gt;/&lt;/code&gt; work as expected; parentheses &lt;code&gt;()&lt;/code&gt; can be used for grouping. &lt;a href=\"http://docs.python.org/3/tutorial/introduction.html#using-python-as-a-calculator\"&gt;More about simple math functions in Python&amp;nbsp;3&lt;/a&gt;.&lt;/p&gt;&lt;/div&gt;\\n                &lt;/li&gt;\\n                \\n                &lt;li&gt;\\n                    &lt;div class=\"slide-code\"&gt;&lt;pre&gt;&lt;code&gt;&lt;span class=\"comment\"&gt;# Python 3: Simple output (with Unicode)&lt;/span&gt;\\r\\n&gt;&gt;&gt; print(\"Hello, I\\'m Python!\")\\r\\n&lt;span class=\"output\"&gt;Hello, I\\'m Python!&lt;/span&gt;\\r\\n\\r\\n&lt;span class=\"comment\"&gt;# Input, assignment&lt;/span&gt;\\r\\n&gt;&gt;&gt; name = input(\\'What is your name?\\\\n\\')\\r\\n&gt;&gt;&gt; print(\\'Hi, %s.\\' % name)\\r\\n&lt;span class=\"output\"&gt;What is your name?\\r\\nPython\\r\\nHi, Python.&lt;/span&gt;&lt;/code&gt;&lt;/pre&gt;&lt;/div&gt;\\n                    &lt;div class=\"slide-copy\"&gt;&lt;h1&gt;Quick &amp;amp; Easy to Learn&lt;/h1&gt;\\r\\n&lt;p&gt;Experienced programmers in any other language can pick up Python very quickly, and beginners find the clean syntax and indentation structure easy to learn. &lt;a href=\"//docs.python.org/3/tutorial/\"&gt;Whet your appetite&lt;/a&gt; with our Python&amp;nbsp;3 overview.&lt;/p&gt;\\r\\n                   &lt;/div&gt;\\n                &lt;/li&gt;\\n                \\n                &lt;li&gt;\\n                    &lt;div class=\"slide-code\"&gt;&lt;pre&gt;&lt;code&gt;&lt;span class=\"comment\"&gt;# For loop on a list&lt;/span&gt;\\r\\n&gt;&gt;&gt; numbers = [2, 4, 6, 8]\\r\\n&gt;&gt;&gt; product = 1\\r\\n&gt;&gt;&gt; for number in numbers:\\r\\n...    product = product * number\\r\\n... \\r\\n&gt;&gt;&gt; print(\\'The product is:\\', product)\\r\\n&lt;span class=\"output\"&gt;The product is: 384&lt;/span&gt;&lt;/code&gt;&lt;/pre&gt;&lt;/div&gt;\\n                    &lt;div class=\"slide-copy\"&gt;&lt;h1&gt;All the Flow You&amp;rsquo;d Expect&lt;/h1&gt;\\r\\n&lt;p&gt;Python knows the usual control flow statements that other languages speak &amp;mdash; &lt;code&gt;if&lt;/code&gt;, &lt;code&gt;for&lt;/code&gt;, &lt;code&gt;while&lt;/code&gt; and &lt;code&gt;range&lt;/code&gt; &amp;mdash; with some of its own twists, of course. &lt;a href=\"//docs.python.org/3/tutorial/controlflow.html\"&gt;More control flow tools in Python&amp;nbsp;3&lt;/a&gt;&lt;/p&gt;&lt;/div&gt;\\n                &lt;/li&gt;\\n                \\n            &lt;/ul&gt;\\n        &lt;/div&gt;\\n\\n\\n                &lt;/div&gt;\\n\\n                \\n        &lt;div class=\"introduction\"&gt;\\n            &lt;p&gt;Python is a programming language that lets you work quickly &lt;span class=\"breaker\"&gt;&lt;/span&gt;and integrate systems more effectively. &lt;a class=\"readmore\" href=\"/doc/\"&gt;Learn More&lt;/a&gt;&lt;/p&gt;\\n        &lt;/div&gt;\\n\\n\\n             &lt;/div&gt;&lt;!-- end .container --&gt;\\n        &lt;/header&gt;\\n\\n        &lt;div id=\"content\" class=\"content-wrapper\"&gt;\\n            &lt;!-- Main Content Column --&gt;\\n            &lt;div class=\"container\"&gt;\\n\\n                &lt;section class=\"main-content \" role=\"main\"&gt;\\n\\n                    \\n                    \\n\\n                    \\n\\n                    \\n\\n                \\n\\n                &lt;div class=\"row\"&gt;\\n\\n                    &lt;div class=\"small-widget get-started-widget\"&gt;\\n                        &lt;h2 class=\"widget-title\"&gt;&lt;span aria-hidden=\"true\" class=\"icon-get-started\"&gt;&lt;/span&gt;Get Started&lt;/h2&gt;\\r\\n&lt;p&gt;Whether you\\'re new to programming or an experienced developer, it\\'s easy to learn and use Python.&lt;/p&gt;\\r\\n&lt;p&gt;&lt;a href=\"/about/gettingstarted/\"&gt;Start with our Beginner&amp;rsquo;s Guide&lt;/a&gt;&lt;/p&gt;\\n                    &lt;/div&gt;\\n\\n                    &lt;div class=\"small-widget download-widget\"&gt;\\n                        &lt;h2 class=\"widget-title\"&gt;&lt;span aria-hidden=\"true\" class=\"icon-download\"&gt;&lt;/span&gt;Download&lt;/h2&gt;\\n&lt;p&gt;Python source code and installers are available for download for all versions!&lt;/p&gt;\\n&lt;p&gt;Latest: &lt;a href=\"/downloads/release/python-3102/\"&gt;Python 3.10.2&lt;/a&gt;&lt;/p&gt;\\n                    &lt;/div&gt;\\n\\n                    &lt;div class=\"small-widget documentation-widget\"&gt;\\n                        &lt;h2 class=\"widget-title\"&gt;&lt;span aria-hidden=\"true\" class=\"icon-documentation\"&gt;&lt;/span&gt;Docs&lt;/h2&gt;\\r\\n&lt;p&gt;Documentation for Python\\'s standard library, along with tutorials and guides, are available online.&lt;/p&gt;\\r\\n&lt;p&gt;&lt;a href=\"https://docs.python.org\"&gt;docs.python.org&lt;/a&gt;&lt;/p&gt;\\n                    &lt;/div&gt;\\n\\n                    &lt;div class=\"small-widget jobs-widget last\"&gt;\\n                        &lt;h2 class=\"widget-title\"&gt;&lt;span aria-hidden=\"true\" class=\"icon-jobs\"&gt;&lt;/span&gt;Jobs&lt;/h2&gt;\\r\\n&lt;p&gt;Looking for work or have a Python related position that you\\'re trying to hire for? Our &lt;strong&gt;relaunched community-run job board&lt;/strong&gt; is the place to go.&lt;/p&gt;\\r\\n&lt;p&gt;&lt;a href=\"//jobs.python.org\"&gt;jobs.python.org&lt;/a&gt;&lt;/p&gt;\\n                    &lt;/div&gt;\\n\\n                &lt;/div&gt;\\n\\n                &lt;div class=\"list-widgets row\"&gt;\\n\\n                    &lt;div class=\"medium-widget blog-widget\"&gt;\\n                        \\n                        &lt;div class=\"shrubbery\"&gt;\\n                        \\n                            &lt;h2 class=\"widget-title\"&gt;&lt;span aria-hidden=\"true\" class=\"icon-news\"&gt;&lt;/span&gt;Latest News&lt;/h2&gt;\\n                            &lt;p class=\"give-me-more\"&gt;&lt;a href=\"https://blog.python.org\" title=\"More News\"&gt;More&lt;/a&gt;&lt;/p&gt;\\n                            \\n                            &lt;ul class=\"menu\"&gt;\\n                                \\n                                \\n                                &lt;li&gt;\\n&lt;time datetime=\"2022-01-14T23:11:00.000004+00:00\"&gt;&lt;span class=\"say-no-more\"&gt;2022-&lt;/span&gt;01-14&lt;/time&gt;\\n &lt;a href=\"https://pythoninsider.blogspot.com/2022/01/python-3102-3910-and-3110a4-are-now.html\"&gt;Python 3.10.2, 3.9.10, and 3.11.0a4 are now available&lt;/a&gt;&lt;/li&gt;\\n                                \\n                                &lt;li&gt;\\n&lt;time datetime=\"2022-01-05T22:14:00.000002+00:00\"&gt;&lt;span class=\"say-no-more\"&gt;2022-&lt;/span&gt;01-05&lt;/time&gt;\\n &lt;a href=\"http://pyfound.blogspot.com/2022/01/announcing-python-software-foundation.html\"&gt;Announcing Python Software Foundation Fellow Members for Q4 2021! \\xf0\\x9f\\x8e\\x89&lt;/a&gt;&lt;/li&gt;\\n                                \\n                                &lt;li&gt;\\n&lt;time datetime=\"2021-12-15T08:20:00.000002+00:00\"&gt;&lt;span class=\"say-no-more\"&gt;2021-&lt;/span&gt;12-15&lt;/time&gt;\\n &lt;a href=\"http://pyfound.blogspot.com/2021/12/georgi-ker-awarded-psf-community.html\"&gt;Georgi Ker Awarded the PSF Community Service Award for Q4 2020&lt;/a&gt;&lt;/li&gt;\\n                                \\n                                &lt;li&gt;\\n&lt;time datetime=\"2021-12-09T16:49:00.000003+00:00\"&gt;&lt;span class=\"say-no-more\"&gt;2021-&lt;/span&gt;12-09&lt;/time&gt;\\n &lt;a href=\"http://pyfound.blogspot.com/2021/12/pypi-user-feedback-summary.html\"&gt;PyPI User Feedback Summary&lt;/a&gt;&lt;/li&gt;\\n                                \\n                                &lt;li&gt;\\n&lt;time datetime=\"2021-12-08T23:54:00.000002+00:00\"&gt;&lt;span class=\"say-no-more\"&gt;2021-&lt;/span&gt;12-08&lt;/time&gt;\\n &lt;a href=\"https://pythoninsider.blogspot.com/2021/12/python-3110a3-is-available.html\"&gt;Python 3.11.0a3 is available&lt;/a&gt;&lt;/li&gt;\\n                                \\n                            &lt;/ul&gt;\\n                        &lt;/div&gt;&lt;!-- end .shrubbery --&gt;\\n\\n                    &lt;/div&gt;\\n\\n                    &lt;div class=\"medium-widget event-widget last\"&gt;\\n                        \\n                        &lt;div class=\"shrubbery\"&gt;\\n                        \\n                            &lt;h2 class=\"widget-title\"&gt;&lt;span aria-hidden=\"true\" class=\"icon-calendar\"&gt;&lt;/span&gt;Upcoming Events&lt;/h2&gt;\\n                            &lt;p class=\"give-me-more\"&gt;&lt;a href=\"/events/calendars/\" title=\"More Events\"&gt;More&lt;/a&gt;&lt;/p&gt;\\n                            \\n                            &lt;ul class=\"menu\"&gt;\\n                                \\n                                \\n                                \\n                                &lt;li&gt;\\n&lt;time datetime=\"2022-02-05T00:00:00+00:00\"&gt;&lt;span class=\"say-no-more\"&gt;2022-&lt;/span&gt;02-05&lt;/time&gt;\\n &lt;a href=\"/events/python-events/1203/\"&gt;PyCascades Remote 2020&lt;/a&gt;&lt;/li&gt;\\n                                \\n                                \\n                                \\n                                &lt;li&gt;\\n&lt;time datetime=\"2022-02-06T00:00:00+00:00\"&gt;&lt;span class=\"say-no-more\"&gt;2022-&lt;/span&gt;02-06&lt;/time&gt;\\n &lt;a href=\"/events/python-events/1210/\"&gt;FOSDEM 2022: Python Dev Room&lt;/a&gt;&lt;/li&gt;\\n                                \\n                                \\n                                \\n                                &lt;li&gt;\\n&lt;time datetime=\"2022-02-23T17:30:00+00:00\"&gt;&lt;span class=\"say-no-more\"&gt;2022-&lt;/span&gt;02-23&lt;/time&gt;\\n &lt;a href=\"/events/python-user-group/1205/\"&gt;A deep dive into Fairness in Machine Learning using Fairlearn - PyLadies Amsterdam&lt;/a&gt;&lt;/li&gt;\\n                                \\n                                \\n                                \\n                                &lt;li&gt;\\n&lt;time datetime=\"2022-03-21T00:00:00+00:00\"&gt;&lt;span class=\"say-no-more\"&gt;2022-&lt;/span&gt;03-21&lt;/time&gt;\\n &lt;a href=\"/events/python-events/1204/\"&gt;Python Web Conference 2022&lt;/a&gt;&lt;/li&gt;\\n                                \\n                                \\n                                \\n                                &lt;li&gt;\\n&lt;time datetime=\"2022-03-26T00:00:00+00:00\"&gt;&lt;span class=\"say-no-more\"&gt;2022-&lt;/span&gt;03-26&lt;/time&gt;\\n &lt;a href=\"/events/python-events/1207/\"&gt;PyTexas 2022&lt;/a&gt;&lt;/li&gt;\\n                                \\n                                \\n                            &lt;/ul&gt;\\n                        &lt;/div&gt;\\n\\n                    &lt;/div&gt;\\n\\n                &lt;/div&gt;\\n\\n                &lt;div class=\"row\"&gt;\\n\\n                    &lt;div class=\"medium-widget success-stories-widget\"&gt;\\n                        \\n\\n\\n\\n                        &lt;div class=\"shrubbery\"&gt;\\n                            \\n\\n                            &lt;h2 class=\"widget-title\"&gt;&lt;span aria-hidden=\"true\" class=\"icon-success-stories\"&gt;&lt;/span&gt;Success Stories&lt;/h2&gt;\\n                            &lt;p class=\"give-me-more\"&gt;&lt;a href=\"/success-stories/\" title=\"More Success Stories\"&gt;More&lt;/a&gt;&lt;/p&gt;\\n\\n                            \\n                            &lt;div class=\"success-story-item\" id=\"success-story-932\"&gt;\\n\\n                            &lt;blockquote&gt;\\n                                &lt;a href=\"/success-stories/abridging-clinical-conversations-using-python/\"&gt;Python powers major aspects of Abridge\\xe2\\x80\\x99s ML lifecycle, including data annotation,  research and experimentation, and ML model deployment to production.&lt;/a&gt;\\n                            &lt;/blockquote&gt;\\n\\n                            &lt;table cellpadding=\"0\" cellspacing=\"0\" border=\"0\" width=\"100%\" class=\"quote-from\"&gt;\\n                                &lt;tbody&gt;\\n                                    &lt;tr&gt;\\n                                        \\n                                        &lt;td&gt;&lt;p&gt;&lt;a href=\"/success-stories/abridging-clinical-conversations-using-python/\"&gt;Abridging clinical conversations using Python&lt;/a&gt; &lt;em&gt;by Nimshi Venkat and Sandeep Konam&lt;/em&gt;&lt;/p&gt;&lt;/td&gt;\\n                                    &lt;/tr&gt;\\n                                &lt;/tbody&gt;\\n                            &lt;/table&gt;\\n                            &lt;/div&gt;\\n                            \\n\\n                        &lt;/div&gt;&lt;!-- end .shrubbery --&gt;\\n\\n                    &lt;/div&gt;\\n\\n                    &lt;div class=\"medium-widget applications-widget last\"&gt;\\n                        &lt;div class=\"shrubbery\"&gt;\\n                            &lt;h2 class=\"widget-title\"&gt;&lt;span aria-hidden=\"true\" class=\"icon-python\"&gt;&lt;/span&gt;Use Python for&amp;hellip;&lt;/h2&gt;\\r\\n&lt;p class=\"give-me-more\"&gt;&lt;a href=\"/about/apps\" title=\"More Applications\"&gt;More&lt;/a&gt;&lt;/p&gt;\\r\\n\\r\\n&lt;ul class=\"menu\"&gt;\\r\\n    &lt;li&gt;&lt;b&gt;Web Development&lt;/b&gt;:\\r\\n        &lt;span class=\"tag-wrapper\"&gt;&lt;a class=\"tag\" href=\"http://www.djangoproject.com/\"&gt;Django&lt;/a&gt;, &lt;a class=\"tag\" href=\"http://www.pylonsproject.org/\"&gt;Pyramid&lt;/a&gt;, &lt;a class=\"tag\" href=\"http://bottlepy.org\"&gt;Bottle&lt;/a&gt;, &lt;a class=\"tag\" href=\"http://tornadoweb.org\"&gt;Tornado&lt;/a&gt;, &lt;a href=\"http://flask.pocoo.org/\" class=\"tag\"&gt;Flask&lt;/a&gt;, &lt;a class=\"tag\" href=\"http://www.web2py.com/\"&gt;web2py&lt;/a&gt;&lt;/span&gt;&lt;/li&gt;\\r\\n    &lt;li&gt;&lt;b&gt;GUI Development&lt;/b&gt;:\\r\\n        &lt;span class=\"tag-wrapper\"&gt;&lt;a class=\"tag\" href=\"http://wiki.python.org/moin/TkInter\"&gt;tkInter&lt;/a&gt;, &lt;a class=\"tag\" href=\"https://wiki.gnome.org/Projects/PyGObject\"&gt;PyGObject&lt;/a&gt;, &lt;a class=\"tag\" href=\"http://www.riverbankcomputing.co.uk/software/pyqt/intro\"&gt;PyQt&lt;/a&gt;, &lt;a class=\"tag\" href=\"https://wiki.qt.io/PySide\"&gt;PySide&lt;/a&gt;, &lt;a class=\"tag\" href=\"https://kivy.org/\"&gt;Kivy&lt;/a&gt;, &lt;a class=\"tag\" href=\"http://www.wxpython.org/\"&gt;wxPython&lt;/a&gt;&lt;/span&gt;&lt;/li&gt;\\r\\n    &lt;li&gt;&lt;b&gt;Scientific and Numeric&lt;/b&gt;:\\r\\n        &lt;span class=\"tag-wrapper\"&gt;\\r\\n&lt;a class=\"tag\" href=\"http://www.scipy.org\"&gt;SciPy&lt;/a&gt;, &lt;a class=\"tag\" href=\"http://pandas.pydata.org/\"&gt;Pandas&lt;/a&gt;, &lt;a href=\"http://ipython.org\" class=\"tag\"&gt;IPython&lt;/a&gt;&lt;/span&gt;&lt;/li&gt;\\r\\n    &lt;li&gt;&lt;b&gt;Software Development&lt;/b&gt;:\\r\\n        &lt;span class=\"tag-wrapper\"&gt;&lt;a class=\"tag\" href=\"http://buildbot.net/\"&gt;Buildbot&lt;/a&gt;, &lt;a class=\"tag\" href=\"http://trac.edgewall.org/\"&gt;Trac&lt;/a&gt;, &lt;a class=\"tag\" href=\"http://roundup.sourceforge.net/\"&gt;Roundup&lt;/a&gt;&lt;/span&gt;&lt;/li&gt;\\r\\n    &lt;li&gt;&lt;b&gt;System Administration&lt;/b&gt;:\\r\\n        &lt;span class=\"tag-wrapper\"&gt;&lt;a class=\"tag\" href=\"http://www.ansible.com\"&gt;Ansible&lt;/a&gt;, &lt;a class=\"tag\" href=\"https://saltproject.io\"&gt;Salt&lt;/a&gt;, &lt;a class=\"tag\" href=\"https://www.openstack.org\"&gt;OpenStack&lt;/a&gt;, &lt;a class=\"tag\" href=\"https://xon.sh\"&gt;xonsh&lt;/a&gt;&lt;/span&gt;&lt;/li&gt;\\r\\n&lt;/ul&gt;\\n                        &lt;/div&gt;&lt;!-- end .shrubbery --&gt;\\n                    &lt;/div&gt;\\n\\n                &lt;/div&gt;\\n\\n                \\n                &lt;div class=\"pep-widget\"&gt;\\n\\n                    &lt;h2 class=\"widget-title\"&gt;\\n                        &lt;span class=\"prompt\"&gt;&amp;gt;&amp;gt;&amp;gt;&lt;/span&gt; &lt;a href=\"/dev/peps/\"&gt;Python Enhancement Proposals&lt;span class=\"say-no-more\"&gt; (PEPs)&lt;/span&gt;&lt;/a&gt;: The future of Python&lt;span class=\"say-no-more\"&gt; is discussed here.&lt;/span&gt;\\n                        &lt;a aria-hidden=\"true\" class=\"rss-link\" href=\"/dev/peps/peps.rss\"&gt;&lt;span class=\"icon-feed\"&gt;&lt;/span&gt; RSS&lt;/a&gt;\\n                    &lt;/h2&gt;\\n\\n\\n                    \\n                    \\n                &lt;/div&gt;\\n\\n                                &lt;div class=\"psf-widget\"&gt;\\n\\n                    &lt;div class=\"python-logo\"&gt;&lt;/div&gt;\\n                    \\n                    &lt;h2 class=\"widget-title\"&gt;\\r\\n    &lt;span class=\"prompt\"&gt;&amp;gt;&amp;gt;&amp;gt;&lt;/span&gt; &lt;a href=\"/psf/\"&gt;Python Software Foundation&lt;/a&gt;\\r\\n&lt;/h2&gt;\\r\\n&lt;p&gt;The mission of the Python Software Foundation is to promote, protect, and advance the Python programming language, and to support and facilitate the growth of a diverse and international community of Python programmers. &lt;a class=\"readmore\" href=\"/psf/\"&gt;Learn more&lt;/a&gt; &lt;/p&gt;\\r\\n&lt;p class=\"click-these\"&gt;\\r\\n    &lt;a class=\"button\" href=\"/users/membership/\"&gt;Become a Member&lt;/a&gt;\\r\\n    &lt;a class=\"button\" href=\"/psf/donations/\"&gt;Donate to the PSF&lt;/a&gt;\\r\\n&lt;/p&gt;\\n                &lt;/div&gt;\\n\\n\\n\\n\\n                &lt;/section&gt;\\n\\n                \\n                \\n\\n                \\n                \\n\\n\\n            &lt;/div&gt;&lt;!-- end .container --&gt;\\n        &lt;/div&gt;&lt;!-- end #content .content-wrapper --&gt;\\n\\n        &lt;!-- Footer and social media list --&gt;\\n        \\n        &lt;footer id=\"site-map\" class=\"main-footer\" role=\"contentinfo\"&gt;\\n            &lt;div class=\"main-footer-links\"&gt;\\n                &lt;div class=\"container\"&gt;\\n\\n                    \\n                    &lt;a id=\"back-to-top-1\" class=\"jump-link\" href=\"#python-network\"&gt;&lt;span aria-hidden=\"true\" class=\"icon-arrow-up\"&gt;&lt;span&gt;&amp;#9650;&lt;/span&gt;&lt;/span&gt; Back to Top&lt;/a&gt;\\n\\n                    \\n\\n&lt;ul class=\"sitemap navigation menu do-not-print\" role=\"tree\" id=\"container\"&gt;\\n    \\n    &lt;li class=\"tier-1 element-1\"&gt;\\n        &lt;a href=\"/about/\" &gt;About&lt;/a&gt;\\n        \\n            \\n\\n&lt;ul class=\"subnav menu\"&gt;\\n    \\n        &lt;li class=\"tier-2 element-1\" role=\"treeitem\"&gt;&lt;a href=\"/about/apps/\" title=\"\"&gt;Applications&lt;/a&gt;&lt;/li&gt;\\n    \\n        &lt;li class=\"tier-2 element-2\" role=\"treeitem\"&gt;&lt;a href=\"/about/quotes/\" title=\"\"&gt;Quotes&lt;/a&gt;&lt;/li&gt;\\n    \\n        &lt;li class=\"tier-2 element-3\" role=\"treeitem\"&gt;&lt;a href=\"/about/gettingstarted/\" title=\"\"&gt;Getting Started&lt;/a&gt;&lt;/li&gt;\\n    \\n        &lt;li class=\"tier-2 element-4\" role=\"treeitem\"&gt;&lt;a href=\"/about/help/\" title=\"\"&gt;Help&lt;/a&gt;&lt;/li&gt;\\n    \\n        &lt;li class=\"tier-2 element-5\" role=\"treeitem\"&gt;&lt;a href=\"http://brochure.getpython.info/\" title=\"\"&gt;Python Brochure&lt;/a&gt;&lt;/li&gt;\\n    \\n&lt;/ul&gt;\\n\\n        \\n    &lt;/li&gt;\\n    \\n    &lt;li class=\"tier-1 element-2\"&gt;\\n        &lt;a href=\"/downloads/\" &gt;Downloads&lt;/a&gt;\\n        \\n            \\n\\n&lt;ul class=\"subnav menu\"&gt;\\n    \\n        &lt;li class=\"tier-2 element-1\" role=\"treeitem\"&gt;&lt;a href=\"/downloads/\" title=\"\"&gt;All releases&lt;/a&gt;&lt;/li&gt;\\n    \\n        &lt;li class=\"tier-2 element-2\" role=\"treeitem\"&gt;&lt;a href=\"/downloads/source/\" title=\"\"&gt;Source code&lt;/a&gt;&lt;/li&gt;\\n    \\n        &lt;li class=\"tier-2 element-3\" role=\"treeitem\"&gt;&lt;a href=\"/downloads/windows/\" title=\"\"&gt;Windows&lt;/a&gt;&lt;/li&gt;\\n    \\n        &lt;li class=\"tier-2 element-4\" role=\"treeitem\"&gt;&lt;a href=\"/downloads/macos/\" title=\"\"&gt;macOS&lt;/a&gt;&lt;/li&gt;\\n    \\n        &lt;li class=\"tier-2 element-5\" role=\"treeitem\"&gt;&lt;a href=\"/download/other/\" title=\"\"&gt;Other Platforms&lt;/a&gt;&lt;/li&gt;\\n    \\n        &lt;li class=\"tier-2 element-6\" role=\"treeitem\"&gt;&lt;a href=\"https://docs.python.org/3/license.html\" title=\"\"&gt;License&lt;/a&gt;&lt;/li&gt;\\n    \\n        &lt;li class=\"tier-2 element-7\" role=\"treeitem\"&gt;&lt;a href=\"/download/alternatives\" title=\"\"&gt;Alternative Implementations&lt;/a&gt;&lt;/li&gt;\\n    \\n&lt;/ul&gt;\\n\\n        \\n    &lt;/li&gt;\\n    \\n    &lt;li class=\"tier-1 element-3\"&gt;\\n        &lt;a href=\"/doc/\" &gt;Documentation&lt;/a&gt;\\n        \\n            \\n\\n&lt;ul class=\"subnav menu\"&gt;\\n    \\n        &lt;li class=\"tier-2 element-1\" role=\"treeitem\"&gt;&lt;a href=\"/doc/\" title=\"\"&gt;Docs&lt;/a&gt;&lt;/li&gt;\\n    \\n        &lt;li class=\"tier-2 element-2\" role=\"treeitem\"&gt;&lt;a href=\"/doc/av\" title=\"\"&gt;Audio/Visual Talks&lt;/a&gt;&lt;/li&gt;\\n    \\n        &lt;li class=\"tier-2 element-3\" role=\"treeitem\"&gt;&lt;a href=\"https://wiki.python.org/moin/BeginnersGuide\" title=\"\"&gt;Beginner&amp;#39;s Guide&lt;/a&gt;&lt;/li&gt;\\n    \\n        &lt;li class=\"tier-2 element-4\" role=\"treeitem\"&gt;&lt;a href=\"https://devguide.python.org/\" title=\"\"&gt;Developer&amp;#39;s Guide&lt;/a&gt;&lt;/li&gt;\\n    \\n        &lt;li class=\"tier-2 element-5\" role=\"treeitem\"&gt;&lt;a href=\"https://docs.python.org/faq/\" title=\"\"&gt;FAQ&lt;/a&gt;&lt;/li&gt;\\n    \\n        &lt;li class=\"tier-2 element-6\" role=\"treeitem\"&gt;&lt;a href=\"http://wiki.python.org/moin/Languages\" title=\"\"&gt;Non-English Docs&lt;/a&gt;&lt;/li&gt;\\n    \\n        &lt;li class=\"tier-2 element-7\" role=\"treeitem\"&gt;&lt;a href=\"http://python.org/dev/peps/\" title=\"\"&gt;PEP Index&lt;/a&gt;&lt;/li&gt;\\n    \\n        &lt;li class=\"tier-2 element-8\" role=\"treeitem\"&gt;&lt;a href=\"https://wiki.python.org/moin/PythonBooks\" title=\"\"&gt;Python Books&lt;/a&gt;&lt;/li&gt;\\n    \\n        &lt;li class=\"tier-2 element-9\" role=\"treeitem\"&gt;&lt;a href=\"/doc/essays/\" title=\"\"&gt;Python Essays&lt;/a&gt;&lt;/li&gt;\\n    \\n&lt;/ul&gt;\\n\\n        \\n    &lt;/li&gt;\\n    \\n    &lt;li class=\"tier-1 element-4\"&gt;\\n        &lt;a href=\"/community/\" &gt;Community&lt;/a&gt;\\n        \\n            \\n\\n&lt;ul class=\"subnav menu\"&gt;\\n    \\n        &lt;li class=\"tier-2 element-1\" role=\"treeitem\"&gt;&lt;a href=\"/community/diversity/\" title=\"\"&gt;Diversity&lt;/a&gt;&lt;/li&gt;\\n    \\n        &lt;li class=\"tier-2 element-2\" role=\"treeitem\"&gt;&lt;a href=\"/community/lists/\" title=\"\"&gt;Mailing Lists&lt;/a&gt;&lt;/li&gt;\\n    \\n        &lt;li class=\"tier-2 element-3\" role=\"treeitem\"&gt;&lt;a href=\"/community/irc/\" title=\"\"&gt;IRC&lt;/a&gt;&lt;/li&gt;\\n    \\n        &lt;li class=\"tier-2 element-4\" role=\"treeitem\"&gt;&lt;a href=\"/community/forums/\" title=\"\"&gt;Forums&lt;/a&gt;&lt;/li&gt;\\n    \\n        &lt;li class=\"tier-2 element-5\" role=\"treeitem\"&gt;&lt;a href=\"/psf/annual-report/2021/\" title=\"\"&gt;PSF Annual Impact Report&lt;/a&gt;&lt;/li&gt;\\n    \\n        &lt;li class=\"tier-2 element-6\" role=\"treeitem\"&gt;&lt;a href=\"/community/workshops/\" title=\"\"&gt;Python Conferences&lt;/a&gt;&lt;/li&gt;\\n    \\n        &lt;li class=\"tier-2 element-7\" role=\"treeitem\"&gt;&lt;a href=\"/community/sigs/\" title=\"\"&gt;Special Interest Groups&lt;/a&gt;&lt;/li&gt;\\n    \\n        &lt;li class=\"tier-2 element-8\" role=\"treeitem\"&gt;&lt;a href=\"/community/logos/\" title=\"\"&gt;Python Logo&lt;/a&gt;&lt;/li&gt;\\n    \\n        &lt;li class=\"tier-2 element-9\" role=\"treeitem\"&gt;&lt;a href=\"https://wiki.python.org/moin/\" title=\"\"&gt;Python Wiki&lt;/a&gt;&lt;/li&gt;\\n    \\n        &lt;li class=\"tier-2 element-10\" role=\"treeitem\"&gt;&lt;a href=\"/community/merchandise/\" title=\"\"&gt;Merchandise&lt;/a&gt;&lt;/li&gt;\\n    \\n        &lt;li class=\"tier-2 element-11\" role=\"treeitem\"&gt;&lt;a href=\"/community/awards\" title=\"\"&gt;Community Awards&lt;/a&gt;&lt;/li&gt;\\n    \\n        &lt;li class=\"tier-2 element-12\" role=\"treeitem\"&gt;&lt;a href=\"/psf/conduct/\" title=\"\"&gt;Code of Conduct&lt;/a&gt;&lt;/li&gt;\\n    \\n        &lt;li class=\"tier-2 element-13\" role=\"treeitem\"&gt;&lt;a href=\"/psf/get-involved/\" title=\"\"&gt;Get Involved&lt;/a&gt;&lt;/li&gt;\\n    \\n        &lt;li class=\"tier-2 element-14\" role=\"treeitem\"&gt;&lt;a href=\"/psf/community-stories/\" title=\"\"&gt;Shared Stories&lt;/a&gt;&lt;/li&gt;\\n    \\n&lt;/ul&gt;\\n\\n        \\n    &lt;/li&gt;\\n    \\n    &lt;li class=\"tier-1 element-5\"&gt;\\n        &lt;a href=\"/success-stories/\" title=\"success-stories\"&gt;Success Stories&lt;/a&gt;\\n        \\n            \\n\\n&lt;ul class=\"subnav menu\"&gt;\\n    \\n        &lt;li class=\"tier-2 element-1\" role=\"treeitem\"&gt;&lt;a href=\"/success-stories/category/arts/\" title=\"\"&gt;Arts&lt;/a&gt;&lt;/li&gt;\\n    \\n        &lt;li class=\"tier-2 element-2\" role=\"treeitem\"&gt;&lt;a href=\"/success-stories/category/business/\" title=\"\"&gt;Business&lt;/a&gt;&lt;/li&gt;\\n    \\n        &lt;li class=\"tier-2 element-3\" role=\"treeitem\"&gt;&lt;a href=\"/success-stories/category/education/\" title=\"\"&gt;Education&lt;/a&gt;&lt;/li&gt;\\n    \\n        &lt;li class=\"tier-2 element-4\" role=\"treeitem\"&gt;&lt;a href=\"/success-stories/category/engineering/\" title=\"\"&gt;Engineering&lt;/a&gt;&lt;/li&gt;\\n    \\n        &lt;li class=\"tier-2 element-5\" role=\"treeitem\"&gt;&lt;a href=\"/success-stories/category/government/\" title=\"\"&gt;Government&lt;/a&gt;&lt;/li&gt;\\n    \\n        &lt;li class=\"tier-2 element-6\" role=\"treeitem\"&gt;&lt;a href=\"/success-stories/category/scientific/\" title=\"\"&gt;Scientific&lt;/a&gt;&lt;/li&gt;\\n    \\n        &lt;li class=\"tier-2 element-7\" role=\"treeitem\"&gt;&lt;a href=\"/success-stories/category/software-development/\" title=\"\"&gt;Software Development&lt;/a&gt;&lt;/li&gt;\\n    \\n&lt;/ul&gt;\\n\\n        \\n    &lt;/li&gt;\\n    \\n    &lt;li class=\"tier-1 element-6\"&gt;\\n        &lt;a href=\"/blogs/\" title=\"News from around the Python world\"&gt;News&lt;/a&gt;\\n        \\n            \\n\\n&lt;ul class=\"subnav menu\"&gt;\\n    \\n        &lt;li class=\"tier-2 element-1\" role=\"treeitem\"&gt;&lt;a href=\"/blogs/\" title=\"Python Insider Blog Posts\"&gt;Python News&lt;/a&gt;&lt;/li&gt;\\n    \\n        &lt;li class=\"tier-2 element-2\" role=\"treeitem\"&gt;&lt;a href=\"/psf/newsletter/\" title=\"Python Software Foundation Newsletter\"&gt;PSF Newsletter&lt;/a&gt;&lt;/li&gt;\\n    \\n        &lt;li class=\"tier-2 element-3\" role=\"treeitem\"&gt;&lt;a href=\"http://planetpython.org/\" title=\"Planet Python\"&gt;Community News&lt;/a&gt;&lt;/li&gt;\\n    \\n        &lt;li class=\"tier-2 element-4\" role=\"treeitem\"&gt;&lt;a href=\"http://pyfound.blogspot.com/\" title=\"PSF Blog\"&gt;PSF News&lt;/a&gt;&lt;/li&gt;\\n    \\n        &lt;li class=\"tier-2 element-5\" role=\"treeitem\"&gt;&lt;a href=\"http://pycon.blogspot.com/\" title=\"PyCon Blog\"&gt;PyCon News&lt;/a&gt;&lt;/li&gt;\\n    \\n&lt;/ul&gt;\\n\\n        \\n    &lt;/li&gt;\\n    \\n    &lt;li class=\"tier-1 element-7\"&gt;\\n        &lt;a href=\"/events/\" &gt;Events&lt;/a&gt;\\n        \\n            \\n\\n&lt;ul class=\"subnav menu\"&gt;\\n    \\n        &lt;li class=\"tier-2 element-1\" role=\"treeitem\"&gt;&lt;a href=\"/events/python-events/\" title=\"\"&gt;Python Events&lt;/a&gt;&lt;/li&gt;\\n    \\n        &lt;li class=\"tier-2 element-2\" role=\"treeitem\"&gt;&lt;a href=\"/events/python-user-group/\" title=\"\"&gt;User Group Events&lt;/a&gt;&lt;/li&gt;\\n    \\n        &lt;li class=\"tier-2 element-3\" role=\"treeitem\"&gt;&lt;a href=\"/events/python-events/past/\" title=\"\"&gt;Python Events Archive&lt;/a&gt;&lt;/li&gt;\\n    \\n        &lt;li class=\"tier-2 element-4\" role=\"treeitem\"&gt;&lt;a href=\"/events/python-user-group/past/\" title=\"\"&gt;User Group Events Archive&lt;/a&gt;&lt;/li&gt;\\n    \\n        &lt;li class=\"tier-2 element-5\" role=\"treeitem\"&gt;&lt;a href=\"https://wiki.python.org/moin/PythonEventsCalendar#Submitting_an_Event\" title=\"\"&gt;Submit an Event&lt;/a&gt;&lt;/li&gt;\\n    \\n&lt;/ul&gt;\\n\\n        \\n    &lt;/li&gt;\\n    \\n    &lt;li class=\"tier-1 element-8\"&gt;\\n        &lt;a href=\"/dev/\" &gt;Contributing&lt;/a&gt;\\n        \\n            \\n\\n&lt;ul class=\"subnav menu\"&gt;\\n    \\n        &lt;li class=\"tier-2 element-1\" role=\"treeitem\"&gt;&lt;a href=\"https://devguide.python.org/\" title=\"\"&gt;Developer&amp;#39;s Guide&lt;/a&gt;&lt;/li&gt;\\n    \\n        &lt;li class=\"tier-2 element-2\" role=\"treeitem\"&gt;&lt;a href=\"https://bugs.python.org/\" title=\"\"&gt;Issue Tracker&lt;/a&gt;&lt;/li&gt;\\n    \\n        &lt;li class=\"tier-2 element-3\" role=\"treeitem\"&gt;&lt;a href=\"https://mail.python.org/mailman/listinfo/python-dev\" title=\"\"&gt;python-dev list&lt;/a&gt;&lt;/li&gt;\\n    \\n        &lt;li class=\"tier-2 element-4\" role=\"treeitem\"&gt;&lt;a href=\"/dev/core-mentorship/\" title=\"\"&gt;Core Mentorship&lt;/a&gt;&lt;/li&gt;\\n    \\n        &lt;li class=\"tier-2 element-5\" role=\"treeitem\"&gt;&lt;a href=\"/dev/security/\" title=\"\"&gt;Report a Security Issue&lt;/a&gt;&lt;/li&gt;\\n    \\n&lt;/ul&gt;\\n\\n        \\n    &lt;/li&gt;\\n    \\n&lt;/ul&gt;\\n\\n\\n                    &lt;a id=\"back-to-top-2\" class=\"jump-link\" href=\"#python-network\"&gt;&lt;span aria-hidden=\"true\" class=\"icon-arrow-up\"&gt;&lt;span&gt;&amp;#9650;&lt;/span&gt;&lt;/span&gt; Back to Top&lt;/a&gt;\\n                    \\n\\n                &lt;/div&gt;&lt;!-- end .container --&gt;\\n            &lt;/div&gt; &lt;!-- end .main-footer-links --&gt;\\n\\n            &lt;div class=\"site-base\"&gt;\\n                &lt;div class=\"container\"&gt;\\n                    \\n                    &lt;ul class=\"footer-links navigation menu do-not-print\" role=\"tree\"&gt;\\n                        &lt;li class=\"tier-1 element-1\"&gt;&lt;a href=\"/about/help/\"&gt;Help &amp;amp; &lt;span class=\"say-no-more\"&gt;General&lt;/span&gt; Contact&lt;/a&gt;&lt;/li&gt;\\n                        &lt;li class=\"tier-1 element-2\"&gt;&lt;a href=\"/community/diversity/\"&gt;Diversity &lt;span class=\"say-no-more\"&gt;Initiatives&lt;/span&gt;&lt;/a&gt;&lt;/li&gt;\\n                        &lt;li class=\"tier-1 element-3\"&gt;&lt;a href=\"https://github.com/python/pythondotorg/issues\"&gt;Submit Website Bug&lt;/a&gt;&lt;/li&gt;\\n                        &lt;li class=\"tier-1 element-4\"&gt;\\n                            &lt;a href=\"https://status.python.org/\"&gt;Status &lt;span class=\"python-status-indicator-default\" id=\"python-status-indicator\"&gt;&lt;/span&gt;&lt;/a&gt;\\n                        &lt;/li&gt;\\n                    &lt;/ul&gt;\\n\\n                    &lt;div class=\"copyright\"&gt;\\n                        &lt;p&gt;&lt;small&gt;\\n                            &lt;span class=\"pre\"&gt;Copyright &amp;copy;2001-2022.&lt;/span&gt;\\n                            &amp;nbsp;&lt;span class=\"pre\"&gt;&lt;a href=\"/psf-landing/\"&gt;Python Software Foundation&lt;/a&gt;&lt;/span&gt;\\n                            &amp;nbsp;&lt;span class=\"pre\"&gt;&lt;a href=\"/about/legal/\"&gt;Legal Statements&lt;/a&gt;&lt;/span&gt;\\n                            &amp;nbsp;&lt;span class=\"pre\"&gt;&lt;a href=\"/privacy/\"&gt;Privacy Policy&lt;/a&gt;&lt;/span&gt;\\n                            &amp;nbsp;&lt;span class=\"pre\"&gt;&lt;a href=\"/psf/sponsorship/sponsors/#heroku\"&gt;Powered by Heroku&lt;/a&gt;&lt;/span&gt;\\n                        &lt;/small&gt;&lt;/p&gt;\\n                    &lt;/div&gt;\\n\\n                &lt;/div&gt;&lt;!-- end .container --&gt;\\n            &lt;/div&gt;&lt;!-- end .site-base --&gt;\\n\\n        &lt;/footer&gt;\\n        \\n\\n    &lt;/div&gt;&lt;!-- end #touchnav-wrapper --&gt;\\n\\n    \\n    &lt;script src=\"//ajax.googleapis.com/ajax/libs/jquery/1.8.2/jquery.min.js\"&gt;&lt;/script&gt;\\n    &lt;script&gt;window.jQuery || document.write(\\'&lt;script src=\"/static/js/libs/jquery-1.8.2.min.js\"&gt;&lt;\\\\/script&gt;\\')&lt;/script&gt;\\n    &lt;script src=\"//ajax.googleapis.com/ajax/libs/jqueryui/1.12.1/jquery-ui.min.js\"&gt;&lt;/script&gt;\\n    &lt;script&gt;window.jQuery || document.write(\\'&lt;script src=\"/static/js/libs/jquery-ui-1.12.1.min.js\"&gt;&lt;\\\\/script&gt;\\')&lt;/script&gt;\\n\\n    &lt;script src=\"/static/js/libs/masonry.pkgd.min.js\"&gt;&lt;/script&gt;\\n    &lt;script src=\"/static/js/libs/html-includes.js\"&gt;&lt;/script&gt;\\n\\n    &lt;script type=\"text/javascript\" src=\"/static/js/main-min.dd72c1659644.js\" charset=\"utf-8\"&gt;&lt;/script&gt;\\n    \\n\\n    &lt;!--[if lte IE 7]&gt;\\n    &lt;script type=\"text/javascript\" src=\"/static/js/plugins/IE8-min.8af6e26c7a3b.js\" charset=\"utf-8\"&gt;&lt;/script&gt;\\n    \\n    \\n    &lt;![endif]--&gt;\\n\\n    &lt;!--[if lte IE 8]&gt;\\n    &lt;script type=\"text/javascript\" src=\"/static/js/plugins/getComputedStyle-min.d41d8cd98f00.js\" charset=\"utf-8\"&gt;&lt;/script&gt;\\n    \\n    \\n    &lt;![endif]--&gt;\\n\\n    \\n\\n    \\n    \\n\\n&lt;/body&gt;\\n&lt;/html&gt;\\n'</span>\n",
       "</pre>"
      ],
      "text/plain": [
       "\u001b[32mb'\u001b[0m\u001b[32m<\u001b[0m\u001b[32m!doctype html\u001b[0m\u001b[32m>\u001b[0m\u001b[32m\\n\u001b[0m\u001b[32m<\u001b[0m\u001b[32m!--\u001b[0m\u001b[32m[\u001b[0m\u001b[32mif lt IE 7\u001b[0m\u001b[32m]\u001b[0m\u001b[32m>\u001b[0m\u001b[32m   \u001b[0m\u001b[32m<\u001b[0m\u001b[32mhtml\u001b[0m\u001b[32m \u001b[0m\u001b[32mclass\u001b[0m\u001b[32m=\u001b[0m\u001b[32m\"no\u001b[0m\u001b[32m-js ie6 lt-ie7 lt-ie8 lt-ie9\"\u001b[0m\u001b[32m>\u001b[0m\u001b[32m   \u001b[0m\u001b[32m<\u001b[0m\u001b[32m!\u001b[0m\u001b[32m[\u001b[0m\u001b[32mendif\u001b[0m\u001b[32m]\u001b[0m\u001b[32m--\u001b[0m\u001b[32m>\u001b[0m\u001b[32m\\n\u001b[0m\u001b[32m<\u001b[0m\u001b[32m!--\u001b[0m\u001b[32m[\u001b[0m\u001b[32mif IE 7\u001b[0m\u001b[32m]\u001b[0m\u001b[32m>\u001b[0m\u001b[32m      \u001b[0m\u001b[32m<\u001b[0m\u001b[32mhtml\u001b[0m\u001b[32m \u001b[0m\u001b[32mclass\u001b[0m\u001b[32m=\u001b[0m\u001b[32m\"no\u001b[0m\u001b[32m-js ie7 lt-ie8 lt-ie9\"\u001b[0m\u001b[32m>\u001b[0m\u001b[32m          \u001b[0m\u001b[32m<\u001b[0m\u001b[32m!\u001b[0m\u001b[32m[\u001b[0m\u001b[32mendif\u001b[0m\u001b[32m]\u001b[0m\u001b[32m--\u001b[0m\u001b[32m>\u001b[0m\u001b[32m\\n\u001b[0m\u001b[32m<\u001b[0m\u001b[32m!--\u001b[0m\u001b[32m[\u001b[0m\u001b[32mif IE 8\u001b[0m\u001b[32m]\u001b[0m\u001b[32m>\u001b[0m\u001b[32m      \u001b[0m\u001b[32m<\u001b[0m\u001b[32mhtml\u001b[0m\u001b[32m \u001b[0m\u001b[32mclass\u001b[0m\u001b[32m=\u001b[0m\u001b[32m\"no\u001b[0m\u001b[32m-js ie8 lt-ie9\"\u001b[0m\u001b[32m>\u001b[0m\u001b[32m                 \u001b[0m\u001b[32m<\u001b[0m\u001b[32m!\u001b[0m\u001b[32m[\u001b[0m\u001b[32mendif\u001b[0m\u001b[32m]\u001b[0m\u001b[32m--\u001b[0m\u001b[32m>\u001b[0m\u001b[32m\\n\u001b[0m\u001b[32m<\u001b[0m\u001b[32m!--\u001b[0m\u001b[32m[\u001b[0m\u001b[32mif gt IE 8\u001b[0m\u001b[32m]\u001b[0m\u001b[32m>\u001b[0m\u001b[32m<\u001b[0m\u001b[32m!--\u001b[0m\u001b[32m>\u001b[0m\u001b[32m<\u001b[0m\u001b[32mhtml\u001b[0m\u001b[32m \u001b[0m\u001b[32mclass\u001b[0m\u001b[32m=\u001b[0m\u001b[32m\"no\u001b[0m\u001b[32m-js\" \u001b[0m\u001b[32mlang\u001b[0m\u001b[32m=\u001b[0m\u001b[32m\"en\"\u001b[0m\u001b[32m \u001b[0m\u001b[32mdir\u001b[0m\u001b[32m=\u001b[0m\u001b[32m\"ltr\"\u001b[0m\u001b[32m>\u001b[0m\u001b[32m  \u001b[0m\u001b[32m<\u001b[0m\u001b[32m!--<!\u001b[0m\u001b[32m[\u001b[0m\u001b[32mendif\u001b[0m\u001b[32m]\u001b[0m\u001b[32m--\u001b[0m\u001b[32m>\u001b[0m\u001b[32m\\n\\n\u001b[0m\u001b[32m<\u001b[0m\u001b[32mhead\u001b[0m\u001b[32m>\u001b[0m\u001b[32m\\n    \u001b[0m\u001b[32m<\u001b[0m\u001b[32mmeta\u001b[0m\u001b[32m \u001b[0m\u001b[32mcharset\u001b[0m\u001b[32m=\u001b[0m\u001b[32m\"utf\u001b[0m\u001b[32m-8\"\u001b[0m\u001b[32m>\u001b[0m\u001b[32m\\n    \u001b[0m\u001b[32m<\u001b[0m\u001b[32mmeta\u001b[0m\u001b[32m http-\u001b[0m\u001b[32mequiv\u001b[0m\u001b[32m=\u001b[0m\u001b[32m\"X\u001b[0m\u001b[32m-UA-Compatible\" \u001b[0m\u001b[32mcontent\u001b[0m\u001b[32m=\u001b[0m\u001b[32m\"IE\u001b[0m\u001b[32m=edge\"\u001b[0m\u001b[32m>\u001b[0m\u001b[32m\\n\\n    \u001b[0m\u001b[32m<\u001b[0m\u001b[32mlink\u001b[0m\u001b[32m \u001b[0m\u001b[32mrel\u001b[0m\u001b[32m=\u001b[0m\u001b[32m\"prefetch\"\u001b[0m\u001b[32m \u001b[0m\u001b[32mhref\u001b[0m\u001b[32m=\"//ajax.googleapis.com/ajax/libs/jquery/1.8.2/jquery.min.js\"\u001b[0m\u001b[32m>\u001b[0m\u001b[32m\\n    \u001b[0m\u001b[32m<\u001b[0m\u001b[32mlink\u001b[0m\u001b[32m \u001b[0m\u001b[32mrel\u001b[0m\u001b[32m=\u001b[0m\u001b[32m\"prefetch\"\u001b[0m\u001b[32m \u001b[0m\u001b[32mhref\u001b[0m\u001b[32m=\"//ajax.googleapis.com/ajax/libs/jqueryui/1.12.1/jquery-ui.min.js\"\u001b[0m\u001b[32m>\u001b[0m\u001b[32m\\n\\n    \u001b[0m\u001b[32m<\u001b[0m\u001b[32mmeta\u001b[0m\u001b[32m \u001b[0m\u001b[32mname\u001b[0m\u001b[32m=\u001b[0m\u001b[32m\"application\u001b[0m\u001b[32m-name\" \u001b[0m\u001b[32mcontent\u001b[0m\u001b[32m=\u001b[0m\u001b[32m\"Python\u001b[0m\u001b[32m.org\"\u001b[0m\u001b[32m>\u001b[0m\u001b[32m\\n    \u001b[0m\u001b[32m<\u001b[0m\u001b[32mmeta\u001b[0m\u001b[32m \u001b[0m\u001b[32mname\u001b[0m\u001b[32m=\u001b[0m\u001b[32m\"msapplication\u001b[0m\u001b[32m-tooltip\" \u001b[0m\u001b[32mcontent\u001b[0m\u001b[32m=\u001b[0m\u001b[32m\"The\u001b[0m\u001b[32m official home of the Python Programming Language\"\u001b[0m\u001b[32m>\u001b[0m\u001b[32m\\n    \u001b[0m\u001b[32m<\u001b[0m\u001b[32mmeta\u001b[0m\u001b[32m \u001b[0m\u001b[32mname\u001b[0m\u001b[32m=\u001b[0m\u001b[32m\"apple\u001b[0m\u001b[32m-mobile-web-app-title\" \u001b[0m\u001b[32mcontent\u001b[0m\u001b[32m=\u001b[0m\u001b[32m\"Python\u001b[0m\u001b[32m.org\"\u001b[0m\u001b[32m>\u001b[0m\u001b[32m\\n    \u001b[0m\u001b[32m<\u001b[0m\u001b[32mmeta\u001b[0m\u001b[32m \u001b[0m\u001b[32mname\u001b[0m\u001b[32m=\u001b[0m\u001b[32m\"apple\u001b[0m\u001b[32m-mobile-web-app-capable\" \u001b[0m\u001b[32mcontent\u001b[0m\u001b[32m=\u001b[0m\u001b[32m\"yes\"\u001b[0m\u001b[32m>\u001b[0m\u001b[32m\\n    \u001b[0m\u001b[32m<\u001b[0m\u001b[32mmeta\u001b[0m\u001b[32m \u001b[0m\u001b[32mname\u001b[0m\u001b[32m=\u001b[0m\u001b[32m\"apple\u001b[0m\u001b[32m-mobile-web-app-status-bar-style\" \u001b[0m\u001b[32mcontent\u001b[0m\u001b[32m=\u001b[0m\u001b[32m\"black\"\u001b[0m\u001b[32m>\u001b[0m\u001b[32m\\n\\n    \u001b[0m\u001b[32m<\u001b[0m\u001b[32mmeta\u001b[0m\u001b[32m \u001b[0m\u001b[32mname\u001b[0m\u001b[32m=\u001b[0m\u001b[32m\"viewport\"\u001b[0m\u001b[32m \u001b[0m\u001b[32mcontent\u001b[0m\u001b[32m=\u001b[0m\u001b[32m\"width\u001b[0m\u001b[32m=device-width, initial-\u001b[0m\u001b[32mscale\u001b[0m\u001b[32m=\u001b[0m\u001b[32m1\u001b[0m\u001b[32m.0\"\u001b[0m\u001b[32m>\u001b[0m\u001b[32m\\n    \u001b[0m\u001b[32m<\u001b[0m\u001b[32mmeta\u001b[0m\u001b[32m \u001b[0m\u001b[32mname\u001b[0m\u001b[32m=\u001b[0m\u001b[32m\"HandheldFriendly\"\u001b[0m\u001b[32m \u001b[0m\u001b[32mcontent\u001b[0m\u001b[32m=\u001b[0m\u001b[32m\"True\"\u001b[0m\u001b[32m>\u001b[0m\u001b[32m\\n    \u001b[0m\u001b[32m<\u001b[0m\u001b[32mmeta\u001b[0m\u001b[32m \u001b[0m\u001b[32mname\u001b[0m\u001b[32m=\u001b[0m\u001b[32m\"format\u001b[0m\u001b[32m-detection\" \u001b[0m\u001b[32mcontent\u001b[0m\u001b[32m=\u001b[0m\u001b[32m\"telephone\u001b[0m\u001b[32m=no\"\u001b[0m\u001b[32m>\u001b[0m\u001b[32m\\n    \u001b[0m\u001b[32m<\u001b[0m\u001b[32mmeta\u001b[0m\u001b[32m http-\u001b[0m\u001b[32mequiv\u001b[0m\u001b[32m=\u001b[0m\u001b[32m\"cleartype\"\u001b[0m\u001b[32m \u001b[0m\u001b[32mcontent\u001b[0m\u001b[32m=\u001b[0m\u001b[32m\"on\"\u001b[0m\u001b[32m>\u001b[0m\u001b[32m\\n    \u001b[0m\u001b[32m<\u001b[0m\u001b[32mmeta\u001b[0m\u001b[32m http-\u001b[0m\u001b[32mequiv\u001b[0m\u001b[32m=\u001b[0m\u001b[32m\"imagetoolbar\"\u001b[0m\u001b[32m \u001b[0m\u001b[32mcontent\u001b[0m\u001b[32m=\u001b[0m\u001b[32m\"false\"\u001b[0m\u001b[32m>\u001b[0m\u001b[32m\\n\\n    \u001b[0m\u001b[32m<\u001b[0m\u001b[32mscript\u001b[0m\u001b[32m \u001b[0m\u001b[32msrc\u001b[0m\u001b[32m=\"/static/js/libs/modernizr.js\"\u001b[0m\u001b[32m>\u001b[0m\u001b[32m<\u001b[0m\u001b[32m/script\u001b[0m\u001b[32m>\u001b[0m\u001b[32m\\n\\n    \u001b[0m\u001b[32m<\u001b[0m\u001b[32mlink\u001b[0m\u001b[32m \u001b[0m\u001b[32mhref\u001b[0m\u001b[32m=\"/static/stylesheets/style.a193d3b62d35.css\" \u001b[0m\u001b[32mrel\u001b[0m\u001b[32m=\u001b[0m\u001b[32m\"stylesheet\"\u001b[0m\u001b[32m \u001b[0m\u001b[32mtype\u001b[0m\u001b[32m=\u001b[0m\u001b[32m\"text\u001b[0m\u001b[32m/css\" \u001b[0m\u001b[32mmedia\u001b[0m\u001b[32m=\u001b[0m\u001b[32m\"all\"\u001b[0m\u001b[32m \u001b[0m\u001b[32mtitle\u001b[0m\u001b[32m=\u001b[0m\u001b[32m\"default\"\u001b[0m\u001b[32m /\u001b[0m\u001b[32m>\u001b[0m\u001b[32m\\n    \u001b[0m\u001b[32m<\u001b[0m\u001b[32mlink\u001b[0m\u001b[32m \u001b[0m\u001b[32mhref\u001b[0m\u001b[32m=\"/static/stylesheets/mq.f9187444a4a1.css\" \u001b[0m\u001b[32mrel\u001b[0m\u001b[32m=\u001b[0m\u001b[32m\"stylesheet\"\u001b[0m\u001b[32m \u001b[0m\u001b[32mtype\u001b[0m\u001b[32m=\u001b[0m\u001b[32m\"text\u001b[0m\u001b[32m/css\" \u001b[0m\u001b[32mmedia\u001b[0m\u001b[32m=\u001b[0m\u001b[32m\"not\u001b[0m\u001b[32m print, braille, embossed, speech, tty\" /\u001b[0m\u001b[32m>\u001b[0m\u001b[32m\\n    \\n\\n    \u001b[0m\u001b[32m<\u001b[0m\u001b[32m!--\u001b[0m\u001b[32m[\u001b[0m\u001b[32mif \u001b[0m\u001b[32m(\u001b[0m\u001b[32mlte IE 8\u001b[0m\u001b[32m)\u001b[0m\u001b[32m&\u001b[0m\u001b[32m(\u001b[0m\u001b[32m!IEMobile\u001b[0m\u001b[32m)\u001b[0m\u001b[32m]\u001b[0m\u001b[32m>\u001b[0m\u001b[32m\\n    \u001b[0m\u001b[32m<\u001b[0m\u001b[32mlink\u001b[0m\u001b[32m \u001b[0m\u001b[32mhref\u001b[0m\u001b[32m=\"/static/stylesheets/no-mq.bf0c425cdb73.css\" \u001b[0m\u001b[32mrel\u001b[0m\u001b[32m=\u001b[0m\u001b[32m\"stylesheet\"\u001b[0m\u001b[32m \u001b[0m\u001b[32mtype\u001b[0m\u001b[32m=\u001b[0m\u001b[32m\"text\u001b[0m\u001b[32m/css\" \u001b[0m\u001b[32mmedia\u001b[0m\u001b[32m=\u001b[0m\u001b[32m\"screen\"\u001b[0m\u001b[32m /\u001b[0m\u001b[32m>\u001b[0m\u001b[32m\\n    \\n    \\n    \u001b[0m\u001b[32m<\u001b[0m\u001b[32m!\u001b[0m\u001b[32m[\u001b[0m\u001b[32mendif\u001b[0m\u001b[32m]\u001b[0m\u001b[32m--\u001b[0m\u001b[32m>\u001b[0m\u001b[32m\\n    \u001b[0m\u001b[32m<\u001b[0m\u001b[32mlink\u001b[0m\u001b[32m \u001b[0m\u001b[32mrel\u001b[0m\u001b[32m=\u001b[0m\u001b[32m\"stylesheet\"\u001b[0m\u001b[32m \u001b[0m\u001b[32mhref\u001b[0m\u001b[32m=\"//ajax.googleapis.com/ajax/libs/jqueryui/1.12.1/themes/smoothness/jquery-ui.css\"\u001b[0m\u001b[32m>\u001b[0m\u001b[32m\\n\\n    \\n    \u001b[0m\u001b[32m<\u001b[0m\u001b[32mlink\u001b[0m\u001b[32m \u001b[0m\u001b[32mrel\u001b[0m\u001b[32m=\u001b[0m\u001b[32m\"icon\"\u001b[0m\u001b[32m \u001b[0m\u001b[32mtype\u001b[0m\u001b[32m=\u001b[0m\u001b[32m\"image\u001b[0m\u001b[32m/x-icon\" \u001b[0m\u001b[32mhref\u001b[0m\u001b[32m=\"/static/favicon.ico\"\u001b[0m\u001b[32m>\u001b[0m\u001b[32m\\n    \u001b[0m\u001b[32m<\u001b[0m\u001b[32mlink\u001b[0m\u001b[32m \u001b[0m\u001b[32mrel\u001b[0m\u001b[32m=\u001b[0m\u001b[32m\"apple\u001b[0m\u001b[32m-touch-icon-precomposed\" \u001b[0m\u001b[32msizes\u001b[0m\u001b[32m=\u001b[0m\u001b[32m\"144x144\"\u001b[0m\u001b[32m \u001b[0m\u001b[32mhref\u001b[0m\u001b[32m=\"/static/apple-touch-icon-144x144-precomposed.png\"\u001b[0m\u001b[32m>\u001b[0m\u001b[32m\\n    \u001b[0m\u001b[32m<\u001b[0m\u001b[32mlink\u001b[0m\u001b[32m \u001b[0m\u001b[32mrel\u001b[0m\u001b[32m=\u001b[0m\u001b[32m\"apple\u001b[0m\u001b[32m-touch-icon-precomposed\" \u001b[0m\u001b[32msizes\u001b[0m\u001b[32m=\u001b[0m\u001b[32m\"114x114\"\u001b[0m\u001b[32m \u001b[0m\u001b[32mhref\u001b[0m\u001b[32m=\"/static/apple-touch-icon-114x114-precomposed.png\"\u001b[0m\u001b[32m>\u001b[0m\u001b[32m\\n    \u001b[0m\u001b[32m<\u001b[0m\u001b[32mlink\u001b[0m\u001b[32m \u001b[0m\u001b[32mrel\u001b[0m\u001b[32m=\u001b[0m\u001b[32m\"apple\u001b[0m\u001b[32m-touch-icon-precomposed\" \u001b[0m\u001b[32msizes\u001b[0m\u001b[32m=\u001b[0m\u001b[32m\"72x72\"\u001b[0m\u001b[32m \u001b[0m\u001b[32mhref\u001b[0m\u001b[32m=\"/static/apple-touch-icon-72x72-precomposed.png\"\u001b[0m\u001b[32m>\u001b[0m\u001b[32m\\n    \u001b[0m\u001b[32m<\u001b[0m\u001b[32mlink\u001b[0m\u001b[32m \u001b[0m\u001b[32mrel\u001b[0m\u001b[32m=\u001b[0m\u001b[32m\"apple\u001b[0m\u001b[32m-touch-icon-precomposed\" \u001b[0m\u001b[32mhref\u001b[0m\u001b[32m=\"/static/apple-touch-icon-precomposed.png\"\u001b[0m\u001b[32m>\u001b[0m\u001b[32m\\n    \u001b[0m\u001b[32m<\u001b[0m\u001b[32mlink\u001b[0m\u001b[32m \u001b[0m\u001b[32mrel\u001b[0m\u001b[32m=\u001b[0m\u001b[32m\"apple\u001b[0m\u001b[32m-touch-icon\" \u001b[0m\u001b[32mhref\u001b[0m\u001b[32m=\"/static/apple-touch-icon-precomposed.png\"\u001b[0m\u001b[32m>\u001b[0m\u001b[32m\\n\\n    \\n    \u001b[0m\u001b[32m<\u001b[0m\u001b[32mmeta\u001b[0m\u001b[32m \u001b[0m\u001b[32mname\u001b[0m\u001b[32m=\u001b[0m\u001b[32m\"msapplication\u001b[0m\u001b[32m-TileImage\" \u001b[0m\u001b[32mcontent\u001b[0m\u001b[32m=\"/static/metro-icon-144x144-precomposed.png\"\u001b[0m\u001b[32m>\u001b[0m\u001b[32m<\u001b[0m\u001b[32m!-- white shape --\u001b[0m\u001b[32m>\u001b[0m\u001b[32m\\n    \u001b[0m\u001b[32m<\u001b[0m\u001b[32mmeta\u001b[0m\u001b[32m \u001b[0m\u001b[32mname\u001b[0m\u001b[32m=\u001b[0m\u001b[32m\"msapplication\u001b[0m\u001b[32m-TileColor\" \u001b[0m\u001b[32mcontent\u001b[0m\u001b[32m=\"#3673a5\"\u001b[0m\u001b[32m>\u001b[0m\u001b[32m<\u001b[0m\u001b[32m!-- python blue --\u001b[0m\u001b[32m>\u001b[0m\u001b[32m\\n    \u001b[0m\u001b[32m<\u001b[0m\u001b[32mmeta\u001b[0m\u001b[32m \u001b[0m\u001b[32mname\u001b[0m\u001b[32m=\u001b[0m\u001b[32m\"msapplication\u001b[0m\u001b[32m-navbutton-color\" \u001b[0m\u001b[32mcontent\u001b[0m\u001b[32m=\"#3673a5\"\u001b[0m\u001b[32m>\u001b[0m\u001b[32m\\n\\n    \u001b[0m\u001b[32m<\u001b[0m\u001b[32mtitle\u001b[0m\u001b[32m>\u001b[0m\u001b[32mWelcome to Python.org\u001b[0m\u001b[32m<\u001b[0m\u001b[32m/title\u001b[0m\u001b[32m>\u001b[0m\u001b[32m\\n\\n    \u001b[0m\u001b[32m<\u001b[0m\u001b[32mmeta\u001b[0m\u001b[32m \u001b[0m\u001b[32mname\u001b[0m\u001b[32m=\u001b[0m\u001b[32m\"description\"\u001b[0m\u001b[32m \u001b[0m\u001b[32mcontent\u001b[0m\u001b[32m=\u001b[0m\u001b[32m\"The\u001b[0m\u001b[32m official home of the Python Programming Language\"\u001b[0m\u001b[32m>\u001b[0m\u001b[32m\\n    \u001b[0m\u001b[32m<\u001b[0m\u001b[32mmeta\u001b[0m\u001b[32m \u001b[0m\u001b[32mname\u001b[0m\u001b[32m=\u001b[0m\u001b[32m\"keywords\"\u001b[0m\u001b[32m \u001b[0m\u001b[32mcontent\u001b[0m\u001b[32m=\u001b[0m\u001b[32m\"Python\u001b[0m\u001b[32m programming language object oriented web free open source software license documentation download community\"\u001b[0m\u001b[32m>\u001b[0m\u001b[32m\\n\\n    \\n    \u001b[0m\u001b[32m<\u001b[0m\u001b[32mmeta\u001b[0m\u001b[32m \u001b[0m\u001b[32mproperty\u001b[0m\u001b[32m=\u001b[0m\u001b[32m\"og\u001b[0m\u001b[32m:type\" \u001b[0m\u001b[32mcontent\u001b[0m\u001b[32m=\u001b[0m\u001b[32m\"website\"\u001b[0m\u001b[32m>\u001b[0m\u001b[32m\\n    \u001b[0m\u001b[32m<\u001b[0m\u001b[32mmeta\u001b[0m\u001b[32m \u001b[0m\u001b[32mproperty\u001b[0m\u001b[32m=\u001b[0m\u001b[32m\"og\u001b[0m\u001b[32m:site_name\" \u001b[0m\u001b[32mcontent\u001b[0m\u001b[32m=\u001b[0m\u001b[32m\"Python\u001b[0m\u001b[32m.org\"\u001b[0m\u001b[32m>\u001b[0m\u001b[32m\\n    \u001b[0m\u001b[32m<\u001b[0m\u001b[32mmeta\u001b[0m\u001b[32m \u001b[0m\u001b[32mproperty\u001b[0m\u001b[32m=\u001b[0m\u001b[32m\"og\u001b[0m\u001b[32m:title\" \u001b[0m\u001b[32mcontent\u001b[0m\u001b[32m=\u001b[0m\u001b[32m\"Welcome\u001b[0m\u001b[32m to Python.org\"\u001b[0m\u001b[32m>\u001b[0m\u001b[32m\\n    \u001b[0m\u001b[32m<\u001b[0m\u001b[32mmeta\u001b[0m\u001b[32m \u001b[0m\u001b[32mproperty\u001b[0m\u001b[32m=\u001b[0m\u001b[32m\"og\u001b[0m\u001b[32m:description\" \u001b[0m\u001b[32mcontent\u001b[0m\u001b[32m=\u001b[0m\u001b[32m\"The\u001b[0m\u001b[32m official home of the Python Programming Language\"\u001b[0m\u001b[32m>\u001b[0m\u001b[32m\\n    \\n    \u001b[0m\u001b[32m<\u001b[0m\u001b[32mmeta\u001b[0m\u001b[32m \u001b[0m\u001b[32mproperty\u001b[0m\u001b[32m=\u001b[0m\u001b[32m\"og\u001b[0m\u001b[32m:image\" \u001b[0m\u001b[32mcontent\u001b[0m\u001b[32m=\u001b[0m\u001b[32m\"https\u001b[0m\u001b[32m://www.python.org/static/opengraph-icon-200x200.png\"\u001b[0m\u001b[32m>\u001b[0m\u001b[32m\\n    \u001b[0m\u001b[32m<\u001b[0m\u001b[32mmeta\u001b[0m\u001b[32m \u001b[0m\u001b[32mproperty\u001b[0m\u001b[32m=\u001b[0m\u001b[32m\"og\u001b[0m\u001b[32m:image:secure_url\" \u001b[0m\u001b[32mcontent\u001b[0m\u001b[32m=\u001b[0m\u001b[32m\"https\u001b[0m\u001b[32m://www.python.org/static/opengraph-icon-200x200.png\"\u001b[0m\u001b[32m>\u001b[0m\u001b[32m\\n    \\n    \u001b[0m\u001b[32m<\u001b[0m\u001b[32mmeta\u001b[0m\u001b[32m \u001b[0m\u001b[32mproperty\u001b[0m\u001b[32m=\u001b[0m\u001b[32m\"og\u001b[0m\u001b[32m:url\" \u001b[0m\u001b[32mcontent\u001b[0m\u001b[32m=\u001b[0m\u001b[32m\"https\u001b[0m\u001b[32m://www.python.org/\"\u001b[0m\u001b[32m>\u001b[0m\u001b[32m\\n\\n    \u001b[0m\u001b[32m<\u001b[0m\u001b[32mlink\u001b[0m\u001b[32m \u001b[0m\u001b[32mrel\u001b[0m\u001b[32m=\u001b[0m\u001b[32m\"author\"\u001b[0m\u001b[32m \u001b[0m\u001b[32mhref\u001b[0m\u001b[32m=\"/static/humans.txt\"\u001b[0m\u001b[32m>\u001b[0m\u001b[32m\\n\\n    \u001b[0m\u001b[32m<\u001b[0m\u001b[32mlink\u001b[0m\u001b[32m \u001b[0m\u001b[32mrel\u001b[0m\u001b[32m=\u001b[0m\u001b[32m\"alternate\"\u001b[0m\u001b[32m \u001b[0m\u001b[32mtype\u001b[0m\u001b[32m=\u001b[0m\u001b[32m\"application\u001b[0m\u001b[32m/rss+xml\" \u001b[0m\u001b[32mtitle\u001b[0m\u001b[32m=\u001b[0m\u001b[32m\"Python\u001b[0m\u001b[32m Enhancement Proposals\"\\n          \u001b[0m\u001b[32mhref\u001b[0m\u001b[32m=\u001b[0m\u001b[32m\"https\u001b[0m\u001b[32m://www.python.org/dev/peps/peps.rss/\"\u001b[0m\u001b[32m>\u001b[0m\u001b[32m\\n    \u001b[0m\u001b[32m<\u001b[0m\u001b[32mlink\u001b[0m\u001b[32m \u001b[0m\u001b[32mrel\u001b[0m\u001b[32m=\u001b[0m\u001b[32m\"alternate\"\u001b[0m\u001b[32m \u001b[0m\u001b[32mtype\u001b[0m\u001b[32m=\u001b[0m\u001b[32m\"application\u001b[0m\u001b[32m/rss+xml\" \u001b[0m\u001b[32mtitle\u001b[0m\u001b[32m=\u001b[0m\u001b[32m\"Python\u001b[0m\u001b[32m Job Opportunities\"\\n          \u001b[0m\u001b[32mhref\u001b[0m\u001b[32m=\u001b[0m\u001b[32m\"https\u001b[0m\u001b[32m://www.python.org/jobs/feed/rss/\"\u001b[0m\u001b[32m>\u001b[0m\u001b[32m\\n    \u001b[0m\u001b[32m<\u001b[0m\u001b[32mlink\u001b[0m\u001b[32m \u001b[0m\u001b[32mrel\u001b[0m\u001b[32m=\u001b[0m\u001b[32m\"alternate\"\u001b[0m\u001b[32m \u001b[0m\u001b[32mtype\u001b[0m\u001b[32m=\u001b[0m\u001b[32m\"application\u001b[0m\u001b[32m/rss+xml\" \u001b[0m\u001b[32mtitle\u001b[0m\u001b[32m=\u001b[0m\u001b[32m\"Python\u001b[0m\u001b[32m Software Foundation News\"\\n          \u001b[0m\u001b[32mhref\u001b[0m\u001b[32m=\u001b[0m\u001b[32m\"https\u001b[0m\u001b[32m://feeds.feedburner.com/PythonSoftwareFoundationNews\"\u001b[0m\u001b[32m>\u001b[0m\u001b[32m\\n    \u001b[0m\u001b[32m<\u001b[0m\u001b[32mlink\u001b[0m\u001b[32m \u001b[0m\u001b[32mrel\u001b[0m\u001b[32m=\u001b[0m\u001b[32m\"alternate\"\u001b[0m\u001b[32m \u001b[0m\u001b[32mtype\u001b[0m\u001b[32m=\u001b[0m\u001b[32m\"application\u001b[0m\u001b[32m/rss+xml\" \u001b[0m\u001b[32mtitle\u001b[0m\u001b[32m=\u001b[0m\u001b[32m\"Python\u001b[0m\u001b[32m Insider\"\\n          \u001b[0m\u001b[32mhref\u001b[0m\u001b[32m=\u001b[0m\u001b[32m\"https\u001b[0m\u001b[32m://feeds.feedburner.com/PythonInsider\"\u001b[0m\u001b[32m>\u001b[0m\u001b[32m\\n\\n    \\n\\n    \\n    \u001b[0m\u001b[32m<\u001b[0m\u001b[32mscript\u001b[0m\u001b[32m \u001b[0m\u001b[32mtype\u001b[0m\u001b[32m=\u001b[0m\u001b[32m\"application\u001b[0m\u001b[32m/ld+json\"\u001b[0m\u001b[32m>\u001b[0m\u001b[32m\\n     \u001b[0m\u001b[32m{\u001b[0m\u001b[32m\\n       \"@context\": \"https://schema.org\",\\n       \"@type\": \"WebSite\",\\n       \"url\": \"https://www.python.org/\",\\n       \"potentialAction\": \u001b[0m\u001b[32m{\u001b[0m\u001b[32m\\n         \"@type\": \"SearchAction\",\\n         \"target\": \"https://www.python.org/search/?\u001b[0m\u001b[32mq\u001b[0m\u001b[32m=\u001b[0m\u001b[32m{\u001b[0m\u001b[32msearch_term_string\u001b[0m\u001b[32m}\u001b[0m\u001b[32m\",\\n         \"query-input\": \"required \u001b[0m\u001b[32mname\u001b[0m\u001b[32m=\u001b[0m\u001b[32msearch_term_string\"\u001b[0m\u001b[32m\\n       \u001b[0m\u001b[32m}\u001b[0m\u001b[32m\\n     \u001b[0m\u001b[32m}\u001b[0m\u001b[32m\\n    \u001b[0m\u001b[32m<\u001b[0m\u001b[32m/script\u001b[0m\u001b[32m>\u001b[0m\u001b[32m\\n\\n    \\n    \u001b[0m\u001b[32m<\u001b[0m\u001b[32mscript\u001b[0m\u001b[32m \u001b[0m\u001b[32mtype\u001b[0m\u001b[32m=\u001b[0m\u001b[32m\"text\u001b[0m\u001b[32m/javascript\"\u001b[0m\u001b[32m>\u001b[0m\u001b[32m\\n    var _gaq = _gaq || \u001b[0m\u001b[32m[\u001b[0m\u001b[32m]\u001b[0m\u001b[32m;\\n    _gaq.push\u001b[0m\u001b[32m(\u001b[0m\u001b[32m[\u001b[0m\u001b[32m\\'_setAccount\\', \\'UA-39055973-1\\'\u001b[0m\u001b[32m]\u001b[0m\u001b[32m)\u001b[0m\u001b[32m;\\n    _gaq.push\u001b[0m\u001b[32m(\u001b[0m\u001b[32m[\u001b[0m\u001b[32m\\'_trackPageview\\'\u001b[0m\u001b[32m]\u001b[0m\u001b[32m)\u001b[0m\u001b[32m;\\n\\n    \u001b[0m\u001b[32m(\u001b[0m\u001b[32mfunction\u001b[0m\u001b[32m(\u001b[0m\u001b[32m)\u001b[0m\u001b[32m \u001b[0m\u001b[32m{\u001b[0m\u001b[32m\\n        var ga = document.createElement\u001b[0m\u001b[32m(\u001b[0m\u001b[32m\\'script\\'\u001b[0m\u001b[32m)\u001b[0m\u001b[32m; ga.type = \\'text/javascript\\'; ga.async = true;\\n        ga.src = \u001b[0m\u001b[32m(\u001b[0m\u001b[32m\\'https:\\' == document.location.protocol ? \\'https://ssl\\' : \\'http://www\\'\u001b[0m\u001b[32m)\u001b[0m\u001b[32m + \\'.google-analytics.com/ga.js\\';\\n        var s = document.getElementsByTagName\u001b[0m\u001b[32m(\u001b[0m\u001b[32m\\'script\\'\u001b[0m\u001b[32m)\u001b[0m\u001b[32m[\u001b[0m\u001b[32m0\u001b[0m\u001b[32m]\u001b[0m\u001b[32m; s.parentNode.insertBefore\u001b[0m\u001b[32m(\u001b[0m\u001b[32mga, s\u001b[0m\u001b[32m)\u001b[0m\u001b[32m;\\n    \u001b[0m\u001b[32m}\u001b[0m\u001b[32m)\u001b[0m\u001b[32m(\u001b[0m\u001b[32m)\u001b[0m\u001b[32m;\\n    \u001b[0m\u001b[32m<\u001b[0m\u001b[32m/script\u001b[0m\u001b[32m>\u001b[0m\u001b[32m\\n    \\n\u001b[0m\u001b[32m<\u001b[0m\u001b[32m/head\u001b[0m\u001b[32m>\u001b[0m\u001b[32m\\n\\n\u001b[0m\u001b[32m<\u001b[0m\u001b[32mbody\u001b[0m\u001b[32m \u001b[0m\u001b[32mclass\u001b[0m\u001b[32m=\u001b[0m\u001b[32m\"python\u001b[0m\u001b[32m home\" \u001b[0m\u001b[32mid\u001b[0m\u001b[32m=\u001b[0m\u001b[32m\"homepage\"\u001b[0m\u001b[32m>\u001b[0m\u001b[32m\\n\\n    \u001b[0m\u001b[32m<\u001b[0m\u001b[32mdiv\u001b[0m\u001b[32m \u001b[0m\u001b[32mid\u001b[0m\u001b[32m=\u001b[0m\u001b[32m\"touchnav\u001b[0m\u001b[32m-wrapper\"\u001b[0m\u001b[32m>\u001b[0m\u001b[32m\\n\\n        \u001b[0m\u001b[32m<\u001b[0m\u001b[32mdiv\u001b[0m\u001b[32m \u001b[0m\u001b[32mid\u001b[0m\u001b[32m=\u001b[0m\u001b[32m\"nojs\"\u001b[0m\u001b[32m \u001b[0m\u001b[32mclass\u001b[0m\u001b[32m=\u001b[0m\u001b[32m\"do\u001b[0m\u001b[32m-not-print\"\u001b[0m\u001b[32m>\u001b[0m\u001b[32m\\n            \u001b[0m\u001b[32m<\u001b[0m\u001b[32mp\u001b[0m\u001b[32m>\u001b[0m\u001b[32m<\u001b[0m\u001b[32mstrong\u001b[0m\u001b[32m>\u001b[0m\u001b[32mNotice:\u001b[0m\u001b[32m<\u001b[0m\u001b[32m/strong\u001b[0m\u001b[32m>\u001b[0m\u001b[32m While JavaScript is not essential for this website, your interaction with the content will be limited. Please turn JavaScript on for the full experience. \u001b[0m\u001b[32m<\u001b[0m\u001b[32m/p\u001b[0m\u001b[32m>\u001b[0m\u001b[32m\\n        \u001b[0m\u001b[32m<\u001b[0m\u001b[32m/div\u001b[0m\u001b[32m>\u001b[0m\u001b[32m\\n\\n        \u001b[0m\u001b[32m<\u001b[0m\u001b[32m!--\u001b[0m\u001b[32m[\u001b[0m\u001b[32mif lte IE 8\u001b[0m\u001b[32m]\u001b[0m\u001b[32m>\u001b[0m\u001b[32m\\n        \u001b[0m\u001b[32m<\u001b[0m\u001b[32mdiv\u001b[0m\u001b[32m \u001b[0m\u001b[32mid\u001b[0m\u001b[32m=\u001b[0m\u001b[32m\"oldie\u001b[0m\u001b[32m-warning\" \u001b[0m\u001b[32mclass\u001b[0m\u001b[32m=\u001b[0m\u001b[32m\"do\u001b[0m\u001b[32m-not-print\"\u001b[0m\u001b[32m>\u001b[0m\u001b[32m\\n            \u001b[0m\u001b[32m<\u001b[0m\u001b[32mp\u001b[0m\u001b[32m>\u001b[0m\u001b[32m\\n                \u001b[0m\u001b[32m<\u001b[0m\u001b[32mstrong\u001b[0m\u001b[32m>\u001b[0m\u001b[32mNotice:\u001b[0m\u001b[32m<\u001b[0m\u001b[32m/strong\u001b[0m\u001b[32m>\u001b[0m\u001b[32m Your browser is \u001b[0m\u001b[32m<\u001b[0m\u001b[32mem\u001b[0m\u001b[32m>\u001b[0m\u001b[32mancient\u001b[0m\u001b[32m<\u001b[0m\u001b[32m/em\u001b[0m\u001b[32m>\u001b[0m\u001b[32m. Please\\n                \u001b[0m\u001b[32m<\u001b[0m\u001b[32ma\u001b[0m\u001b[32m \u001b[0m\u001b[32mhref\u001b[0m\u001b[32m=\u001b[0m\u001b[32m\"http\u001b[0m\u001b[32m://browsehappy.com/\"\u001b[0m\u001b[32m>\u001b[0m\u001b[32mupgrade to a different browser\u001b[0m\u001b[32m<\u001b[0m\u001b[32m/a\u001b[0m\u001b[32m>\u001b[0m\u001b[32m to experience a better web.\\n            \u001b[0m\u001b[32m<\u001b[0m\u001b[32m/p\u001b[0m\u001b[32m>\u001b[0m\u001b[32m\\n        \u001b[0m\u001b[32m<\u001b[0m\u001b[32m/div\u001b[0m\u001b[32m>\u001b[0m\u001b[32m\\n        \u001b[0m\u001b[32m<\u001b[0m\u001b[32m!\u001b[0m\u001b[32m[\u001b[0m\u001b[32mendif\u001b[0m\u001b[32m]\u001b[0m\u001b[32m--\u001b[0m\u001b[32m>\u001b[0m\u001b[32m\\n\\n        \u001b[0m\u001b[32m<\u001b[0m\u001b[32m!-- Sister Site Links --\u001b[0m\u001b[32m>\u001b[0m\u001b[32m\\n        \u001b[0m\u001b[32m<\u001b[0m\u001b[32mdiv\u001b[0m\u001b[32m \u001b[0m\u001b[32mid\u001b[0m\u001b[32m=\u001b[0m\u001b[32m\"top\"\u001b[0m\u001b[32m \u001b[0m\u001b[32mclass\u001b[0m\u001b[32m=\u001b[0m\u001b[32m\"top\u001b[0m\u001b[32m-bar do-not-print\"\u001b[0m\u001b[32m>\u001b[0m\u001b[32m\\n\\n            \u001b[0m\u001b[32m<\u001b[0m\u001b[32mnav\u001b[0m\u001b[32m \u001b[0m\u001b[32mclass\u001b[0m\u001b[32m=\u001b[0m\u001b[32m\"meta\u001b[0m\u001b[32m-navigation container\" \u001b[0m\u001b[32mrole\u001b[0m\u001b[32m=\u001b[0m\u001b[32m\"navigation\"\u001b[0m\u001b[32m>\u001b[0m\u001b[32m\\n\\n                \\n                \u001b[0m\u001b[32m<\u001b[0m\u001b[32mdiv\u001b[0m\u001b[32m \u001b[0m\u001b[32mclass\u001b[0m\u001b[32m=\u001b[0m\u001b[32m\"skip\u001b[0m\u001b[32m-link screen-reader-text\"\u001b[0m\u001b[32m>\u001b[0m\u001b[32m\\n                    \u001b[0m\u001b[32m<\u001b[0m\u001b[32ma\u001b[0m\u001b[32m \u001b[0m\u001b[32mhref\u001b[0m\u001b[32m=\"#content\" \u001b[0m\u001b[32mtitle\u001b[0m\u001b[32m=\u001b[0m\u001b[32m\"Skip\u001b[0m\u001b[32m to content\"\u001b[0m\u001b[32m>\u001b[0m\u001b[32mSkip to content\u001b[0m\u001b[32m<\u001b[0m\u001b[32m/a\u001b[0m\u001b[32m>\u001b[0m\u001b[32m\\n                \u001b[0m\u001b[32m<\u001b[0m\u001b[32m/div\u001b[0m\u001b[32m>\u001b[0m\u001b[32m\\n\\n                \\n                \u001b[0m\u001b[32m<\u001b[0m\u001b[32ma\u001b[0m\u001b[32m \u001b[0m\u001b[32mid\u001b[0m\u001b[32m=\u001b[0m\u001b[32m\"close\u001b[0m\u001b[32m-python-network\" \u001b[0m\u001b[32mclass\u001b[0m\u001b[32m=\u001b[0m\u001b[32m\"jump\u001b[0m\u001b[32m-link\" \u001b[0m\u001b[32mhref\u001b[0m\u001b[32m=\"#python-network\" aria-\u001b[0m\u001b[32mhidden\u001b[0m\u001b[32m=\u001b[0m\u001b[32m\"true\"\u001b[0m\u001b[32m>\u001b[0m\u001b[32m\\n                    \u001b[0m\u001b[32m<\u001b[0m\u001b[32mspan\u001b[0m\u001b[32m aria-\u001b[0m\u001b[32mhidden\u001b[0m\u001b[32m=\u001b[0m\u001b[32m\"true\"\u001b[0m\u001b[32m \u001b[0m\u001b[32mclass\u001b[0m\u001b[32m=\u001b[0m\u001b[32m\"icon\u001b[0m\u001b[32m-arrow-down\"\u001b[0m\u001b[32m>\u001b[0m\u001b[32m<\u001b[0m\u001b[32mspan\u001b[0m\u001b[32m>\u001b[0m\u001b[32m&#9660;\u001b[0m\u001b[32m<\u001b[0m\u001b[32m/span\u001b[0m\u001b[32m>\u001b[0m\u001b[32m<\u001b[0m\u001b[32m/span\u001b[0m\u001b[32m>\u001b[0m\u001b[32m Close\\n                \u001b[0m\u001b[32m<\u001b[0m\u001b[32m/a\u001b[0m\u001b[32m>\u001b[0m\u001b[32m\\n\\n                \\n\\n\u001b[0m\u001b[32m<\u001b[0m\u001b[32mul\u001b[0m\u001b[32m \u001b[0m\u001b[32mclass\u001b[0m\u001b[32m=\u001b[0m\u001b[32m\"menu\"\u001b[0m\u001b[32m \u001b[0m\u001b[32mrole\u001b[0m\u001b[32m=\u001b[0m\u001b[32m\"tree\"\u001b[0m\u001b[32m>\u001b[0m\u001b[32m\\n    \\n    \u001b[0m\u001b[32m<\u001b[0m\u001b[32mli\u001b[0m\u001b[32m \u001b[0m\u001b[32mclass\u001b[0m\u001b[32m=\u001b[0m\u001b[32m\"python\u001b[0m\u001b[32m-meta current_item selectedcurrent_branch selected\"\u001b[0m\u001b[32m>\u001b[0m\u001b[32m\\n        \u001b[0m\u001b[32m<\u001b[0m\u001b[32ma\u001b[0m\u001b[32m \u001b[0m\u001b[32mhref\u001b[0m\u001b[32m=\"/\" \u001b[0m\u001b[32mtitle\u001b[0m\u001b[32m=\u001b[0m\u001b[32m\"The\u001b[0m\u001b[32m Python Programming Language\" \u001b[0m\u001b[32mclass\u001b[0m\u001b[32m=\u001b[0m\u001b[32m\"current_item\u001b[0m\u001b[32m selectedcurrent_branch selected\"\u001b[0m\u001b[32m>\u001b[0m\u001b[32mPython\u001b[0m\u001b[32m<\u001b[0m\u001b[32m/a\u001b[0m\u001b[32m>\u001b[0m\u001b[32m\\n    \u001b[0m\u001b[32m<\u001b[0m\u001b[32m/li\u001b[0m\u001b[32m>\u001b[0m\u001b[32m\\n    \\n    \u001b[0m\u001b[32m<\u001b[0m\u001b[32mli\u001b[0m\u001b[32m \u001b[0m\u001b[32mclass\u001b[0m\u001b[32m=\u001b[0m\u001b[32m\"psf\u001b[0m\u001b[32m-meta \"\u001b[0m\u001b[32m>\u001b[0m\u001b[32m\\n        \u001b[0m\u001b[32m<\u001b[0m\u001b[32ma\u001b[0m\u001b[32m \u001b[0m\u001b[32mhref\u001b[0m\u001b[32m=\"/psf-landing/\" \u001b[0m\u001b[32mtitle\u001b[0m\u001b[32m=\u001b[0m\u001b[32m\"The\u001b[0m\u001b[32m Python Software Foundation\" \u001b[0m\u001b[32m>\u001b[0m\u001b[32mPSF\u001b[0m\u001b[32m<\u001b[0m\u001b[32m/a\u001b[0m\u001b[32m>\u001b[0m\u001b[32m\\n    \u001b[0m\u001b[32m<\u001b[0m\u001b[32m/li\u001b[0m\u001b[32m>\u001b[0m\u001b[32m\\n    \\n    \u001b[0m\u001b[32m<\u001b[0m\u001b[32mli\u001b[0m\u001b[32m \u001b[0m\u001b[32mclass\u001b[0m\u001b[32m=\u001b[0m\u001b[32m\"docs\u001b[0m\u001b[32m-meta \"\u001b[0m\u001b[32m>\u001b[0m\u001b[32m\\n        \u001b[0m\u001b[32m<\u001b[0m\u001b[32ma\u001b[0m\u001b[32m \u001b[0m\u001b[32mhref\u001b[0m\u001b[32m=\u001b[0m\u001b[32m\"https\u001b[0m\u001b[32m://docs.python.org\" \u001b[0m\u001b[32mtitle\u001b[0m\u001b[32m=\u001b[0m\u001b[32m\"Python\u001b[0m\u001b[32m Documentation\" \u001b[0m\u001b[32m>\u001b[0m\u001b[32mDocs\u001b[0m\u001b[32m<\u001b[0m\u001b[32m/a\u001b[0m\u001b[32m>\u001b[0m\u001b[32m\\n    \u001b[0m\u001b[32m<\u001b[0m\u001b[32m/li\u001b[0m\u001b[32m>\u001b[0m\u001b[32m\\n    \\n    \u001b[0m\u001b[32m<\u001b[0m\u001b[32mli\u001b[0m\u001b[32m \u001b[0m\u001b[32mclass\u001b[0m\u001b[32m=\u001b[0m\u001b[32m\"pypi\u001b[0m\u001b[32m-meta \"\u001b[0m\u001b[32m>\u001b[0m\u001b[32m\\n        \u001b[0m\u001b[32m<\u001b[0m\u001b[32ma\u001b[0m\u001b[32m \u001b[0m\u001b[32mhref\u001b[0m\u001b[32m=\u001b[0m\u001b[32m\"https\u001b[0m\u001b[32m://pypi.org/\" \u001b[0m\u001b[32mtitle\u001b[0m\u001b[32m=\u001b[0m\u001b[32m\"Python\u001b[0m\u001b[32m Package Index\" \u001b[0m\u001b[32m>\u001b[0m\u001b[32mPyPI\u001b[0m\u001b[32m<\u001b[0m\u001b[32m/a\u001b[0m\u001b[32m>\u001b[0m\u001b[32m\\n    \u001b[0m\u001b[32m<\u001b[0m\u001b[32m/li\u001b[0m\u001b[32m>\u001b[0m\u001b[32m\\n    \\n    \u001b[0m\u001b[32m<\u001b[0m\u001b[32mli\u001b[0m\u001b[32m \u001b[0m\u001b[32mclass\u001b[0m\u001b[32m=\u001b[0m\u001b[32m\"jobs\u001b[0m\u001b[32m-meta \"\u001b[0m\u001b[32m>\u001b[0m\u001b[32m\\n        \u001b[0m\u001b[32m<\u001b[0m\u001b[32ma\u001b[0m\u001b[32m \u001b[0m\u001b[32mhref\u001b[0m\u001b[32m=\"/jobs/\" \u001b[0m\u001b[32mtitle\u001b[0m\u001b[32m=\u001b[0m\u001b[32m\"Python\u001b[0m\u001b[32m Job Board\" \u001b[0m\u001b[32m>\u001b[0m\u001b[32mJobs\u001b[0m\u001b[32m<\u001b[0m\u001b[32m/a\u001b[0m\u001b[32m>\u001b[0m\u001b[32m\\n    \u001b[0m\u001b[32m<\u001b[0m\u001b[32m/li\u001b[0m\u001b[32m>\u001b[0m\u001b[32m\\n    \\n    \u001b[0m\u001b[32m<\u001b[0m\u001b[32mli\u001b[0m\u001b[32m \u001b[0m\u001b[32mclass\u001b[0m\u001b[32m=\u001b[0m\u001b[32m\"shop\u001b[0m\u001b[32m-meta \"\u001b[0m\u001b[32m>\u001b[0m\u001b[32m\\n        \u001b[0m\u001b[32m<\u001b[0m\u001b[32ma\u001b[0m\u001b[32m \u001b[0m\u001b[32mhref\u001b[0m\u001b[32m=\"/community-landing/\"  \u001b[0m\u001b[32m>\u001b[0m\u001b[32mCommunity\u001b[0m\u001b[32m<\u001b[0m\u001b[32m/a\u001b[0m\u001b[32m>\u001b[0m\u001b[32m\\n    \u001b[0m\u001b[32m<\u001b[0m\u001b[32m/li\u001b[0m\u001b[32m>\u001b[0m\u001b[32m\\n    \\n\u001b[0m\u001b[32m<\u001b[0m\u001b[32m/ul\u001b[0m\u001b[32m>\u001b[0m\u001b[32m\\n\\n\\n                \u001b[0m\u001b[32m<\u001b[0m\u001b[32ma\u001b[0m\u001b[32m \u001b[0m\u001b[32mid\u001b[0m\u001b[32m=\u001b[0m\u001b[32m\"python\u001b[0m\u001b[32m-network\" \u001b[0m\u001b[32mclass\u001b[0m\u001b[32m=\u001b[0m\u001b[32m\"jump\u001b[0m\u001b[32m-link\" \u001b[0m\u001b[32mhref\u001b[0m\u001b[32m=\"#top\" aria-\u001b[0m\u001b[32mhidden\u001b[0m\u001b[32m=\u001b[0m\u001b[32m\"true\"\u001b[0m\u001b[32m>\u001b[0m\u001b[32m\\n                    \u001b[0m\u001b[32m<\u001b[0m\u001b[32mspan\u001b[0m\u001b[32m aria-\u001b[0m\u001b[32mhidden\u001b[0m\u001b[32m=\u001b[0m\u001b[32m\"true\"\u001b[0m\u001b[32m \u001b[0m\u001b[32mclass\u001b[0m\u001b[32m=\u001b[0m\u001b[32m\"icon\u001b[0m\u001b[32m-arrow-up\"\u001b[0m\u001b[32m>\u001b[0m\u001b[32m<\u001b[0m\u001b[32mspan\u001b[0m\u001b[32m>\u001b[0m\u001b[32m&#9650;\u001b[0m\u001b[32m<\u001b[0m\u001b[32m/span\u001b[0m\u001b[32m>\u001b[0m\u001b[32m<\u001b[0m\u001b[32m/span\u001b[0m\u001b[32m>\u001b[0m\u001b[32m The Python Network\\n                \u001b[0m\u001b[32m<\u001b[0m\u001b[32m/a\u001b[0m\u001b[32m>\u001b[0m\u001b[32m\\n\\n            \u001b[0m\u001b[32m<\u001b[0m\u001b[32m/nav\u001b[0m\u001b[32m>\u001b[0m\u001b[32m\\n\\n        \u001b[0m\u001b[32m<\u001b[0m\u001b[32m/div\u001b[0m\u001b[32m>\u001b[0m\u001b[32m\\n\\n        \u001b[0m\u001b[32m<\u001b[0m\u001b[32m!-- Header elements --\u001b[0m\u001b[32m>\u001b[0m\u001b[32m\\n        \u001b[0m\u001b[32m<\u001b[0m\u001b[32mheader\u001b[0m\u001b[32m \u001b[0m\u001b[32mclass\u001b[0m\u001b[32m=\u001b[0m\u001b[32m\"main\u001b[0m\u001b[32m-header\" \u001b[0m\u001b[32mrole\u001b[0m\u001b[32m=\u001b[0m\u001b[32m\"banner\"\u001b[0m\u001b[32m>\u001b[0m\u001b[32m\\n            \u001b[0m\u001b[32m<\u001b[0m\u001b[32mdiv\u001b[0m\u001b[32m \u001b[0m\u001b[32mclass\u001b[0m\u001b[32m=\u001b[0m\u001b[32m\"container\"\u001b[0m\u001b[32m>\u001b[0m\u001b[32m\\n\\n                \u001b[0m\u001b[32m<\u001b[0m\u001b[32mh1\u001b[0m\u001b[32m \u001b[0m\u001b[32mclass\u001b[0m\u001b[32m=\u001b[0m\u001b[32m\"site\u001b[0m\u001b[32m-headline\"\u001b[0m\u001b[32m>\u001b[0m\u001b[32m\\n                    \u001b[0m\u001b[32m<\u001b[0m\u001b[32ma\u001b[0m\u001b[32m \u001b[0m\u001b[32mhref\u001b[0m\u001b[32m=\"/\"\u001b[0m\u001b[32m>\u001b[0m\u001b[32m<\u001b[0m\u001b[32mimg\u001b[0m\u001b[32m \u001b[0m\u001b[32mclass\u001b[0m\u001b[32m=\u001b[0m\u001b[32m\"python\u001b[0m\u001b[32m-logo\" \u001b[0m\u001b[32msrc\u001b[0m\u001b[32m=\"/static/img/python-logo.png\" \u001b[0m\u001b[32malt\u001b[0m\u001b[32m=\u001b[0m\u001b[32m\"python\u001b[0m\u001b[32m&trade;\"\u001b[0m\u001b[32m>\u001b[0m\u001b[32m<\u001b[0m\u001b[32m/a\u001b[0m\u001b[32m>\u001b[0m\u001b[32m\\n                \u001b[0m\u001b[32m<\u001b[0m\u001b[32m/h1\u001b[0m\u001b[32m>\u001b[0m\u001b[32m\\n\\n                \u001b[0m\u001b[32m<\u001b[0m\u001b[32mdiv\u001b[0m\u001b[32m \u001b[0m\u001b[32mclass\u001b[0m\u001b[32m=\u001b[0m\u001b[32m\"options\u001b[0m\u001b[32m-bar-container do-not-print\"\u001b[0m\u001b[32m>\u001b[0m\u001b[32m\\n                    \u001b[0m\u001b[32m<\u001b[0m\u001b[32ma\u001b[0m\u001b[32m \u001b[0m\u001b[32mhref\u001b[0m\u001b[32m=\u001b[0m\u001b[32m\"https\u001b[0m\u001b[32m://psfmember.org/civicrm/contribute/transact?\u001b[0m\u001b[32mreset\u001b[0m\u001b[32m=\u001b[0m\u001b[32m1\u001b[0m\u001b[32m&\u001b[0m\u001b[32mid\u001b[0m\u001b[32m=\u001b[0m\u001b[32m2\"\u001b[0m\u001b[32m \u001b[0m\u001b[32mclass\u001b[0m\u001b[32m=\u001b[0m\u001b[32m\"donate\u001b[0m\u001b[32m-button\"\u001b[0m\u001b[32m>\u001b[0m\u001b[32mDonate\u001b[0m\u001b[32m<\u001b[0m\u001b[32m/a\u001b[0m\u001b[32m>\u001b[0m\u001b[32m\\n                    \u001b[0m\u001b[32m<\u001b[0m\u001b[32mdiv\u001b[0m\u001b[32m \u001b[0m\u001b[32mclass\u001b[0m\u001b[32m=\u001b[0m\u001b[32m\"options\u001b[0m\u001b[32m-bar\"\u001b[0m\u001b[32m>\u001b[0m\u001b[32m\\n                        \\n                        \u001b[0m\u001b[32m<\u001b[0m\u001b[32ma\u001b[0m\u001b[32m \u001b[0m\u001b[32mid\u001b[0m\u001b[32m=\u001b[0m\u001b[32m\"site\u001b[0m\u001b[32m-map-link\" \u001b[0m\u001b[32mclass\u001b[0m\u001b[32m=\u001b[0m\u001b[32m\"jump\u001b[0m\u001b[32m-to-menu\" \u001b[0m\u001b[32mhref\u001b[0m\u001b[32m=\"#site-map\"\u001b[0m\u001b[32m>\u001b[0m\u001b[32m<\u001b[0m\u001b[32mspan\u001b[0m\u001b[32m \u001b[0m\u001b[32mclass\u001b[0m\u001b[32m=\u001b[0m\u001b[32m\"menu\u001b[0m\u001b[32m-icon\"\u001b[0m\u001b[32m>\u001b[0m\u001b[32m&equiv;\u001b[0m\u001b[32m<\u001b[0m\u001b[32m/span\u001b[0m\u001b[32m>\u001b[0m\u001b[32m Menu\u001b[0m\u001b[32m<\u001b[0m\u001b[32m/a\u001b[0m\u001b[32m>\u001b[0m\u001b[32m<\u001b[0m\u001b[32mform\u001b[0m\u001b[32m \u001b[0m\u001b[32mclass\u001b[0m\u001b[32m=\u001b[0m\u001b[32m\"search\u001b[0m\u001b[32m-the-site\" \u001b[0m\u001b[32maction\u001b[0m\u001b[32m=\"/search/\" \u001b[0m\u001b[32mmethod\u001b[0m\u001b[32m=\u001b[0m\u001b[32m\"get\"\u001b[0m\u001b[32m>\u001b[0m\u001b[32m\\n                            \u001b[0m\u001b[32m<\u001b[0m\u001b[32mfieldset\u001b[0m\u001b[32m \u001b[0m\u001b[32mtitle\u001b[0m\u001b[32m=\u001b[0m\u001b[32m\"Search\u001b[0m\u001b[32m Python.org\"\u001b[0m\u001b[32m>\u001b[0m\u001b[32m\\n\\n                                \u001b[0m\u001b[32m<\u001b[0m\u001b[32mspan\u001b[0m\u001b[32m aria-\u001b[0m\u001b[32mhidden\u001b[0m\u001b[32m=\u001b[0m\u001b[32m\"true\"\u001b[0m\u001b[32m \u001b[0m\u001b[32mclass\u001b[0m\u001b[32m=\u001b[0m\u001b[32m\"icon\u001b[0m\u001b[32m-search\"\u001b[0m\u001b[32m>\u001b[0m\u001b[32m<\u001b[0m\u001b[32m/span\u001b[0m\u001b[32m>\u001b[0m\u001b[32m\\n\\n                                \u001b[0m\u001b[32m<\u001b[0m\u001b[32mlabel\u001b[0m\u001b[32m \u001b[0m\u001b[32mclass\u001b[0m\u001b[32m=\u001b[0m\u001b[32m\"screen\u001b[0m\u001b[32m-reader-text\" \u001b[0m\u001b[32mfor\u001b[0m\u001b[32m=\u001b[0m\u001b[32m\"id\u001b[0m\u001b[32m-search-field\"\u001b[0m\u001b[32m>\u001b[0m\u001b[32mSearch This Site\u001b[0m\u001b[32m<\u001b[0m\u001b[32m/label\u001b[0m\u001b[32m>\u001b[0m\u001b[32m\\n                                \u001b[0m\u001b[32m<\u001b[0m\u001b[32minput\u001b[0m\u001b[32m \u001b[0m\u001b[32mid\u001b[0m\u001b[32m=\u001b[0m\u001b[32m\"id\u001b[0m\u001b[32m-search-field\" \u001b[0m\u001b[32mname\u001b[0m\u001b[32m=\u001b[0m\u001b[32m\"q\"\u001b[0m\u001b[32m \u001b[0m\u001b[32mtype\u001b[0m\u001b[32m=\u001b[0m\u001b[32m\"search\"\u001b[0m\u001b[32m \u001b[0m\u001b[32mrole\u001b[0m\u001b[32m=\u001b[0m\u001b[32m\"textbox\"\u001b[0m\u001b[32m \u001b[0m\u001b[32mclass\u001b[0m\u001b[32m=\u001b[0m\u001b[32m\"search\u001b[0m\u001b[32m-field\" \u001b[0m\u001b[32mplaceholder\u001b[0m\u001b[32m=\u001b[0m\u001b[32m\"Search\"\u001b[0m\u001b[32m \u001b[0m\u001b[32mvalue\u001b[0m\u001b[32m=\"\" \u001b[0m\u001b[32mtabindex\u001b[0m\u001b[32m=\u001b[0m\u001b[32m\"1\"\u001b[0m\u001b[32m>\u001b[0m\u001b[32m\\n\\n                                \u001b[0m\u001b[32m<\u001b[0m\u001b[32mbutton\u001b[0m\u001b[32m \u001b[0m\u001b[32mtype\u001b[0m\u001b[32m=\u001b[0m\u001b[32m\"submit\"\u001b[0m\u001b[32m \u001b[0m\u001b[32mname\u001b[0m\u001b[32m=\u001b[0m\u001b[32m\"submit\"\u001b[0m\u001b[32m \u001b[0m\u001b[32mid\u001b[0m\u001b[32m=\u001b[0m\u001b[32m\"submit\"\u001b[0m\u001b[32m \u001b[0m\u001b[32mclass\u001b[0m\u001b[32m=\u001b[0m\u001b[32m\"search\u001b[0m\u001b[32m-button\" \u001b[0m\u001b[32mtitle\u001b[0m\u001b[32m=\u001b[0m\u001b[32m\"Submit\u001b[0m\u001b[32m this Search\" \u001b[0m\u001b[32mtabindex\u001b[0m\u001b[32m=\u001b[0m\u001b[32m\"3\"\u001b[0m\u001b[32m>\u001b[0m\u001b[32m\\n                                    GO\\n                                \u001b[0m\u001b[32m<\u001b[0m\u001b[32m/button\u001b[0m\u001b[32m>\u001b[0m\u001b[32m\\n\\n                                \\n                                \u001b[0m\u001b[32m<\u001b[0m\u001b[32m!--\u001b[0m\u001b[32m[\u001b[0m\u001b[32mif IE\u001b[0m\u001b[32m]\u001b[0m\u001b[32m>\u001b[0m\u001b[32m<\u001b[0m\u001b[32minput\u001b[0m\u001b[32m \u001b[0m\u001b[32mtype\u001b[0m\u001b[32m=\u001b[0m\u001b[32m\"text\"\u001b[0m\u001b[32m \u001b[0m\u001b[32mstyle\u001b[0m\u001b[32m=\u001b[0m\u001b[32m\"display\u001b[0m\u001b[32m: none;\" \u001b[0m\u001b[32mdisabled\u001b[0m\u001b[32m=\u001b[0m\u001b[32m\"disabled\"\u001b[0m\u001b[32m \u001b[0m\u001b[32msize\u001b[0m\u001b[32m=\u001b[0m\u001b[32m\"1\"\u001b[0m\u001b[32m \u001b[0m\u001b[32mtabindex\u001b[0m\u001b[32m=\u001b[0m\u001b[32m\"4\"\u001b[0m\u001b[32m>\u001b[0m\u001b[32m<\u001b[0m\u001b[32m!\u001b[0m\u001b[32m[\u001b[0m\u001b[32mendif\u001b[0m\u001b[32m]\u001b[0m\u001b[32m--\u001b[0m\u001b[32m>\u001b[0m\u001b[32m\\n\\n                            \u001b[0m\u001b[32m<\u001b[0m\u001b[32m/fieldset\u001b[0m\u001b[32m>\u001b[0m\u001b[32m\\n                        \u001b[0m\u001b[32m<\u001b[0m\u001b[32m/form\u001b[0m\u001b[32m>\u001b[0m\u001b[32m<\u001b[0m\u001b[32mspan\u001b[0m\u001b[32m \u001b[0m\u001b[32mclass\u001b[0m\u001b[32m=\u001b[0m\u001b[32m\"breaker\"\u001b[0m\u001b[32m>\u001b[0m\u001b[32m<\u001b[0m\u001b[32m/span\u001b[0m\u001b[32m>\u001b[0m\u001b[32m<\u001b[0m\u001b[32mdiv\u001b[0m\u001b[32m \u001b[0m\u001b[32mclass\u001b[0m\u001b[32m=\u001b[0m\u001b[32m\"adjust\u001b[0m\u001b[32m-font-size\" aria-\u001b[0m\u001b[32mhidden\u001b[0m\u001b[32m=\u001b[0m\u001b[32m\"true\"\u001b[0m\u001b[32m>\u001b[0m\u001b[32m\\n                            \u001b[0m\u001b[32m<\u001b[0m\u001b[32mul\u001b[0m\u001b[32m \u001b[0m\u001b[32mclass\u001b[0m\u001b[32m=\u001b[0m\u001b[32m\"navigation\u001b[0m\u001b[32m menu\" aria-\u001b[0m\u001b[32mlabel\u001b[0m\u001b[32m=\u001b[0m\u001b[32m\"Adjust\u001b[0m\u001b[32m Text Size on Page\"\u001b[0m\u001b[32m>\u001b[0m\u001b[32m\\n                                \u001b[0m\u001b[32m<\u001b[0m\u001b[32mli\u001b[0m\u001b[32m \u001b[0m\u001b[32mclass\u001b[0m\u001b[32m=\u001b[0m\u001b[32m\"tier\u001b[0m\u001b[32m-1 last\" aria-\u001b[0m\u001b[32mhaspopup\u001b[0m\u001b[32m=\u001b[0m\u001b[32m\"true\"\u001b[0m\u001b[32m>\u001b[0m\u001b[32m\\n                                    \u001b[0m\u001b[32m<\u001b[0m\u001b[32ma\u001b[0m\u001b[32m \u001b[0m\u001b[32mhref\u001b[0m\u001b[32m=\"#\" \u001b[0m\u001b[32mclass\u001b[0m\u001b[32m=\u001b[0m\u001b[32m\"action\u001b[0m\u001b[32m-trigger\"\u001b[0m\u001b[32m>\u001b[0m\u001b[32m<\u001b[0m\u001b[32mstrong\u001b[0m\u001b[32m>\u001b[0m\u001b[32m<\u001b[0m\u001b[32msmall\u001b[0m\u001b[32m>\u001b[0m\u001b[32mA\u001b[0m\u001b[32m<\u001b[0m\u001b[32m/small\u001b[0m\u001b[32m>\u001b[0m\u001b[32m A\u001b[0m\u001b[32m<\u001b[0m\u001b[32m/strong\u001b[0m\u001b[32m>\u001b[0m\u001b[32m<\u001b[0m\u001b[32m/a\u001b[0m\u001b[32m>\u001b[0m\u001b[32m\\n                                    \u001b[0m\u001b[32m<\u001b[0m\u001b[32mul\u001b[0m\u001b[32m \u001b[0m\u001b[32mclass\u001b[0m\u001b[32m=\u001b[0m\u001b[32m\"subnav\u001b[0m\u001b[32m menu\"\u001b[0m\u001b[32m>\u001b[0m\u001b[32m\\n                                        \u001b[0m\u001b[32m<\u001b[0m\u001b[32mli\u001b[0m\u001b[32m \u001b[0m\u001b[32mclass\u001b[0m\u001b[32m=\u001b[0m\u001b[32m\"tier\u001b[0m\u001b[32m-2 element-1\" \u001b[0m\u001b[32mrole\u001b[0m\u001b[32m=\u001b[0m\u001b[32m\"treeitem\"\u001b[0m\u001b[32m>\u001b[0m\u001b[32m<\u001b[0m\u001b[32ma\u001b[0m\u001b[32m \u001b[0m\u001b[32mclass\u001b[0m\u001b[32m=\u001b[0m\u001b[32m\"text\u001b[0m\u001b[32m-shrink\" \u001b[0m\u001b[32mtitle\u001b[0m\u001b[32m=\u001b[0m\u001b[32m\"Make\u001b[0m\u001b[32m Text Smaller\" \u001b[0m\u001b[32mhref\u001b[0m\u001b[32m=\u001b[0m\u001b[32m\"javascript\u001b[0m\u001b[32m:;\"\u001b[0m\u001b[32m>\u001b[0m\u001b[32mSmaller\u001b[0m\u001b[32m<\u001b[0m\u001b[32m/a\u001b[0m\u001b[32m>\u001b[0m\u001b[32m<\u001b[0m\u001b[32m/li\u001b[0m\u001b[32m>\u001b[0m\u001b[32m\\n                                        \u001b[0m\u001b[32m<\u001b[0m\u001b[32mli\u001b[0m\u001b[32m \u001b[0m\u001b[32mclass\u001b[0m\u001b[32m=\u001b[0m\u001b[32m\"tier\u001b[0m\u001b[32m-2 element-2\" \u001b[0m\u001b[32mrole\u001b[0m\u001b[32m=\u001b[0m\u001b[32m\"treeitem\"\u001b[0m\u001b[32m>\u001b[0m\u001b[32m<\u001b[0m\u001b[32ma\u001b[0m\u001b[32m \u001b[0m\u001b[32mclass\u001b[0m\u001b[32m=\u001b[0m\u001b[32m\"text\u001b[0m\u001b[32m-grow\" \u001b[0m\u001b[32mtitle\u001b[0m\u001b[32m=\u001b[0m\u001b[32m\"Make\u001b[0m\u001b[32m Text Larger\" \u001b[0m\u001b[32mhref\u001b[0m\u001b[32m=\u001b[0m\u001b[32m\"javascript\u001b[0m\u001b[32m:;\"\u001b[0m\u001b[32m>\u001b[0m\u001b[32mLarger\u001b[0m\u001b[32m<\u001b[0m\u001b[32m/a\u001b[0m\u001b[32m>\u001b[0m\u001b[32m<\u001b[0m\u001b[32m/li\u001b[0m\u001b[32m>\u001b[0m\u001b[32m\\n                                        \u001b[0m\u001b[32m<\u001b[0m\u001b[32mli\u001b[0m\u001b[32m \u001b[0m\u001b[32mclass\u001b[0m\u001b[32m=\u001b[0m\u001b[32m\"tier\u001b[0m\u001b[32m-2 element-3\" \u001b[0m\u001b[32mrole\u001b[0m\u001b[32m=\u001b[0m\u001b[32m\"treeitem\"\u001b[0m\u001b[32m>\u001b[0m\u001b[32m<\u001b[0m\u001b[32ma\u001b[0m\u001b[32m \u001b[0m\u001b[32mclass\u001b[0m\u001b[32m=\u001b[0m\u001b[32m\"text\u001b[0m\u001b[32m-reset\" \u001b[0m\u001b[32mtitle\u001b[0m\u001b[32m=\u001b[0m\u001b[32m\"Reset\u001b[0m\u001b[32m any font size changes I have made\" \u001b[0m\u001b[32mhref\u001b[0m\u001b[32m=\u001b[0m\u001b[32m\"javascript\u001b[0m\u001b[32m:;\"\u001b[0m\u001b[32m>\u001b[0m\u001b[32mReset\u001b[0m\u001b[32m<\u001b[0m\u001b[32m/a\u001b[0m\u001b[32m>\u001b[0m\u001b[32m<\u001b[0m\u001b[32m/li\u001b[0m\u001b[32m>\u001b[0m\u001b[32m\\n                                    \u001b[0m\u001b[32m<\u001b[0m\u001b[32m/ul\u001b[0m\u001b[32m>\u001b[0m\u001b[32m\\n                                \u001b[0m\u001b[32m<\u001b[0m\u001b[32m/li\u001b[0m\u001b[32m>\u001b[0m\u001b[32m\\n                            \u001b[0m\u001b[32m<\u001b[0m\u001b[32m/ul\u001b[0m\u001b[32m>\u001b[0m\u001b[32m\\n                        \u001b[0m\u001b[32m<\u001b[0m\u001b[32m/div\u001b[0m\u001b[32m>\u001b[0m\u001b[32m<\u001b[0m\u001b[32mdiv\u001b[0m\u001b[32m \u001b[0m\u001b[32mclass\u001b[0m\u001b[32m=\u001b[0m\u001b[32m\"winkwink\u001b[0m\u001b[32m-nudgenudge\"\u001b[0m\u001b[32m>\u001b[0m\u001b[32m\\n                            \u001b[0m\u001b[32m<\u001b[0m\u001b[32mul\u001b[0m\u001b[32m \u001b[0m\u001b[32mclass\u001b[0m\u001b[32m=\u001b[0m\u001b[32m\"navigation\u001b[0m\u001b[32m menu\" aria-\u001b[0m\u001b[32mlabel\u001b[0m\u001b[32m=\u001b[0m\u001b[32m\"Social\u001b[0m\u001b[32m Media Navigation\"\u001b[0m\u001b[32m>\u001b[0m\u001b[32m\\n                                \u001b[0m\u001b[32m<\u001b[0m\u001b[32mli\u001b[0m\u001b[32m \u001b[0m\u001b[32mclass\u001b[0m\u001b[32m=\u001b[0m\u001b[32m\"tier\u001b[0m\u001b[32m-1 last\" aria-\u001b[0m\u001b[32mhaspopup\u001b[0m\u001b[32m=\u001b[0m\u001b[32m\"true\"\u001b[0m\u001b[32m>\u001b[0m\u001b[32m\\n                                    \u001b[0m\u001b[32m<\u001b[0m\u001b[32ma\u001b[0m\u001b[32m \u001b[0m\u001b[32mhref\u001b[0m\u001b[32m=\"#\" \u001b[0m\u001b[32mclass\u001b[0m\u001b[32m=\u001b[0m\u001b[32m\"action\u001b[0m\u001b[32m-trigger\"\u001b[0m\u001b[32m>\u001b[0m\u001b[32mSocialize\u001b[0m\u001b[32m<\u001b[0m\u001b[32m/a\u001b[0m\u001b[32m>\u001b[0m\u001b[32m\\n                                    \u001b[0m\u001b[32m<\u001b[0m\u001b[32mul\u001b[0m\u001b[32m \u001b[0m\u001b[32mclass\u001b[0m\u001b[32m=\u001b[0m\u001b[32m\"subnav\u001b[0m\u001b[32m menu\"\u001b[0m\u001b[32m>\u001b[0m\u001b[32m\\n                                        \u001b[0m\u001b[32m<\u001b[0m\u001b[32mli\u001b[0m\u001b[32m \u001b[0m\u001b[32mclass\u001b[0m\u001b[32m=\u001b[0m\u001b[32m\"tier\u001b[0m\u001b[32m-2 element-1\" \u001b[0m\u001b[32mrole\u001b[0m\u001b[32m=\u001b[0m\u001b[32m\"treeitem\"\u001b[0m\u001b[32m>\u001b[0m\u001b[32m<\u001b[0m\u001b[32ma\u001b[0m\u001b[32m \u001b[0m\u001b[32mhref\u001b[0m\u001b[32m=\u001b[0m\u001b[32m\"https\u001b[0m\u001b[32m://www.facebook.com/pythonlang?\u001b[0m\u001b[32mfref\u001b[0m\u001b[32m=\u001b[0m\u001b[32mts\"\u001b[0m\u001b[32m>\u001b[0m\u001b[32m<\u001b[0m\u001b[32mspan\u001b[0m\u001b[32m aria-\u001b[0m\u001b[32mhidden\u001b[0m\u001b[32m=\u001b[0m\u001b[32m\"true\"\u001b[0m\u001b[32m \u001b[0m\u001b[32mclass\u001b[0m\u001b[32m=\u001b[0m\u001b[32m\"icon\u001b[0m\u001b[32m-facebook\"\u001b[0m\u001b[32m>\u001b[0m\u001b[32m<\u001b[0m\u001b[32m/span\u001b[0m\u001b[32m>\u001b[0m\u001b[32mFacebook\u001b[0m\u001b[32m<\u001b[0m\u001b[32m/a\u001b[0m\u001b[32m>\u001b[0m\u001b[32m<\u001b[0m\u001b[32m/li\u001b[0m\u001b[32m>\u001b[0m\u001b[32m\\n                                        \u001b[0m\u001b[32m<\u001b[0m\u001b[32mli\u001b[0m\u001b[32m \u001b[0m\u001b[32mclass\u001b[0m\u001b[32m=\u001b[0m\u001b[32m\"tier\u001b[0m\u001b[32m-2 element-2\" \u001b[0m\u001b[32mrole\u001b[0m\u001b[32m=\u001b[0m\u001b[32m\"treeitem\"\u001b[0m\u001b[32m>\u001b[0m\u001b[32m<\u001b[0m\u001b[32ma\u001b[0m\u001b[32m \u001b[0m\u001b[32mhref\u001b[0m\u001b[32m=\u001b[0m\u001b[32m\"https\u001b[0m\u001b[32m://twitter.com/ThePSF\"\u001b[0m\u001b[32m>\u001b[0m\u001b[32m<\u001b[0m\u001b[32mspan\u001b[0m\u001b[32m aria-\u001b[0m\u001b[32mhidden\u001b[0m\u001b[32m=\u001b[0m\u001b[32m\"true\"\u001b[0m\u001b[32m \u001b[0m\u001b[32mclass\u001b[0m\u001b[32m=\u001b[0m\u001b[32m\"icon\u001b[0m\u001b[32m-twitter\"\u001b[0m\u001b[32m>\u001b[0m\u001b[32m<\u001b[0m\u001b[32m/span\u001b[0m\u001b[32m>\u001b[0m\u001b[32mTwitter\u001b[0m\u001b[32m<\u001b[0m\u001b[32m/a\u001b[0m\u001b[32m>\u001b[0m\u001b[32m<\u001b[0m\u001b[32m/li\u001b[0m\u001b[32m>\u001b[0m\u001b[32m\\n                                        \u001b[0m\u001b[32m<\u001b[0m\u001b[32mli\u001b[0m\u001b[32m \u001b[0m\u001b[32mclass\u001b[0m\u001b[32m=\u001b[0m\u001b[32m\"tier\u001b[0m\u001b[32m-2 element-3\" \u001b[0m\u001b[32mrole\u001b[0m\u001b[32m=\u001b[0m\u001b[32m\"treeitem\"\u001b[0m\u001b[32m>\u001b[0m\u001b[32m<\u001b[0m\u001b[32ma\u001b[0m\u001b[32m \u001b[0m\u001b[32mhref\u001b[0m\u001b[32m=\"/community/irc/\"\u001b[0m\u001b[32m>\u001b[0m\u001b[32m<\u001b[0m\u001b[32mspan\u001b[0m\u001b[32m aria-\u001b[0m\u001b[32mhidden\u001b[0m\u001b[32m=\u001b[0m\u001b[32m\"true\"\u001b[0m\u001b[32m \u001b[0m\u001b[32mclass\u001b[0m\u001b[32m=\u001b[0m\u001b[32m\"icon\u001b[0m\u001b[32m-freenode\"\u001b[0m\u001b[32m>\u001b[0m\u001b[32m<\u001b[0m\u001b[32m/span\u001b[0m\u001b[32m>\u001b[0m\u001b[32mChat on IRC\u001b[0m\u001b[32m<\u001b[0m\u001b[32m/a\u001b[0m\u001b[32m>\u001b[0m\u001b[32m<\u001b[0m\u001b[32m/li\u001b[0m\u001b[32m>\u001b[0m\u001b[32m\\n                                    \u001b[0m\u001b[32m<\u001b[0m\u001b[32m/ul\u001b[0m\u001b[32m>\u001b[0m\u001b[32m\\n                                \u001b[0m\u001b[32m<\u001b[0m\u001b[32m/li\u001b[0m\u001b[32m>\u001b[0m\u001b[32m\\n                            \u001b[0m\u001b[32m<\u001b[0m\u001b[32m/ul\u001b[0m\u001b[32m>\u001b[0m\u001b[32m\\n                        \u001b[0m\u001b[32m<\u001b[0m\u001b[32m/div\u001b[0m\u001b[32m>\u001b[0m\u001b[32m\\n                        \u001b[0m\u001b[32m<\u001b[0m\u001b[32mspan\u001b[0m\u001b[32m data-html-\u001b[0m\u001b[32minclude\u001b[0m\u001b[32m=\"/authenticated\"\u001b[0m\u001b[32m>\u001b[0m\u001b[32m<\u001b[0m\u001b[32m/span\u001b[0m\u001b[32m>\u001b[0m\u001b[32m\\n                    \u001b[0m\u001b[32m<\u001b[0m\u001b[32m/div\u001b[0m\u001b[32m>\u001b[0m\u001b[32m<\u001b[0m\u001b[32m!-- end options-bar --\u001b[0m\u001b[32m>\u001b[0m\u001b[32m\\n                \u001b[0m\u001b[32m<\u001b[0m\u001b[32m/div\u001b[0m\u001b[32m>\u001b[0m\u001b[32m\\n\\n                \u001b[0m\u001b[32m<\u001b[0m\u001b[32mnav\u001b[0m\u001b[32m \u001b[0m\u001b[32mid\u001b[0m\u001b[32m=\u001b[0m\u001b[32m\"mainnav\"\u001b[0m\u001b[32m \u001b[0m\u001b[32mclass\u001b[0m\u001b[32m=\u001b[0m\u001b[32m\"python\u001b[0m\u001b[32m-navigation main-navigation do-not-print\" \u001b[0m\u001b[32mrole\u001b[0m\u001b[32m=\u001b[0m\u001b[32m\"navigation\"\u001b[0m\u001b[32m>\u001b[0m\u001b[32m\\n                    \\n                        \\n\u001b[0m\u001b[32m<\u001b[0m\u001b[32mul\u001b[0m\u001b[32m \u001b[0m\u001b[32mclass\u001b[0m\u001b[32m=\u001b[0m\u001b[32m\"navigation\u001b[0m\u001b[32m menu\" \u001b[0m\u001b[32mrole\u001b[0m\u001b[32m=\u001b[0m\u001b[32m\"menubar\"\u001b[0m\u001b[32m aria-\u001b[0m\u001b[32mlabel\u001b[0m\u001b[32m=\u001b[0m\u001b[32m\"Main\u001b[0m\u001b[32m Navigation\"\u001b[0m\u001b[32m>\u001b[0m\u001b[32m\\n  \\n    \\n    \\n    \u001b[0m\u001b[32m<\u001b[0m\u001b[32mli\u001b[0m\u001b[32m \u001b[0m\u001b[32mid\u001b[0m\u001b[32m=\u001b[0m\u001b[32m\"about\"\u001b[0m\u001b[32m \u001b[0m\u001b[32mclass\u001b[0m\u001b[32m=\u001b[0m\u001b[32m\"tier\u001b[0m\u001b[32m-1 element-1  \" aria-\u001b[0m\u001b[32mhaspopup\u001b[0m\u001b[32m=\u001b[0m\u001b[32m\"true\"\u001b[0m\u001b[32m>\u001b[0m\u001b[32m\\n        \u001b[0m\u001b[32m<\u001b[0m\u001b[32ma\u001b[0m\u001b[32m \u001b[0m\u001b[32mhref\u001b[0m\u001b[32m=\"/about/\" \u001b[0m\u001b[32mtitle\u001b[0m\u001b[32m=\"\" \u001b[0m\u001b[32mclass\u001b[0m\u001b[32m=\"\"\u001b[0m\u001b[32m>\u001b[0m\u001b[32mAbout\u001b[0m\u001b[32m<\u001b[0m\u001b[32m/a\u001b[0m\u001b[32m>\u001b[0m\u001b[32m\\n        \\n            \\n\\n\u001b[0m\u001b[32m<\u001b[0m\u001b[32mul\u001b[0m\u001b[32m \u001b[0m\u001b[32mclass\u001b[0m\u001b[32m=\u001b[0m\u001b[32m\"subnav\u001b[0m\u001b[32m menu\" \u001b[0m\u001b[32mrole\u001b[0m\u001b[32m=\u001b[0m\u001b[32m\"menu\"\u001b[0m\u001b[32m aria-\u001b[0m\u001b[32mhidden\u001b[0m\u001b[32m=\u001b[0m\u001b[32m\"true\"\u001b[0m\u001b[32m>\u001b[0m\u001b[32m\\n    \\n        \u001b[0m\u001b[32m<\u001b[0m\u001b[32mli\u001b[0m\u001b[32m \u001b[0m\u001b[32mclass\u001b[0m\u001b[32m=\u001b[0m\u001b[32m\"tier\u001b[0m\u001b[32m-2 element-1\" \u001b[0m\u001b[32mrole\u001b[0m\u001b[32m=\u001b[0m\u001b[32m\"treeitem\"\u001b[0m\u001b[32m>\u001b[0m\u001b[32m<\u001b[0m\u001b[32ma\u001b[0m\u001b[32m \u001b[0m\u001b[32mhref\u001b[0m\u001b[32m=\"/about/apps/\" \u001b[0m\u001b[32mtitle\u001b[0m\u001b[32m=\"\"\u001b[0m\u001b[32m>\u001b[0m\u001b[32mApplications\u001b[0m\u001b[32m<\u001b[0m\u001b[32m/a\u001b[0m\u001b[32m>\u001b[0m\u001b[32m<\u001b[0m\u001b[32m/li\u001b[0m\u001b[32m>\u001b[0m\u001b[32m\\n    \\n        \u001b[0m\u001b[32m<\u001b[0m\u001b[32mli\u001b[0m\u001b[32m \u001b[0m\u001b[32mclass\u001b[0m\u001b[32m=\u001b[0m\u001b[32m\"tier\u001b[0m\u001b[32m-2 element-2\" \u001b[0m\u001b[32mrole\u001b[0m\u001b[32m=\u001b[0m\u001b[32m\"treeitem\"\u001b[0m\u001b[32m>\u001b[0m\u001b[32m<\u001b[0m\u001b[32ma\u001b[0m\u001b[32m \u001b[0m\u001b[32mhref\u001b[0m\u001b[32m=\"/about/quotes/\" \u001b[0m\u001b[32mtitle\u001b[0m\u001b[32m=\"\"\u001b[0m\u001b[32m>\u001b[0m\u001b[32mQuotes\u001b[0m\u001b[32m<\u001b[0m\u001b[32m/a\u001b[0m\u001b[32m>\u001b[0m\u001b[32m<\u001b[0m\u001b[32m/li\u001b[0m\u001b[32m>\u001b[0m\u001b[32m\\n    \\n        \u001b[0m\u001b[32m<\u001b[0m\u001b[32mli\u001b[0m\u001b[32m \u001b[0m\u001b[32mclass\u001b[0m\u001b[32m=\u001b[0m\u001b[32m\"tier\u001b[0m\u001b[32m-2 element-3\" \u001b[0m\u001b[32mrole\u001b[0m\u001b[32m=\u001b[0m\u001b[32m\"treeitem\"\u001b[0m\u001b[32m>\u001b[0m\u001b[32m<\u001b[0m\u001b[32ma\u001b[0m\u001b[32m \u001b[0m\u001b[32mhref\u001b[0m\u001b[32m=\"/about/gettingstarted/\" \u001b[0m\u001b[32mtitle\u001b[0m\u001b[32m=\"\"\u001b[0m\u001b[32m>\u001b[0m\u001b[32mGetting Started\u001b[0m\u001b[32m<\u001b[0m\u001b[32m/a\u001b[0m\u001b[32m>\u001b[0m\u001b[32m<\u001b[0m\u001b[32m/li\u001b[0m\u001b[32m>\u001b[0m\u001b[32m\\n    \\n        \u001b[0m\u001b[32m<\u001b[0m\u001b[32mli\u001b[0m\u001b[32m \u001b[0m\u001b[32mclass\u001b[0m\u001b[32m=\u001b[0m\u001b[32m\"tier\u001b[0m\u001b[32m-2 element-4\" \u001b[0m\u001b[32mrole\u001b[0m\u001b[32m=\u001b[0m\u001b[32m\"treeitem\"\u001b[0m\u001b[32m>\u001b[0m\u001b[32m<\u001b[0m\u001b[32ma\u001b[0m\u001b[32m \u001b[0m\u001b[32mhref\u001b[0m\u001b[32m=\"/about/help/\" \u001b[0m\u001b[32mtitle\u001b[0m\u001b[32m=\"\"\u001b[0m\u001b[32m>\u001b[0m\u001b[32mHelp\u001b[0m\u001b[32m<\u001b[0m\u001b[32m/a\u001b[0m\u001b[32m>\u001b[0m\u001b[32m<\u001b[0m\u001b[32m/li\u001b[0m\u001b[32m>\u001b[0m\u001b[32m\\n    \\n        \u001b[0m\u001b[32m<\u001b[0m\u001b[32mli\u001b[0m\u001b[32m \u001b[0m\u001b[32mclass\u001b[0m\u001b[32m=\u001b[0m\u001b[32m\"tier\u001b[0m\u001b[32m-2 element-5\" \u001b[0m\u001b[32mrole\u001b[0m\u001b[32m=\u001b[0m\u001b[32m\"treeitem\"\u001b[0m\u001b[32m>\u001b[0m\u001b[32m<\u001b[0m\u001b[32ma\u001b[0m\u001b[32m \u001b[0m\u001b[32mhref\u001b[0m\u001b[32m=\u001b[0m\u001b[32m\"http\u001b[0m\u001b[32m://brochure.getpython.info/\" \u001b[0m\u001b[32mtitle\u001b[0m\u001b[32m=\"\"\u001b[0m\u001b[32m>\u001b[0m\u001b[32mPython Brochure\u001b[0m\u001b[32m<\u001b[0m\u001b[32m/a\u001b[0m\u001b[32m>\u001b[0m\u001b[32m<\u001b[0m\u001b[32m/li\u001b[0m\u001b[32m>\u001b[0m\u001b[32m\\n    \\n\u001b[0m\u001b[32m<\u001b[0m\u001b[32m/ul\u001b[0m\u001b[32m>\u001b[0m\u001b[32m\\n\\n        \\n    \u001b[0m\u001b[32m<\u001b[0m\u001b[32m/li\u001b[0m\u001b[32m>\u001b[0m\u001b[32m\\n    \\n    \\n    \\n    \u001b[0m\u001b[32m<\u001b[0m\u001b[32mli\u001b[0m\u001b[32m \u001b[0m\u001b[32mid\u001b[0m\u001b[32m=\u001b[0m\u001b[32m\"downloads\"\u001b[0m\u001b[32m \u001b[0m\u001b[32mclass\u001b[0m\u001b[32m=\u001b[0m\u001b[32m\"tier\u001b[0m\u001b[32m-1 element-2  \" aria-\u001b[0m\u001b[32mhaspopup\u001b[0m\u001b[32m=\u001b[0m\u001b[32m\"true\"\u001b[0m\u001b[32m>\u001b[0m\u001b[32m\\n        \u001b[0m\u001b[32m<\u001b[0m\u001b[32ma\u001b[0m\u001b[32m \u001b[0m\u001b[32mhref\u001b[0m\u001b[32m=\"/downloads/\" \u001b[0m\u001b[32mtitle\u001b[0m\u001b[32m=\"\" \u001b[0m\u001b[32mclass\u001b[0m\u001b[32m=\"\"\u001b[0m\u001b[32m>\u001b[0m\u001b[32mDownloads\u001b[0m\u001b[32m<\u001b[0m\u001b[32m/a\u001b[0m\u001b[32m>\u001b[0m\u001b[32m\\n        \\n            \\n\\n\u001b[0m\u001b[32m<\u001b[0m\u001b[32mul\u001b[0m\u001b[32m \u001b[0m\u001b[32mclass\u001b[0m\u001b[32m=\u001b[0m\u001b[32m\"subnav\u001b[0m\u001b[32m menu\" \u001b[0m\u001b[32mrole\u001b[0m\u001b[32m=\u001b[0m\u001b[32m\"menu\"\u001b[0m\u001b[32m aria-\u001b[0m\u001b[32mhidden\u001b[0m\u001b[32m=\u001b[0m\u001b[32m\"true\"\u001b[0m\u001b[32m>\u001b[0m\u001b[32m\\n    \\n        \u001b[0m\u001b[32m<\u001b[0m\u001b[32mli\u001b[0m\u001b[32m \u001b[0m\u001b[32mclass\u001b[0m\u001b[32m=\u001b[0m\u001b[32m\"tier\u001b[0m\u001b[32m-2 element-1\" \u001b[0m\u001b[32mrole\u001b[0m\u001b[32m=\u001b[0m\u001b[32m\"treeitem\"\u001b[0m\u001b[32m>\u001b[0m\u001b[32m<\u001b[0m\u001b[32ma\u001b[0m\u001b[32m \u001b[0m\u001b[32mhref\u001b[0m\u001b[32m=\"/downloads/\" \u001b[0m\u001b[32mtitle\u001b[0m\u001b[32m=\"\"\u001b[0m\u001b[32m>\u001b[0m\u001b[32mAll releases\u001b[0m\u001b[32m<\u001b[0m\u001b[32m/a\u001b[0m\u001b[32m>\u001b[0m\u001b[32m<\u001b[0m\u001b[32m/li\u001b[0m\u001b[32m>\u001b[0m\u001b[32m\\n    \\n        \u001b[0m\u001b[32m<\u001b[0m\u001b[32mli\u001b[0m\u001b[32m \u001b[0m\u001b[32mclass\u001b[0m\u001b[32m=\u001b[0m\u001b[32m\"tier\u001b[0m\u001b[32m-2 element-2\" \u001b[0m\u001b[32mrole\u001b[0m\u001b[32m=\u001b[0m\u001b[32m\"treeitem\"\u001b[0m\u001b[32m>\u001b[0m\u001b[32m<\u001b[0m\u001b[32ma\u001b[0m\u001b[32m \u001b[0m\u001b[32mhref\u001b[0m\u001b[32m=\"/downloads/source/\" \u001b[0m\u001b[32mtitle\u001b[0m\u001b[32m=\"\"\u001b[0m\u001b[32m>\u001b[0m\u001b[32mSource code\u001b[0m\u001b[32m<\u001b[0m\u001b[32m/a\u001b[0m\u001b[32m>\u001b[0m\u001b[32m<\u001b[0m\u001b[32m/li\u001b[0m\u001b[32m>\u001b[0m\u001b[32m\\n    \\n        \u001b[0m\u001b[32m<\u001b[0m\u001b[32mli\u001b[0m\u001b[32m \u001b[0m\u001b[32mclass\u001b[0m\u001b[32m=\u001b[0m\u001b[32m\"tier\u001b[0m\u001b[32m-2 element-3\" \u001b[0m\u001b[32mrole\u001b[0m\u001b[32m=\u001b[0m\u001b[32m\"treeitem\"\u001b[0m\u001b[32m>\u001b[0m\u001b[32m<\u001b[0m\u001b[32ma\u001b[0m\u001b[32m \u001b[0m\u001b[32mhref\u001b[0m\u001b[32m=\"/downloads/windows/\" \u001b[0m\u001b[32mtitle\u001b[0m\u001b[32m=\"\"\u001b[0m\u001b[32m>\u001b[0m\u001b[32mWindows\u001b[0m\u001b[32m<\u001b[0m\u001b[32m/a\u001b[0m\u001b[32m>\u001b[0m\u001b[32m<\u001b[0m\u001b[32m/li\u001b[0m\u001b[32m>\u001b[0m\u001b[32m\\n    \\n        \u001b[0m\u001b[32m<\u001b[0m\u001b[32mli\u001b[0m\u001b[32m \u001b[0m\u001b[32mclass\u001b[0m\u001b[32m=\u001b[0m\u001b[32m\"tier\u001b[0m\u001b[32m-2 element-4\" \u001b[0m\u001b[32mrole\u001b[0m\u001b[32m=\u001b[0m\u001b[32m\"treeitem\"\u001b[0m\u001b[32m>\u001b[0m\u001b[32m<\u001b[0m\u001b[32ma\u001b[0m\u001b[32m \u001b[0m\u001b[32mhref\u001b[0m\u001b[32m=\"/downloads/macos/\" \u001b[0m\u001b[32mtitle\u001b[0m\u001b[32m=\"\"\u001b[0m\u001b[32m>\u001b[0m\u001b[32mmacOS\u001b[0m\u001b[32m<\u001b[0m\u001b[32m/a\u001b[0m\u001b[32m>\u001b[0m\u001b[32m<\u001b[0m\u001b[32m/li\u001b[0m\u001b[32m>\u001b[0m\u001b[32m\\n    \\n        \u001b[0m\u001b[32m<\u001b[0m\u001b[32mli\u001b[0m\u001b[32m \u001b[0m\u001b[32mclass\u001b[0m\u001b[32m=\u001b[0m\u001b[32m\"tier\u001b[0m\u001b[32m-2 element-5\" \u001b[0m\u001b[32mrole\u001b[0m\u001b[32m=\u001b[0m\u001b[32m\"treeitem\"\u001b[0m\u001b[32m>\u001b[0m\u001b[32m<\u001b[0m\u001b[32ma\u001b[0m\u001b[32m \u001b[0m\u001b[32mhref\u001b[0m\u001b[32m=\"/download/other/\" \u001b[0m\u001b[32mtitle\u001b[0m\u001b[32m=\"\"\u001b[0m\u001b[32m>\u001b[0m\u001b[32mOther Platforms\u001b[0m\u001b[32m<\u001b[0m\u001b[32m/a\u001b[0m\u001b[32m>\u001b[0m\u001b[32m<\u001b[0m\u001b[32m/li\u001b[0m\u001b[32m>\u001b[0m\u001b[32m\\n    \\n        \u001b[0m\u001b[32m<\u001b[0m\u001b[32mli\u001b[0m\u001b[32m \u001b[0m\u001b[32mclass\u001b[0m\u001b[32m=\u001b[0m\u001b[32m\"tier\u001b[0m\u001b[32m-2 element-6\" \u001b[0m\u001b[32mrole\u001b[0m\u001b[32m=\u001b[0m\u001b[32m\"treeitem\"\u001b[0m\u001b[32m>\u001b[0m\u001b[32m<\u001b[0m\u001b[32ma\u001b[0m\u001b[32m \u001b[0m\u001b[32mhref\u001b[0m\u001b[32m=\u001b[0m\u001b[32m\"https\u001b[0m\u001b[32m://docs.python.org/3/license.html\" \u001b[0m\u001b[32mtitle\u001b[0m\u001b[32m=\"\"\u001b[0m\u001b[32m>\u001b[0m\u001b[32mLicense\u001b[0m\u001b[32m<\u001b[0m\u001b[32m/a\u001b[0m\u001b[32m>\u001b[0m\u001b[32m<\u001b[0m\u001b[32m/li\u001b[0m\u001b[32m>\u001b[0m\u001b[32m\\n    \\n        \u001b[0m\u001b[32m<\u001b[0m\u001b[32mli\u001b[0m\u001b[32m \u001b[0m\u001b[32mclass\u001b[0m\u001b[32m=\u001b[0m\u001b[32m\"tier\u001b[0m\u001b[32m-2 element-7\" \u001b[0m\u001b[32mrole\u001b[0m\u001b[32m=\u001b[0m\u001b[32m\"treeitem\"\u001b[0m\u001b[32m>\u001b[0m\u001b[32m<\u001b[0m\u001b[32ma\u001b[0m\u001b[32m \u001b[0m\u001b[32mhref\u001b[0m\u001b[32m=\"/download/alternatives\" \u001b[0m\u001b[32mtitle\u001b[0m\u001b[32m=\"\"\u001b[0m\u001b[32m>\u001b[0m\u001b[32mAlternative Implementations\u001b[0m\u001b[32m<\u001b[0m\u001b[32m/a\u001b[0m\u001b[32m>\u001b[0m\u001b[32m<\u001b[0m\u001b[32m/li\u001b[0m\u001b[32m>\u001b[0m\u001b[32m\\n    \\n\u001b[0m\u001b[32m<\u001b[0m\u001b[32m/ul\u001b[0m\u001b[32m>\u001b[0m\u001b[32m\\n\\n        \\n    \u001b[0m\u001b[32m<\u001b[0m\u001b[32m/li\u001b[0m\u001b[32m>\u001b[0m\u001b[32m\\n    \\n    \\n    \\n    \u001b[0m\u001b[32m<\u001b[0m\u001b[32mli\u001b[0m\u001b[32m \u001b[0m\u001b[32mid\u001b[0m\u001b[32m=\u001b[0m\u001b[32m\"documentation\"\u001b[0m\u001b[32m \u001b[0m\u001b[32mclass\u001b[0m\u001b[32m=\u001b[0m\u001b[32m\"tier\u001b[0m\u001b[32m-1 element-3  \" aria-\u001b[0m\u001b[32mhaspopup\u001b[0m\u001b[32m=\u001b[0m\u001b[32m\"true\"\u001b[0m\u001b[32m>\u001b[0m\u001b[32m\\n        \u001b[0m\u001b[32m<\u001b[0m\u001b[32ma\u001b[0m\u001b[32m \u001b[0m\u001b[32mhref\u001b[0m\u001b[32m=\"/doc/\" \u001b[0m\u001b[32mtitle\u001b[0m\u001b[32m=\"\" \u001b[0m\u001b[32mclass\u001b[0m\u001b[32m=\"\"\u001b[0m\u001b[32m>\u001b[0m\u001b[32mDocumentation\u001b[0m\u001b[32m<\u001b[0m\u001b[32m/a\u001b[0m\u001b[32m>\u001b[0m\u001b[32m\\n        \\n            \\n\\n\u001b[0m\u001b[32m<\u001b[0m\u001b[32mul\u001b[0m\u001b[32m \u001b[0m\u001b[32mclass\u001b[0m\u001b[32m=\u001b[0m\u001b[32m\"subnav\u001b[0m\u001b[32m menu\" \u001b[0m\u001b[32mrole\u001b[0m\u001b[32m=\u001b[0m\u001b[32m\"menu\"\u001b[0m\u001b[32m aria-\u001b[0m\u001b[32mhidden\u001b[0m\u001b[32m=\u001b[0m\u001b[32m\"true\"\u001b[0m\u001b[32m>\u001b[0m\u001b[32m\\n    \\n        \u001b[0m\u001b[32m<\u001b[0m\u001b[32mli\u001b[0m\u001b[32m \u001b[0m\u001b[32mclass\u001b[0m\u001b[32m=\u001b[0m\u001b[32m\"tier\u001b[0m\u001b[32m-2 element-1\" \u001b[0m\u001b[32mrole\u001b[0m\u001b[32m=\u001b[0m\u001b[32m\"treeitem\"\u001b[0m\u001b[32m>\u001b[0m\u001b[32m<\u001b[0m\u001b[32ma\u001b[0m\u001b[32m \u001b[0m\u001b[32mhref\u001b[0m\u001b[32m=\"/doc/\" \u001b[0m\u001b[32mtitle\u001b[0m\u001b[32m=\"\"\u001b[0m\u001b[32m>\u001b[0m\u001b[32mDocs\u001b[0m\u001b[32m<\u001b[0m\u001b[32m/a\u001b[0m\u001b[32m>\u001b[0m\u001b[32m<\u001b[0m\u001b[32m/li\u001b[0m\u001b[32m>\u001b[0m\u001b[32m\\n    \\n        \u001b[0m\u001b[32m<\u001b[0m\u001b[32mli\u001b[0m\u001b[32m \u001b[0m\u001b[32mclass\u001b[0m\u001b[32m=\u001b[0m\u001b[32m\"tier\u001b[0m\u001b[32m-2 element-2\" \u001b[0m\u001b[32mrole\u001b[0m\u001b[32m=\u001b[0m\u001b[32m\"treeitem\"\u001b[0m\u001b[32m>\u001b[0m\u001b[32m<\u001b[0m\u001b[32ma\u001b[0m\u001b[32m \u001b[0m\u001b[32mhref\u001b[0m\u001b[32m=\"/doc/av\" \u001b[0m\u001b[32mtitle\u001b[0m\u001b[32m=\"\"\u001b[0m\u001b[32m>\u001b[0m\u001b[32mAudio/Visual Talks\u001b[0m\u001b[32m<\u001b[0m\u001b[32m/a\u001b[0m\u001b[32m>\u001b[0m\u001b[32m<\u001b[0m\u001b[32m/li\u001b[0m\u001b[32m>\u001b[0m\u001b[32m\\n    \\n        \u001b[0m\u001b[32m<\u001b[0m\u001b[32mli\u001b[0m\u001b[32m \u001b[0m\u001b[32mclass\u001b[0m\u001b[32m=\u001b[0m\u001b[32m\"tier\u001b[0m\u001b[32m-2 element-3\" \u001b[0m\u001b[32mrole\u001b[0m\u001b[32m=\u001b[0m\u001b[32m\"treeitem\"\u001b[0m\u001b[32m>\u001b[0m\u001b[32m<\u001b[0m\u001b[32ma\u001b[0m\u001b[32m \u001b[0m\u001b[32mhref\u001b[0m\u001b[32m=\u001b[0m\u001b[32m\"https\u001b[0m\u001b[32m://wiki.python.org/moin/BeginnersGuide\" \u001b[0m\u001b[32mtitle\u001b[0m\u001b[32m=\"\"\u001b[0m\u001b[32m>\u001b[0m\u001b[32mBeginner&#39;s Guide\u001b[0m\u001b[32m<\u001b[0m\u001b[32m/a\u001b[0m\u001b[32m>\u001b[0m\u001b[32m<\u001b[0m\u001b[32m/li\u001b[0m\u001b[32m>\u001b[0m\u001b[32m\\n    \\n        \u001b[0m\u001b[32m<\u001b[0m\u001b[32mli\u001b[0m\u001b[32m \u001b[0m\u001b[32mclass\u001b[0m\u001b[32m=\u001b[0m\u001b[32m\"tier\u001b[0m\u001b[32m-2 element-4\" \u001b[0m\u001b[32mrole\u001b[0m\u001b[32m=\u001b[0m\u001b[32m\"treeitem\"\u001b[0m\u001b[32m>\u001b[0m\u001b[32m<\u001b[0m\u001b[32ma\u001b[0m\u001b[32m \u001b[0m\u001b[32mhref\u001b[0m\u001b[32m=\u001b[0m\u001b[32m\"https\u001b[0m\u001b[32m://devguide.python.org/\" \u001b[0m\u001b[32mtitle\u001b[0m\u001b[32m=\"\"\u001b[0m\u001b[32m>\u001b[0m\u001b[32mDeveloper&#39;s Guide\u001b[0m\u001b[32m<\u001b[0m\u001b[32m/a\u001b[0m\u001b[32m>\u001b[0m\u001b[32m<\u001b[0m\u001b[32m/li\u001b[0m\u001b[32m>\u001b[0m\u001b[32m\\n    \\n        \u001b[0m\u001b[32m<\u001b[0m\u001b[32mli\u001b[0m\u001b[32m \u001b[0m\u001b[32mclass\u001b[0m\u001b[32m=\u001b[0m\u001b[32m\"tier\u001b[0m\u001b[32m-2 element-5\" \u001b[0m\u001b[32mrole\u001b[0m\u001b[32m=\u001b[0m\u001b[32m\"treeitem\"\u001b[0m\u001b[32m>\u001b[0m\u001b[32m<\u001b[0m\u001b[32ma\u001b[0m\u001b[32m \u001b[0m\u001b[32mhref\u001b[0m\u001b[32m=\u001b[0m\u001b[32m\"https\u001b[0m\u001b[32m://docs.python.org/faq/\" \u001b[0m\u001b[32mtitle\u001b[0m\u001b[32m=\"\"\u001b[0m\u001b[32m>\u001b[0m\u001b[32mFAQ\u001b[0m\u001b[32m<\u001b[0m\u001b[32m/a\u001b[0m\u001b[32m>\u001b[0m\u001b[32m<\u001b[0m\u001b[32m/li\u001b[0m\u001b[32m>\u001b[0m\u001b[32m\\n    \\n        \u001b[0m\u001b[32m<\u001b[0m\u001b[32mli\u001b[0m\u001b[32m \u001b[0m\u001b[32mclass\u001b[0m\u001b[32m=\u001b[0m\u001b[32m\"tier\u001b[0m\u001b[32m-2 element-6\" \u001b[0m\u001b[32mrole\u001b[0m\u001b[32m=\u001b[0m\u001b[32m\"treeitem\"\u001b[0m\u001b[32m>\u001b[0m\u001b[32m<\u001b[0m\u001b[32ma\u001b[0m\u001b[32m \u001b[0m\u001b[32mhref\u001b[0m\u001b[32m=\u001b[0m\u001b[32m\"http\u001b[0m\u001b[32m://wiki.python.org/moin/Languages\" \u001b[0m\u001b[32mtitle\u001b[0m\u001b[32m=\"\"\u001b[0m\u001b[32m>\u001b[0m\u001b[32mNon-English Docs\u001b[0m\u001b[32m<\u001b[0m\u001b[32m/a\u001b[0m\u001b[32m>\u001b[0m\u001b[32m<\u001b[0m\u001b[32m/li\u001b[0m\u001b[32m>\u001b[0m\u001b[32m\\n    \\n        \u001b[0m\u001b[32m<\u001b[0m\u001b[32mli\u001b[0m\u001b[32m \u001b[0m\u001b[32mclass\u001b[0m\u001b[32m=\u001b[0m\u001b[32m\"tier\u001b[0m\u001b[32m-2 element-7\" \u001b[0m\u001b[32mrole\u001b[0m\u001b[32m=\u001b[0m\u001b[32m\"treeitem\"\u001b[0m\u001b[32m>\u001b[0m\u001b[32m<\u001b[0m\u001b[32ma\u001b[0m\u001b[32m \u001b[0m\u001b[32mhref\u001b[0m\u001b[32m=\u001b[0m\u001b[32m\"http\u001b[0m\u001b[32m://python.org/dev/peps/\" \u001b[0m\u001b[32mtitle\u001b[0m\u001b[32m=\"\"\u001b[0m\u001b[32m>\u001b[0m\u001b[32mPEP Index\u001b[0m\u001b[32m<\u001b[0m\u001b[32m/a\u001b[0m\u001b[32m>\u001b[0m\u001b[32m<\u001b[0m\u001b[32m/li\u001b[0m\u001b[32m>\u001b[0m\u001b[32m\\n    \\n        \u001b[0m\u001b[32m<\u001b[0m\u001b[32mli\u001b[0m\u001b[32m \u001b[0m\u001b[32mclass\u001b[0m\u001b[32m=\u001b[0m\u001b[32m\"tier\u001b[0m\u001b[32m-2 element-8\" \u001b[0m\u001b[32mrole\u001b[0m\u001b[32m=\u001b[0m\u001b[32m\"treeitem\"\u001b[0m\u001b[32m>\u001b[0m\u001b[32m<\u001b[0m\u001b[32ma\u001b[0m\u001b[32m \u001b[0m\u001b[32mhref\u001b[0m\u001b[32m=\u001b[0m\u001b[32m\"https\u001b[0m\u001b[32m://wiki.python.org/moin/PythonBooks\" \u001b[0m\u001b[32mtitle\u001b[0m\u001b[32m=\"\"\u001b[0m\u001b[32m>\u001b[0m\u001b[32mPython Books\u001b[0m\u001b[32m<\u001b[0m\u001b[32m/a\u001b[0m\u001b[32m>\u001b[0m\u001b[32m<\u001b[0m\u001b[32m/li\u001b[0m\u001b[32m>\u001b[0m\u001b[32m\\n    \\n        \u001b[0m\u001b[32m<\u001b[0m\u001b[32mli\u001b[0m\u001b[32m \u001b[0m\u001b[32mclass\u001b[0m\u001b[32m=\u001b[0m\u001b[32m\"tier\u001b[0m\u001b[32m-2 element-9\" \u001b[0m\u001b[32mrole\u001b[0m\u001b[32m=\u001b[0m\u001b[32m\"treeitem\"\u001b[0m\u001b[32m>\u001b[0m\u001b[32m<\u001b[0m\u001b[32ma\u001b[0m\u001b[32m \u001b[0m\u001b[32mhref\u001b[0m\u001b[32m=\"/doc/essays/\" \u001b[0m\u001b[32mtitle\u001b[0m\u001b[32m=\"\"\u001b[0m\u001b[32m>\u001b[0m\u001b[32mPython Essays\u001b[0m\u001b[32m<\u001b[0m\u001b[32m/a\u001b[0m\u001b[32m>\u001b[0m\u001b[32m<\u001b[0m\u001b[32m/li\u001b[0m\u001b[32m>\u001b[0m\u001b[32m\\n    \\n\u001b[0m\u001b[32m<\u001b[0m\u001b[32m/ul\u001b[0m\u001b[32m>\u001b[0m\u001b[32m\\n\\n        \\n    \u001b[0m\u001b[32m<\u001b[0m\u001b[32m/li\u001b[0m\u001b[32m>\u001b[0m\u001b[32m\\n    \\n    \\n    \\n    \u001b[0m\u001b[32m<\u001b[0m\u001b[32mli\u001b[0m\u001b[32m \u001b[0m\u001b[32mid\u001b[0m\u001b[32m=\u001b[0m\u001b[32m\"community\"\u001b[0m\u001b[32m \u001b[0m\u001b[32mclass\u001b[0m\u001b[32m=\u001b[0m\u001b[32m\"tier\u001b[0m\u001b[32m-1 element-4  \" aria-\u001b[0m\u001b[32mhaspopup\u001b[0m\u001b[32m=\u001b[0m\u001b[32m\"true\"\u001b[0m\u001b[32m>\u001b[0m\u001b[32m\\n        \u001b[0m\u001b[32m<\u001b[0m\u001b[32ma\u001b[0m\u001b[32m \u001b[0m\u001b[32mhref\u001b[0m\u001b[32m=\"/community/\" \u001b[0m\u001b[32mtitle\u001b[0m\u001b[32m=\"\" \u001b[0m\u001b[32mclass\u001b[0m\u001b[32m=\"\"\u001b[0m\u001b[32m>\u001b[0m\u001b[32mCommunity\u001b[0m\u001b[32m<\u001b[0m\u001b[32m/a\u001b[0m\u001b[32m>\u001b[0m\u001b[32m\\n        \\n            \\n\\n\u001b[0m\u001b[32m<\u001b[0m\u001b[32mul\u001b[0m\u001b[32m \u001b[0m\u001b[32mclass\u001b[0m\u001b[32m=\u001b[0m\u001b[32m\"subnav\u001b[0m\u001b[32m menu\" \u001b[0m\u001b[32mrole\u001b[0m\u001b[32m=\u001b[0m\u001b[32m\"menu\"\u001b[0m\u001b[32m aria-\u001b[0m\u001b[32mhidden\u001b[0m\u001b[32m=\u001b[0m\u001b[32m\"true\"\u001b[0m\u001b[32m>\u001b[0m\u001b[32m\\n    \\n        \u001b[0m\u001b[32m<\u001b[0m\u001b[32mli\u001b[0m\u001b[32m \u001b[0m\u001b[32mclass\u001b[0m\u001b[32m=\u001b[0m\u001b[32m\"tier\u001b[0m\u001b[32m-2 element-1\" \u001b[0m\u001b[32mrole\u001b[0m\u001b[32m=\u001b[0m\u001b[32m\"treeitem\"\u001b[0m\u001b[32m>\u001b[0m\u001b[32m<\u001b[0m\u001b[32ma\u001b[0m\u001b[32m \u001b[0m\u001b[32mhref\u001b[0m\u001b[32m=\"/community/diversity/\" \u001b[0m\u001b[32mtitle\u001b[0m\u001b[32m=\"\"\u001b[0m\u001b[32m>\u001b[0m\u001b[32mDiversity\u001b[0m\u001b[32m<\u001b[0m\u001b[32m/a\u001b[0m\u001b[32m>\u001b[0m\u001b[32m<\u001b[0m\u001b[32m/li\u001b[0m\u001b[32m>\u001b[0m\u001b[32m\\n    \\n        \u001b[0m\u001b[32m<\u001b[0m\u001b[32mli\u001b[0m\u001b[32m \u001b[0m\u001b[32mclass\u001b[0m\u001b[32m=\u001b[0m\u001b[32m\"tier\u001b[0m\u001b[32m-2 element-2\" \u001b[0m\u001b[32mrole\u001b[0m\u001b[32m=\u001b[0m\u001b[32m\"treeitem\"\u001b[0m\u001b[32m>\u001b[0m\u001b[32m<\u001b[0m\u001b[32ma\u001b[0m\u001b[32m \u001b[0m\u001b[32mhref\u001b[0m\u001b[32m=\"/community/lists/\" \u001b[0m\u001b[32mtitle\u001b[0m\u001b[32m=\"\"\u001b[0m\u001b[32m>\u001b[0m\u001b[32mMailing Lists\u001b[0m\u001b[32m<\u001b[0m\u001b[32m/a\u001b[0m\u001b[32m>\u001b[0m\u001b[32m<\u001b[0m\u001b[32m/li\u001b[0m\u001b[32m>\u001b[0m\u001b[32m\\n    \\n        \u001b[0m\u001b[32m<\u001b[0m\u001b[32mli\u001b[0m\u001b[32m \u001b[0m\u001b[32mclass\u001b[0m\u001b[32m=\u001b[0m\u001b[32m\"tier\u001b[0m\u001b[32m-2 element-3\" \u001b[0m\u001b[32mrole\u001b[0m\u001b[32m=\u001b[0m\u001b[32m\"treeitem\"\u001b[0m\u001b[32m>\u001b[0m\u001b[32m<\u001b[0m\u001b[32ma\u001b[0m\u001b[32m \u001b[0m\u001b[32mhref\u001b[0m\u001b[32m=\"/community/irc/\" \u001b[0m\u001b[32mtitle\u001b[0m\u001b[32m=\"\"\u001b[0m\u001b[32m>\u001b[0m\u001b[32mIRC\u001b[0m\u001b[32m<\u001b[0m\u001b[32m/a\u001b[0m\u001b[32m>\u001b[0m\u001b[32m<\u001b[0m\u001b[32m/li\u001b[0m\u001b[32m>\u001b[0m\u001b[32m\\n    \\n        \u001b[0m\u001b[32m<\u001b[0m\u001b[32mli\u001b[0m\u001b[32m \u001b[0m\u001b[32mclass\u001b[0m\u001b[32m=\u001b[0m\u001b[32m\"tier\u001b[0m\u001b[32m-2 element-4\" \u001b[0m\u001b[32mrole\u001b[0m\u001b[32m=\u001b[0m\u001b[32m\"treeitem\"\u001b[0m\u001b[32m>\u001b[0m\u001b[32m<\u001b[0m\u001b[32ma\u001b[0m\u001b[32m \u001b[0m\u001b[32mhref\u001b[0m\u001b[32m=\"/community/forums/\" \u001b[0m\u001b[32mtitle\u001b[0m\u001b[32m=\"\"\u001b[0m\u001b[32m>\u001b[0m\u001b[32mForums\u001b[0m\u001b[32m<\u001b[0m\u001b[32m/a\u001b[0m\u001b[32m>\u001b[0m\u001b[32m<\u001b[0m\u001b[32m/li\u001b[0m\u001b[32m>\u001b[0m\u001b[32m\\n    \\n        \u001b[0m\u001b[32m<\u001b[0m\u001b[32mli\u001b[0m\u001b[32m \u001b[0m\u001b[32mclass\u001b[0m\u001b[32m=\u001b[0m\u001b[32m\"tier\u001b[0m\u001b[32m-2 element-5\" \u001b[0m\u001b[32mrole\u001b[0m\u001b[32m=\u001b[0m\u001b[32m\"treeitem\"\u001b[0m\u001b[32m>\u001b[0m\u001b[32m<\u001b[0m\u001b[32ma\u001b[0m\u001b[32m \u001b[0m\u001b[32mhref\u001b[0m\u001b[32m=\"/psf/annual-report/2021/\" \u001b[0m\u001b[32mtitle\u001b[0m\u001b[32m=\"\"\u001b[0m\u001b[32m>\u001b[0m\u001b[32mPSF Annual Impact Report\u001b[0m\u001b[32m<\u001b[0m\u001b[32m/a\u001b[0m\u001b[32m>\u001b[0m\u001b[32m<\u001b[0m\u001b[32m/li\u001b[0m\u001b[32m>\u001b[0m\u001b[32m\\n    \\n        \u001b[0m\u001b[32m<\u001b[0m\u001b[32mli\u001b[0m\u001b[32m \u001b[0m\u001b[32mclass\u001b[0m\u001b[32m=\u001b[0m\u001b[32m\"tier\u001b[0m\u001b[32m-2 element-6\" \u001b[0m\u001b[32mrole\u001b[0m\u001b[32m=\u001b[0m\u001b[32m\"treeitem\"\u001b[0m\u001b[32m>\u001b[0m\u001b[32m<\u001b[0m\u001b[32ma\u001b[0m\u001b[32m \u001b[0m\u001b[32mhref\u001b[0m\u001b[32m=\"/community/workshops/\" \u001b[0m\u001b[32mtitle\u001b[0m\u001b[32m=\"\"\u001b[0m\u001b[32m>\u001b[0m\u001b[32mPython Conferences\u001b[0m\u001b[32m<\u001b[0m\u001b[32m/a\u001b[0m\u001b[32m>\u001b[0m\u001b[32m<\u001b[0m\u001b[32m/li\u001b[0m\u001b[32m>\u001b[0m\u001b[32m\\n    \\n        \u001b[0m\u001b[32m<\u001b[0m\u001b[32mli\u001b[0m\u001b[32m \u001b[0m\u001b[32mclass\u001b[0m\u001b[32m=\u001b[0m\u001b[32m\"tier\u001b[0m\u001b[32m-2 element-7\" \u001b[0m\u001b[32mrole\u001b[0m\u001b[32m=\u001b[0m\u001b[32m\"treeitem\"\u001b[0m\u001b[32m>\u001b[0m\u001b[32m<\u001b[0m\u001b[32ma\u001b[0m\u001b[32m \u001b[0m\u001b[32mhref\u001b[0m\u001b[32m=\"/community/sigs/\" \u001b[0m\u001b[32mtitle\u001b[0m\u001b[32m=\"\"\u001b[0m\u001b[32m>\u001b[0m\u001b[32mSpecial Interest Groups\u001b[0m\u001b[32m<\u001b[0m\u001b[32m/a\u001b[0m\u001b[32m>\u001b[0m\u001b[32m<\u001b[0m\u001b[32m/li\u001b[0m\u001b[32m>\u001b[0m\u001b[32m\\n    \\n        \u001b[0m\u001b[32m<\u001b[0m\u001b[32mli\u001b[0m\u001b[32m \u001b[0m\u001b[32mclass\u001b[0m\u001b[32m=\u001b[0m\u001b[32m\"tier\u001b[0m\u001b[32m-2 element-8\" \u001b[0m\u001b[32mrole\u001b[0m\u001b[32m=\u001b[0m\u001b[32m\"treeitem\"\u001b[0m\u001b[32m>\u001b[0m\u001b[32m<\u001b[0m\u001b[32ma\u001b[0m\u001b[32m \u001b[0m\u001b[32mhref\u001b[0m\u001b[32m=\"/community/logos/\" \u001b[0m\u001b[32mtitle\u001b[0m\u001b[32m=\"\"\u001b[0m\u001b[32m>\u001b[0m\u001b[32mPython Logo\u001b[0m\u001b[32m<\u001b[0m\u001b[32m/a\u001b[0m\u001b[32m>\u001b[0m\u001b[32m<\u001b[0m\u001b[32m/li\u001b[0m\u001b[32m>\u001b[0m\u001b[32m\\n    \\n        \u001b[0m\u001b[32m<\u001b[0m\u001b[32mli\u001b[0m\u001b[32m \u001b[0m\u001b[32mclass\u001b[0m\u001b[32m=\u001b[0m\u001b[32m\"tier\u001b[0m\u001b[32m-2 element-9\" \u001b[0m\u001b[32mrole\u001b[0m\u001b[32m=\u001b[0m\u001b[32m\"treeitem\"\u001b[0m\u001b[32m>\u001b[0m\u001b[32m<\u001b[0m\u001b[32ma\u001b[0m\u001b[32m \u001b[0m\u001b[32mhref\u001b[0m\u001b[32m=\u001b[0m\u001b[32m\"https\u001b[0m\u001b[32m://wiki.python.org/moin/\" \u001b[0m\u001b[32mtitle\u001b[0m\u001b[32m=\"\"\u001b[0m\u001b[32m>\u001b[0m\u001b[32mPython Wiki\u001b[0m\u001b[32m<\u001b[0m\u001b[32m/a\u001b[0m\u001b[32m>\u001b[0m\u001b[32m<\u001b[0m\u001b[32m/li\u001b[0m\u001b[32m>\u001b[0m\u001b[32m\\n    \\n        \u001b[0m\u001b[32m<\u001b[0m\u001b[32mli\u001b[0m\u001b[32m \u001b[0m\u001b[32mclass\u001b[0m\u001b[32m=\u001b[0m\u001b[32m\"tier\u001b[0m\u001b[32m-2 element-10\" \u001b[0m\u001b[32mrole\u001b[0m\u001b[32m=\u001b[0m\u001b[32m\"treeitem\"\u001b[0m\u001b[32m>\u001b[0m\u001b[32m<\u001b[0m\u001b[32ma\u001b[0m\u001b[32m \u001b[0m\u001b[32mhref\u001b[0m\u001b[32m=\"/community/merchandise/\" \u001b[0m\u001b[32mtitle\u001b[0m\u001b[32m=\"\"\u001b[0m\u001b[32m>\u001b[0m\u001b[32mMerchandise\u001b[0m\u001b[32m<\u001b[0m\u001b[32m/a\u001b[0m\u001b[32m>\u001b[0m\u001b[32m<\u001b[0m\u001b[32m/li\u001b[0m\u001b[32m>\u001b[0m\u001b[32m\\n    \\n        \u001b[0m\u001b[32m<\u001b[0m\u001b[32mli\u001b[0m\u001b[32m \u001b[0m\u001b[32mclass\u001b[0m\u001b[32m=\u001b[0m\u001b[32m\"tier\u001b[0m\u001b[32m-2 element-11\" \u001b[0m\u001b[32mrole\u001b[0m\u001b[32m=\u001b[0m\u001b[32m\"treeitem\"\u001b[0m\u001b[32m>\u001b[0m\u001b[32m<\u001b[0m\u001b[32ma\u001b[0m\u001b[32m \u001b[0m\u001b[32mhref\u001b[0m\u001b[32m=\"/community/awards\" \u001b[0m\u001b[32mtitle\u001b[0m\u001b[32m=\"\"\u001b[0m\u001b[32m>\u001b[0m\u001b[32mCommunity Awards\u001b[0m\u001b[32m<\u001b[0m\u001b[32m/a\u001b[0m\u001b[32m>\u001b[0m\u001b[32m<\u001b[0m\u001b[32m/li\u001b[0m\u001b[32m>\u001b[0m\u001b[32m\\n    \\n        \u001b[0m\u001b[32m<\u001b[0m\u001b[32mli\u001b[0m\u001b[32m \u001b[0m\u001b[32mclass\u001b[0m\u001b[32m=\u001b[0m\u001b[32m\"tier\u001b[0m\u001b[32m-2 element-12\" \u001b[0m\u001b[32mrole\u001b[0m\u001b[32m=\u001b[0m\u001b[32m\"treeitem\"\u001b[0m\u001b[32m>\u001b[0m\u001b[32m<\u001b[0m\u001b[32ma\u001b[0m\u001b[32m \u001b[0m\u001b[32mhref\u001b[0m\u001b[32m=\"/psf/conduct/\" \u001b[0m\u001b[32mtitle\u001b[0m\u001b[32m=\"\"\u001b[0m\u001b[32m>\u001b[0m\u001b[32mCode of Conduct\u001b[0m\u001b[32m<\u001b[0m\u001b[32m/a\u001b[0m\u001b[32m>\u001b[0m\u001b[32m<\u001b[0m\u001b[32m/li\u001b[0m\u001b[32m>\u001b[0m\u001b[32m\\n    \\n        \u001b[0m\u001b[32m<\u001b[0m\u001b[32mli\u001b[0m\u001b[32m \u001b[0m\u001b[32mclass\u001b[0m\u001b[32m=\u001b[0m\u001b[32m\"tier\u001b[0m\u001b[32m-2 element-13\" \u001b[0m\u001b[32mrole\u001b[0m\u001b[32m=\u001b[0m\u001b[32m\"treeitem\"\u001b[0m\u001b[32m>\u001b[0m\u001b[32m<\u001b[0m\u001b[32ma\u001b[0m\u001b[32m \u001b[0m\u001b[32mhref\u001b[0m\u001b[32m=\"/psf/get-involved/\" \u001b[0m\u001b[32mtitle\u001b[0m\u001b[32m=\"\"\u001b[0m\u001b[32m>\u001b[0m\u001b[32mGet Involved\u001b[0m\u001b[32m<\u001b[0m\u001b[32m/a\u001b[0m\u001b[32m>\u001b[0m\u001b[32m<\u001b[0m\u001b[32m/li\u001b[0m\u001b[32m>\u001b[0m\u001b[32m\\n    \\n        \u001b[0m\u001b[32m<\u001b[0m\u001b[32mli\u001b[0m\u001b[32m \u001b[0m\u001b[32mclass\u001b[0m\u001b[32m=\u001b[0m\u001b[32m\"tier\u001b[0m\u001b[32m-2 element-14\" \u001b[0m\u001b[32mrole\u001b[0m\u001b[32m=\u001b[0m\u001b[32m\"treeitem\"\u001b[0m\u001b[32m>\u001b[0m\u001b[32m<\u001b[0m\u001b[32ma\u001b[0m\u001b[32m \u001b[0m\u001b[32mhref\u001b[0m\u001b[32m=\"/psf/community-stories/\" \u001b[0m\u001b[32mtitle\u001b[0m\u001b[32m=\"\"\u001b[0m\u001b[32m>\u001b[0m\u001b[32mShared Stories\u001b[0m\u001b[32m<\u001b[0m\u001b[32m/a\u001b[0m\u001b[32m>\u001b[0m\u001b[32m<\u001b[0m\u001b[32m/li\u001b[0m\u001b[32m>\u001b[0m\u001b[32m\\n    \\n\u001b[0m\u001b[32m<\u001b[0m\u001b[32m/ul\u001b[0m\u001b[32m>\u001b[0m\u001b[32m\\n\\n        \\n    \u001b[0m\u001b[32m<\u001b[0m\u001b[32m/li\u001b[0m\u001b[32m>\u001b[0m\u001b[32m\\n    \\n    \\n    \\n    \u001b[0m\u001b[32m<\u001b[0m\u001b[32mli\u001b[0m\u001b[32m \u001b[0m\u001b[32mid\u001b[0m\u001b[32m=\u001b[0m\u001b[32m\"success\u001b[0m\u001b[32m-stories\" \u001b[0m\u001b[32mclass\u001b[0m\u001b[32m=\u001b[0m\u001b[32m\"tier\u001b[0m\u001b[32m-1 element-5  \" aria-\u001b[0m\u001b[32mhaspopup\u001b[0m\u001b[32m=\u001b[0m\u001b[32m\"true\"\u001b[0m\u001b[32m>\u001b[0m\u001b[32m\\n        \u001b[0m\u001b[32m<\u001b[0m\u001b[32ma\u001b[0m\u001b[32m \u001b[0m\u001b[32mhref\u001b[0m\u001b[32m=\"/success-stories/\" \u001b[0m\u001b[32mtitle\u001b[0m\u001b[32m=\u001b[0m\u001b[32m\"success\u001b[0m\u001b[32m-stories\" \u001b[0m\u001b[32mclass\u001b[0m\u001b[32m=\"\"\u001b[0m\u001b[32m>\u001b[0m\u001b[32mSuccess Stories\u001b[0m\u001b[32m<\u001b[0m\u001b[32m/a\u001b[0m\u001b[32m>\u001b[0m\u001b[32m\\n        \\n            \\n\\n\u001b[0m\u001b[32m<\u001b[0m\u001b[32mul\u001b[0m\u001b[32m \u001b[0m\u001b[32mclass\u001b[0m\u001b[32m=\u001b[0m\u001b[32m\"subnav\u001b[0m\u001b[32m menu\" \u001b[0m\u001b[32mrole\u001b[0m\u001b[32m=\u001b[0m\u001b[32m\"menu\"\u001b[0m\u001b[32m aria-\u001b[0m\u001b[32mhidden\u001b[0m\u001b[32m=\u001b[0m\u001b[32m\"true\"\u001b[0m\u001b[32m>\u001b[0m\u001b[32m\\n    \\n        \u001b[0m\u001b[32m<\u001b[0m\u001b[32mli\u001b[0m\u001b[32m \u001b[0m\u001b[32mclass\u001b[0m\u001b[32m=\u001b[0m\u001b[32m\"tier\u001b[0m\u001b[32m-2 element-1\" \u001b[0m\u001b[32mrole\u001b[0m\u001b[32m=\u001b[0m\u001b[32m\"treeitem\"\u001b[0m\u001b[32m>\u001b[0m\u001b[32m<\u001b[0m\u001b[32ma\u001b[0m\u001b[32m \u001b[0m\u001b[32mhref\u001b[0m\u001b[32m=\"/success-stories/category/arts/\" \u001b[0m\u001b[32mtitle\u001b[0m\u001b[32m=\"\"\u001b[0m\u001b[32m>\u001b[0m\u001b[32mArts\u001b[0m\u001b[32m<\u001b[0m\u001b[32m/a\u001b[0m\u001b[32m>\u001b[0m\u001b[32m<\u001b[0m\u001b[32m/li\u001b[0m\u001b[32m>\u001b[0m\u001b[32m\\n    \\n        \u001b[0m\u001b[32m<\u001b[0m\u001b[32mli\u001b[0m\u001b[32m \u001b[0m\u001b[32mclass\u001b[0m\u001b[32m=\u001b[0m\u001b[32m\"tier\u001b[0m\u001b[32m-2 element-2\" \u001b[0m\u001b[32mrole\u001b[0m\u001b[32m=\u001b[0m\u001b[32m\"treeitem\"\u001b[0m\u001b[32m>\u001b[0m\u001b[32m<\u001b[0m\u001b[32ma\u001b[0m\u001b[32m \u001b[0m\u001b[32mhref\u001b[0m\u001b[32m=\"/success-stories/category/business/\" \u001b[0m\u001b[32mtitle\u001b[0m\u001b[32m=\"\"\u001b[0m\u001b[32m>\u001b[0m\u001b[32mBusiness\u001b[0m\u001b[32m<\u001b[0m\u001b[32m/a\u001b[0m\u001b[32m>\u001b[0m\u001b[32m<\u001b[0m\u001b[32m/li\u001b[0m\u001b[32m>\u001b[0m\u001b[32m\\n    \\n        \u001b[0m\u001b[32m<\u001b[0m\u001b[32mli\u001b[0m\u001b[32m \u001b[0m\u001b[32mclass\u001b[0m\u001b[32m=\u001b[0m\u001b[32m\"tier\u001b[0m\u001b[32m-2 element-3\" \u001b[0m\u001b[32mrole\u001b[0m\u001b[32m=\u001b[0m\u001b[32m\"treeitem\"\u001b[0m\u001b[32m>\u001b[0m\u001b[32m<\u001b[0m\u001b[32ma\u001b[0m\u001b[32m \u001b[0m\u001b[32mhref\u001b[0m\u001b[32m=\"/success-stories/category/education/\" \u001b[0m\u001b[32mtitle\u001b[0m\u001b[32m=\"\"\u001b[0m\u001b[32m>\u001b[0m\u001b[32mEducation\u001b[0m\u001b[32m<\u001b[0m\u001b[32m/a\u001b[0m\u001b[32m>\u001b[0m\u001b[32m<\u001b[0m\u001b[32m/li\u001b[0m\u001b[32m>\u001b[0m\u001b[32m\\n    \\n        \u001b[0m\u001b[32m<\u001b[0m\u001b[32mli\u001b[0m\u001b[32m \u001b[0m\u001b[32mclass\u001b[0m\u001b[32m=\u001b[0m\u001b[32m\"tier\u001b[0m\u001b[32m-2 element-4\" \u001b[0m\u001b[32mrole\u001b[0m\u001b[32m=\u001b[0m\u001b[32m\"treeitem\"\u001b[0m\u001b[32m>\u001b[0m\u001b[32m<\u001b[0m\u001b[32ma\u001b[0m\u001b[32m \u001b[0m\u001b[32mhref\u001b[0m\u001b[32m=\"/success-stories/category/engineering/\" \u001b[0m\u001b[32mtitle\u001b[0m\u001b[32m=\"\"\u001b[0m\u001b[32m>\u001b[0m\u001b[32mEngineering\u001b[0m\u001b[32m<\u001b[0m\u001b[32m/a\u001b[0m\u001b[32m>\u001b[0m\u001b[32m<\u001b[0m\u001b[32m/li\u001b[0m\u001b[32m>\u001b[0m\u001b[32m\\n    \\n        \u001b[0m\u001b[32m<\u001b[0m\u001b[32mli\u001b[0m\u001b[32m \u001b[0m\u001b[32mclass\u001b[0m\u001b[32m=\u001b[0m\u001b[32m\"tier\u001b[0m\u001b[32m-2 element-5\" \u001b[0m\u001b[32mrole\u001b[0m\u001b[32m=\u001b[0m\u001b[32m\"treeitem\"\u001b[0m\u001b[32m>\u001b[0m\u001b[32m<\u001b[0m\u001b[32ma\u001b[0m\u001b[32m \u001b[0m\u001b[32mhref\u001b[0m\u001b[32m=\"/success-stories/category/government/\" \u001b[0m\u001b[32mtitle\u001b[0m\u001b[32m=\"\"\u001b[0m\u001b[32m>\u001b[0m\u001b[32mGovernment\u001b[0m\u001b[32m<\u001b[0m\u001b[32m/a\u001b[0m\u001b[32m>\u001b[0m\u001b[32m<\u001b[0m\u001b[32m/li\u001b[0m\u001b[32m>\u001b[0m\u001b[32m\\n    \\n        \u001b[0m\u001b[32m<\u001b[0m\u001b[32mli\u001b[0m\u001b[32m \u001b[0m\u001b[32mclass\u001b[0m\u001b[32m=\u001b[0m\u001b[32m\"tier\u001b[0m\u001b[32m-2 element-6\" \u001b[0m\u001b[32mrole\u001b[0m\u001b[32m=\u001b[0m\u001b[32m\"treeitem\"\u001b[0m\u001b[32m>\u001b[0m\u001b[32m<\u001b[0m\u001b[32ma\u001b[0m\u001b[32m \u001b[0m\u001b[32mhref\u001b[0m\u001b[32m=\"/success-stories/category/scientific/\" \u001b[0m\u001b[32mtitle\u001b[0m\u001b[32m=\"\"\u001b[0m\u001b[32m>\u001b[0m\u001b[32mScientific\u001b[0m\u001b[32m<\u001b[0m\u001b[32m/a\u001b[0m\u001b[32m>\u001b[0m\u001b[32m<\u001b[0m\u001b[32m/li\u001b[0m\u001b[32m>\u001b[0m\u001b[32m\\n    \\n        \u001b[0m\u001b[32m<\u001b[0m\u001b[32mli\u001b[0m\u001b[32m \u001b[0m\u001b[32mclass\u001b[0m\u001b[32m=\u001b[0m\u001b[32m\"tier\u001b[0m\u001b[32m-2 element-7\" \u001b[0m\u001b[32mrole\u001b[0m\u001b[32m=\u001b[0m\u001b[32m\"treeitem\"\u001b[0m\u001b[32m>\u001b[0m\u001b[32m<\u001b[0m\u001b[32ma\u001b[0m\u001b[32m \u001b[0m\u001b[32mhref\u001b[0m\u001b[32m=\"/success-stories/category/software-development/\" \u001b[0m\u001b[32mtitle\u001b[0m\u001b[32m=\"\"\u001b[0m\u001b[32m>\u001b[0m\u001b[32mSoftware Development\u001b[0m\u001b[32m<\u001b[0m\u001b[32m/a\u001b[0m\u001b[32m>\u001b[0m\u001b[32m<\u001b[0m\u001b[32m/li\u001b[0m\u001b[32m>\u001b[0m\u001b[32m\\n    \\n\u001b[0m\u001b[32m<\u001b[0m\u001b[32m/ul\u001b[0m\u001b[32m>\u001b[0m\u001b[32m\\n\\n        \\n    \u001b[0m\u001b[32m<\u001b[0m\u001b[32m/li\u001b[0m\u001b[32m>\u001b[0m\u001b[32m\\n    \\n    \\n    \\n    \u001b[0m\u001b[32m<\u001b[0m\u001b[32mli\u001b[0m\u001b[32m \u001b[0m\u001b[32mid\u001b[0m\u001b[32m=\u001b[0m\u001b[32m\"news\"\u001b[0m\u001b[32m \u001b[0m\u001b[32mclass\u001b[0m\u001b[32m=\u001b[0m\u001b[32m\"tier\u001b[0m\u001b[32m-1 element-6  \" aria-\u001b[0m\u001b[32mhaspopup\u001b[0m\u001b[32m=\u001b[0m\u001b[32m\"true\"\u001b[0m\u001b[32m>\u001b[0m\u001b[32m\\n        \u001b[0m\u001b[32m<\u001b[0m\u001b[32ma\u001b[0m\u001b[32m \u001b[0m\u001b[32mhref\u001b[0m\u001b[32m=\"/blogs/\" \u001b[0m\u001b[32mtitle\u001b[0m\u001b[32m=\u001b[0m\u001b[32m\"News\u001b[0m\u001b[32m from around the Python world\" \u001b[0m\u001b[32mclass\u001b[0m\u001b[32m=\"\"\u001b[0m\u001b[32m>\u001b[0m\u001b[32mNews\u001b[0m\u001b[32m<\u001b[0m\u001b[32m/a\u001b[0m\u001b[32m>\u001b[0m\u001b[32m\\n        \\n            \\n\\n\u001b[0m\u001b[32m<\u001b[0m\u001b[32mul\u001b[0m\u001b[32m \u001b[0m\u001b[32mclass\u001b[0m\u001b[32m=\u001b[0m\u001b[32m\"subnav\u001b[0m\u001b[32m menu\" \u001b[0m\u001b[32mrole\u001b[0m\u001b[32m=\u001b[0m\u001b[32m\"menu\"\u001b[0m\u001b[32m aria-\u001b[0m\u001b[32mhidden\u001b[0m\u001b[32m=\u001b[0m\u001b[32m\"true\"\u001b[0m\u001b[32m>\u001b[0m\u001b[32m\\n    \\n        \u001b[0m\u001b[32m<\u001b[0m\u001b[32mli\u001b[0m\u001b[32m \u001b[0m\u001b[32mclass\u001b[0m\u001b[32m=\u001b[0m\u001b[32m\"tier\u001b[0m\u001b[32m-2 element-1\" \u001b[0m\u001b[32mrole\u001b[0m\u001b[32m=\u001b[0m\u001b[32m\"treeitem\"\u001b[0m\u001b[32m>\u001b[0m\u001b[32m<\u001b[0m\u001b[32ma\u001b[0m\u001b[32m \u001b[0m\u001b[32mhref\u001b[0m\u001b[32m=\"/blogs/\" \u001b[0m\u001b[32mtitle\u001b[0m\u001b[32m=\u001b[0m\u001b[32m\"Python\u001b[0m\u001b[32m Insider Blog Posts\"\u001b[0m\u001b[32m>\u001b[0m\u001b[32mPython News\u001b[0m\u001b[32m<\u001b[0m\u001b[32m/a\u001b[0m\u001b[32m>\u001b[0m\u001b[32m<\u001b[0m\u001b[32m/li\u001b[0m\u001b[32m>\u001b[0m\u001b[32m\\n    \\n        \u001b[0m\u001b[32m<\u001b[0m\u001b[32mli\u001b[0m\u001b[32m \u001b[0m\u001b[32mclass\u001b[0m\u001b[32m=\u001b[0m\u001b[32m\"tier\u001b[0m\u001b[32m-2 element-2\" \u001b[0m\u001b[32mrole\u001b[0m\u001b[32m=\u001b[0m\u001b[32m\"treeitem\"\u001b[0m\u001b[32m>\u001b[0m\u001b[32m<\u001b[0m\u001b[32ma\u001b[0m\u001b[32m \u001b[0m\u001b[32mhref\u001b[0m\u001b[32m=\"/psf/newsletter/\" \u001b[0m\u001b[32mtitle\u001b[0m\u001b[32m=\u001b[0m\u001b[32m\"Python\u001b[0m\u001b[32m Software Foundation Newsletter\"\u001b[0m\u001b[32m>\u001b[0m\u001b[32mPSF Newsletter\u001b[0m\u001b[32m<\u001b[0m\u001b[32m/a\u001b[0m\u001b[32m>\u001b[0m\u001b[32m<\u001b[0m\u001b[32m/li\u001b[0m\u001b[32m>\u001b[0m\u001b[32m\\n    \\n        \u001b[0m\u001b[32m<\u001b[0m\u001b[32mli\u001b[0m\u001b[32m \u001b[0m\u001b[32mclass\u001b[0m\u001b[32m=\u001b[0m\u001b[32m\"tier\u001b[0m\u001b[32m-2 element-3\" \u001b[0m\u001b[32mrole\u001b[0m\u001b[32m=\u001b[0m\u001b[32m\"treeitem\"\u001b[0m\u001b[32m>\u001b[0m\u001b[32m<\u001b[0m\u001b[32ma\u001b[0m\u001b[32m \u001b[0m\u001b[32mhref\u001b[0m\u001b[32m=\u001b[0m\u001b[32m\"http\u001b[0m\u001b[32m://planetpython.org/\" \u001b[0m\u001b[32mtitle\u001b[0m\u001b[32m=\u001b[0m\u001b[32m\"Planet\u001b[0m\u001b[32m Python\"\u001b[0m\u001b[32m>\u001b[0m\u001b[32mCommunity News\u001b[0m\u001b[32m<\u001b[0m\u001b[32m/a\u001b[0m\u001b[32m>\u001b[0m\u001b[32m<\u001b[0m\u001b[32m/li\u001b[0m\u001b[32m>\u001b[0m\u001b[32m\\n    \\n        \u001b[0m\u001b[32m<\u001b[0m\u001b[32mli\u001b[0m\u001b[32m \u001b[0m\u001b[32mclass\u001b[0m\u001b[32m=\u001b[0m\u001b[32m\"tier\u001b[0m\u001b[32m-2 element-4\" \u001b[0m\u001b[32mrole\u001b[0m\u001b[32m=\u001b[0m\u001b[32m\"treeitem\"\u001b[0m\u001b[32m>\u001b[0m\u001b[32m<\u001b[0m\u001b[32ma\u001b[0m\u001b[32m \u001b[0m\u001b[32mhref\u001b[0m\u001b[32m=\u001b[0m\u001b[32m\"http\u001b[0m\u001b[32m://pyfound.blogspot.com/\" \u001b[0m\u001b[32mtitle\u001b[0m\u001b[32m=\u001b[0m\u001b[32m\"PSF\u001b[0m\u001b[32m Blog\"\u001b[0m\u001b[32m>\u001b[0m\u001b[32mPSF News\u001b[0m\u001b[32m<\u001b[0m\u001b[32m/a\u001b[0m\u001b[32m>\u001b[0m\u001b[32m<\u001b[0m\u001b[32m/li\u001b[0m\u001b[32m>\u001b[0m\u001b[32m\\n    \\n        \u001b[0m\u001b[32m<\u001b[0m\u001b[32mli\u001b[0m\u001b[32m \u001b[0m\u001b[32mclass\u001b[0m\u001b[32m=\u001b[0m\u001b[32m\"tier\u001b[0m\u001b[32m-2 element-5\" \u001b[0m\u001b[32mrole\u001b[0m\u001b[32m=\u001b[0m\u001b[32m\"treeitem\"\u001b[0m\u001b[32m>\u001b[0m\u001b[32m<\u001b[0m\u001b[32ma\u001b[0m\u001b[32m \u001b[0m\u001b[32mhref\u001b[0m\u001b[32m=\u001b[0m\u001b[32m\"http\u001b[0m\u001b[32m://pycon.blogspot.com/\" \u001b[0m\u001b[32mtitle\u001b[0m\u001b[32m=\u001b[0m\u001b[32m\"PyCon\u001b[0m\u001b[32m Blog\"\u001b[0m\u001b[32m>\u001b[0m\u001b[32mPyCon News\u001b[0m\u001b[32m<\u001b[0m\u001b[32m/a\u001b[0m\u001b[32m>\u001b[0m\u001b[32m<\u001b[0m\u001b[32m/li\u001b[0m\u001b[32m>\u001b[0m\u001b[32m\\n    \\n\u001b[0m\u001b[32m<\u001b[0m\u001b[32m/ul\u001b[0m\u001b[32m>\u001b[0m\u001b[32m\\n\\n        \\n    \u001b[0m\u001b[32m<\u001b[0m\u001b[32m/li\u001b[0m\u001b[32m>\u001b[0m\u001b[32m\\n    \\n    \\n    \\n    \u001b[0m\u001b[32m<\u001b[0m\u001b[32mli\u001b[0m\u001b[32m \u001b[0m\u001b[32mid\u001b[0m\u001b[32m=\u001b[0m\u001b[32m\"events\"\u001b[0m\u001b[32m \u001b[0m\u001b[32mclass\u001b[0m\u001b[32m=\u001b[0m\u001b[32m\"tier\u001b[0m\u001b[32m-1 element-7  \" aria-\u001b[0m\u001b[32mhaspopup\u001b[0m\u001b[32m=\u001b[0m\u001b[32m\"true\"\u001b[0m\u001b[32m>\u001b[0m\u001b[32m\\n        \u001b[0m\u001b[32m<\u001b[0m\u001b[32ma\u001b[0m\u001b[32m \u001b[0m\u001b[32mhref\u001b[0m\u001b[32m=\"/events/\" \u001b[0m\u001b[32mtitle\u001b[0m\u001b[32m=\"\" \u001b[0m\u001b[32mclass\u001b[0m\u001b[32m=\"\"\u001b[0m\u001b[32m>\u001b[0m\u001b[32mEvents\u001b[0m\u001b[32m<\u001b[0m\u001b[32m/a\u001b[0m\u001b[32m>\u001b[0m\u001b[32m\\n        \\n            \\n\\n\u001b[0m\u001b[32m<\u001b[0m\u001b[32mul\u001b[0m\u001b[32m \u001b[0m\u001b[32mclass\u001b[0m\u001b[32m=\u001b[0m\u001b[32m\"subnav\u001b[0m\u001b[32m menu\" \u001b[0m\u001b[32mrole\u001b[0m\u001b[32m=\u001b[0m\u001b[32m\"menu\"\u001b[0m\u001b[32m aria-\u001b[0m\u001b[32mhidden\u001b[0m\u001b[32m=\u001b[0m\u001b[32m\"true\"\u001b[0m\u001b[32m>\u001b[0m\u001b[32m\\n    \\n        \u001b[0m\u001b[32m<\u001b[0m\u001b[32mli\u001b[0m\u001b[32m \u001b[0m\u001b[32mclass\u001b[0m\u001b[32m=\u001b[0m\u001b[32m\"tier\u001b[0m\u001b[32m-2 element-1\" \u001b[0m\u001b[32mrole\u001b[0m\u001b[32m=\u001b[0m\u001b[32m\"treeitem\"\u001b[0m\u001b[32m>\u001b[0m\u001b[32m<\u001b[0m\u001b[32ma\u001b[0m\u001b[32m \u001b[0m\u001b[32mhref\u001b[0m\u001b[32m=\"/events/python-events/\" \u001b[0m\u001b[32mtitle\u001b[0m\u001b[32m=\"\"\u001b[0m\u001b[32m>\u001b[0m\u001b[32mPython Events\u001b[0m\u001b[32m<\u001b[0m\u001b[32m/a\u001b[0m\u001b[32m>\u001b[0m\u001b[32m<\u001b[0m\u001b[32m/li\u001b[0m\u001b[32m>\u001b[0m\u001b[32m\\n    \\n        \u001b[0m\u001b[32m<\u001b[0m\u001b[32mli\u001b[0m\u001b[32m \u001b[0m\u001b[32mclass\u001b[0m\u001b[32m=\u001b[0m\u001b[32m\"tier\u001b[0m\u001b[32m-2 element-2\" \u001b[0m\u001b[32mrole\u001b[0m\u001b[32m=\u001b[0m\u001b[32m\"treeitem\"\u001b[0m\u001b[32m>\u001b[0m\u001b[32m<\u001b[0m\u001b[32ma\u001b[0m\u001b[32m \u001b[0m\u001b[32mhref\u001b[0m\u001b[32m=\"/events/python-user-group/\" \u001b[0m\u001b[32mtitle\u001b[0m\u001b[32m=\"\"\u001b[0m\u001b[32m>\u001b[0m\u001b[32mUser Group Events\u001b[0m\u001b[32m<\u001b[0m\u001b[32m/a\u001b[0m\u001b[32m>\u001b[0m\u001b[32m<\u001b[0m\u001b[32m/li\u001b[0m\u001b[32m>\u001b[0m\u001b[32m\\n    \\n        \u001b[0m\u001b[32m<\u001b[0m\u001b[32mli\u001b[0m\u001b[32m \u001b[0m\u001b[32mclass\u001b[0m\u001b[32m=\u001b[0m\u001b[32m\"tier\u001b[0m\u001b[32m-2 element-3\" \u001b[0m\u001b[32mrole\u001b[0m\u001b[32m=\u001b[0m\u001b[32m\"treeitem\"\u001b[0m\u001b[32m>\u001b[0m\u001b[32m<\u001b[0m\u001b[32ma\u001b[0m\u001b[32m \u001b[0m\u001b[32mhref\u001b[0m\u001b[32m=\"/events/python-events/past/\" \u001b[0m\u001b[32mtitle\u001b[0m\u001b[32m=\"\"\u001b[0m\u001b[32m>\u001b[0m\u001b[32mPython Events Archive\u001b[0m\u001b[32m<\u001b[0m\u001b[32m/a\u001b[0m\u001b[32m>\u001b[0m\u001b[32m<\u001b[0m\u001b[32m/li\u001b[0m\u001b[32m>\u001b[0m\u001b[32m\\n    \\n        \u001b[0m\u001b[32m<\u001b[0m\u001b[32mli\u001b[0m\u001b[32m \u001b[0m\u001b[32mclass\u001b[0m\u001b[32m=\u001b[0m\u001b[32m\"tier\u001b[0m\u001b[32m-2 element-4\" \u001b[0m\u001b[32mrole\u001b[0m\u001b[32m=\u001b[0m\u001b[32m\"treeitem\"\u001b[0m\u001b[32m>\u001b[0m\u001b[32m<\u001b[0m\u001b[32ma\u001b[0m\u001b[32m \u001b[0m\u001b[32mhref\u001b[0m\u001b[32m=\"/events/python-user-group/past/\" \u001b[0m\u001b[32mtitle\u001b[0m\u001b[32m=\"\"\u001b[0m\u001b[32m>\u001b[0m\u001b[32mUser Group Events Archive\u001b[0m\u001b[32m<\u001b[0m\u001b[32m/a\u001b[0m\u001b[32m>\u001b[0m\u001b[32m<\u001b[0m\u001b[32m/li\u001b[0m\u001b[32m>\u001b[0m\u001b[32m\\n    \\n        \u001b[0m\u001b[32m<\u001b[0m\u001b[32mli\u001b[0m\u001b[32m \u001b[0m\u001b[32mclass\u001b[0m\u001b[32m=\u001b[0m\u001b[32m\"tier\u001b[0m\u001b[32m-2 element-5\" \u001b[0m\u001b[32mrole\u001b[0m\u001b[32m=\u001b[0m\u001b[32m\"treeitem\"\u001b[0m\u001b[32m>\u001b[0m\u001b[32m<\u001b[0m\u001b[32ma\u001b[0m\u001b[32m \u001b[0m\u001b[32mhref\u001b[0m\u001b[32m=\u001b[0m\u001b[32m\"https\u001b[0m\u001b[32m://wiki.python.org/moin/PythonEventsCalendar#Submitting_an_Event\" \u001b[0m\u001b[32mtitle\u001b[0m\u001b[32m=\"\"\u001b[0m\u001b[32m>\u001b[0m\u001b[32mSubmit an Event\u001b[0m\u001b[32m<\u001b[0m\u001b[32m/a\u001b[0m\u001b[32m>\u001b[0m\u001b[32m<\u001b[0m\u001b[32m/li\u001b[0m\u001b[32m>\u001b[0m\u001b[32m\\n    \\n\u001b[0m\u001b[32m<\u001b[0m\u001b[32m/ul\u001b[0m\u001b[32m>\u001b[0m\u001b[32m\\n\\n        \\n    \u001b[0m\u001b[32m<\u001b[0m\u001b[32m/li\u001b[0m\u001b[32m>\u001b[0m\u001b[32m\\n    \\n    \\n    \\n    \\n  \\n\u001b[0m\u001b[32m<\u001b[0m\u001b[32m/ul\u001b[0m\u001b[32m>\u001b[0m\u001b[32m\\n\\n                    \\n                \u001b[0m\u001b[32m<\u001b[0m\u001b[32m/nav\u001b[0m\u001b[32m>\u001b[0m\u001b[32m\\n\\n                \u001b[0m\u001b[32m<\u001b[0m\u001b[32mdiv\u001b[0m\u001b[32m \u001b[0m\u001b[32mclass\u001b[0m\u001b[32m=\u001b[0m\u001b[32m\"header\u001b[0m\u001b[32m-banner \"\u001b[0m\u001b[32m>\u001b[0m\u001b[32m \u001b[0m\u001b[32m<\u001b[0m\u001b[32m!-- for optional \"do-not-print\" class --\u001b[0m\u001b[32m>\u001b[0m\u001b[32m\\n                    \\n        \u001b[0m\u001b[32m<\u001b[0m\u001b[32mdiv\u001b[0m\u001b[32m \u001b[0m\u001b[32mid\u001b[0m\u001b[32m=\u001b[0m\u001b[32m\"dive\u001b[0m\u001b[32m-into-python\" \u001b[0m\u001b[32mclass\u001b[0m\u001b[32m=\u001b[0m\u001b[32m\"flex\u001b[0m\u001b[32m-slideshow slideshow\"\u001b[0m\u001b[32m>\u001b[0m\u001b[32m\\n\\n            \u001b[0m\u001b[32m<\u001b[0m\u001b[32mul\u001b[0m\u001b[32m \u001b[0m\u001b[32mclass\u001b[0m\u001b[32m=\u001b[0m\u001b[32m\"launch\u001b[0m\u001b[32m-shell menu\" \u001b[0m\u001b[32mid\u001b[0m\u001b[32m=\u001b[0m\u001b[32m\"launch\u001b[0m\u001b[32m-shell\"\u001b[0m\u001b[32m>\u001b[0m\u001b[32m\\n                \u001b[0m\u001b[32m<\u001b[0m\u001b[32mli\u001b[0m\u001b[32m>\u001b[0m\u001b[32m\\n                    \u001b[0m\u001b[32m<\u001b[0m\u001b[32ma\u001b[0m\u001b[32m \u001b[0m\u001b[32mclass\u001b[0m\u001b[32m=\u001b[0m\u001b[32m\"button\u001b[0m\u001b[32m prompt\" \u001b[0m\u001b[32mid\u001b[0m\u001b[32m=\u001b[0m\u001b[32m\"start\u001b[0m\u001b[32m-shell\" data-shell-\u001b[0m\u001b[32mcontainer\u001b[0m\u001b[32m=\"#dive-into-python\" \u001b[0m\u001b[32mhref\u001b[0m\u001b[32m=\"/shell/\"\u001b[0m\u001b[32m>\u001b[0m\u001b[32m&gt;_\\n                        \u001b[0m\u001b[32m<\u001b[0m\u001b[32mspan\u001b[0m\u001b[32m \u001b[0m\u001b[32mclass\u001b[0m\u001b[32m=\u001b[0m\u001b[32m\"message\"\u001b[0m\u001b[32m>\u001b[0m\u001b[32mLaunch Interactive Shell\u001b[0m\u001b[32m<\u001b[0m\u001b[32m/span\u001b[0m\u001b[32m>\u001b[0m\u001b[32m\\n                    \u001b[0m\u001b[32m<\u001b[0m\u001b[32m/a\u001b[0m\u001b[32m>\u001b[0m\u001b[32m\\n                \u001b[0m\u001b[32m<\u001b[0m\u001b[32m/li\u001b[0m\u001b[32m>\u001b[0m\u001b[32m\\n            \u001b[0m\u001b[32m<\u001b[0m\u001b[32m/ul\u001b[0m\u001b[32m>\u001b[0m\u001b[32m\\n\\n            \u001b[0m\u001b[32m<\u001b[0m\u001b[32mul\u001b[0m\u001b[32m \u001b[0m\u001b[32mclass\u001b[0m\u001b[32m=\u001b[0m\u001b[32m\"slides\u001b[0m\u001b[32m menu\"\u001b[0m\u001b[32m>\u001b[0m\u001b[32m\\n                \\n                \u001b[0m\u001b[32m<\u001b[0m\u001b[32mli\u001b[0m\u001b[32m>\u001b[0m\u001b[32m\\n                    \u001b[0m\u001b[32m<\u001b[0m\u001b[32mdiv\u001b[0m\u001b[32m \u001b[0m\u001b[32mclass\u001b[0m\u001b[32m=\u001b[0m\u001b[32m\"slide\u001b[0m\u001b[32m-code\"\u001b[0m\u001b[32m>\u001b[0m\u001b[32m<\u001b[0m\u001b[32mpre\u001b[0m\u001b[32m>\u001b[0m\u001b[32m<\u001b[0m\u001b[32mcode\u001b[0m\u001b[32m>\u001b[0m\u001b[32m<\u001b[0m\u001b[32mspan\u001b[0m\u001b[32m \u001b[0m\u001b[32mclass\u001b[0m\u001b[32m=\u001b[0m\u001b[32m\"comment\"\u001b[0m\u001b[32m>\u001b[0m\u001b[32m# Python 3: Fibonacci series up to n\u001b[0m\u001b[32m<\u001b[0m\u001b[32m/span\u001b[0m\u001b[32m>\u001b[0m\u001b[32m\\r\\n>>> def fib\u001b[0m\u001b[32m(\u001b[0m\u001b[32mn\u001b[0m\u001b[32m)\u001b[0m\u001b[32m:\\r\\n>>>     a, b = 0, 1\\r\\n>>>     while a &lt; n:\\r\\n>>>         print\u001b[0m\u001b[32m(\u001b[0m\u001b[32ma, \u001b[0m\u001b[32mend\u001b[0m\u001b[32m=\\' \\'\u001b[0m\u001b[32m)\u001b[0m\u001b[32m\\r\\n>>>         a, b = b, a+b\\r\\n>>>     print\u001b[0m\u001b[32m(\u001b[0m\u001b[32m)\u001b[0m\u001b[32m\\r\\n>>> fib\u001b[0m\u001b[32m(\u001b[0m\u001b[32m1000\u001b[0m\u001b[32m)\u001b[0m\u001b[32m\\r\\n\u001b[0m\u001b[32m<\u001b[0m\u001b[32mspan\u001b[0m\u001b[32m \u001b[0m\u001b[32mclass\u001b[0m\u001b[32m=\u001b[0m\u001b[32m\"output\"\u001b[0m\u001b[32m>\u001b[0m\u001b[32m0 1 1 2 3 5 8 13 21 34 55 89 144 233 377 610 987\u001b[0m\u001b[32m<\u001b[0m\u001b[32m/span\u001b[0m\u001b[32m>\u001b[0m\u001b[32m<\u001b[0m\u001b[32m/code\u001b[0m\u001b[32m>\u001b[0m\u001b[32m<\u001b[0m\u001b[32m/pre\u001b[0m\u001b[32m>\u001b[0m\u001b[32m<\u001b[0m\u001b[32m/div\u001b[0m\u001b[32m>\u001b[0m\u001b[32m\\n                    \u001b[0m\u001b[32m<\u001b[0m\u001b[32mdiv\u001b[0m\u001b[32m \u001b[0m\u001b[32mclass\u001b[0m\u001b[32m=\u001b[0m\u001b[32m\"slide\u001b[0m\u001b[32m-copy\"\u001b[0m\u001b[32m>\u001b[0m\u001b[32m<\u001b[0m\u001b[32mh1\u001b[0m\u001b[32m>\u001b[0m\u001b[32mFunctions Defined\u001b[0m\u001b[32m<\u001b[0m\u001b[32m/h1\u001b[0m\u001b[32m>\u001b[0m\u001b[32m\\r\\n\u001b[0m\u001b[32m<\u001b[0m\u001b[32mp\u001b[0m\u001b[32m>\u001b[0m\u001b[32mThe core of extensible programming is defining functions. Python allows mandatory and optional arguments, keyword arguments, and even arbitrary argument lists. \u001b[0m\u001b[32m<\u001b[0m\u001b[32ma\u001b[0m\u001b[32m \u001b[0m\u001b[32mhref\u001b[0m\u001b[32m=\"//docs.python.org/3/tutorial/controlflow.html#defining-functions\"\u001b[0m\u001b[32m>\u001b[0m\u001b[32mMore about defining functions in Python&nbsp;3\u001b[0m\u001b[32m<\u001b[0m\u001b[32m/a\u001b[0m\u001b[32m>\u001b[0m\u001b[32m<\u001b[0m\u001b[32m/p\u001b[0m\u001b[32m>\u001b[0m\u001b[32m<\u001b[0m\u001b[32m/div\u001b[0m\u001b[32m>\u001b[0m\u001b[32m\\n                \u001b[0m\u001b[32m<\u001b[0m\u001b[32m/li\u001b[0m\u001b[32m>\u001b[0m\u001b[32m\\n                \\n                \u001b[0m\u001b[32m<\u001b[0m\u001b[32mli\u001b[0m\u001b[32m>\u001b[0m\u001b[32m\\n                    \u001b[0m\u001b[32m<\u001b[0m\u001b[32mdiv\u001b[0m\u001b[32m \u001b[0m\u001b[32mclass\u001b[0m\u001b[32m=\u001b[0m\u001b[32m\"slide\u001b[0m\u001b[32m-code\"\u001b[0m\u001b[32m>\u001b[0m\u001b[32m<\u001b[0m\u001b[32mpre\u001b[0m\u001b[32m>\u001b[0m\u001b[32m<\u001b[0m\u001b[32mcode\u001b[0m\u001b[32m>\u001b[0m\u001b[32m<\u001b[0m\u001b[32mspan\u001b[0m\u001b[32m \u001b[0m\u001b[32mclass\u001b[0m\u001b[32m=\u001b[0m\u001b[32m\"comment\"\u001b[0m\u001b[32m>\u001b[0m\u001b[32m# Python 3: List comprehensions\u001b[0m\u001b[32m<\u001b[0m\u001b[32m/span\u001b[0m\u001b[32m>\u001b[0m\u001b[32m\\r\\n>>> fruits = \u001b[0m\u001b[32m[\u001b[0m\u001b[32m\\'Banana\\', \\'Apple\\', \\'Lime\\'\u001b[0m\u001b[32m]\u001b[0m\u001b[32m\\r\\n>>> loud_fruits = \u001b[0m\u001b[32m[\u001b[0m\u001b[32mfruit.upper\u001b[0m\u001b[32m(\u001b[0m\u001b[32m)\u001b[0m\u001b[32m for fruit in fruits\u001b[0m\u001b[32m]\u001b[0m\u001b[32m\\r\\n>>> print\u001b[0m\u001b[32m(\u001b[0m\u001b[32mloud_fruits\u001b[0m\u001b[32m)\u001b[0m\u001b[32m\\r\\n\u001b[0m\u001b[32m<\u001b[0m\u001b[32mspan\u001b[0m\u001b[32m \u001b[0m\u001b[32mclass\u001b[0m\u001b[32m=\u001b[0m\u001b[32m\"output\"\u001b[0m\u001b[32m>\u001b[0m\u001b[32m[\u001b[0m\u001b[32m\\'BANANA\\', \\'APPLE\\', \\'LIME\\'\u001b[0m\u001b[32m]\u001b[0m\u001b[32m<\u001b[0m\u001b[32m/span\u001b[0m\u001b[32m>\u001b[0m\u001b[32m\\r\\n\\r\\n\u001b[0m\u001b[32m<\u001b[0m\u001b[32mspan\u001b[0m\u001b[32m \u001b[0m\u001b[32mclass\u001b[0m\u001b[32m=\u001b[0m\u001b[32m\"comment\"\u001b[0m\u001b[32m>\u001b[0m\u001b[32m# List and the enumerate function\u001b[0m\u001b[32m<\u001b[0m\u001b[32m/span\u001b[0m\u001b[32m>\u001b[0m\u001b[32m\\r\\n>>> list\u001b[0m\u001b[32m(\u001b[0m\u001b[32menumerate\u001b[0m\u001b[32m(\u001b[0m\u001b[32mfruits\u001b[0m\u001b[32m)\u001b[0m\u001b[32m)\u001b[0m\u001b[32m\\r\\n\u001b[0m\u001b[32m<\u001b[0m\u001b[32mspan\u001b[0m\u001b[32m \u001b[0m\u001b[32mclass\u001b[0m\u001b[32m=\u001b[0m\u001b[32m\"output\"\u001b[0m\u001b[32m>\u001b[0m\u001b[32m[\u001b[0m\u001b[32m(\u001b[0m\u001b[32m0, \\'Banana\\'\u001b[0m\u001b[32m)\u001b[0m\u001b[32m, \u001b[0m\u001b[32m(\u001b[0m\u001b[32m1, \\'Apple\\'\u001b[0m\u001b[32m)\u001b[0m\u001b[32m, \u001b[0m\u001b[32m(\u001b[0m\u001b[32m2, \\'Lime\\'\u001b[0m\u001b[32m)\u001b[0m\u001b[32m]\u001b[0m\u001b[32m<\u001b[0m\u001b[32m/span\u001b[0m\u001b[32m>\u001b[0m\u001b[32m<\u001b[0m\u001b[32m/code\u001b[0m\u001b[32m>\u001b[0m\u001b[32m<\u001b[0m\u001b[32m/pre\u001b[0m\u001b[32m>\u001b[0m\u001b[32m<\u001b[0m\u001b[32m/div\u001b[0m\u001b[32m>\u001b[0m\u001b[32m\\n                    \u001b[0m\u001b[32m<\u001b[0m\u001b[32mdiv\u001b[0m\u001b[32m \u001b[0m\u001b[32mclass\u001b[0m\u001b[32m=\u001b[0m\u001b[32m\"slide\u001b[0m\u001b[32m-copy\"\u001b[0m\u001b[32m>\u001b[0m\u001b[32m<\u001b[0m\u001b[32mh1\u001b[0m\u001b[32m>\u001b[0m\u001b[32mCompound Data Types\u001b[0m\u001b[32m<\u001b[0m\u001b[32m/h1\u001b[0m\u001b[32m>\u001b[0m\u001b[32m\\r\\n\u001b[0m\u001b[32m<\u001b[0m\u001b[32mp\u001b[0m\u001b[32m>\u001b[0m\u001b[32mLists \u001b[0m\u001b[32m(\u001b[0m\u001b[32mknown as arrays in other languages\u001b[0m\u001b[32m)\u001b[0m\u001b[32m are one of the compound data types that Python understands. Lists can be indexed, sliced and manipulated with other built-in functions. \u001b[0m\u001b[32m<\u001b[0m\u001b[32ma\u001b[0m\u001b[32m \u001b[0m\u001b[32mhref\u001b[0m\u001b[32m=\"//docs.python.org/3/tutorial/introduction.html#lists\"\u001b[0m\u001b[32m>\u001b[0m\u001b[32mMore about lists in Python&nbsp;3\u001b[0m\u001b[32m<\u001b[0m\u001b[32m/a\u001b[0m\u001b[32m>\u001b[0m\u001b[32m<\u001b[0m\u001b[32m/p\u001b[0m\u001b[32m>\u001b[0m\u001b[32m<\u001b[0m\u001b[32m/div\u001b[0m\u001b[32m>\u001b[0m\u001b[32m\\n                \u001b[0m\u001b[32m<\u001b[0m\u001b[32m/li\u001b[0m\u001b[32m>\u001b[0m\u001b[32m\\n                \\n                \u001b[0m\u001b[32m<\u001b[0m\u001b[32mli\u001b[0m\u001b[32m>\u001b[0m\u001b[32m\\n                    \u001b[0m\u001b[32m<\u001b[0m\u001b[32mdiv\u001b[0m\u001b[32m \u001b[0m\u001b[32mclass\u001b[0m\u001b[32m=\u001b[0m\u001b[32m\"slide\u001b[0m\u001b[32m-code\"\u001b[0m\u001b[32m>\u001b[0m\u001b[32m<\u001b[0m\u001b[32mpre\u001b[0m\u001b[32m>\u001b[0m\u001b[32m<\u001b[0m\u001b[32mcode\u001b[0m\u001b[32m>\u001b[0m\u001b[32m<\u001b[0m\u001b[32mspan\u001b[0m\u001b[32m \u001b[0m\u001b[32mclass\u001b[0m\u001b[32m=\u001b[0m\u001b[32m\"comment\"\u001b[0m\u001b[32m>\u001b[0m\u001b[32m# Python 3: Simple arithmetic\u001b[0m\u001b[32m<\u001b[0m\u001b[32m/span\u001b[0m\u001b[32m>\u001b[0m\u001b[32m\\r\\n>>> 1 / 2\\r\\n\u001b[0m\u001b[32m<\u001b[0m\u001b[32mspan\u001b[0m\u001b[32m \u001b[0m\u001b[32mclass\u001b[0m\u001b[32m=\u001b[0m\u001b[32m\"output\"\u001b[0m\u001b[32m>\u001b[0m\u001b[32m0.5\u001b[0m\u001b[32m<\u001b[0m\u001b[32m/span\u001b[0m\u001b[32m>\u001b[0m\u001b[32m\\r\\n>>> 2 ** 3\\r\\n\u001b[0m\u001b[32m<\u001b[0m\u001b[32mspan\u001b[0m\u001b[32m \u001b[0m\u001b[32mclass\u001b[0m\u001b[32m=\u001b[0m\u001b[32m\"output\"\u001b[0m\u001b[32m>\u001b[0m\u001b[32m8\u001b[0m\u001b[32m<\u001b[0m\u001b[32m/span\u001b[0m\u001b[32m>\u001b[0m\u001b[32m\\r\\n>>> 17 / 3  \u001b[0m\u001b[32m<\u001b[0m\u001b[32mspan\u001b[0m\u001b[32m \u001b[0m\u001b[32mclass\u001b[0m\u001b[32m=\u001b[0m\u001b[32m\"comment\"\u001b[0m\u001b[32m>\u001b[0m\u001b[32m# classic division returns a float\u001b[0m\u001b[32m<\u001b[0m\u001b[32m/span\u001b[0m\u001b[32m>\u001b[0m\u001b[32m\\r\\n\u001b[0m\u001b[32m<\u001b[0m\u001b[32mspan\u001b[0m\u001b[32m \u001b[0m\u001b[32mclass\u001b[0m\u001b[32m=\u001b[0m\u001b[32m\"output\"\u001b[0m\u001b[32m>\u001b[0m\u001b[32m5.666666666666667\u001b[0m\u001b[32m<\u001b[0m\u001b[32m/span\u001b[0m\u001b[32m>\u001b[0m\u001b[32m\\r\\n>>> 17 // 3  \u001b[0m\u001b[32m<\u001b[0m\u001b[32mspan\u001b[0m\u001b[32m \u001b[0m\u001b[32mclass\u001b[0m\u001b[32m=\u001b[0m\u001b[32m\"comment\"\u001b[0m\u001b[32m>\u001b[0m\u001b[32m# floor division\u001b[0m\u001b[32m<\u001b[0m\u001b[32m/span\u001b[0m\u001b[32m>\u001b[0m\u001b[32m\\r\\n\u001b[0m\u001b[32m<\u001b[0m\u001b[32mspan\u001b[0m\u001b[32m \u001b[0m\u001b[32mclass\u001b[0m\u001b[32m=\u001b[0m\u001b[32m\"output\"\u001b[0m\u001b[32m>\u001b[0m\u001b[32m5\u001b[0m\u001b[32m<\u001b[0m\u001b[32m/span\u001b[0m\u001b[32m>\u001b[0m\u001b[32m<\u001b[0m\u001b[32m/code\u001b[0m\u001b[32m>\u001b[0m\u001b[32m<\u001b[0m\u001b[32m/pre\u001b[0m\u001b[32m>\u001b[0m\u001b[32m<\u001b[0m\u001b[32m/div\u001b[0m\u001b[32m>\u001b[0m\u001b[32m\\n                    \u001b[0m\u001b[32m<\u001b[0m\u001b[32mdiv\u001b[0m\u001b[32m \u001b[0m\u001b[32mclass\u001b[0m\u001b[32m=\u001b[0m\u001b[32m\"slide\u001b[0m\u001b[32m-copy\"\u001b[0m\u001b[32m>\u001b[0m\u001b[32m<\u001b[0m\u001b[32mh1\u001b[0m\u001b[32m>\u001b[0m\u001b[32mIntuitive Interpretation\u001b[0m\u001b[32m<\u001b[0m\u001b[32m/h1\u001b[0m\u001b[32m>\u001b[0m\u001b[32m\\r\\n\u001b[0m\u001b[32m<\u001b[0m\u001b[32mp\u001b[0m\u001b[32m>\u001b[0m\u001b[32mCalculations are simple with Python, and expression syntax is straightforward: the operators \u001b[0m\u001b[32m<\u001b[0m\u001b[32mcode\u001b[0m\u001b[32m>\u001b[0m\u001b[32m+\u001b[0m\u001b[32m<\u001b[0m\u001b[32m/code\u001b[0m\u001b[32m>\u001b[0m\u001b[32m, \u001b[0m\u001b[32m<\u001b[0m\u001b[32mcode\u001b[0m\u001b[32m>\u001b[0m\u001b[32m-\u001b[0m\u001b[32m<\u001b[0m\u001b[32m/code\u001b[0m\u001b[32m>\u001b[0m\u001b[32m, \u001b[0m\u001b[32m<\u001b[0m\u001b[32mcode\u001b[0m\u001b[32m>\u001b[0m\u001b[32m*\u001b[0m\u001b[32m<\u001b[0m\u001b[32m/code\u001b[0m\u001b[32m>\u001b[0m\u001b[32m and \u001b[0m\u001b[32m<\u001b[0m\u001b[32mcode\u001b[0m\u001b[32m>\u001b[0m\u001b[32m/\u001b[0m\u001b[32m<\u001b[0m\u001b[32m/code\u001b[0m\u001b[32m>\u001b[0m\u001b[32m work as expected; parentheses \u001b[0m\u001b[32m<\u001b[0m\u001b[32mcode\u001b[0m\u001b[32m>\u001b[0m\u001b[32m(\u001b[0m\u001b[32m)\u001b[0m\u001b[32m<\u001b[0m\u001b[32m/code\u001b[0m\u001b[32m>\u001b[0m\u001b[32m can be used for grouping. \u001b[0m\u001b[32m<\u001b[0m\u001b[32ma\u001b[0m\u001b[32m \u001b[0m\u001b[32mhref\u001b[0m\u001b[32m=\u001b[0m\u001b[32m\"http\u001b[0m\u001b[32m://docs.python.org/3/tutorial/introduction.html#using-python-as-a-calculator\"\u001b[0m\u001b[32m>\u001b[0m\u001b[32mMore about simple math functions in Python&nbsp;3\u001b[0m\u001b[32m<\u001b[0m\u001b[32m/a\u001b[0m\u001b[32m>\u001b[0m\u001b[32m.\u001b[0m\u001b[32m<\u001b[0m\u001b[32m/p\u001b[0m\u001b[32m>\u001b[0m\u001b[32m<\u001b[0m\u001b[32m/div\u001b[0m\u001b[32m>\u001b[0m\u001b[32m\\n                \u001b[0m\u001b[32m<\u001b[0m\u001b[32m/li\u001b[0m\u001b[32m>\u001b[0m\u001b[32m\\n                \\n                \u001b[0m\u001b[32m<\u001b[0m\u001b[32mli\u001b[0m\u001b[32m>\u001b[0m\u001b[32m\\n                    \u001b[0m\u001b[32m<\u001b[0m\u001b[32mdiv\u001b[0m\u001b[32m \u001b[0m\u001b[32mclass\u001b[0m\u001b[32m=\u001b[0m\u001b[32m\"slide\u001b[0m\u001b[32m-code\"\u001b[0m\u001b[32m>\u001b[0m\u001b[32m<\u001b[0m\u001b[32mpre\u001b[0m\u001b[32m>\u001b[0m\u001b[32m<\u001b[0m\u001b[32mcode\u001b[0m\u001b[32m>\u001b[0m\u001b[32m<\u001b[0m\u001b[32mspan\u001b[0m\u001b[32m \u001b[0m\u001b[32mclass\u001b[0m\u001b[32m=\u001b[0m\u001b[32m\"comment\"\u001b[0m\u001b[32m>\u001b[0m\u001b[32m# Python 3: Simple output \u001b[0m\u001b[32m(\u001b[0m\u001b[32mwith Unicode\u001b[0m\u001b[32m)\u001b[0m\u001b[32m<\u001b[0m\u001b[32m/span\u001b[0m\u001b[32m>\u001b[0m\u001b[32m\\r\\n>>> print\u001b[0m\u001b[32m(\u001b[0m\u001b[32m\"Hello, I\\'m Python!\"\u001b[0m\u001b[32m)\u001b[0m\u001b[32m\\r\\n\u001b[0m\u001b[32m<\u001b[0m\u001b[32mspan\u001b[0m\u001b[32m \u001b[0m\u001b[32mclass\u001b[0m\u001b[32m=\u001b[0m\u001b[32m\"output\"\u001b[0m\u001b[32m>\u001b[0m\u001b[32mHello, I\\'m Python!\u001b[0m\u001b[32m<\u001b[0m\u001b[32m/span\u001b[0m\u001b[32m>\u001b[0m\u001b[32m\\r\\n\\r\\n\u001b[0m\u001b[32m<\u001b[0m\u001b[32mspan\u001b[0m\u001b[32m \u001b[0m\u001b[32mclass\u001b[0m\u001b[32m=\u001b[0m\u001b[32m\"comment\"\u001b[0m\u001b[32m>\u001b[0m\u001b[32m# Input, assignment\u001b[0m\u001b[32m<\u001b[0m\u001b[32m/span\u001b[0m\u001b[32m>\u001b[0m\u001b[32m\\r\\n>>> name = input\u001b[0m\u001b[32m(\u001b[0m\u001b[32m\\'What is your name?\\\\n\\'\u001b[0m\u001b[32m)\u001b[0m\u001b[32m\\r\\n>>> print\u001b[0m\u001b[32m(\u001b[0m\u001b[32m\\'Hi, %s.\\' % name\u001b[0m\u001b[32m)\u001b[0m\u001b[32m\\r\\n\u001b[0m\u001b[32m<\u001b[0m\u001b[32mspan\u001b[0m\u001b[32m \u001b[0m\u001b[32mclass\u001b[0m\u001b[32m=\u001b[0m\u001b[32m\"output\"\u001b[0m\u001b[32m>\u001b[0m\u001b[32mWhat is your name?\\r\\nPython\\r\\nHi, Python.\u001b[0m\u001b[32m<\u001b[0m\u001b[32m/span\u001b[0m\u001b[32m>\u001b[0m\u001b[32m<\u001b[0m\u001b[32m/code\u001b[0m\u001b[32m>\u001b[0m\u001b[32m<\u001b[0m\u001b[32m/pre\u001b[0m\u001b[32m>\u001b[0m\u001b[32m<\u001b[0m\u001b[32m/div\u001b[0m\u001b[32m>\u001b[0m\u001b[32m\\n                    \u001b[0m\u001b[32m<\u001b[0m\u001b[32mdiv\u001b[0m\u001b[32m \u001b[0m\u001b[32mclass\u001b[0m\u001b[32m=\u001b[0m\u001b[32m\"slide\u001b[0m\u001b[32m-copy\"\u001b[0m\u001b[32m>\u001b[0m\u001b[32m<\u001b[0m\u001b[32mh1\u001b[0m\u001b[32m>\u001b[0m\u001b[32mQuick &amp; Easy to Learn\u001b[0m\u001b[32m<\u001b[0m\u001b[32m/h1\u001b[0m\u001b[32m>\u001b[0m\u001b[32m\\r\\n\u001b[0m\u001b[32m<\u001b[0m\u001b[32mp\u001b[0m\u001b[32m>\u001b[0m\u001b[32mExperienced programmers in any other language can pick up Python very quickly, and beginners find the clean syntax and indentation structure easy to learn. \u001b[0m\u001b[32m<\u001b[0m\u001b[32ma\u001b[0m\u001b[32m \u001b[0m\u001b[32mhref\u001b[0m\u001b[32m=\"//docs.python.org/3/tutorial/\"\u001b[0m\u001b[32m>\u001b[0m\u001b[32mWhet your appetite\u001b[0m\u001b[32m<\u001b[0m\u001b[32m/a\u001b[0m\u001b[32m>\u001b[0m\u001b[32m with our Python&nbsp;3 overview.\u001b[0m\u001b[32m<\u001b[0m\u001b[32m/p\u001b[0m\u001b[32m>\u001b[0m\u001b[32m\\r\\n                   \u001b[0m\u001b[32m<\u001b[0m\u001b[32m/div\u001b[0m\u001b[32m>\u001b[0m\u001b[32m\\n                \u001b[0m\u001b[32m<\u001b[0m\u001b[32m/li\u001b[0m\u001b[32m>\u001b[0m\u001b[32m\\n                \\n                \u001b[0m\u001b[32m<\u001b[0m\u001b[32mli\u001b[0m\u001b[32m>\u001b[0m\u001b[32m\\n                    \u001b[0m\u001b[32m<\u001b[0m\u001b[32mdiv\u001b[0m\u001b[32m \u001b[0m\u001b[32mclass\u001b[0m\u001b[32m=\u001b[0m\u001b[32m\"slide\u001b[0m\u001b[32m-code\"\u001b[0m\u001b[32m>\u001b[0m\u001b[32m<\u001b[0m\u001b[32mpre\u001b[0m\u001b[32m>\u001b[0m\u001b[32m<\u001b[0m\u001b[32mcode\u001b[0m\u001b[32m>\u001b[0m\u001b[32m<\u001b[0m\u001b[32mspan\u001b[0m\u001b[32m \u001b[0m\u001b[32mclass\u001b[0m\u001b[32m=\u001b[0m\u001b[32m\"comment\"\u001b[0m\u001b[32m>\u001b[0m\u001b[32m# For loop on a list\u001b[0m\u001b[32m<\u001b[0m\u001b[32m/span\u001b[0m\u001b[32m>\u001b[0m\u001b[32m\\r\\n>>> numbers = \u001b[0m\u001b[32m[\u001b[0m\u001b[32m2, 4, 6, 8\u001b[0m\u001b[32m]\u001b[0m\u001b[32m\\r\\n>>> product = 1\\r\\n>>> for number in numbers:\\r\\n...    product = product * number\\r\\n... \\r\\n>>> print\u001b[0m\u001b[32m(\u001b[0m\u001b[32m\\'The product is:\\', product\u001b[0m\u001b[32m)\u001b[0m\u001b[32m\\r\\n\u001b[0m\u001b[32m<\u001b[0m\u001b[32mspan\u001b[0m\u001b[32m \u001b[0m\u001b[32mclass\u001b[0m\u001b[32m=\u001b[0m\u001b[32m\"output\"\u001b[0m\u001b[32m>\u001b[0m\u001b[32mThe product is: 384\u001b[0m\u001b[32m<\u001b[0m\u001b[32m/span\u001b[0m\u001b[32m>\u001b[0m\u001b[32m<\u001b[0m\u001b[32m/code\u001b[0m\u001b[32m>\u001b[0m\u001b[32m<\u001b[0m\u001b[32m/pre\u001b[0m\u001b[32m>\u001b[0m\u001b[32m<\u001b[0m\u001b[32m/div\u001b[0m\u001b[32m>\u001b[0m\u001b[32m\\n                    \u001b[0m\u001b[32m<\u001b[0m\u001b[32mdiv\u001b[0m\u001b[32m \u001b[0m\u001b[32mclass\u001b[0m\u001b[32m=\u001b[0m\u001b[32m\"slide\u001b[0m\u001b[32m-copy\"\u001b[0m\u001b[32m>\u001b[0m\u001b[32m<\u001b[0m\u001b[32mh1\u001b[0m\u001b[32m>\u001b[0m\u001b[32mAll the Flow You&rsquo;d Expect\u001b[0m\u001b[32m<\u001b[0m\u001b[32m/h1\u001b[0m\u001b[32m>\u001b[0m\u001b[32m\\r\\n\u001b[0m\u001b[32m<\u001b[0m\u001b[32mp\u001b[0m\u001b[32m>\u001b[0m\u001b[32mPython knows the usual control flow statements that other languages speak &mdash; \u001b[0m\u001b[32m<\u001b[0m\u001b[32mcode\u001b[0m\u001b[32m>\u001b[0m\u001b[32mif\u001b[0m\u001b[32m<\u001b[0m\u001b[32m/code\u001b[0m\u001b[32m>\u001b[0m\u001b[32m, \u001b[0m\u001b[32m<\u001b[0m\u001b[32mcode\u001b[0m\u001b[32m>\u001b[0m\u001b[32mfor\u001b[0m\u001b[32m<\u001b[0m\u001b[32m/code\u001b[0m\u001b[32m>\u001b[0m\u001b[32m, \u001b[0m\u001b[32m<\u001b[0m\u001b[32mcode\u001b[0m\u001b[32m>\u001b[0m\u001b[32mwhile\u001b[0m\u001b[32m<\u001b[0m\u001b[32m/code\u001b[0m\u001b[32m>\u001b[0m\u001b[32m and \u001b[0m\u001b[32m<\u001b[0m\u001b[32mcode\u001b[0m\u001b[32m>\u001b[0m\u001b[32mrange\u001b[0m\u001b[32m<\u001b[0m\u001b[32m/code\u001b[0m\u001b[32m>\u001b[0m\u001b[32m &mdash; with some of its own twists, of course. \u001b[0m\u001b[32m<\u001b[0m\u001b[32ma\u001b[0m\u001b[32m \u001b[0m\u001b[32mhref\u001b[0m\u001b[32m=\"//docs.python.org/3/tutorial/controlflow.html\"\u001b[0m\u001b[32m>\u001b[0m\u001b[32mMore control flow tools in Python&nbsp;3\u001b[0m\u001b[32m<\u001b[0m\u001b[32m/a\u001b[0m\u001b[32m>\u001b[0m\u001b[32m<\u001b[0m\u001b[32m/p\u001b[0m\u001b[32m>\u001b[0m\u001b[32m<\u001b[0m\u001b[32m/div\u001b[0m\u001b[32m>\u001b[0m\u001b[32m\\n                \u001b[0m\u001b[32m<\u001b[0m\u001b[32m/li\u001b[0m\u001b[32m>\u001b[0m\u001b[32m\\n                \\n            \u001b[0m\u001b[32m<\u001b[0m\u001b[32m/ul\u001b[0m\u001b[32m>\u001b[0m\u001b[32m\\n        \u001b[0m\u001b[32m<\u001b[0m\u001b[32m/div\u001b[0m\u001b[32m>\u001b[0m\u001b[32m\\n\\n\\n                \u001b[0m\u001b[32m<\u001b[0m\u001b[32m/div\u001b[0m\u001b[32m>\u001b[0m\u001b[32m\\n\\n                \\n        \u001b[0m\u001b[32m<\u001b[0m\u001b[32mdiv\u001b[0m\u001b[32m \u001b[0m\u001b[32mclass\u001b[0m\u001b[32m=\u001b[0m\u001b[32m\"introduction\"\u001b[0m\u001b[32m>\u001b[0m\u001b[32m\\n            \u001b[0m\u001b[32m<\u001b[0m\u001b[32mp\u001b[0m\u001b[32m>\u001b[0m\u001b[32mPython is a programming language that lets you work quickly \u001b[0m\u001b[32m<\u001b[0m\u001b[32mspan\u001b[0m\u001b[32m \u001b[0m\u001b[32mclass\u001b[0m\u001b[32m=\u001b[0m\u001b[32m\"breaker\"\u001b[0m\u001b[32m>\u001b[0m\u001b[32m<\u001b[0m\u001b[32m/span\u001b[0m\u001b[32m>\u001b[0m\u001b[32mand integrate systems more effectively. \u001b[0m\u001b[32m<\u001b[0m\u001b[32ma\u001b[0m\u001b[32m \u001b[0m\u001b[32mclass\u001b[0m\u001b[32m=\u001b[0m\u001b[32m\"readmore\"\u001b[0m\u001b[32m \u001b[0m\u001b[32mhref\u001b[0m\u001b[32m=\"/doc/\"\u001b[0m\u001b[32m>\u001b[0m\u001b[32mLearn More\u001b[0m\u001b[32m<\u001b[0m\u001b[32m/a\u001b[0m\u001b[32m>\u001b[0m\u001b[32m<\u001b[0m\u001b[32m/p\u001b[0m\u001b[32m>\u001b[0m\u001b[32m\\n        \u001b[0m\u001b[32m<\u001b[0m\u001b[32m/div\u001b[0m\u001b[32m>\u001b[0m\u001b[32m\\n\\n\\n             \u001b[0m\u001b[32m<\u001b[0m\u001b[32m/div\u001b[0m\u001b[32m>\u001b[0m\u001b[32m<\u001b[0m\u001b[32m!-- end .container --\u001b[0m\u001b[32m>\u001b[0m\u001b[32m\\n        \u001b[0m\u001b[32m<\u001b[0m\u001b[32m/header\u001b[0m\u001b[32m>\u001b[0m\u001b[32m\\n\\n        \u001b[0m\u001b[32m<\u001b[0m\u001b[32mdiv\u001b[0m\u001b[32m \u001b[0m\u001b[32mid\u001b[0m\u001b[32m=\u001b[0m\u001b[32m\"content\"\u001b[0m\u001b[32m \u001b[0m\u001b[32mclass\u001b[0m\u001b[32m=\u001b[0m\u001b[32m\"content\u001b[0m\u001b[32m-wrapper\"\u001b[0m\u001b[32m>\u001b[0m\u001b[32m\\n            \u001b[0m\u001b[32m<\u001b[0m\u001b[32m!-- Main Content Column --\u001b[0m\u001b[32m>\u001b[0m\u001b[32m\\n            \u001b[0m\u001b[32m<\u001b[0m\u001b[32mdiv\u001b[0m\u001b[32m \u001b[0m\u001b[32mclass\u001b[0m\u001b[32m=\u001b[0m\u001b[32m\"container\"\u001b[0m\u001b[32m>\u001b[0m\u001b[32m\\n\\n                \u001b[0m\u001b[32m<\u001b[0m\u001b[32msection\u001b[0m\u001b[32m \u001b[0m\u001b[32mclass\u001b[0m\u001b[32m=\u001b[0m\u001b[32m\"main\u001b[0m\u001b[32m-content \" \u001b[0m\u001b[32mrole\u001b[0m\u001b[32m=\u001b[0m\u001b[32m\"main\"\u001b[0m\u001b[32m>\u001b[0m\u001b[32m\\n\\n                    \\n                    \\n\\n                    \\n\\n                    \\n\\n                \\n\\n                \u001b[0m\u001b[32m<\u001b[0m\u001b[32mdiv\u001b[0m\u001b[32m \u001b[0m\u001b[32mclass\u001b[0m\u001b[32m=\u001b[0m\u001b[32m\"row\"\u001b[0m\u001b[32m>\u001b[0m\u001b[32m\\n\\n                    \u001b[0m\u001b[32m<\u001b[0m\u001b[32mdiv\u001b[0m\u001b[32m \u001b[0m\u001b[32mclass\u001b[0m\u001b[32m=\u001b[0m\u001b[32m\"small\u001b[0m\u001b[32m-widget get-started-widget\"\u001b[0m\u001b[32m>\u001b[0m\u001b[32m\\n                        \u001b[0m\u001b[32m<\u001b[0m\u001b[32mh2\u001b[0m\u001b[32m \u001b[0m\u001b[32mclass\u001b[0m\u001b[32m=\u001b[0m\u001b[32m\"widget\u001b[0m\u001b[32m-title\"\u001b[0m\u001b[32m>\u001b[0m\u001b[32m<\u001b[0m\u001b[32mspan\u001b[0m\u001b[32m aria-\u001b[0m\u001b[32mhidden\u001b[0m\u001b[32m=\u001b[0m\u001b[32m\"true\"\u001b[0m\u001b[32m \u001b[0m\u001b[32mclass\u001b[0m\u001b[32m=\u001b[0m\u001b[32m\"icon\u001b[0m\u001b[32m-get-started\"\u001b[0m\u001b[32m>\u001b[0m\u001b[32m<\u001b[0m\u001b[32m/span\u001b[0m\u001b[32m>\u001b[0m\u001b[32mGet Started\u001b[0m\u001b[32m<\u001b[0m\u001b[32m/h2\u001b[0m\u001b[32m>\u001b[0m\u001b[32m\\r\\n\u001b[0m\u001b[32m<\u001b[0m\u001b[32mp\u001b[0m\u001b[32m>\u001b[0m\u001b[32mWhether you\\'re new to programming or an experienced developer, it\\'s easy to learn and use Python.\u001b[0m\u001b[32m<\u001b[0m\u001b[32m/p\u001b[0m\u001b[32m>\u001b[0m\u001b[32m\\r\\n\u001b[0m\u001b[32m<\u001b[0m\u001b[32mp\u001b[0m\u001b[32m>\u001b[0m\u001b[32m<\u001b[0m\u001b[32ma\u001b[0m\u001b[32m \u001b[0m\u001b[32mhref\u001b[0m\u001b[32m=\"/about/gettingstarted/\"\u001b[0m\u001b[32m>\u001b[0m\u001b[32mStart with our Beginner&rsquo;s Guide\u001b[0m\u001b[32m<\u001b[0m\u001b[32m/a\u001b[0m\u001b[32m>\u001b[0m\u001b[32m<\u001b[0m\u001b[32m/p\u001b[0m\u001b[32m>\u001b[0m\u001b[32m\\n                    \u001b[0m\u001b[32m<\u001b[0m\u001b[32m/div\u001b[0m\u001b[32m>\u001b[0m\u001b[32m\\n\\n                    \u001b[0m\u001b[32m<\u001b[0m\u001b[32mdiv\u001b[0m\u001b[32m \u001b[0m\u001b[32mclass\u001b[0m\u001b[32m=\u001b[0m\u001b[32m\"small\u001b[0m\u001b[32m-widget download-widget\"\u001b[0m\u001b[32m>\u001b[0m\u001b[32m\\n                        \u001b[0m\u001b[32m<\u001b[0m\u001b[32mh2\u001b[0m\u001b[32m \u001b[0m\u001b[32mclass\u001b[0m\u001b[32m=\u001b[0m\u001b[32m\"widget\u001b[0m\u001b[32m-title\"\u001b[0m\u001b[32m>\u001b[0m\u001b[32m<\u001b[0m\u001b[32mspan\u001b[0m\u001b[32m aria-\u001b[0m\u001b[32mhidden\u001b[0m\u001b[32m=\u001b[0m\u001b[32m\"true\"\u001b[0m\u001b[32m \u001b[0m\u001b[32mclass\u001b[0m\u001b[32m=\u001b[0m\u001b[32m\"icon\u001b[0m\u001b[32m-download\"\u001b[0m\u001b[32m>\u001b[0m\u001b[32m<\u001b[0m\u001b[32m/span\u001b[0m\u001b[32m>\u001b[0m\u001b[32mDownload\u001b[0m\u001b[32m<\u001b[0m\u001b[32m/h2\u001b[0m\u001b[32m>\u001b[0m\u001b[32m\\n\u001b[0m\u001b[32m<\u001b[0m\u001b[32mp\u001b[0m\u001b[32m>\u001b[0m\u001b[32mPython source code and installers are available for download for all versions!\u001b[0m\u001b[32m<\u001b[0m\u001b[32m/p\u001b[0m\u001b[32m>\u001b[0m\u001b[32m\\n\u001b[0m\u001b[32m<\u001b[0m\u001b[32mp\u001b[0m\u001b[32m>\u001b[0m\u001b[32mLatest: \u001b[0m\u001b[32m<\u001b[0m\u001b[32ma\u001b[0m\u001b[32m \u001b[0m\u001b[32mhref\u001b[0m\u001b[32m=\"/downloads/release/python-3102/\"\u001b[0m\u001b[32m>\u001b[0m\u001b[32mPython 3.10.2\u001b[0m\u001b[32m<\u001b[0m\u001b[32m/a\u001b[0m\u001b[32m>\u001b[0m\u001b[32m<\u001b[0m\u001b[32m/p\u001b[0m\u001b[32m>\u001b[0m\u001b[32m\\n                    \u001b[0m\u001b[32m<\u001b[0m\u001b[32m/div\u001b[0m\u001b[32m>\u001b[0m\u001b[32m\\n\\n                    \u001b[0m\u001b[32m<\u001b[0m\u001b[32mdiv\u001b[0m\u001b[32m \u001b[0m\u001b[32mclass\u001b[0m\u001b[32m=\u001b[0m\u001b[32m\"small\u001b[0m\u001b[32m-widget documentation-widget\"\u001b[0m\u001b[32m>\u001b[0m\u001b[32m\\n                        \u001b[0m\u001b[32m<\u001b[0m\u001b[32mh2\u001b[0m\u001b[32m \u001b[0m\u001b[32mclass\u001b[0m\u001b[32m=\u001b[0m\u001b[32m\"widget\u001b[0m\u001b[32m-title\"\u001b[0m\u001b[32m>\u001b[0m\u001b[32m<\u001b[0m\u001b[32mspan\u001b[0m\u001b[32m aria-\u001b[0m\u001b[32mhidden\u001b[0m\u001b[32m=\u001b[0m\u001b[32m\"true\"\u001b[0m\u001b[32m \u001b[0m\u001b[32mclass\u001b[0m\u001b[32m=\u001b[0m\u001b[32m\"icon\u001b[0m\u001b[32m-documentation\"\u001b[0m\u001b[32m>\u001b[0m\u001b[32m<\u001b[0m\u001b[32m/span\u001b[0m\u001b[32m>\u001b[0m\u001b[32mDocs\u001b[0m\u001b[32m<\u001b[0m\u001b[32m/h2\u001b[0m\u001b[32m>\u001b[0m\u001b[32m\\r\\n\u001b[0m\u001b[32m<\u001b[0m\u001b[32mp\u001b[0m\u001b[32m>\u001b[0m\u001b[32mDocumentation for Python\\'s standard library, along with tutorials and guides, are available online.\u001b[0m\u001b[32m<\u001b[0m\u001b[32m/p\u001b[0m\u001b[32m>\u001b[0m\u001b[32m\\r\\n\u001b[0m\u001b[32m<\u001b[0m\u001b[32mp\u001b[0m\u001b[32m>\u001b[0m\u001b[32m<\u001b[0m\u001b[32ma\u001b[0m\u001b[32m \u001b[0m\u001b[32mhref\u001b[0m\u001b[32m=\u001b[0m\u001b[32m\"https\u001b[0m\u001b[32m://docs.python.org\"\u001b[0m\u001b[32m>\u001b[0m\u001b[32mdocs.python.org\u001b[0m\u001b[32m<\u001b[0m\u001b[32m/a\u001b[0m\u001b[32m>\u001b[0m\u001b[32m<\u001b[0m\u001b[32m/p\u001b[0m\u001b[32m>\u001b[0m\u001b[32m\\n                    \u001b[0m\u001b[32m<\u001b[0m\u001b[32m/div\u001b[0m\u001b[32m>\u001b[0m\u001b[32m\\n\\n                    \u001b[0m\u001b[32m<\u001b[0m\u001b[32mdiv\u001b[0m\u001b[32m \u001b[0m\u001b[32mclass\u001b[0m\u001b[32m=\u001b[0m\u001b[32m\"small\u001b[0m\u001b[32m-widget jobs-widget last\"\u001b[0m\u001b[32m>\u001b[0m\u001b[32m\\n                        \u001b[0m\u001b[32m<\u001b[0m\u001b[32mh2\u001b[0m\u001b[32m \u001b[0m\u001b[32mclass\u001b[0m\u001b[32m=\u001b[0m\u001b[32m\"widget\u001b[0m\u001b[32m-title\"\u001b[0m\u001b[32m>\u001b[0m\u001b[32m<\u001b[0m\u001b[32mspan\u001b[0m\u001b[32m aria-\u001b[0m\u001b[32mhidden\u001b[0m\u001b[32m=\u001b[0m\u001b[32m\"true\"\u001b[0m\u001b[32m \u001b[0m\u001b[32mclass\u001b[0m\u001b[32m=\u001b[0m\u001b[32m\"icon\u001b[0m\u001b[32m-jobs\"\u001b[0m\u001b[32m>\u001b[0m\u001b[32m<\u001b[0m\u001b[32m/span\u001b[0m\u001b[32m>\u001b[0m\u001b[32mJobs\u001b[0m\u001b[32m<\u001b[0m\u001b[32m/h2\u001b[0m\u001b[32m>\u001b[0m\u001b[32m\\r\\n\u001b[0m\u001b[32m<\u001b[0m\u001b[32mp\u001b[0m\u001b[32m>\u001b[0m\u001b[32mLooking for work or have a Python related position that you\\'re trying to hire for? Our \u001b[0m\u001b[32m<\u001b[0m\u001b[32mstrong\u001b[0m\u001b[32m>\u001b[0m\u001b[32mrelaunched community-run job board\u001b[0m\u001b[32m<\u001b[0m\u001b[32m/strong\u001b[0m\u001b[32m>\u001b[0m\u001b[32m is the place to go.\u001b[0m\u001b[32m<\u001b[0m\u001b[32m/p\u001b[0m\u001b[32m>\u001b[0m\u001b[32m\\r\\n\u001b[0m\u001b[32m<\u001b[0m\u001b[32mp\u001b[0m\u001b[32m>\u001b[0m\u001b[32m<\u001b[0m\u001b[32ma\u001b[0m\u001b[32m \u001b[0m\u001b[32mhref\u001b[0m\u001b[32m=\"//jobs.python.org\"\u001b[0m\u001b[32m>\u001b[0m\u001b[32mjobs.python.org\u001b[0m\u001b[32m<\u001b[0m\u001b[32m/a\u001b[0m\u001b[32m>\u001b[0m\u001b[32m<\u001b[0m\u001b[32m/p\u001b[0m\u001b[32m>\u001b[0m\u001b[32m\\n                    \u001b[0m\u001b[32m<\u001b[0m\u001b[32m/div\u001b[0m\u001b[32m>\u001b[0m\u001b[32m\\n\\n                \u001b[0m\u001b[32m<\u001b[0m\u001b[32m/div\u001b[0m\u001b[32m>\u001b[0m\u001b[32m\\n\\n                \u001b[0m\u001b[32m<\u001b[0m\u001b[32mdiv\u001b[0m\u001b[32m \u001b[0m\u001b[32mclass\u001b[0m\u001b[32m=\u001b[0m\u001b[32m\"list\u001b[0m\u001b[32m-widgets row\"\u001b[0m\u001b[32m>\u001b[0m\u001b[32m\\n\\n                    \u001b[0m\u001b[32m<\u001b[0m\u001b[32mdiv\u001b[0m\u001b[32m \u001b[0m\u001b[32mclass\u001b[0m\u001b[32m=\u001b[0m\u001b[32m\"medium\u001b[0m\u001b[32m-widget blog-widget\"\u001b[0m\u001b[32m>\u001b[0m\u001b[32m\\n                        \\n                        \u001b[0m\u001b[32m<\u001b[0m\u001b[32mdiv\u001b[0m\u001b[32m \u001b[0m\u001b[32mclass\u001b[0m\u001b[32m=\u001b[0m\u001b[32m\"shrubbery\"\u001b[0m\u001b[32m>\u001b[0m\u001b[32m\\n                        \\n                            \u001b[0m\u001b[32m<\u001b[0m\u001b[32mh2\u001b[0m\u001b[32m \u001b[0m\u001b[32mclass\u001b[0m\u001b[32m=\u001b[0m\u001b[32m\"widget\u001b[0m\u001b[32m-title\"\u001b[0m\u001b[32m>\u001b[0m\u001b[32m<\u001b[0m\u001b[32mspan\u001b[0m\u001b[32m aria-\u001b[0m\u001b[32mhidden\u001b[0m\u001b[32m=\u001b[0m\u001b[32m\"true\"\u001b[0m\u001b[32m \u001b[0m\u001b[32mclass\u001b[0m\u001b[32m=\u001b[0m\u001b[32m\"icon\u001b[0m\u001b[32m-news\"\u001b[0m\u001b[32m>\u001b[0m\u001b[32m<\u001b[0m\u001b[32m/span\u001b[0m\u001b[32m>\u001b[0m\u001b[32mLatest News\u001b[0m\u001b[32m<\u001b[0m\u001b[32m/h2\u001b[0m\u001b[32m>\u001b[0m\u001b[32m\\n                            \u001b[0m\u001b[32m<\u001b[0m\u001b[32mp\u001b[0m\u001b[32m \u001b[0m\u001b[32mclass\u001b[0m\u001b[32m=\u001b[0m\u001b[32m\"give\u001b[0m\u001b[32m-me-more\"\u001b[0m\u001b[32m>\u001b[0m\u001b[32m<\u001b[0m\u001b[32ma\u001b[0m\u001b[32m \u001b[0m\u001b[32mhref\u001b[0m\u001b[32m=\u001b[0m\u001b[32m\"https\u001b[0m\u001b[32m://blog.python.org\" \u001b[0m\u001b[32mtitle\u001b[0m\u001b[32m=\u001b[0m\u001b[32m\"More\u001b[0m\u001b[32m News\"\u001b[0m\u001b[32m>\u001b[0m\u001b[32mMore\u001b[0m\u001b[32m<\u001b[0m\u001b[32m/a\u001b[0m\u001b[32m>\u001b[0m\u001b[32m<\u001b[0m\u001b[32m/p\u001b[0m\u001b[32m>\u001b[0m\u001b[32m\\n                            \\n                            \u001b[0m\u001b[32m<\u001b[0m\u001b[32mul\u001b[0m\u001b[32m \u001b[0m\u001b[32mclass\u001b[0m\u001b[32m=\u001b[0m\u001b[32m\"menu\"\u001b[0m\u001b[32m>\u001b[0m\u001b[32m\\n                                \\n                                \\n                                \u001b[0m\u001b[32m<\u001b[0m\u001b[32mli\u001b[0m\u001b[32m>\u001b[0m\u001b[32m\\n\u001b[0m\u001b[32m<\u001b[0m\u001b[32mtime\u001b[0m\u001b[32m \u001b[0m\u001b[32mdatetime\u001b[0m\u001b[32m=\u001b[0m\u001b[32m\"2022\u001b[0m\u001b[32m-01-14T23:11:00.000004+00:00\"\u001b[0m\u001b[32m>\u001b[0m\u001b[32m<\u001b[0m\u001b[32mspan\u001b[0m\u001b[32m \u001b[0m\u001b[32mclass\u001b[0m\u001b[32m=\u001b[0m\u001b[32m\"say\u001b[0m\u001b[32m-no-more\"\u001b[0m\u001b[32m>\u001b[0m\u001b[32m2022-\u001b[0m\u001b[32m<\u001b[0m\u001b[32m/span\u001b[0m\u001b[32m>\u001b[0m\u001b[32m01-14\u001b[0m\u001b[32m<\u001b[0m\u001b[32m/time\u001b[0m\u001b[32m>\u001b[0m\u001b[32m\\n \u001b[0m\u001b[32m<\u001b[0m\u001b[32ma\u001b[0m\u001b[32m \u001b[0m\u001b[32mhref\u001b[0m\u001b[32m=\u001b[0m\u001b[32m\"https\u001b[0m\u001b[32m://pythoninsider.blogspot.com/2022/01/python-3102-3910-and-3110a4-are-now.html\"\u001b[0m\u001b[32m>\u001b[0m\u001b[32mPython 3.10.2, 3.9.10, and 3.11.0a4 are now available\u001b[0m\u001b[32m<\u001b[0m\u001b[32m/a\u001b[0m\u001b[32m>\u001b[0m\u001b[32m<\u001b[0m\u001b[32m/li\u001b[0m\u001b[32m>\u001b[0m\u001b[32m\\n                                \\n                                \u001b[0m\u001b[32m<\u001b[0m\u001b[32mli\u001b[0m\u001b[32m>\u001b[0m\u001b[32m\\n\u001b[0m\u001b[32m<\u001b[0m\u001b[32mtime\u001b[0m\u001b[32m \u001b[0m\u001b[32mdatetime\u001b[0m\u001b[32m=\u001b[0m\u001b[32m\"2022\u001b[0m\u001b[32m-01-05T22:14:00.000002+00:00\"\u001b[0m\u001b[32m>\u001b[0m\u001b[32m<\u001b[0m\u001b[32mspan\u001b[0m\u001b[32m \u001b[0m\u001b[32mclass\u001b[0m\u001b[32m=\u001b[0m\u001b[32m\"say\u001b[0m\u001b[32m-no-more\"\u001b[0m\u001b[32m>\u001b[0m\u001b[32m2022-\u001b[0m\u001b[32m<\u001b[0m\u001b[32m/span\u001b[0m\u001b[32m>\u001b[0m\u001b[32m01-05\u001b[0m\u001b[32m<\u001b[0m\u001b[32m/time\u001b[0m\u001b[32m>\u001b[0m\u001b[32m\\n \u001b[0m\u001b[32m<\u001b[0m\u001b[32ma\u001b[0m\u001b[32m \u001b[0m\u001b[32mhref\u001b[0m\u001b[32m=\u001b[0m\u001b[32m\"http\u001b[0m\u001b[32m://pyfound.blogspot.com/2022/01/announcing-python-software-foundation.html\"\u001b[0m\u001b[32m>\u001b[0m\u001b[32mAnnouncing Python Software Foundation Fellow Members for Q4 2021! \\xf0\\x9f\\x8e\\x89\u001b[0m\u001b[32m<\u001b[0m\u001b[32m/a\u001b[0m\u001b[32m>\u001b[0m\u001b[32m<\u001b[0m\u001b[32m/li\u001b[0m\u001b[32m>\u001b[0m\u001b[32m\\n                                \\n                                \u001b[0m\u001b[32m<\u001b[0m\u001b[32mli\u001b[0m\u001b[32m>\u001b[0m\u001b[32m\\n\u001b[0m\u001b[32m<\u001b[0m\u001b[32mtime\u001b[0m\u001b[32m \u001b[0m\u001b[32mdatetime\u001b[0m\u001b[32m=\u001b[0m\u001b[32m\"2021\u001b[0m\u001b[32m-12-15T08:20:00.000002+00:00\"\u001b[0m\u001b[32m>\u001b[0m\u001b[32m<\u001b[0m\u001b[32mspan\u001b[0m\u001b[32m \u001b[0m\u001b[32mclass\u001b[0m\u001b[32m=\u001b[0m\u001b[32m\"say\u001b[0m\u001b[32m-no-more\"\u001b[0m\u001b[32m>\u001b[0m\u001b[32m2021-\u001b[0m\u001b[32m<\u001b[0m\u001b[32m/span\u001b[0m\u001b[32m>\u001b[0m\u001b[32m12-15\u001b[0m\u001b[32m<\u001b[0m\u001b[32m/time\u001b[0m\u001b[32m>\u001b[0m\u001b[32m\\n \u001b[0m\u001b[32m<\u001b[0m\u001b[32ma\u001b[0m\u001b[32m \u001b[0m\u001b[32mhref\u001b[0m\u001b[32m=\u001b[0m\u001b[32m\"http\u001b[0m\u001b[32m://pyfound.blogspot.com/2021/12/georgi-ker-awarded-psf-community.html\"\u001b[0m\u001b[32m>\u001b[0m\u001b[32mGeorgi Ker Awarded the PSF Community Service Award for Q4 2020\u001b[0m\u001b[32m<\u001b[0m\u001b[32m/a\u001b[0m\u001b[32m>\u001b[0m\u001b[32m<\u001b[0m\u001b[32m/li\u001b[0m\u001b[32m>\u001b[0m\u001b[32m\\n                                \\n                                \u001b[0m\u001b[32m<\u001b[0m\u001b[32mli\u001b[0m\u001b[32m>\u001b[0m\u001b[32m\\n\u001b[0m\u001b[32m<\u001b[0m\u001b[32mtime\u001b[0m\u001b[32m \u001b[0m\u001b[32mdatetime\u001b[0m\u001b[32m=\u001b[0m\u001b[32m\"2021\u001b[0m\u001b[32m-12-09T16:49:00.000003+00:00\"\u001b[0m\u001b[32m>\u001b[0m\u001b[32m<\u001b[0m\u001b[32mspan\u001b[0m\u001b[32m \u001b[0m\u001b[32mclass\u001b[0m\u001b[32m=\u001b[0m\u001b[32m\"say\u001b[0m\u001b[32m-no-more\"\u001b[0m\u001b[32m>\u001b[0m\u001b[32m2021-\u001b[0m\u001b[32m<\u001b[0m\u001b[32m/span\u001b[0m\u001b[32m>\u001b[0m\u001b[32m12-09\u001b[0m\u001b[32m<\u001b[0m\u001b[32m/time\u001b[0m\u001b[32m>\u001b[0m\u001b[32m\\n \u001b[0m\u001b[32m<\u001b[0m\u001b[32ma\u001b[0m\u001b[32m \u001b[0m\u001b[32mhref\u001b[0m\u001b[32m=\u001b[0m\u001b[32m\"http\u001b[0m\u001b[32m://pyfound.blogspot.com/2021/12/pypi-user-feedback-summary.html\"\u001b[0m\u001b[32m>\u001b[0m\u001b[32mPyPI User Feedback Summary\u001b[0m\u001b[32m<\u001b[0m\u001b[32m/a\u001b[0m\u001b[32m>\u001b[0m\u001b[32m<\u001b[0m\u001b[32m/li\u001b[0m\u001b[32m>\u001b[0m\u001b[32m\\n                                \\n                                \u001b[0m\u001b[32m<\u001b[0m\u001b[32mli\u001b[0m\u001b[32m>\u001b[0m\u001b[32m\\n\u001b[0m\u001b[32m<\u001b[0m\u001b[32mtime\u001b[0m\u001b[32m \u001b[0m\u001b[32mdatetime\u001b[0m\u001b[32m=\u001b[0m\u001b[32m\"2021\u001b[0m\u001b[32m-12-08T23:54:00.000002+00:00\"\u001b[0m\u001b[32m>\u001b[0m\u001b[32m<\u001b[0m\u001b[32mspan\u001b[0m\u001b[32m \u001b[0m\u001b[32mclass\u001b[0m\u001b[32m=\u001b[0m\u001b[32m\"say\u001b[0m\u001b[32m-no-more\"\u001b[0m\u001b[32m>\u001b[0m\u001b[32m2021-\u001b[0m\u001b[32m<\u001b[0m\u001b[32m/span\u001b[0m\u001b[32m>\u001b[0m\u001b[32m12-08\u001b[0m\u001b[32m<\u001b[0m\u001b[32m/time\u001b[0m\u001b[32m>\u001b[0m\u001b[32m\\n \u001b[0m\u001b[32m<\u001b[0m\u001b[32ma\u001b[0m\u001b[32m \u001b[0m\u001b[32mhref\u001b[0m\u001b[32m=\u001b[0m\u001b[32m\"https\u001b[0m\u001b[32m://pythoninsider.blogspot.com/2021/12/python-3110a3-is-available.html\"\u001b[0m\u001b[32m>\u001b[0m\u001b[32mPython 3.11.0a3 is available\u001b[0m\u001b[32m<\u001b[0m\u001b[32m/a\u001b[0m\u001b[32m>\u001b[0m\u001b[32m<\u001b[0m\u001b[32m/li\u001b[0m\u001b[32m>\u001b[0m\u001b[32m\\n                                \\n                            \u001b[0m\u001b[32m<\u001b[0m\u001b[32m/ul\u001b[0m\u001b[32m>\u001b[0m\u001b[32m\\n                        \u001b[0m\u001b[32m<\u001b[0m\u001b[32m/div\u001b[0m\u001b[32m>\u001b[0m\u001b[32m<\u001b[0m\u001b[32m!-- end .shrubbery --\u001b[0m\u001b[32m>\u001b[0m\u001b[32m\\n\\n                    \u001b[0m\u001b[32m<\u001b[0m\u001b[32m/div\u001b[0m\u001b[32m>\u001b[0m\u001b[32m\\n\\n                    \u001b[0m\u001b[32m<\u001b[0m\u001b[32mdiv\u001b[0m\u001b[32m \u001b[0m\u001b[32mclass\u001b[0m\u001b[32m=\u001b[0m\u001b[32m\"medium\u001b[0m\u001b[32m-widget event-widget last\"\u001b[0m\u001b[32m>\u001b[0m\u001b[32m\\n                        \\n                        \u001b[0m\u001b[32m<\u001b[0m\u001b[32mdiv\u001b[0m\u001b[32m \u001b[0m\u001b[32mclass\u001b[0m\u001b[32m=\u001b[0m\u001b[32m\"shrubbery\"\u001b[0m\u001b[32m>\u001b[0m\u001b[32m\\n                        \\n                            \u001b[0m\u001b[32m<\u001b[0m\u001b[32mh2\u001b[0m\u001b[32m \u001b[0m\u001b[32mclass\u001b[0m\u001b[32m=\u001b[0m\u001b[32m\"widget\u001b[0m\u001b[32m-title\"\u001b[0m\u001b[32m>\u001b[0m\u001b[32m<\u001b[0m\u001b[32mspan\u001b[0m\u001b[32m aria-\u001b[0m\u001b[32mhidden\u001b[0m\u001b[32m=\u001b[0m\u001b[32m\"true\"\u001b[0m\u001b[32m \u001b[0m\u001b[32mclass\u001b[0m\u001b[32m=\u001b[0m\u001b[32m\"icon\u001b[0m\u001b[32m-calendar\"\u001b[0m\u001b[32m>\u001b[0m\u001b[32m<\u001b[0m\u001b[32m/span\u001b[0m\u001b[32m>\u001b[0m\u001b[32mUpcoming Events\u001b[0m\u001b[32m<\u001b[0m\u001b[32m/h2\u001b[0m\u001b[32m>\u001b[0m\u001b[32m\\n                            \u001b[0m\u001b[32m<\u001b[0m\u001b[32mp\u001b[0m\u001b[32m \u001b[0m\u001b[32mclass\u001b[0m\u001b[32m=\u001b[0m\u001b[32m\"give\u001b[0m\u001b[32m-me-more\"\u001b[0m\u001b[32m>\u001b[0m\u001b[32m<\u001b[0m\u001b[32ma\u001b[0m\u001b[32m \u001b[0m\u001b[32mhref\u001b[0m\u001b[32m=\"/events/calendars/\" \u001b[0m\u001b[32mtitle\u001b[0m\u001b[32m=\u001b[0m\u001b[32m\"More\u001b[0m\u001b[32m Events\"\u001b[0m\u001b[32m>\u001b[0m\u001b[32mMore\u001b[0m\u001b[32m<\u001b[0m\u001b[32m/a\u001b[0m\u001b[32m>\u001b[0m\u001b[32m<\u001b[0m\u001b[32m/p\u001b[0m\u001b[32m>\u001b[0m\u001b[32m\\n                            \\n                            \u001b[0m\u001b[32m<\u001b[0m\u001b[32mul\u001b[0m\u001b[32m \u001b[0m\u001b[32mclass\u001b[0m\u001b[32m=\u001b[0m\u001b[32m\"menu\"\u001b[0m\u001b[32m>\u001b[0m\u001b[32m\\n                                \\n                                \\n                                \\n                                \u001b[0m\u001b[32m<\u001b[0m\u001b[32mli\u001b[0m\u001b[32m>\u001b[0m\u001b[32m\\n\u001b[0m\u001b[32m<\u001b[0m\u001b[32mtime\u001b[0m\u001b[32m \u001b[0m\u001b[32mdatetime\u001b[0m\u001b[32m=\u001b[0m\u001b[32m\"2022\u001b[0m\u001b[32m-02-05T00:00:00+00:00\"\u001b[0m\u001b[32m>\u001b[0m\u001b[32m<\u001b[0m\u001b[32mspan\u001b[0m\u001b[32m \u001b[0m\u001b[32mclass\u001b[0m\u001b[32m=\u001b[0m\u001b[32m\"say\u001b[0m\u001b[32m-no-more\"\u001b[0m\u001b[32m>\u001b[0m\u001b[32m2022-\u001b[0m\u001b[32m<\u001b[0m\u001b[32m/span\u001b[0m\u001b[32m>\u001b[0m\u001b[32m02-05\u001b[0m\u001b[32m<\u001b[0m\u001b[32m/time\u001b[0m\u001b[32m>\u001b[0m\u001b[32m\\n \u001b[0m\u001b[32m<\u001b[0m\u001b[32ma\u001b[0m\u001b[32m \u001b[0m\u001b[32mhref\u001b[0m\u001b[32m=\"/events/python-events/1203/\"\u001b[0m\u001b[32m>\u001b[0m\u001b[32mPyCascades Remote 2020\u001b[0m\u001b[32m<\u001b[0m\u001b[32m/a\u001b[0m\u001b[32m>\u001b[0m\u001b[32m<\u001b[0m\u001b[32m/li\u001b[0m\u001b[32m>\u001b[0m\u001b[32m\\n                                \\n                                \\n                                \\n                                \u001b[0m\u001b[32m<\u001b[0m\u001b[32mli\u001b[0m\u001b[32m>\u001b[0m\u001b[32m\\n\u001b[0m\u001b[32m<\u001b[0m\u001b[32mtime\u001b[0m\u001b[32m \u001b[0m\u001b[32mdatetime\u001b[0m\u001b[32m=\u001b[0m\u001b[32m\"2022\u001b[0m\u001b[32m-02-06T00:00:00+00:00\"\u001b[0m\u001b[32m>\u001b[0m\u001b[32m<\u001b[0m\u001b[32mspan\u001b[0m\u001b[32m \u001b[0m\u001b[32mclass\u001b[0m\u001b[32m=\u001b[0m\u001b[32m\"say\u001b[0m\u001b[32m-no-more\"\u001b[0m\u001b[32m>\u001b[0m\u001b[32m2022-\u001b[0m\u001b[32m<\u001b[0m\u001b[32m/span\u001b[0m\u001b[32m>\u001b[0m\u001b[32m02-06\u001b[0m\u001b[32m<\u001b[0m\u001b[32m/time\u001b[0m\u001b[32m>\u001b[0m\u001b[32m\\n \u001b[0m\u001b[32m<\u001b[0m\u001b[32ma\u001b[0m\u001b[32m \u001b[0m\u001b[32mhref\u001b[0m\u001b[32m=\"/events/python-events/1210/\"\u001b[0m\u001b[32m>\u001b[0m\u001b[32mFOSDEM 2022: Python Dev Room\u001b[0m\u001b[32m<\u001b[0m\u001b[32m/a\u001b[0m\u001b[32m>\u001b[0m\u001b[32m<\u001b[0m\u001b[32m/li\u001b[0m\u001b[32m>\u001b[0m\u001b[32m\\n                                \\n                                \\n                                \\n                                \u001b[0m\u001b[32m<\u001b[0m\u001b[32mli\u001b[0m\u001b[32m>\u001b[0m\u001b[32m\\n\u001b[0m\u001b[32m<\u001b[0m\u001b[32mtime\u001b[0m\u001b[32m \u001b[0m\u001b[32mdatetime\u001b[0m\u001b[32m=\u001b[0m\u001b[32m\"2022\u001b[0m\u001b[32m-02-23T17:30:00+00:00\"\u001b[0m\u001b[32m>\u001b[0m\u001b[32m<\u001b[0m\u001b[32mspan\u001b[0m\u001b[32m \u001b[0m\u001b[32mclass\u001b[0m\u001b[32m=\u001b[0m\u001b[32m\"say\u001b[0m\u001b[32m-no-more\"\u001b[0m\u001b[32m>\u001b[0m\u001b[32m2022-\u001b[0m\u001b[32m<\u001b[0m\u001b[32m/span\u001b[0m\u001b[32m>\u001b[0m\u001b[32m02-23\u001b[0m\u001b[32m<\u001b[0m\u001b[32m/time\u001b[0m\u001b[32m>\u001b[0m\u001b[32m\\n \u001b[0m\u001b[32m<\u001b[0m\u001b[32ma\u001b[0m\u001b[32m \u001b[0m\u001b[32mhref\u001b[0m\u001b[32m=\"/events/python-user-group/1205/\"\u001b[0m\u001b[32m>\u001b[0m\u001b[32mA deep dive into Fairness in Machine Learning using Fairlearn - PyLadies Amsterdam\u001b[0m\u001b[32m<\u001b[0m\u001b[32m/a\u001b[0m\u001b[32m>\u001b[0m\u001b[32m<\u001b[0m\u001b[32m/li\u001b[0m\u001b[32m>\u001b[0m\u001b[32m\\n                                \\n                                \\n                                \\n                                \u001b[0m\u001b[32m<\u001b[0m\u001b[32mli\u001b[0m\u001b[32m>\u001b[0m\u001b[32m\\n\u001b[0m\u001b[32m<\u001b[0m\u001b[32mtime\u001b[0m\u001b[32m \u001b[0m\u001b[32mdatetime\u001b[0m\u001b[32m=\u001b[0m\u001b[32m\"2022\u001b[0m\u001b[32m-03-21T00:00:00+00:00\"\u001b[0m\u001b[32m>\u001b[0m\u001b[32m<\u001b[0m\u001b[32mspan\u001b[0m\u001b[32m \u001b[0m\u001b[32mclass\u001b[0m\u001b[32m=\u001b[0m\u001b[32m\"say\u001b[0m\u001b[32m-no-more\"\u001b[0m\u001b[32m>\u001b[0m\u001b[32m2022-\u001b[0m\u001b[32m<\u001b[0m\u001b[32m/span\u001b[0m\u001b[32m>\u001b[0m\u001b[32m03-21\u001b[0m\u001b[32m<\u001b[0m\u001b[32m/time\u001b[0m\u001b[32m>\u001b[0m\u001b[32m\\n \u001b[0m\u001b[32m<\u001b[0m\u001b[32ma\u001b[0m\u001b[32m \u001b[0m\u001b[32mhref\u001b[0m\u001b[32m=\"/events/python-events/1204/\"\u001b[0m\u001b[32m>\u001b[0m\u001b[32mPython Web Conference 2022\u001b[0m\u001b[32m<\u001b[0m\u001b[32m/a\u001b[0m\u001b[32m>\u001b[0m\u001b[32m<\u001b[0m\u001b[32m/li\u001b[0m\u001b[32m>\u001b[0m\u001b[32m\\n                                \\n                                \\n                                \\n                                \u001b[0m\u001b[32m<\u001b[0m\u001b[32mli\u001b[0m\u001b[32m>\u001b[0m\u001b[32m\\n\u001b[0m\u001b[32m<\u001b[0m\u001b[32mtime\u001b[0m\u001b[32m \u001b[0m\u001b[32mdatetime\u001b[0m\u001b[32m=\u001b[0m\u001b[32m\"2022\u001b[0m\u001b[32m-03-26T00:00:00+00:00\"\u001b[0m\u001b[32m>\u001b[0m\u001b[32m<\u001b[0m\u001b[32mspan\u001b[0m\u001b[32m \u001b[0m\u001b[32mclass\u001b[0m\u001b[32m=\u001b[0m\u001b[32m\"say\u001b[0m\u001b[32m-no-more\"\u001b[0m\u001b[32m>\u001b[0m\u001b[32m2022-\u001b[0m\u001b[32m<\u001b[0m\u001b[32m/span\u001b[0m\u001b[32m>\u001b[0m\u001b[32m03-26\u001b[0m\u001b[32m<\u001b[0m\u001b[32m/time\u001b[0m\u001b[32m>\u001b[0m\u001b[32m\\n \u001b[0m\u001b[32m<\u001b[0m\u001b[32ma\u001b[0m\u001b[32m \u001b[0m\u001b[32mhref\u001b[0m\u001b[32m=\"/events/python-events/1207/\"\u001b[0m\u001b[32m>\u001b[0m\u001b[32mPyTexas 2022\u001b[0m\u001b[32m<\u001b[0m\u001b[32m/a\u001b[0m\u001b[32m>\u001b[0m\u001b[32m<\u001b[0m\u001b[32m/li\u001b[0m\u001b[32m>\u001b[0m\u001b[32m\\n                                \\n                                \\n                            \u001b[0m\u001b[32m<\u001b[0m\u001b[32m/ul\u001b[0m\u001b[32m>\u001b[0m\u001b[32m\\n                        \u001b[0m\u001b[32m<\u001b[0m\u001b[32m/div\u001b[0m\u001b[32m>\u001b[0m\u001b[32m\\n\\n                    \u001b[0m\u001b[32m<\u001b[0m\u001b[32m/div\u001b[0m\u001b[32m>\u001b[0m\u001b[32m\\n\\n                \u001b[0m\u001b[32m<\u001b[0m\u001b[32m/div\u001b[0m\u001b[32m>\u001b[0m\u001b[32m\\n\\n                \u001b[0m\u001b[32m<\u001b[0m\u001b[32mdiv\u001b[0m\u001b[32m \u001b[0m\u001b[32mclass\u001b[0m\u001b[32m=\u001b[0m\u001b[32m\"row\"\u001b[0m\u001b[32m>\u001b[0m\u001b[32m\\n\\n                    \u001b[0m\u001b[32m<\u001b[0m\u001b[32mdiv\u001b[0m\u001b[32m \u001b[0m\u001b[32mclass\u001b[0m\u001b[32m=\u001b[0m\u001b[32m\"medium\u001b[0m\u001b[32m-widget success-stories-widget\"\u001b[0m\u001b[32m>\u001b[0m\u001b[32m\\n                        \\n\\n\\n\\n                        \u001b[0m\u001b[32m<\u001b[0m\u001b[32mdiv\u001b[0m\u001b[32m \u001b[0m\u001b[32mclass\u001b[0m\u001b[32m=\u001b[0m\u001b[32m\"shrubbery\"\u001b[0m\u001b[32m>\u001b[0m\u001b[32m\\n                            \\n\\n                            \u001b[0m\u001b[32m<\u001b[0m\u001b[32mh2\u001b[0m\u001b[32m \u001b[0m\u001b[32mclass\u001b[0m\u001b[32m=\u001b[0m\u001b[32m\"widget\u001b[0m\u001b[32m-title\"\u001b[0m\u001b[32m>\u001b[0m\u001b[32m<\u001b[0m\u001b[32mspan\u001b[0m\u001b[32m aria-\u001b[0m\u001b[32mhidden\u001b[0m\u001b[32m=\u001b[0m\u001b[32m\"true\"\u001b[0m\u001b[32m \u001b[0m\u001b[32mclass\u001b[0m\u001b[32m=\u001b[0m\u001b[32m\"icon\u001b[0m\u001b[32m-success-stories\"\u001b[0m\u001b[32m>\u001b[0m\u001b[32m<\u001b[0m\u001b[32m/span\u001b[0m\u001b[32m>\u001b[0m\u001b[32mSuccess Stories\u001b[0m\u001b[32m<\u001b[0m\u001b[32m/h2\u001b[0m\u001b[32m>\u001b[0m\u001b[32m\\n                            \u001b[0m\u001b[32m<\u001b[0m\u001b[32mp\u001b[0m\u001b[32m \u001b[0m\u001b[32mclass\u001b[0m\u001b[32m=\u001b[0m\u001b[32m\"give\u001b[0m\u001b[32m-me-more\"\u001b[0m\u001b[32m>\u001b[0m\u001b[32m<\u001b[0m\u001b[32ma\u001b[0m\u001b[32m \u001b[0m\u001b[32mhref\u001b[0m\u001b[32m=\"/success-stories/\" \u001b[0m\u001b[32mtitle\u001b[0m\u001b[32m=\u001b[0m\u001b[32m\"More\u001b[0m\u001b[32m Success Stories\"\u001b[0m\u001b[32m>\u001b[0m\u001b[32mMore\u001b[0m\u001b[32m<\u001b[0m\u001b[32m/a\u001b[0m\u001b[32m>\u001b[0m\u001b[32m<\u001b[0m\u001b[32m/p\u001b[0m\u001b[32m>\u001b[0m\u001b[32m\\n\\n                            \\n                            \u001b[0m\u001b[32m<\u001b[0m\u001b[32mdiv\u001b[0m\u001b[32m \u001b[0m\u001b[32mclass\u001b[0m\u001b[32m=\u001b[0m\u001b[32m\"success\u001b[0m\u001b[32m-story-item\" \u001b[0m\u001b[32mid\u001b[0m\u001b[32m=\u001b[0m\u001b[32m\"success\u001b[0m\u001b[32m-story-932\"\u001b[0m\u001b[32m>\u001b[0m\u001b[32m\\n\\n                            \u001b[0m\u001b[32m<\u001b[0m\u001b[32mblockquote\u001b[0m\u001b[32m>\u001b[0m\u001b[32m\\n                                \u001b[0m\u001b[32m<\u001b[0m\u001b[32ma\u001b[0m\u001b[32m \u001b[0m\u001b[32mhref\u001b[0m\u001b[32m=\"/success-stories/abridging-clinical-conversations-using-python/\"\u001b[0m\u001b[32m>\u001b[0m\u001b[32mPython powers major aspects of Abridge\\xe2\\x80\\x99s ML lifecycle, including data annotation,  research and experimentation, and ML model deployment to production.\u001b[0m\u001b[32m<\u001b[0m\u001b[32m/a\u001b[0m\u001b[32m>\u001b[0m\u001b[32m\\n                            \u001b[0m\u001b[32m<\u001b[0m\u001b[32m/blockquote\u001b[0m\u001b[32m>\u001b[0m\u001b[32m\\n\\n                            \u001b[0m\u001b[32m<\u001b[0m\u001b[32mtable\u001b[0m\u001b[32m \u001b[0m\u001b[32mcellpadding\u001b[0m\u001b[32m=\u001b[0m\u001b[32m\"0\"\u001b[0m\u001b[32m \u001b[0m\u001b[32mcellspacing\u001b[0m\u001b[32m=\u001b[0m\u001b[32m\"0\"\u001b[0m\u001b[32m \u001b[0m\u001b[32mborder\u001b[0m\u001b[32m=\u001b[0m\u001b[32m\"0\"\u001b[0m\u001b[32m \u001b[0m\u001b[32mwidth\u001b[0m\u001b[32m=\u001b[0m\u001b[32m\"100\u001b[0m\u001b[32m%\" \u001b[0m\u001b[32mclass\u001b[0m\u001b[32m=\u001b[0m\u001b[32m\"quote\u001b[0m\u001b[32m-from\"\u001b[0m\u001b[32m>\u001b[0m\u001b[32m\\n                                \u001b[0m\u001b[32m<\u001b[0m\u001b[32mtbody\u001b[0m\u001b[32m>\u001b[0m\u001b[32m\\n                                    \u001b[0m\u001b[32m<\u001b[0m\u001b[32mtr\u001b[0m\u001b[32m>\u001b[0m\u001b[32m\\n                                        \\n                                        \u001b[0m\u001b[32m<\u001b[0m\u001b[32mtd\u001b[0m\u001b[32m>\u001b[0m\u001b[32m<\u001b[0m\u001b[32mp\u001b[0m\u001b[32m>\u001b[0m\u001b[32m<\u001b[0m\u001b[32ma\u001b[0m\u001b[32m \u001b[0m\u001b[32mhref\u001b[0m\u001b[32m=\"/success-stories/abridging-clinical-conversations-using-python/\"\u001b[0m\u001b[32m>\u001b[0m\u001b[32mAbridging clinical conversations using Python\u001b[0m\u001b[32m<\u001b[0m\u001b[32m/a\u001b[0m\u001b[32m>\u001b[0m\u001b[32m \u001b[0m\u001b[32m<\u001b[0m\u001b[32mem\u001b[0m\u001b[32m>\u001b[0m\u001b[32mby Nimshi Venkat and Sandeep Konam\u001b[0m\u001b[32m<\u001b[0m\u001b[32m/em\u001b[0m\u001b[32m>\u001b[0m\u001b[32m<\u001b[0m\u001b[32m/p\u001b[0m\u001b[32m>\u001b[0m\u001b[32m<\u001b[0m\u001b[32m/td\u001b[0m\u001b[32m>\u001b[0m\u001b[32m\\n                                    \u001b[0m\u001b[32m<\u001b[0m\u001b[32m/tr\u001b[0m\u001b[32m>\u001b[0m\u001b[32m\\n                                \u001b[0m\u001b[32m<\u001b[0m\u001b[32m/tbody\u001b[0m\u001b[32m>\u001b[0m\u001b[32m\\n                            \u001b[0m\u001b[32m<\u001b[0m\u001b[32m/table\u001b[0m\u001b[32m>\u001b[0m\u001b[32m\\n                            \u001b[0m\u001b[32m<\u001b[0m\u001b[32m/div\u001b[0m\u001b[32m>\u001b[0m\u001b[32m\\n                            \\n\\n                        \u001b[0m\u001b[32m<\u001b[0m\u001b[32m/div\u001b[0m\u001b[32m>\u001b[0m\u001b[32m<\u001b[0m\u001b[32m!-- end .shrubbery --\u001b[0m\u001b[32m>\u001b[0m\u001b[32m\\n\\n                    \u001b[0m\u001b[32m<\u001b[0m\u001b[32m/div\u001b[0m\u001b[32m>\u001b[0m\u001b[32m\\n\\n                    \u001b[0m\u001b[32m<\u001b[0m\u001b[32mdiv\u001b[0m\u001b[32m \u001b[0m\u001b[32mclass\u001b[0m\u001b[32m=\u001b[0m\u001b[32m\"medium\u001b[0m\u001b[32m-widget applications-widget last\"\u001b[0m\u001b[32m>\u001b[0m\u001b[32m\\n                        \u001b[0m\u001b[32m<\u001b[0m\u001b[32mdiv\u001b[0m\u001b[32m \u001b[0m\u001b[32mclass\u001b[0m\u001b[32m=\u001b[0m\u001b[32m\"shrubbery\"\u001b[0m\u001b[32m>\u001b[0m\u001b[32m\\n                            \u001b[0m\u001b[32m<\u001b[0m\u001b[32mh2\u001b[0m\u001b[32m \u001b[0m\u001b[32mclass\u001b[0m\u001b[32m=\u001b[0m\u001b[32m\"widget\u001b[0m\u001b[32m-title\"\u001b[0m\u001b[32m>\u001b[0m\u001b[32m<\u001b[0m\u001b[32mspan\u001b[0m\u001b[32m aria-\u001b[0m\u001b[32mhidden\u001b[0m\u001b[32m=\u001b[0m\u001b[32m\"true\"\u001b[0m\u001b[32m \u001b[0m\u001b[32mclass\u001b[0m\u001b[32m=\u001b[0m\u001b[32m\"icon\u001b[0m\u001b[32m-python\"\u001b[0m\u001b[32m>\u001b[0m\u001b[32m<\u001b[0m\u001b[32m/span\u001b[0m\u001b[32m>\u001b[0m\u001b[32mUse Python for&hellip;\u001b[0m\u001b[32m<\u001b[0m\u001b[32m/h2\u001b[0m\u001b[32m>\u001b[0m\u001b[32m\\r\\n\u001b[0m\u001b[32m<\u001b[0m\u001b[32mp\u001b[0m\u001b[32m \u001b[0m\u001b[32mclass\u001b[0m\u001b[32m=\u001b[0m\u001b[32m\"give\u001b[0m\u001b[32m-me-more\"\u001b[0m\u001b[32m>\u001b[0m\u001b[32m<\u001b[0m\u001b[32ma\u001b[0m\u001b[32m \u001b[0m\u001b[32mhref\u001b[0m\u001b[32m=\"/about/apps\" \u001b[0m\u001b[32mtitle\u001b[0m\u001b[32m=\u001b[0m\u001b[32m\"More\u001b[0m\u001b[32m Applications\"\u001b[0m\u001b[32m>\u001b[0m\u001b[32mMore\u001b[0m\u001b[32m<\u001b[0m\u001b[32m/a\u001b[0m\u001b[32m>\u001b[0m\u001b[32m<\u001b[0m\u001b[32m/p\u001b[0m\u001b[32m>\u001b[0m\u001b[32m\\r\\n\\r\\n\u001b[0m\u001b[32m<\u001b[0m\u001b[32mul\u001b[0m\u001b[32m \u001b[0m\u001b[32mclass\u001b[0m\u001b[32m=\u001b[0m\u001b[32m\"menu\"\u001b[0m\u001b[32m>\u001b[0m\u001b[32m\\r\\n    \u001b[0m\u001b[32m<\u001b[0m\u001b[32mli\u001b[0m\u001b[32m>\u001b[0m\u001b[32m<\u001b[0m\u001b[32mb\u001b[0m\u001b[32m>\u001b[0m\u001b[32mWeb Development\u001b[0m\u001b[32m<\u001b[0m\u001b[32m/b\u001b[0m\u001b[32m>\u001b[0m\u001b[32m:\\r\\n        \u001b[0m\u001b[32m<\u001b[0m\u001b[32mspan\u001b[0m\u001b[32m \u001b[0m\u001b[32mclass\u001b[0m\u001b[32m=\u001b[0m\u001b[32m\"tag\u001b[0m\u001b[32m-wrapper\"\u001b[0m\u001b[32m>\u001b[0m\u001b[32m<\u001b[0m\u001b[32ma\u001b[0m\u001b[32m \u001b[0m\u001b[32mclass\u001b[0m\u001b[32m=\u001b[0m\u001b[32m\"tag\"\u001b[0m\u001b[32m \u001b[0m\u001b[32mhref\u001b[0m\u001b[32m=\u001b[0m\u001b[32m\"http\u001b[0m\u001b[32m://www.djangoproject.com/\"\u001b[0m\u001b[32m>\u001b[0m\u001b[32mDjango\u001b[0m\u001b[32m<\u001b[0m\u001b[32m/a\u001b[0m\u001b[32m>\u001b[0m\u001b[32m, \u001b[0m\u001b[32m<\u001b[0m\u001b[32ma\u001b[0m\u001b[32m \u001b[0m\u001b[32mclass\u001b[0m\u001b[32m=\u001b[0m\u001b[32m\"tag\"\u001b[0m\u001b[32m \u001b[0m\u001b[32mhref\u001b[0m\u001b[32m=\u001b[0m\u001b[32m\"http\u001b[0m\u001b[32m://www.pylonsproject.org/\"\u001b[0m\u001b[32m>\u001b[0m\u001b[32mPyramid\u001b[0m\u001b[32m<\u001b[0m\u001b[32m/a\u001b[0m\u001b[32m>\u001b[0m\u001b[32m, \u001b[0m\u001b[32m<\u001b[0m\u001b[32ma\u001b[0m\u001b[32m \u001b[0m\u001b[32mclass\u001b[0m\u001b[32m=\u001b[0m\u001b[32m\"tag\"\u001b[0m\u001b[32m \u001b[0m\u001b[32mhref\u001b[0m\u001b[32m=\u001b[0m\u001b[32m\"http\u001b[0m\u001b[32m://bottlepy.org\"\u001b[0m\u001b[32m>\u001b[0m\u001b[32mBottle\u001b[0m\u001b[32m<\u001b[0m\u001b[32m/a\u001b[0m\u001b[32m>\u001b[0m\u001b[32m, \u001b[0m\u001b[32m<\u001b[0m\u001b[32ma\u001b[0m\u001b[32m \u001b[0m\u001b[32mclass\u001b[0m\u001b[32m=\u001b[0m\u001b[32m\"tag\"\u001b[0m\u001b[32m \u001b[0m\u001b[32mhref\u001b[0m\u001b[32m=\u001b[0m\u001b[32m\"http\u001b[0m\u001b[32m://tornadoweb.org\"\u001b[0m\u001b[32m>\u001b[0m\u001b[32mTornado\u001b[0m\u001b[32m<\u001b[0m\u001b[32m/a\u001b[0m\u001b[32m>\u001b[0m\u001b[32m, \u001b[0m\u001b[32m<\u001b[0m\u001b[32ma\u001b[0m\u001b[32m \u001b[0m\u001b[32mhref\u001b[0m\u001b[32m=\u001b[0m\u001b[32m\"http\u001b[0m\u001b[32m://flask.pocoo.org/\" \u001b[0m\u001b[32mclass\u001b[0m\u001b[32m=\u001b[0m\u001b[32m\"tag\"\u001b[0m\u001b[32m>\u001b[0m\u001b[32mFlask\u001b[0m\u001b[32m<\u001b[0m\u001b[32m/a\u001b[0m\u001b[32m>\u001b[0m\u001b[32m, \u001b[0m\u001b[32m<\u001b[0m\u001b[32ma\u001b[0m\u001b[32m \u001b[0m\u001b[32mclass\u001b[0m\u001b[32m=\u001b[0m\u001b[32m\"tag\"\u001b[0m\u001b[32m \u001b[0m\u001b[32mhref\u001b[0m\u001b[32m=\u001b[0m\u001b[32m\"http\u001b[0m\u001b[32m://www.web2py.com/\"\u001b[0m\u001b[32m>\u001b[0m\u001b[32mweb2py\u001b[0m\u001b[32m<\u001b[0m\u001b[32m/a\u001b[0m\u001b[32m>\u001b[0m\u001b[32m<\u001b[0m\u001b[32m/span\u001b[0m\u001b[32m>\u001b[0m\u001b[32m<\u001b[0m\u001b[32m/li\u001b[0m\u001b[32m>\u001b[0m\u001b[32m\\r\\n    \u001b[0m\u001b[32m<\u001b[0m\u001b[32mli\u001b[0m\u001b[32m>\u001b[0m\u001b[32m<\u001b[0m\u001b[32mb\u001b[0m\u001b[32m>\u001b[0m\u001b[32mGUI Development\u001b[0m\u001b[32m<\u001b[0m\u001b[32m/b\u001b[0m\u001b[32m>\u001b[0m\u001b[32m:\\r\\n        \u001b[0m\u001b[32m<\u001b[0m\u001b[32mspan\u001b[0m\u001b[32m \u001b[0m\u001b[32mclass\u001b[0m\u001b[32m=\u001b[0m\u001b[32m\"tag\u001b[0m\u001b[32m-wrapper\"\u001b[0m\u001b[32m>\u001b[0m\u001b[32m<\u001b[0m\u001b[32ma\u001b[0m\u001b[32m \u001b[0m\u001b[32mclass\u001b[0m\u001b[32m=\u001b[0m\u001b[32m\"tag\"\u001b[0m\u001b[32m \u001b[0m\u001b[32mhref\u001b[0m\u001b[32m=\u001b[0m\u001b[32m\"http\u001b[0m\u001b[32m://wiki.python.org/moin/TkInter\"\u001b[0m\u001b[32m>\u001b[0m\u001b[32mtkInter\u001b[0m\u001b[32m<\u001b[0m\u001b[32m/a\u001b[0m\u001b[32m>\u001b[0m\u001b[32m, \u001b[0m\u001b[32m<\u001b[0m\u001b[32ma\u001b[0m\u001b[32m \u001b[0m\u001b[32mclass\u001b[0m\u001b[32m=\u001b[0m\u001b[32m\"tag\"\u001b[0m\u001b[32m \u001b[0m\u001b[32mhref\u001b[0m\u001b[32m=\u001b[0m\u001b[32m\"https\u001b[0m\u001b[32m://wiki.gnome.org/Projects/PyGObject\"\u001b[0m\u001b[32m>\u001b[0m\u001b[32mPyGObject\u001b[0m\u001b[32m<\u001b[0m\u001b[32m/a\u001b[0m\u001b[32m>\u001b[0m\u001b[32m, \u001b[0m\u001b[32m<\u001b[0m\u001b[32ma\u001b[0m\u001b[32m \u001b[0m\u001b[32mclass\u001b[0m\u001b[32m=\u001b[0m\u001b[32m\"tag\"\u001b[0m\u001b[32m \u001b[0m\u001b[32mhref\u001b[0m\u001b[32m=\u001b[0m\u001b[32m\"http\u001b[0m\u001b[32m://www.riverbankcomputing.co.uk/software/pyqt/intro\"\u001b[0m\u001b[32m>\u001b[0m\u001b[32mPyQt\u001b[0m\u001b[32m<\u001b[0m\u001b[32m/a\u001b[0m\u001b[32m>\u001b[0m\u001b[32m, \u001b[0m\u001b[32m<\u001b[0m\u001b[32ma\u001b[0m\u001b[32m \u001b[0m\u001b[32mclass\u001b[0m\u001b[32m=\u001b[0m\u001b[32m\"tag\"\u001b[0m\u001b[32m \u001b[0m\u001b[32mhref\u001b[0m\u001b[32m=\u001b[0m\u001b[32m\"https\u001b[0m\u001b[32m://wiki.qt.io/PySide\"\u001b[0m\u001b[32m>\u001b[0m\u001b[32mPySide\u001b[0m\u001b[32m<\u001b[0m\u001b[32m/a\u001b[0m\u001b[32m>\u001b[0m\u001b[32m, \u001b[0m\u001b[32m<\u001b[0m\u001b[32ma\u001b[0m\u001b[32m \u001b[0m\u001b[32mclass\u001b[0m\u001b[32m=\u001b[0m\u001b[32m\"tag\"\u001b[0m\u001b[32m \u001b[0m\u001b[32mhref\u001b[0m\u001b[32m=\u001b[0m\u001b[32m\"https\u001b[0m\u001b[32m://kivy.org/\"\u001b[0m\u001b[32m>\u001b[0m\u001b[32mKivy\u001b[0m\u001b[32m<\u001b[0m\u001b[32m/a\u001b[0m\u001b[32m>\u001b[0m\u001b[32m, \u001b[0m\u001b[32m<\u001b[0m\u001b[32ma\u001b[0m\u001b[32m \u001b[0m\u001b[32mclass\u001b[0m\u001b[32m=\u001b[0m\u001b[32m\"tag\"\u001b[0m\u001b[32m \u001b[0m\u001b[32mhref\u001b[0m\u001b[32m=\u001b[0m\u001b[32m\"http\u001b[0m\u001b[32m://www.wxpython.org/\"\u001b[0m\u001b[32m>\u001b[0m\u001b[32mwxPython\u001b[0m\u001b[32m<\u001b[0m\u001b[32m/a\u001b[0m\u001b[32m>\u001b[0m\u001b[32m<\u001b[0m\u001b[32m/span\u001b[0m\u001b[32m>\u001b[0m\u001b[32m<\u001b[0m\u001b[32m/li\u001b[0m\u001b[32m>\u001b[0m\u001b[32m\\r\\n    \u001b[0m\u001b[32m<\u001b[0m\u001b[32mli\u001b[0m\u001b[32m>\u001b[0m\u001b[32m<\u001b[0m\u001b[32mb\u001b[0m\u001b[32m>\u001b[0m\u001b[32mScientific and Numeric\u001b[0m\u001b[32m<\u001b[0m\u001b[32m/b\u001b[0m\u001b[32m>\u001b[0m\u001b[32m:\\r\\n        \u001b[0m\u001b[32m<\u001b[0m\u001b[32mspan\u001b[0m\u001b[32m \u001b[0m\u001b[32mclass\u001b[0m\u001b[32m=\u001b[0m\u001b[32m\"tag\u001b[0m\u001b[32m-wrapper\"\u001b[0m\u001b[32m>\u001b[0m\u001b[32m\\r\\n\u001b[0m\u001b[32m<\u001b[0m\u001b[32ma\u001b[0m\u001b[32m \u001b[0m\u001b[32mclass\u001b[0m\u001b[32m=\u001b[0m\u001b[32m\"tag\"\u001b[0m\u001b[32m \u001b[0m\u001b[32mhref\u001b[0m\u001b[32m=\u001b[0m\u001b[32m\"http\u001b[0m\u001b[32m://www.scipy.org\"\u001b[0m\u001b[32m>\u001b[0m\u001b[32mSciPy\u001b[0m\u001b[32m<\u001b[0m\u001b[32m/a\u001b[0m\u001b[32m>\u001b[0m\u001b[32m, \u001b[0m\u001b[32m<\u001b[0m\u001b[32ma\u001b[0m\u001b[32m \u001b[0m\u001b[32mclass\u001b[0m\u001b[32m=\u001b[0m\u001b[32m\"tag\"\u001b[0m\u001b[32m \u001b[0m\u001b[32mhref\u001b[0m\u001b[32m=\u001b[0m\u001b[32m\"http\u001b[0m\u001b[32m://pandas.pydata.org/\"\u001b[0m\u001b[32m>\u001b[0m\u001b[32mPandas\u001b[0m\u001b[32m<\u001b[0m\u001b[32m/a\u001b[0m\u001b[32m>\u001b[0m\u001b[32m, \u001b[0m\u001b[32m<\u001b[0m\u001b[32ma\u001b[0m\u001b[32m \u001b[0m\u001b[32mhref\u001b[0m\u001b[32m=\u001b[0m\u001b[32m\"http\u001b[0m\u001b[32m://ipython.org\" \u001b[0m\u001b[32mclass\u001b[0m\u001b[32m=\u001b[0m\u001b[32m\"tag\"\u001b[0m\u001b[32m>\u001b[0m\u001b[32mIPython\u001b[0m\u001b[32m<\u001b[0m\u001b[32m/a\u001b[0m\u001b[32m>\u001b[0m\u001b[32m<\u001b[0m\u001b[32m/span\u001b[0m\u001b[32m>\u001b[0m\u001b[32m<\u001b[0m\u001b[32m/li\u001b[0m\u001b[32m>\u001b[0m\u001b[32m\\r\\n    \u001b[0m\u001b[32m<\u001b[0m\u001b[32mli\u001b[0m\u001b[32m>\u001b[0m\u001b[32m<\u001b[0m\u001b[32mb\u001b[0m\u001b[32m>\u001b[0m\u001b[32mSoftware Development\u001b[0m\u001b[32m<\u001b[0m\u001b[32m/b\u001b[0m\u001b[32m>\u001b[0m\u001b[32m:\\r\\n        \u001b[0m\u001b[32m<\u001b[0m\u001b[32mspan\u001b[0m\u001b[32m \u001b[0m\u001b[32mclass\u001b[0m\u001b[32m=\u001b[0m\u001b[32m\"tag\u001b[0m\u001b[32m-wrapper\"\u001b[0m\u001b[32m>\u001b[0m\u001b[32m<\u001b[0m\u001b[32ma\u001b[0m\u001b[32m \u001b[0m\u001b[32mclass\u001b[0m\u001b[32m=\u001b[0m\u001b[32m\"tag\"\u001b[0m\u001b[32m \u001b[0m\u001b[32mhref\u001b[0m\u001b[32m=\u001b[0m\u001b[32m\"http\u001b[0m\u001b[32m://buildbot.net/\"\u001b[0m\u001b[32m>\u001b[0m\u001b[32mBuildbot\u001b[0m\u001b[32m<\u001b[0m\u001b[32m/a\u001b[0m\u001b[32m>\u001b[0m\u001b[32m, \u001b[0m\u001b[32m<\u001b[0m\u001b[32ma\u001b[0m\u001b[32m \u001b[0m\u001b[32mclass\u001b[0m\u001b[32m=\u001b[0m\u001b[32m\"tag\"\u001b[0m\u001b[32m \u001b[0m\u001b[32mhref\u001b[0m\u001b[32m=\u001b[0m\u001b[32m\"http\u001b[0m\u001b[32m://trac.edgewall.org/\"\u001b[0m\u001b[32m>\u001b[0m\u001b[32mTrac\u001b[0m\u001b[32m<\u001b[0m\u001b[32m/a\u001b[0m\u001b[32m>\u001b[0m\u001b[32m, \u001b[0m\u001b[32m<\u001b[0m\u001b[32ma\u001b[0m\u001b[32m \u001b[0m\u001b[32mclass\u001b[0m\u001b[32m=\u001b[0m\u001b[32m\"tag\"\u001b[0m\u001b[32m \u001b[0m\u001b[32mhref\u001b[0m\u001b[32m=\u001b[0m\u001b[32m\"http\u001b[0m\u001b[32m://roundup.sourceforge.net/\"\u001b[0m\u001b[32m>\u001b[0m\u001b[32mRoundup\u001b[0m\u001b[32m<\u001b[0m\u001b[32m/a\u001b[0m\u001b[32m>\u001b[0m\u001b[32m<\u001b[0m\u001b[32m/span\u001b[0m\u001b[32m>\u001b[0m\u001b[32m<\u001b[0m\u001b[32m/li\u001b[0m\u001b[32m>\u001b[0m\u001b[32m\\r\\n    \u001b[0m\u001b[32m<\u001b[0m\u001b[32mli\u001b[0m\u001b[32m>\u001b[0m\u001b[32m<\u001b[0m\u001b[32mb\u001b[0m\u001b[32m>\u001b[0m\u001b[32mSystem Administration\u001b[0m\u001b[32m<\u001b[0m\u001b[32m/b\u001b[0m\u001b[32m>\u001b[0m\u001b[32m:\\r\\n        \u001b[0m\u001b[32m<\u001b[0m\u001b[32mspan\u001b[0m\u001b[32m \u001b[0m\u001b[32mclass\u001b[0m\u001b[32m=\u001b[0m\u001b[32m\"tag\u001b[0m\u001b[32m-wrapper\"\u001b[0m\u001b[32m>\u001b[0m\u001b[32m<\u001b[0m\u001b[32ma\u001b[0m\u001b[32m \u001b[0m\u001b[32mclass\u001b[0m\u001b[32m=\u001b[0m\u001b[32m\"tag\"\u001b[0m\u001b[32m \u001b[0m\u001b[32mhref\u001b[0m\u001b[32m=\u001b[0m\u001b[32m\"http\u001b[0m\u001b[32m://www.ansible.com\"\u001b[0m\u001b[32m>\u001b[0m\u001b[32mAnsible\u001b[0m\u001b[32m<\u001b[0m\u001b[32m/a\u001b[0m\u001b[32m>\u001b[0m\u001b[32m, \u001b[0m\u001b[32m<\u001b[0m\u001b[32ma\u001b[0m\u001b[32m \u001b[0m\u001b[32mclass\u001b[0m\u001b[32m=\u001b[0m\u001b[32m\"tag\"\u001b[0m\u001b[32m \u001b[0m\u001b[32mhref\u001b[0m\u001b[32m=\u001b[0m\u001b[32m\"https\u001b[0m\u001b[32m://saltproject.io\"\u001b[0m\u001b[32m>\u001b[0m\u001b[32mSalt\u001b[0m\u001b[32m<\u001b[0m\u001b[32m/a\u001b[0m\u001b[32m>\u001b[0m\u001b[32m, \u001b[0m\u001b[32m<\u001b[0m\u001b[32ma\u001b[0m\u001b[32m \u001b[0m\u001b[32mclass\u001b[0m\u001b[32m=\u001b[0m\u001b[32m\"tag\"\u001b[0m\u001b[32m \u001b[0m\u001b[32mhref\u001b[0m\u001b[32m=\u001b[0m\u001b[32m\"https\u001b[0m\u001b[32m://www.openstack.org\"\u001b[0m\u001b[32m>\u001b[0m\u001b[32mOpenStack\u001b[0m\u001b[32m<\u001b[0m\u001b[32m/a\u001b[0m\u001b[32m>\u001b[0m\u001b[32m, \u001b[0m\u001b[32m<\u001b[0m\u001b[32ma\u001b[0m\u001b[32m \u001b[0m\u001b[32mclass\u001b[0m\u001b[32m=\u001b[0m\u001b[32m\"tag\"\u001b[0m\u001b[32m \u001b[0m\u001b[32mhref\u001b[0m\u001b[32m=\u001b[0m\u001b[32m\"https\u001b[0m\u001b[32m://xon.sh\"\u001b[0m\u001b[32m>\u001b[0m\u001b[32mxonsh\u001b[0m\u001b[32m<\u001b[0m\u001b[32m/a\u001b[0m\u001b[32m>\u001b[0m\u001b[32m<\u001b[0m\u001b[32m/span\u001b[0m\u001b[32m>\u001b[0m\u001b[32m<\u001b[0m\u001b[32m/li\u001b[0m\u001b[32m>\u001b[0m\u001b[32m\\r\\n\u001b[0m\u001b[32m<\u001b[0m\u001b[32m/ul\u001b[0m\u001b[32m>\u001b[0m\u001b[32m\\n                        \u001b[0m\u001b[32m<\u001b[0m\u001b[32m/div\u001b[0m\u001b[32m>\u001b[0m\u001b[32m<\u001b[0m\u001b[32m!-- end .shrubbery --\u001b[0m\u001b[32m>\u001b[0m\u001b[32m\\n                    \u001b[0m\u001b[32m<\u001b[0m\u001b[32m/div\u001b[0m\u001b[32m>\u001b[0m\u001b[32m\\n\\n                \u001b[0m\u001b[32m<\u001b[0m\u001b[32m/div\u001b[0m\u001b[32m>\u001b[0m\u001b[32m\\n\\n                \\n                \u001b[0m\u001b[32m<\u001b[0m\u001b[32mdiv\u001b[0m\u001b[32m \u001b[0m\u001b[32mclass\u001b[0m\u001b[32m=\u001b[0m\u001b[32m\"pep\u001b[0m\u001b[32m-widget\"\u001b[0m\u001b[32m>\u001b[0m\u001b[32m\\n\\n                    \u001b[0m\u001b[32m<\u001b[0m\u001b[32mh2\u001b[0m\u001b[32m \u001b[0m\u001b[32mclass\u001b[0m\u001b[32m=\u001b[0m\u001b[32m\"widget\u001b[0m\u001b[32m-title\"\u001b[0m\u001b[32m>\u001b[0m\u001b[32m\\n                        \u001b[0m\u001b[32m<\u001b[0m\u001b[32mspan\u001b[0m\u001b[32m \u001b[0m\u001b[32mclass\u001b[0m\u001b[32m=\u001b[0m\u001b[32m\"prompt\"\u001b[0m\u001b[32m>\u001b[0m\u001b[32m&gt;&gt;&gt;\u001b[0m\u001b[32m<\u001b[0m\u001b[32m/span\u001b[0m\u001b[32m>\u001b[0m\u001b[32m \u001b[0m\u001b[32m<\u001b[0m\u001b[32ma\u001b[0m\u001b[32m \u001b[0m\u001b[32mhref\u001b[0m\u001b[32m=\"/dev/peps/\"\u001b[0m\u001b[32m>\u001b[0m\u001b[32mPython Enhancement Proposals\u001b[0m\u001b[32m<\u001b[0m\u001b[32mspan\u001b[0m\u001b[32m \u001b[0m\u001b[32mclass\u001b[0m\u001b[32m=\u001b[0m\u001b[32m\"say\u001b[0m\u001b[32m-no-more\"\u001b[0m\u001b[32m>\u001b[0m\u001b[32m \u001b[0m\u001b[32m(\u001b[0m\u001b[32mPEPs\u001b[0m\u001b[32m)\u001b[0m\u001b[32m<\u001b[0m\u001b[32m/span\u001b[0m\u001b[32m>\u001b[0m\u001b[32m<\u001b[0m\u001b[32m/a\u001b[0m\u001b[32m>\u001b[0m\u001b[32m: The future of Python\u001b[0m\u001b[32m<\u001b[0m\u001b[32mspan\u001b[0m\u001b[32m \u001b[0m\u001b[32mclass\u001b[0m\u001b[32m=\u001b[0m\u001b[32m\"say\u001b[0m\u001b[32m-no-more\"\u001b[0m\u001b[32m>\u001b[0m\u001b[32m is discussed here.\u001b[0m\u001b[32m<\u001b[0m\u001b[32m/span\u001b[0m\u001b[32m>\u001b[0m\u001b[32m\\n                        \u001b[0m\u001b[32m<\u001b[0m\u001b[32ma\u001b[0m\u001b[32m aria-\u001b[0m\u001b[32mhidden\u001b[0m\u001b[32m=\u001b[0m\u001b[32m\"true\"\u001b[0m\u001b[32m \u001b[0m\u001b[32mclass\u001b[0m\u001b[32m=\u001b[0m\u001b[32m\"rss\u001b[0m\u001b[32m-link\" \u001b[0m\u001b[32mhref\u001b[0m\u001b[32m=\"/dev/peps/peps.rss\"\u001b[0m\u001b[32m>\u001b[0m\u001b[32m<\u001b[0m\u001b[32mspan\u001b[0m\u001b[32m \u001b[0m\u001b[32mclass\u001b[0m\u001b[32m=\u001b[0m\u001b[32m\"icon\u001b[0m\u001b[32m-feed\"\u001b[0m\u001b[32m>\u001b[0m\u001b[32m<\u001b[0m\u001b[32m/span\u001b[0m\u001b[32m>\u001b[0m\u001b[32m RSS\u001b[0m\u001b[32m<\u001b[0m\u001b[32m/a\u001b[0m\u001b[32m>\u001b[0m\u001b[32m\\n                    \u001b[0m\u001b[32m<\u001b[0m\u001b[32m/h2\u001b[0m\u001b[32m>\u001b[0m\u001b[32m\\n\\n\\n                    \\n                    \\n                \u001b[0m\u001b[32m<\u001b[0m\u001b[32m/div\u001b[0m\u001b[32m>\u001b[0m\u001b[32m\\n\\n                                \u001b[0m\u001b[32m<\u001b[0m\u001b[32mdiv\u001b[0m\u001b[32m \u001b[0m\u001b[32mclass\u001b[0m\u001b[32m=\u001b[0m\u001b[32m\"psf\u001b[0m\u001b[32m-widget\"\u001b[0m\u001b[32m>\u001b[0m\u001b[32m\\n\\n                    \u001b[0m\u001b[32m<\u001b[0m\u001b[32mdiv\u001b[0m\u001b[32m \u001b[0m\u001b[32mclass\u001b[0m\u001b[32m=\u001b[0m\u001b[32m\"python\u001b[0m\u001b[32m-logo\"\u001b[0m\u001b[32m>\u001b[0m\u001b[32m<\u001b[0m\u001b[32m/div\u001b[0m\u001b[32m>\u001b[0m\u001b[32m\\n                    \\n                    \u001b[0m\u001b[32m<\u001b[0m\u001b[32mh2\u001b[0m\u001b[32m \u001b[0m\u001b[32mclass\u001b[0m\u001b[32m=\u001b[0m\u001b[32m\"widget\u001b[0m\u001b[32m-title\"\u001b[0m\u001b[32m>\u001b[0m\u001b[32m\\r\\n    \u001b[0m\u001b[32m<\u001b[0m\u001b[32mspan\u001b[0m\u001b[32m \u001b[0m\u001b[32mclass\u001b[0m\u001b[32m=\u001b[0m\u001b[32m\"prompt\"\u001b[0m\u001b[32m>\u001b[0m\u001b[32m&gt;&gt;&gt;\u001b[0m\u001b[32m<\u001b[0m\u001b[32m/span\u001b[0m\u001b[32m>\u001b[0m\u001b[32m \u001b[0m\u001b[32m<\u001b[0m\u001b[32ma\u001b[0m\u001b[32m \u001b[0m\u001b[32mhref\u001b[0m\u001b[32m=\"/psf/\"\u001b[0m\u001b[32m>\u001b[0m\u001b[32mPython Software Foundation\u001b[0m\u001b[32m<\u001b[0m\u001b[32m/a\u001b[0m\u001b[32m>\u001b[0m\u001b[32m\\r\\n\u001b[0m\u001b[32m<\u001b[0m\u001b[32m/h2\u001b[0m\u001b[32m>\u001b[0m\u001b[32m\\r\\n\u001b[0m\u001b[32m<\u001b[0m\u001b[32mp\u001b[0m\u001b[32m>\u001b[0m\u001b[32mThe mission of the Python Software Foundation is to promote, protect, and advance the Python programming language, and to support and facilitate the growth of a diverse and international community of Python programmers. \u001b[0m\u001b[32m<\u001b[0m\u001b[32ma\u001b[0m\u001b[32m \u001b[0m\u001b[32mclass\u001b[0m\u001b[32m=\u001b[0m\u001b[32m\"readmore\"\u001b[0m\u001b[32m \u001b[0m\u001b[32mhref\u001b[0m\u001b[32m=\"/psf/\"\u001b[0m\u001b[32m>\u001b[0m\u001b[32mLearn more\u001b[0m\u001b[32m<\u001b[0m\u001b[32m/a\u001b[0m\u001b[32m>\u001b[0m\u001b[32m \u001b[0m\u001b[32m<\u001b[0m\u001b[32m/p\u001b[0m\u001b[32m>\u001b[0m\u001b[32m\\r\\n\u001b[0m\u001b[32m<\u001b[0m\u001b[32mp\u001b[0m\u001b[32m \u001b[0m\u001b[32mclass\u001b[0m\u001b[32m=\u001b[0m\u001b[32m\"click\u001b[0m\u001b[32m-these\"\u001b[0m\u001b[32m>\u001b[0m\u001b[32m\\r\\n    \u001b[0m\u001b[32m<\u001b[0m\u001b[32ma\u001b[0m\u001b[32m \u001b[0m\u001b[32mclass\u001b[0m\u001b[32m=\u001b[0m\u001b[32m\"button\"\u001b[0m\u001b[32m \u001b[0m\u001b[32mhref\u001b[0m\u001b[32m=\"/users/membership/\"\u001b[0m\u001b[32m>\u001b[0m\u001b[32mBecome a Member\u001b[0m\u001b[32m<\u001b[0m\u001b[32m/a\u001b[0m\u001b[32m>\u001b[0m\u001b[32m\\r\\n    \u001b[0m\u001b[32m<\u001b[0m\u001b[32ma\u001b[0m\u001b[32m \u001b[0m\u001b[32mclass\u001b[0m\u001b[32m=\u001b[0m\u001b[32m\"button\"\u001b[0m\u001b[32m \u001b[0m\u001b[32mhref\u001b[0m\u001b[32m=\"/psf/donations/\"\u001b[0m\u001b[32m>\u001b[0m\u001b[32mDonate to the PSF\u001b[0m\u001b[32m<\u001b[0m\u001b[32m/a\u001b[0m\u001b[32m>\u001b[0m\u001b[32m\\r\\n\u001b[0m\u001b[32m<\u001b[0m\u001b[32m/p\u001b[0m\u001b[32m>\u001b[0m\u001b[32m\\n                \u001b[0m\u001b[32m<\u001b[0m\u001b[32m/div\u001b[0m\u001b[32m>\u001b[0m\u001b[32m\\n\\n\\n\\n\\n                \u001b[0m\u001b[32m<\u001b[0m\u001b[32m/section\u001b[0m\u001b[32m>\u001b[0m\u001b[32m\\n\\n                \\n                \\n\\n                \\n                \\n\\n\\n            \u001b[0m\u001b[32m<\u001b[0m\u001b[32m/div\u001b[0m\u001b[32m>\u001b[0m\u001b[32m<\u001b[0m\u001b[32m!-- end .container --\u001b[0m\u001b[32m>\u001b[0m\u001b[32m\\n        \u001b[0m\u001b[32m<\u001b[0m\u001b[32m/div\u001b[0m\u001b[32m>\u001b[0m\u001b[32m<\u001b[0m\u001b[32m!-- end #content .content-wrapper --\u001b[0m\u001b[32m>\u001b[0m\u001b[32m\\n\\n        \u001b[0m\u001b[32m<\u001b[0m\u001b[32m!-- Footer and social media list --\u001b[0m\u001b[32m>\u001b[0m\u001b[32m\\n        \\n        \u001b[0m\u001b[32m<\u001b[0m\u001b[32mfooter\u001b[0m\u001b[32m \u001b[0m\u001b[32mid\u001b[0m\u001b[32m=\u001b[0m\u001b[32m\"site\u001b[0m\u001b[32m-map\" \u001b[0m\u001b[32mclass\u001b[0m\u001b[32m=\u001b[0m\u001b[32m\"main\u001b[0m\u001b[32m-footer\" \u001b[0m\u001b[32mrole\u001b[0m\u001b[32m=\u001b[0m\u001b[32m\"contentinfo\"\u001b[0m\u001b[32m>\u001b[0m\u001b[32m\\n            \u001b[0m\u001b[32m<\u001b[0m\u001b[32mdiv\u001b[0m\u001b[32m \u001b[0m\u001b[32mclass\u001b[0m\u001b[32m=\u001b[0m\u001b[32m\"main\u001b[0m\u001b[32m-footer-links\"\u001b[0m\u001b[32m>\u001b[0m\u001b[32m\\n                \u001b[0m\u001b[32m<\u001b[0m\u001b[32mdiv\u001b[0m\u001b[32m \u001b[0m\u001b[32mclass\u001b[0m\u001b[32m=\u001b[0m\u001b[32m\"container\"\u001b[0m\u001b[32m>\u001b[0m\u001b[32m\\n\\n                    \\n                    \u001b[0m\u001b[32m<\u001b[0m\u001b[32ma\u001b[0m\u001b[32m \u001b[0m\u001b[32mid\u001b[0m\u001b[32m=\u001b[0m\u001b[32m\"back\u001b[0m\u001b[32m-to-top-1\" \u001b[0m\u001b[32mclass\u001b[0m\u001b[32m=\u001b[0m\u001b[32m\"jump\u001b[0m\u001b[32m-link\" \u001b[0m\u001b[32mhref\u001b[0m\u001b[32m=\"#python-network\"\u001b[0m\u001b[32m>\u001b[0m\u001b[32m<\u001b[0m\u001b[32mspan\u001b[0m\u001b[32m aria-\u001b[0m\u001b[32mhidden\u001b[0m\u001b[32m=\u001b[0m\u001b[32m\"true\"\u001b[0m\u001b[32m \u001b[0m\u001b[32mclass\u001b[0m\u001b[32m=\u001b[0m\u001b[32m\"icon\u001b[0m\u001b[32m-arrow-up\"\u001b[0m\u001b[32m>\u001b[0m\u001b[32m<\u001b[0m\u001b[32mspan\u001b[0m\u001b[32m>\u001b[0m\u001b[32m&#9650;\u001b[0m\u001b[32m<\u001b[0m\u001b[32m/span\u001b[0m\u001b[32m>\u001b[0m\u001b[32m<\u001b[0m\u001b[32m/span\u001b[0m\u001b[32m>\u001b[0m\u001b[32m Back to Top\u001b[0m\u001b[32m<\u001b[0m\u001b[32m/a\u001b[0m\u001b[32m>\u001b[0m\u001b[32m\\n\\n                    \\n\\n\u001b[0m\u001b[32m<\u001b[0m\u001b[32mul\u001b[0m\u001b[32m \u001b[0m\u001b[32mclass\u001b[0m\u001b[32m=\u001b[0m\u001b[32m\"sitemap\u001b[0m\u001b[32m navigation menu do-not-print\" \u001b[0m\u001b[32mrole\u001b[0m\u001b[32m=\u001b[0m\u001b[32m\"tree\"\u001b[0m\u001b[32m \u001b[0m\u001b[32mid\u001b[0m\u001b[32m=\u001b[0m\u001b[32m\"container\"\u001b[0m\u001b[32m>\u001b[0m\u001b[32m\\n    \\n    \u001b[0m\u001b[32m<\u001b[0m\u001b[32mli\u001b[0m\u001b[32m \u001b[0m\u001b[32mclass\u001b[0m\u001b[32m=\u001b[0m\u001b[32m\"tier\u001b[0m\u001b[32m-1 element-1\"\u001b[0m\u001b[32m>\u001b[0m\u001b[32m\\n        \u001b[0m\u001b[32m<\u001b[0m\u001b[32ma\u001b[0m\u001b[32m \u001b[0m\u001b[32mhref\u001b[0m\u001b[32m=\"/about/\" \u001b[0m\u001b[32m>\u001b[0m\u001b[32mAbout\u001b[0m\u001b[32m<\u001b[0m\u001b[32m/a\u001b[0m\u001b[32m>\u001b[0m\u001b[32m\\n        \\n            \\n\\n\u001b[0m\u001b[32m<\u001b[0m\u001b[32mul\u001b[0m\u001b[32m \u001b[0m\u001b[32mclass\u001b[0m\u001b[32m=\u001b[0m\u001b[32m\"subnav\u001b[0m\u001b[32m menu\"\u001b[0m\u001b[32m>\u001b[0m\u001b[32m\\n    \\n        \u001b[0m\u001b[32m<\u001b[0m\u001b[32mli\u001b[0m\u001b[32m \u001b[0m\u001b[32mclass\u001b[0m\u001b[32m=\u001b[0m\u001b[32m\"tier\u001b[0m\u001b[32m-2 element-1\" \u001b[0m\u001b[32mrole\u001b[0m\u001b[32m=\u001b[0m\u001b[32m\"treeitem\"\u001b[0m\u001b[32m>\u001b[0m\u001b[32m<\u001b[0m\u001b[32ma\u001b[0m\u001b[32m \u001b[0m\u001b[32mhref\u001b[0m\u001b[32m=\"/about/apps/\" \u001b[0m\u001b[32mtitle\u001b[0m\u001b[32m=\"\"\u001b[0m\u001b[32m>\u001b[0m\u001b[32mApplications\u001b[0m\u001b[32m<\u001b[0m\u001b[32m/a\u001b[0m\u001b[32m>\u001b[0m\u001b[32m<\u001b[0m\u001b[32m/li\u001b[0m\u001b[32m>\u001b[0m\u001b[32m\\n    \\n        \u001b[0m\u001b[32m<\u001b[0m\u001b[32mli\u001b[0m\u001b[32m \u001b[0m\u001b[32mclass\u001b[0m\u001b[32m=\u001b[0m\u001b[32m\"tier\u001b[0m\u001b[32m-2 element-2\" \u001b[0m\u001b[32mrole\u001b[0m\u001b[32m=\u001b[0m\u001b[32m\"treeitem\"\u001b[0m\u001b[32m>\u001b[0m\u001b[32m<\u001b[0m\u001b[32ma\u001b[0m\u001b[32m \u001b[0m\u001b[32mhref\u001b[0m\u001b[32m=\"/about/quotes/\" \u001b[0m\u001b[32mtitle\u001b[0m\u001b[32m=\"\"\u001b[0m\u001b[32m>\u001b[0m\u001b[32mQuotes\u001b[0m\u001b[32m<\u001b[0m\u001b[32m/a\u001b[0m\u001b[32m>\u001b[0m\u001b[32m<\u001b[0m\u001b[32m/li\u001b[0m\u001b[32m>\u001b[0m\u001b[32m\\n    \\n        \u001b[0m\u001b[32m<\u001b[0m\u001b[32mli\u001b[0m\u001b[32m \u001b[0m\u001b[32mclass\u001b[0m\u001b[32m=\u001b[0m\u001b[32m\"tier\u001b[0m\u001b[32m-2 element-3\" \u001b[0m\u001b[32mrole\u001b[0m\u001b[32m=\u001b[0m\u001b[32m\"treeitem\"\u001b[0m\u001b[32m>\u001b[0m\u001b[32m<\u001b[0m\u001b[32ma\u001b[0m\u001b[32m \u001b[0m\u001b[32mhref\u001b[0m\u001b[32m=\"/about/gettingstarted/\" \u001b[0m\u001b[32mtitle\u001b[0m\u001b[32m=\"\"\u001b[0m\u001b[32m>\u001b[0m\u001b[32mGetting Started\u001b[0m\u001b[32m<\u001b[0m\u001b[32m/a\u001b[0m\u001b[32m>\u001b[0m\u001b[32m<\u001b[0m\u001b[32m/li\u001b[0m\u001b[32m>\u001b[0m\u001b[32m\\n    \\n        \u001b[0m\u001b[32m<\u001b[0m\u001b[32mli\u001b[0m\u001b[32m \u001b[0m\u001b[32mclass\u001b[0m\u001b[32m=\u001b[0m\u001b[32m\"tier\u001b[0m\u001b[32m-2 element-4\" \u001b[0m\u001b[32mrole\u001b[0m\u001b[32m=\u001b[0m\u001b[32m\"treeitem\"\u001b[0m\u001b[32m>\u001b[0m\u001b[32m<\u001b[0m\u001b[32ma\u001b[0m\u001b[32m \u001b[0m\u001b[32mhref\u001b[0m\u001b[32m=\"/about/help/\" \u001b[0m\u001b[32mtitle\u001b[0m\u001b[32m=\"\"\u001b[0m\u001b[32m>\u001b[0m\u001b[32mHelp\u001b[0m\u001b[32m<\u001b[0m\u001b[32m/a\u001b[0m\u001b[32m>\u001b[0m\u001b[32m<\u001b[0m\u001b[32m/li\u001b[0m\u001b[32m>\u001b[0m\u001b[32m\\n    \\n        \u001b[0m\u001b[32m<\u001b[0m\u001b[32mli\u001b[0m\u001b[32m \u001b[0m\u001b[32mclass\u001b[0m\u001b[32m=\u001b[0m\u001b[32m\"tier\u001b[0m\u001b[32m-2 element-5\" \u001b[0m\u001b[32mrole\u001b[0m\u001b[32m=\u001b[0m\u001b[32m\"treeitem\"\u001b[0m\u001b[32m>\u001b[0m\u001b[32m<\u001b[0m\u001b[32ma\u001b[0m\u001b[32m \u001b[0m\u001b[32mhref\u001b[0m\u001b[32m=\u001b[0m\u001b[32m\"http\u001b[0m\u001b[32m://brochure.getpython.info/\" \u001b[0m\u001b[32mtitle\u001b[0m\u001b[32m=\"\"\u001b[0m\u001b[32m>\u001b[0m\u001b[32mPython Brochure\u001b[0m\u001b[32m<\u001b[0m\u001b[32m/a\u001b[0m\u001b[32m>\u001b[0m\u001b[32m<\u001b[0m\u001b[32m/li\u001b[0m\u001b[32m>\u001b[0m\u001b[32m\\n    \\n\u001b[0m\u001b[32m<\u001b[0m\u001b[32m/ul\u001b[0m\u001b[32m>\u001b[0m\u001b[32m\\n\\n        \\n    \u001b[0m\u001b[32m<\u001b[0m\u001b[32m/li\u001b[0m\u001b[32m>\u001b[0m\u001b[32m\\n    \\n    \u001b[0m\u001b[32m<\u001b[0m\u001b[32mli\u001b[0m\u001b[32m \u001b[0m\u001b[32mclass\u001b[0m\u001b[32m=\u001b[0m\u001b[32m\"tier\u001b[0m\u001b[32m-1 element-2\"\u001b[0m\u001b[32m>\u001b[0m\u001b[32m\\n        \u001b[0m\u001b[32m<\u001b[0m\u001b[32ma\u001b[0m\u001b[32m \u001b[0m\u001b[32mhref\u001b[0m\u001b[32m=\"/downloads/\" \u001b[0m\u001b[32m>\u001b[0m\u001b[32mDownloads\u001b[0m\u001b[32m<\u001b[0m\u001b[32m/a\u001b[0m\u001b[32m>\u001b[0m\u001b[32m\\n        \\n            \\n\\n\u001b[0m\u001b[32m<\u001b[0m\u001b[32mul\u001b[0m\u001b[32m \u001b[0m\u001b[32mclass\u001b[0m\u001b[32m=\u001b[0m\u001b[32m\"subnav\u001b[0m\u001b[32m menu\"\u001b[0m\u001b[32m>\u001b[0m\u001b[32m\\n    \\n        \u001b[0m\u001b[32m<\u001b[0m\u001b[32mli\u001b[0m\u001b[32m \u001b[0m\u001b[32mclass\u001b[0m\u001b[32m=\u001b[0m\u001b[32m\"tier\u001b[0m\u001b[32m-2 element-1\" \u001b[0m\u001b[32mrole\u001b[0m\u001b[32m=\u001b[0m\u001b[32m\"treeitem\"\u001b[0m\u001b[32m>\u001b[0m\u001b[32m<\u001b[0m\u001b[32ma\u001b[0m\u001b[32m \u001b[0m\u001b[32mhref\u001b[0m\u001b[32m=\"/downloads/\" \u001b[0m\u001b[32mtitle\u001b[0m\u001b[32m=\"\"\u001b[0m\u001b[32m>\u001b[0m\u001b[32mAll releases\u001b[0m\u001b[32m<\u001b[0m\u001b[32m/a\u001b[0m\u001b[32m>\u001b[0m\u001b[32m<\u001b[0m\u001b[32m/li\u001b[0m\u001b[32m>\u001b[0m\u001b[32m\\n    \\n        \u001b[0m\u001b[32m<\u001b[0m\u001b[32mli\u001b[0m\u001b[32m \u001b[0m\u001b[32mclass\u001b[0m\u001b[32m=\u001b[0m\u001b[32m\"tier\u001b[0m\u001b[32m-2 element-2\" \u001b[0m\u001b[32mrole\u001b[0m\u001b[32m=\u001b[0m\u001b[32m\"treeitem\"\u001b[0m\u001b[32m>\u001b[0m\u001b[32m<\u001b[0m\u001b[32ma\u001b[0m\u001b[32m \u001b[0m\u001b[32mhref\u001b[0m\u001b[32m=\"/downloads/source/\" \u001b[0m\u001b[32mtitle\u001b[0m\u001b[32m=\"\"\u001b[0m\u001b[32m>\u001b[0m\u001b[32mSource code\u001b[0m\u001b[32m<\u001b[0m\u001b[32m/a\u001b[0m\u001b[32m>\u001b[0m\u001b[32m<\u001b[0m\u001b[32m/li\u001b[0m\u001b[32m>\u001b[0m\u001b[32m\\n    \\n        \u001b[0m\u001b[32m<\u001b[0m\u001b[32mli\u001b[0m\u001b[32m \u001b[0m\u001b[32mclass\u001b[0m\u001b[32m=\u001b[0m\u001b[32m\"tier\u001b[0m\u001b[32m-2 element-3\" \u001b[0m\u001b[32mrole\u001b[0m\u001b[32m=\u001b[0m\u001b[32m\"treeitem\"\u001b[0m\u001b[32m>\u001b[0m\u001b[32m<\u001b[0m\u001b[32ma\u001b[0m\u001b[32m \u001b[0m\u001b[32mhref\u001b[0m\u001b[32m=\"/downloads/windows/\" \u001b[0m\u001b[32mtitle\u001b[0m\u001b[32m=\"\"\u001b[0m\u001b[32m>\u001b[0m\u001b[32mWindows\u001b[0m\u001b[32m<\u001b[0m\u001b[32m/a\u001b[0m\u001b[32m>\u001b[0m\u001b[32m<\u001b[0m\u001b[32m/li\u001b[0m\u001b[32m>\u001b[0m\u001b[32m\\n    \\n        \u001b[0m\u001b[32m<\u001b[0m\u001b[32mli\u001b[0m\u001b[32m \u001b[0m\u001b[32mclass\u001b[0m\u001b[32m=\u001b[0m\u001b[32m\"tier\u001b[0m\u001b[32m-2 element-4\" \u001b[0m\u001b[32mrole\u001b[0m\u001b[32m=\u001b[0m\u001b[32m\"treeitem\"\u001b[0m\u001b[32m>\u001b[0m\u001b[32m<\u001b[0m\u001b[32ma\u001b[0m\u001b[32m \u001b[0m\u001b[32mhref\u001b[0m\u001b[32m=\"/downloads/macos/\" \u001b[0m\u001b[32mtitle\u001b[0m\u001b[32m=\"\"\u001b[0m\u001b[32m>\u001b[0m\u001b[32mmacOS\u001b[0m\u001b[32m<\u001b[0m\u001b[32m/a\u001b[0m\u001b[32m>\u001b[0m\u001b[32m<\u001b[0m\u001b[32m/li\u001b[0m\u001b[32m>\u001b[0m\u001b[32m\\n    \\n        \u001b[0m\u001b[32m<\u001b[0m\u001b[32mli\u001b[0m\u001b[32m \u001b[0m\u001b[32mclass\u001b[0m\u001b[32m=\u001b[0m\u001b[32m\"tier\u001b[0m\u001b[32m-2 element-5\" \u001b[0m\u001b[32mrole\u001b[0m\u001b[32m=\u001b[0m\u001b[32m\"treeitem\"\u001b[0m\u001b[32m>\u001b[0m\u001b[32m<\u001b[0m\u001b[32ma\u001b[0m\u001b[32m \u001b[0m\u001b[32mhref\u001b[0m\u001b[32m=\"/download/other/\" \u001b[0m\u001b[32mtitle\u001b[0m\u001b[32m=\"\"\u001b[0m\u001b[32m>\u001b[0m\u001b[32mOther Platforms\u001b[0m\u001b[32m<\u001b[0m\u001b[32m/a\u001b[0m\u001b[32m>\u001b[0m\u001b[32m<\u001b[0m\u001b[32m/li\u001b[0m\u001b[32m>\u001b[0m\u001b[32m\\n    \\n        \u001b[0m\u001b[32m<\u001b[0m\u001b[32mli\u001b[0m\u001b[32m \u001b[0m\u001b[32mclass\u001b[0m\u001b[32m=\u001b[0m\u001b[32m\"tier\u001b[0m\u001b[32m-2 element-6\" \u001b[0m\u001b[32mrole\u001b[0m\u001b[32m=\u001b[0m\u001b[32m\"treeitem\"\u001b[0m\u001b[32m>\u001b[0m\u001b[32m<\u001b[0m\u001b[32ma\u001b[0m\u001b[32m \u001b[0m\u001b[32mhref\u001b[0m\u001b[32m=\u001b[0m\u001b[32m\"https\u001b[0m\u001b[32m://docs.python.org/3/license.html\" \u001b[0m\u001b[32mtitle\u001b[0m\u001b[32m=\"\"\u001b[0m\u001b[32m>\u001b[0m\u001b[32mLicense\u001b[0m\u001b[32m<\u001b[0m\u001b[32m/a\u001b[0m\u001b[32m>\u001b[0m\u001b[32m<\u001b[0m\u001b[32m/li\u001b[0m\u001b[32m>\u001b[0m\u001b[32m\\n    \\n        \u001b[0m\u001b[32m<\u001b[0m\u001b[32mli\u001b[0m\u001b[32m \u001b[0m\u001b[32mclass\u001b[0m\u001b[32m=\u001b[0m\u001b[32m\"tier\u001b[0m\u001b[32m-2 element-7\" \u001b[0m\u001b[32mrole\u001b[0m\u001b[32m=\u001b[0m\u001b[32m\"treeitem\"\u001b[0m\u001b[32m>\u001b[0m\u001b[32m<\u001b[0m\u001b[32ma\u001b[0m\u001b[32m \u001b[0m\u001b[32mhref\u001b[0m\u001b[32m=\"/download/alternatives\" \u001b[0m\u001b[32mtitle\u001b[0m\u001b[32m=\"\"\u001b[0m\u001b[32m>\u001b[0m\u001b[32mAlternative Implementations\u001b[0m\u001b[32m<\u001b[0m\u001b[32m/a\u001b[0m\u001b[32m>\u001b[0m\u001b[32m<\u001b[0m\u001b[32m/li\u001b[0m\u001b[32m>\u001b[0m\u001b[32m\\n    \\n\u001b[0m\u001b[32m<\u001b[0m\u001b[32m/ul\u001b[0m\u001b[32m>\u001b[0m\u001b[32m\\n\\n        \\n    \u001b[0m\u001b[32m<\u001b[0m\u001b[32m/li\u001b[0m\u001b[32m>\u001b[0m\u001b[32m\\n    \\n    \u001b[0m\u001b[32m<\u001b[0m\u001b[32mli\u001b[0m\u001b[32m \u001b[0m\u001b[32mclass\u001b[0m\u001b[32m=\u001b[0m\u001b[32m\"tier\u001b[0m\u001b[32m-1 element-3\"\u001b[0m\u001b[32m>\u001b[0m\u001b[32m\\n        \u001b[0m\u001b[32m<\u001b[0m\u001b[32ma\u001b[0m\u001b[32m \u001b[0m\u001b[32mhref\u001b[0m\u001b[32m=\"/doc/\" \u001b[0m\u001b[32m>\u001b[0m\u001b[32mDocumentation\u001b[0m\u001b[32m<\u001b[0m\u001b[32m/a\u001b[0m\u001b[32m>\u001b[0m\u001b[32m\\n        \\n            \\n\\n\u001b[0m\u001b[32m<\u001b[0m\u001b[32mul\u001b[0m\u001b[32m \u001b[0m\u001b[32mclass\u001b[0m\u001b[32m=\u001b[0m\u001b[32m\"subnav\u001b[0m\u001b[32m menu\"\u001b[0m\u001b[32m>\u001b[0m\u001b[32m\\n    \\n        \u001b[0m\u001b[32m<\u001b[0m\u001b[32mli\u001b[0m\u001b[32m \u001b[0m\u001b[32mclass\u001b[0m\u001b[32m=\u001b[0m\u001b[32m\"tier\u001b[0m\u001b[32m-2 element-1\" \u001b[0m\u001b[32mrole\u001b[0m\u001b[32m=\u001b[0m\u001b[32m\"treeitem\"\u001b[0m\u001b[32m>\u001b[0m\u001b[32m<\u001b[0m\u001b[32ma\u001b[0m\u001b[32m \u001b[0m\u001b[32mhref\u001b[0m\u001b[32m=\"/doc/\" \u001b[0m\u001b[32mtitle\u001b[0m\u001b[32m=\"\"\u001b[0m\u001b[32m>\u001b[0m\u001b[32mDocs\u001b[0m\u001b[32m<\u001b[0m\u001b[32m/a\u001b[0m\u001b[32m>\u001b[0m\u001b[32m<\u001b[0m\u001b[32m/li\u001b[0m\u001b[32m>\u001b[0m\u001b[32m\\n    \\n        \u001b[0m\u001b[32m<\u001b[0m\u001b[32mli\u001b[0m\u001b[32m \u001b[0m\u001b[32mclass\u001b[0m\u001b[32m=\u001b[0m\u001b[32m\"tier\u001b[0m\u001b[32m-2 element-2\" \u001b[0m\u001b[32mrole\u001b[0m\u001b[32m=\u001b[0m\u001b[32m\"treeitem\"\u001b[0m\u001b[32m>\u001b[0m\u001b[32m<\u001b[0m\u001b[32ma\u001b[0m\u001b[32m \u001b[0m\u001b[32mhref\u001b[0m\u001b[32m=\"/doc/av\" \u001b[0m\u001b[32mtitle\u001b[0m\u001b[32m=\"\"\u001b[0m\u001b[32m>\u001b[0m\u001b[32mAudio/Visual Talks\u001b[0m\u001b[32m<\u001b[0m\u001b[32m/a\u001b[0m\u001b[32m>\u001b[0m\u001b[32m<\u001b[0m\u001b[32m/li\u001b[0m\u001b[32m>\u001b[0m\u001b[32m\\n    \\n        \u001b[0m\u001b[32m<\u001b[0m\u001b[32mli\u001b[0m\u001b[32m \u001b[0m\u001b[32mclass\u001b[0m\u001b[32m=\u001b[0m\u001b[32m\"tier\u001b[0m\u001b[32m-2 element-3\" \u001b[0m\u001b[32mrole\u001b[0m\u001b[32m=\u001b[0m\u001b[32m\"treeitem\"\u001b[0m\u001b[32m>\u001b[0m\u001b[32m<\u001b[0m\u001b[32ma\u001b[0m\u001b[32m \u001b[0m\u001b[32mhref\u001b[0m\u001b[32m=\u001b[0m\u001b[32m\"https\u001b[0m\u001b[32m://wiki.python.org/moin/BeginnersGuide\" \u001b[0m\u001b[32mtitle\u001b[0m\u001b[32m=\"\"\u001b[0m\u001b[32m>\u001b[0m\u001b[32mBeginner&#39;s Guide\u001b[0m\u001b[32m<\u001b[0m\u001b[32m/a\u001b[0m\u001b[32m>\u001b[0m\u001b[32m<\u001b[0m\u001b[32m/li\u001b[0m\u001b[32m>\u001b[0m\u001b[32m\\n    \\n        \u001b[0m\u001b[32m<\u001b[0m\u001b[32mli\u001b[0m\u001b[32m \u001b[0m\u001b[32mclass\u001b[0m\u001b[32m=\u001b[0m\u001b[32m\"tier\u001b[0m\u001b[32m-2 element-4\" \u001b[0m\u001b[32mrole\u001b[0m\u001b[32m=\u001b[0m\u001b[32m\"treeitem\"\u001b[0m\u001b[32m>\u001b[0m\u001b[32m<\u001b[0m\u001b[32ma\u001b[0m\u001b[32m \u001b[0m\u001b[32mhref\u001b[0m\u001b[32m=\u001b[0m\u001b[32m\"https\u001b[0m\u001b[32m://devguide.python.org/\" \u001b[0m\u001b[32mtitle\u001b[0m\u001b[32m=\"\"\u001b[0m\u001b[32m>\u001b[0m\u001b[32mDeveloper&#39;s Guide\u001b[0m\u001b[32m<\u001b[0m\u001b[32m/a\u001b[0m\u001b[32m>\u001b[0m\u001b[32m<\u001b[0m\u001b[32m/li\u001b[0m\u001b[32m>\u001b[0m\u001b[32m\\n    \\n        \u001b[0m\u001b[32m<\u001b[0m\u001b[32mli\u001b[0m\u001b[32m \u001b[0m\u001b[32mclass\u001b[0m\u001b[32m=\u001b[0m\u001b[32m\"tier\u001b[0m\u001b[32m-2 element-5\" \u001b[0m\u001b[32mrole\u001b[0m\u001b[32m=\u001b[0m\u001b[32m\"treeitem\"\u001b[0m\u001b[32m>\u001b[0m\u001b[32m<\u001b[0m\u001b[32ma\u001b[0m\u001b[32m \u001b[0m\u001b[32mhref\u001b[0m\u001b[32m=\u001b[0m\u001b[32m\"https\u001b[0m\u001b[32m://docs.python.org/faq/\" \u001b[0m\u001b[32mtitle\u001b[0m\u001b[32m=\"\"\u001b[0m\u001b[32m>\u001b[0m\u001b[32mFAQ\u001b[0m\u001b[32m<\u001b[0m\u001b[32m/a\u001b[0m\u001b[32m>\u001b[0m\u001b[32m<\u001b[0m\u001b[32m/li\u001b[0m\u001b[32m>\u001b[0m\u001b[32m\\n    \\n        \u001b[0m\u001b[32m<\u001b[0m\u001b[32mli\u001b[0m\u001b[32m \u001b[0m\u001b[32mclass\u001b[0m\u001b[32m=\u001b[0m\u001b[32m\"tier\u001b[0m\u001b[32m-2 element-6\" \u001b[0m\u001b[32mrole\u001b[0m\u001b[32m=\u001b[0m\u001b[32m\"treeitem\"\u001b[0m\u001b[32m>\u001b[0m\u001b[32m<\u001b[0m\u001b[32ma\u001b[0m\u001b[32m \u001b[0m\u001b[32mhref\u001b[0m\u001b[32m=\u001b[0m\u001b[32m\"http\u001b[0m\u001b[32m://wiki.python.org/moin/Languages\" \u001b[0m\u001b[32mtitle\u001b[0m\u001b[32m=\"\"\u001b[0m\u001b[32m>\u001b[0m\u001b[32mNon-English Docs\u001b[0m\u001b[32m<\u001b[0m\u001b[32m/a\u001b[0m\u001b[32m>\u001b[0m\u001b[32m<\u001b[0m\u001b[32m/li\u001b[0m\u001b[32m>\u001b[0m\u001b[32m\\n    \\n        \u001b[0m\u001b[32m<\u001b[0m\u001b[32mli\u001b[0m\u001b[32m \u001b[0m\u001b[32mclass\u001b[0m\u001b[32m=\u001b[0m\u001b[32m\"tier\u001b[0m\u001b[32m-2 element-7\" \u001b[0m\u001b[32mrole\u001b[0m\u001b[32m=\u001b[0m\u001b[32m\"treeitem\"\u001b[0m\u001b[32m>\u001b[0m\u001b[32m<\u001b[0m\u001b[32ma\u001b[0m\u001b[32m \u001b[0m\u001b[32mhref\u001b[0m\u001b[32m=\u001b[0m\u001b[32m\"http\u001b[0m\u001b[32m://python.org/dev/peps/\" \u001b[0m\u001b[32mtitle\u001b[0m\u001b[32m=\"\"\u001b[0m\u001b[32m>\u001b[0m\u001b[32mPEP Index\u001b[0m\u001b[32m<\u001b[0m\u001b[32m/a\u001b[0m\u001b[32m>\u001b[0m\u001b[32m<\u001b[0m\u001b[32m/li\u001b[0m\u001b[32m>\u001b[0m\u001b[32m\\n    \\n        \u001b[0m\u001b[32m<\u001b[0m\u001b[32mli\u001b[0m\u001b[32m \u001b[0m\u001b[32mclass\u001b[0m\u001b[32m=\u001b[0m\u001b[32m\"tier\u001b[0m\u001b[32m-2 element-8\" \u001b[0m\u001b[32mrole\u001b[0m\u001b[32m=\u001b[0m\u001b[32m\"treeitem\"\u001b[0m\u001b[32m>\u001b[0m\u001b[32m<\u001b[0m\u001b[32ma\u001b[0m\u001b[32m \u001b[0m\u001b[32mhref\u001b[0m\u001b[32m=\u001b[0m\u001b[32m\"https\u001b[0m\u001b[32m://wiki.python.org/moin/PythonBooks\" \u001b[0m\u001b[32mtitle\u001b[0m\u001b[32m=\"\"\u001b[0m\u001b[32m>\u001b[0m\u001b[32mPython Books\u001b[0m\u001b[32m<\u001b[0m\u001b[32m/a\u001b[0m\u001b[32m>\u001b[0m\u001b[32m<\u001b[0m\u001b[32m/li\u001b[0m\u001b[32m>\u001b[0m\u001b[32m\\n    \\n        \u001b[0m\u001b[32m<\u001b[0m\u001b[32mli\u001b[0m\u001b[32m \u001b[0m\u001b[32mclass\u001b[0m\u001b[32m=\u001b[0m\u001b[32m\"tier\u001b[0m\u001b[32m-2 element-9\" \u001b[0m\u001b[32mrole\u001b[0m\u001b[32m=\u001b[0m\u001b[32m\"treeitem\"\u001b[0m\u001b[32m>\u001b[0m\u001b[32m<\u001b[0m\u001b[32ma\u001b[0m\u001b[32m \u001b[0m\u001b[32mhref\u001b[0m\u001b[32m=\"/doc/essays/\" \u001b[0m\u001b[32mtitle\u001b[0m\u001b[32m=\"\"\u001b[0m\u001b[32m>\u001b[0m\u001b[32mPython Essays\u001b[0m\u001b[32m<\u001b[0m\u001b[32m/a\u001b[0m\u001b[32m>\u001b[0m\u001b[32m<\u001b[0m\u001b[32m/li\u001b[0m\u001b[32m>\u001b[0m\u001b[32m\\n    \\n\u001b[0m\u001b[32m<\u001b[0m\u001b[32m/ul\u001b[0m\u001b[32m>\u001b[0m\u001b[32m\\n\\n        \\n    \u001b[0m\u001b[32m<\u001b[0m\u001b[32m/li\u001b[0m\u001b[32m>\u001b[0m\u001b[32m\\n    \\n    \u001b[0m\u001b[32m<\u001b[0m\u001b[32mli\u001b[0m\u001b[32m \u001b[0m\u001b[32mclass\u001b[0m\u001b[32m=\u001b[0m\u001b[32m\"tier\u001b[0m\u001b[32m-1 element-4\"\u001b[0m\u001b[32m>\u001b[0m\u001b[32m\\n        \u001b[0m\u001b[32m<\u001b[0m\u001b[32ma\u001b[0m\u001b[32m \u001b[0m\u001b[32mhref\u001b[0m\u001b[32m=\"/community/\" \u001b[0m\u001b[32m>\u001b[0m\u001b[32mCommunity\u001b[0m\u001b[32m<\u001b[0m\u001b[32m/a\u001b[0m\u001b[32m>\u001b[0m\u001b[32m\\n        \\n            \\n\\n\u001b[0m\u001b[32m<\u001b[0m\u001b[32mul\u001b[0m\u001b[32m \u001b[0m\u001b[32mclass\u001b[0m\u001b[32m=\u001b[0m\u001b[32m\"subnav\u001b[0m\u001b[32m menu\"\u001b[0m\u001b[32m>\u001b[0m\u001b[32m\\n    \\n        \u001b[0m\u001b[32m<\u001b[0m\u001b[32mli\u001b[0m\u001b[32m \u001b[0m\u001b[32mclass\u001b[0m\u001b[32m=\u001b[0m\u001b[32m\"tier\u001b[0m\u001b[32m-2 element-1\" \u001b[0m\u001b[32mrole\u001b[0m\u001b[32m=\u001b[0m\u001b[32m\"treeitem\"\u001b[0m\u001b[32m>\u001b[0m\u001b[32m<\u001b[0m\u001b[32ma\u001b[0m\u001b[32m \u001b[0m\u001b[32mhref\u001b[0m\u001b[32m=\"/community/diversity/\" \u001b[0m\u001b[32mtitle\u001b[0m\u001b[32m=\"\"\u001b[0m\u001b[32m>\u001b[0m\u001b[32mDiversity\u001b[0m\u001b[32m<\u001b[0m\u001b[32m/a\u001b[0m\u001b[32m>\u001b[0m\u001b[32m<\u001b[0m\u001b[32m/li\u001b[0m\u001b[32m>\u001b[0m\u001b[32m\\n    \\n        \u001b[0m\u001b[32m<\u001b[0m\u001b[32mli\u001b[0m\u001b[32m \u001b[0m\u001b[32mclass\u001b[0m\u001b[32m=\u001b[0m\u001b[32m\"tier\u001b[0m\u001b[32m-2 element-2\" \u001b[0m\u001b[32mrole\u001b[0m\u001b[32m=\u001b[0m\u001b[32m\"treeitem\"\u001b[0m\u001b[32m>\u001b[0m\u001b[32m<\u001b[0m\u001b[32ma\u001b[0m\u001b[32m \u001b[0m\u001b[32mhref\u001b[0m\u001b[32m=\"/community/lists/\" \u001b[0m\u001b[32mtitle\u001b[0m\u001b[32m=\"\"\u001b[0m\u001b[32m>\u001b[0m\u001b[32mMailing Lists\u001b[0m\u001b[32m<\u001b[0m\u001b[32m/a\u001b[0m\u001b[32m>\u001b[0m\u001b[32m<\u001b[0m\u001b[32m/li\u001b[0m\u001b[32m>\u001b[0m\u001b[32m\\n    \\n        \u001b[0m\u001b[32m<\u001b[0m\u001b[32mli\u001b[0m\u001b[32m \u001b[0m\u001b[32mclass\u001b[0m\u001b[32m=\u001b[0m\u001b[32m\"tier\u001b[0m\u001b[32m-2 element-3\" \u001b[0m\u001b[32mrole\u001b[0m\u001b[32m=\u001b[0m\u001b[32m\"treeitem\"\u001b[0m\u001b[32m>\u001b[0m\u001b[32m<\u001b[0m\u001b[32ma\u001b[0m\u001b[32m \u001b[0m\u001b[32mhref\u001b[0m\u001b[32m=\"/community/irc/\" \u001b[0m\u001b[32mtitle\u001b[0m\u001b[32m=\"\"\u001b[0m\u001b[32m>\u001b[0m\u001b[32mIRC\u001b[0m\u001b[32m<\u001b[0m\u001b[32m/a\u001b[0m\u001b[32m>\u001b[0m\u001b[32m<\u001b[0m\u001b[32m/li\u001b[0m\u001b[32m>\u001b[0m\u001b[32m\\n    \\n        \u001b[0m\u001b[32m<\u001b[0m\u001b[32mli\u001b[0m\u001b[32m \u001b[0m\u001b[32mclass\u001b[0m\u001b[32m=\u001b[0m\u001b[32m\"tier\u001b[0m\u001b[32m-2 element-4\" \u001b[0m\u001b[32mrole\u001b[0m\u001b[32m=\u001b[0m\u001b[32m\"treeitem\"\u001b[0m\u001b[32m>\u001b[0m\u001b[32m<\u001b[0m\u001b[32ma\u001b[0m\u001b[32m \u001b[0m\u001b[32mhref\u001b[0m\u001b[32m=\"/community/forums/\" \u001b[0m\u001b[32mtitle\u001b[0m\u001b[32m=\"\"\u001b[0m\u001b[32m>\u001b[0m\u001b[32mForums\u001b[0m\u001b[32m<\u001b[0m\u001b[32m/a\u001b[0m\u001b[32m>\u001b[0m\u001b[32m<\u001b[0m\u001b[32m/li\u001b[0m\u001b[32m>\u001b[0m\u001b[32m\\n    \\n        \u001b[0m\u001b[32m<\u001b[0m\u001b[32mli\u001b[0m\u001b[32m \u001b[0m\u001b[32mclass\u001b[0m\u001b[32m=\u001b[0m\u001b[32m\"tier\u001b[0m\u001b[32m-2 element-5\" \u001b[0m\u001b[32mrole\u001b[0m\u001b[32m=\u001b[0m\u001b[32m\"treeitem\"\u001b[0m\u001b[32m>\u001b[0m\u001b[32m<\u001b[0m\u001b[32ma\u001b[0m\u001b[32m \u001b[0m\u001b[32mhref\u001b[0m\u001b[32m=\"/psf/annual-report/2021/\" \u001b[0m\u001b[32mtitle\u001b[0m\u001b[32m=\"\"\u001b[0m\u001b[32m>\u001b[0m\u001b[32mPSF Annual Impact Report\u001b[0m\u001b[32m<\u001b[0m\u001b[32m/a\u001b[0m\u001b[32m>\u001b[0m\u001b[32m<\u001b[0m\u001b[32m/li\u001b[0m\u001b[32m>\u001b[0m\u001b[32m\\n    \\n        \u001b[0m\u001b[32m<\u001b[0m\u001b[32mli\u001b[0m\u001b[32m \u001b[0m\u001b[32mclass\u001b[0m\u001b[32m=\u001b[0m\u001b[32m\"tier\u001b[0m\u001b[32m-2 element-6\" \u001b[0m\u001b[32mrole\u001b[0m\u001b[32m=\u001b[0m\u001b[32m\"treeitem\"\u001b[0m\u001b[32m>\u001b[0m\u001b[32m<\u001b[0m\u001b[32ma\u001b[0m\u001b[32m \u001b[0m\u001b[32mhref\u001b[0m\u001b[32m=\"/community/workshops/\" \u001b[0m\u001b[32mtitle\u001b[0m\u001b[32m=\"\"\u001b[0m\u001b[32m>\u001b[0m\u001b[32mPython Conferences\u001b[0m\u001b[32m<\u001b[0m\u001b[32m/a\u001b[0m\u001b[32m>\u001b[0m\u001b[32m<\u001b[0m\u001b[32m/li\u001b[0m\u001b[32m>\u001b[0m\u001b[32m\\n    \\n        \u001b[0m\u001b[32m<\u001b[0m\u001b[32mli\u001b[0m\u001b[32m \u001b[0m\u001b[32mclass\u001b[0m\u001b[32m=\u001b[0m\u001b[32m\"tier\u001b[0m\u001b[32m-2 element-7\" \u001b[0m\u001b[32mrole\u001b[0m\u001b[32m=\u001b[0m\u001b[32m\"treeitem\"\u001b[0m\u001b[32m>\u001b[0m\u001b[32m<\u001b[0m\u001b[32ma\u001b[0m\u001b[32m \u001b[0m\u001b[32mhref\u001b[0m\u001b[32m=\"/community/sigs/\" \u001b[0m\u001b[32mtitle\u001b[0m\u001b[32m=\"\"\u001b[0m\u001b[32m>\u001b[0m\u001b[32mSpecial Interest Groups\u001b[0m\u001b[32m<\u001b[0m\u001b[32m/a\u001b[0m\u001b[32m>\u001b[0m\u001b[32m<\u001b[0m\u001b[32m/li\u001b[0m\u001b[32m>\u001b[0m\u001b[32m\\n    \\n        \u001b[0m\u001b[32m<\u001b[0m\u001b[32mli\u001b[0m\u001b[32m \u001b[0m\u001b[32mclass\u001b[0m\u001b[32m=\u001b[0m\u001b[32m\"tier\u001b[0m\u001b[32m-2 element-8\" \u001b[0m\u001b[32mrole\u001b[0m\u001b[32m=\u001b[0m\u001b[32m\"treeitem\"\u001b[0m\u001b[32m>\u001b[0m\u001b[32m<\u001b[0m\u001b[32ma\u001b[0m\u001b[32m \u001b[0m\u001b[32mhref\u001b[0m\u001b[32m=\"/community/logos/\" \u001b[0m\u001b[32mtitle\u001b[0m\u001b[32m=\"\"\u001b[0m\u001b[32m>\u001b[0m\u001b[32mPython Logo\u001b[0m\u001b[32m<\u001b[0m\u001b[32m/a\u001b[0m\u001b[32m>\u001b[0m\u001b[32m<\u001b[0m\u001b[32m/li\u001b[0m\u001b[32m>\u001b[0m\u001b[32m\\n    \\n        \u001b[0m\u001b[32m<\u001b[0m\u001b[32mli\u001b[0m\u001b[32m \u001b[0m\u001b[32mclass\u001b[0m\u001b[32m=\u001b[0m\u001b[32m\"tier\u001b[0m\u001b[32m-2 element-9\" \u001b[0m\u001b[32mrole\u001b[0m\u001b[32m=\u001b[0m\u001b[32m\"treeitem\"\u001b[0m\u001b[32m>\u001b[0m\u001b[32m<\u001b[0m\u001b[32ma\u001b[0m\u001b[32m \u001b[0m\u001b[32mhref\u001b[0m\u001b[32m=\u001b[0m\u001b[32m\"https\u001b[0m\u001b[32m://wiki.python.org/moin/\" \u001b[0m\u001b[32mtitle\u001b[0m\u001b[32m=\"\"\u001b[0m\u001b[32m>\u001b[0m\u001b[32mPython Wiki\u001b[0m\u001b[32m<\u001b[0m\u001b[32m/a\u001b[0m\u001b[32m>\u001b[0m\u001b[32m<\u001b[0m\u001b[32m/li\u001b[0m\u001b[32m>\u001b[0m\u001b[32m\\n    \\n        \u001b[0m\u001b[32m<\u001b[0m\u001b[32mli\u001b[0m\u001b[32m \u001b[0m\u001b[32mclass\u001b[0m\u001b[32m=\u001b[0m\u001b[32m\"tier\u001b[0m\u001b[32m-2 element-10\" \u001b[0m\u001b[32mrole\u001b[0m\u001b[32m=\u001b[0m\u001b[32m\"treeitem\"\u001b[0m\u001b[32m>\u001b[0m\u001b[32m<\u001b[0m\u001b[32ma\u001b[0m\u001b[32m \u001b[0m\u001b[32mhref\u001b[0m\u001b[32m=\"/community/merchandise/\" \u001b[0m\u001b[32mtitle\u001b[0m\u001b[32m=\"\"\u001b[0m\u001b[32m>\u001b[0m\u001b[32mMerchandise\u001b[0m\u001b[32m<\u001b[0m\u001b[32m/a\u001b[0m\u001b[32m>\u001b[0m\u001b[32m<\u001b[0m\u001b[32m/li\u001b[0m\u001b[32m>\u001b[0m\u001b[32m\\n    \\n        \u001b[0m\u001b[32m<\u001b[0m\u001b[32mli\u001b[0m\u001b[32m \u001b[0m\u001b[32mclass\u001b[0m\u001b[32m=\u001b[0m\u001b[32m\"tier\u001b[0m\u001b[32m-2 element-11\" \u001b[0m\u001b[32mrole\u001b[0m\u001b[32m=\u001b[0m\u001b[32m\"treeitem\"\u001b[0m\u001b[32m>\u001b[0m\u001b[32m<\u001b[0m\u001b[32ma\u001b[0m\u001b[32m \u001b[0m\u001b[32mhref\u001b[0m\u001b[32m=\"/community/awards\" \u001b[0m\u001b[32mtitle\u001b[0m\u001b[32m=\"\"\u001b[0m\u001b[32m>\u001b[0m\u001b[32mCommunity Awards\u001b[0m\u001b[32m<\u001b[0m\u001b[32m/a\u001b[0m\u001b[32m>\u001b[0m\u001b[32m<\u001b[0m\u001b[32m/li\u001b[0m\u001b[32m>\u001b[0m\u001b[32m\\n    \\n        \u001b[0m\u001b[32m<\u001b[0m\u001b[32mli\u001b[0m\u001b[32m \u001b[0m\u001b[32mclass\u001b[0m\u001b[32m=\u001b[0m\u001b[32m\"tier\u001b[0m\u001b[32m-2 element-12\" \u001b[0m\u001b[32mrole\u001b[0m\u001b[32m=\u001b[0m\u001b[32m\"treeitem\"\u001b[0m\u001b[32m>\u001b[0m\u001b[32m<\u001b[0m\u001b[32ma\u001b[0m\u001b[32m \u001b[0m\u001b[32mhref\u001b[0m\u001b[32m=\"/psf/conduct/\" \u001b[0m\u001b[32mtitle\u001b[0m\u001b[32m=\"\"\u001b[0m\u001b[32m>\u001b[0m\u001b[32mCode of Conduct\u001b[0m\u001b[32m<\u001b[0m\u001b[32m/a\u001b[0m\u001b[32m>\u001b[0m\u001b[32m<\u001b[0m\u001b[32m/li\u001b[0m\u001b[32m>\u001b[0m\u001b[32m\\n    \\n        \u001b[0m\u001b[32m<\u001b[0m\u001b[32mli\u001b[0m\u001b[32m \u001b[0m\u001b[32mclass\u001b[0m\u001b[32m=\u001b[0m\u001b[32m\"tier\u001b[0m\u001b[32m-2 element-13\" \u001b[0m\u001b[32mrole\u001b[0m\u001b[32m=\u001b[0m\u001b[32m\"treeitem\"\u001b[0m\u001b[32m>\u001b[0m\u001b[32m<\u001b[0m\u001b[32ma\u001b[0m\u001b[32m \u001b[0m\u001b[32mhref\u001b[0m\u001b[32m=\"/psf/get-involved/\" \u001b[0m\u001b[32mtitle\u001b[0m\u001b[32m=\"\"\u001b[0m\u001b[32m>\u001b[0m\u001b[32mGet Involved\u001b[0m\u001b[32m<\u001b[0m\u001b[32m/a\u001b[0m\u001b[32m>\u001b[0m\u001b[32m<\u001b[0m\u001b[32m/li\u001b[0m\u001b[32m>\u001b[0m\u001b[32m\\n    \\n        \u001b[0m\u001b[32m<\u001b[0m\u001b[32mli\u001b[0m\u001b[32m \u001b[0m\u001b[32mclass\u001b[0m\u001b[32m=\u001b[0m\u001b[32m\"tier\u001b[0m\u001b[32m-2 element-14\" \u001b[0m\u001b[32mrole\u001b[0m\u001b[32m=\u001b[0m\u001b[32m\"treeitem\"\u001b[0m\u001b[32m>\u001b[0m\u001b[32m<\u001b[0m\u001b[32ma\u001b[0m\u001b[32m \u001b[0m\u001b[32mhref\u001b[0m\u001b[32m=\"/psf/community-stories/\" \u001b[0m\u001b[32mtitle\u001b[0m\u001b[32m=\"\"\u001b[0m\u001b[32m>\u001b[0m\u001b[32mShared Stories\u001b[0m\u001b[32m<\u001b[0m\u001b[32m/a\u001b[0m\u001b[32m>\u001b[0m\u001b[32m<\u001b[0m\u001b[32m/li\u001b[0m\u001b[32m>\u001b[0m\u001b[32m\\n    \\n\u001b[0m\u001b[32m<\u001b[0m\u001b[32m/ul\u001b[0m\u001b[32m>\u001b[0m\u001b[32m\\n\\n        \\n    \u001b[0m\u001b[32m<\u001b[0m\u001b[32m/li\u001b[0m\u001b[32m>\u001b[0m\u001b[32m\\n    \\n    \u001b[0m\u001b[32m<\u001b[0m\u001b[32mli\u001b[0m\u001b[32m \u001b[0m\u001b[32mclass\u001b[0m\u001b[32m=\u001b[0m\u001b[32m\"tier\u001b[0m\u001b[32m-1 element-5\"\u001b[0m\u001b[32m>\u001b[0m\u001b[32m\\n        \u001b[0m\u001b[32m<\u001b[0m\u001b[32ma\u001b[0m\u001b[32m \u001b[0m\u001b[32mhref\u001b[0m\u001b[32m=\"/success-stories/\" \u001b[0m\u001b[32mtitle\u001b[0m\u001b[32m=\u001b[0m\u001b[32m\"success\u001b[0m\u001b[32m-stories\"\u001b[0m\u001b[32m>\u001b[0m\u001b[32mSuccess Stories\u001b[0m\u001b[32m<\u001b[0m\u001b[32m/a\u001b[0m\u001b[32m>\u001b[0m\u001b[32m\\n        \\n            \\n\\n\u001b[0m\u001b[32m<\u001b[0m\u001b[32mul\u001b[0m\u001b[32m \u001b[0m\u001b[32mclass\u001b[0m\u001b[32m=\u001b[0m\u001b[32m\"subnav\u001b[0m\u001b[32m menu\"\u001b[0m\u001b[32m>\u001b[0m\u001b[32m\\n    \\n        \u001b[0m\u001b[32m<\u001b[0m\u001b[32mli\u001b[0m\u001b[32m \u001b[0m\u001b[32mclass\u001b[0m\u001b[32m=\u001b[0m\u001b[32m\"tier\u001b[0m\u001b[32m-2 element-1\" \u001b[0m\u001b[32mrole\u001b[0m\u001b[32m=\u001b[0m\u001b[32m\"treeitem\"\u001b[0m\u001b[32m>\u001b[0m\u001b[32m<\u001b[0m\u001b[32ma\u001b[0m\u001b[32m \u001b[0m\u001b[32mhref\u001b[0m\u001b[32m=\"/success-stories/category/arts/\" \u001b[0m\u001b[32mtitle\u001b[0m\u001b[32m=\"\"\u001b[0m\u001b[32m>\u001b[0m\u001b[32mArts\u001b[0m\u001b[32m<\u001b[0m\u001b[32m/a\u001b[0m\u001b[32m>\u001b[0m\u001b[32m<\u001b[0m\u001b[32m/li\u001b[0m\u001b[32m>\u001b[0m\u001b[32m\\n    \\n        \u001b[0m\u001b[32m<\u001b[0m\u001b[32mli\u001b[0m\u001b[32m \u001b[0m\u001b[32mclass\u001b[0m\u001b[32m=\u001b[0m\u001b[32m\"tier\u001b[0m\u001b[32m-2 element-2\" \u001b[0m\u001b[32mrole\u001b[0m\u001b[32m=\u001b[0m\u001b[32m\"treeitem\"\u001b[0m\u001b[32m>\u001b[0m\u001b[32m<\u001b[0m\u001b[32ma\u001b[0m\u001b[32m \u001b[0m\u001b[32mhref\u001b[0m\u001b[32m=\"/success-stories/category/business/\" \u001b[0m\u001b[32mtitle\u001b[0m\u001b[32m=\"\"\u001b[0m\u001b[32m>\u001b[0m\u001b[32mBusiness\u001b[0m\u001b[32m<\u001b[0m\u001b[32m/a\u001b[0m\u001b[32m>\u001b[0m\u001b[32m<\u001b[0m\u001b[32m/li\u001b[0m\u001b[32m>\u001b[0m\u001b[32m\\n    \\n        \u001b[0m\u001b[32m<\u001b[0m\u001b[32mli\u001b[0m\u001b[32m \u001b[0m\u001b[32mclass\u001b[0m\u001b[32m=\u001b[0m\u001b[32m\"tier\u001b[0m\u001b[32m-2 element-3\" \u001b[0m\u001b[32mrole\u001b[0m\u001b[32m=\u001b[0m\u001b[32m\"treeitem\"\u001b[0m\u001b[32m>\u001b[0m\u001b[32m<\u001b[0m\u001b[32ma\u001b[0m\u001b[32m \u001b[0m\u001b[32mhref\u001b[0m\u001b[32m=\"/success-stories/category/education/\" \u001b[0m\u001b[32mtitle\u001b[0m\u001b[32m=\"\"\u001b[0m\u001b[32m>\u001b[0m\u001b[32mEducation\u001b[0m\u001b[32m<\u001b[0m\u001b[32m/a\u001b[0m\u001b[32m>\u001b[0m\u001b[32m<\u001b[0m\u001b[32m/li\u001b[0m\u001b[32m>\u001b[0m\u001b[32m\\n    \\n        \u001b[0m\u001b[32m<\u001b[0m\u001b[32mli\u001b[0m\u001b[32m \u001b[0m\u001b[32mclass\u001b[0m\u001b[32m=\u001b[0m\u001b[32m\"tier\u001b[0m\u001b[32m-2 element-4\" \u001b[0m\u001b[32mrole\u001b[0m\u001b[32m=\u001b[0m\u001b[32m\"treeitem\"\u001b[0m\u001b[32m>\u001b[0m\u001b[32m<\u001b[0m\u001b[32ma\u001b[0m\u001b[32m \u001b[0m\u001b[32mhref\u001b[0m\u001b[32m=\"/success-stories/category/engineering/\" \u001b[0m\u001b[32mtitle\u001b[0m\u001b[32m=\"\"\u001b[0m\u001b[32m>\u001b[0m\u001b[32mEngineering\u001b[0m\u001b[32m<\u001b[0m\u001b[32m/a\u001b[0m\u001b[32m>\u001b[0m\u001b[32m<\u001b[0m\u001b[32m/li\u001b[0m\u001b[32m>\u001b[0m\u001b[32m\\n    \\n        \u001b[0m\u001b[32m<\u001b[0m\u001b[32mli\u001b[0m\u001b[32m \u001b[0m\u001b[32mclass\u001b[0m\u001b[32m=\u001b[0m\u001b[32m\"tier\u001b[0m\u001b[32m-2 element-5\" \u001b[0m\u001b[32mrole\u001b[0m\u001b[32m=\u001b[0m\u001b[32m\"treeitem\"\u001b[0m\u001b[32m>\u001b[0m\u001b[32m<\u001b[0m\u001b[32ma\u001b[0m\u001b[32m \u001b[0m\u001b[32mhref\u001b[0m\u001b[32m=\"/success-stories/category/government/\" \u001b[0m\u001b[32mtitle\u001b[0m\u001b[32m=\"\"\u001b[0m\u001b[32m>\u001b[0m\u001b[32mGovernment\u001b[0m\u001b[32m<\u001b[0m\u001b[32m/a\u001b[0m\u001b[32m>\u001b[0m\u001b[32m<\u001b[0m\u001b[32m/li\u001b[0m\u001b[32m>\u001b[0m\u001b[32m\\n    \\n        \u001b[0m\u001b[32m<\u001b[0m\u001b[32mli\u001b[0m\u001b[32m \u001b[0m\u001b[32mclass\u001b[0m\u001b[32m=\u001b[0m\u001b[32m\"tier\u001b[0m\u001b[32m-2 element-6\" \u001b[0m\u001b[32mrole\u001b[0m\u001b[32m=\u001b[0m\u001b[32m\"treeitem\"\u001b[0m\u001b[32m>\u001b[0m\u001b[32m<\u001b[0m\u001b[32ma\u001b[0m\u001b[32m \u001b[0m\u001b[32mhref\u001b[0m\u001b[32m=\"/success-stories/category/scientific/\" \u001b[0m\u001b[32mtitle\u001b[0m\u001b[32m=\"\"\u001b[0m\u001b[32m>\u001b[0m\u001b[32mScientific\u001b[0m\u001b[32m<\u001b[0m\u001b[32m/a\u001b[0m\u001b[32m>\u001b[0m\u001b[32m<\u001b[0m\u001b[32m/li\u001b[0m\u001b[32m>\u001b[0m\u001b[32m\\n    \\n        \u001b[0m\u001b[32m<\u001b[0m\u001b[32mli\u001b[0m\u001b[32m \u001b[0m\u001b[32mclass\u001b[0m\u001b[32m=\u001b[0m\u001b[32m\"tier\u001b[0m\u001b[32m-2 element-7\" \u001b[0m\u001b[32mrole\u001b[0m\u001b[32m=\u001b[0m\u001b[32m\"treeitem\"\u001b[0m\u001b[32m>\u001b[0m\u001b[32m<\u001b[0m\u001b[32ma\u001b[0m\u001b[32m \u001b[0m\u001b[32mhref\u001b[0m\u001b[32m=\"/success-stories/category/software-development/\" \u001b[0m\u001b[32mtitle\u001b[0m\u001b[32m=\"\"\u001b[0m\u001b[32m>\u001b[0m\u001b[32mSoftware Development\u001b[0m\u001b[32m<\u001b[0m\u001b[32m/a\u001b[0m\u001b[32m>\u001b[0m\u001b[32m<\u001b[0m\u001b[32m/li\u001b[0m\u001b[32m>\u001b[0m\u001b[32m\\n    \\n\u001b[0m\u001b[32m<\u001b[0m\u001b[32m/ul\u001b[0m\u001b[32m>\u001b[0m\u001b[32m\\n\\n        \\n    \u001b[0m\u001b[32m<\u001b[0m\u001b[32m/li\u001b[0m\u001b[32m>\u001b[0m\u001b[32m\\n    \\n    \u001b[0m\u001b[32m<\u001b[0m\u001b[32mli\u001b[0m\u001b[32m \u001b[0m\u001b[32mclass\u001b[0m\u001b[32m=\u001b[0m\u001b[32m\"tier\u001b[0m\u001b[32m-1 element-6\"\u001b[0m\u001b[32m>\u001b[0m\u001b[32m\\n        \u001b[0m\u001b[32m<\u001b[0m\u001b[32ma\u001b[0m\u001b[32m \u001b[0m\u001b[32mhref\u001b[0m\u001b[32m=\"/blogs/\" \u001b[0m\u001b[32mtitle\u001b[0m\u001b[32m=\u001b[0m\u001b[32m\"News\u001b[0m\u001b[32m from around the Python world\"\u001b[0m\u001b[32m>\u001b[0m\u001b[32mNews\u001b[0m\u001b[32m<\u001b[0m\u001b[32m/a\u001b[0m\u001b[32m>\u001b[0m\u001b[32m\\n        \\n            \\n\\n\u001b[0m\u001b[32m<\u001b[0m\u001b[32mul\u001b[0m\u001b[32m \u001b[0m\u001b[32mclass\u001b[0m\u001b[32m=\u001b[0m\u001b[32m\"subnav\u001b[0m\u001b[32m menu\"\u001b[0m\u001b[32m>\u001b[0m\u001b[32m\\n    \\n        \u001b[0m\u001b[32m<\u001b[0m\u001b[32mli\u001b[0m\u001b[32m \u001b[0m\u001b[32mclass\u001b[0m\u001b[32m=\u001b[0m\u001b[32m\"tier\u001b[0m\u001b[32m-2 element-1\" \u001b[0m\u001b[32mrole\u001b[0m\u001b[32m=\u001b[0m\u001b[32m\"treeitem\"\u001b[0m\u001b[32m>\u001b[0m\u001b[32m<\u001b[0m\u001b[32ma\u001b[0m\u001b[32m \u001b[0m\u001b[32mhref\u001b[0m\u001b[32m=\"/blogs/\" \u001b[0m\u001b[32mtitle\u001b[0m\u001b[32m=\u001b[0m\u001b[32m\"Python\u001b[0m\u001b[32m Insider Blog Posts\"\u001b[0m\u001b[32m>\u001b[0m\u001b[32mPython News\u001b[0m\u001b[32m<\u001b[0m\u001b[32m/a\u001b[0m\u001b[32m>\u001b[0m\u001b[32m<\u001b[0m\u001b[32m/li\u001b[0m\u001b[32m>\u001b[0m\u001b[32m\\n    \\n        \u001b[0m\u001b[32m<\u001b[0m\u001b[32mli\u001b[0m\u001b[32m \u001b[0m\u001b[32mclass\u001b[0m\u001b[32m=\u001b[0m\u001b[32m\"tier\u001b[0m\u001b[32m-2 element-2\" \u001b[0m\u001b[32mrole\u001b[0m\u001b[32m=\u001b[0m\u001b[32m\"treeitem\"\u001b[0m\u001b[32m>\u001b[0m\u001b[32m<\u001b[0m\u001b[32ma\u001b[0m\u001b[32m \u001b[0m\u001b[32mhref\u001b[0m\u001b[32m=\"/psf/newsletter/\" \u001b[0m\u001b[32mtitle\u001b[0m\u001b[32m=\u001b[0m\u001b[32m\"Python\u001b[0m\u001b[32m Software Foundation Newsletter\"\u001b[0m\u001b[32m>\u001b[0m\u001b[32mPSF Newsletter\u001b[0m\u001b[32m<\u001b[0m\u001b[32m/a\u001b[0m\u001b[32m>\u001b[0m\u001b[32m<\u001b[0m\u001b[32m/li\u001b[0m\u001b[32m>\u001b[0m\u001b[32m\\n    \\n        \u001b[0m\u001b[32m<\u001b[0m\u001b[32mli\u001b[0m\u001b[32m \u001b[0m\u001b[32mclass\u001b[0m\u001b[32m=\u001b[0m\u001b[32m\"tier\u001b[0m\u001b[32m-2 element-3\" \u001b[0m\u001b[32mrole\u001b[0m\u001b[32m=\u001b[0m\u001b[32m\"treeitem\"\u001b[0m\u001b[32m>\u001b[0m\u001b[32m<\u001b[0m\u001b[32ma\u001b[0m\u001b[32m \u001b[0m\u001b[32mhref\u001b[0m\u001b[32m=\u001b[0m\u001b[32m\"http\u001b[0m\u001b[32m://planetpython.org/\" \u001b[0m\u001b[32mtitle\u001b[0m\u001b[32m=\u001b[0m\u001b[32m\"Planet\u001b[0m\u001b[32m Python\"\u001b[0m\u001b[32m>\u001b[0m\u001b[32mCommunity News\u001b[0m\u001b[32m<\u001b[0m\u001b[32m/a\u001b[0m\u001b[32m>\u001b[0m\u001b[32m<\u001b[0m\u001b[32m/li\u001b[0m\u001b[32m>\u001b[0m\u001b[32m\\n    \\n        \u001b[0m\u001b[32m<\u001b[0m\u001b[32mli\u001b[0m\u001b[32m \u001b[0m\u001b[32mclass\u001b[0m\u001b[32m=\u001b[0m\u001b[32m\"tier\u001b[0m\u001b[32m-2 element-4\" \u001b[0m\u001b[32mrole\u001b[0m\u001b[32m=\u001b[0m\u001b[32m\"treeitem\"\u001b[0m\u001b[32m>\u001b[0m\u001b[32m<\u001b[0m\u001b[32ma\u001b[0m\u001b[32m \u001b[0m\u001b[32mhref\u001b[0m\u001b[32m=\u001b[0m\u001b[32m\"http\u001b[0m\u001b[32m://pyfound.blogspot.com/\" \u001b[0m\u001b[32mtitle\u001b[0m\u001b[32m=\u001b[0m\u001b[32m\"PSF\u001b[0m\u001b[32m Blog\"\u001b[0m\u001b[32m>\u001b[0m\u001b[32mPSF News\u001b[0m\u001b[32m<\u001b[0m\u001b[32m/a\u001b[0m\u001b[32m>\u001b[0m\u001b[32m<\u001b[0m\u001b[32m/li\u001b[0m\u001b[32m>\u001b[0m\u001b[32m\\n    \\n        \u001b[0m\u001b[32m<\u001b[0m\u001b[32mli\u001b[0m\u001b[32m \u001b[0m\u001b[32mclass\u001b[0m\u001b[32m=\u001b[0m\u001b[32m\"tier\u001b[0m\u001b[32m-2 element-5\" \u001b[0m\u001b[32mrole\u001b[0m\u001b[32m=\u001b[0m\u001b[32m\"treeitem\"\u001b[0m\u001b[32m>\u001b[0m\u001b[32m<\u001b[0m\u001b[32ma\u001b[0m\u001b[32m \u001b[0m\u001b[32mhref\u001b[0m\u001b[32m=\u001b[0m\u001b[32m\"http\u001b[0m\u001b[32m://pycon.blogspot.com/\" \u001b[0m\u001b[32mtitle\u001b[0m\u001b[32m=\u001b[0m\u001b[32m\"PyCon\u001b[0m\u001b[32m Blog\"\u001b[0m\u001b[32m>\u001b[0m\u001b[32mPyCon News\u001b[0m\u001b[32m<\u001b[0m\u001b[32m/a\u001b[0m\u001b[32m>\u001b[0m\u001b[32m<\u001b[0m\u001b[32m/li\u001b[0m\u001b[32m>\u001b[0m\u001b[32m\\n    \\n\u001b[0m\u001b[32m<\u001b[0m\u001b[32m/ul\u001b[0m\u001b[32m>\u001b[0m\u001b[32m\\n\\n        \\n    \u001b[0m\u001b[32m<\u001b[0m\u001b[32m/li\u001b[0m\u001b[32m>\u001b[0m\u001b[32m\\n    \\n    \u001b[0m\u001b[32m<\u001b[0m\u001b[32mli\u001b[0m\u001b[32m \u001b[0m\u001b[32mclass\u001b[0m\u001b[32m=\u001b[0m\u001b[32m\"tier\u001b[0m\u001b[32m-1 element-7\"\u001b[0m\u001b[32m>\u001b[0m\u001b[32m\\n        \u001b[0m\u001b[32m<\u001b[0m\u001b[32ma\u001b[0m\u001b[32m \u001b[0m\u001b[32mhref\u001b[0m\u001b[32m=\"/events/\" \u001b[0m\u001b[32m>\u001b[0m\u001b[32mEvents\u001b[0m\u001b[32m<\u001b[0m\u001b[32m/a\u001b[0m\u001b[32m>\u001b[0m\u001b[32m\\n        \\n            \\n\\n\u001b[0m\u001b[32m<\u001b[0m\u001b[32mul\u001b[0m\u001b[32m \u001b[0m\u001b[32mclass\u001b[0m\u001b[32m=\u001b[0m\u001b[32m\"subnav\u001b[0m\u001b[32m menu\"\u001b[0m\u001b[32m>\u001b[0m\u001b[32m\\n    \\n        \u001b[0m\u001b[32m<\u001b[0m\u001b[32mli\u001b[0m\u001b[32m \u001b[0m\u001b[32mclass\u001b[0m\u001b[32m=\u001b[0m\u001b[32m\"tier\u001b[0m\u001b[32m-2 element-1\" \u001b[0m\u001b[32mrole\u001b[0m\u001b[32m=\u001b[0m\u001b[32m\"treeitem\"\u001b[0m\u001b[32m>\u001b[0m\u001b[32m<\u001b[0m\u001b[32ma\u001b[0m\u001b[32m \u001b[0m\u001b[32mhref\u001b[0m\u001b[32m=\"/events/python-events/\" \u001b[0m\u001b[32mtitle\u001b[0m\u001b[32m=\"\"\u001b[0m\u001b[32m>\u001b[0m\u001b[32mPython Events\u001b[0m\u001b[32m<\u001b[0m\u001b[32m/a\u001b[0m\u001b[32m>\u001b[0m\u001b[32m<\u001b[0m\u001b[32m/li\u001b[0m\u001b[32m>\u001b[0m\u001b[32m\\n    \\n        \u001b[0m\u001b[32m<\u001b[0m\u001b[32mli\u001b[0m\u001b[32m \u001b[0m\u001b[32mclass\u001b[0m\u001b[32m=\u001b[0m\u001b[32m\"tier\u001b[0m\u001b[32m-2 element-2\" \u001b[0m\u001b[32mrole\u001b[0m\u001b[32m=\u001b[0m\u001b[32m\"treeitem\"\u001b[0m\u001b[32m>\u001b[0m\u001b[32m<\u001b[0m\u001b[32ma\u001b[0m\u001b[32m \u001b[0m\u001b[32mhref\u001b[0m\u001b[32m=\"/events/python-user-group/\" \u001b[0m\u001b[32mtitle\u001b[0m\u001b[32m=\"\"\u001b[0m\u001b[32m>\u001b[0m\u001b[32mUser Group Events\u001b[0m\u001b[32m<\u001b[0m\u001b[32m/a\u001b[0m\u001b[32m>\u001b[0m\u001b[32m<\u001b[0m\u001b[32m/li\u001b[0m\u001b[32m>\u001b[0m\u001b[32m\\n    \\n        \u001b[0m\u001b[32m<\u001b[0m\u001b[32mli\u001b[0m\u001b[32m \u001b[0m\u001b[32mclass\u001b[0m\u001b[32m=\u001b[0m\u001b[32m\"tier\u001b[0m\u001b[32m-2 element-3\" \u001b[0m\u001b[32mrole\u001b[0m\u001b[32m=\u001b[0m\u001b[32m\"treeitem\"\u001b[0m\u001b[32m>\u001b[0m\u001b[32m<\u001b[0m\u001b[32ma\u001b[0m\u001b[32m \u001b[0m\u001b[32mhref\u001b[0m\u001b[32m=\"/events/python-events/past/\" \u001b[0m\u001b[32mtitle\u001b[0m\u001b[32m=\"\"\u001b[0m\u001b[32m>\u001b[0m\u001b[32mPython Events Archive\u001b[0m\u001b[32m<\u001b[0m\u001b[32m/a\u001b[0m\u001b[32m>\u001b[0m\u001b[32m<\u001b[0m\u001b[32m/li\u001b[0m\u001b[32m>\u001b[0m\u001b[32m\\n    \\n        \u001b[0m\u001b[32m<\u001b[0m\u001b[32mli\u001b[0m\u001b[32m \u001b[0m\u001b[32mclass\u001b[0m\u001b[32m=\u001b[0m\u001b[32m\"tier\u001b[0m\u001b[32m-2 element-4\" \u001b[0m\u001b[32mrole\u001b[0m\u001b[32m=\u001b[0m\u001b[32m\"treeitem\"\u001b[0m\u001b[32m>\u001b[0m\u001b[32m<\u001b[0m\u001b[32ma\u001b[0m\u001b[32m \u001b[0m\u001b[32mhref\u001b[0m\u001b[32m=\"/events/python-user-group/past/\" \u001b[0m\u001b[32mtitle\u001b[0m\u001b[32m=\"\"\u001b[0m\u001b[32m>\u001b[0m\u001b[32mUser Group Events Archive\u001b[0m\u001b[32m<\u001b[0m\u001b[32m/a\u001b[0m\u001b[32m>\u001b[0m\u001b[32m<\u001b[0m\u001b[32m/li\u001b[0m\u001b[32m>\u001b[0m\u001b[32m\\n    \\n        \u001b[0m\u001b[32m<\u001b[0m\u001b[32mli\u001b[0m\u001b[32m \u001b[0m\u001b[32mclass\u001b[0m\u001b[32m=\u001b[0m\u001b[32m\"tier\u001b[0m\u001b[32m-2 element-5\" \u001b[0m\u001b[32mrole\u001b[0m\u001b[32m=\u001b[0m\u001b[32m\"treeitem\"\u001b[0m\u001b[32m>\u001b[0m\u001b[32m<\u001b[0m\u001b[32ma\u001b[0m\u001b[32m \u001b[0m\u001b[32mhref\u001b[0m\u001b[32m=\u001b[0m\u001b[32m\"https\u001b[0m\u001b[32m://wiki.python.org/moin/PythonEventsCalendar#Submitting_an_Event\" \u001b[0m\u001b[32mtitle\u001b[0m\u001b[32m=\"\"\u001b[0m\u001b[32m>\u001b[0m\u001b[32mSubmit an Event\u001b[0m\u001b[32m<\u001b[0m\u001b[32m/a\u001b[0m\u001b[32m>\u001b[0m\u001b[32m<\u001b[0m\u001b[32m/li\u001b[0m\u001b[32m>\u001b[0m\u001b[32m\\n    \\n\u001b[0m\u001b[32m<\u001b[0m\u001b[32m/ul\u001b[0m\u001b[32m>\u001b[0m\u001b[32m\\n\\n        \\n    \u001b[0m\u001b[32m<\u001b[0m\u001b[32m/li\u001b[0m\u001b[32m>\u001b[0m\u001b[32m\\n    \\n    \u001b[0m\u001b[32m<\u001b[0m\u001b[32mli\u001b[0m\u001b[32m \u001b[0m\u001b[32mclass\u001b[0m\u001b[32m=\u001b[0m\u001b[32m\"tier\u001b[0m\u001b[32m-1 element-8\"\u001b[0m\u001b[32m>\u001b[0m\u001b[32m\\n        \u001b[0m\u001b[32m<\u001b[0m\u001b[32ma\u001b[0m\u001b[32m \u001b[0m\u001b[32mhref\u001b[0m\u001b[32m=\"/dev/\" \u001b[0m\u001b[32m>\u001b[0m\u001b[32mContributing\u001b[0m\u001b[32m<\u001b[0m\u001b[32m/a\u001b[0m\u001b[32m>\u001b[0m\u001b[32m\\n        \\n            \\n\\n\u001b[0m\u001b[32m<\u001b[0m\u001b[32mul\u001b[0m\u001b[32m \u001b[0m\u001b[32mclass\u001b[0m\u001b[32m=\u001b[0m\u001b[32m\"subnav\u001b[0m\u001b[32m menu\"\u001b[0m\u001b[32m>\u001b[0m\u001b[32m\\n    \\n        \u001b[0m\u001b[32m<\u001b[0m\u001b[32mli\u001b[0m\u001b[32m \u001b[0m\u001b[32mclass\u001b[0m\u001b[32m=\u001b[0m\u001b[32m\"tier\u001b[0m\u001b[32m-2 element-1\" \u001b[0m\u001b[32mrole\u001b[0m\u001b[32m=\u001b[0m\u001b[32m\"treeitem\"\u001b[0m\u001b[32m>\u001b[0m\u001b[32m<\u001b[0m\u001b[32ma\u001b[0m\u001b[32m \u001b[0m\u001b[32mhref\u001b[0m\u001b[32m=\u001b[0m\u001b[32m\"https\u001b[0m\u001b[32m://devguide.python.org/\" \u001b[0m\u001b[32mtitle\u001b[0m\u001b[32m=\"\"\u001b[0m\u001b[32m>\u001b[0m\u001b[32mDeveloper&#39;s Guide\u001b[0m\u001b[32m<\u001b[0m\u001b[32m/a\u001b[0m\u001b[32m>\u001b[0m\u001b[32m<\u001b[0m\u001b[32m/li\u001b[0m\u001b[32m>\u001b[0m\u001b[32m\\n    \\n        \u001b[0m\u001b[32m<\u001b[0m\u001b[32mli\u001b[0m\u001b[32m \u001b[0m\u001b[32mclass\u001b[0m\u001b[32m=\u001b[0m\u001b[32m\"tier\u001b[0m\u001b[32m-2 element-2\" \u001b[0m\u001b[32mrole\u001b[0m\u001b[32m=\u001b[0m\u001b[32m\"treeitem\"\u001b[0m\u001b[32m>\u001b[0m\u001b[32m<\u001b[0m\u001b[32ma\u001b[0m\u001b[32m \u001b[0m\u001b[32mhref\u001b[0m\u001b[32m=\u001b[0m\u001b[32m\"https\u001b[0m\u001b[32m://bugs.python.org/\" \u001b[0m\u001b[32mtitle\u001b[0m\u001b[32m=\"\"\u001b[0m\u001b[32m>\u001b[0m\u001b[32mIssue Tracker\u001b[0m\u001b[32m<\u001b[0m\u001b[32m/a\u001b[0m\u001b[32m>\u001b[0m\u001b[32m<\u001b[0m\u001b[32m/li\u001b[0m\u001b[32m>\u001b[0m\u001b[32m\\n    \\n        \u001b[0m\u001b[32m<\u001b[0m\u001b[32mli\u001b[0m\u001b[32m \u001b[0m\u001b[32mclass\u001b[0m\u001b[32m=\u001b[0m\u001b[32m\"tier\u001b[0m\u001b[32m-2 element-3\" \u001b[0m\u001b[32mrole\u001b[0m\u001b[32m=\u001b[0m\u001b[32m\"treeitem\"\u001b[0m\u001b[32m>\u001b[0m\u001b[32m<\u001b[0m\u001b[32ma\u001b[0m\u001b[32m \u001b[0m\u001b[32mhref\u001b[0m\u001b[32m=\u001b[0m\u001b[32m\"https\u001b[0m\u001b[32m://mail.python.org/mailman/listinfo/python-dev\" \u001b[0m\u001b[32mtitle\u001b[0m\u001b[32m=\"\"\u001b[0m\u001b[32m>\u001b[0m\u001b[32mpython-dev list\u001b[0m\u001b[32m<\u001b[0m\u001b[32m/a\u001b[0m\u001b[32m>\u001b[0m\u001b[32m<\u001b[0m\u001b[32m/li\u001b[0m\u001b[32m>\u001b[0m\u001b[32m\\n    \\n        \u001b[0m\u001b[32m<\u001b[0m\u001b[32mli\u001b[0m\u001b[32m \u001b[0m\u001b[32mclass\u001b[0m\u001b[32m=\u001b[0m\u001b[32m\"tier\u001b[0m\u001b[32m-2 element-4\" \u001b[0m\u001b[32mrole\u001b[0m\u001b[32m=\u001b[0m\u001b[32m\"treeitem\"\u001b[0m\u001b[32m>\u001b[0m\u001b[32m<\u001b[0m\u001b[32ma\u001b[0m\u001b[32m \u001b[0m\u001b[32mhref\u001b[0m\u001b[32m=\"/dev/core-mentorship/\" \u001b[0m\u001b[32mtitle\u001b[0m\u001b[32m=\"\"\u001b[0m\u001b[32m>\u001b[0m\u001b[32mCore Mentorship\u001b[0m\u001b[32m<\u001b[0m\u001b[32m/a\u001b[0m\u001b[32m>\u001b[0m\u001b[32m<\u001b[0m\u001b[32m/li\u001b[0m\u001b[32m>\u001b[0m\u001b[32m\\n    \\n        \u001b[0m\u001b[32m<\u001b[0m\u001b[32mli\u001b[0m\u001b[32m \u001b[0m\u001b[32mclass\u001b[0m\u001b[32m=\u001b[0m\u001b[32m\"tier\u001b[0m\u001b[32m-2 element-5\" \u001b[0m\u001b[32mrole\u001b[0m\u001b[32m=\u001b[0m\u001b[32m\"treeitem\"\u001b[0m\u001b[32m>\u001b[0m\u001b[32m<\u001b[0m\u001b[32ma\u001b[0m\u001b[32m \u001b[0m\u001b[32mhref\u001b[0m\u001b[32m=\"/dev/security/\" \u001b[0m\u001b[32mtitle\u001b[0m\u001b[32m=\"\"\u001b[0m\u001b[32m>\u001b[0m\u001b[32mReport a Security Issue\u001b[0m\u001b[32m<\u001b[0m\u001b[32m/a\u001b[0m\u001b[32m>\u001b[0m\u001b[32m<\u001b[0m\u001b[32m/li\u001b[0m\u001b[32m>\u001b[0m\u001b[32m\\n    \\n\u001b[0m\u001b[32m<\u001b[0m\u001b[32m/ul\u001b[0m\u001b[32m>\u001b[0m\u001b[32m\\n\\n        \\n    \u001b[0m\u001b[32m<\u001b[0m\u001b[32m/li\u001b[0m\u001b[32m>\u001b[0m\u001b[32m\\n    \\n\u001b[0m\u001b[32m<\u001b[0m\u001b[32m/ul\u001b[0m\u001b[32m>\u001b[0m\u001b[32m\\n\\n\\n                    \u001b[0m\u001b[32m<\u001b[0m\u001b[32ma\u001b[0m\u001b[32m \u001b[0m\u001b[32mid\u001b[0m\u001b[32m=\u001b[0m\u001b[32m\"back\u001b[0m\u001b[32m-to-top-2\" \u001b[0m\u001b[32mclass\u001b[0m\u001b[32m=\u001b[0m\u001b[32m\"jump\u001b[0m\u001b[32m-link\" \u001b[0m\u001b[32mhref\u001b[0m\u001b[32m=\"#python-network\"\u001b[0m\u001b[32m>\u001b[0m\u001b[32m<\u001b[0m\u001b[32mspan\u001b[0m\u001b[32m aria-\u001b[0m\u001b[32mhidden\u001b[0m\u001b[32m=\u001b[0m\u001b[32m\"true\"\u001b[0m\u001b[32m \u001b[0m\u001b[32mclass\u001b[0m\u001b[32m=\u001b[0m\u001b[32m\"icon\u001b[0m\u001b[32m-arrow-up\"\u001b[0m\u001b[32m>\u001b[0m\u001b[32m<\u001b[0m\u001b[32mspan\u001b[0m\u001b[32m>\u001b[0m\u001b[32m&#9650;\u001b[0m\u001b[32m<\u001b[0m\u001b[32m/span\u001b[0m\u001b[32m>\u001b[0m\u001b[32m<\u001b[0m\u001b[32m/span\u001b[0m\u001b[32m>\u001b[0m\u001b[32m Back to Top\u001b[0m\u001b[32m<\u001b[0m\u001b[32m/a\u001b[0m\u001b[32m>\u001b[0m\u001b[32m\\n                    \\n\\n                \u001b[0m\u001b[32m<\u001b[0m\u001b[32m/div\u001b[0m\u001b[32m>\u001b[0m\u001b[32m<\u001b[0m\u001b[32m!-- end .container --\u001b[0m\u001b[32m>\u001b[0m\u001b[32m\\n            \u001b[0m\u001b[32m<\u001b[0m\u001b[32m/div\u001b[0m\u001b[32m>\u001b[0m\u001b[32m \u001b[0m\u001b[32m<\u001b[0m\u001b[32m!-- end .main-footer-links --\u001b[0m\u001b[32m>\u001b[0m\u001b[32m\\n\\n            \u001b[0m\u001b[32m<\u001b[0m\u001b[32mdiv\u001b[0m\u001b[32m \u001b[0m\u001b[32mclass\u001b[0m\u001b[32m=\u001b[0m\u001b[32m\"site\u001b[0m\u001b[32m-base\"\u001b[0m\u001b[32m>\u001b[0m\u001b[32m\\n                \u001b[0m\u001b[32m<\u001b[0m\u001b[32mdiv\u001b[0m\u001b[32m \u001b[0m\u001b[32mclass\u001b[0m\u001b[32m=\u001b[0m\u001b[32m\"container\"\u001b[0m\u001b[32m>\u001b[0m\u001b[32m\\n                    \\n                    \u001b[0m\u001b[32m<\u001b[0m\u001b[32mul\u001b[0m\u001b[32m \u001b[0m\u001b[32mclass\u001b[0m\u001b[32m=\u001b[0m\u001b[32m\"footer\u001b[0m\u001b[32m-links navigation menu do-not-print\" \u001b[0m\u001b[32mrole\u001b[0m\u001b[32m=\u001b[0m\u001b[32m\"tree\"\u001b[0m\u001b[32m>\u001b[0m\u001b[32m\\n                        \u001b[0m\u001b[32m<\u001b[0m\u001b[32mli\u001b[0m\u001b[32m \u001b[0m\u001b[32mclass\u001b[0m\u001b[32m=\u001b[0m\u001b[32m\"tier\u001b[0m\u001b[32m-1 element-1\"\u001b[0m\u001b[32m>\u001b[0m\u001b[32m<\u001b[0m\u001b[32ma\u001b[0m\u001b[32m \u001b[0m\u001b[32mhref\u001b[0m\u001b[32m=\"/about/help/\"\u001b[0m\u001b[32m>\u001b[0m\u001b[32mHelp &amp; \u001b[0m\u001b[32m<\u001b[0m\u001b[32mspan\u001b[0m\u001b[32m \u001b[0m\u001b[32mclass\u001b[0m\u001b[32m=\u001b[0m\u001b[32m\"say\u001b[0m\u001b[32m-no-more\"\u001b[0m\u001b[32m>\u001b[0m\u001b[32mGeneral\u001b[0m\u001b[32m<\u001b[0m\u001b[32m/span\u001b[0m\u001b[32m>\u001b[0m\u001b[32m Contact\u001b[0m\u001b[32m<\u001b[0m\u001b[32m/a\u001b[0m\u001b[32m>\u001b[0m\u001b[32m<\u001b[0m\u001b[32m/li\u001b[0m\u001b[32m>\u001b[0m\u001b[32m\\n                        \u001b[0m\u001b[32m<\u001b[0m\u001b[32mli\u001b[0m\u001b[32m \u001b[0m\u001b[32mclass\u001b[0m\u001b[32m=\u001b[0m\u001b[32m\"tier\u001b[0m\u001b[32m-1 element-2\"\u001b[0m\u001b[32m>\u001b[0m\u001b[32m<\u001b[0m\u001b[32ma\u001b[0m\u001b[32m \u001b[0m\u001b[32mhref\u001b[0m\u001b[32m=\"/community/diversity/\"\u001b[0m\u001b[32m>\u001b[0m\u001b[32mDiversity \u001b[0m\u001b[32m<\u001b[0m\u001b[32mspan\u001b[0m\u001b[32m \u001b[0m\u001b[32mclass\u001b[0m\u001b[32m=\u001b[0m\u001b[32m\"say\u001b[0m\u001b[32m-no-more\"\u001b[0m\u001b[32m>\u001b[0m\u001b[32mInitiatives\u001b[0m\u001b[32m<\u001b[0m\u001b[32m/span\u001b[0m\u001b[32m>\u001b[0m\u001b[32m<\u001b[0m\u001b[32m/a\u001b[0m\u001b[32m>\u001b[0m\u001b[32m<\u001b[0m\u001b[32m/li\u001b[0m\u001b[32m>\u001b[0m\u001b[32m\\n                        \u001b[0m\u001b[32m<\u001b[0m\u001b[32mli\u001b[0m\u001b[32m \u001b[0m\u001b[32mclass\u001b[0m\u001b[32m=\u001b[0m\u001b[32m\"tier\u001b[0m\u001b[32m-1 element-3\"\u001b[0m\u001b[32m>\u001b[0m\u001b[32m<\u001b[0m\u001b[32ma\u001b[0m\u001b[32m \u001b[0m\u001b[32mhref\u001b[0m\u001b[32m=\u001b[0m\u001b[32m\"https\u001b[0m\u001b[32m://github.com/python/pythondotorg/issues\"\u001b[0m\u001b[32m>\u001b[0m\u001b[32mSubmit Website Bug\u001b[0m\u001b[32m<\u001b[0m\u001b[32m/a\u001b[0m\u001b[32m>\u001b[0m\u001b[32m<\u001b[0m\u001b[32m/li\u001b[0m\u001b[32m>\u001b[0m\u001b[32m\\n                        \u001b[0m\u001b[32m<\u001b[0m\u001b[32mli\u001b[0m\u001b[32m \u001b[0m\u001b[32mclass\u001b[0m\u001b[32m=\u001b[0m\u001b[32m\"tier\u001b[0m\u001b[32m-1 element-4\"\u001b[0m\u001b[32m>\u001b[0m\u001b[32m\\n                            \u001b[0m\u001b[32m<\u001b[0m\u001b[32ma\u001b[0m\u001b[32m \u001b[0m\u001b[32mhref\u001b[0m\u001b[32m=\u001b[0m\u001b[32m\"https\u001b[0m\u001b[32m://status.python.org/\"\u001b[0m\u001b[32m>\u001b[0m\u001b[32mStatus \u001b[0m\u001b[32m<\u001b[0m\u001b[32mspan\u001b[0m\u001b[32m \u001b[0m\u001b[32mclass\u001b[0m\u001b[32m=\u001b[0m\u001b[32m\"python\u001b[0m\u001b[32m-status-indicator-default\" \u001b[0m\u001b[32mid\u001b[0m\u001b[32m=\u001b[0m\u001b[32m\"python\u001b[0m\u001b[32m-status-indicator\"\u001b[0m\u001b[32m>\u001b[0m\u001b[32m<\u001b[0m\u001b[32m/span\u001b[0m\u001b[32m>\u001b[0m\u001b[32m<\u001b[0m\u001b[32m/a\u001b[0m\u001b[32m>\u001b[0m\u001b[32m\\n                        \u001b[0m\u001b[32m<\u001b[0m\u001b[32m/li\u001b[0m\u001b[32m>\u001b[0m\u001b[32m\\n                    \u001b[0m\u001b[32m<\u001b[0m\u001b[32m/ul\u001b[0m\u001b[32m>\u001b[0m\u001b[32m\\n\\n                    \u001b[0m\u001b[32m<\u001b[0m\u001b[32mdiv\u001b[0m\u001b[32m \u001b[0m\u001b[32mclass\u001b[0m\u001b[32m=\u001b[0m\u001b[32m\"copyright\"\u001b[0m\u001b[32m>\u001b[0m\u001b[32m\\n                        \u001b[0m\u001b[32m<\u001b[0m\u001b[32mp\u001b[0m\u001b[32m>\u001b[0m\u001b[32m<\u001b[0m\u001b[32msmall\u001b[0m\u001b[32m>\u001b[0m\u001b[32m\\n                            \u001b[0m\u001b[32m<\u001b[0m\u001b[32mspan\u001b[0m\u001b[32m \u001b[0m\u001b[32mclass\u001b[0m\u001b[32m=\u001b[0m\u001b[32m\"pre\"\u001b[0m\u001b[32m>\u001b[0m\u001b[32mCopyright &copy;2001-2022.\u001b[0m\u001b[32m<\u001b[0m\u001b[32m/span\u001b[0m\u001b[32m>\u001b[0m\u001b[32m\\n                            &nbsp;\u001b[0m\u001b[32m<\u001b[0m\u001b[32mspan\u001b[0m\u001b[32m \u001b[0m\u001b[32mclass\u001b[0m\u001b[32m=\u001b[0m\u001b[32m\"pre\"\u001b[0m\u001b[32m>\u001b[0m\u001b[32m<\u001b[0m\u001b[32ma\u001b[0m\u001b[32m \u001b[0m\u001b[32mhref\u001b[0m\u001b[32m=\"/psf-landing/\"\u001b[0m\u001b[32m>\u001b[0m\u001b[32mPython Software Foundation\u001b[0m\u001b[32m<\u001b[0m\u001b[32m/a\u001b[0m\u001b[32m>\u001b[0m\u001b[32m<\u001b[0m\u001b[32m/span\u001b[0m\u001b[32m>\u001b[0m\u001b[32m\\n                            &nbsp;\u001b[0m\u001b[32m<\u001b[0m\u001b[32mspan\u001b[0m\u001b[32m \u001b[0m\u001b[32mclass\u001b[0m\u001b[32m=\u001b[0m\u001b[32m\"pre\"\u001b[0m\u001b[32m>\u001b[0m\u001b[32m<\u001b[0m\u001b[32ma\u001b[0m\u001b[32m \u001b[0m\u001b[32mhref\u001b[0m\u001b[32m=\"/about/legal/\"\u001b[0m\u001b[32m>\u001b[0m\u001b[32mLegal Statements\u001b[0m\u001b[32m<\u001b[0m\u001b[32m/a\u001b[0m\u001b[32m>\u001b[0m\u001b[32m<\u001b[0m\u001b[32m/span\u001b[0m\u001b[32m>\u001b[0m\u001b[32m\\n                            &nbsp;\u001b[0m\u001b[32m<\u001b[0m\u001b[32mspan\u001b[0m\u001b[32m \u001b[0m\u001b[32mclass\u001b[0m\u001b[32m=\u001b[0m\u001b[32m\"pre\"\u001b[0m\u001b[32m>\u001b[0m\u001b[32m<\u001b[0m\u001b[32ma\u001b[0m\u001b[32m \u001b[0m\u001b[32mhref\u001b[0m\u001b[32m=\"/privacy/\"\u001b[0m\u001b[32m>\u001b[0m\u001b[32mPrivacy Policy\u001b[0m\u001b[32m<\u001b[0m\u001b[32m/a\u001b[0m\u001b[32m>\u001b[0m\u001b[32m<\u001b[0m\u001b[32m/span\u001b[0m\u001b[32m>\u001b[0m\u001b[32m\\n                            &nbsp;\u001b[0m\u001b[32m<\u001b[0m\u001b[32mspan\u001b[0m\u001b[32m \u001b[0m\u001b[32mclass\u001b[0m\u001b[32m=\u001b[0m\u001b[32m\"pre\"\u001b[0m\u001b[32m>\u001b[0m\u001b[32m<\u001b[0m\u001b[32ma\u001b[0m\u001b[32m \u001b[0m\u001b[32mhref\u001b[0m\u001b[32m=\"/psf/sponsorship/sponsors/#heroku\"\u001b[0m\u001b[32m>\u001b[0m\u001b[32mPowered by Heroku\u001b[0m\u001b[32m<\u001b[0m\u001b[32m/a\u001b[0m\u001b[32m>\u001b[0m\u001b[32m<\u001b[0m\u001b[32m/span\u001b[0m\u001b[32m>\u001b[0m\u001b[32m\\n                        \u001b[0m\u001b[32m<\u001b[0m\u001b[32m/small\u001b[0m\u001b[32m>\u001b[0m\u001b[32m<\u001b[0m\u001b[32m/p\u001b[0m\u001b[32m>\u001b[0m\u001b[32m\\n                    \u001b[0m\u001b[32m<\u001b[0m\u001b[32m/div\u001b[0m\u001b[32m>\u001b[0m\u001b[32m\\n\\n                \u001b[0m\u001b[32m<\u001b[0m\u001b[32m/div\u001b[0m\u001b[32m>\u001b[0m\u001b[32m<\u001b[0m\u001b[32m!-- end .container --\u001b[0m\u001b[32m>\u001b[0m\u001b[32m\\n            \u001b[0m\u001b[32m<\u001b[0m\u001b[32m/div\u001b[0m\u001b[32m>\u001b[0m\u001b[32m<\u001b[0m\u001b[32m!-- end .site-base --\u001b[0m\u001b[32m>\u001b[0m\u001b[32m\\n\\n        \u001b[0m\u001b[32m<\u001b[0m\u001b[32m/footer\u001b[0m\u001b[32m>\u001b[0m\u001b[32m\\n        \\n\\n    \u001b[0m\u001b[32m<\u001b[0m\u001b[32m/div\u001b[0m\u001b[32m>\u001b[0m\u001b[32m<\u001b[0m\u001b[32m!-- end #touchnav-wrapper --\u001b[0m\u001b[32m>\u001b[0m\u001b[32m\\n\\n    \\n    \u001b[0m\u001b[32m<\u001b[0m\u001b[32mscript\u001b[0m\u001b[32m \u001b[0m\u001b[32msrc\u001b[0m\u001b[32m=\"//ajax.googleapis.com/ajax/libs/jquery/1.8.2/jquery.min.js\"\u001b[0m\u001b[32m>\u001b[0m\u001b[32m<\u001b[0m\u001b[32m/script\u001b[0m\u001b[32m>\u001b[0m\u001b[32m\\n    \u001b[0m\u001b[32m<\u001b[0m\u001b[32mscript\u001b[0m\u001b[32m>\u001b[0m\u001b[32mwindow.jQuery || document.write\u001b[0m\u001b[32m(\u001b[0m\u001b[32m\\'\u001b[0m\u001b[32m<\u001b[0m\u001b[32mscript\u001b[0m\u001b[32m \u001b[0m\u001b[32msrc\u001b[0m\u001b[32m=\"/static/js/libs/jquery-1.8.2.min.js\"\u001b[0m\u001b[32m>\u001b[0m\u001b[32m<\u001b[0m\u001b[32m\\\\/script\u001b[0m\u001b[32m>\u001b[0m\u001b[32m\\'\u001b[0m\u001b[32m)\u001b[0m\u001b[32m<\u001b[0m\u001b[32m/script\u001b[0m\u001b[32m>\u001b[0m\u001b[32m\\n    \u001b[0m\u001b[32m<\u001b[0m\u001b[32mscript\u001b[0m\u001b[32m \u001b[0m\u001b[32msrc\u001b[0m\u001b[32m=\"//ajax.googleapis.com/ajax/libs/jqueryui/1.12.1/jquery-ui.min.js\"\u001b[0m\u001b[32m>\u001b[0m\u001b[32m<\u001b[0m\u001b[32m/script\u001b[0m\u001b[32m>\u001b[0m\u001b[32m\\n    \u001b[0m\u001b[32m<\u001b[0m\u001b[32mscript\u001b[0m\u001b[32m>\u001b[0m\u001b[32mwindow.jQuery || document.write\u001b[0m\u001b[32m(\u001b[0m\u001b[32m\\'\u001b[0m\u001b[32m<\u001b[0m\u001b[32mscript\u001b[0m\u001b[32m \u001b[0m\u001b[32msrc\u001b[0m\u001b[32m=\"/static/js/libs/jquery-ui-1.12.1.min.js\"\u001b[0m\u001b[32m>\u001b[0m\u001b[32m<\u001b[0m\u001b[32m\\\\/script\u001b[0m\u001b[32m>\u001b[0m\u001b[32m\\'\u001b[0m\u001b[32m)\u001b[0m\u001b[32m<\u001b[0m\u001b[32m/script\u001b[0m\u001b[32m>\u001b[0m\u001b[32m\\n\\n    \u001b[0m\u001b[32m<\u001b[0m\u001b[32mscript\u001b[0m\u001b[32m \u001b[0m\u001b[32msrc\u001b[0m\u001b[32m=\"/static/js/libs/masonry.pkgd.min.js\"\u001b[0m\u001b[32m>\u001b[0m\u001b[32m<\u001b[0m\u001b[32m/script\u001b[0m\u001b[32m>\u001b[0m\u001b[32m\\n    \u001b[0m\u001b[32m<\u001b[0m\u001b[32mscript\u001b[0m\u001b[32m \u001b[0m\u001b[32msrc\u001b[0m\u001b[32m=\"/static/js/libs/html-includes.js\"\u001b[0m\u001b[32m>\u001b[0m\u001b[32m<\u001b[0m\u001b[32m/script\u001b[0m\u001b[32m>\u001b[0m\u001b[32m\\n\\n    \u001b[0m\u001b[32m<\u001b[0m\u001b[32mscript\u001b[0m\u001b[32m \u001b[0m\u001b[32mtype\u001b[0m\u001b[32m=\u001b[0m\u001b[32m\"text\u001b[0m\u001b[32m/javascript\" \u001b[0m\u001b[32msrc\u001b[0m\u001b[32m=\"/static/js/main-min.dd72c1659644.js\" \u001b[0m\u001b[32mcharset\u001b[0m\u001b[32m=\u001b[0m\u001b[32m\"utf\u001b[0m\u001b[32m-8\"\u001b[0m\u001b[32m>\u001b[0m\u001b[32m<\u001b[0m\u001b[32m/script\u001b[0m\u001b[32m>\u001b[0m\u001b[32m\\n    \\n\\n    \u001b[0m\u001b[32m<\u001b[0m\u001b[32m!--\u001b[0m\u001b[32m[\u001b[0m\u001b[32mif lte IE 7\u001b[0m\u001b[32m]\u001b[0m\u001b[32m>\u001b[0m\u001b[32m\\n    \u001b[0m\u001b[32m<\u001b[0m\u001b[32mscript\u001b[0m\u001b[32m \u001b[0m\u001b[32mtype\u001b[0m\u001b[32m=\u001b[0m\u001b[32m\"text\u001b[0m\u001b[32m/javascript\" \u001b[0m\u001b[32msrc\u001b[0m\u001b[32m=\"/static/js/plugins/IE8-min.8af6e26c7a3b.js\" \u001b[0m\u001b[32mcharset\u001b[0m\u001b[32m=\u001b[0m\u001b[32m\"utf\u001b[0m\u001b[32m-8\"\u001b[0m\u001b[32m>\u001b[0m\u001b[32m<\u001b[0m\u001b[32m/script\u001b[0m\u001b[32m>\u001b[0m\u001b[32m\\n    \\n    \\n    \u001b[0m\u001b[32m<\u001b[0m\u001b[32m!\u001b[0m\u001b[32m[\u001b[0m\u001b[32mendif\u001b[0m\u001b[32m]\u001b[0m\u001b[32m--\u001b[0m\u001b[32m>\u001b[0m\u001b[32m\\n\\n    \u001b[0m\u001b[32m<\u001b[0m\u001b[32m!--\u001b[0m\u001b[32m[\u001b[0m\u001b[32mif lte IE 8\u001b[0m\u001b[32m]\u001b[0m\u001b[32m>\u001b[0m\u001b[32m\\n    \u001b[0m\u001b[32m<\u001b[0m\u001b[32mscript\u001b[0m\u001b[32m \u001b[0m\u001b[32mtype\u001b[0m\u001b[32m=\u001b[0m\u001b[32m\"text\u001b[0m\u001b[32m/javascript\" \u001b[0m\u001b[32msrc\u001b[0m\u001b[32m=\"/static/js/plugins/getComputedStyle-min.d41d8cd98f00.js\" \u001b[0m\u001b[32mcharset\u001b[0m\u001b[32m=\u001b[0m\u001b[32m\"utf\u001b[0m\u001b[32m-8\"\u001b[0m\u001b[32m>\u001b[0m\u001b[32m<\u001b[0m\u001b[32m/script\u001b[0m\u001b[32m>\u001b[0m\u001b[32m\\n    \\n    \\n    \u001b[0m\u001b[32m<\u001b[0m\u001b[32m!\u001b[0m\u001b[32m[\u001b[0m\u001b[32mendif\u001b[0m\u001b[32m]\u001b[0m\u001b[32m--\u001b[0m\u001b[32m>\u001b[0m\u001b[32m\\n\\n    \\n\\n    \\n    \\n\\n\u001b[0m\u001b[32m<\u001b[0m\u001b[32m/body\u001b[0m\u001b[32m>\u001b[0m\u001b[32m\\n\u001b[0m\u001b[32m<\u001b[0m\u001b[32m/html\u001b[0m\u001b[32m>\u001b[0m\u001b[32m\\n'\u001b[0m\n"
      ]
     },
     "metadata": {},
     "output_type": "display_data"
    }
   ],
   "source": [
    "r.content"
   ]
  },
  {
   "cell_type": "markdown",
   "id": "3cc4167f",
   "metadata": {},
   "source": [
    "# Exercise: Installing and using `requests`\n",
    "\n",
    "1. `pip install requests`\n",
    "2. Ask the user to enter a URL, and store that in a variable.\n",
    "3. Use `request.get` to get the page associated wih that URL, and store it in `r`.\n",
    "4. How long is that content?  Use `len` to measure it, and you can get the content with `r.content`.\n"
   ]
  },
  {
   "cell_type": "code",
   "execution_count": null,
   "id": "053b0245",
   "metadata": {},
   "outputs": [],
   "source": [
    "url = input('Enter a URL: ').strip()\n",
    "\n"
   ]
  }
 ],
 "metadata": {
  "kernelspec": {
   "display_name": "Python 3 (ipykernel)",
   "language": "python",
   "name": "python3"
  },
  "language_info": {
   "codemirror_mode": {
    "name": "ipython",
    "version": 3
   },
   "file_extension": ".py",
   "mimetype": "text/x-python",
   "name": "python",
   "nbconvert_exporter": "python",
   "pygments_lexer": "ipython3",
   "version": "3.10.1"
  }
 },
 "nbformat": 4,
 "nbformat_minor": 5
}
