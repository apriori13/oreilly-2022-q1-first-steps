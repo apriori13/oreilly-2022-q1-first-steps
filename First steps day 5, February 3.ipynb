{
 "cells": [
  {
   "cell_type": "markdown",
   "id": "c99cc045",
   "metadata": {},
   "source": [
    "# Week 5: Modules and packages\n",
    "\n",
    "1. Review last week's challenge + any questions to answer\n",
    "2. What are modules?  What can they contain?\n",
    "3. The `import` statement\n",
    "4. (A little bit about) developing a module\n",
    "5. Python's standard library (i.e., the modules that come with Python)\n",
    "6. Modules vs. packages\n",
    "7. Intro to PyPI\n",
    "8. Using `pip` and downloading/installing modules"
   ]
  },
  {
   "cell_type": "code",
   "execution_count": 2,
   "id": "a8d898d7",
   "metadata": {},
   "outputs": [
    {
     "name": "stdout",
     "output_type": "stream",
     "text": [
      "Enter your name: Reuven\n",
      "Hello, Reuven!\n",
      "Enter your name: \n"
     ]
    }
   ],
   "source": [
    "# what is the walrus operator, why do we care, and how do we use it?\n",
    "\n",
    "# start with a simple loop\n",
    "\n",
    "while True:\n",
    "    name = input('Enter your name: ').strip()\n",
    "    \n",
    "    if name == '':  # did we get an empty string?  If so, then leave the loop\n",
    "        break\n",
    "        \n",
    "    print(f'Hello, {name}!')"
   ]
  },
  {
   "cell_type": "code",
   "execution_count": 3,
   "id": "3965a18a",
   "metadata": {},
   "outputs": [
    {
     "name": "stdout",
     "output_type": "stream",
     "text": [
      "Enter your name: Reuven\n",
      "Hello, Reuven!\n",
      "Enter your name: world\n",
      "Hello, world!\n",
      "Enter your name: asdfsafas\n",
      "Hello, asdfsafas!\n",
      "Enter your name: \n"
     ]
    }
   ],
   "source": [
    "# another way to check for an empty string\n",
    "# empty strings are considered False in an if/while\n",
    "# all other strings are considered True in an if/while\n",
    "\n",
    "while True:\n",
    "    name = input('Enter your name: ').strip()\n",
    "    \n",
    "    if name:   # did we get a non-empty string?\n",
    "        print(f'Hello, {name}!')\n",
    "    else:      # did we get an empty string?\n",
    "        break"
   ]
  },
  {
   "cell_type": "code",
   "execution_count": 4,
   "id": "86a5989d",
   "metadata": {},
   "outputs": [
    {
     "name": "stdout",
     "output_type": "stream",
     "text": [
      "Enter your name: asdfa\n",
      "Hello, asdfa!\n",
      "Enter your name: asdfa\n",
      "Hello, asdfa!\n",
      "Enter your name: \n"
     ]
    }
   ],
   "source": [
    "# rewrite this once again...\n",
    "\n",
    "while True:\n",
    "    name = input('Enter your name: ').strip()\n",
    "    \n",
    "    if not name:   # '' (empty string) is False next to an if\n",
    "        break       #  again, this means: break if we have an empty string\n",
    "\n",
    "    print(f'Hello, {name}!')\n"
   ]
  },
  {
   "cell_type": "code",
   "execution_count": null,
   "id": "805242f1",
   "metadata": {},
   "outputs": [],
   "source": [
    "# can we rewrite things to be shorter?\n",
    "\n",
    "# while looks to its right (like if) and looks for a True/False value\n",
    "# if all goes well, then in the below code:\n",
    "\n",
    "\n",
    "\n",
    "while name = input('Enter your name: ').strip():\n",
    "    \n",
    "    print(f'Hello, {name}!')\n"
   ]
  }
 ],
 "metadata": {
  "kernelspec": {
   "display_name": "Python 3 (ipykernel)",
   "language": "python",
   "name": "python3"
  },
  "language_info": {
   "codemirror_mode": {
    "name": "ipython",
    "version": 3
   },
   "file_extension": ".py",
   "mimetype": "text/x-python",
   "name": "python",
   "nbconvert_exporter": "python",
   "pygments_lexer": "ipython3",
   "version": "3.10.1"
  }
 },
 "nbformat": 4,
 "nbformat_minor": 5
}
