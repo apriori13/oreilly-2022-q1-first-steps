{
 "cells": [
  {
   "cell_type": "markdown",
   "id": "cd218dbe",
   "metadata": {},
   "source": [
    "# Week 5: Modules and packages\n",
    "\n",
    "1. Review last week's challenge + any questions to answer\n",
    "2. What are modules?  What can they contain?\n",
    "3. The `import` statement\n",
    "4. (A little bit about) developing a module\n",
    "5. Python's standard library (i.e., the modules that come with Python)\n",
    "6. Modules vs. packages\n",
    "7. Intro to PyPI\n",
    "8. Using `pip` and downloading/installing modules"
   ]
  },
  {
   "cell_type": "code",
   "execution_count": null,
   "id": "f4065905",
   "metadata": {},
   "outputs": [],
   "source": [
    "# what is the walrus operator, why do we care, and how do we use it?\n",
    "\n",
    "# start with a simple loop\n",
    "\n",
    "while True:\n",
    "    name = input('Enter your name: ').strip()\n",
    "    \n",
    "    if name == '':\n",
    "        break\n",
    "        \n",
    "        "
   ]
  }
 ],
 "metadata": {
  "kernelspec": {
   "display_name": "Python 3 (ipykernel)",
   "language": "python",
   "name": "python3"
  },
  "language_info": {
   "codemirror_mode": {
    "name": "ipython",
    "version": 3
   },
   "file_extension": ".py",
   "mimetype": "text/x-python",
   "name": "python",
   "nbconvert_exporter": "python",
   "pygments_lexer": "ipython3",
   "version": "3.10.1"
  }
 },
 "nbformat": 4,
 "nbformat_minor": 5
}
