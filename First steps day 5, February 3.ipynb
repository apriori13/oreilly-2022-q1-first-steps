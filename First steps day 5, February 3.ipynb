{
 "cells": [
  {
   "cell_type": "markdown",
   "id": "cb5816fb",
   "metadata": {},
   "source": [
    "# Week 5: Modules and packages\n",
    "\n",
    "1. Review last week's challenge + any questions to answer\n",
    "2. What are modules?  What can they contain?\n",
    "3. The `import` statement\n",
    "4. (A little bit about) developing a module\n",
    "5. Python's standard library (i.e., the modules that come with Python)\n",
    "6. Modules vs. packages\n",
    "7. Intro to PyPI\n",
    "8. Using `pip` and downloading/installing modules"
   ]
  },
  {
   "cell_type": "code",
   "execution_count": 2,
   "id": "d60e48e2",
   "metadata": {},
   "outputs": [
    {
     "name": "stdout",
     "output_type": "stream",
     "text": [
      "Enter your name: Reuven\n",
      "Hello, Reuven!\n",
      "Enter your name: \n"
     ]
    }
   ],
   "source": [
    "# what is the walrus operator, why do we care, and how do we use it?\n",
    "\n",
    "# start with a simple loop\n",
    "\n",
    "while True:\n",
    "    name = input('Enter your name: ').strip()\n",
    "    \n",
    "    if name == '':  # did we get an empty string?  If so, then leave the loop\n",
    "        break\n",
    "        \n",
    "    print(f'Hello, {name}!')"
   ]
  },
  {
   "cell_type": "code",
   "execution_count": 3,
   "id": "6c38b8aa",
   "metadata": {},
   "outputs": [
    {
     "name": "stdout",
     "output_type": "stream",
     "text": [
      "Enter your name: Reuven\n",
      "Hello, Reuven!\n",
      "Enter your name: world\n",
      "Hello, world!\n",
      "Enter your name: asdfsafas\n",
      "Hello, asdfsafas!\n",
      "Enter your name: \n"
     ]
    }
   ],
   "source": [
    "# another way to check for an empty string\n",
    "# empty strings are considered False in an if/while\n",
    "# all other strings are considered True in an if/while\n",
    "\n",
    "while True:\n",
    "    name = input('Enter your name: ').strip()\n",
    "    \n",
    "    if name:   # did we get a non-empty string?\n",
    "        print(f'Hello, {name}!')\n",
    "    else:      # did we get an empty string?\n",
    "        break"
   ]
  },
  {
   "cell_type": "code",
   "execution_count": 4,
   "id": "2d521775",
   "metadata": {},
   "outputs": [
    {
     "name": "stdout",
     "output_type": "stream",
     "text": [
      "Enter your name: asdfa\n",
      "Hello, asdfa!\n",
      "Enter your name: asdfa\n",
      "Hello, asdfa!\n",
      "Enter your name: \n"
     ]
    }
   ],
   "source": [
    "# rewrite this once again...\n",
    "\n",
    "while True:\n",
    "    name = input('Enter your name: ').strip()\n",
    "    \n",
    "    if not name:   # '' (empty string) is False next to an if\n",
    "        break       #  again, this means: break if we have an empty string\n",
    "\n",
    "    print(f'Hello, {name}!')\n"
   ]
  },
  {
   "cell_type": "code",
   "execution_count": 5,
   "id": "36b78b64",
   "metadata": {},
   "outputs": [
    {
     "ename": "SyntaxError",
     "evalue": "invalid syntax. Maybe you meant '==' or ':=' instead of '='? (1395544256.py, line 12)",
     "output_type": "error",
     "traceback": [
      "\u001b[0;36m  File \u001b[0;32m\"/var/folders/rr/0mnyyv811fs5vyp22gf4fxk00000gn/T/ipykernel_12859/1395544256.py\"\u001b[0;36m, line \u001b[0;32m12\u001b[0m\n\u001b[0;31m    while name = input('Enter your name: ').strip():\u001b[0m\n\u001b[0m          ^\u001b[0m\n\u001b[0;31mSyntaxError\u001b[0m\u001b[0;31m:\u001b[0m invalid syntax. Maybe you meant '==' or ':=' instead of '='?\n"
     ]
    }
   ],
   "source": [
    "# can we rewrite things to be shorter?\n",
    "\n",
    "# while looks to its right (like if) and looks for a True/False value\n",
    "# if all goes well, then in the below code:\n",
    "\n",
    "# (1) with each iteration, we get the user's name\n",
    "# (2) we strip it of whitespace\n",
    "# (3) we assign the value to name\n",
    "# (4) \"while\" looks to its right -- empty string? stop. non-empty string? run the loop block\n",
    "\n",
    "\n",
    "while name = input('Enter your name: ').strip():\n",
    "    \n",
    "    print(f'Hello, {name}!')"
   ]
  },
  {
   "cell_type": "code",
   "execution_count": 6,
   "id": "0afc6c34",
   "metadata": {},
   "outputs": [
    {
     "name": "stdout",
     "output_type": "stream",
     "text": [
      "Enter your name: Reuven\n",
      "Hello, Reuven!\n",
      "Enter your name: asdfafd\n",
      "Hello, asdfafd!\n",
      "Enter your name: \n"
     ]
    }
   ],
   "source": [
    "# the walrus operator, :=  (looks like a walrus if you turn your head 90 degrees to the left)\n",
    "# this operator does two things:\n",
    "\n",
    "# (1) everything = does\n",
    "# (2) returns a value\n",
    "\n",
    "# now our while loop looks to its right, and it *DOES* get a value back\n",
    "\n",
    "while name := input('Enter your name: ').strip():\n",
    "    \n",
    "    print(f'Hello, {name}!')"
   ]
  },
  {
   "cell_type": "code",
   "execution_count": 7,
   "id": "2c774418",
   "metadata": {},
   "outputs": [
    {
     "name": "stdout",
     "output_type": "stream",
     "text": [
      "False-ish\n"
     ]
    }
   ],
   "source": [
    "s = ''  # empty string\n",
    "\n",
    "if s:  # putting s (the string) in a \"boolean context,\" in an \"if\" or \"while\"\n",
    "    print('True-ish')\n",
    "else:\n",
    "    print('False-ish')"
   ]
  },
  {
   "cell_type": "code",
   "execution_count": 9,
   "id": "53bfd76c",
   "metadata": {},
   "outputs": [
    {
     "name": "stdout",
     "output_type": "stream",
     "text": [
      "Yes, it is empty!\n"
     ]
    }
   ],
   "source": [
    "s = ''  # empty string\n",
    "\n",
    "if not s:  # putting s (the string) in a \"boolean context,\" in an \"if\" or \"while\"\n",
    "    print('Yes, it is empty!')\n",
    "else:\n",
    "    print('No, it is not empty!')"
   ]
  },
  {
   "cell_type": "markdown",
   "id": "e4b86c94",
   "metadata": {},
   "source": [
    "# Python Skills Challenge: Functions\n",
    "\n",
    "In this challenge, you are to write a function `count_ips`. The function will take a single argument, a string naming a logfile from a Web server.  The function will return a Python dict, in which the keys are IP addresses from the file, and the values represent the number of times each IP address made a request from the site.\n",
    "\n",
    "Here are the first few lines from the sort of logfile the function should expect:\n",
    "\n",
    "```\n",
    "67.218.116.165 - - [30/Jan/2010:00:03:18 +0200] \"GET /robots.txt HTTP/1.0\" 200 99 \"-\" \"Mozilla/5.0 (Twiceler-0.9 http://www.cuil.com/twiceler/robot.html)\"\n",
    "66.249.71.65 - - [30/Jan/2010:00:12:06 +0200] \"GET /browse/one_node/1557 HTTP/1.1\" 200 39208 \"-\" \"Mozilla/5.0 (compatible; Googlebot/2.1; +http://www.google.com/bot.html)\"\n",
    "65.55.106.183 - - [30/Jan/2010:01:29:23 +0200] \"GET /robots.txt HTTP/1.1\" 200 99 \"-\" \"msnbot/2.0b (+http://search.msn.com/msnbot.htm)\"\n",
    "65.55.106.183 - - [30/Jan/2010:01:30:06 +0200] \"GET /browse/one_model/2162 HTTP/1.1\" 200 2181 \"-\" \"msnbot/2.0b (+http://search.msn.com/msnbot.htm)\"\n",
    "66.249.71.65 - - [30/Jan/2010:02:07:14 +0200] \"GET /browse/browse_applet_tab/2593 HTTP/1.1\" 200 10305 \"-\" \"Mozilla/5.0 (compatible; Googlebot/2.1; +http://www.google.com/bot.html)\"\n",
    "```\n",
    "\n",
    "Notice that each line of the file starts with an IP address, and then has (among other things) the timestamp at which the request was made, the actual request, and an indication of what browser was used to make the request.\n",
    "\n",
    "If the file is empty, then the returned dictionary should be empty.\n",
    "\n",
    "This Katacoda challenge system will test your function against a file, `logfile.txt`, that is in the current `/root` directory. When the function returns the correct values, you will see an indication of this.\n",
    "\n",
    "Good luck!\n"
   ]
  },
  {
   "cell_type": "code",
   "execution_count": 10,
   "id": "3f3d90e1",
   "metadata": {},
   "outputs": [],
   "source": [
    "# write a function, called count_ips\n",
    "# function's sole parameter is \"filename\", name of a logfile\n",
    "# function will output a dictionary \n",
    "#    keys in the dict will be strings (IP addresses)\n",
    "#    values in the dict will be counts -- how many times the address appears"
   ]
  },
  {
   "cell_type": "code",
   "execution_count": 19,
   "id": "f7abec7e",
   "metadata": {},
   "outputs": [],
   "source": [
    "def count_ips(filename):\n",
    "    output = {}                    # output is a local variable in the \"count_ips\" function\n",
    "    \n",
    "    for one_line in open(filename):\n",
    "        fields = one_line.split()  # turn each line from the file into a list of strings\n",
    "        ip_address = fields[0]     # grab the first field on the line, the IP address\n",
    "\n",
    "        if ip_address in output:   # have we seen this IP address before?\n",
    "            output[ip_address] += 1\n",
    "        else:\n",
    "            output[ip_address] = 1     # first time seeing this IP, we'll assign 1\n",
    "    \n",
    "    return output"
   ]
  },
  {
   "cell_type": "code",
   "execution_count": 22,
   "id": "3308394e",
   "metadata": {},
   "outputs": [
    {
     "name": "stdout",
     "output_type": "stream",
     "text": [
      "67.218.116.165:\t2\n",
      "66.249.71.65:\t3\n",
      "65.55.106.183:\t2\n",
      "66.249.65.12:\t32\n",
      "65.55.106.131:\t2\n",
      "65.55.106.186:\t2\n",
      "74.52.245.146:\t2\n",
      "66.249.65.43:\t3\n",
      "65.55.207.25:\t2\n",
      "65.55.207.94:\t2\n",
      "65.55.207.71:\t1\n",
      "98.242.170.241:\t1\n",
      "66.249.65.38:\t100\n",
      "65.55.207.126:\t2\n",
      "82.34.9.20:\t2\n",
      "65.55.106.155:\t2\n",
      "65.55.207.77:\t2\n",
      "208.80.193.28:\t1\n",
      "89.248.172.58:\t22\n",
      "67.195.112.35:\t16\n",
      "65.55.207.50:\t3\n",
      "65.55.215.75:\t2\n"
     ]
    }
   ],
   "source": [
    "# run the function against the file\n",
    "d = count_ips('mini-access-log.txt')\n",
    "\n",
    "# d is a dict, so I can run \"items\" on it, and iterate over keys and values\n",
    "for key, value in d.items():\n",
    "    print(f'{key}:\\t{value}')"
   ]
  },
  {
   "cell_type": "code",
   "execution_count": 24,
   "id": "00f4f10b",
   "metadata": {},
   "outputs": [],
   "source": [
    "from friendly.jupyter import Friendly"
   ]
  },
  {
   "cell_type": "markdown",
   "id": "3cc96836",
   "metadata": {},
   "source": [
    "# DRY -- don't repeat yourself!\n",
    "\n",
    "1. If I have several lines in a row that are basically the same, I can DRY them up by using a loop.\n",
    "2. If I have the same code repeated several times across my program, I can DRY them up by using a function.\n",
    "3. If I have the same code repeated across SEVERAL DIFFERENT PROGRAMS, then I can use a \"library.\" \n",
    "\n",
    "A library is a collection of functions and data that you can reuse, and avoid re-inventing the wheel.\n",
    "\n",
    "Anyone can write a library:\n",
    "- You can write a library with commonly used functions and data\n",
    "- Your group at work might write a library to handle common tasks, functionality, file types\n",
    "- Your company might supply standard libraries for everyone to use for standard tasks (e.g., logging into the security system, or working with file types, or accessing the database)\n",
    "- Your software vendors might supply libraries that allow you access to their files, functionality, security, etc.\n",
    "- Your operating system is basically a bunch of libraries, which you can use from your program to communicate with the disk, printer, network, etc.\n",
    "\n",
    "In Python, we call libraries \"modules.\"  And modules are extremely common, and extremely handy."
   ]
  },
  {
   "cell_type": "markdown",
   "id": "e978d9c9",
   "metadata": {},
   "source": [
    "# We use `import` to make use of a module\n",
    "\n",
    "The `import` statement is very common in Python, because it lets us load a module into memory and make use of its functions and data.\n",
    "\n",
    "If I want a random number, I can use the `import` statement to load the `random` module. In the `random` module, we have a bunch of different functions that have to do with random numbers."
   ]
  },
  {
   "cell_type": "code",
   "execution_count": 25,
   "id": "6f691f50",
   "metadata": {},
   "outputs": [],
   "source": [
    "import random"
   ]
  },
  {
   "cell_type": "markdown",
   "id": "2c76f41b",
   "metadata": {},
   "source": [
    "# Things to notice about `import`\n",
    "\n",
    "1. It's not a function.  We don't use `()` around its argument.  It's a statement that has a single word after it.\n",
    "2. In many languages, we indicate which file we want to load. Not in Python! We indicate what module we want to load, and based on that, Python tries to find the file and load it.\n",
    "3. After the module is loaded, you can access all of the module's functionality with the module's name and a dot `.`.  "
   ]
  },
  {
   "cell_type": "code",
   "execution_count": 26,
   "id": "82544f5a",
   "metadata": {},
   "outputs": [
    {
     "data": {
      "text/html": [
       "<pre style='white-space:pre;overflow-x:auto;line-height:normal'><span style=\"font-weight: bold\">&lt;</span><span style=\"color: #ff00ff; text-decoration-color: #ff00ff; font-weight: bold\">class</span><span style=\"color: #000000; text-decoration-color: #000000\"> </span><span style=\"color: #008000; text-decoration-color: #008000\">'module'</span><span style=\"font-weight: bold\">&gt;</span>\n",
       "</pre>"
      ],
      "text/plain": [
       "\u001b[1m<\u001b[0m\u001b[1;95mclass\u001b[0m\u001b[39m \u001b[0m\u001b[32m'module'\u001b[0m\u001b[1m>\u001b[0m\n"
      ]
     },
     "metadata": {},
     "output_type": "display_data"
    }
   ],
   "source": [
    "# now that I've said \"import random\", \"random\" is a variable defined in my system\n",
    "type(random)  # what kind of object does it contain?"
   ]
  },
  {
   "cell_type": "code",
   "execution_count": 27,
   "id": "f792692d",
   "metadata": {},
   "outputs": [
    {
     "data": {
      "text/html": [
       "<pre style='white-space:pre;overflow-x:auto;line-height:normal'>\n",
       "<span style=\"font-weight: bold\">[</span>\n",
       "<span style=\"color: #7fbf7f; text-decoration-color: #7fbf7f\">│   </span><span style=\"color: #008000; text-decoration-color: #008000\">'BPF'</span>,\n",
       "<span style=\"color: #7fbf7f; text-decoration-color: #7fbf7f\">│   </span><span style=\"color: #008000; text-decoration-color: #008000\">'LOG4'</span>,\n",
       "<span style=\"color: #7fbf7f; text-decoration-color: #7fbf7f\">│   </span><span style=\"color: #008000; text-decoration-color: #008000\">'NV_MAGICCONST'</span>,\n",
       "<span style=\"color: #7fbf7f; text-decoration-color: #7fbf7f\">│   </span><span style=\"color: #008000; text-decoration-color: #008000\">'RECIP_BPF'</span>,\n",
       "<span style=\"color: #7fbf7f; text-decoration-color: #7fbf7f\">│   </span><span style=\"color: #008000; text-decoration-color: #008000\">'Random'</span>,\n",
       "<span style=\"color: #7fbf7f; text-decoration-color: #7fbf7f\">│   </span><span style=\"color: #008000; text-decoration-color: #008000\">'SG_MAGICCONST'</span>,\n",
       "<span style=\"color: #7fbf7f; text-decoration-color: #7fbf7f\">│   </span><span style=\"color: #008000; text-decoration-color: #008000\">'SystemRandom'</span>,\n",
       "<span style=\"color: #7fbf7f; text-decoration-color: #7fbf7f\">│   </span><span style=\"color: #008000; text-decoration-color: #008000\">'TWOPI'</span>,\n",
       "<span style=\"color: #7fbf7f; text-decoration-color: #7fbf7f\">│   </span><span style=\"color: #008000; text-decoration-color: #008000\">'_ONE'</span>,\n",
       "<span style=\"color: #7fbf7f; text-decoration-color: #7fbf7f\">│   </span><span style=\"color: #008000; text-decoration-color: #008000\">'_Sequence'</span>,\n",
       "<span style=\"color: #7fbf7f; text-decoration-color: #7fbf7f\">│   </span><span style=\"color: #008000; text-decoration-color: #008000\">'_Set'</span>,\n",
       "<span style=\"color: #7fbf7f; text-decoration-color: #7fbf7f\">│   </span><span style=\"color: #008000; text-decoration-color: #008000\">'__all__'</span>,\n",
       "<span style=\"color: #7fbf7f; text-decoration-color: #7fbf7f\">│   </span><span style=\"color: #008000; text-decoration-color: #008000\">'__builtins__'</span>,\n",
       "<span style=\"color: #7fbf7f; text-decoration-color: #7fbf7f\">│   </span><span style=\"color: #008000; text-decoration-color: #008000\">'__cached__'</span>,\n",
       "<span style=\"color: #7fbf7f; text-decoration-color: #7fbf7f\">│   </span><span style=\"color: #008000; text-decoration-color: #008000\">'__doc__'</span>,\n",
       "<span style=\"color: #7fbf7f; text-decoration-color: #7fbf7f\">│   </span><span style=\"color: #008000; text-decoration-color: #008000\">'__file__'</span>,\n",
       "<span style=\"color: #7fbf7f; text-decoration-color: #7fbf7f\">│   </span><span style=\"color: #008000; text-decoration-color: #008000\">'__loader__'</span>,\n",
       "<span style=\"color: #7fbf7f; text-decoration-color: #7fbf7f\">│   </span><span style=\"color: #008000; text-decoration-color: #008000\">'__name__'</span>,\n",
       "<span style=\"color: #7fbf7f; text-decoration-color: #7fbf7f\">│   </span><span style=\"color: #008000; text-decoration-color: #008000\">'__package__'</span>,\n",
       "<span style=\"color: #7fbf7f; text-decoration-color: #7fbf7f\">│   </span><span style=\"color: #008000; text-decoration-color: #008000\">'__spec__'</span>,\n",
       "<span style=\"color: #7fbf7f; text-decoration-color: #7fbf7f\">│   </span><span style=\"color: #008000; text-decoration-color: #008000\">'_accumulate'</span>,\n",
       "<span style=\"color: #7fbf7f; text-decoration-color: #7fbf7f\">│   </span><span style=\"color: #008000; text-decoration-color: #008000\">'_acos'</span>,\n",
       "<span style=\"color: #7fbf7f; text-decoration-color: #7fbf7f\">│   </span><span style=\"color: #008000; text-decoration-color: #008000\">'_bisect'</span>,\n",
       "<span style=\"color: #7fbf7f; text-decoration-color: #7fbf7f\">│   </span><span style=\"color: #008000; text-decoration-color: #008000\">'_ceil'</span>,\n",
       "<span style=\"color: #7fbf7f; text-decoration-color: #7fbf7f\">│   </span><span style=\"color: #008000; text-decoration-color: #008000\">'_cos'</span>,\n",
       "<span style=\"color: #7fbf7f; text-decoration-color: #7fbf7f\">│   </span><span style=\"color: #008000; text-decoration-color: #008000\">'_e'</span>,\n",
       "<span style=\"color: #7fbf7f; text-decoration-color: #7fbf7f\">│   </span><span style=\"color: #008000; text-decoration-color: #008000\">'_exp'</span>,\n",
       "<span style=\"color: #7fbf7f; text-decoration-color: #7fbf7f\">│   </span><span style=\"color: #008000; text-decoration-color: #008000\">'_floor'</span>,\n",
       "<span style=\"color: #7fbf7f; text-decoration-color: #7fbf7f\">│   </span><span style=\"color: #008000; text-decoration-color: #008000\">'_index'</span>,\n",
       "<span style=\"color: #7fbf7f; text-decoration-color: #7fbf7f\">│   </span><span style=\"color: #008000; text-decoration-color: #008000\">'_inst'</span>,\n",
       "<span style=\"color: #7fbf7f; text-decoration-color: #7fbf7f\">│   </span><span style=\"color: #008000; text-decoration-color: #008000\">'_isfinite'</span>,\n",
       "<span style=\"color: #7fbf7f; text-decoration-color: #7fbf7f\">│   </span><span style=\"color: #008000; text-decoration-color: #008000\">'_log'</span>,\n",
       "<span style=\"color: #7fbf7f; text-decoration-color: #7fbf7f\">│   </span><span style=\"color: #008000; text-decoration-color: #008000\">'_os'</span>,\n",
       "<span style=\"color: #7fbf7f; text-decoration-color: #7fbf7f\">│   </span><span style=\"color: #008000; text-decoration-color: #008000\">'_pi'</span>,\n",
       "<span style=\"color: #7fbf7f; text-decoration-color: #7fbf7f\">│   </span><span style=\"color: #008000; text-decoration-color: #008000\">'_random'</span>,\n",
       "<span style=\"color: #7fbf7f; text-decoration-color: #7fbf7f\">│   </span><span style=\"color: #008000; text-decoration-color: #008000\">'_repeat'</span>,\n",
       "<span style=\"color: #7fbf7f; text-decoration-color: #7fbf7f\">│   </span><span style=\"color: #008000; text-decoration-color: #008000\">'_sha512'</span>,\n",
       "<span style=\"color: #7fbf7f; text-decoration-color: #7fbf7f\">│   </span><span style=\"color: #008000; text-decoration-color: #008000\">'_sin'</span>,\n",
       "<span style=\"color: #7fbf7f; text-decoration-color: #7fbf7f\">│   </span><span style=\"color: #008000; text-decoration-color: #008000\">'_sqrt'</span>,\n",
       "<span style=\"color: #7fbf7f; text-decoration-color: #7fbf7f\">│   </span><span style=\"color: #008000; text-decoration-color: #008000\">'_test'</span>,\n",
       "<span style=\"color: #7fbf7f; text-decoration-color: #7fbf7f\">│   </span><span style=\"color: #008000; text-decoration-color: #008000\">'_test_generator'</span>,\n",
       "<span style=\"color: #7fbf7f; text-decoration-color: #7fbf7f\">│   </span><span style=\"color: #008000; text-decoration-color: #008000\">'_urandom'</span>,\n",
       "<span style=\"color: #7fbf7f; text-decoration-color: #7fbf7f\">│   </span><span style=\"color: #008000; text-decoration-color: #008000\">'_warn'</span>,\n",
       "<span style=\"color: #7fbf7f; text-decoration-color: #7fbf7f\">│   </span><span style=\"color: #008000; text-decoration-color: #008000\">'betavariate'</span>,\n",
       "<span style=\"color: #7fbf7f; text-decoration-color: #7fbf7f\">│   </span><span style=\"color: #008000; text-decoration-color: #008000\">'choice'</span>,\n",
       "<span style=\"color: #7fbf7f; text-decoration-color: #7fbf7f\">│   </span><span style=\"color: #008000; text-decoration-color: #008000\">'choices'</span>,\n",
       "<span style=\"color: #7fbf7f; text-decoration-color: #7fbf7f\">│   </span><span style=\"color: #008000; text-decoration-color: #008000\">'expovariate'</span>,\n",
       "<span style=\"color: #7fbf7f; text-decoration-color: #7fbf7f\">│   </span><span style=\"color: #008000; text-decoration-color: #008000\">'gammavariate'</span>,\n",
       "<span style=\"color: #7fbf7f; text-decoration-color: #7fbf7f\">│   </span><span style=\"color: #008000; text-decoration-color: #008000\">'gauss'</span>,\n",
       "<span style=\"color: #7fbf7f; text-decoration-color: #7fbf7f\">│   </span><span style=\"color: #008000; text-decoration-color: #008000\">'getrandbits'</span>,\n",
       "<span style=\"color: #7fbf7f; text-decoration-color: #7fbf7f\">│   </span><span style=\"color: #008000; text-decoration-color: #008000\">'getstate'</span>,\n",
       "<span style=\"color: #7fbf7f; text-decoration-color: #7fbf7f\">│   </span><span style=\"color: #008000; text-decoration-color: #008000\">'lognormvariate'</span>,\n",
       "<span style=\"color: #7fbf7f; text-decoration-color: #7fbf7f\">│   </span><span style=\"color: #008000; text-decoration-color: #008000\">'normalvariate'</span>,\n",
       "<span style=\"color: #7fbf7f; text-decoration-color: #7fbf7f\">│   </span><span style=\"color: #008000; text-decoration-color: #008000\">'paretovariate'</span>,\n",
       "<span style=\"color: #7fbf7f; text-decoration-color: #7fbf7f\">│   </span><span style=\"color: #008000; text-decoration-color: #008000\">'randbytes'</span>,\n",
       "<span style=\"color: #7fbf7f; text-decoration-color: #7fbf7f\">│   </span><span style=\"color: #008000; text-decoration-color: #008000\">'randint'</span>,\n",
       "<span style=\"color: #7fbf7f; text-decoration-color: #7fbf7f\">│   </span><span style=\"color: #008000; text-decoration-color: #008000\">'random'</span>,\n",
       "<span style=\"color: #7fbf7f; text-decoration-color: #7fbf7f\">│   </span><span style=\"color: #008000; text-decoration-color: #008000\">'randrange'</span>,\n",
       "<span style=\"color: #7fbf7f; text-decoration-color: #7fbf7f\">│   </span><span style=\"color: #008000; text-decoration-color: #008000\">'sample'</span>,\n",
       "<span style=\"color: #7fbf7f; text-decoration-color: #7fbf7f\">│   </span><span style=\"color: #008000; text-decoration-color: #008000\">'seed'</span>,\n",
       "<span style=\"color: #7fbf7f; text-decoration-color: #7fbf7f\">│   </span><span style=\"color: #008000; text-decoration-color: #008000\">'setstate'</span>,\n",
       "<span style=\"color: #7fbf7f; text-decoration-color: #7fbf7f\">│   </span><span style=\"color: #008000; text-decoration-color: #008000\">'shuffle'</span>,\n",
       "<span style=\"color: #7fbf7f; text-decoration-color: #7fbf7f\">│   </span><span style=\"color: #008000; text-decoration-color: #008000\">'triangular'</span>,\n",
       "<span style=\"color: #7fbf7f; text-decoration-color: #7fbf7f\">│   </span><span style=\"color: #008000; text-decoration-color: #008000\">'uniform'</span>,\n",
       "<span style=\"color: #7fbf7f; text-decoration-color: #7fbf7f\">│   </span><span style=\"color: #008000; text-decoration-color: #008000\">'vonmisesvariate'</span>,\n",
       "<span style=\"color: #7fbf7f; text-decoration-color: #7fbf7f\">│   </span><span style=\"color: #008000; text-decoration-color: #008000\">'weibullvariate'</span>\n",
       "<span style=\"font-weight: bold\">]</span>\n",
       "</pre>"
      ],
      "text/plain": [
       "\n",
       "\u001b[1m[\u001b[0m\n",
       "\u001b[2;32m│   \u001b[0m\u001b[32m'BPF'\u001b[0m,\n",
       "\u001b[2;32m│   \u001b[0m\u001b[32m'LOG4'\u001b[0m,\n",
       "\u001b[2;32m│   \u001b[0m\u001b[32m'NV_MAGICCONST'\u001b[0m,\n",
       "\u001b[2;32m│   \u001b[0m\u001b[32m'RECIP_BPF'\u001b[0m,\n",
       "\u001b[2;32m│   \u001b[0m\u001b[32m'Random'\u001b[0m,\n",
       "\u001b[2;32m│   \u001b[0m\u001b[32m'SG_MAGICCONST'\u001b[0m,\n",
       "\u001b[2;32m│   \u001b[0m\u001b[32m'SystemRandom'\u001b[0m,\n",
       "\u001b[2;32m│   \u001b[0m\u001b[32m'TWOPI'\u001b[0m,\n",
       "\u001b[2;32m│   \u001b[0m\u001b[32m'_ONE'\u001b[0m,\n",
       "\u001b[2;32m│   \u001b[0m\u001b[32m'_Sequence'\u001b[0m,\n",
       "\u001b[2;32m│   \u001b[0m\u001b[32m'_Set'\u001b[0m,\n",
       "\u001b[2;32m│   \u001b[0m\u001b[32m'__all__'\u001b[0m,\n",
       "\u001b[2;32m│   \u001b[0m\u001b[32m'__builtins__'\u001b[0m,\n",
       "\u001b[2;32m│   \u001b[0m\u001b[32m'__cached__'\u001b[0m,\n",
       "\u001b[2;32m│   \u001b[0m\u001b[32m'__doc__'\u001b[0m,\n",
       "\u001b[2;32m│   \u001b[0m\u001b[32m'__file__'\u001b[0m,\n",
       "\u001b[2;32m│   \u001b[0m\u001b[32m'__loader__'\u001b[0m,\n",
       "\u001b[2;32m│   \u001b[0m\u001b[32m'__name__'\u001b[0m,\n",
       "\u001b[2;32m│   \u001b[0m\u001b[32m'__package__'\u001b[0m,\n",
       "\u001b[2;32m│   \u001b[0m\u001b[32m'__spec__'\u001b[0m,\n",
       "\u001b[2;32m│   \u001b[0m\u001b[32m'_accumulate'\u001b[0m,\n",
       "\u001b[2;32m│   \u001b[0m\u001b[32m'_acos'\u001b[0m,\n",
       "\u001b[2;32m│   \u001b[0m\u001b[32m'_bisect'\u001b[0m,\n",
       "\u001b[2;32m│   \u001b[0m\u001b[32m'_ceil'\u001b[0m,\n",
       "\u001b[2;32m│   \u001b[0m\u001b[32m'_cos'\u001b[0m,\n",
       "\u001b[2;32m│   \u001b[0m\u001b[32m'_e'\u001b[0m,\n",
       "\u001b[2;32m│   \u001b[0m\u001b[32m'_exp'\u001b[0m,\n",
       "\u001b[2;32m│   \u001b[0m\u001b[32m'_floor'\u001b[0m,\n",
       "\u001b[2;32m│   \u001b[0m\u001b[32m'_index'\u001b[0m,\n",
       "\u001b[2;32m│   \u001b[0m\u001b[32m'_inst'\u001b[0m,\n",
       "\u001b[2;32m│   \u001b[0m\u001b[32m'_isfinite'\u001b[0m,\n",
       "\u001b[2;32m│   \u001b[0m\u001b[32m'_log'\u001b[0m,\n",
       "\u001b[2;32m│   \u001b[0m\u001b[32m'_os'\u001b[0m,\n",
       "\u001b[2;32m│   \u001b[0m\u001b[32m'_pi'\u001b[0m,\n",
       "\u001b[2;32m│   \u001b[0m\u001b[32m'_random'\u001b[0m,\n",
       "\u001b[2;32m│   \u001b[0m\u001b[32m'_repeat'\u001b[0m,\n",
       "\u001b[2;32m│   \u001b[0m\u001b[32m'_sha512'\u001b[0m,\n",
       "\u001b[2;32m│   \u001b[0m\u001b[32m'_sin'\u001b[0m,\n",
       "\u001b[2;32m│   \u001b[0m\u001b[32m'_sqrt'\u001b[0m,\n",
       "\u001b[2;32m│   \u001b[0m\u001b[32m'_test'\u001b[0m,\n",
       "\u001b[2;32m│   \u001b[0m\u001b[32m'_test_generator'\u001b[0m,\n",
       "\u001b[2;32m│   \u001b[0m\u001b[32m'_urandom'\u001b[0m,\n",
       "\u001b[2;32m│   \u001b[0m\u001b[32m'_warn'\u001b[0m,\n",
       "\u001b[2;32m│   \u001b[0m\u001b[32m'betavariate'\u001b[0m,\n",
       "\u001b[2;32m│   \u001b[0m\u001b[32m'choice'\u001b[0m,\n",
       "\u001b[2;32m│   \u001b[0m\u001b[32m'choices'\u001b[0m,\n",
       "\u001b[2;32m│   \u001b[0m\u001b[32m'expovariate'\u001b[0m,\n",
       "\u001b[2;32m│   \u001b[0m\u001b[32m'gammavariate'\u001b[0m,\n",
       "\u001b[2;32m│   \u001b[0m\u001b[32m'gauss'\u001b[0m,\n",
       "\u001b[2;32m│   \u001b[0m\u001b[32m'getrandbits'\u001b[0m,\n",
       "\u001b[2;32m│   \u001b[0m\u001b[32m'getstate'\u001b[0m,\n",
       "\u001b[2;32m│   \u001b[0m\u001b[32m'lognormvariate'\u001b[0m,\n",
       "\u001b[2;32m│   \u001b[0m\u001b[32m'normalvariate'\u001b[0m,\n",
       "\u001b[2;32m│   \u001b[0m\u001b[32m'paretovariate'\u001b[0m,\n",
       "\u001b[2;32m│   \u001b[0m\u001b[32m'randbytes'\u001b[0m,\n",
       "\u001b[2;32m│   \u001b[0m\u001b[32m'randint'\u001b[0m,\n",
       "\u001b[2;32m│   \u001b[0m\u001b[32m'random'\u001b[0m,\n",
       "\u001b[2;32m│   \u001b[0m\u001b[32m'randrange'\u001b[0m,\n",
       "\u001b[2;32m│   \u001b[0m\u001b[32m'sample'\u001b[0m,\n",
       "\u001b[2;32m│   \u001b[0m\u001b[32m'seed'\u001b[0m,\n",
       "\u001b[2;32m│   \u001b[0m\u001b[32m'setstate'\u001b[0m,\n",
       "\u001b[2;32m│   \u001b[0m\u001b[32m'shuffle'\u001b[0m,\n",
       "\u001b[2;32m│   \u001b[0m\u001b[32m'triangular'\u001b[0m,\n",
       "\u001b[2;32m│   \u001b[0m\u001b[32m'uniform'\u001b[0m,\n",
       "\u001b[2;32m│   \u001b[0m\u001b[32m'vonmisesvariate'\u001b[0m,\n",
       "\u001b[2;32m│   \u001b[0m\u001b[32m'weibullvariate'\u001b[0m\n",
       "\u001b[1m]\u001b[0m\n"
      ]
     },
     "metadata": {},
     "output_type": "display_data"
    }
   ],
   "source": [
    "# what names are available after the . when I use random?\n",
    "# I can find out by running the \"dir\" function on random\n",
    "\n",
    "dir(random)   # this gives me a list of strings -- what names are available"
   ]
  },
  {
   "cell_type": "code",
   "execution_count": 28,
   "id": "3f9fa06a",
   "metadata": {},
   "outputs": [
    {
     "data": {
      "text/html": [
       "<pre style='white-space:pre;overflow-x:auto;line-height:normal'><span style=\"color: #008080; text-decoration-color: #008080; font-weight: bold\">100</span>\n",
       "</pre>"
      ],
      "text/plain": [
       "\u001b[1;36m100\u001b[0m\n"
      ]
     },
     "metadata": {},
     "output_type": "display_data"
    }
   ],
   "source": [
    "# once I've loaded random, I can invoke the random.randint function on it:\n",
    "random.randint(0, 100)"
   ]
  },
  {
   "cell_type": "code",
   "execution_count": 29,
   "id": "fe5db1d1",
   "metadata": {},
   "outputs": [
    {
     "data": {
      "text/html": [
       "<pre style='white-space:pre;overflow-x:auto;line-height:normal'><span style=\"color: #008080; text-decoration-color: #008080; font-weight: bold\">46</span>\n",
       "</pre>"
      ],
      "text/plain": [
       "\u001b[1;36m46\u001b[0m\n"
      ]
     },
     "metadata": {},
     "output_type": "display_data"
    }
   ],
   "source": [
    "random.randint(0, 100)"
   ]
  },
  {
   "cell_type": "code",
   "execution_count": 30,
   "id": "f7d4190b",
   "metadata": {},
   "outputs": [
    {
     "data": {
      "text/html": [
       "<pre style='white-space:pre;overflow-x:auto;line-height:normal'><span style=\"color: #008000; text-decoration-color: #008000\">'e'</span>\n",
       "</pre>"
      ],
      "text/plain": [
       "\u001b[32m'e'\u001b[0m\n"
      ]
     },
     "metadata": {},
     "output_type": "display_data"
    }
   ],
   "source": [
    "random.choice('abcde')"
   ]
  },
  {
   "cell_type": "code",
   "execution_count": 31,
   "id": "e80fc9fc",
   "metadata": {},
   "outputs": [
    {
     "data": {
      "text/html": [
       "<pre style='white-space:pre;overflow-x:auto;line-height:normal'><span style=\"color: #008000; text-decoration-color: #008000\">'d'</span>\n",
       "</pre>"
      ],
      "text/plain": [
       "\u001b[32m'd'\u001b[0m\n"
      ]
     },
     "metadata": {},
     "output_type": "display_data"
    }
   ],
   "source": [
    "random.choice('abcde')"
   ]
  },
  {
   "cell_type": "code",
   "execution_count": 32,
   "id": "af86de3e",
   "metadata": {},
   "outputs": [
    {
     "name": "stdout",
     "output_type": "stream",
     "text": [
      "Help on method shuffle in module random:\n",
      "\n",
      "shuffle(x, random=None) method of random.Random instance\n",
      "    Shuffle list x in place, and return None.\n",
      "    \n",
      "    Optional argument random is a 0-argument function returning a\n",
      "    random float in [0.0, 1.0); if it is the default None, the\n",
      "    standard random.random will be used.\n",
      "\n"
     ]
    }
   ],
   "source": [
    "# if you want to know more about a function, you can\n",
    "# (a) look up the documentation on python.org\n",
    "# (b) if you're in Jupyter, you can run the \"help\" function on the function you want\n",
    "\n",
    "help(random.shuffle)"
   ]
  },
  {
   "cell_type": "code",
   "execution_count": 33,
   "id": "0c61c3ad",
   "metadata": {},
   "outputs": [
    {
     "data": {
      "text/html": [
       "<pre style='white-space:pre;overflow-x:auto;line-height:normal'><span style=\"font-weight: bold\">[</span><span style=\"color: #008080; text-decoration-color: #008080; font-weight: bold\">40</span>, <span style=\"color: #008080; text-decoration-color: #008080; font-weight: bold\">50</span>, <span style=\"color: #008080; text-decoration-color: #008080; font-weight: bold\">20</span>, <span style=\"color: #008080; text-decoration-color: #008080; font-weight: bold\">30</span>, <span style=\"color: #008080; text-decoration-color: #008080; font-weight: bold\">10</span><span style=\"font-weight: bold\">]</span>\n",
       "</pre>"
      ],
      "text/plain": [
       "\u001b[1m[\u001b[0m\u001b[1;36m40\u001b[0m, \u001b[1;36m50\u001b[0m, \u001b[1;36m20\u001b[0m, \u001b[1;36m30\u001b[0m, \u001b[1;36m10\u001b[0m\u001b[1m]\u001b[0m\n"
      ]
     },
     "metadata": {},
     "output_type": "display_data"
    }
   ],
   "source": [
    "mylist = [10, 20, 30, 40, 50]\n",
    "random.shuffle(mylist)\n",
    "\n",
    "mylist"
   ]
  },
  {
   "cell_type": "code",
   "execution_count": 34,
   "id": "11d7aa57",
   "metadata": {},
   "outputs": [],
   "source": [
    "?random.choice"
   ]
  },
  {
   "cell_type": "code",
   "execution_count": 35,
   "id": "67b6b28c",
   "metadata": {},
   "outputs": [],
   "source": [
    "random.choice??"
   ]
  },
  {
   "cell_type": "code",
   "execution_count": 36,
   "id": "1bd9ca95",
   "metadata": {},
   "outputs": [],
   "source": [
    "import glob   # glob is a module that lets us find patterns of filenames, e.g., *.txt"
   ]
  },
  {
   "cell_type": "code",
   "execution_count": 37,
   "id": "6ef8dc31",
   "metadata": {},
   "outputs": [
    {
     "data": {
      "text/html": [
       "<pre style='white-space:pre;overflow-x:auto;line-height:normal'>\n",
       "<span style=\"font-weight: bold\">[</span>\n",
       "<span style=\"color: #7fbf7f; text-decoration-color: #7fbf7f\">│   </span><span style=\"color: #008000; text-decoration-color: #008000\">'mini-access-log.txt'</span>,\n",
       "<span style=\"color: #7fbf7f; text-decoration-color: #7fbf7f\">│   </span><span style=\"color: #008000; text-decoration-color: #008000\">'nums.txt'</span>,\n",
       "<span style=\"color: #7fbf7f; text-decoration-color: #7fbf7f\">│   </span><span style=\"color: #008000; text-decoration-color: #008000\">'mydict.txt'</span>,\n",
       "<span style=\"color: #7fbf7f; text-decoration-color: #7fbf7f\">│   </span><span style=\"color: #008000; text-decoration-color: #008000\">'mynewfile.txt'</span>,\n",
       "<span style=\"color: #7fbf7f; text-decoration-color: #7fbf7f\">│   </span><span style=\"color: #008000; text-decoration-color: #008000\">'shoe-data.txt'</span>,\n",
       "<span style=\"color: #7fbf7f; text-decoration-color: #7fbf7f\">│   </span><span style=\"color: #008000; text-decoration-color: #008000\">'linux-etc-passwd.txt'</span>,\n",
       "<span style=\"color: #7fbf7f; text-decoration-color: #7fbf7f\">│   </span><span style=\"color: #008000; text-decoration-color: #008000\">'wcfile.txt'</span>,\n",
       "<span style=\"color: #7fbf7f; text-decoration-color: #7fbf7f\">│   </span><span style=\"color: #008000; text-decoration-color: #008000\">'myfile.txt'</span>\n",
       "<span style=\"font-weight: bold\">]</span>\n",
       "</pre>"
      ],
      "text/plain": [
       "\n",
       "\u001b[1m[\u001b[0m\n",
       "\u001b[2;32m│   \u001b[0m\u001b[32m'mini-access-log.txt'\u001b[0m,\n",
       "\u001b[2;32m│   \u001b[0m\u001b[32m'nums.txt'\u001b[0m,\n",
       "\u001b[2;32m│   \u001b[0m\u001b[32m'mydict.txt'\u001b[0m,\n",
       "\u001b[2;32m│   \u001b[0m\u001b[32m'mynewfile.txt'\u001b[0m,\n",
       "\u001b[2;32m│   \u001b[0m\u001b[32m'shoe-data.txt'\u001b[0m,\n",
       "\u001b[2;32m│   \u001b[0m\u001b[32m'linux-etc-passwd.txt'\u001b[0m,\n",
       "\u001b[2;32m│   \u001b[0m\u001b[32m'wcfile.txt'\u001b[0m,\n",
       "\u001b[2;32m│   \u001b[0m\u001b[32m'myfile.txt'\u001b[0m\n",
       "\u001b[1m]\u001b[0m\n"
      ]
     },
     "metadata": {},
     "output_type": "display_data"
    }
   ],
   "source": [
    "glob.glob('*.txt')    # module glob, function glob"
   ]
  },
  {
   "cell_type": "code",
   "execution_count": 38,
   "id": "8eec4213",
   "metadata": {},
   "outputs": [],
   "source": [
    "# Write a function, file_length, that takes a filename and returns the length\n",
    "\n",
    "def file_length(filename):\n",
    "    total = 0    \n",
    "    \n",
    "    for one_line in open(filename):    # go over the file, one line at a time\n",
    "        total += len(one_line)         # add the current line's length to total\n",
    "        \n",
    "    return total      "
   ]
  },
  {
   "cell_type": "code",
   "execution_count": 39,
   "id": "dfc6e465",
   "metadata": {},
   "outputs": [
    {
     "data": {
      "text/html": [
       "<pre style='white-space:pre;overflow-x:auto;line-height:normal'><span style=\"color: #008080; text-decoration-color: #008080; font-weight: bold\">42</span>\n",
       "</pre>"
      ],
      "text/plain": [
       "\u001b[1;36m42\u001b[0m\n"
      ]
     },
     "metadata": {},
     "output_type": "display_data"
    }
   ],
   "source": [
    "file_length('nums.txt')"
   ]
  },
  {
   "cell_type": "code",
   "execution_count": 40,
   "id": "59acc5e9",
   "metadata": {},
   "outputs": [
    {
     "data": {
      "text/html": [
       "<pre style='white-space:pre;overflow-x:auto;line-height:normal'><span style=\"color: #008080; text-decoration-color: #008080; font-weight: bold\">30</span>\n",
       "</pre>"
      ],
      "text/plain": [
       "\u001b[1;36m30\u001b[0m\n"
      ]
     },
     "metadata": {},
     "output_type": "display_data"
    }
   ],
   "source": [
    "file_length('mynewfile.txt')"
   ]
  },
  {
   "cell_type": "code",
   "execution_count": 41,
   "id": "02435dfc",
   "metadata": {},
   "outputs": [
    {
     "data": {
      "text/html": [
       "<pre style='white-space:pre;overflow-x:auto;line-height:normal'><span style=\"color: #008080; text-decoration-color: #008080; font-weight: bold\">2683</span>\n",
       "</pre>"
      ],
      "text/plain": [
       "\u001b[1;36m2683\u001b[0m\n"
      ]
     },
     "metadata": {},
     "output_type": "display_data"
    }
   ],
   "source": [
    "file_length('linux-etc-passwd.txt')"
   ]
  },
  {
   "cell_type": "code",
   "execution_count": 42,
   "id": "1bbc7c76",
   "metadata": {},
   "outputs": [
    {
     "name": "stdout",
     "output_type": "stream",
     "text": [
      "mini-access-log.txt:\t36562\n",
      "nums.txt:\t42\n",
      "mydict.txt:\t18\n",
      "mynewfile.txt:\t30\n",
      "shoe-data.txt:\t1676\n",
      "linux-etc-passwd.txt:\t2683\n",
      "wcfile.txt:\t165\n",
      "myfile.txt:\t30\n"
     ]
    }
   ],
   "source": [
    "# I can combine my new friend, glob.glob, with my new function, file_length:\n",
    "\n",
    "for one_filename in glob.glob('*.txt'):   # for each *.txt file in the current directory\n",
    "    l = file_length(one_filename)\n",
    "    print(f'{one_filename}:\\t{l}')"
   ]
  },
  {
   "cell_type": "code",
   "execution_count": 43,
   "id": "dc8e4771",
   "metadata": {},
   "outputs": [
    {
     "name": "stdout",
     "output_type": "stream",
     "text": [
      "-rw-r--r-- 1 reuven staff  2683 Mar 13  2016 linux-etc-passwd.txt\r\n",
      "-rw-r--r-- 1 reuven staff 36562 Aug  8  2014 mini-access-log.txt\r\n",
      "-rw-r--r-- 1 reuven staff    18 Jan 20 22:48 mydict.txt\r\n",
      "-rw-r--r-- 1 reuven staff    30 Jan 20 22:35 myfile.txt\r\n",
      "-rw-r--r-- 1 reuven staff    30 Jan 20 22:39 mynewfile.txt\r\n",
      "-rw-r--r-- 1 reuven staff    42 Sep 19  2017 nums.txt\r\n",
      "-rw-r--r-- 1 reuven staff  1676 Dec 14  2014 shoe-data.txt\r\n",
      "-rw-r--r-- 1 reuven staff   165 Nov 19  2013 wcfile.txt\r\n"
     ]
    }
   ],
   "source": [
    "!ls -l *.txt"
   ]
  },
  {
   "cell_type": "markdown",
   "id": "7b0e77a4",
   "metadata": {},
   "source": [
    "# Exercise: Pick a random character\n",
    "\n",
    "1. Use `glob.glob` to find all of the text files in the current directory (like I did).\n",
    "2. Go through each filename in a `for` loop.\n",
    "3. Open each file, and go through each line, one at a time.\n",
    "4. Use `random.randint` to choose a random character from that line.  Meaning: Calculate the length of the line with `len`, and then run `random.randint` to get a random number up to that.\n",
    "5. Print the filename, the number, and the character at that location in the file.\n",
    "\n",
    "Hints:\n",
    "- `glob.glob('*.txt')` -- returns a list of strings (filenames)\n",
    "- `random.randint(0, 100)` -- returns a random integer from 0 - 100\n",
    "- Don't forget to `import` each of the two modules we're using here."
   ]
  },
  {
   "cell_type": "code",
   "execution_count": 44,
   "id": "92c9c724",
   "metadata": {},
   "outputs": [
    {
     "name": "stdout",
     "output_type": "stream",
     "text": [
      "-rw-r--r-- 1 reuven staff 2683 Mar 13  2016 linux-etc-passwd.txt\r\n"
     ]
    }
   ],
   "source": [
    "!ls -l linux-etc-passwd.txt"
   ]
  },
  {
   "cell_type": "code",
   "execution_count": 49,
   "id": "81c292a0",
   "metadata": {
    "collapsed": true
   },
   "outputs": [
    {
     "name": "stdout",
     "output_type": "stream",
     "text": [
      "mini-access-log.txt\t96\t.\n",
      "mini-access-log.txt\t100\tz\n",
      "mini-access-log.txt\t70\t.\n",
      "mini-access-log.txt\t21\t/\n",
      "mini-access-log.txt\t32\t:\n",
      "mini-access-log.txt\t27\t1\n",
      "mini-access-log.txt\t71\t\"\n",
      "mini-access-log.txt\t137\t \n",
      "mini-access-log.txt\t112\t5\n",
      "mini-access-log.txt\t46\t\"\n",
      "mini-access-log.txt\t69\t1\n",
      "mini-access-log.txt\t15\t \n",
      "mini-access-log.txt\t102\tb\n",
      "mini-access-log.txt\t108\tl\n",
      "mini-access-log.txt\t113\t \n",
      "mini-access-log.txt\t120\ta\n",
      "mini-access-log.txt\t102\t\"\n",
      "mini-access-log.txt\t134\te\n",
      "mini-access-log.txt\t100\t\"\n",
      "mini-access-log.txt\t78\t \n",
      "mini-access-log.txt\t80\t \n",
      "mini-access-log.txt\t135\tm\n",
      "mini-access-log.txt\t125\tl\n",
      "mini-access-log.txt\t147\tt\n",
      "mini-access-log.txt\t22\ta\n",
      "mini-access-log.txt\t103\t \n",
      "mini-access-log.txt\t38\t6\n",
      "mini-access-log.txt\t111\to\n",
      "mini-access-log.txt\t130\to\n",
      "mini-access-log.txt\t68\tT\n",
      "mini-access-log.txt\t53\tr\n",
      "mini-access-log.txt\t150\tw\n",
      "mini-access-log.txt\t117\tb\n",
      "mini-access-log.txt\t170\t\n",
      "\n",
      "mini-access-log.txt\t163\tt\n",
      "mini-access-log.txt\t14\t \n",
      "mini-access-log.txt\t25\t2\n",
      "mini-access-log.txt\t38\t \n",
      "mini-access-log.txt\t159\tg\n",
      "mini-access-log.txt\t100\ti\n",
      "mini-access-log.txt\t118\tb\n",
      "mini-access-log.txt\t121\tl\n",
      "mini-access-log.txt\t81\tr\n",
      "mini-access-log.txt\t14\t \n",
      "mini-access-log.txt\t32\t:\n",
      "mini-access-log.txt\t3\t5\n",
      "mini-access-log.txt\t82\t \n",
      "mini-access-log.txt\t113\t.\n",
      "mini-access-log.txt\t22\ta\n",
      "mini-access-log.txt\t41\t2\n",
      "mini-access-log.txt\t20\t/\n",
      "mini-access-log.txt\t88\t \n",
      "mini-access-log.txt\t89\tt\n",
      "mini-access-log.txt\t30\t1\n",
      "mini-access-log.txt\t159\tt\n",
      "mini-access-log.txt\t129\tp\n",
      "mini-access-log.txt\t156\t/\n",
      "mini-access-log.txt\t3\t2\n",
      "mini-access-log.txt\t166\te\n",
      "mini-access-log.txt\t172\t/\n",
      "mini-access-log.txt\t18\t3\n",
      "mini-access-log.txt\t50\t \n",
      "mini-access-log.txt\t151\te\n",
      "mini-access-log.txt\t171\tm\n",
      "mini-access-log.txt\t11\t8\n",
      "mini-access-log.txt\t178\tt\n",
      "mini-access-log.txt\t116\t \n",
      "mini-access-log.txt\t13\t-\n",
      "mini-access-log.txt\t5\t9\n",
      "mini-access-log.txt\t157\th\n",
      "mini-access-log.txt\t135\to\n",
      "mini-access-log.txt\t118\t-\n",
      "mini-access-log.txt\t104\t \n",
      "mini-access-log.txt\t172\to\n",
      "mini-access-log.txt\t114\t1\n",
      "mini-access-log.txt\t141\tG\n",
      "mini-access-log.txt\t100\tT\n",
      "mini-access-log.txt\t120\ta\n",
      "mini-access-log.txt\t111\t/\n",
      "mini-access-log.txt\t101\tt\n",
      "mini-access-log.txt\t95\t-\n",
      "mini-access-log.txt\t60\to\n",
      "mini-access-log.txt\t170\tt\n",
      "mini-access-log.txt\t16\t \n",
      "mini-access-log.txt\t168\tt\n",
      "mini-access-log.txt\t93\t:\n",
      "mini-access-log.txt\t157\ta\n",
      "mini-access-log.txt\t154\tg\n",
      "mini-access-log.txt\t56\ts\n",
      "mini-access-log.txt\t56\ts\n",
      "mini-access-log.txt\t61\tP\n",
      "mini-access-log.txt\t80\tT\n",
      "mini-access-log.txt\t95\to\n",
      "mini-access-log.txt\t136\tt\n",
      "mini-access-log.txt\t131\tg\n",
      "mini-access-log.txt\t52\tb\n",
      "mini-access-log.txt\t9\t.\n",
      "mini-access-log.txt\t46\t \n",
      "mini-access-log.txt\t155\tg\n",
      "mini-access-log.txt\t85\t \n",
      "mini-access-log.txt\t107\tl\n",
      "mini-access-log.txt\t87\t0\n",
      "mini-access-log.txt\t140\t.\n",
      "mini-access-log.txt\t67\t/\n",
      "mini-access-log.txt\t86\t0\n",
      "mini-access-log.txt\t125\tG\n",
      "mini-access-log.txt\t142\tr\n",
      "mini-access-log.txt\t0\t6\n",
      "mini-access-log.txt\t212\ta\n",
      "mini-access-log.txt\t97\t\"\n",
      "mini-access-log.txt\t73\t/\n",
      "mini-access-log.txt\t63\tl\n",
      "mini-access-log.txt\t175\t\n",
      "\n",
      "mini-access-log.txt\t145\to\n",
      "mini-access-log.txt\t144\tt\n",
      "mini-access-log.txt\t122\te\n",
      "mini-access-log.txt\t55\tw\n",
      "mini-access-log.txt\t107\tl\n",
      "mini-access-log.txt\t28\t1\n",
      "mini-access-log.txt\t90\tc\n",
      "mini-access-log.txt\t110\ti\n",
      "mini-access-log.txt\t77\t1\n",
      "mini-access-log.txt\t35\t3\n",
      "mini-access-log.txt\t10\t.\n",
      "mini-access-log.txt\t53\ta\n",
      "mini-access-log.txt\t10\t.\n",
      "mini-access-log.txt\t111\t(\n",
      "mini-access-log.txt\t78\tP\n",
      "mini-access-log.txt\t105\ta\n",
      "mini-access-log.txt\t129\t6\n",
      "mini-access-log.txt\t77\tT\n",
      "mini-access-log.txt\t43\t0\n",
      "mini-access-log.txt\t42\t2\n",
      "mini-access-log.txt\t131\t;\n",
      "mini-access-log.txt\t76\tT\n",
      "mini-access-log.txt\t1\t9\n",
      "mini-access-log.txt\t19\t3\n",
      "mini-access-log.txt\t8\t7\n",
      "mini-access-log.txt\t87\t7\n",
      "mini-access-log.txt\t54\ti\n",
      "mini-access-log.txt\t140\t.\n",
      "mini-access-log.txt\t98\t-\n",
      "mini-access-log.txt\t72\t3\n",
      "mini-access-log.txt\t26\t0\n",
      "mini-access-log.txt\t110\tl\n",
      "mini-access-log.txt\t14\t \n",
      "mini-access-log.txt\t137\tb\n",
      "mini-access-log.txt\t64\to\n",
      "mini-access-log.txt\t103\t\"\n",
      "mini-access-log.txt\t98\t\"\n",
      "mini-access-log.txt\t120\to\n",
      "mini-access-log.txt\t125\tl\n",
      "mini-access-log.txt\t156\tg\n",
      "mini-access-log.txt\t15\t-\n",
      "mini-access-log.txt\t67\t_\n",
      "mini-access-log.txt\t125\te\n",
      "mini-access-log.txt\t167\t/\n",
      "mini-access-log.txt\t82\t \n",
      "mini-access-log.txt\t6\t.\n",
      "mini-access-log.txt\t75\t1\n",
      "mini-access-log.txt\t162\to\n",
      "mini-access-log.txt\t2\t.\n",
      "mini-access-log.txt\t4\t4\n",
      "mini-access-log.txt\t171\tt\n",
      "mini-access-log.txt\t178\t)\n",
      "mini-access-log.txt\t79\tT\n",
      "mini-access-log.txt\t64\to\n",
      "mini-access-log.txt\t21\tJ\n",
      "mini-access-log.txt\t12\t \n",
      "mini-access-log.txt\t61\tx\n",
      "mini-access-log.txt\t63\tw\n",
      "mini-access-log.txt\t134\tr\n",
      "mini-access-log.txt\t24\tn\n",
      "mini-access-log.txt\t104\t/\n",
      "mini-access-log.txt\t93\t1\n",
      "mini-access-log.txt\t267\t/\n",
      "mini-access-log.txt\t248\ty\n",
      "mini-access-log.txt\t133\tm\n",
      "mini-access-log.txt\t85\tc\n",
      "mini-access-log.txt\t133\tn\n",
      "mini-access-log.txt\t95\tc\n",
      "mini-access-log.txt\t110\t4\n",
      "mini-access-log.txt\t149\te\n",
      "mini-access-log.txt\t12\t5\n",
      "mini-access-log.txt\t146\t/\n",
      "mini-access-log.txt\t46\t\"\n",
      "mini-access-log.txt\t132\t\"\n",
      "mini-access-log.txt\t2\t.\n",
      "mini-access-log.txt\t102\t(\n",
      "mini-access-log.txt\t121\tt\n",
      "mini-access-log.txt\t67\t_\n",
      "mini-access-log.txt\t92\t1\n",
      "mini-access-log.txt\t101\t \n",
      "mini-access-log.txt\t156\t.\n",
      "mini-access-log.txt\t169\tt\n",
      "mini-access-log.txt\t117\tc\n",
      "mini-access-log.txt\t99\t2\n",
      "mini-access-log.txt\t68\tm\n",
      "mini-access-log.txt\t164\to\n",
      "mini-access-log.txt\t165\tm\n",
      "mini-access-log.txt\t162\t.\n",
      "mini-access-log.txt\t28\t0\n",
      "mini-access-log.txt\t124\tb\n",
      "mini-access-log.txt\t10\t3\n",
      "mini-access-log.txt\t135\t1\n",
      "mini-access-log.txt\t87\t1\n",
      "nums.txt\t0\t5\n",
      "nums.txt\t1\t1\n",
      "nums.txt\t1\t2\n",
      "nums.txt\t4\t\n",
      "\n",
      "nums.txt\t10\t \n",
      "nums.txt\t0\t\n",
      "\n",
      "nums.txt\t0\t \n",
      "mydict.txt\t1\t=\n",
      "mydict.txt\t2\t2\n",
      "mydict.txt\t5\tl\n",
      "mynewfile.txt\t4\t\n",
      "\n",
      "mynewfile.txt\t4\ti\n",
      "mynewfile.txt\t1\t*\n",
      "mynewfile.txt\t3\t \n",
      "shoe-data.txt\t9\ta\n",
      "shoe-data.txt\t10\t\t\n",
      "shoe-data.txt\t15\t\n",
      "\n",
      "shoe-data.txt\t14\tn\n",
      "shoe-data.txt\t6\th\n",
      "shoe-data.txt\t0\tN\n",
      "shoe-data.txt\t6\ti\n",
      "shoe-data.txt\t1\td\n",
      "shoe-data.txt\t11\t\t\n",
      "shoe-data.txt\t1\te\n",
      "shoe-data.txt\t15\tn\n",
      "shoe-data.txt\t12\t1\n",
      "shoe-data.txt\t12\te\n",
      "shoe-data.txt\t14\t8\n",
      "shoe-data.txt\t8\ti\n",
      "shoe-data.txt\t8\th\n",
      "shoe-data.txt\t4\ta\n",
      "shoe-data.txt\t11\t1\n",
      "shoe-data.txt\t10\tk\n",
      "shoe-data.txt\t4\tB\n",
      "shoe-data.txt\t0\tN\n",
      "shoe-data.txt\t13\t\n",
      "\n",
      "shoe-data.txt\t0\tN\n",
      "shoe-data.txt\t13\t\n",
      "\n",
      "shoe-data.txt\t12\t\t\n",
      "shoe-data.txt\t1\te\n",
      "shoe-data.txt\t6\t\t\n",
      "shoe-data.txt\t16\t\t\n",
      "shoe-data.txt\t5\ta\n",
      "shoe-data.txt\t3\td\n",
      "shoe-data.txt\t13\tr\n",
      "shoe-data.txt\t5\ta\n",
      "shoe-data.txt\t14\tn\n",
      "shoe-data.txt\t8\tc\n",
      "shoe-data.txt\t2\tk\n",
      "shoe-data.txt\t8\tn\n",
      "shoe-data.txt\t9\tk\n",
      "shoe-data.txt\t10\tc\n",
      "shoe-data.txt\t4\tB\n",
      "shoe-data.txt\t11\t\t\n",
      "shoe-data.txt\t2\tk\n",
      "shoe-data.txt\t9\ta\n",
      "shoe-data.txt\t3\td\n",
      "shoe-data.txt\t14\t3\n",
      "shoe-data.txt\t20\t9\n",
      "shoe-data.txt\t12\t5\n",
      "shoe-data.txt\t9\ti\n",
      "shoe-data.txt\t2\tk\n",
      "shoe-data.txt\t13\t\t\n",
      "shoe-data.txt\t1\td\n",
      "shoe-data.txt\t13\tr\n",
      "shoe-data.txt\t8\tk\n",
      "shoe-data.txt\t11\t8\n",
      "shoe-data.txt\t11\tk\n",
      "shoe-data.txt\t15\tt\n",
      "shoe-data.txt\t1\ti\n",
      "shoe-data.txt\t4\t\t\n",
      "shoe-data.txt\t1\ti\n",
      "shoe-data.txt\t6\t\t\n",
      "shoe-data.txt\t13\tr\n",
      "shoe-data.txt\t7\tp\n",
      "shoe-data.txt\t6\t\t\n",
      "shoe-data.txt\t8\ti\n",
      "shoe-data.txt\t1\ti\n",
      "shoe-data.txt\t1\ti\n",
      "shoe-data.txt\t0\tA\n",
      "shoe-data.txt\t5\tp\n",
      "shoe-data.txt\t8\th\n",
      "shoe-data.txt\t10\te\n",
      "shoe-data.txt\t6\tl\n",
      "shoe-data.txt\t10\te\n",
      "shoe-data.txt\t8\tn\n",
      "shoe-data.txt\t9\tn\n",
      "shoe-data.txt\t9\t\t\n",
      "shoe-data.txt\t1\ti\n",
      "shoe-data.txt\t12\t9\n",
      "shoe-data.txt\t7\ta\n",
      "shoe-data.txt\t15\t\n",
      "\n",
      "shoe-data.txt\t13\t6\n",
      "shoe-data.txt\t12\t8\n",
      "shoe-data.txt\t4\tB\n",
      "shoe-data.txt\t19\t\n",
      "\n",
      "shoe-data.txt\t15\t\n",
      "\n",
      "shoe-data.txt\t14\t0\n",
      "shoe-data.txt\t18\t\t\n",
      "shoe-data.txt\t5\tp\n",
      "shoe-data.txt\t7\to\n",
      "shoe-data.txt\t10\t\t\n",
      "shoe-data.txt\t12\t3\n",
      "shoe-data.txt\t15\t\n",
      "\n",
      "shoe-data.txt\t4\t\t\n",
      "shoe-data.txt\t8\tk\n",
      "shoe-data.txt\t16\tk\n",
      "shoe-data.txt\t12\t8\n",
      "shoe-data.txt\t15\tk\n",
      "shoe-data.txt\t4\t\t\n",
      "shoe-data.txt\t16\tg\n",
      "shoe-data.txt\t5\ta\n",
      "shoe-data.txt\t8\tl\n",
      "shoe-data.txt\t2\tk\n",
      "linux-etc-passwd.txt\t10\ta\n",
      "linux-etc-passwd.txt\t7\th\n",
      "linux-etc-passwd.txt\t8\t:\n",
      "linux-etc-passwd.txt\t41\to\n",
      "linux-etc-passwd.txt\t19\t/\n",
      "linux-etc-passwd.txt\t22\tr\n",
      "linux-etc-passwd.txt\t8\t:\n",
      "linux-etc-passwd.txt\t39\t/\n",
      "linux-etc-passwd.txt\t32\ts\n",
      "linux-etc-passwd.txt\t1\tp\n",
      "linux-etc-passwd.txt\t15\t:\n",
      "linux-etc-passwd.txt\t0\t\n",
      "\n",
      "linux-etc-passwd.txt\t0\t\n",
      "\n",
      "linux-etc-passwd.txt\t0\t\n",
      "\n",
      "linux-etc-passwd.txt\t10\t:\n",
      "linux-etc-passwd.txt\t21\tr\n",
      "linux-etc-passwd.txt\t36\to\n",
      "linux-etc-passwd.txt\t38\tr\n",
      "linux-etc-passwd.txt\t2\tc\n",
      "linux-etc-passwd.txt\t17\ti\n",
      "linux-etc-passwd.txt\t24\tn\n",
      "linux-etc-passwd.txt\t32\tg\n",
      "linux-etc-passwd.txt\t0\t\n",
      "\n",
      "linux-etc-passwd.txt\t27\t:\n",
      "linux-etc-passwd.txt\t22\te\n",
      "linux-etc-passwd.txt\t32\tb\n",
      "linux-etc-passwd.txt\t21\t/\n",
      "linux-etc-passwd.txt\t24\t:\n",
      "linux-etc-passwd.txt\t8\t0\n",
      "linux-etc-passwd.txt\t40\t/\n",
      "linux-etc-passwd.txt\t18\t:\n",
      "linux-etc-passwd.txt\t34\tf\n",
      "linux-etc-passwd.txt\t10\t0\n",
      "linux-etc-passwd.txt\t19\tP\n",
      "linux-etc-passwd.txt\t33\tr\n",
      "linux-etc-passwd.txt\t62\ts\n",
      "linux-etc-passwd.txt\t10\t:\n",
      "linux-etc-passwd.txt\t23\t:\n",
      "linux-etc-passwd.txt\t53\ts\n",
      "linux-etc-passwd.txt\t38\t,\n",
      "linux-etc-passwd.txt\t48\t/\n",
      "linux-etc-passwd.txt\t26\tr\n",
      "linux-etc-passwd.txt\t14\t1\n",
      "linux-etc-passwd.txt\t44\th\n",
      "linux-etc-passwd.txt\t11\t:\n",
      "linux-etc-passwd.txt\t19\tv\n",
      "linux-etc-passwd.txt\t27\tt\n",
      "linux-etc-passwd.txt\t16\t2\n",
      "linux-etc-passwd.txt\t54\tl\n",
      "linux-etc-passwd.txt\t20\t1\n",
      "linux-etc-passwd.txt\t26\t/\n",
      "linux-etc-passwd.txt\t13\t1\n",
      "linux-etc-passwd.txt\t42\tm\n",
      "linux-etc-passwd.txt\t22\tl\n",
      "linux-etc-passwd.txt\t5\t:\n",
      "wcfile.txt\t8\ta\n",
      "wcfile.txt\t0\t\n",
      "\n",
      "wcfile.txt\t26\t0\n",
      "wcfile.txt\t0\t\n",
      "\n",
      "wcfile.txt\t0\tI\n",
      "wcfile.txt\t0\t\n",
      "\n",
      "wcfile.txt\t2\t \n",
      "wcfile.txt\t0\t\n",
      "\n",
      "wcfile.txt\t2\t \n",
      "wcfile.txt\t0\t\n",
      "\n",
      "wcfile.txt\t3\t!\n",
      "myfile.txt\t2\tc\n",
      "myfile.txt\t3\th\n",
      "myfile.txt\t7\td\n",
      "myfile.txt\t6\tg\n"
     ]
    }
   ],
   "source": [
    "import glob\n",
    "import random\n",
    "\n",
    "for one_filename in glob.glob('*.txt'):    # go through each filename in the current directory\n",
    "    for one_line in open(one_filename):    # go through each line in each file\n",
    "        n = random.randint(0, len(one_line)-1)  # get a character index for the current line\n",
    "        print(f'{one_filename}\\t{n}\\t{one_line[n]}')"
   ]
  },
  {
   "cell_type": "markdown",
   "id": "47415091",
   "metadata": {},
   "source": [
    "# Next up:\n",
    "\n",
    "1. Different forms of `import`\n",
    "2. Where Python loads modules from\n",
    "3. How to write our own module\n"
   ]
  }
 ],
 "metadata": {
  "kernelspec": {
   "display_name": "Python 3 (ipykernel)",
   "language": "python",
   "name": "python3"
  },
  "language_info": {
   "codemirror_mode": {
    "name": "ipython",
    "version": 3
   },
   "file_extension": ".py",
   "mimetype": "text/x-python",
   "name": "python",
   "nbconvert_exporter": "python",
   "pygments_lexer": "ipython3",
   "version": "3.10.1"
  }
 },
 "nbformat": 4,
 "nbformat_minor": 5
}
