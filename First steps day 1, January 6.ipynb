{
 "cells": [
  {
   "cell_type": "markdown",
   "metadata": {},
   "source": [
    "# Welcome!"
   ]
  },
  {
   "cell_type": "markdown",
   "metadata": {},
   "source": [
    "# Agenda -- Course (and today)\n",
    "\n",
    "1. Fundamentals of Python\n",
    "    - Variables \n",
    "    - Data types (why do we have them?)\n",
    "    - Input and output\n",
    "    - Making decisions with `if`\n",
    "    - Numbers\n",
    "    - Strings\n",
    "2. Loops, Lists, tuples\n",
    "3. Dictionaries, files (reading from, writing to)\n",
    "4. Functions\n",
    "    - Calling functions\n",
    "    - Writing functions\n",
    "5. Modules (libraries)    "
   ]
  },
  {
   "cell_type": "markdown",
   "metadata": {},
   "source": [
    "Jupyter has two modes:\n",
    "\n",
    "- Edit mode (green outline on the cell)\n",
    "    - To enter Edit mode, click in the cell *or* press ENTER\n",
    "- Command mode (blue outline on the cell)\n",
    "    - To enter Command mode, click on the left of the cell *or* press ESC\n",
    "    - To see all commands, press `h` while in command mode\n",
    "    \n",
    "To \"run\" a cell, meaning to have the code run or the HTML produced, use shift+ENTER together.    "
   ]
  },
  {
   "cell_type": "code",
   "execution_count": 3,
   "metadata": {},
   "outputs": [
    {
     "name": "stdout",
     "output_type": "stream",
     "text": [
      "Hello, world!\n"
     ]
    }
   ],
   "source": [
    "# anything starting with # is a comment -- Python ignores it entirely\n",
    "\n",
    "print('Hello, world!') # execute the code with shift+ENTER"
   ]
  },
  {
   "cell_type": "markdown",
   "metadata": {},
   "source": [
    "# How does `hello, world` work?\n",
    "\n",
    "1. I'm running the `print` function.  Functions are the verbs of a programming language.  How do I tell Python that I want to run the `print` function? I use parentheses, `()`.\n",
    "2. Inside of the parentheses we use with `print` are the *arguments*, meaning the values that we're giving to `print` that we want to display.  \n",
    "3. In this case, the value we want `print` to display is text, known in the programming world as a \"string.\" We can tell it's a string because it starts and ends with single quotes, `'`.  (You can also use double quotes, `\"` if you want.)\n",
    "4. Python sees the end of a line as the end of a command. Normally, commands in Python end when a line ends.  That includes both commands and functions and comments."
   ]
  },
  {
   "cell_type": "code",
   "execution_count": 4,
   "metadata": {},
   "outputs": [
    {
     "name": "stdout",
     "output_type": "stream",
     "text": [
      "7\n"
     ]
    }
   ],
   "source": [
    "print(3 + 4)"
   ]
  },
  {
   "cell_type": "markdown",
   "metadata": {},
   "source": [
    "# What happened there?\n",
    "\n",
    "We asked Python to \"evaluate\" an *expression*, meaning something that gives us a value back.  We hand that value to `print` as an argument, and `print` then displays the value on the screen."
   ]
  },
  {
   "cell_type": "code",
   "execution_count": 5,
   "metadata": {},
   "outputs": [
    {
     "name": "stdout",
     "output_type": "stream",
     "text": [
      "28\n"
     ]
    }
   ],
   "source": [
    "print(20 + 8)"
   ]
  },
  {
   "cell_type": "code",
   "execution_count": 7,
   "metadata": {},
   "outputs": [
    {
     "name": "stdout",
     "output_type": "stream",
     "text": [
      "40\n"
     ]
    }
   ],
   "source": [
    "# hard-coded values are inflexible, and annoying\n",
    "print(100 - 60)"
   ]
  },
  {
   "cell_type": "code",
   "execution_count": 8,
   "metadata": {},
   "outputs": [
    {
     "name": "stdout",
     "output_type": "stream",
     "text": [
      "40\n"
     ]
    }
   ],
   "source": [
    "# I can use variables to store values, and then use the variables in their place\n",
    "x = 100\n",
    "y = 60\n",
    "\n",
    "print(x - y)"
   ]
  },
  {
   "cell_type": "markdown",
   "metadata": {},
   "source": [
    "# About variables\n",
    "\n",
    "1. We don't have to declare variables in advance! As soon as you assign to a variable with `=`, it comes to life if it didn't exist already.\n",
    "2. We use `=` to assign to a variable. This is *NOT* the same `=` that you used in school math classes. It's known as the \"assignment operator.\"  Whatever value is on the right will be assigned to the variable on the left.\n",
    "3. If a variable already exists, then `=` overwrites whatever value was previously there."
   ]
  },
  {
   "cell_type": "code",
   "execution_count": 9,
   "metadata": {},
   "outputs": [
    {
     "name": "stdout",
     "output_type": "stream",
     "text": [
      "100\n"
     ]
    }
   ],
   "source": [
    "x = 100\n",
    "print(x)"
   ]
  },
  {
   "cell_type": "code",
   "execution_count": 10,
   "metadata": {},
   "outputs": [
    {
     "name": "stdout",
     "output_type": "stream",
     "text": [
      "50\n"
     ]
    }
   ],
   "source": [
    "x = 50\n",
    "print(x)"
   ]
  },
  {
   "cell_type": "code",
   "execution_count": null,
   "metadata": {},
   "outputs": [],
   "source": []
  }
 ],
 "metadata": {
  "kernelspec": {
   "display_name": "Python 3 (ipykernel)",
   "language": "python",
   "name": "python3"
  },
  "language_info": {
   "codemirror_mode": {
    "name": "ipython",
    "version": 3
   },
   "file_extension": ".py",
   "mimetype": "text/x-python",
   "name": "python",
   "nbconvert_exporter": "python",
   "pygments_lexer": "ipython3",
   "version": "3.10.1"
  }
 },
 "nbformat": 4,
 "nbformat_minor": 4
}
