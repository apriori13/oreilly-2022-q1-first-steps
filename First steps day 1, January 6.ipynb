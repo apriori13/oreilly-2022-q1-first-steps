{
 "cells": [
  {
   "cell_type": "markdown",
   "metadata": {},
   "source": [
    "# Welcome!"
   ]
  },
  {
   "cell_type": "markdown",
   "metadata": {},
   "source": [
    "# Agenda -- Course (and today)\n",
    "\n",
    "1. Fundamentals of Python\n",
    "    - Variables \n",
    "    - Data types (why do we have them?)\n",
    "    - Input and output\n",
    "    - Making decisions with `if`\n",
    "    - Numbers\n",
    "    - Strings\n",
    "2. Loops, Lists, tuples\n",
    "3. Dictionaries, files (reading from, writing to)\n",
    "4. Functions\n",
    "    - Calling functions\n",
    "    - Writing functions\n",
    "5. Modules (libraries)    "
   ]
  },
  {
   "cell_type": "markdown",
   "metadata": {},
   "source": [
    "Jupyter has two modes:\n",
    "\n",
    "- Edit mode (green outline on the cell)\n",
    "    - To enter Edit mode, click in the cell *or* press ENTER\n",
    "- Command mode (blue outline on the cell)\n",
    "    - To enter Command mode, click on the left of the cell *or* press ESC\n",
    "    - To see all commands, press `h` while in command mode\n",
    "    \n",
    "To \"run\" a cell, meaning to have the code run or the HTML produced, use shift+ENTER together.    "
   ]
  },
  {
   "cell_type": "code",
   "execution_count": 3,
   "metadata": {},
   "outputs": [
    {
     "name": "stdout",
     "output_type": "stream",
     "text": [
      "Hello, world!\n"
     ]
    }
   ],
   "source": [
    "# anything starting with # is a comment -- Python ignores it entirely\n",
    "\n",
    "print('Hello, world!') # execute the code with shift+ENTER"
   ]
  },
  {
   "cell_type": "markdown",
   "metadata": {},
   "source": [
    "# How does `hello, world` work?\n",
    "\n",
    "1. I'm running the `print` function.  Functions are the verbs of a programming language.  How do I tell Python that I want to run the `print` function? I use parentheses, `()`.\n",
    "2. Inside of the parentheses we use with `print` are the *arguments*, meaning the values that we're giving to `print` that we want to display.  \n",
    "3. In this case, the value we want `print` to display is text, known in the programming world as a \"string.\" We can tell it's a string because it starts and ends with single quotes, `'`.  (You can also use double quotes, `\"` if you want.)\n",
    "4. Python sees the end of a line as the end of a command. Normally, commands in Python end when a line ends.  That includes both commands and functions and comments."
   ]
  },
  {
   "cell_type": "code",
   "execution_count": 4,
   "metadata": {},
   "outputs": [
    {
     "name": "stdout",
     "output_type": "stream",
     "text": [
      "7\n"
     ]
    }
   ],
   "source": [
    "print(3 + 4)"
   ]
  },
  {
   "cell_type": "markdown",
   "metadata": {},
   "source": [
    "# What happened there?\n",
    "\n",
    "We asked Python to \"evaluate\" an *expression*, meaning something that gives us a value back.  We hand that value to `print` as an argument, and `print` then displays the value on the screen."
   ]
  },
  {
   "cell_type": "code",
   "execution_count": 5,
   "metadata": {},
   "outputs": [
    {
     "name": "stdout",
     "output_type": "stream",
     "text": [
      "28\n"
     ]
    }
   ],
   "source": [
    "print(20 + 8)"
   ]
  },
  {
   "cell_type": "code",
   "execution_count": 7,
   "metadata": {},
   "outputs": [
    {
     "name": "stdout",
     "output_type": "stream",
     "text": [
      "40\n"
     ]
    }
   ],
   "source": [
    "# hard-coded values are inflexible, and annoying\n",
    "print(100 - 60)"
   ]
  },
  {
   "cell_type": "code",
   "execution_count": 8,
   "metadata": {},
   "outputs": [
    {
     "name": "stdout",
     "output_type": "stream",
     "text": [
      "40\n"
     ]
    }
   ],
   "source": [
    "# I can use variables to store values, and then use the variables in their place\n",
    "x = 100\n",
    "y = 60\n",
    "\n",
    "print(x - y)"
   ]
  },
  {
   "cell_type": "markdown",
   "metadata": {},
   "source": [
    "# About variables\n",
    "\n",
    "1. We don't have to declare variables in advance! As soon as you assign to a variable with `=`, it comes to life if it didn't exist already.\n",
    "2. We use `=` to assign to a variable. This is *NOT* the same `=` that you used in school math classes. It's known as the \"assignment operator.\"  Whatever value is on the right will be assigned to the variable on the left.\n",
    "3. If a variable already exists, then `=` overwrites whatever value was previously there.\n",
    "4. Just as we don't need to declare variables in advance, we don't need to tell a variable what type of data it'll be storing. All Python variables can contain all Python values."
   ]
  },
  {
   "cell_type": "code",
   "execution_count": 9,
   "metadata": {},
   "outputs": [
    {
     "name": "stdout",
     "output_type": "stream",
     "text": [
      "100\n"
     ]
    }
   ],
   "source": [
    "x = 100\n",
    "print(x)"
   ]
  },
  {
   "cell_type": "code",
   "execution_count": 10,
   "metadata": {},
   "outputs": [
    {
     "name": "stdout",
     "output_type": "stream",
     "text": [
      "50\n"
     ]
    }
   ],
   "source": [
    "x = 50\n",
    "print(x)"
   ]
  },
  {
   "cell_type": "code",
   "execution_count": 11,
   "metadata": {},
   "outputs": [
    {
     "name": "stdout",
     "output_type": "stream",
     "text": [
      "13\n"
     ]
    }
   ],
   "source": [
    "x = 10\n",
    "y = 3\n",
    "\n",
    "print(x+y)  # add together numbers"
   ]
  },
  {
   "cell_type": "code",
   "execution_count": 12,
   "metadata": {},
   "outputs": [
    {
     "name": "stdout",
     "output_type": "stream",
     "text": [
      "abcdefgh\n"
     ]
    }
   ],
   "source": [
    "x = 'abcd'\n",
    "y = 'efgh'\n",
    "\n",
    "print(x + y)  # add together strings!"
   ]
  },
  {
   "cell_type": "code",
   "execution_count": 13,
   "metadata": {},
   "outputs": [
    {
     "ename": "TypeError",
     "evalue": "unsupported operand type(s) for +: 'int' and 'str'",
     "output_type": "error",
     "traceback": [
      "\u001b[0;31m---------------------------------------------------------------------------\u001b[0m",
      "\u001b[0;31mTypeError\u001b[0m                                 Traceback (most recent call last)",
      "\u001b[0;32m/var/folders/rr/0mnyyv811fs5vyp22gf4fxk00000gn/T/ipykernel_45435/3174136122.py\u001b[0m in \u001b[0;36m<module>\u001b[0;34m\u001b[0m\n\u001b[1;32m      2\u001b[0m \u001b[0my\u001b[0m \u001b[0;34m=\u001b[0m \u001b[0;34m'20'\u001b[0m  \u001b[0;31m# this is a string, not a number!\u001b[0m\u001b[0;34m\u001b[0m\u001b[0;34m\u001b[0m\u001b[0m\n\u001b[1;32m      3\u001b[0m \u001b[0;34m\u001b[0m\u001b[0m\n\u001b[0;32m----> 4\u001b[0;31m \u001b[0mprint\u001b[0m\u001b[0;34m(\u001b[0m\u001b[0mx\u001b[0m \u001b[0;34m+\u001b[0m \u001b[0my\u001b[0m\u001b[0;34m)\u001b[0m  \u001b[0;31m# can I add together a number and a string?\u001b[0m\u001b[0;34m\u001b[0m\u001b[0;34m\u001b[0m\u001b[0m\n\u001b[0m",
      "\u001b[0;31mTypeError\u001b[0m: unsupported operand type(s) for +: 'int' and 'str'"
     ]
    }
   ],
   "source": [
    "x = 10\n",
    "y = '20'  # this is a string, not a number!\n",
    "\n",
    "print(x + y)  # can I add together a number and a string?"
   ]
  },
  {
   "cell_type": "code",
   "execution_count": 14,
   "metadata": {},
   "outputs": [],
   "source": [
    "# if I want a variable to contain 10%, I have two choices:\n",
    "\n",
    "# (1) store the text 10%\n",
    "x = '10%'\n",
    "\n",
    "# (2) store the number equivalent to 10%\n",
    "x = 0.1"
   ]
  },
  {
   "cell_type": "code",
   "execution_count": 15,
   "metadata": {},
   "outputs": [
    {
     "data": {
      "text/plain": [
       "25"
      ]
     },
     "execution_count": 15,
     "metadata": {},
     "output_type": "execute_result"
    }
   ],
   "source": [
    "x = 10\n",
    "y = 15\n",
    "\n",
    "# special Jupyter-only feature: The final line of a cell, if an expression, will be displayed\n",
    "x + y   # addition"
   ]
  },
  {
   "cell_type": "code",
   "execution_count": 16,
   "metadata": {},
   "outputs": [
    {
     "data": {
      "text/plain": [
       "-5"
      ]
     },
     "execution_count": 16,
     "metadata": {},
     "output_type": "execute_result"
    }
   ],
   "source": [
    "x - y"
   ]
  },
  {
   "cell_type": "code",
   "execution_count": 17,
   "metadata": {},
   "outputs": [
    {
     "data": {
      "text/plain": [
       "150"
      ]
     },
     "execution_count": 17,
     "metadata": {},
     "output_type": "execute_result"
    }
   ],
   "source": [
    "x * y"
   ]
  },
  {
   "cell_type": "code",
   "execution_count": 18,
   "metadata": {},
   "outputs": [
    {
     "data": {
      "text/plain": [
       "0.6666666666666666"
      ]
     },
     "execution_count": 18,
     "metadata": {},
     "output_type": "execute_result"
    }
   ],
   "source": [
    "x / y"
   ]
  },
  {
   "cell_type": "code",
   "execution_count": 19,
   "metadata": {},
   "outputs": [
    {
     "data": {
      "text/plain": [
       "1000000000000000"
      ]
     },
     "execution_count": 19,
     "metadata": {},
     "output_type": "execute_result"
    }
   ],
   "source": [
    "x ** y   # x to the y power"
   ]
  },
  {
   "cell_type": "code",
   "execution_count": 20,
   "metadata": {},
   "outputs": [
    {
     "data": {
      "text/plain": [
       "10"
      ]
     },
     "execution_count": 20,
     "metadata": {},
     "output_type": "execute_result"
    }
   ],
   "source": [
    "x % y  # x modulo y, meaning: what's the remainder after dividing x by y?"
   ]
  },
  {
   "cell_type": "markdown",
   "metadata": {},
   "source": [
    "# Exercise: Calculate with variables!\n",
    "\n",
    "1. Assign two variables, `x` and `y`, to be any two numbers you want.\n",
    "2. Assign the sum of those two values to a new variable, called `total`.\n",
    "3. Print the value of `total` on the screen.\n",
    "\n",
    "Note: Because we cannot mix text and numbers together easily, don't try to print anything other than `total`.\n",
    "\n",
    "Remember: Quotes go around text values. They do *NOT* go around the names of variables. So don't put `''` around your variable names, just around text you want to store in variables."
   ]
  },
  {
   "cell_type": "code",
   "execution_count": 21,
   "metadata": {},
   "outputs": [
    {
     "name": "stdout",
     "output_type": "stream",
     "text": [
      "40\n"
     ]
    }
   ],
   "source": [
    "x = 25   # assigning the number (integer) 25 to the variable x\n",
    "y = 15   # assigning the number (integer) 15 to the variable y\n",
    "\n",
    "total = x + y   # first find x+y, then assign that value to the variable total\n",
    "\n",
    "print(total)    # display the value of the variable total"
   ]
  },
  {
   "cell_type": "code",
   "execution_count": 22,
   "metadata": {},
   "outputs": [
    {
     "name": "stdout",
     "output_type": "stream",
     "text": [
      "Hello, Reuven!\n"
     ]
    }
   ],
   "source": [
    "# variable names can be any combination of letters, numbers, and _\n",
    "# *but* they must start with letters or _ (typically letters)\n",
    "# they are case sensitive, so x and X are not the same.\n",
    "\n",
    "name = 'Reuven'                     # assigning the text string 'Reuven' to the variable name\n",
    "greeting = 'Hello, ' + name + '!'   # add together three text strings, and assigning to greeting\n",
    "\n",
    "print(greeting)"
   ]
  },
  {
   "cell_type": "code",
   "execution_count": 23,
   "metadata": {},
   "outputs": [
    {
     "name": "stdout",
     "output_type": "stream",
     "text": [
      "Hello,Reuven!\n"
     ]
    }
   ],
   "source": [
    "\n",
    "name = 'Reuven'                     # assigning the text string 'Reuven' to the variable name\n",
    "greeting = 'Hello,' + name + '!'   # add together three text strings, and assigning to greeting\n",
    "\n",
    "print(greeting)"
   ]
  },
  {
   "cell_type": "code",
   "execution_count": 24,
   "metadata": {},
   "outputs": [
    {
     "name": "stdout",
     "output_type": "stream",
     "text": [
      "Hello\n",
      "Goodbye\n",
      "Surprise!\n"
     ]
    }
   ],
   "source": [
    "print('Hello')   # enter goes down one line\n",
    "print('Goodbye') # enter goes down another line\n",
    "print('Surprise!')  # shift + Enter executes everything in the cell"
   ]
  },
  {
   "cell_type": "markdown",
   "metadata": {},
   "source": [
    "# Next up\n",
    "\n",
    "1. Getting input from the user\n",
    "2. Assigning that to a variable\n",
    "3. Comparisons\n",
    "\n"
   ]
  },
  {
   "cell_type": "code",
   "execution_count": 25,
   "metadata": {},
   "outputs": [
    {
     "ename": "NameError",
     "evalue": "name 'First_name' is not defined",
     "output_type": "error",
     "traceback": [
      "\u001b[0;31m---------------------------------------------------------------------------\u001b[0m",
      "\u001b[0;31mNameError\u001b[0m                                 Traceback (most recent call last)",
      "\u001b[0;32m/var/folders/rr/0mnyyv811fs5vyp22gf4fxk00000gn/T/ipykernel_45435/333769695.py\u001b[0m in \u001b[0;36m<module>\u001b[0;34m\u001b[0m\n\u001b[1;32m      1\u001b[0m \u001b[0mfirst_name\u001b[0m \u001b[0;34m=\u001b[0m \u001b[0;34m'Reuven'\u001b[0m\u001b[0;34m\u001b[0m\u001b[0;34m\u001b[0m\u001b[0m\n\u001b[1;32m      2\u001b[0m \u001b[0;34m\u001b[0m\u001b[0m\n\u001b[0;32m----> 3\u001b[0;31m \u001b[0mprint\u001b[0m\u001b[0;34m(\u001b[0m\u001b[0mFirst_name\u001b[0m\u001b[0;34m)\u001b[0m\u001b[0;34m\u001b[0m\u001b[0;34m\u001b[0m\u001b[0m\n\u001b[0m",
      "\u001b[0;31mNameError\u001b[0m: name 'First_name' is not defined"
     ]
    }
   ],
   "source": [
    "first_name = 'Reuven'\n",
    "\n",
    "print(First_name)"
   ]
  },
  {
   "cell_type": "code",
   "execution_count": null,
   "metadata": {},
   "outputs": [],
   "source": [
    "# how can we get input from the user?\n",
    "# answer: the \"input\" function!\n",
    "\n"
   ]
  }
 ],
 "metadata": {
  "kernelspec": {
   "display_name": "Python 3 (ipykernel)",
   "language": "python",
   "name": "python3"
  },
  "language_info": {
   "codemirror_mode": {
    "name": "ipython",
    "version": 3
   },
   "file_extension": ".py",
   "mimetype": "text/x-python",
   "name": "python",
   "nbconvert_exporter": "python",
   "pygments_lexer": "ipython3",
   "version": "3.10.1"
  }
 },
 "nbformat": 4,
 "nbformat_minor": 4
}
