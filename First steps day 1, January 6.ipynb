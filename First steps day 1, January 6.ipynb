{
 "cells": [
  {
   "cell_type": "markdown",
   "metadata": {},
   "source": [
    "# Welcome!"
   ]
  },
  {
   "cell_type": "markdown",
   "metadata": {},
   "source": [
    "# Agenda -- Course (and today)\n",
    "\n",
    "1. Fundamentals of Python\n",
    "    - Variables \n",
    "    - Data types (why do we have them?)\n",
    "    - Input and output\n",
    "    - Making decisions with `if`\n",
    "    - Numbers\n",
    "    - Strings\n",
    "2. Loops, Lists, tuples\n",
    "3. Dictionaries, files (reading from, writing to)\n",
    "4. Functions\n",
    "    - Calling functions\n",
    "    - Writing functions\n",
    "5. Modules (libraries)    "
   ]
  },
  {
   "cell_type": "markdown",
   "metadata": {},
   "source": [
    "Jupyter has two modes:\n",
    "\n",
    "- Edit mode (green outline on the cell)\n",
    "    - To enter Edit mode, click in the cell *or* press ENTER\n",
    "- Command mode (blue outline on the cell)\n",
    "    - To enter Command mode, click on the left of the cell *or* press ESC\n",
    "    - To see all commands, press `h` while in command mode\n",
    "    \n",
    "To \"run\" a cell, meaning to have the code run or the HTML produced, use shift+ENTER together.    "
   ]
  },
  {
   "cell_type": "code",
   "execution_count": 3,
   "metadata": {},
   "outputs": [
    {
     "name": "stdout",
     "output_type": "stream",
     "text": [
      "Hello, world!\n"
     ]
    }
   ],
   "source": [
    "# anything starting with # is a comment -- Python ignores it entirely\n",
    "\n",
    "print('Hello, world!') # execute the code with shift+ENTER"
   ]
  },
  {
   "cell_type": "markdown",
   "metadata": {},
   "source": [
    "# How does `hello, world` work?\n",
    "\n",
    "1. I'm running the `print` function.  Functions are the verbs of a programming language.  How do I tell Python that I want to run the `print` function? I use parentheses, `()`.\n",
    "2. Inside of the parentheses we use with `print` are the *arguments*, meaning the values that we're giving to `print` that we want to display.  \n",
    "3. In this case, the value we want `print` to display is text, known in the programming world as a \"string.\" We can tell it's a string because it starts and ends with single quotes, `'`.  (You can also use double quotes, `\"` if you want.)\n",
    "4. Python sees the end of a line as the end of a command. Normally, commands in Python end when a line ends.  That includes both commands and functions and comments."
   ]
  },
  {
   "cell_type": "code",
   "execution_count": 4,
   "metadata": {},
   "outputs": [
    {
     "name": "stdout",
     "output_type": "stream",
     "text": [
      "7\n"
     ]
    }
   ],
   "source": [
    "print(3 + 4)"
   ]
  },
  {
   "cell_type": "markdown",
   "metadata": {},
   "source": [
    "# What happened there?\n",
    "\n",
    "We asked Python to \"evaluate\" an *expression*, meaning something that gives us a value back.  We hand that value to `print` as an argument, and `print` then displays the value on the screen."
   ]
  },
  {
   "cell_type": "code",
   "execution_count": 5,
   "metadata": {},
   "outputs": [
    {
     "name": "stdout",
     "output_type": "stream",
     "text": [
      "28\n"
     ]
    }
   ],
   "source": [
    "print(20 + 8)"
   ]
  },
  {
   "cell_type": "code",
   "execution_count": 7,
   "metadata": {},
   "outputs": [
    {
     "name": "stdout",
     "output_type": "stream",
     "text": [
      "40\n"
     ]
    }
   ],
   "source": [
    "# hard-coded values are inflexible, and annoying\n",
    "print(100 - 60)"
   ]
  },
  {
   "cell_type": "code",
   "execution_count": 8,
   "metadata": {},
   "outputs": [
    {
     "name": "stdout",
     "output_type": "stream",
     "text": [
      "40\n"
     ]
    }
   ],
   "source": [
    "# I can use variables to store values, and then use the variables in their place\n",
    "x = 100\n",
    "y = 60\n",
    "\n",
    "print(x - y)"
   ]
  },
  {
   "cell_type": "markdown",
   "metadata": {},
   "source": [
    "# About variables\n",
    "\n",
    "1. We don't have to declare variables in advance! As soon as you assign to a variable with `=`, it comes to life if it didn't exist already.\n",
    "2. We use `=` to assign to a variable. This is *NOT* the same `=` that you used in school math classes. It's known as the \"assignment operator.\"  Whatever value is on the right will be assigned to the variable on the left.\n",
    "3. If a variable already exists, then `=` overwrites whatever value was previously there.\n",
    "4. Just as we don't need to declare variables in advance, we don't need to tell a variable what type of data it'll be storing. All Python variables can contain all Python values."
   ]
  },
  {
   "cell_type": "code",
   "execution_count": 9,
   "metadata": {},
   "outputs": [
    {
     "name": "stdout",
     "output_type": "stream",
     "text": [
      "100\n"
     ]
    }
   ],
   "source": [
    "x = 100\n",
    "print(x)"
   ]
  },
  {
   "cell_type": "code",
   "execution_count": 10,
   "metadata": {},
   "outputs": [
    {
     "name": "stdout",
     "output_type": "stream",
     "text": [
      "50\n"
     ]
    }
   ],
   "source": [
    "x = 50\n",
    "print(x)"
   ]
  },
  {
   "cell_type": "code",
   "execution_count": 11,
   "metadata": {},
   "outputs": [
    {
     "name": "stdout",
     "output_type": "stream",
     "text": [
      "13\n"
     ]
    }
   ],
   "source": [
    "x = 10\n",
    "y = 3\n",
    "\n",
    "print(x+y)  # add together numbers"
   ]
  },
  {
   "cell_type": "code",
   "execution_count": 12,
   "metadata": {},
   "outputs": [
    {
     "name": "stdout",
     "output_type": "stream",
     "text": [
      "abcdefgh\n"
     ]
    }
   ],
   "source": [
    "x = 'abcd'\n",
    "y = 'efgh'\n",
    "\n",
    "print(x + y)  # add together strings!"
   ]
  },
  {
   "cell_type": "code",
   "execution_count": 13,
   "metadata": {},
   "outputs": [
    {
     "ename": "TypeError",
     "evalue": "unsupported operand type(s) for +: 'int' and 'str'",
     "output_type": "error",
     "traceback": [
      "\u001b[0;31m---------------------------------------------------------------------------\u001b[0m",
      "\u001b[0;31mTypeError\u001b[0m                                 Traceback (most recent call last)",
      "\u001b[0;32m/var/folders/rr/0mnyyv811fs5vyp22gf4fxk00000gn/T/ipykernel_45435/3174136122.py\u001b[0m in \u001b[0;36m<module>\u001b[0;34m\u001b[0m\n\u001b[1;32m      2\u001b[0m \u001b[0my\u001b[0m \u001b[0;34m=\u001b[0m \u001b[0;34m'20'\u001b[0m  \u001b[0;31m# this is a string, not a number!\u001b[0m\u001b[0;34m\u001b[0m\u001b[0;34m\u001b[0m\u001b[0m\n\u001b[1;32m      3\u001b[0m \u001b[0;34m\u001b[0m\u001b[0m\n\u001b[0;32m----> 4\u001b[0;31m \u001b[0mprint\u001b[0m\u001b[0;34m(\u001b[0m\u001b[0mx\u001b[0m \u001b[0;34m+\u001b[0m \u001b[0my\u001b[0m\u001b[0;34m)\u001b[0m  \u001b[0;31m# can I add together a number and a string?\u001b[0m\u001b[0;34m\u001b[0m\u001b[0;34m\u001b[0m\u001b[0m\n\u001b[0m",
      "\u001b[0;31mTypeError\u001b[0m: unsupported operand type(s) for +: 'int' and 'str'"
     ]
    }
   ],
   "source": [
    "x = 10\n",
    "y = '20'  # this is a string, not a number!\n",
    "\n",
    "print(x + y)  # can I add together a number and a string?"
   ]
  },
  {
   "cell_type": "code",
   "execution_count": 14,
   "metadata": {},
   "outputs": [],
   "source": [
    "# if I want a variable to contain 10%, I have two choices:\n",
    "\n",
    "# (1) store the text 10%\n",
    "x = '10%'\n",
    "\n",
    "# (2) store the number equivalent to 10%\n",
    "x = 0.1"
   ]
  },
  {
   "cell_type": "code",
   "execution_count": 15,
   "metadata": {},
   "outputs": [
    {
     "data": {
      "text/plain": [
       "25"
      ]
     },
     "execution_count": 15,
     "metadata": {},
     "output_type": "execute_result"
    }
   ],
   "source": [
    "x = 10\n",
    "y = 15\n",
    "\n",
    "# special Jupyter-only feature: The final line of a cell, if an expression, will be displayed\n",
    "x + y   # addition"
   ]
  },
  {
   "cell_type": "code",
   "execution_count": 16,
   "metadata": {},
   "outputs": [
    {
     "data": {
      "text/plain": [
       "-5"
      ]
     },
     "execution_count": 16,
     "metadata": {},
     "output_type": "execute_result"
    }
   ],
   "source": [
    "x - y"
   ]
  },
  {
   "cell_type": "code",
   "execution_count": 17,
   "metadata": {},
   "outputs": [
    {
     "data": {
      "text/plain": [
       "150"
      ]
     },
     "execution_count": 17,
     "metadata": {},
     "output_type": "execute_result"
    }
   ],
   "source": [
    "x * y"
   ]
  },
  {
   "cell_type": "code",
   "execution_count": 18,
   "metadata": {},
   "outputs": [
    {
     "data": {
      "text/plain": [
       "0.6666666666666666"
      ]
     },
     "execution_count": 18,
     "metadata": {},
     "output_type": "execute_result"
    }
   ],
   "source": [
    "x / y"
   ]
  },
  {
   "cell_type": "code",
   "execution_count": 19,
   "metadata": {},
   "outputs": [
    {
     "data": {
      "text/plain": [
       "1000000000000000"
      ]
     },
     "execution_count": 19,
     "metadata": {},
     "output_type": "execute_result"
    }
   ],
   "source": [
    "x ** y   # x to the y power"
   ]
  },
  {
   "cell_type": "code",
   "execution_count": 20,
   "metadata": {},
   "outputs": [
    {
     "data": {
      "text/plain": [
       "10"
      ]
     },
     "execution_count": 20,
     "metadata": {},
     "output_type": "execute_result"
    }
   ],
   "source": [
    "x % y  # x modulo y, meaning: what's the remainder after dividing x by y?"
   ]
  },
  {
   "cell_type": "markdown",
   "metadata": {},
   "source": [
    "# Exercise: Calculate with variables!\n",
    "\n",
    "1. Assign two variables, `x` and `y`, to be any two numbers you want.\n",
    "2. Assign the sum of those two values to a new variable, called `total`.\n",
    "3. Print the value of `total` on the screen.\n",
    "\n",
    "Note: Because we cannot mix text and numbers together easily, don't try to print anything other than `total`.\n",
    "\n",
    "Remember: Quotes go around text values. They do *NOT* go around the names of variables. So don't put `''` around your variable names, just around text you want to store in variables."
   ]
  },
  {
   "cell_type": "code",
   "execution_count": 21,
   "metadata": {},
   "outputs": [
    {
     "name": "stdout",
     "output_type": "stream",
     "text": [
      "40\n"
     ]
    }
   ],
   "source": [
    "x = 25   # assigning the number (integer) 25 to the variable x\n",
    "y = 15   # assigning the number (integer) 15 to the variable y\n",
    "\n",
    "total = x + y   # first find x+y, then assign that value to the variable total\n",
    "\n",
    "print(total)    # display the value of the variable total"
   ]
  },
  {
   "cell_type": "code",
   "execution_count": 22,
   "metadata": {},
   "outputs": [
    {
     "name": "stdout",
     "output_type": "stream",
     "text": [
      "Hello, Reuven!\n"
     ]
    }
   ],
   "source": [
    "# variable names can be any combination of letters, numbers, and _\n",
    "# *but* they must start with letters or _ (typically letters)\n",
    "# they are case sensitive, so x and X are not the same.\n",
    "\n",
    "name = 'Reuven'                     # assigning the text string 'Reuven' to the variable name\n",
    "greeting = 'Hello, ' + name + '!'   # add together three text strings, and assigning to greeting\n",
    "\n",
    "print(greeting)"
   ]
  },
  {
   "cell_type": "code",
   "execution_count": 23,
   "metadata": {},
   "outputs": [
    {
     "name": "stdout",
     "output_type": "stream",
     "text": [
      "Hello,Reuven!\n"
     ]
    }
   ],
   "source": [
    "\n",
    "name = 'Reuven'                     # assigning the text string 'Reuven' to the variable name\n",
    "greeting = 'Hello,' + name + '!'   # add together three text strings, and assigning to greeting\n",
    "\n",
    "print(greeting)"
   ]
  },
  {
   "cell_type": "code",
   "execution_count": 24,
   "metadata": {},
   "outputs": [
    {
     "name": "stdout",
     "output_type": "stream",
     "text": [
      "Hello\n",
      "Goodbye\n",
      "Surprise!\n"
     ]
    }
   ],
   "source": [
    "print('Hello')   # enter goes down one line\n",
    "print('Goodbye') # enter goes down another line\n",
    "print('Surprise!')  # shift + Enter executes everything in the cell"
   ]
  },
  {
   "cell_type": "markdown",
   "metadata": {},
   "source": [
    "# Next up\n",
    "\n",
    "1. Getting input from the user\n",
    "2. Assigning that to a variable\n",
    "3. Comparisons\n",
    "\n"
   ]
  },
  {
   "cell_type": "code",
   "execution_count": 25,
   "metadata": {},
   "outputs": [
    {
     "ename": "NameError",
     "evalue": "name 'First_name' is not defined",
     "output_type": "error",
     "traceback": [
      "\u001b[0;31m---------------------------------------------------------------------------\u001b[0m",
      "\u001b[0;31mNameError\u001b[0m                                 Traceback (most recent call last)",
      "\u001b[0;32m/var/folders/rr/0mnyyv811fs5vyp22gf4fxk00000gn/T/ipykernel_45435/333769695.py\u001b[0m in \u001b[0;36m<module>\u001b[0;34m\u001b[0m\n\u001b[1;32m      1\u001b[0m \u001b[0mfirst_name\u001b[0m \u001b[0;34m=\u001b[0m \u001b[0;34m'Reuven'\u001b[0m\u001b[0;34m\u001b[0m\u001b[0;34m\u001b[0m\u001b[0m\n\u001b[1;32m      2\u001b[0m \u001b[0;34m\u001b[0m\u001b[0m\n\u001b[0;32m----> 3\u001b[0;31m \u001b[0mprint\u001b[0m\u001b[0;34m(\u001b[0m\u001b[0mFirst_name\u001b[0m\u001b[0;34m)\u001b[0m\u001b[0;34m\u001b[0m\u001b[0;34m\u001b[0m\u001b[0m\n\u001b[0m",
      "\u001b[0;31mNameError\u001b[0m: name 'First_name' is not defined"
     ]
    }
   ],
   "source": [
    "first_name = 'Reuven'\n",
    "\n",
    "print(First_name)"
   ]
  },
  {
   "cell_type": "code",
   "execution_count": 26,
   "metadata": {},
   "outputs": [
    {
     "name": "stdout",
     "output_type": "stream",
     "text": [
      "Enter your name: Reuven\n"
     ]
    }
   ],
   "source": [
    "# how can we get input from the user?\n",
    "# answer: the \"input\" function!\n",
    "\n",
    "# assignment mean: thing on the right's value is assigned to the variable on the left\n",
    "# on the right: input, asking the user for something\n",
    "# on the left: the variable we want to get its value\n",
    "\n",
    "name = input('Enter your name: ')"
   ]
  },
  {
   "cell_type": "code",
   "execution_count": 28,
   "metadata": {},
   "outputs": [
    {
     "data": {
      "text/plain": [
       "'Reuven'"
      ]
     },
     "execution_count": 28,
     "metadata": {},
     "output_type": "execute_result"
    }
   ],
   "source": [
    "# when I put a variable on the final line in Jupyter, that's\n",
    "# an expression -- it returns a value, and we see the type \n",
    "name"
   ]
  },
  {
   "cell_type": "markdown",
   "metadata": {},
   "source": [
    "# Exercise: Greet the user\n",
    "\n",
    "1. Ask the user to enter their name, using `input`.\n",
    "2. Assign the name to a variable called `name`.\n",
    "3. Print a nice greeting to the user, using their name."
   ]
  },
  {
   "cell_type": "code",
   "execution_count": 29,
   "metadata": {},
   "outputs": [
    {
     "name": "stdout",
     "output_type": "stream",
     "text": [
      "Enter your name: Reuven\n",
      "Hello, Reuven!\n"
     ]
    }
   ],
   "source": [
    "# whatever the user enters to \"input\" will be returned as a text string value\n",
    "# that value will be assigned to the variable on the left\n",
    "\n",
    "name = input('Enter your name: ')   # text string as an argument to input -- use '' or \"\", whatever you want\n",
    "print('Hello, ' + name + '!')"
   ]
  },
  {
   "cell_type": "markdown",
   "metadata": {},
   "source": [
    "# What are expressions?\n",
    "\n",
    "Anything that gives a value back to us in Python is known as an expression.  Some examples:\n",
    "\n",
    "- `5 + 3` -- gives us the value `8` back\n",
    "- `'abcd' + 'efgh'` -- gives us the value `'abcdefgh'` back\n",
    "- `input('hello')` -- takes input from the user, and returns whatever the user asked for\n",
    "\n",
    "`print` is an expression... but don't use it that way.  We're interested in what it displays on the screen, not on what it gives us. So putting `print` on the right side of `=` is probably a bad idea."
   ]
  },
  {
   "cell_type": "markdown",
   "metadata": {},
   "source": [
    "# What if I want numbers?\n",
    "\n",
    "Python has two types of numbers, known as `int` (integers, whole numbers) and `float` (numbers with a fractional part, with a decimal point).\n",
    "\n",
    "If I get input from the user as a text string, how can I use it as a number?"
   ]
  },
  {
   "cell_type": "code",
   "execution_count": 30,
   "metadata": {},
   "outputs": [
    {
     "name": "stdout",
     "output_type": "stream",
     "text": [
      "Enter your favorite number: 72\n"
     ]
    }
   ],
   "source": [
    "# input *always* returns a string\n",
    "favorite_number = input('Enter your favorite number: ')"
   ]
  },
  {
   "cell_type": "code",
   "execution_count": 31,
   "metadata": {},
   "outputs": [
    {
     "data": {
      "text/plain": [
       "'727272'"
      ]
     },
     "execution_count": 31,
     "metadata": {},
     "output_type": "execute_result"
    }
   ],
   "source": [
    "# what happens if I multiply favorite_number by 3?\n",
    "\n",
    "favorite_number * 3"
   ]
  },
  {
   "cell_type": "code",
   "execution_count": 32,
   "metadata": {},
   "outputs": [
    {
     "data": {
      "text/plain": [
       "72"
      ]
     },
     "execution_count": 32,
     "metadata": {},
     "output_type": "execute_result"
    }
   ],
   "source": [
    "# this is because you can multiply a string by an integer in Python\n",
    "\n",
    "# what do I do if I want favorite_number to be turned into an integer?\n",
    "# I create an integer based on favorite_number\n",
    "\n",
    "int(favorite_number)  # this returns an integer based on the string favorite_number"
   ]
  },
  {
   "cell_type": "code",
   "execution_count": 33,
   "metadata": {},
   "outputs": [
    {
     "data": {
      "text/plain": [
       "216"
      ]
     },
     "execution_count": 33,
     "metadata": {},
     "output_type": "execute_result"
    }
   ],
   "source": [
    "# get an integer based on the string favorite_number\n",
    "# assign that new integer to x\n",
    "\n",
    "x = int(favorite_number)\n",
    "\n",
    "x * 3"
   ]
  },
  {
   "cell_type": "markdown",
   "metadata": {},
   "source": [
    "# Getting numeric input\n",
    "\n",
    "If I want to get input from the user as an integer, I must:\n",
    "\n",
    "1. Get the input as a string via `input`\n",
    "2. Turn that string into an integer with `int`\n",
    "\n",
    "If the string contains an illegal character (i.e., not a digit), the conversion will fail.\n",
    "\n",
    "If you want to get a floating-point value rather than an integer value, then use `float` instead of `int`."
   ]
  },
  {
   "cell_type": "code",
   "execution_count": 34,
   "metadata": {},
   "outputs": [
    {
     "name": "stdout",
     "output_type": "stream",
     "text": [
      "Enter the temperature: 20\n",
      "30.0\n"
     ]
    }
   ],
   "source": [
    "s = input('Enter the temperature: ')\n",
    "n = float(s)\n",
    "\n",
    "print(n + 10)  # we hope it'll be warmer soon!"
   ]
  },
  {
   "cell_type": "markdown",
   "metadata": {},
   "source": [
    "# Comparisons\n",
    "\n",
    "How do I compare two values?  What can I do with that comparison?\n",
    "\n",
    "We can find out if two values are the same with `==`.\n",
    "\n",
    "- `=` means: assignment, taking the value on the right and assigning to the variable on the left\n",
    "- `==` means: check if the left side and the right side are the same, and if they are, return `True`. If they aren't the same, return `False`.\n",
    "\n"
   ]
  },
  {
   "cell_type": "code",
   "execution_count": 36,
   "metadata": {},
   "outputs": [
    {
     "data": {
      "text/plain": [
       "True"
      ]
     },
     "execution_count": 36,
     "metadata": {},
     "output_type": "execute_result"
    }
   ],
   "source": [
    "# Some examples of ==\n",
    "\n",
    "5 == 5"
   ]
  },
  {
   "cell_type": "code",
   "execution_count": 37,
   "metadata": {},
   "outputs": [
    {
     "data": {
      "text/plain": [
       "True"
      ]
     },
     "execution_count": 37,
     "metadata": {},
     "output_type": "execute_result"
    }
   ],
   "source": [
    "5 == 5.0    # is an integer the same as a float?"
   ]
  },
  {
   "cell_type": "code",
   "execution_count": 38,
   "metadata": {},
   "outputs": [
    {
     "data": {
      "text/plain": [
       "False"
      ]
     },
     "execution_count": 38,
     "metadata": {},
     "output_type": "execute_result"
    }
   ],
   "source": [
    "5 == '5'     "
   ]
  },
  {
   "cell_type": "code",
   "execution_count": 39,
   "metadata": {},
   "outputs": [
    {
     "data": {
      "text/plain": [
       "True"
      ]
     },
     "execution_count": 39,
     "metadata": {},
     "output_type": "execute_result"
    }
   ],
   "source": [
    "10 + 3 == 13"
   ]
  },
  {
   "cell_type": "code",
   "execution_count": 40,
   "metadata": {},
   "outputs": [
    {
     "data": {
      "text/plain": [
       "True"
      ]
     },
     "execution_count": 40,
     "metadata": {},
     "output_type": "execute_result"
    }
   ],
   "source": [
    "x = 10\n",
    "y = 3\n",
    "\n",
    "x + y == 13"
   ]
  },
  {
   "cell_type": "code",
   "execution_count": 41,
   "metadata": {},
   "outputs": [
    {
     "data": {
      "text/plain": [
       "True"
      ]
     },
     "execution_count": 41,
     "metadata": {},
     "output_type": "execute_result"
    }
   ],
   "source": [
    "z = x + y\n",
    "\n",
    "z == 13"
   ]
  },
  {
   "cell_type": "markdown",
   "metadata": {},
   "source": [
    "# Comparison operators\n",
    "\n",
    "How can I compare things?  All comparisons return `True` or `False`.\n",
    "\n",
    "- `==` -- are the left and right sides equal?\n",
    "- `!=` -- not equal, opposite of `==`, computer typing for ≠\n",
    "- `<` -- is the left less than the right?\n",
    "- `>` -- is the left greater than the right?\n",
    "- `<=` -- is the left less than or equal to the right?\n",
    "- `>=` -- is the left greater than or equal to the right?\n",
    "\n",
    "These all work on numbers, but they *also* work on strings!  A string is \"less than\" another if it comes before it alphabetically. (Note: Capital letters all come before lowercase letters.)\n",
    "\n",
    "However, you cannot compare a number with a string -- only a number with a number, or a string with a string."
   ]
  },
  {
   "cell_type": "code",
   "execution_count": 42,
   "metadata": {},
   "outputs": [
    {
     "data": {
      "text/plain": [
       "True"
      ]
     },
     "execution_count": 42,
     "metadata": {},
     "output_type": "execute_result"
    }
   ],
   "source": [
    "'cab' < 'taxi'"
   ]
  },
  {
   "cell_type": "code",
   "execution_count": 43,
   "metadata": {},
   "outputs": [
    {
     "data": {
      "text/plain": [
       "False"
      ]
     },
     "execution_count": 43,
     "metadata": {},
     "output_type": "execute_result"
    }
   ],
   "source": [
    "'dog' < 'cat'"
   ]
  },
  {
   "cell_type": "code",
   "execution_count": 44,
   "metadata": {},
   "outputs": [
    {
     "name": "stdout",
     "output_type": "stream",
     "text": [
      "Enter a number: 5\n"
     ]
    },
    {
     "data": {
      "text/plain": [
       "50"
      ]
     },
     "execution_count": 44,
     "metadata": {},
     "output_type": "execute_result"
    }
   ],
   "source": [
    "s = input('Enter a number: ')   # I gave it 5 as an input, which gave '5', the text string\n",
    "int(s) * 10"
   ]
  },
  {
   "cell_type": "code",
   "execution_count": 45,
   "metadata": {},
   "outputs": [
    {
     "name": "stdout",
     "output_type": "stream",
     "text": [
      "Enter a number: x\n"
     ]
    },
    {
     "ename": "ValueError",
     "evalue": "invalid literal for int() with base 10: 'x'",
     "output_type": "error",
     "traceback": [
      "\u001b[0;31m---------------------------------------------------------------------------\u001b[0m",
      "\u001b[0;31mValueError\u001b[0m                                Traceback (most recent call last)",
      "\u001b[0;32m/var/folders/rr/0mnyyv811fs5vyp22gf4fxk00000gn/T/ipykernel_45435/1752896836.py\u001b[0m in \u001b[0;36m<module>\u001b[0;34m\u001b[0m\n\u001b[1;32m      1\u001b[0m \u001b[0ms\u001b[0m \u001b[0;34m=\u001b[0m \u001b[0minput\u001b[0m\u001b[0;34m(\u001b[0m\u001b[0;34m'Enter a number: '\u001b[0m\u001b[0;34m)\u001b[0m   \u001b[0;31m# I gave it x, a string that cannot be turned into an integer\u001b[0m\u001b[0;34m\u001b[0m\u001b[0;34m\u001b[0m\u001b[0m\n\u001b[0;32m----> 2\u001b[0;31m \u001b[0mint\u001b[0m\u001b[0;34m(\u001b[0m\u001b[0ms\u001b[0m\u001b[0;34m)\u001b[0m \u001b[0;34m*\u001b[0m \u001b[0;36m10\u001b[0m\u001b[0;34m\u001b[0m\u001b[0;34m\u001b[0m\u001b[0m\n\u001b[0m",
      "\u001b[0;31mValueError\u001b[0m: invalid literal for int() with base 10: 'x'"
     ]
    }
   ],
   "source": [
    "s = input('Enter a number: ')   # I gave it x, a string that cannot be turned into an integer\n",
    "int(s) * 10"
   ]
  },
  {
   "cell_type": "code",
   "execution_count": 46,
   "metadata": {},
   "outputs": [
    {
     "data": {
      "text/plain": [
       "13.5"
      ]
     },
     "execution_count": 46,
     "metadata": {},
     "output_type": "execute_result"
    }
   ],
   "source": [
    "x = 10\n",
    "y = 3.5\n",
    "\n",
    "x + y   # ints and floats play together well "
   ]
  },
  {
   "cell_type": "code",
   "execution_count": 47,
   "metadata": {},
   "outputs": [],
   "source": [
    "x = 10\n",
    "y = 3.5\n",
    "\n",
    "x = float(x)  # turn x into a floating point value of itself\n",
    "y = int(y)    # turn y into an integer version of itself"
   ]
  },
  {
   "cell_type": "code",
   "execution_count": 48,
   "metadata": {},
   "outputs": [
    {
     "data": {
      "text/plain": [
       "10.0"
      ]
     },
     "execution_count": 48,
     "metadata": {},
     "output_type": "execute_result"
    }
   ],
   "source": [
    "x"
   ]
  },
  {
   "cell_type": "code",
   "execution_count": 49,
   "metadata": {},
   "outputs": [
    {
     "data": {
      "text/plain": [
       "3"
      ]
     },
     "execution_count": 49,
     "metadata": {},
     "output_type": "execute_result"
    }
   ],
   "source": [
    "y"
   ]
  },
  {
   "cell_type": "code",
   "execution_count": 50,
   "metadata": {},
   "outputs": [
    {
     "data": {
      "text/plain": [
       "True"
      ]
     },
     "execution_count": 50,
     "metadata": {},
     "output_type": "execute_result"
    }
   ],
   "source": [
    "'dog' > 'DOG'"
   ]
  },
  {
   "cell_type": "markdown",
   "metadata": {},
   "source": [
    "# String comparisons\n",
    "\n",
    "When we compare strings, they're compared like we look up words in the dictionary:\n",
    "\n",
    "- Compare the first letters.\n",
    "- If one of them comes first, then that word comes first.  Otherwise, keep trying with each successive letter.\n",
    "    - Whichever word has the earlier-letter tiebreaker comes first\n",
    "    - If a word is shorter, it comes first\n",
    "    \n",
    "Really, Python is checking the numbers associated with the letters. These used to be known as ASCII, but now we're using Unicode, which gives a unique number to every character in every language.  Capital letters all come before lowercase letters in both ASCII and Unicode.\n"
   ]
  },
  {
   "cell_type": "code",
   "execution_count": 51,
   "metadata": {},
   "outputs": [
    {
     "data": {
      "text/plain": [
       "65"
      ]
     },
     "execution_count": 51,
     "metadata": {},
     "output_type": "execute_result"
    }
   ],
   "source": [
    "ord('A')  # what number does 'A' have?"
   ]
  },
  {
   "cell_type": "code",
   "execution_count": 52,
   "metadata": {},
   "outputs": [
    {
     "data": {
      "text/plain": [
       "97"
      ]
     },
     "execution_count": 52,
     "metadata": {},
     "output_type": "execute_result"
    }
   ],
   "source": [
    "ord('a')  # what number does 'a' have?"
   ]
  },
  {
   "cell_type": "code",
   "execution_count": 53,
   "metadata": {},
   "outputs": [
    {
     "data": {
      "text/plain": [
       "90"
      ]
     },
     "execution_count": 53,
     "metadata": {},
     "output_type": "execute_result"
    }
   ],
   "source": [
    "ord('Z')"
   ]
  },
  {
   "cell_type": "markdown",
   "metadata": {},
   "source": [
    "# Use our comparisons to make decisions!"
   ]
  },
  {
   "cell_type": "code",
   "execution_count": 58,
   "metadata": {},
   "outputs": [
    {
     "ename": "IndentationError",
     "evalue": "unexpected indent (1826796338.py, line 7)",
     "output_type": "error",
     "traceback": [
      "\u001b[0;36m  File \u001b[0;32m\"/var/folders/rr/0mnyyv811fs5vyp22gf4fxk00000gn/T/ipykernel_45435/1826796338.py\"\u001b[0;36m, line \u001b[0;32m7\u001b[0m\n\u001b[0;31m    print('It is good to see you again!')\u001b[0m\n\u001b[0m    ^\u001b[0m\n\u001b[0;31mIndentationError\u001b[0m\u001b[0;31m:\u001b[0m unexpected indent\n"
     ]
    }
   ],
   "source": [
    "# get input from the user, and assign it to the variable name\n",
    "name = input('Enter your name: ')\n",
    "\n",
    "# if looks to its right, and checks if the value is True\n",
    "if name == 'Reuven':         # after the if, you need a :       \n",
    "    print('Hello, boss!')    # all lines in the \"if block\" are indented -- traditionally, 4 spaces\n",
    "    print('It is good to see you again!')\n",
    "\n",
    "# \"if\" saw a False value? We execute the else block\n",
    "else:\n",
    "    print('Hello, ' + name + '.')"
   ]
  },
  {
   "cell_type": "code",
   "execution_count": 59,
   "metadata": {},
   "outputs": [
    {
     "name": "stdout",
     "output_type": "stream",
     "text": [
      "Yes!\n"
     ]
    }
   ],
   "source": [
    "x = 'abcd'\n",
    "\n",
    "if x == 'abcd':\n",
    "    print('Yes!')"
   ]
  },
  {
   "cell_type": "code",
   "execution_count": 61,
   "metadata": {},
   "outputs": [],
   "source": [
    "x = 'abcdefg'\n",
    "\n",
    "if x == 'abcd':\n",
    "    print('Yes!')  # does nothing, because there is no \"else\" block"
   ]
  },
  {
   "cell_type": "markdown",
   "metadata": {},
   "source": [
    "# Exercise: Friendly (and unfriendly) greetings\n",
    "\n",
    "1. Ask the user to enter their name, and put that in a variable `name`.\n",
    "2. Check if the user's name matches yours.\n",
    "    - If so, print a friendly greeting.\n",
    "    - If not, print a snarky greeting.\n",
    "3. After your greeting, wish them a nice day (everyone, no matter what name they entered).    "
   ]
  },
  {
   "cell_type": "code",
   "execution_count": 63,
   "metadata": {},
   "outputs": [
    {
     "name": "stdout",
     "output_type": "stream",
     "text": [
      "Enter your name: someone else\n",
      "Harrumph. I was really hoping to meet Reuven.\n",
      "Have a nice day!\n"
     ]
    }
   ],
   "source": [
    "name = input('Enter your name: ')\n",
    "\n",
    "# one, and only one, of these blocks will run\n",
    "if name ==  'Reuven':\n",
    "    print('Wow, I am so honored to be in your presence!')\n",
    "else:\n",
    "    print('Harrumph. I was really hoping to meet Reuven.')\n",
    "    \n",
    "# this always runs!\n",
    "print('Have a nice day!')"
   ]
  },
  {
   "cell_type": "code",
   "execution_count": null,
   "metadata": {},
   "outputs": [],
   "source": [
    "# Consider multiple possibilities with ... elif\n",
    "# the first condition to be True runs, and no other clause runs\n",
    "\n",
    "if name == 'Reuven':\n",
    "    print('Hello, boss!')\n",
    "elif name == 'someone else':\n",
    "    print('That is not a real name!')\n",
    "elif name == 'Barbara':\n",
    "    print(\"Hello, Reuven's mom!\")\n",
    "else:  # if all of the others were False, then this runs\n",
    "    print('Hello to whoever you are!')"
   ]
  },
  {
   "cell_type": "markdown",
   "metadata": {},
   "source": [
    "# Exercise: Which word comes first?\n",
    "\n",
    "1. Ask the user to enter *TWO* lowercase words, assigning them to the variables `first` and `second`.\n",
    "2. If the first word comes first alphabetically, then say so.\n",
    "3. If the second word comes first alphabetically, then say so.\n",
    "4. If they are the same word, then say so.\n",
    "\n",
    "Example:\n",
    "\n",
    "    Enter first word: dog\n",
    "    Enter second word: cat\n",
    "    cat comes first"
   ]
  },
  {
   "cell_type": "code",
   "execution_count": 68,
   "metadata": {},
   "outputs": [
    {
     "name": "stdout",
     "output_type": "stream",
     "text": [
      "Enter first word: elephant\n",
      "Enter second word: elephant\n",
      "elephant and elephant are the same!\n"
     ]
    }
   ],
   "source": [
    "first = input('Enter first word: ')\n",
    "second = input('Enter second word: ')\n",
    "\n",
    "if first < second:\n",
    "    print(first + ' comes before ' + second)\n",
    "elif second < first:\n",
    "    print(second + ' comes before ' + first)\n",
    "else:\n",
    "    print(first + ' and ' + second + ' are the same!')"
   ]
  },
  {
   "cell_type": "code",
   "execution_count": 64,
   "metadata": {},
   "outputs": [
    {
     "name": "stdout",
     "output_type": "stream",
     "text": [
      "abc\n",
      "def\n"
     ]
    }
   ],
   "source": [
    "print('abc\\ndef')  # \\n means: go down one line"
   ]
  },
  {
   "cell_type": "markdown",
   "metadata": {},
   "source": [
    "# Next up:\n",
    "\n",
    "1. More compex comparisons with `and`, `or`, and `not`\n",
    "2. Comparisons and numeric expressions\n",
    "3. Numbers, as well"
   ]
  },
  {
   "cell_type": "code",
   "execution_count": null,
   "metadata": {},
   "outputs": [],
   "source": []
  }
 ],
 "metadata": {
  "kernelspec": {
   "display_name": "Python 3 (ipykernel)",
   "language": "python",
   "name": "python3"
  },
  "language_info": {
   "codemirror_mode": {
    "name": "ipython",
    "version": 3
   },
   "file_extension": ".py",
   "mimetype": "text/x-python",
   "name": "python",
   "nbconvert_exporter": "python",
   "pygments_lexer": "ipython3",
   "version": "3.10.1"
  }
 },
 "nbformat": 4,
 "nbformat_minor": 4
}
