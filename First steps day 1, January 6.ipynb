{
 "cells": [
  {
   "cell_type": "markdown",
   "metadata": {},
   "source": [
    "# Welcome!"
   ]
  },
  {
   "cell_type": "markdown",
   "metadata": {},
   "source": [
    "# Agenda -- Course (and today)\n",
    "\n",
    "1. Fundamentals of Python\n",
    "    - Variables \n",
    "    - Data types (why do we have them?)\n",
    "    - Input and output\n",
    "    - Making decisions with `if`\n",
    "    - Numbers\n",
    "    - Strings\n",
    "2. Loops, Lists, tuples\n",
    "3. Dictionaries, files (reading from, writing to)\n",
    "4. Functions\n",
    "    - Calling functions\n",
    "    - Writing functions\n",
    "5. Modules (libraries)    "
   ]
  },
  {
   "cell_type": "markdown",
   "metadata": {},
   "source": [
    "Jupyter has two modes:\n",
    "\n",
    "- Edit mode (green outline on the cell)\n",
    "    - To enter Edit mode, click in the cell *or* press ENTER\n",
    "- Command mode (blue outline on the cell)\n",
    "    - To enter Command mode, click on the left of the cell *or* press ESC\n",
    "    \n",
    "To \"run\" a cell, meaning to have the code run or the HTML produced, use shift+ENTER together.    "
   ]
  },
  {
   "cell_type": "markdown",
   "metadata": {},
   "source": [
    "Jupyter has two modes:\n",
    "\n",
    "- Edit mode (green outline on the cell)\n",
    "    - To enter Edit mode, click in the cell *or* press ENTER\n",
    "- Command mode (blue outline on the cell)\n",
    "    - To enter Command mode, click on the left of the cell *or* press ESC\n",
    "    \n",
    "To \"run\" a cell, meaning to have the code run or the HTML produced, use shift+ENTER together.    "
   ]
  },
  {
   "cell_type": "code",
   "execution_count": null,
   "metadata": {},
   "outputs": [],
   "source": []
  }
 ],
 "metadata": {
  "kernelspec": {
   "display_name": "Python 3 (ipykernel)",
   "language": "python",
   "name": "python3"
  },
  "language_info": {
   "codemirror_mode": {
    "name": "ipython",
    "version": 3
   },
   "file_extension": ".py",
   "mimetype": "text/x-python",
   "name": "python",
   "nbconvert_exporter": "python",
   "pygments_lexer": "ipython3",
   "version": "3.10.1"
  }
 },
 "nbformat": 4,
 "nbformat_minor": 4
}
