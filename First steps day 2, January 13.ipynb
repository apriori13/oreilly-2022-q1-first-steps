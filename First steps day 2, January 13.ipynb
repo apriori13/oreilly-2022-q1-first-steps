{
 "cells": [
  {
   "cell_type": "markdown",
   "id": "fdb1e3c8",
   "metadata": {},
   "source": [
    "# Loops, lists and tuples\n",
    "\n",
    "1. What are loops?\n",
    "    - `for` loops\n",
    "    - `while` loops\n",
    "    - Breaking out of loops early\n",
    "    - Looping a certain number of times\n",
    "2. Lists\n",
    "    - Lists as a data type\n",
    "    - What are lists -- similarities and differences with strings\n",
    "    - Mutable data with lists\n",
    "    - How can we change lists?\n",
    "3. Strings to lists, and back\n",
    "    - Splitting strings into lists\n",
    "    - Joining lists back into strings\n",
    "4. Tuples\n",
    "    - What the heck are they?\n",
    "    - What are they used for?\n",
    "    - Tuple unpacking"
   ]
  },
  {
   "cell_type": "code",
   "execution_count": 1,
   "id": "9a9b8ecb",
   "metadata": {},
   "outputs": [],
   "source": [
    "s = 'abcd'\n"
   ]
  },
  {
   "cell_type": "code",
   "execution_count": null,
   "id": "5113723b",
   "metadata": {},
   "outputs": [],
   "source": [
    "s1 = 'I am s1'\n",
    "s2 = 'I am s2'\n",
    "\n",
    "s"
   ]
  },
  {
   "cell_type": "markdown",
   "id": "3ba53e03",
   "metadata": {},
   "source": [
    "# DRY rule -- Don't Repeat Yourself!\n",
    "\n",
    "A key rule in programming! (Pragmatic Programmers)"
   ]
  },
  {
   "cell_type": "code",
   "execution_count": 3,
   "id": "6d67221d",
   "metadata": {},
   "outputs": [
    {
     "name": "stdout",
     "output_type": "stream",
     "text": [
      "a\n",
      "b\n",
      "c\n",
      "d\n"
     ]
    }
   ],
   "source": [
    "# I want to print all of the elements of s\n",
    "\n",
    "s = 'abcd'\n",
    "\n",
    "# unfortunately, this works!\n",
    "print(s[0])\n",
    "print(s[1])\n",
    "print(s[2])\n",
    "print(s[3])"
   ]
  },
  {
   "cell_type": "code",
   "execution_count": null,
   "id": "85aa1325",
   "metadata": {},
   "outputs": [],
   "source": [
    "# DRY up this code with a *loop*\n",
    "\n",
    "# for loops\n",
    "\n",
    "s = 'abcd'\n",
    "\n",
    "for one_character in s:\n",
    "    print(one_character)"
   ]
  }
 ],
 "metadata": {
  "kernelspec": {
   "display_name": "Python 3 (ipykernel)",
   "language": "python",
   "name": "python3"
  },
  "language_info": {
   "codemirror_mode": {
    "name": "ipython",
    "version": 3
   },
   "file_extension": ".py",
   "mimetype": "text/x-python",
   "name": "python",
   "nbconvert_exporter": "python",
   "pygments_lexer": "ipython3",
   "version": "3.10.1"
  }
 },
 "nbformat": 4,
 "nbformat_minor": 5
}
