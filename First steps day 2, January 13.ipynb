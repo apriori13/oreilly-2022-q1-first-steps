{
 "cells": [
  {
   "cell_type": "markdown",
   "id": "620fe63a",
   "metadata": {},
   "source": [
    "# Loops, lists and tuples\n",
    "\n",
    "1. What are loops?\n",
    "    - `for` loops\n",
    "    - `while` loops\n",
    "    - Breaking out of loops early\n",
    "    - Looping a certain number of times\n",
    "2. Lists\n",
    "    - Lists as a data type\n",
    "    - What are lists -- similarities and differences with strings\n",
    "    - Mutable data with lists\n",
    "    - How can we change lists?\n",
    "3. Strings to lists, and back\n",
    "    - Splitting strings into lists\n",
    "    - Joining lists back into strings\n",
    "4. Tuples\n",
    "    - What the heck are they?\n",
    "    - What are they used for?\n",
    "    - Tuple unpacking"
   ]
  },
  {
   "cell_type": "code",
   "execution_count": 1,
   "id": "6c41a159",
   "metadata": {},
   "outputs": [],
   "source": [
    "s = 'abcd'\n"
   ]
  },
  {
   "cell_type": "code",
   "execution_count": null,
   "id": "9c19322a",
   "metadata": {},
   "outputs": [],
   "source": [
    "s1 = 'I am s1'\n",
    "s2 = 'I am s2'\n",
    "\n",
    "s"
   ]
  },
  {
   "cell_type": "markdown",
   "id": "ea05d5fe",
   "metadata": {},
   "source": [
    "# DRY rule -- Don't Repeat Yourself!\n",
    "\n",
    "A key rule in programming! (Pragmatic Programmers)"
   ]
  },
  {
   "cell_type": "code",
   "execution_count": 3,
   "id": "ebe51d9f",
   "metadata": {},
   "outputs": [
    {
     "name": "stdout",
     "output_type": "stream",
     "text": [
      "a\n",
      "b\n",
      "c\n",
      "d\n"
     ]
    }
   ],
   "source": [
    "# I want to print all of the elements of s\n",
    "\n",
    "s = 'abcd'\n",
    "\n",
    "# unfortunately, this works!\n",
    "print(s[0])\n",
    "print(s[1])\n",
    "print(s[2])\n",
    "print(s[3])"
   ]
  },
  {
   "cell_type": "code",
   "execution_count": 5,
   "id": "34a6963c",
   "metadata": {},
   "outputs": [
    {
     "name": "stdout",
     "output_type": "stream",
     "text": [
      "Before\n",
      "a\n",
      "b\n",
      "c\n",
      "d\n",
      "After\n"
     ]
    }
   ],
   "source": [
    "# DRY up this code with a *loop*\n",
    "\n",
    "# for loops\n",
    "\n",
    "s = 'abcd'\n",
    "\n",
    "# (1) the for loop asks s, the object at the end of the line, if it's \"iterable\" -- meaning,\n",
    "# does it know what to do in a for loop?\n",
    "# (2) If the answer is yes, then the \"for\" loop says: OK, give me your next item.\n",
    "# (3) That item is assigned to the variable one_character\n",
    "# (4) The loop body (here, only one line -- line 17) is executed\n",
    "# (5) We go back to line 2, and keep asking for the next thing.\n",
    "# (6) When the object says, \"I'm done -- nothing left!\"  the loop exits.\n",
    "\n",
    "print('Before')\n",
    "for one_character in s:\n",
    "    print(one_character)   # as long or short as we want, including if / assignment / print / another loop!\n",
    "print('After')    "
   ]
  },
  {
   "cell_type": "code",
   "execution_count": 7,
   "id": "263306e9",
   "metadata": {},
   "outputs": [
    {
     "name": "stdout",
     "output_type": "stream",
     "text": [
      "d\n"
     ]
    }
   ],
   "source": [
    "# if this gives you the error \"str is not callable\"\n",
    "# then you accidentally redefined the print function\n",
    "# (oops)\n",
    "\n",
    "# to get out of that, type\n",
    "# del(print) -- don't get in the habit of doing that\n",
    "\n",
    "print(one_character)"
   ]
  },
  {
   "cell_type": "markdown",
   "id": "e5ab20b6",
   "metadata": {},
   "source": [
    "# When do we use `for` loops?\n",
    "\n",
    "When we have a collection of data (right now, only strings -- but we'll expand that soon) and we want to go through each element and do something with it.\n",
    "\n",
    "Examples:\n",
    "- Go through a string, and check each letter for some condition \n",
    "- Go through a bunch of IP addresses, and count how often each is in our logfile\n",
    "- Go through a bunch of users, and check that they have appropriate permissions\n",
    "\n",
    "Any time you want to \"go through a bunch of\" in Python, it's a `for` loop.\n"
   ]
  },
  {
   "cell_type": "code",
   "execution_count": 10,
   "id": "232128ba",
   "metadata": {},
   "outputs": [
    {
     "name": "stdout",
     "output_type": "stream",
     "text": [
      "\tNow looking at 1\n",
      "\tNow looking at 2\n",
      "\tNow looking at 3\n",
      "\tNow looking at 4\n",
      "\tNow looking at 5\n",
      "total = 15\n"
     ]
    }
   ],
   "source": [
    "# let's sum the digits in the string s\n",
    "\n",
    "total = 0\n",
    "s = '12345'\n",
    "\n",
    "for one_character in s:\n",
    "    print(f'\\tNow looking at {one_character}')  # tab, \\t, for indentation\n",
    "    total += int(one_character)  # turn the character into an integer, and add to total\n",
    "    \n",
    "print(f'total = {total}')     "
   ]
  },
  {
   "cell_type": "code",
   "execution_count": 11,
   "id": "3eb223ff",
   "metadata": {},
   "outputs": [
    {
     "data": {
      "text/plain": [
       "11"
      ]
     },
     "execution_count": 11,
     "metadata": {},
     "output_type": "execute_result"
    }
   ],
   "source": [
    "x = 10\n",
    "\n",
    "x = x + 1   # this means: get the value of x, add 1 to it, and then assign that new value back to x\n",
    "x"
   ]
  },
  {
   "cell_type": "code",
   "execution_count": 12,
   "id": "bac13bf7",
   "metadata": {},
   "outputs": [
    {
     "data": {
      "text/plain": [
       "11"
      ]
     },
     "execution_count": 12,
     "metadata": {},
     "output_type": "execute_result"
    }
   ],
   "source": [
    "# I can write that in a different way:\n",
    "\n",
    "x = 10\n",
    "x += 1  # same as x = x + 1\n",
    "x"
   ]
  },
  {
   "cell_type": "markdown",
   "id": "0341651c",
   "metadata": {},
   "source": [
    "# Exercise: Vowels and others\n",
    "\n",
    "1. Define two variables, `vowels` and `others`, both to be 0.\n",
    "2. Ask the user to enter a string.\n",
    "3. Go through each character in the string, and check -- is it a vowel or not?\n",
    "    - If it's a vowel, then increment `vowels` by 1.\n",
    "    - If it's not, then increment `others` by 1.\n",
    "4. In the end, print the values of both `vowels` and `others`.\n",
    "\n",
    "Example:\n",
    "\n",
    "    Enter a string: hello!\n",
    "    vowels: 2\n",
    "    others: 4\n",
    "    "
   ]
  },
  {
   "cell_type": "code",
   "execution_count": 13,
   "id": "ef0f171e",
   "metadata": {},
   "outputs": [
    {
     "name": "stdout",
     "output_type": "stream",
     "text": [
      "Enter a string: hello\n",
      "vowels = 2\n",
      "others = 3\n"
     ]
    }
   ],
   "source": [
    "vowels = 0    # define these variables as 0, so we can add to them later on\n",
    "others = 0 \n",
    "\n",
    "s = input('Enter a string: ').strip()   # removes the whitespace from the sides of the input string\n",
    "\n",
    "for one_character in s:\n",
    "    if one_character in 'aeiou':  # if the current character is a vowel\n",
    "        vowels += 1   # add 1 to the vowel counter\n",
    "    else:\n",
    "        others += 1\n",
    "        \n",
    "print(f'vowels = {vowels}')       # show the total number of vowels   \n",
    "print(f'others = {others}')       # show the total number of others"
   ]
  },
  {
   "cell_type": "code",
   "execution_count": 16,
   "id": "31737d5e",
   "metadata": {},
   "outputs": [
    {
     "data": {
      "text/plain": [
       "'abcdef'"
      ]
     },
     "execution_count": 16,
     "metadata": {},
     "output_type": "execute_result"
    }
   ],
   "source": [
    "s = '   aBcDeF   '\n",
    "s.strip().lower()  # s.strip() returns a new string... on which we can run lower()"
   ]
  },
  {
   "cell_type": "code",
   "execution_count": 17,
   "id": "57b38c37",
   "metadata": {},
   "outputs": [],
   "source": [
    "name = 'Reuven'  # this variable didn't previously exist... now it does... that's fine"
   ]
  },
  {
   "cell_type": "code",
   "execution_count": null,
   "id": "31976b4d",
   "metadata": {},
   "outputs": [],
   "source": []
  }
 ],
 "metadata": {
  "kernelspec": {
   "display_name": "Python 3 (ipykernel)",
   "language": "python",
   "name": "python3"
  },
  "language_info": {
   "codemirror_mode": {
    "name": "ipython",
    "version": 3
   },
   "file_extension": ".py",
   "mimetype": "text/x-python",
   "name": "python",
   "nbconvert_exporter": "python",
   "pygments_lexer": "ipython3",
   "version": "3.10.1"
  }
 },
 "nbformat": 4,
 "nbformat_minor": 5
}
