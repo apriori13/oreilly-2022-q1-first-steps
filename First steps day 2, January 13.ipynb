{
 "cells": [
  {
   "cell_type": "markdown",
   "id": "8968549d",
   "metadata": {},
   "source": [
    "# Loops, lists and tuples\n",
    "\n",
    "1. What are loops?\n",
    "    - `for` loops\n",
    "    - `while` loops\n",
    "    - Breaking out of loops early\n",
    "    - Looping a certain number of times\n",
    "2. Lists\n",
    "    - Lists as a data type\n",
    "    - What are lists -- similarities and differences with strings\n",
    "    - Mutable data with lists\n",
    "    - How can we change lists?\n",
    "3. Strings to lists, and back\n",
    "    - Splitting strings into lists\n",
    "    - Joining lists back into strings\n",
    "4. Tuples\n",
    "    - What the heck are they?\n",
    "    - What are they used for?\n",
    "    - Tuple unpacking"
   ]
  },
  {
   "cell_type": "code",
   "execution_count": 1,
   "id": "43656037",
   "metadata": {},
   "outputs": [],
   "source": [
    "s = 'abcd'\n"
   ]
  },
  {
   "cell_type": "code",
   "execution_count": null,
   "id": "f89f7670",
   "metadata": {},
   "outputs": [],
   "source": [
    "s1 = 'I am s1'\n",
    "s2 = 'I am s2'\n",
    "\n",
    "s"
   ]
  },
  {
   "cell_type": "markdown",
   "id": "34c7e707",
   "metadata": {},
   "source": [
    "# DRY rule -- Don't Repeat Yourself!\n",
    "\n",
    "A key rule in programming! (Pragmatic Programmers)"
   ]
  },
  {
   "cell_type": "code",
   "execution_count": 3,
   "id": "8d6e96b5",
   "metadata": {},
   "outputs": [
    {
     "name": "stdout",
     "output_type": "stream",
     "text": [
      "a\n",
      "b\n",
      "c\n",
      "d\n"
     ]
    }
   ],
   "source": [
    "# I want to print all of the elements of s\n",
    "\n",
    "s = 'abcd'\n",
    "\n",
    "# unfortunately, this works!\n",
    "print(s[0])\n",
    "print(s[1])\n",
    "print(s[2])\n",
    "print(s[3])"
   ]
  },
  {
   "cell_type": "code",
   "execution_count": 5,
   "id": "271ca17f",
   "metadata": {},
   "outputs": [
    {
     "name": "stdout",
     "output_type": "stream",
     "text": [
      "Before\n",
      "a\n",
      "b\n",
      "c\n",
      "d\n",
      "After\n"
     ]
    }
   ],
   "source": [
    "# DRY up this code with a *loop*\n",
    "\n",
    "# for loops\n",
    "\n",
    "s = 'abcd'\n",
    "\n",
    "# (1) the for loop asks s, the object at the end of the line, if it's \"iterable\" -- meaning,\n",
    "# does it know what to do in a for loop?\n",
    "# (2) If the answer is yes, then the \"for\" loop says: OK, give me your next item.\n",
    "# (3) That item is assigned to the variable one_character\n",
    "# (4) The loop body (here, only one line -- line 17) is executed\n",
    "# (5) We go back to line 2, and keep asking for the next thing.\n",
    "# (6) When the object says, \"I'm done -- nothing left!\"  the loop exits.\n",
    "\n",
    "print('Before')\n",
    "for one_character in s:\n",
    "    print(one_character)   # as long or short as we want, including if / assignment / print / another loop!\n",
    "print('After')    "
   ]
  },
  {
   "cell_type": "code",
   "execution_count": 7,
   "id": "e842ed1a",
   "metadata": {},
   "outputs": [
    {
     "name": "stdout",
     "output_type": "stream",
     "text": [
      "d\n"
     ]
    }
   ],
   "source": [
    "# if this gives you the error \"str is not callable\"\n",
    "# then you accidentally redefined the print function\n",
    "# (oops)\n",
    "\n",
    "# to get out of that, type\n",
    "# del(print) -- don't get in the habit of doing that\n",
    "\n",
    "print(one_character)"
   ]
  },
  {
   "cell_type": "markdown",
   "id": "77141fa9",
   "metadata": {},
   "source": [
    "# When do we use `for` loops?\n",
    "\n",
    "When we have a collection of data (right now, only strings -- but we'll expand that soon) and we want to go through each element and do something with it.\n",
    "\n",
    "Examples:\n",
    "- Go through a string, and check each letter for some condition \n",
    "- Go through a bunch of IP addresses, and count how often each is in our logfile\n",
    "- Go through a bunch of users, and check that they have appropriate permissions\n",
    "\n",
    "Any time you want to \"go through a bunch of\" in Python, it's a `for` loop.\n"
   ]
  },
  {
   "cell_type": "code",
   "execution_count": 10,
   "id": "bb77e33e",
   "metadata": {},
   "outputs": [
    {
     "name": "stdout",
     "output_type": "stream",
     "text": [
      "\tNow looking at 1\n",
      "\tNow looking at 2\n",
      "\tNow looking at 3\n",
      "\tNow looking at 4\n",
      "\tNow looking at 5\n",
      "total = 15\n"
     ]
    }
   ],
   "source": [
    "# let's sum the digits in the string s\n",
    "\n",
    "total = 0\n",
    "s = '12345'\n",
    "\n",
    "for one_character in s:\n",
    "    print(f'\\tNow looking at {one_character}')  # tab, \\t, for indentation\n",
    "    total += int(one_character)  # turn the character into an integer, and add to total\n",
    "    \n",
    "print(f'total = {total}')     "
   ]
  },
  {
   "cell_type": "code",
   "execution_count": 11,
   "id": "9084f493",
   "metadata": {},
   "outputs": [
    {
     "data": {
      "text/plain": [
       "11"
      ]
     },
     "execution_count": 11,
     "metadata": {},
     "output_type": "execute_result"
    }
   ],
   "source": [
    "x = 10\n",
    "\n",
    "x = x + 1   # this means: get the value of x, add 1 to it, and then assign that new value back to x\n",
    "x"
   ]
  },
  {
   "cell_type": "code",
   "execution_count": 12,
   "id": "2129de1e",
   "metadata": {},
   "outputs": [
    {
     "data": {
      "text/plain": [
       "11"
      ]
     },
     "execution_count": 12,
     "metadata": {},
     "output_type": "execute_result"
    }
   ],
   "source": [
    "# I can write that in a different way:\n",
    "\n",
    "x = 10\n",
    "x += 1  # same as x = x + 1\n",
    "x"
   ]
  },
  {
   "cell_type": "markdown",
   "id": "a38a02be",
   "metadata": {},
   "source": [
    "# Exercise: Vowels and others\n",
    "\n",
    "1. Define two variables, `vowels` and `others`, both to be 0.\n",
    "2. Ask the user to enter a string.\n",
    "3. Go through each character in the string, and check -- is it a vowel or not?\n",
    "    - If it's a vowel, then increment `vowels` by 1.\n",
    "    - If it's not, then increment `others` by 1.\n",
    "4. In the end, print the values of both `vowels` and `others`.\n",
    "\n",
    "Example:\n",
    "\n",
    "    Enter a string: hello!\n",
    "    vowels: 2\n",
    "    others: 4\n",
    "    "
   ]
  },
  {
   "cell_type": "code",
   "execution_count": 13,
   "id": "105d7861",
   "metadata": {},
   "outputs": [
    {
     "name": "stdout",
     "output_type": "stream",
     "text": [
      "Enter a string: hello\n",
      "vowels = 2\n",
      "others = 3\n"
     ]
    }
   ],
   "source": [
    "vowels = 0    # define these variables as 0, so we can add to them later on\n",
    "others = 0 \n",
    "\n",
    "s = input('Enter a string: ').strip()   # removes the whitespace from the sides of the input string\n",
    "\n",
    "for one_character in s:\n",
    "    if one_character in 'aeiou':  # if the current character is a vowel\n",
    "        vowels += 1   # add 1 to the vowel counter\n",
    "    else:\n",
    "        others += 1\n",
    "        \n",
    "print(f'vowels = {vowels}')       # show the total number of vowels   \n",
    "print(f'others = {others}')       # show the total number of others"
   ]
  },
  {
   "cell_type": "code",
   "execution_count": 16,
   "id": "c69eaeca",
   "metadata": {},
   "outputs": [
    {
     "data": {
      "text/plain": [
       "'abcdef'"
      ]
     },
     "execution_count": 16,
     "metadata": {},
     "output_type": "execute_result"
    }
   ],
   "source": [
    "s = '   aBcDeF   '\n",
    "s.strip().lower()  # s.strip() returns a new string... on which we can run lower()"
   ]
  },
  {
   "cell_type": "code",
   "execution_count": 17,
   "id": "5773e693",
   "metadata": {},
   "outputs": [],
   "source": [
    "name = 'Reuven'  # this variable didn't previously exist... now it does... that's fine"
   ]
  },
  {
   "cell_type": "code",
   "execution_count": 18,
   "id": "cb897bc5",
   "metadata": {},
   "outputs": [
    {
     "name": "stdout",
     "output_type": "stream",
     "text": [
      "10 + 20 = 30\n"
     ]
    }
   ],
   "source": [
    "x = 10\n",
    "y = 20\n",
    "\n",
    "print(f'{x} + {y} = {x+y}')  # print gets a string -- in each {}, we have a Python expression"
   ]
  },
  {
   "cell_type": "code",
   "execution_count": 20,
   "id": "e546f101",
   "metadata": {},
   "outputs": [
    {
     "data": {
      "text/plain": [
       "True"
      ]
     },
     "execution_count": 20,
     "metadata": {},
     "output_type": "execute_result"
    }
   ],
   "source": [
    "# The \"in\" operator searches in a string for a smaller string\n",
    "\n",
    "'a' in 'aeiou'    # since 'a' can be found in 'aeiou', it returns True"
   ]
  },
  {
   "cell_type": "code",
   "execution_count": 21,
   "id": "9109bc65",
   "metadata": {},
   "outputs": [
    {
     "data": {
      "text/plain": [
       "False"
      ]
     },
     "execution_count": 21,
     "metadata": {},
     "output_type": "execute_result"
    }
   ],
   "source": [
    "'q' in 'aeiou'  # not there, so we get False"
   ]
  },
  {
   "cell_type": "code",
   "execution_count": 23,
   "id": "f757da27",
   "metadata": {},
   "outputs": [],
   "source": [
    "# we can express \"in\" as \n",
    "\n",
    "# small in big  -- and it returns True or False"
   ]
  },
  {
   "cell_type": "code",
   "execution_count": 26,
   "id": "58230ca5",
   "metadata": {},
   "outputs": [
    {
     "name": "stdout",
     "output_type": "stream",
     "text": [
      "Enter a string: hello\n",
      "Found an other: h\n",
      "Found a vowel: e\n",
      "Found an other: l\n",
      "Found an other: l\n",
      "Found a vowel: o\n",
      "vowels = 2\n",
      "others = 3\n"
     ]
    }
   ],
   "source": [
    "vowels = 0    # define these variables as 0, so we can add to them later on\n",
    "others = 0 \n",
    "\n",
    "s = input('Enter a string: ').strip()   # removes the whitespace from the sides of the input string\n",
    "\n",
    "for one_character in s:  # the body of the loop executes once per character in s\n",
    "\n",
    "    if one_character in 'aeiou':  # if the current character is a vowel\n",
    "        print(f'Found a vowel: {one_character}')\n",
    "        vowels += 1   # add 1 to the vowel counter\n",
    "    else:\n",
    "        print(f'Found an other: {one_character}')\n",
    "        others += 1\n",
    "        \n",
    "print(f'vowels = {vowels}')       # show the total number of vowels   \n",
    "print(f'others = {others}')       # show the total number of others"
   ]
  },
  {
   "cell_type": "code",
   "execution_count": 27,
   "id": "67840766",
   "metadata": {
    "scrolled": true
   },
   "outputs": [
    {
     "name": "stdout",
     "output_type": "stream",
     "text": [
      "Enter a string: hello\n",
      "Found an other: h\n",
      "Found a vowel: e\n",
      "Found an other: l\n",
      "Found an other: l\n",
      "Found a vowel: o\n",
      "vowels = 2\n",
      "others = 3\n"
     ]
    }
   ],
   "source": [
    "all_vowels = 'aeiouAEIOU'\n",
    "vowels = 0    # define these variables as 0, so we can add to them later on\n",
    "others = 0 \n",
    "\n",
    "s = input('Enter a string: ').strip()   # removes the whitespace from the sides of the input string\n",
    "\n",
    "for one_character in s:  # the body of the loop executes once per character in s\n",
    "\n",
    "    if one_character in all_vowels:\n",
    "        print(f'Found a vowel: {one_character}')\n",
    "        vowels += 1   # add 1 to the vowel counter\n",
    "    else:\n",
    "        print(f'Found an other: {one_character}')\n",
    "        others += 1\n",
    "        \n",
    "print(f'vowels = {vowels}')       # show the total number of vowels   \n",
    "print(f'others = {others}')       # show the total number of others"
   ]
  },
  {
   "cell_type": "markdown",
   "id": "a7d54ec6",
   "metadata": {},
   "source": [
    "See this in Python Tutor:\n",
    "\n",
    "https://pythontutor.com/visualize.html#code=all_vowels%20%3D%20'aeiouAEIOU'%0Avowels%20%3D%200%20%20%20%20%23%20define%20these%20variables%20as%200,%20so%20we%20can%20add%20to%20them%20later%20on%0Aothers%20%3D%200%20%0A%0As%20%3D%20input%28'Enter%20a%20string%3A%20'%29.strip%28%29%20%20%20%23%20removes%20the%20whitespace%20from%20the%20sides%20of%20the%20input%20string%0A%0Afor%20one_character%20in%20s%3A%20%20%23%20the%20body%20of%20the%20loop%20executes%20once%20per%20character%20in%20s%0A%0A%20%20%20%20if%20one_character%20in%20all_vowels%3A%0A%20%20%20%20%20%20%20%20print%28f'Found%20a%20vowel%3A%20%7Bone_character%7D'%29%0A%20%20%20%20%20%20%20%20vowels%20%2B%3D%201%20%20%20%23%20add%201%20to%20the%20vowel%20counter%0A%20%20%20%20else%3A%0A%20%20%20%20%20%20%20%20print%28f'Found%20an%20other%3A%20%7Bone_character%7D'%29%0A%20%20%20%20%20%20%20%20others%20%2B%3D%201%0A%20%20%20%20%20%20%20%20%0Aprint%28f'vowels%20%3D%20%7Bvowels%7D'%29%20%20%20%20%20%20%20%23%20show%20the%20total%20number%20of%20vowels%20%20%20%0Aprint%28f'others%20%3D%20%7Bothers%7D'%29%20%20%20%20%20%20%20%23%20show%20the%20total%20number%20of%20others&cumulative=false&curInstr=27&heapPrimitives=nevernest&mode=display&origin=opt-frontend.js&py=3&rawInputLstJSON=%5B%22hello%22%5D&textReferences=false"
   ]
  },
  {
   "cell_type": "code",
   "execution_count": 28,
   "id": "722e2961",
   "metadata": {},
   "outputs": [
    {
     "name": "stdout",
     "output_type": "stream",
     "text": [
      "z\n",
      "y\n",
      "x\n"
     ]
    }
   ],
   "source": [
    "for one_item in 'zyx':\n",
    "    print(one_item)"
   ]
  },
  {
   "cell_type": "code",
   "execution_count": 29,
   "id": "2eb863d6",
   "metadata": {},
   "outputs": [
    {
     "name": "stdout",
     "output_type": "stream",
     "text": [
      "Yay!\n",
      "Yay!\n",
      "Yay!\n"
     ]
    }
   ],
   "source": [
    "# I'm in a great mood, because I'm teaching Python!\n",
    "# I want to express how happy I am!\n",
    "\n",
    "print('Yay!')\n",
    "print('Yay!')\n",
    "print('Yay!')"
   ]
  },
  {
   "cell_type": "code",
   "execution_count": 30,
   "id": "18615700",
   "metadata": {},
   "outputs": [
    {
     "ename": "TypeError",
     "evalue": "'int' object is not iterable",
     "output_type": "error",
     "traceback": [
      "\u001b[0;31m---------------------------------------------------------------------------\u001b[0m",
      "\u001b[0;31mTypeError\u001b[0m                                 Traceback (most recent call last)",
      "\u001b[0;32m/var/folders/rr/0mnyyv811fs5vyp22gf4fxk00000gn/T/ipykernel_32202/2092896610.py\u001b[0m in \u001b[0;36m<module>\u001b[0;34m\u001b[0m\n\u001b[1;32m      3\u001b[0m \u001b[0;34m\u001b[0m\u001b[0m\n\u001b[1;32m      4\u001b[0m \u001b[0;31m# let's try using a for loop!\u001b[0m\u001b[0;34m\u001b[0m\u001b[0;34m\u001b[0m\u001b[0m\n\u001b[0;32m----> 5\u001b[0;31m \u001b[0;32mfor\u001b[0m \u001b[0mone_item\u001b[0m \u001b[0;32min\u001b[0m \u001b[0;36m3\u001b[0m\u001b[0;34m:\u001b[0m\u001b[0;34m\u001b[0m\u001b[0;34m\u001b[0m\u001b[0m\n\u001b[0m\u001b[1;32m      6\u001b[0m     \u001b[0mprint\u001b[0m\u001b[0;34m(\u001b[0m\u001b[0;34m'Yay!'\u001b[0m\u001b[0;34m)\u001b[0m\u001b[0;34m\u001b[0m\u001b[0;34m\u001b[0m\u001b[0m\n",
      "\u001b[0;31mTypeError\u001b[0m: 'int' object is not iterable"
     ]
    }
   ],
   "source": [
    "# this looks like very un-DRY code\n",
    "# WET code means: write everything twice\n",
    "\n",
    "# let's try using a for loop!\n",
    "for one_item in 3:\n",
    "    print('Yay!')"
   ]
  },
  {
   "cell_type": "code",
   "execution_count": 31,
   "id": "bf614ab5",
   "metadata": {},
   "outputs": [
    {
     "name": "stdout",
     "output_type": "stream",
     "text": [
      "Yay!\n",
      "Yay!\n",
      "Yay!\n"
     ]
    }
   ],
   "source": [
    "# we can iterate a number of times using the \"range\" function\n",
    "\n",
    "for one_item in range(3):    # this will run things 3 times\n",
    "    print('Yay!')"
   ]
  },
  {
   "cell_type": "code",
   "execution_count": 32,
   "id": "600463e1",
   "metadata": {},
   "outputs": [
    {
     "name": "stdout",
     "output_type": "stream",
     "text": [
      "0 Yay!\n",
      "1 Yay!\n",
      "2 Yay!\n"
     ]
    }
   ],
   "source": [
    "# what value do we get with each iteration on a range?\n",
    "\n",
    "# we get integers, starting with 0, going up to (but not including) the number we stated\n",
    "\n",
    "for one_item in range(3):     # three iterations -- 0, 1, and 2\n",
    "    print(f'{one_item} Yay!') "
   ]
  },
  {
   "cell_type": "code",
   "execution_count": 33,
   "id": "37aea8dd",
   "metadata": {},
   "outputs": [
    {
     "data": {
      "text/plain": [
       "'2 Yay!'"
      ]
     },
     "execution_count": 33,
     "metadata": {},
     "output_type": "execute_result"
    }
   ],
   "source": [
    "f'{one_item} Yay!'   # creates a string, but everything in {} is run as a tiny Python program"
   ]
  },
  {
   "cell_type": "code",
   "execution_count": 36,
   "id": "bcffb87d",
   "metadata": {},
   "outputs": [
    {
     "name": "stdout",
     "output_type": "stream",
     "text": [
      "0: Hello\n",
      "1: Hello\n"
     ]
    }
   ],
   "source": [
    "# I can use a variable in range\n",
    "\n",
    "number_of_times = 2\n",
    "\n",
    "for index in range(number_of_times):\n",
    "    print(f'{index}: Hello')  # in an f-string, {} contain Python code that's then put into the final string"
   ]
  },
  {
   "cell_type": "markdown",
   "id": "c1b890ce",
   "metadata": {},
   "source": [
    "# Exercise: Name triangles\n",
    "\n",
    "1. Ask the user to enter their name, and assign to a variable `name`.\n",
    "2. Print the user's name, repeatedly, starting with 1 letter and going up to the whole name.\n",
    "\n",
    "Example:\n",
    "\n",
    "    Enter your name: Reuven\n",
    "    R\n",
    "    Re \n",
    "    Reu\n",
    "    Reuv\n",
    "    Reuve\n",
    "    Reuven\n",
    "    \n",
    "Hints:\n",
    "1. You can get the length of a string with `len`\n",
    "2. You can use a \"slice\" to get only part of a string: `s[start:end+1]`\n",
    "3. Slices can use indexes beyond the boundary of the string."
   ]
  },
  {
   "cell_type": "code",
   "execution_count": 38,
   "id": "fcd0cdbc",
   "metadata": {},
   "outputs": [
    {
     "name": "stdout",
     "output_type": "stream",
     "text": [
      "Enter your name: Reuven\n",
      "R\n",
      "Re\n",
      "Reu\n",
      "Reuv\n",
      "Reuve\n",
      "Reuven\n"
     ]
    }
   ],
   "source": [
    "# how would I do this without a loop?\n",
    "\n",
    "name = input('Enter your name: ').strip()\n",
    "\n",
    "print(name[:1])\n",
    "print(name[:2])\n",
    "print(name[:3])\n",
    "print(name[:4])\n",
    "print(name[:5])\n",
    "print(name[:6])"
   ]
  },
  {
   "cell_type": "code",
   "execution_count": 39,
   "id": "2ad26c01",
   "metadata": {},
   "outputs": [
    {
     "name": "stdout",
     "output_type": "stream",
     "text": [
      "R\n",
      "Re\n",
      "Reu\n",
      "Reuv\n",
      "Reuve\n",
      "Reuven\n"
     ]
    }
   ],
   "source": [
    "for max_index in range(6):\n",
    "    print(name[:max_index+1])  # string + slice + addition"
   ]
  },
  {
   "cell_type": "code",
   "execution_count": 42,
   "id": "100988d2",
   "metadata": {},
   "outputs": [
    {
     "name": "stdout",
     "output_type": "stream",
     "text": [
      "Enter your name: Maximillion\n",
      "M\n",
      "Ma\n",
      "Max\n",
      "Maxi\n",
      "Maxim\n",
      "Maximi\n",
      "Maximil\n",
      "Maximill\n",
      "Maximilli\n",
      "Maximillio\n",
      "Maximillion\n"
     ]
    }
   ],
   "source": [
    "name = input('Enter your name: ').strip()\n",
    "\n",
    "for max_index in range(len(name)):   # iterate from 0 to the length of the name - 1\n",
    "    print(name[:max_index+1])        # print the name from the start until max_index characters"
   ]
  },
  {
   "cell_type": "code",
   "execution_count": 43,
   "id": "f23855a9",
   "metadata": {},
   "outputs": [
    {
     "name": "stdout",
     "output_type": "stream",
     "text": [
      "0\n",
      "1\n",
      "2\n",
      "3\n",
      "4\n",
      "5\n",
      "6\n",
      "7\n",
      "8\n",
      "9\n",
      "10\n"
     ]
    }
   ],
   "source": [
    "for one_item in range(len(name)):  # range will always be 0 until its argument - 1\n",
    "    print(one_item)"
   ]
  },
  {
   "cell_type": "code",
   "execution_count": 44,
   "id": "04079948",
   "metadata": {},
   "outputs": [
    {
     "data": {
      "text/plain": [
       "11"
      ]
     },
     "execution_count": 44,
     "metadata": {},
     "output_type": "execute_result"
    }
   ],
   "source": [
    "len(name)"
   ]
  },
  {
   "cell_type": "code",
   "execution_count": null,
   "id": "e2bda53c",
   "metadata": {},
   "outputs": [],
   "source": []
  }
 ],
 "metadata": {
  "kernelspec": {
   "display_name": "Python 3 (ipykernel)",
   "language": "python",
   "name": "python3"
  },
  "language_info": {
   "codemirror_mode": {
    "name": "ipython",
    "version": 3
   },
   "file_extension": ".py",
   "mimetype": "text/x-python",
   "name": "python",
   "nbconvert_exporter": "python",
   "pygments_lexer": "ipython3",
   "version": "3.10.1"
  }
 },
 "nbformat": 4,
 "nbformat_minor": 5
}
